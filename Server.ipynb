{
 "metadata": {
  "language_info": {
   "codemirror_mode": {
    "name": "ipython",
    "version": 3
   },
   "file_extension": ".py",
   "mimetype": "text/x-python",
   "name": "python",
   "nbconvert_exporter": "python",
   "pygments_lexer": "ipython3",
   "version": "3.8.5"
  },
  "orig_nbformat": 2,
  "kernelspec": {
   "name": "python385jvsc74a57bd0a69a97d3c0c90f1132d3fe1c1bdf15f941a20aa0a78eb54401bae5bd6029936d",
   "display_name": "Python 3.8.5 64-bit ('base': conda)"
  }
 },
 "nbformat": 4,
 "nbformat_minor": 2,
 "cells": [
  {
   "cell_type": "code",
   "execution_count": 1,
   "metadata": {},
   "outputs": [],
   "source": [
    "import pandas as pd\n",
    "import numpy as np \n",
    "np.set_printoptions(suppress=True)\n",
    "\n",
    "import numpy as np\n",
    "import pandas as pd\n",
    "import seaborn as sns\n",
    "from tqdm.notebook import tqdm\n",
    "import matplotlib.pyplot as plt\n",
    "import torch\n",
    "import torch.nn as nn\n",
    "import torch.optim as optim\n",
    "from torch.utils.data import Dataset, DataLoader\n",
    "from sklearn.preprocessing import MinMaxScaler, RobustScaler, StandardScaler\n",
    "from sklearn.model_selection import train_test_split\n",
    "from sklearn.metrics import mean_squared_error, r2_score, mean_absolute_error\n",
    "# from diffprivlib.models import StandardScaler as DPStandardScaler\n",
    "from flask_ngrok import run_with_ngrok\n",
    "from flask import Flask\n",
    "from flask import request, jsonify, send_file, make_response, flash, redirect\n",
    "from werkzeug.utils import secure_filename\n",
    "from flask_cors import CORS\n",
    "import base64\n",
    "import os\n",
    "from pathlib import Path\n",
    "from flask import Response\n",
    "from time import sleep\n",
    "from tqdm.notebook import tqdm\n",
    "import glob\n",
    "import json"
   ]
  },
  {
   "cell_type": "code",
   "execution_count": null,
   "metadata": {},
   "outputs": [],
   "source": [
    "# DF_TARGET_Kag = pd.read_csv('kaggle-insurance.csv')\n",
    "# DF_TARGET_Kag.head() \n",
    "\n",
    "# X = DF_TARGET_Kag.loc[:, 'age': 'region']\n",
    "# X.sex = pd.Categorical(X.sex)\n",
    "# X.smoker = pd.Categorical(X.smoker)\n",
    "# X.region = pd.Categorical(X.region)\n",
    "# X['sex'] = X.sex.cat.codes\n",
    "# X['smoker'] = X.smoker.cat.codes\n",
    "# X['region'] = X.region.cat.codes\n",
    "\n",
    "# # X = DF_TARGET_Kag.loc[:, ['age','smoker', 'children']]\n",
    "# # X.smoker = pd.Categorical(X.smoker)\n",
    "# # X['smoker'] = X.smoker.cat.codes\n",
    "\n",
    "\n",
    "# y = DF_TARGET_Kag.charges/10000\n",
    "\n",
    "# display(X.head())\n",
    "# display(y.head())"
   ]
  },
  {
   "cell_type": "code",
   "execution_count": 2,
   "metadata": {},
   "outputs": [],
   "source": [
    "class RegressionDataset(Dataset):\n",
    "    \n",
    "    def __init__(self, X_data):\n",
    "        self.X_data = X_data\n",
    "        \n",
    "    def __getitem__(self, index):\n",
    "        return self.X_data[index]\n",
    "        \n",
    "    def __len__ (self):\n",
    "        return len(self.X_data)\n",
    "class MultipleRegression(nn.Module):\n",
    "    def __init__(self, num_features):\n",
    "        super(MultipleRegression, self).__init__()\n",
    "        self.layer_1 = nn.Linear(num_features, 32)\n",
    "        self.layer_2 = nn.Linear(32, 64)\n",
    "        self.layer_3 = nn.Linear(64, 128)\n",
    "        self.layer_4 = nn.Linear(128, 256)\n",
    "        self.layer_5 = nn.Linear(256, 256)\n",
    "        self.layer_6 = nn.Linear(256, 128)\n",
    "        self.layer_7 = nn.Linear(128, 64)\n",
    "        self.layer_8 = nn.Linear(64, 32)\n",
    "        self.layer_9 = nn.Linear(32, 16)\n",
    "        self.layer_out = nn.Linear(16, 1)\n",
    "        self.relu = nn.ReLU()\n",
    "        self.relu2 = nn.LeakyReLU()\n",
    "\n",
    "    def forward(self, inputs):\n",
    "      x = self.relu(self.layer_1(inputs))\n",
    "      x = self.relu2(self.layer_2(x))\n",
    "      x = self.relu(self.layer_3(x))\n",
    "      x = self.relu2(self.layer_4(x))\n",
    "      x = self.relu(self.layer_5(x))\n",
    "      x = self.relu2(self.layer_6(x))\n",
    "      x = self.relu(self.layer_7(x))\n",
    "      x = self.relu2(self.layer_8(x))\n",
    "      x = self.relu(self.layer_9(x))\n",
    "      x = self.layer_out(x)\n",
    "      return (x)\n",
    "    def predict(self, test_inputs):\n",
    "      x = self.relu(self.layer_1(test_inputs))\n",
    "      x = self.relu2(self.layer_2(x))\n",
    "      x = self.relu(self.layer_3(x))\n",
    "      x = self.relu2(self.layer_4(x))\n",
    "      x = self.relu(self.layer_5(x))\n",
    "      x = self.relu2(self.layer_6(x))\n",
    "      x = self.relu(self.layer_7(x))\n",
    "      x = self.relu2(self.layer_8(x))\n",
    "      x = self.relu(self.layer_9(x))\n",
    "      x = self.layer_out(x)\n",
    "      return (x)"
   ]
  },
  {
   "cell_type": "code",
   "execution_count": 3,
   "metadata": {},
   "outputs": [
    {
     "output_type": "stream",
     "name": "stdout",
     "text": [
      "cuda:0\n"
     ]
    },
    {
     "output_type": "execute_result",
     "data": {
      "text/plain": [
       "MultipleRegression(\n",
       "  (layer_1): Linear(in_features=6, out_features=32, bias=True)\n",
       "  (layer_2): Linear(in_features=32, out_features=64, bias=True)\n",
       "  (layer_3): Linear(in_features=64, out_features=128, bias=True)\n",
       "  (layer_4): Linear(in_features=128, out_features=256, bias=True)\n",
       "  (layer_5): Linear(in_features=256, out_features=256, bias=True)\n",
       "  (layer_6): Linear(in_features=256, out_features=128, bias=True)\n",
       "  (layer_7): Linear(in_features=128, out_features=64, bias=True)\n",
       "  (layer_8): Linear(in_features=64, out_features=32, bias=True)\n",
       "  (layer_9): Linear(in_features=32, out_features=16, bias=True)\n",
       "  (layer_out): Linear(in_features=16, out_features=1, bias=True)\n",
       "  (relu): ReLU()\n",
       "  (relu2): LeakyReLU(negative_slope=0.01)\n",
       ")"
      ]
     },
     "metadata": {},
     "execution_count": 3
    }
   ],
   "source": [
    "device = torch.device(\"cuda:0\" if torch.cuda.is_available() else \"cpu\")\n",
    "print(device)\n",
    "model_quick = MultipleRegression(6)\n",
    "model_quick.to(device)\n",
    "model_quick.load_state_dict(torch.load('model/model_quick.pth'))\n",
    "model_quick.eval()\n"
   ]
  },
  {
   "cell_type": "code",
   "execution_count": 10,
   "metadata": {},
   "outputs": [
    {
     "output_type": "stream",
     "name": "stdout",
     "text": [
      " * Serving Flask app \"__main__\" (lazy loading)\n",
      " * Environment: production\n",
      "   WARNING: This is a development server. Do not use it in a production deployment.\n",
      "   Use a production WSGI server instead.\n",
      " * Debug mode: off\n",
      " * Running on http://127.0.0.1:5000/ (Press CTRL+C to quit)\n",
      " * Running on https://hackaroo.ngrok.io\n",
      " * Traffic stats available on http://127.0.0.1:4040\n"
     ]
    }
   ],
   "source": [
    "# flask_ngrok_example.py\n",
    "from flask import Flask\n",
    "from flask_ngrok import run_with_ngrok\n",
    "\n",
    "app = Flask(__name__)\n",
    "CORS(app)\n",
    "run_with_ngrok(app)  # Start ngrok when app is run\n",
    "\n",
    "@app.route(\"/api/model/quick\", methods = ['GET'])\n",
    "def inference_quick():\n",
    "    height = float(request.args.get('height'))\n",
    "    weight = float(request.args.get('weight'))\n",
    "    age = int(request.args.get('age'))\n",
    "    children = int(request.args.get('children'))\n",
    "    smoker = int(request.args.get('smoker'))\n",
    "    region = int(request.args.get('region'))\n",
    "    sex = int(request.args.get('sex'))\n",
    "    BMI = weight / (height/100)**2\n",
    "\n",
    "\n",
    "    map_sex = {\n",
    "        'male': 0,\n",
    "        'female': 1\n",
    "    }\n",
    "    map_smoker = {\n",
    "        'no': 0,\n",
    "        'yes': 1,\n",
    "    }   \n",
    "    map_region = {'northeast': 0, 'northwest': 1, 'southeast': 2, 'southwest': 3}\n",
    "\n",
    "    X_test = np.array([[age, sex, BMI, children, smoker, region]])\n",
    "    test_dataset = RegressionDataset(torch.from_numpy(X_test).float())\n",
    "    test_loader = DataLoader(dataset=test_dataset, batch_size=1)\n",
    "    ''''Testing'''\n",
    "    # X_test = np.array([[45, 1, 15, 2, 1, 3]])\n",
    "    test_dataset = RegressionDataset(torch.from_numpy(X_test).float())\n",
    "    test_loader = DataLoader(dataset=test_dataset, batch_size=1)\n",
    "    ''''Testing'''\n",
    "    with torch.no_grad():\n",
    "        for X_batch in test_loader:\n",
    "            X_batch = X_batch.to(device)\n",
    "            x_test_pred = model_quick(X_batch)[0][0]\n",
    "    result = {\n",
    "        'premium_charge' : round(x_test_pred.item()*10000)\n",
    "    }\n",
    "    return json.dumps(result)\n",
    "\n",
    "if __name__ == '__main__':\n",
    "    app.run()"
   ]
  },
  {
   "cell_type": "code",
   "execution_count": 40,
   "metadata": {},
   "outputs": [],
   "source": [
    "X_test = np.array([[45, 1, 15, 2, 1, 3]])\n",
    "test_dataset = RegressionDataset(torch.from_numpy(X_test).float())\n",
    "test_loader = DataLoader(dataset=test_dataset, batch_size=1)\n",
    "''''Testing'''\n",
    "x_pred_list = []\n",
    "with torch.no_grad():\n",
    "    for X_batch in test_loader:\n",
    "        X_batch = X_batch.to(device)\n",
    "        x_test_pred = model_quick(X_batch)[0][0]"
   ]
  },
  {
   "cell_type": "code",
   "execution_count": 45,
   "metadata": {},
   "outputs": [
    {
     "output_type": "execute_result",
     "data": {
      "text/plain": [
       "1.0353096723556519"
      ]
     },
     "metadata": {},
     "execution_count": 45
    }
   ],
   "source": [
    "x_test_pred.item()"
   ]
  },
  {
   "cell_type": "code",
   "execution_count": null,
   "metadata": {},
   "outputs": [],
   "source": []
  }
 ]
}