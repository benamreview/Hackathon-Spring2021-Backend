{
 "metadata": {
  "language_info": {
   "codemirror_mode": {
    "name": "ipython",
    "version": 3
   },
   "file_extension": ".py",
   "mimetype": "text/x-python",
   "name": "python",
   "nbconvert_exporter": "python",
   "pygments_lexer": "ipython3",
   "version": "3.8.5"
  },
  "orig_nbformat": 2,
  "kernelspec": {
   "name": "python385jvsc74a57bd0a69a97d3c0c90f1132d3fe1c1bdf15f941a20aa0a78eb54401bae5bd6029936d",
   "display_name": "Python 3.8.5 64-bit ('base': conda)"
  }
 },
 "nbformat": 4,
 "nbformat_minor": 2,
 "cells": [
  {
   "cell_type": "code",
   "execution_count": 1,
   "metadata": {},
   "outputs": [],
   "source": [
    "import pandas as pd"
   ]
  },
  {
   "cell_type": "code",
   "execution_count": 2,
   "metadata": {},
   "outputs": [
    {
     "output_type": "stream",
     "name": "stderr",
     "text": [
      "C:\\Users\\dhh3hb\\Anaconda3\\lib\\site-packages\\IPython\\core\\interactiveshell.py:3146: DtypeWarning: Columns (18) have mixed types.Specify dtype option on import or set low_memory=False.\n  has_raised = await self.run_ast_nodes(code_ast.body, cell_name,\n"
     ]
    }
   ],
   "source": [
    "covid_df = pd.read_csv('COVID-19_Case_Surveillance_Public_Use_Data_with_Geography.csv')"
   ]
  },
  {
   "cell_type": "code",
   "execution_count": 5,
   "metadata": {},
   "outputs": [
    {
     "output_type": "execute_result",
     "data": {
      "text/plain": [
       "      case_month res_state  state_fips_code res_county  county_fips_code  \\\n",
       "11265    2020-07        MO             29.0     GREENE           29077.0   \n",
       "11266    2020-07        MO             29.0     GREENE           29077.0   \n",
       "11267    2020-07        MO             29.0     GREENE           29077.0   \n",
       "11268    2020-07        MO             29.0     GREENE           29077.0   \n",
       "11269    2020-07        MO             29.0     GREENE           29077.0   \n",
       "\n",
       "      age_group  sex race ethnicity  case_positive_specimen_interval  \\\n",
       "11265       NaN  NaN  NaN       NaN                              NaN   \n",
       "11266       NaN  NaN  NaN       NaN                              NaN   \n",
       "11267       NaN  NaN  NaN       NaN                              NaN   \n",
       "11268       NaN  NaN  NaN       NaN                              NaN   \n",
       "11269       NaN  NaN  NaN       NaN                              NaN   \n",
       "\n",
       "       case_onset_interval  process exposure_yn             current_status  \\\n",
       "11265                  0.0  Missing     Missing  Laboratory-confirmed case   \n",
       "11266                  NaN  Missing     Missing              Probable Case   \n",
       "11267                  NaN  Missing     Missing              Probable Case   \n",
       "11268                  0.0  Missing     Missing  Laboratory-confirmed case   \n",
       "11269                  0.0  Missing     Missing  Laboratory-confirmed case   \n",
       "\n",
       "      symptom_status  hosp_yn   icu_yn death_yn underlying_conditions_yn  \n",
       "11265    Symptomatic  Missing  Missing  Missing                      NaN  \n",
       "11266        Missing  Missing  Missing  Missing                      NaN  \n",
       "11267        Missing  Missing  Missing  Missing                      NaN  \n",
       "11268    Symptomatic  Missing  Missing  Missing                      NaN  \n",
       "11269    Symptomatic  Missing  Missing  Missing                      NaN  "
      ],
      "text/html": "<div>\n<style scoped>\n    .dataframe tbody tr th:only-of-type {\n        vertical-align: middle;\n    }\n\n    .dataframe tbody tr th {\n        vertical-align: top;\n    }\n\n    .dataframe thead th {\n        text-align: right;\n    }\n</style>\n<table border=\"1\" class=\"dataframe\">\n  <thead>\n    <tr style=\"text-align: right;\">\n      <th></th>\n      <th>case_month</th>\n      <th>res_state</th>\n      <th>state_fips_code</th>\n      <th>res_county</th>\n      <th>county_fips_code</th>\n      <th>age_group</th>\n      <th>sex</th>\n      <th>race</th>\n      <th>ethnicity</th>\n      <th>case_positive_specimen_interval</th>\n      <th>case_onset_interval</th>\n      <th>process</th>\n      <th>exposure_yn</th>\n      <th>current_status</th>\n      <th>symptom_status</th>\n      <th>hosp_yn</th>\n      <th>icu_yn</th>\n      <th>death_yn</th>\n      <th>underlying_conditions_yn</th>\n    </tr>\n  </thead>\n  <tbody>\n    <tr>\n      <th>11265</th>\n      <td>2020-07</td>\n      <td>MO</td>\n      <td>29.0</td>\n      <td>GREENE</td>\n      <td>29077.0</td>\n      <td>NaN</td>\n      <td>NaN</td>\n      <td>NaN</td>\n      <td>NaN</td>\n      <td>NaN</td>\n      <td>0.0</td>\n      <td>Missing</td>\n      <td>Missing</td>\n      <td>Laboratory-confirmed case</td>\n      <td>Symptomatic</td>\n      <td>Missing</td>\n      <td>Missing</td>\n      <td>Missing</td>\n      <td>NaN</td>\n    </tr>\n    <tr>\n      <th>11266</th>\n      <td>2020-07</td>\n      <td>MO</td>\n      <td>29.0</td>\n      <td>GREENE</td>\n      <td>29077.0</td>\n      <td>NaN</td>\n      <td>NaN</td>\n      <td>NaN</td>\n      <td>NaN</td>\n      <td>NaN</td>\n      <td>NaN</td>\n      <td>Missing</td>\n      <td>Missing</td>\n      <td>Probable Case</td>\n      <td>Missing</td>\n      <td>Missing</td>\n      <td>Missing</td>\n      <td>Missing</td>\n      <td>NaN</td>\n    </tr>\n    <tr>\n      <th>11267</th>\n      <td>2020-07</td>\n      <td>MO</td>\n      <td>29.0</td>\n      <td>GREENE</td>\n      <td>29077.0</td>\n      <td>NaN</td>\n      <td>NaN</td>\n      <td>NaN</td>\n      <td>NaN</td>\n      <td>NaN</td>\n      <td>NaN</td>\n      <td>Missing</td>\n      <td>Missing</td>\n      <td>Probable Case</td>\n      <td>Missing</td>\n      <td>Missing</td>\n      <td>Missing</td>\n      <td>Missing</td>\n      <td>NaN</td>\n    </tr>\n    <tr>\n      <th>11268</th>\n      <td>2020-07</td>\n      <td>MO</td>\n      <td>29.0</td>\n      <td>GREENE</td>\n      <td>29077.0</td>\n      <td>NaN</td>\n      <td>NaN</td>\n      <td>NaN</td>\n      <td>NaN</td>\n      <td>NaN</td>\n      <td>0.0</td>\n      <td>Missing</td>\n      <td>Missing</td>\n      <td>Laboratory-confirmed case</td>\n      <td>Symptomatic</td>\n      <td>Missing</td>\n      <td>Missing</td>\n      <td>Missing</td>\n      <td>NaN</td>\n    </tr>\n    <tr>\n      <th>11269</th>\n      <td>2020-07</td>\n      <td>MO</td>\n      <td>29.0</td>\n      <td>GREENE</td>\n      <td>29077.0</td>\n      <td>NaN</td>\n      <td>NaN</td>\n      <td>NaN</td>\n      <td>NaN</td>\n      <td>NaN</td>\n      <td>0.0</td>\n      <td>Missing</td>\n      <td>Missing</td>\n      <td>Laboratory-confirmed case</td>\n      <td>Symptomatic</td>\n      <td>Missing</td>\n      <td>Missing</td>\n      <td>Missing</td>\n      <td>NaN</td>\n    </tr>\n  </tbody>\n</table>\n</div>"
     },
     "metadata": {},
     "execution_count": 5
    }
   ],
   "source": [
    "covid_df[covid_df['res_state'] == 'MO'].head()"
   ]
  }
 ]
}