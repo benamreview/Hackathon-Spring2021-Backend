{
 "metadata": {
  "language_info": {
   "codemirror_mode": {
    "name": "ipython",
    "version": 3
   },
   "file_extension": ".py",
   "mimetype": "text/x-python",
   "name": "python",
   "nbconvert_exporter": "python",
   "pygments_lexer": "ipython3",
   "version": "3.8.5"
  },
  "orig_nbformat": 2,
  "kernelspec": {
   "name": "python385jvsc74a57bd0a69a97d3c0c90f1132d3fe1c1bdf15f941a20aa0a78eb54401bae5bd6029936d",
   "display_name": "Python 3.8.5 64-bit ('base': conda)"
  }
 },
 "nbformat": 4,
 "nbformat_minor": 2,
 "cells": [
  {
   "cell_type": "code",
   "execution_count": 2,
   "metadata": {},
   "outputs": [],
   "source": [
    "import pandas as pd\n",
    "import numpy as np \n",
    "np.set_printoptions(suppress=True)\n",
    "\n",
    "import numpy as np\n",
    "import pandas as pd\n",
    "import seaborn as sns\n",
    "from tqdm.notebook import tqdm\n",
    "import matplotlib.pyplot as plt\n",
    "import torch\n",
    "import torch.nn as nn\n",
    "import torch.optim as optim\n",
    "from torch.utils.data import Dataset, DataLoader\n",
    "from sklearn.preprocessing import MinMaxScaler, RobustScaler, StandardScaler\n",
    "from sklearn.model_selection import train_test_split\n",
    "from sklearn.metrics import mean_squared_error, r2_score, mean_absolute_error\n",
    "# from diffprivlib.models import StandardScaler as DPStandardScaler\n",
    "from sklearn import preprocessing"
   ]
  },
  {
   "cell_type": "code",
   "execution_count": 6,
   "metadata": {},
   "outputs": [
    {
     "output_type": "stream",
     "name": "stderr",
     "text": [
      "C:\\Users\\dhh3hb\\Anaconda3\\lib\\site-packages\\IPython\\core\\interactiveshell.py:3146: DtypeWarning: Columns (18) have mixed types.Specify dtype option on import or set low_memory=False.\n  has_raised = await self.run_ast_nodes(code_ast.body, cell_name,\n"
     ]
    }
   ],
   "source": [
    "covid_df = pd.read_csv('COVID-19_Case_Surveillance_Public_Use_Data_with_Geography.csv')[['case_month', 'res_state', 'age_group', 'sex', 'race', 'current_status', 'symptom_status', 'county_fips_code']]"
   ]
  },
  {
   "cell_type": "code",
   "execution_count": 10,
   "metadata": {},
   "outputs": [],
   "source": [
    "# covid_subdf = covid_df.sample(1000000)\n",
    "# covid_subdf = covid_df.sample(10000000)\n",
    "covid_subdf = covid_df\n",
    "\n",
    "\n",
    "covid_subdf.to_csv('COVID/covid_trim.csv', index = False)"
   ]
  },
  {
   "cell_type": "code",
   "execution_count": 8,
   "metadata": {},
   "outputs": [
    {
     "output_type": "execute_result",
     "data": {
      "text/plain": [
       "17536841    51059.0\n",
       "6701568     12103.0\n",
       "16564604    27053.0\n",
       "22060485    31043.0\n",
       "20820700    37119.0\n",
       "             ...   \n",
       "2650286     40031.0\n",
       "4980287     25023.0\n",
       "15656869     6025.0\n",
       "14263535     6075.0\n",
       "10571206    17031.0\n",
       "Name: county_fips_code, Length: 1000000, dtype: float64"
      ]
     },
     "metadata": {},
     "execution_count": 8
    }
   ],
   "source": [
    "covid_subdf['county_fips_code']"
   ]
  },
  {
   "cell_type": "code",
   "execution_count": null,
   "metadata": {},
   "outputs": [],
   "source": [
    "covid_df.res_state.unique()"
   ]
  },
  {
   "cell_type": "code",
   "execution_count": 28,
   "metadata": {},
   "outputs": [],
   "source": [
    "insurance_df = pd.read_csv('ASEC_CENSUS/raw/pppub20.csv')\n",
    "hh_df = pd.read_csv('ASEC_CENSUS/raw/hhpub20.csv')\n",
    "f_df = pd.read_csv('ASEC_CENSUS/raw/ffpub20.csv')\n"
   ]
  },
  {
   "cell_type": "code",
   "execution_count": 29,
   "metadata": {},
   "outputs": [
    {
     "output_type": "execute_result",
     "data": {
      "text/plain": [
       "       H_SEQ  GEREG  GESTFIPS  FOWNU18  FHIP_VAL\n",
       "0          1      1        23        0      5800\n",
       "1          2      1        23        0      1500\n",
       "2          3      1        23        0      1200\n",
       "3          4      1        23        0         0\n",
       "4          5      1        23        0      2500\n",
       "...      ...    ...       ...      ...       ...\n",
       "69954  91497      4        15        0         0\n",
       "69955  91498      4        15        0      1600\n",
       "69956  91498      4        15        0       684\n",
       "69957  91499      4        15        0         0\n",
       "69958  91500      4        15        1      8500\n",
       "\n",
       "[69959 rows x 5 columns]"
      ],
      "text/html": "<div>\n<style scoped>\n    .dataframe tbody tr th:only-of-type {\n        vertical-align: middle;\n    }\n\n    .dataframe tbody tr th {\n        vertical-align: top;\n    }\n\n    .dataframe thead th {\n        text-align: right;\n    }\n</style>\n<table border=\"1\" class=\"dataframe\">\n  <thead>\n    <tr style=\"text-align: right;\">\n      <th></th>\n      <th>H_SEQ</th>\n      <th>GEREG</th>\n      <th>GESTFIPS</th>\n      <th>FOWNU18</th>\n      <th>FHIP_VAL</th>\n    </tr>\n  </thead>\n  <tbody>\n    <tr>\n      <th>0</th>\n      <td>1</td>\n      <td>1</td>\n      <td>23</td>\n      <td>0</td>\n      <td>5800</td>\n    </tr>\n    <tr>\n      <th>1</th>\n      <td>2</td>\n      <td>1</td>\n      <td>23</td>\n      <td>0</td>\n      <td>1500</td>\n    </tr>\n    <tr>\n      <th>2</th>\n      <td>3</td>\n      <td>1</td>\n      <td>23</td>\n      <td>0</td>\n      <td>1200</td>\n    </tr>\n    <tr>\n      <th>3</th>\n      <td>4</td>\n      <td>1</td>\n      <td>23</td>\n      <td>0</td>\n      <td>0</td>\n    </tr>\n    <tr>\n      <th>4</th>\n      <td>5</td>\n      <td>1</td>\n      <td>23</td>\n      <td>0</td>\n      <td>2500</td>\n    </tr>\n    <tr>\n      <th>...</th>\n      <td>...</td>\n      <td>...</td>\n      <td>...</td>\n      <td>...</td>\n      <td>...</td>\n    </tr>\n    <tr>\n      <th>69954</th>\n      <td>91497</td>\n      <td>4</td>\n      <td>15</td>\n      <td>0</td>\n      <td>0</td>\n    </tr>\n    <tr>\n      <th>69955</th>\n      <td>91498</td>\n      <td>4</td>\n      <td>15</td>\n      <td>0</td>\n      <td>1600</td>\n    </tr>\n    <tr>\n      <th>69956</th>\n      <td>91498</td>\n      <td>4</td>\n      <td>15</td>\n      <td>0</td>\n      <td>684</td>\n    </tr>\n    <tr>\n      <th>69957</th>\n      <td>91499</td>\n      <td>4</td>\n      <td>15</td>\n      <td>0</td>\n      <td>0</td>\n    </tr>\n    <tr>\n      <th>69958</th>\n      <td>91500</td>\n      <td>4</td>\n      <td>15</td>\n      <td>1</td>\n      <td>8500</td>\n    </tr>\n  </tbody>\n</table>\n<p>69959 rows × 5 columns</p>\n</div>"
     },
     "metadata": {},
     "execution_count": 29
    }
   ],
   "source": [
    "supplement_df = hh_df[['H_SEQ', 'GEREG', 'GESTFIPS']].merge(f_df[['FH_SEQ', 'FOWNU18', 'FHIP_VAL']], left_on = 'H_SEQ', right_on = 'FH_SEQ' ).drop(['FH_SEQ'], axis = 1)\n",
    "supplement_df"
   ]
  },
  {
   "cell_type": "code",
   "execution_count": 30,
   "metadata": {},
   "outputs": [
    {
     "output_type": "execute_result",
     "data": {
      "text/plain": [
       "array([23, 33, 50, 25, 44,  9, 36, 34, 42, 39, 18, 17, 26, 55, 27, 19, 29,\n",
       "       38, 46, 31, 20, 10, 24, 11, 51, 54, 37, 45, 13, 12, 21, 47,  1, 28,\n",
       "        5, 22, 40, 48, 30, 16, 56,  8, 35,  4, 49, 32, 53, 41,  6,  2, 15],\n",
       "      dtype=int64)"
      ]
     },
     "metadata": {},
     "execution_count": 30
    }
   ],
   "source": [
    "supplement_df['GESTFIPS'].unique()"
   ]
  },
  {
   "cell_type": "code",
   "execution_count": 31,
   "metadata": {},
   "outputs": [
    {
     "output_type": "execute_result",
     "data": {
      "text/plain": [
       "                 PERIDNUM  PH_SEQ  P_SEQ  A_LINENO  PF_SEQ  PHF_SEQ  OED_TYP1  \\\n",
       "0  8329611509015080901101       1      1         1       1        1         0   \n",
       "1  8329611509015080901102       1      2         2       1        1         0   \n",
       "2  4238996011902050901101       2      1         1       1        1         0   \n",
       "3  4238996011902050901102       2      2         2       1        1         0   \n",
       "4  2059506120093750901101       3      1         1       1        1         0   \n",
       "\n",
       "   OED_TYP2  OED_TYP3  PERRP  ...  FILEDATE  FILESTAT  LJCW  NOEMP  WECLW  \\\n",
       "0         0         0     40  ...     31821         2     3      6      6   \n",
       "1         0         0     42  ...     31821         2     4      2      6   \n",
       "2         0         0     40  ...     31821         2     4      3      6   \n",
       "3         0         0     42  ...     31821         2     0      0      9   \n",
       "4         0         0     41  ...     31821         5     1      5      5   \n",
       "\n",
       "   YYYYMM  GEREG  GESTFIPS  FOWNU18  FHIP_VAL  \n",
       "0  202003      1        23        0      5800  \n",
       "1  202003      1        23        0      5800  \n",
       "2  202003      1        23        0      1500  \n",
       "3  202003      1        23        0      1500  \n",
       "4  202003      1        23        0      1200  \n",
       "\n",
       "[5 rows x 844 columns]"
      ],
      "text/html": "<div>\n<style scoped>\n    .dataframe tbody tr th:only-of-type {\n        vertical-align: middle;\n    }\n\n    .dataframe tbody tr th {\n        vertical-align: top;\n    }\n\n    .dataframe thead th {\n        text-align: right;\n    }\n</style>\n<table border=\"1\" class=\"dataframe\">\n  <thead>\n    <tr style=\"text-align: right;\">\n      <th></th>\n      <th>PERIDNUM</th>\n      <th>PH_SEQ</th>\n      <th>P_SEQ</th>\n      <th>A_LINENO</th>\n      <th>PF_SEQ</th>\n      <th>PHF_SEQ</th>\n      <th>OED_TYP1</th>\n      <th>OED_TYP2</th>\n      <th>OED_TYP3</th>\n      <th>PERRP</th>\n      <th>...</th>\n      <th>FILEDATE</th>\n      <th>FILESTAT</th>\n      <th>LJCW</th>\n      <th>NOEMP</th>\n      <th>WECLW</th>\n      <th>YYYYMM</th>\n      <th>GEREG</th>\n      <th>GESTFIPS</th>\n      <th>FOWNU18</th>\n      <th>FHIP_VAL</th>\n    </tr>\n  </thead>\n  <tbody>\n    <tr>\n      <th>0</th>\n      <td>8329611509015080901101</td>\n      <td>1</td>\n      <td>1</td>\n      <td>1</td>\n      <td>1</td>\n      <td>1</td>\n      <td>0</td>\n      <td>0</td>\n      <td>0</td>\n      <td>40</td>\n      <td>...</td>\n      <td>31821</td>\n      <td>2</td>\n      <td>3</td>\n      <td>6</td>\n      <td>6</td>\n      <td>202003</td>\n      <td>1</td>\n      <td>23</td>\n      <td>0</td>\n      <td>5800</td>\n    </tr>\n    <tr>\n      <th>1</th>\n      <td>8329611509015080901102</td>\n      <td>1</td>\n      <td>2</td>\n      <td>2</td>\n      <td>1</td>\n      <td>1</td>\n      <td>0</td>\n      <td>0</td>\n      <td>0</td>\n      <td>42</td>\n      <td>...</td>\n      <td>31821</td>\n      <td>2</td>\n      <td>4</td>\n      <td>2</td>\n      <td>6</td>\n      <td>202003</td>\n      <td>1</td>\n      <td>23</td>\n      <td>0</td>\n      <td>5800</td>\n    </tr>\n    <tr>\n      <th>2</th>\n      <td>4238996011902050901101</td>\n      <td>2</td>\n      <td>1</td>\n      <td>1</td>\n      <td>1</td>\n      <td>1</td>\n      <td>0</td>\n      <td>0</td>\n      <td>0</td>\n      <td>40</td>\n      <td>...</td>\n      <td>31821</td>\n      <td>2</td>\n      <td>4</td>\n      <td>3</td>\n      <td>6</td>\n      <td>202003</td>\n      <td>1</td>\n      <td>23</td>\n      <td>0</td>\n      <td>1500</td>\n    </tr>\n    <tr>\n      <th>3</th>\n      <td>4238996011902050901102</td>\n      <td>2</td>\n      <td>2</td>\n      <td>2</td>\n      <td>1</td>\n      <td>1</td>\n      <td>0</td>\n      <td>0</td>\n      <td>0</td>\n      <td>42</td>\n      <td>...</td>\n      <td>31821</td>\n      <td>2</td>\n      <td>0</td>\n      <td>0</td>\n      <td>9</td>\n      <td>202003</td>\n      <td>1</td>\n      <td>23</td>\n      <td>0</td>\n      <td>1500</td>\n    </tr>\n    <tr>\n      <th>4</th>\n      <td>2059506120093750901101</td>\n      <td>3</td>\n      <td>1</td>\n      <td>1</td>\n      <td>1</td>\n      <td>1</td>\n      <td>0</td>\n      <td>0</td>\n      <td>0</td>\n      <td>41</td>\n      <td>...</td>\n      <td>31821</td>\n      <td>5</td>\n      <td>1</td>\n      <td>5</td>\n      <td>5</td>\n      <td>202003</td>\n      <td>1</td>\n      <td>23</td>\n      <td>0</td>\n      <td>1200</td>\n    </tr>\n  </tbody>\n</table>\n<p>5 rows × 844 columns</p>\n</div>"
     },
     "metadata": {},
     "execution_count": 31
    }
   ],
   "source": [
    "insurance_df = insurance_df.merge(supplement_df, left_on = 'PH_SEQ', right_on = 'H_SEQ' ).drop(['H_SEQ'], axis = 1)\n",
    "insurance_df.head()"
   ]
  },
  {
   "cell_type": "code",
   "execution_count": 32,
   "metadata": {},
   "outputs": [],
   "source": [
    "statecode_map = {\n",
    "0 :\"niu\",\n",
    "1 :\"alabama\",\n",
    "2 :\"alaska\",\n",
    "4 :\"arizona\",\n",
    "5 :\"arkansas\",\n",
    "6 :\"california\",\n",
    "8 :\"colorado\",\n",
    "9 :\"connecticut\",\n",
    "10 :\"delaware\",\n",
    "11 :\"district of columbia\",\n",
    "12 :\"florida\",\n",
    "13 :\"georgia\",\n",
    "15 :\"hawaii\",\n",
    "16 :\"idaho\",\n",
    "17 :\"illinois\",\n",
    "18 :\"indiana\",\n",
    "19 :\"iowa\",\n",
    "20 :\"kansas\",\n",
    "21 :\"kentucky\",\n",
    "22 :\"louisiana\",\n",
    "23 :\"maine\",\n",
    "24 :\"maryland\",\n",
    "25 :\"massachusetts\",\n",
    "26 :\"michigan\",\n",
    "27 :\"minnesota\",\n",
    "28 :\"mississippi\",\n",
    "29 :\"missouri\",\n",
    "30 :\"montana\",\n",
    "31 :\"nebraska\",\n",
    "32 :\"nevada\",\n",
    "33 :\"new hampshire\",\n",
    "34 :\"new jersey\",   \n",
    "35 :\"new mexico\",\n",
    "36 :\"new york\",\n",
    "37 :\"north carolina\",\n",
    "38 :\"north dakota\",\n",
    "39 :\"ohio\",\n",
    "40 :\"oklahoma\",\n",
    "41 :\"oregon\",\n",
    "42 :\"pennsylvania\",\n",
    "44 :\"rhode island\",\n",
    "45 :\"south carolina\",\n",
    "46 :\"south dakota\",\n",
    "47 :\"tennessee\",\n",
    "48 :\"texas\",\n",
    "49 :\"utah\",\n",
    "50 :\"vermont\",\n",
    "51 :\"virginia\",\n",
    "53 :\"washington\",\n",
    "54 :\"west virginia\",\n",
    "55 :\"wisconsin\",\n",
    "56 :\"wyoming\",\n",
    "96 :\"abroad\",\n",
    "}\n",
    "\n",
    "state_initial_map = {\n",
    "\"Alabama\": \"AL\",\n",
    "\"Alaska\": \"AK\",\n",
    "\"American Samoa\": \"AS\",\n",
    "\"Arizona\": \"AZ\",\n",
    "\"Arkansas\": \"AR\",\n",
    "\"California\": \"CA\",\n",
    "\"Colorado\": \"CO\",\n",
    "\"Connecticut\": \"CT\",\n",
    "\"Delaware\": \"DE\",\n",
    "\"District Of Columbia\": \"DC\",\n",
    "\"Federated States Of Micronesia\": \"FM\",\n",
    "\"Florida\": \"FL\",\n",
    "\"Georgia\": \"GA\",\n",
    "\"Guam\": \"GU\",\n",
    "\"Hawaii\": \"HI\",\n",
    "\"Idaho\": \"ID\",\n",
    "\"Illinois\": \"IL\",\n",
    "\"Indiana\": \"IN\",\n",
    "\"Iowa\": \"IA\",\n",
    "\"Kansas\": \"KS\",\n",
    "\"Kentucky\": \"KY\",\n",
    "\"Louisiana\": \"LA\",\n",
    "\"Maine\": \"ME\",\n",
    "\"Marshall Islands\": \"MH\",\n",
    "\"Maryland\": \"MD\",\n",
    "\"Massachusetts\": \"MA\",\n",
    "\"Michigan\": \"MI\",\n",
    "\"Minnesota\": \"MN\",\n",
    "\"Mississippi\": \"MS\",\n",
    "\"Missouri\": \"MO\",\n",
    "\"Montana\": \"MT\",\n",
    "\"Nebraska\": \"NE\",\n",
    "\"Nevada\": \"NV\",\n",
    "\"New Hampshire\": \"NH\",\n",
    "\"New Jersey\": \"NJ\",\n",
    "\"New Mexico\": \"NM\",\n",
    "\"New York\": \"NY\",\n",
    "\"North Carolina\": \"NC\",\n",
    "\"North Dakota\": \"ND\",\n",
    "\"Northern Mariana Islands\": \"MP\",\n",
    "\"Ohio\": \"OH\",\n",
    "\"Oklahoma\": \"OK\",\n",
    "\"Oregon\": \"OR\",\n",
    "\"Palau\": \"PW\",\n",
    "\"Pennsylvania\": \"PA\",\n",
    "\"Puerto Rico\": \"PR\",\n",
    "\"Rhode Island\": \"RI\",\n",
    "\"South Carolina\": \"SC\",\n",
    "\"South Dakota\": \"SD\",\n",
    "\"Tennessee\": \"TN\",\n",
    "\"Texas\": \"TX\",\n",
    "\"Utah\": \"UT\",\n",
    "\"Vermont\": \"VT\",\n",
    "\"Virgin Islands\": \"VI\",\n",
    "\"Virginia\": \"VA\",\n",
    "\"Washington\": \"WA\",\n",
    "\"West Virginia\": \"WV\",\n",
    "\"Wisconsin\": \"WI\",\n",
    "\"Wyoming\": \"WY\"\n",
    "}\n",
    "employment_map = {\n",
    "    0 : 'N/A',\n",
    "    1 : 'Working',\n",
    "    2 : 'With job, not at work',\n",
    "    3 : 'Unemployed, looking for work',\n",
    "    4 : 'Unemployed, on layoff',\n",
    "    7 : 'N/A',\n",
    "}\n",
    "education_map = {\n",
    "    0 :\"Children\",\n",
    "    31 :\"High school or less\",\n",
    "    32 :\"High school or less\",\n",
    "    33 :\"High school or less\",\n",
    "    34 :\"High school or less\",\n",
    "    35 :\"High school or less\",\n",
    "    36 :\"High school or less\",\n",
    "    37 :\"High school or less\",\n",
    "    38 :\"High school or less\",\n",
    "    39 :\"High school or less\",\n",
    "    40 :\"Some college but no degree\",\n",
    "    41 :\"Associate degree\",\n",
    "    42 :\"Associate degree\",\n",
    "    43 :\"Bachelor's degree\",\n",
    "    44 :\"Master's degree\",\n",
    "    45 :\"Professional degree\",\n",
    "    46 :\"Doctorate degree\",\n",
    "}\n",
    "poverty_map = {\n",
    "    0: 'N/A',\n",
    "    1: 'Below Poverty Level',\n",
    "    2: '100-124 % above poverty level',\n",
    "    3: '125-149 % above poverty level',\n",
    "    4: '150 and above poverty level'\n",
    "}\n",
    "income_map = {\n",
    "    0 :'NO INCOME',\n",
    "1 :'UNDER $2,500 OR LOSS',\n",
    "2 :'$2,500 TO $4,999',\n",
    "3 :'$5,000 TO $7,499',\n",
    "4 :'$7,500 TO $9,999',\n",
    "5 :'$10,000 TO $12,499',\n",
    "6 :'$12,500 TO $14,999',\n",
    "7 :'$15,000 TO $17,499',\n",
    "8 :'$17,500 TO $19,999',\n",
    "9 :'$20,000 TO $22,499',\n",
    "10 :'$22,500 to $24,999',\n",
    "11 :'$25,000 to $27,499',\n",
    "12 :'$27,500 to $29,999',\n",
    "13 :'$30,000 to $32,499',\n",
    "14 :'$32,500 to $34,999',\n",
    "15 :'$35,000 to $37,499',\n",
    "16 :'$37,500 to $39,999',\n",
    "17 :'$40,000 to $42,499',\n",
    "18 :'$42,500 to $44,999',\n",
    "19 :'$45,000 to $47,499',\n",
    "20 :'$47,500 to $49,999',\n",
    "21 :'$50,000 to $52,499',\n",
    "22 :'$52,500 to $54,999',\n",
    "23 :'$55,000 to $57,499',\n",
    "24 :'$57,500 to $59,999',\n",
    "25 :'$60,000 to $62,499',\n",
    "26 :'$62,500 to $64,999',\n",
    "27 :'$65,000 to $67,499',\n",
    "28 :'$67,500 to $69,999',\n",
    "29 :'$70,000 to $72,499',\n",
    "30 :'$72,500 to $74,999',\n",
    "31 :'$75,000 to $77,499',\n",
    "32 :'$77,500 to $79,999',\n",
    "33 :'$80,000 to $82,499',\n",
    "34 :'$82,500 to $84,999',\n",
    "35 :'$85,000 to $87,499',\n",
    "36 :'$87,500 to $89,999',\n",
    "37 :'$90,000 to $92,499',\n",
    "38 :'$92,500 to $94,999',\n",
    "39 :'$95,000 to $97,499',\n",
    "40 :'$97,500 to $99,999',\n",
    "41 :'$100,000 and over',\n",
    "\n",
    "}\n",
    "\n",
    "income_map = {\n",
    "    0 :'NO INCOME',\n",
    "1 :'$9,999 or less',\n",
    "2 :'$9,999 or less',\n",
    "3 :'$9,999 or less',\n",
    "4 :'$9,999 or less',\n",
    "5 :'$10,000 to $29,999',\n",
    "6 :'$10,000 to $29,999',\n",
    "7 :'$10,000 to $29,999',\n",
    "8 :'$10,000 to $29,999',\n",
    "9 :'$10,000 to $29,999',\n",
    "10 :'$10,000 to $29,999',\n",
    "11 :'$10,000 to $29,999',\n",
    "12 :'$10,000 to $29,999',\n",
    "13 :'$30,000 to $59,999',\n",
    "14 :'$30,000 to $59,999',\n",
    "15 :'$30,000 to $59,999',\n",
    "16 :'$30,000 to $59,999',\n",
    "17 :'$30,000 to $59,999',\n",
    "18 :'$30,000 to $59,999',\n",
    "19 :'$30,000 to $59,999',\n",
    "20 :'$30,000 to $59,999',\n",
    "21 :'$30,000 to $59,999',\n",
    "22 :'$30,000 to $59,999',\n",
    "23 :'$30,000 to $59,999',\n",
    "24 :'$30,000 to $59,999',\n",
    "25 :'$60,000 to $99,999',\n",
    "26 :'$60,000 to $99,999',\n",
    "27 :'$60,000 to $99,999',\n",
    "28 :'$60,000 to $99,999',\n",
    "29 :'$60,000 to $99,999',\n",
    "30 :'$60,000 to $99,999',\n",
    "31 :'$60,000 to $99,999',\n",
    "32 :'$60,000 to $99,999',\n",
    "33 :'$60,000 to $99,999',\n",
    "34 :'$60,000 to $99,999',\n",
    "35 :'$60,000 to $99,999',\n",
    "36 :'$60,000 to $99,999',\n",
    "37 :'$60,000 to $99,999',\n",
    "38 :'$60,000 to $99,999',\n",
    "39 :'$60,000 to $99,999',\n",
    "40 :'$60,000 to $99,999',\n",
    "41 :'$100,000 and over',\n",
    "\n",
    "}"
   ]
  },
  {
   "cell_type": "code",
   "execution_count": 33,
   "metadata": {},
   "outputs": [
    {
     "output_type": "execute_result",
     "data": {
      "text/plain": [
       "{'$10,000 to $29,999',\n",
       " '$100,000 and over',\n",
       " '$30,000 to $59,999',\n",
       " '$60,000 to $99,999',\n",
       " '$9,999 or less',\n",
       " 'NO INCOME'}"
      ]
     },
     "metadata": {},
     "execution_count": 33
    }
   ],
   "source": [
    "set(income_map.values())"
   ]
  },
  {
   "cell_type": "code",
   "execution_count": 34,
   "metadata": {},
   "outputs": [],
   "source": [
    "TARGET_VARIABLES = {\n",
    "    'PRDTRACE': 'Race' ,\n",
    "    'PERLIS': 'Poverty Level' ,\n",
    "    'A_AGE': 'Age',\n",
    "    'A_HGA': 'Educational Attainment',\n",
    "    'A_LFSR': 'Employment Status',\n",
    "    'A_SEX': 'Gender',\n",
    "    'FOWNU18': 'Number of Children',\n",
    "    'GEREG': 'Geographic Region',\n",
    "    'GESTFIPS': 'State Code',\n",
    "    'DIS_HP': 'Health Problems',\n",
    "\n",
    "\n",
    "    'HIPAID': 'Employer Paid', #NIU, All, Part, None\n",
    "    'NOW_HIPAID': 'Employer Currently Paid',\n",
    "    'PTOT_R': 'Total Income (code)',\n",
    "    'PTOTVAL': 'Total Income (val)',\n",
    "    'COV': 'Coverage Last Year', #0: infant, #1: Yes, #2: No\n",
    "    'NOW_COV': 'Coverage Now',\n",
    "    'NOW_PRIV' : 'Private Coverage Now', \n",
    "    'PRIV': 'Private Coverage Last Year',\n",
    "    'NOW_PUB': 'Public Coverage Now',\n",
    "    'PUB': 'Public Coverage Last Year',\n",
    "    'DIR': 'Direct-purchase Coverage Last Year',\n",
    "    'NOW_DIR': 'Direct-purchase Coverage Now',\n",
    "    'MRK': 'Marketplace Coverage Last Year',\n",
    "    'NOW_MRK': 'Marketplace Coverage Now',\n",
    "    'NONM': 'Non-Marketplace Coverage Last Year',\n",
    "    'NOW_NONM': 'Non-Marketplace Coverage Now',\n",
    "\n",
    "    'MCARE': 'Medicare Coverage Last Year',\n",
    "    'NOW_MCARE': 'Medicare Coverage Now',\n",
    "    'MIL': \"TRICARE Coverage Last Year\",\n",
    "    'NOW_MIL': \"TRICARE Coverage Now\",\n",
    "    'VACARE': 'VACARE Coverage Last Year',\n",
    "    'NOW_VACARE': 'VACARE Coverage Now',\n",
    "    'MCAID': 'Medicaid Coverage Last Year',\n",
    "    'NOW_MCAID': 'Medicaid Coverage Now',\n",
    "    'MOOP2': 'Total Out-of-Pocket Expenditures',\n",
    "    'PEMCPREM': 'Medicare premium amount',\n",
    "    'PHIP_VAL': 'Total Premium Paid'\n",
    "}"
   ]
  },
  {
   "source": [],
   "cell_type": "markdown",
   "metadata": {}
  },
  {
   "cell_type": "code",
   "execution_count": 532,
   "metadata": {},
   "outputs": [
    {
     "output_type": "execute_result",
     "data": {
      "text/plain": [
       "0         ME\n",
       "1         ME\n",
       "2         ME\n",
       "3         ME\n",
       "4         ME\n",
       "          ..\n",
       "193721    HI\n",
       "193722    HI\n",
       "193723    HI\n",
       "193724    HI\n",
       "193725    HI\n",
       "Name: State Code, Length: 193726, dtype: object"
      ]
     },
     "metadata": {},
     "execution_count": 532
    }
   ],
   "source": []
  },
  {
   "cell_type": "code",
   "execution_count": 35,
   "metadata": {},
   "outputs": [
    {
     "output_type": "stream",
     "name": "stderr",
     "text": [
      "<ipython-input-35-0ce2e66f2f45>:5: SettingWithCopyWarning: \nA value is trying to be set on a copy of a slice from a DataFrame.\nTry using .loc[row_indexer,col_indexer] = value instead\n\nSee the caveats in the documentation: https://pandas.pydata.org/pandas-docs/stable/user_guide/indexing.html#returning-a-view-versus-a-copy\n  insurance_df_subset['State Code'] = insurance_df_subset['State Code'].astype(int).map(statecode_map).str.title().map(state_initial_map) #convert to initial\n<ipython-input-35-0ce2e66f2f45>:6: SettingWithCopyWarning: \nA value is trying to be set on a copy of a slice from a DataFrame.\nTry using .loc[row_indexer,col_indexer] = value instead\n\nSee the caveats in the documentation: https://pandas.pydata.org/pandas-docs/stable/user_guide/indexing.html#returning-a-view-versus-a-copy\n  insurance_df_subset['Employment Status'] = insurance_df_subset['Employment Status'].astype(int).map(employment_map) #convert to employment\n<ipython-input-35-0ce2e66f2f45>:7: SettingWithCopyWarning: \nA value is trying to be set on a copy of a slice from a DataFrame.\nTry using .loc[row_indexer,col_indexer] = value instead\n\nSee the caveats in the documentation: https://pandas.pydata.org/pandas-docs/stable/user_guide/indexing.html#returning-a-view-versus-a-copy\n  insurance_df_subset['Educational Attainment'] = insurance_df_subset['Educational Attainment'].astype(int).map(education_map) #convert to education\n<ipython-input-35-0ce2e66f2f45>:8: SettingWithCopyWarning: \nA value is trying to be set on a copy of a slice from a DataFrame.\nTry using .loc[row_indexer,col_indexer] = value instead\n\nSee the caveats in the documentation: https://pandas.pydata.org/pandas-docs/stable/user_guide/indexing.html#returning-a-view-versus-a-copy\n  insurance_df_subset['Poverty Level'] = insurance_df_subset['Poverty Level'].astype(int).map(poverty_map) #convert to education\n<ipython-input-35-0ce2e66f2f45>:10: SettingWithCopyWarning: \nA value is trying to be set on a copy of a slice from a DataFrame.\nTry using .loc[row_indexer,col_indexer] = value instead\n\nSee the caveats in the documentation: https://pandas.pydata.org/pandas-docs/stable/user_guide/indexing.html#returning-a-view-versus-a-copy\n  insurance_df_subset['Total Income (code)'] = insurance_df_subset['Total Income (code)'].astype(int).map(income_map) #convert to education\n"
     ]
    },
    {
     "output_type": "execute_result",
     "data": {
      "text/plain": [
       "                 PERIDNUM  PH_SEQ  P_SEQ  A_LINENO  PF_SEQ  PHF_SEQ  OED_TYP1  \\\n",
       "0  8329611509015080901101       1      1         1       1        1         0   \n",
       "1  8329611509015080901102       1      2         2       1        1         0   \n",
       "2  4238996011902050901101       2      1         1       1        1         0   \n",
       "3  4238996011902050901102       2      2         2       1        1         0   \n",
       "4  2059506120093750901101       3      1         1       1        1         0   \n",
       "\n",
       "   OED_TYP2  OED_TYP3  PERRP  ...  FILEDATE  FILESTAT  LJCW  NOEMP  WECLW  \\\n",
       "0         0         0     40  ...     31821         2     3      6      6   \n",
       "1         0         0     42  ...     31821         2     4      2      6   \n",
       "2         0         0     40  ...     31821         2     4      3      6   \n",
       "3         0         0     42  ...     31821         2     0      0      9   \n",
       "4         0         0     41  ...     31821         5     1      5      5   \n",
       "\n",
       "   YYYYMM  GEREG  GESTFIPS  FOWNU18  FHIP_VAL  \n",
       "0  202003      1        23        0      5800  \n",
       "1  202003      1        23        0      5800  \n",
       "2  202003      1        23        0      1500  \n",
       "3  202003      1        23        0      1500  \n",
       "4  202003      1        23        0      1200  \n",
       "\n",
       "[5 rows x 844 columns]"
      ],
      "text/html": "<div>\n<style scoped>\n    .dataframe tbody tr th:only-of-type {\n        vertical-align: middle;\n    }\n\n    .dataframe tbody tr th {\n        vertical-align: top;\n    }\n\n    .dataframe thead th {\n        text-align: right;\n    }\n</style>\n<table border=\"1\" class=\"dataframe\">\n  <thead>\n    <tr style=\"text-align: right;\">\n      <th></th>\n      <th>PERIDNUM</th>\n      <th>PH_SEQ</th>\n      <th>P_SEQ</th>\n      <th>A_LINENO</th>\n      <th>PF_SEQ</th>\n      <th>PHF_SEQ</th>\n      <th>OED_TYP1</th>\n      <th>OED_TYP2</th>\n      <th>OED_TYP3</th>\n      <th>PERRP</th>\n      <th>...</th>\n      <th>FILEDATE</th>\n      <th>FILESTAT</th>\n      <th>LJCW</th>\n      <th>NOEMP</th>\n      <th>WECLW</th>\n      <th>YYYYMM</th>\n      <th>GEREG</th>\n      <th>GESTFIPS</th>\n      <th>FOWNU18</th>\n      <th>FHIP_VAL</th>\n    </tr>\n  </thead>\n  <tbody>\n    <tr>\n      <th>0</th>\n      <td>8329611509015080901101</td>\n      <td>1</td>\n      <td>1</td>\n      <td>1</td>\n      <td>1</td>\n      <td>1</td>\n      <td>0</td>\n      <td>0</td>\n      <td>0</td>\n      <td>40</td>\n      <td>...</td>\n      <td>31821</td>\n      <td>2</td>\n      <td>3</td>\n      <td>6</td>\n      <td>6</td>\n      <td>202003</td>\n      <td>1</td>\n      <td>23</td>\n      <td>0</td>\n      <td>5800</td>\n    </tr>\n    <tr>\n      <th>1</th>\n      <td>8329611509015080901102</td>\n      <td>1</td>\n      <td>2</td>\n      <td>2</td>\n      <td>1</td>\n      <td>1</td>\n      <td>0</td>\n      <td>0</td>\n      <td>0</td>\n      <td>42</td>\n      <td>...</td>\n      <td>31821</td>\n      <td>2</td>\n      <td>4</td>\n      <td>2</td>\n      <td>6</td>\n      <td>202003</td>\n      <td>1</td>\n      <td>23</td>\n      <td>0</td>\n      <td>5800</td>\n    </tr>\n    <tr>\n      <th>2</th>\n      <td>4238996011902050901101</td>\n      <td>2</td>\n      <td>1</td>\n      <td>1</td>\n      <td>1</td>\n      <td>1</td>\n      <td>0</td>\n      <td>0</td>\n      <td>0</td>\n      <td>40</td>\n      <td>...</td>\n      <td>31821</td>\n      <td>2</td>\n      <td>4</td>\n      <td>3</td>\n      <td>6</td>\n      <td>202003</td>\n      <td>1</td>\n      <td>23</td>\n      <td>0</td>\n      <td>1500</td>\n    </tr>\n    <tr>\n      <th>3</th>\n      <td>4238996011902050901102</td>\n      <td>2</td>\n      <td>2</td>\n      <td>2</td>\n      <td>1</td>\n      <td>1</td>\n      <td>0</td>\n      <td>0</td>\n      <td>0</td>\n      <td>42</td>\n      <td>...</td>\n      <td>31821</td>\n      <td>2</td>\n      <td>0</td>\n      <td>0</td>\n      <td>9</td>\n      <td>202003</td>\n      <td>1</td>\n      <td>23</td>\n      <td>0</td>\n      <td>1500</td>\n    </tr>\n    <tr>\n      <th>4</th>\n      <td>2059506120093750901101</td>\n      <td>3</td>\n      <td>1</td>\n      <td>1</td>\n      <td>1</td>\n      <td>1</td>\n      <td>0</td>\n      <td>0</td>\n      <td>0</td>\n      <td>41</td>\n      <td>...</td>\n      <td>31821</td>\n      <td>5</td>\n      <td>1</td>\n      <td>5</td>\n      <td>5</td>\n      <td>202003</td>\n      <td>1</td>\n      <td>23</td>\n      <td>0</td>\n      <td>1200</td>\n    </tr>\n  </tbody>\n</table>\n<p>5 rows × 844 columns</p>\n</div>"
     },
     "metadata": {},
     "execution_count": 35
    }
   ],
   "source": [
    "insurance_df_subset = insurance_df[TARGET_VARIABLES.keys()]\n",
    "\n",
    "temp = insurance_df.copy()\n",
    "insurance_df_subset.columns = TARGET_VARIABLES.values()\n",
    "insurance_df_subset['State Code'] = insurance_df_subset['State Code'].astype(int).map(statecode_map).str.title().map(state_initial_map) #convert to initial\n",
    "insurance_df_subset['Employment Status'] = insurance_df_subset['Employment Status'].astype(int).map(employment_map) #convert to employment\n",
    "insurance_df_subset['Educational Attainment'] = insurance_df_subset['Educational Attainment'].astype(int).map(education_map) #convert to education\n",
    "insurance_df_subset['Poverty Level'] = insurance_df_subset['Poverty Level'].astype(int).map(poverty_map) #convert to education\n",
    "\n",
    "insurance_df_subset['Total Income (code)'] = insurance_df_subset['Total Income (code)'].astype(int).map(income_map) #convert to education\n",
    "\n",
    "\n",
    "insurance_df_subset.to_csv('ASEC_Census/2021.csv', index = False)\n",
    "\n",
    "insurance_df_subset = temp\n",
    "insurance_df_subset.head()"
   ]
  },
  {
   "cell_type": "code",
   "execution_count": 25,
   "metadata": {},
   "outputs": [
    {
     "output_type": "execute_result",
     "data": {
      "text/plain": [
       "   Race                Poverty Level  Age Educational Attainment  \\\n",
       "0     1  150 and above poverty level   63    High school or less   \n",
       "1     1  150 and above poverty level   67    High school or less   \n",
       "2     1  150 and above poverty level   64    High school or less   \n",
       "3     1  150 and above poverty level   71    High school or less   \n",
       "4     1  150 and above poverty level   54    High school or less   \n",
       "\n",
       "  Employment Status  Gender  Number of Children  Geographic Region State Code  \\\n",
       "0           Working       2                   0                  1         ME   \n",
       "1               N/A       1                   0                  1         ME   \n",
       "2           Working       1                   0                  1         ME   \n",
       "3               N/A       2                   0                  1         ME   \n",
       "4           Working       2                   0                  1         ME   \n",
       "\n",
       "   Health Problems  ...  Medicare Coverage Now  TRICARE Coverage Last Year  \\\n",
       "0                2  ...                      2                           2   \n",
       "1                2  ...                      1                           2   \n",
       "2                2  ...                      2                           1   \n",
       "3                2  ...                      1                           1   \n",
       "4                2  ...                      2                           2   \n",
       "\n",
       "  TRICARE Coverage Now  VACARE Coverage Last Year  VACARE Coverage Now  \\\n",
       "0                    2                          2                    2   \n",
       "1                    2                          2                    2   \n",
       "2                    1                          2                    2   \n",
       "3                    1                          2                    2   \n",
       "4                    2                          2                    2   \n",
       "\n",
       "   Medicaid Coverage Last Year  Medicaid Coverage Now  \\\n",
       "0                            2                      2   \n",
       "1                            2                      2   \n",
       "2                            2                      2   \n",
       "3                            2                      2   \n",
       "4                            2                      2   \n",
       "\n",
       "   Total Out-of-Pocket Expenditures  Medicare premium amount  \\\n",
       "0                              7550                        0   \n",
       "1                              1750                     1626   \n",
       "2                              1500                        0   \n",
       "3                               100                     1680   \n",
       "4                              2300                        0   \n",
       "\n",
       "   Total Premium Paid  \n",
       "0                5800  \n",
       "1                   0  \n",
       "2                1500  \n",
       "3                   0  \n",
       "4                1200  \n",
       "\n",
       "[5 rows x 37 columns]"
      ],
      "text/html": "<div>\n<style scoped>\n    .dataframe tbody tr th:only-of-type {\n        vertical-align: middle;\n    }\n\n    .dataframe tbody tr th {\n        vertical-align: top;\n    }\n\n    .dataframe thead th {\n        text-align: right;\n    }\n</style>\n<table border=\"1\" class=\"dataframe\">\n  <thead>\n    <tr style=\"text-align: right;\">\n      <th></th>\n      <th>Race</th>\n      <th>Poverty Level</th>\n      <th>Age</th>\n      <th>Educational Attainment</th>\n      <th>Employment Status</th>\n      <th>Gender</th>\n      <th>Number of Children</th>\n      <th>Geographic Region</th>\n      <th>State Code</th>\n      <th>Health Problems</th>\n      <th>...</th>\n      <th>Medicare Coverage Now</th>\n      <th>TRICARE Coverage Last Year</th>\n      <th>TRICARE Coverage Now</th>\n      <th>VACARE Coverage Last Year</th>\n      <th>VACARE Coverage Now</th>\n      <th>Medicaid Coverage Last Year</th>\n      <th>Medicaid Coverage Now</th>\n      <th>Total Out-of-Pocket Expenditures</th>\n      <th>Medicare premium amount</th>\n      <th>Total Premium Paid</th>\n    </tr>\n  </thead>\n  <tbody>\n    <tr>\n      <th>0</th>\n      <td>1</td>\n      <td>150 and above poverty level</td>\n      <td>63</td>\n      <td>High school or less</td>\n      <td>Working</td>\n      <td>2</td>\n      <td>0</td>\n      <td>1</td>\n      <td>ME</td>\n      <td>2</td>\n      <td>...</td>\n      <td>2</td>\n      <td>2</td>\n      <td>2</td>\n      <td>2</td>\n      <td>2</td>\n      <td>2</td>\n      <td>2</td>\n      <td>7550</td>\n      <td>0</td>\n      <td>5800</td>\n    </tr>\n    <tr>\n      <th>1</th>\n      <td>1</td>\n      <td>150 and above poverty level</td>\n      <td>67</td>\n      <td>High school or less</td>\n      <td>N/A</td>\n      <td>1</td>\n      <td>0</td>\n      <td>1</td>\n      <td>ME</td>\n      <td>2</td>\n      <td>...</td>\n      <td>1</td>\n      <td>2</td>\n      <td>2</td>\n      <td>2</td>\n      <td>2</td>\n      <td>2</td>\n      <td>2</td>\n      <td>1750</td>\n      <td>1626</td>\n      <td>0</td>\n    </tr>\n    <tr>\n      <th>2</th>\n      <td>1</td>\n      <td>150 and above poverty level</td>\n      <td>64</td>\n      <td>High school or less</td>\n      <td>Working</td>\n      <td>1</td>\n      <td>0</td>\n      <td>1</td>\n      <td>ME</td>\n      <td>2</td>\n      <td>...</td>\n      <td>2</td>\n      <td>1</td>\n      <td>1</td>\n      <td>2</td>\n      <td>2</td>\n      <td>2</td>\n      <td>2</td>\n      <td>1500</td>\n      <td>0</td>\n      <td>1500</td>\n    </tr>\n    <tr>\n      <th>3</th>\n      <td>1</td>\n      <td>150 and above poverty level</td>\n      <td>71</td>\n      <td>High school or less</td>\n      <td>N/A</td>\n      <td>2</td>\n      <td>0</td>\n      <td>1</td>\n      <td>ME</td>\n      <td>2</td>\n      <td>...</td>\n      <td>1</td>\n      <td>1</td>\n      <td>1</td>\n      <td>2</td>\n      <td>2</td>\n      <td>2</td>\n      <td>2</td>\n      <td>100</td>\n      <td>1680</td>\n      <td>0</td>\n    </tr>\n    <tr>\n      <th>4</th>\n      <td>1</td>\n      <td>150 and above poverty level</td>\n      <td>54</td>\n      <td>High school or less</td>\n      <td>Working</td>\n      <td>2</td>\n      <td>0</td>\n      <td>1</td>\n      <td>ME</td>\n      <td>2</td>\n      <td>...</td>\n      <td>2</td>\n      <td>2</td>\n      <td>2</td>\n      <td>2</td>\n      <td>2</td>\n      <td>2</td>\n      <td>2</td>\n      <td>2300</td>\n      <td>0</td>\n      <td>1200</td>\n    </tr>\n  </tbody>\n</table>\n<p>5 rows × 37 columns</p>\n</div>"
     },
     "metadata": {},
     "execution_count": 25
    }
   ],
   "source": [
    "insurance_df_subset.head()"
   ]
  },
  {
   "source": [
    "<H1> Scenario 1 "
   ],
   "cell_type": "markdown",
   "metadata": {}
  },
  {
   "cell_type": "code",
   "execution_count": 127,
   "metadata": {},
   "outputs": [],
   "source": [
    "# Age, Employment, Area, Income, Dependents, Premium"
   ]
  },
  {
   "cell_type": "code",
   "execution_count": 49,
   "metadata": {},
   "outputs": [],
   "source": [
    "TARGET_VARIABLES_1 = {\n",
    "    'A_AGE': 'Age',\n",
    "    'A_LFSR': 'Employment Status',\n",
    "    'FOWNU18': 'Number of Children',\n",
    "    'GEREG': 'Geographic Region',\n",
    "    'PTOT_R': 'Total Income (code)',\n",
    "    'DIS_HP': 'Health Problems',\n",
    "\n",
    "    # 'HIPAID': 'Employer Paid',\n",
    "    # 'NOW_HIPAID': 'Employer Currently Paid',\n",
    "    'NOW_COV': 'Coverage Now',\n",
    "    # 'COV': 'Coverage Last Year', #0: infant, #1: Yes, #2: No\n",
    "    # 'NOW_PUB': 'Public Coverage Now',\n",
    "    # 'PUB': 'Public Coverage Last Year',\n",
    "    # 'PRIV': 'Private Coverage Last Year',\n",
    "    # 'MOOP2': 'Total Out-of-Pocket Expenditures',\n",
    "    'PHIP_VAL': 'Total Premium Paid',\n",
    "\n",
    "}"
   ]
  },
  {
   "cell_type": "code",
   "execution_count": 22,
   "metadata": {},
   "outputs": [
    {
     "output_type": "execute_result",
     "data": {
      "text/plain": [
       "   Race                Poverty Level  Age Educational Attainment  \\\n",
       "0     1  150 and above poverty level   63    High school or less   \n",
       "1     1  150 and above poverty level   67    High school or less   \n",
       "2     1  150 and above poverty level   64    High school or less   \n",
       "3     1  150 and above poverty level   71    High school or less   \n",
       "4     1  150 and above poverty level   54    High school or less   \n",
       "\n",
       "  Employment Status  Gender  Number of Children  Geographic Region State Code  \\\n",
       "0           Working       2                   0                  1         ME   \n",
       "1               N/A       1                   0                  1         ME   \n",
       "2           Working       1                   0                  1         ME   \n",
       "3               N/A       2                   0                  1         ME   \n",
       "4           Working       2                   0                  1         ME   \n",
       "\n",
       "   Health Problems  ...  Medicare Coverage Now  TRICARE Coverage Last Year  \\\n",
       "0                2  ...                      2                           2   \n",
       "1                2  ...                      1                           2   \n",
       "2                2  ...                      2                           1   \n",
       "3                2  ...                      1                           1   \n",
       "4                2  ...                      2                           2   \n",
       "\n",
       "  TRICARE Coverage Now  VACARE Coverage Last Year  VACARE Coverage Now  \\\n",
       "0                    2                          2                    2   \n",
       "1                    2                          2                    2   \n",
       "2                    1                          2                    2   \n",
       "3                    1                          2                    2   \n",
       "4                    2                          2                    2   \n",
       "\n",
       "   Medicaid Coverage Last Year  Medicaid Coverage Now  \\\n",
       "0                            2                      2   \n",
       "1                            2                      2   \n",
       "2                            2                      2   \n",
       "3                            2                      2   \n",
       "4                            2                      2   \n",
       "\n",
       "   Total Out-of-Pocket Expenditures  Medicare premium amount  \\\n",
       "0                              7550                        0   \n",
       "1                              1750                     1626   \n",
       "2                              1500                        0   \n",
       "3                               100                     1680   \n",
       "4                              2300                        0   \n",
       "\n",
       "   Total Premium Paid  \n",
       "0                5800  \n",
       "1                   0  \n",
       "2                1500  \n",
       "3                   0  \n",
       "4                1200  \n",
       "\n",
       "[5 rows x 37 columns]"
      ],
      "text/html": "<div>\n<style scoped>\n    .dataframe tbody tr th:only-of-type {\n        vertical-align: middle;\n    }\n\n    .dataframe tbody tr th {\n        vertical-align: top;\n    }\n\n    .dataframe thead th {\n        text-align: right;\n    }\n</style>\n<table border=\"1\" class=\"dataframe\">\n  <thead>\n    <tr style=\"text-align: right;\">\n      <th></th>\n      <th>Race</th>\n      <th>Poverty Level</th>\n      <th>Age</th>\n      <th>Educational Attainment</th>\n      <th>Employment Status</th>\n      <th>Gender</th>\n      <th>Number of Children</th>\n      <th>Geographic Region</th>\n      <th>State Code</th>\n      <th>Health Problems</th>\n      <th>...</th>\n      <th>Medicare Coverage Now</th>\n      <th>TRICARE Coverage Last Year</th>\n      <th>TRICARE Coverage Now</th>\n      <th>VACARE Coverage Last Year</th>\n      <th>VACARE Coverage Now</th>\n      <th>Medicaid Coverage Last Year</th>\n      <th>Medicaid Coverage Now</th>\n      <th>Total Out-of-Pocket Expenditures</th>\n      <th>Medicare premium amount</th>\n      <th>Total Premium Paid</th>\n    </tr>\n  </thead>\n  <tbody>\n    <tr>\n      <th>0</th>\n      <td>1</td>\n      <td>150 and above poverty level</td>\n      <td>63</td>\n      <td>High school or less</td>\n      <td>Working</td>\n      <td>2</td>\n      <td>0</td>\n      <td>1</td>\n      <td>ME</td>\n      <td>2</td>\n      <td>...</td>\n      <td>2</td>\n      <td>2</td>\n      <td>2</td>\n      <td>2</td>\n      <td>2</td>\n      <td>2</td>\n      <td>2</td>\n      <td>7550</td>\n      <td>0</td>\n      <td>5800</td>\n    </tr>\n    <tr>\n      <th>1</th>\n      <td>1</td>\n      <td>150 and above poverty level</td>\n      <td>67</td>\n      <td>High school or less</td>\n      <td>N/A</td>\n      <td>1</td>\n      <td>0</td>\n      <td>1</td>\n      <td>ME</td>\n      <td>2</td>\n      <td>...</td>\n      <td>1</td>\n      <td>2</td>\n      <td>2</td>\n      <td>2</td>\n      <td>2</td>\n      <td>2</td>\n      <td>2</td>\n      <td>1750</td>\n      <td>1626</td>\n      <td>0</td>\n    </tr>\n    <tr>\n      <th>2</th>\n      <td>1</td>\n      <td>150 and above poverty level</td>\n      <td>64</td>\n      <td>High school or less</td>\n      <td>Working</td>\n      <td>1</td>\n      <td>0</td>\n      <td>1</td>\n      <td>ME</td>\n      <td>2</td>\n      <td>...</td>\n      <td>2</td>\n      <td>1</td>\n      <td>1</td>\n      <td>2</td>\n      <td>2</td>\n      <td>2</td>\n      <td>2</td>\n      <td>1500</td>\n      <td>0</td>\n      <td>1500</td>\n    </tr>\n    <tr>\n      <th>3</th>\n      <td>1</td>\n      <td>150 and above poverty level</td>\n      <td>71</td>\n      <td>High school or less</td>\n      <td>N/A</td>\n      <td>2</td>\n      <td>0</td>\n      <td>1</td>\n      <td>ME</td>\n      <td>2</td>\n      <td>...</td>\n      <td>1</td>\n      <td>1</td>\n      <td>1</td>\n      <td>2</td>\n      <td>2</td>\n      <td>2</td>\n      <td>2</td>\n      <td>100</td>\n      <td>1680</td>\n      <td>0</td>\n    </tr>\n    <tr>\n      <th>4</th>\n      <td>1</td>\n      <td>150 and above poverty level</td>\n      <td>54</td>\n      <td>High school or less</td>\n      <td>Working</td>\n      <td>2</td>\n      <td>0</td>\n      <td>1</td>\n      <td>ME</td>\n      <td>2</td>\n      <td>...</td>\n      <td>2</td>\n      <td>2</td>\n      <td>2</td>\n      <td>2</td>\n      <td>2</td>\n      <td>2</td>\n      <td>2</td>\n      <td>2300</td>\n      <td>0</td>\n      <td>1200</td>\n    </tr>\n  </tbody>\n</table>\n<p>5 rows × 37 columns</p>\n</div>"
     },
     "metadata": {},
     "execution_count": 22
    }
   ],
   "source": [
    "insurance_df_subset.head()"
   ]
  },
  {
   "cell_type": "code",
   "execution_count": 45,
   "metadata": {},
   "outputs": [
    {
     "output_type": "execute_result",
     "data": {
      "text/plain": [
       "231.0381906825569"
      ]
     },
     "metadata": {},
     "execution_count": 45
    }
   ],
   "source": [
    "DF_TARGET_1['PHIP_VAL'].mean()/12"
   ]
  },
  {
   "cell_type": "code",
   "execution_count": 48,
   "metadata": {},
   "outputs": [
    {
     "output_type": "execute_result",
     "data": {
      "text/plain": [
       "        A_AGE  A_LFSR  GEREG  PTOT_R  DIS_HP  PHIP_VAL\n",
       "35220      42       7      2       1       1      4420\n",
       "122395     49       1      3      41       2      5000\n",
       "61640      23       1      2      12       2       250\n",
       "45922      62       7      2      11       2      6800\n",
       "117724     43       3      3       1       2       400"
      ],
      "text/html": "<div>\n<style scoped>\n    .dataframe tbody tr th:only-of-type {\n        vertical-align: middle;\n    }\n\n    .dataframe tbody tr th {\n        vertical-align: top;\n    }\n\n    .dataframe thead th {\n        text-align: right;\n    }\n</style>\n<table border=\"1\" class=\"dataframe\">\n  <thead>\n    <tr style=\"text-align: right;\">\n      <th></th>\n      <th>A_AGE</th>\n      <th>A_LFSR</th>\n      <th>GEREG</th>\n      <th>PTOT_R</th>\n      <th>DIS_HP</th>\n      <th>PHIP_VAL</th>\n    </tr>\n  </thead>\n  <tbody>\n    <tr>\n      <th>35220</th>\n      <td>42</td>\n      <td>7</td>\n      <td>2</td>\n      <td>1</td>\n      <td>1</td>\n      <td>4420</td>\n    </tr>\n    <tr>\n      <th>122395</th>\n      <td>49</td>\n      <td>1</td>\n      <td>3</td>\n      <td>41</td>\n      <td>2</td>\n      <td>5000</td>\n    </tr>\n    <tr>\n      <th>61640</th>\n      <td>23</td>\n      <td>1</td>\n      <td>2</td>\n      <td>12</td>\n      <td>2</td>\n      <td>250</td>\n    </tr>\n    <tr>\n      <th>45922</th>\n      <td>62</td>\n      <td>7</td>\n      <td>2</td>\n      <td>11</td>\n      <td>2</td>\n      <td>6800</td>\n    </tr>\n    <tr>\n      <th>117724</th>\n      <td>43</td>\n      <td>3</td>\n      <td>3</td>\n      <td>1</td>\n      <td>2</td>\n      <td>400</td>\n    </tr>\n  </tbody>\n</table>\n</div>"
     },
     "metadata": {},
     "execution_count": 48
    }
   ],
   "source": [
    "DF_TARGET_1 = insurance_df_subset[TARGET_VARIABLES_1.keys()].sample(3000, replace = False)\n",
    "DF_TARGET_1 = DF_TARGET_1[DF_TARGET_1['NOW_COV'] == 1].drop(['NOW_COV'], axis = 1) #insured and paid only\n",
    "DF_TARGET_1 = DF_TARGET_1[DF_TARGET_1['PHIP_VAL'] > 0] #amount > 0\n",
    "DF_TARGET_1 = DF_TARGET_1[DF_TARGET_1['A_AGE'] >= 18]#adult only\n",
    "\n",
    "DF_TARGET_1.head()"
   ]
  },
  {
   "cell_type": "code",
   "execution_count": 383,
   "metadata": {},
   "outputs": [
    {
     "output_type": "execute_result",
     "data": {
      "text/plain": [
       "        A_AGE  A_LFSR  FOWNU18  GEREG  PTOT_R  DIS_HP  HIPAID  NOW_HIPAID  \\\n",
       "138917     38       1        2      4      28       1       2           2   \n",
       "142026     59       7        0      4      19       1       2           2   \n",
       "59497      64       7        0      2       1       1       0           0   \n",
       "78927      53       7        1      3      38       1       2           2   \n",
       "2254       50       7        0      1       9       1       2           2   \n",
       "134026     42       1        2      3      33       1       2           2   \n",
       "65357      65       1        0      2      22       1       2           2   \n",
       "179421     64       1        0      4      41       1       2           2   \n",
       "138551     25       1        0      4      24       1       2           0   \n",
       "178211     24       7        0      4      15       1       2           2   \n",
       "169776     60       7        3      4       1       1       0           0   \n",
       "158065     55       2        0      4      41       1       2           2   \n",
       "177478     58       7        0      4       4       1       0           0   \n",
       "58147      27       1        0      2      21       1       2           2   \n",
       "68701      41       7        1      3      13       1       2           2   \n",
       "29796      64       7        0      2       5       1       0           0   \n",
       "64965      27       1        0      2      11       1       2           2   \n",
       "193297     57       7        0      4      19       1       2           2   \n",
       "38065      58       1        0      2      37       1       2           2   \n",
       "131917     31       1        1      3      41       1       2           2   \n",
       "\n",
       "        COV  NOW_PUB  PUB  PRIV  PHIP_VAL  \n",
       "138917    1        2    2     1      4000  \n",
       "142026    1        2    2     1      1400  \n",
       "59497     1        2    2     1       948  \n",
       "78927     1        2    2     1      6480  \n",
       "2254      1        2    2     1      1300  \n",
       "134026    1        2    2     1       676  \n",
       "65357     1        2    2     1      1400  \n",
       "179421    1        2    2     1      1000  \n",
       "138551    1        2    2     1      3000  \n",
       "178211    1        2    2     1      1200  \n",
       "169776    1        2    2     1      3000  \n",
       "158065    1        2    2     1      6000  \n",
       "177478    1        2    2     1       250  \n",
       "58147     1        2    2     1      2400  \n",
       "68701     1        2    2     1      1920  \n",
       "29796     1        2    2     1      3500  \n",
       "64965     1        2    2     1      2400  \n",
       "193297    1        2    2     1      1200  \n",
       "38065     1        2    2     1      2700  \n",
       "131917    1        2    2     1      7800  "
      ],
      "text/html": "<div>\n<style scoped>\n    .dataframe tbody tr th:only-of-type {\n        vertical-align: middle;\n    }\n\n    .dataframe tbody tr th {\n        vertical-align: top;\n    }\n\n    .dataframe thead th {\n        text-align: right;\n    }\n</style>\n<table border=\"1\" class=\"dataframe\">\n  <thead>\n    <tr style=\"text-align: right;\">\n      <th></th>\n      <th>A_AGE</th>\n      <th>A_LFSR</th>\n      <th>FOWNU18</th>\n      <th>GEREG</th>\n      <th>PTOT_R</th>\n      <th>DIS_HP</th>\n      <th>HIPAID</th>\n      <th>NOW_HIPAID</th>\n      <th>COV</th>\n      <th>NOW_PUB</th>\n      <th>PUB</th>\n      <th>PRIV</th>\n      <th>PHIP_VAL</th>\n    </tr>\n  </thead>\n  <tbody>\n    <tr>\n      <th>138917</th>\n      <td>38</td>\n      <td>1</td>\n      <td>2</td>\n      <td>4</td>\n      <td>28</td>\n      <td>1</td>\n      <td>2</td>\n      <td>2</td>\n      <td>1</td>\n      <td>2</td>\n      <td>2</td>\n      <td>1</td>\n      <td>4000</td>\n    </tr>\n    <tr>\n      <th>142026</th>\n      <td>59</td>\n      <td>7</td>\n      <td>0</td>\n      <td>4</td>\n      <td>19</td>\n      <td>1</td>\n      <td>2</td>\n      <td>2</td>\n      <td>1</td>\n      <td>2</td>\n      <td>2</td>\n      <td>1</td>\n      <td>1400</td>\n    </tr>\n    <tr>\n      <th>59497</th>\n      <td>64</td>\n      <td>7</td>\n      <td>0</td>\n      <td>2</td>\n      <td>1</td>\n      <td>1</td>\n      <td>0</td>\n      <td>0</td>\n      <td>1</td>\n      <td>2</td>\n      <td>2</td>\n      <td>1</td>\n      <td>948</td>\n    </tr>\n    <tr>\n      <th>78927</th>\n      <td>53</td>\n      <td>7</td>\n      <td>1</td>\n      <td>3</td>\n      <td>38</td>\n      <td>1</td>\n      <td>2</td>\n      <td>2</td>\n      <td>1</td>\n      <td>2</td>\n      <td>2</td>\n      <td>1</td>\n      <td>6480</td>\n    </tr>\n    <tr>\n      <th>2254</th>\n      <td>50</td>\n      <td>7</td>\n      <td>0</td>\n      <td>1</td>\n      <td>9</td>\n      <td>1</td>\n      <td>2</td>\n      <td>2</td>\n      <td>1</td>\n      <td>2</td>\n      <td>2</td>\n      <td>1</td>\n      <td>1300</td>\n    </tr>\n    <tr>\n      <th>134026</th>\n      <td>42</td>\n      <td>1</td>\n      <td>2</td>\n      <td>3</td>\n      <td>33</td>\n      <td>1</td>\n      <td>2</td>\n      <td>2</td>\n      <td>1</td>\n      <td>2</td>\n      <td>2</td>\n      <td>1</td>\n      <td>676</td>\n    </tr>\n    <tr>\n      <th>65357</th>\n      <td>65</td>\n      <td>1</td>\n      <td>0</td>\n      <td>2</td>\n      <td>22</td>\n      <td>1</td>\n      <td>2</td>\n      <td>2</td>\n      <td>1</td>\n      <td>2</td>\n      <td>2</td>\n      <td>1</td>\n      <td>1400</td>\n    </tr>\n    <tr>\n      <th>179421</th>\n      <td>64</td>\n      <td>1</td>\n      <td>0</td>\n      <td>4</td>\n      <td>41</td>\n      <td>1</td>\n      <td>2</td>\n      <td>2</td>\n      <td>1</td>\n      <td>2</td>\n      <td>2</td>\n      <td>1</td>\n      <td>1000</td>\n    </tr>\n    <tr>\n      <th>138551</th>\n      <td>25</td>\n      <td>1</td>\n      <td>0</td>\n      <td>4</td>\n      <td>24</td>\n      <td>1</td>\n      <td>2</td>\n      <td>0</td>\n      <td>1</td>\n      <td>2</td>\n      <td>2</td>\n      <td>1</td>\n      <td>3000</td>\n    </tr>\n    <tr>\n      <th>178211</th>\n      <td>24</td>\n      <td>7</td>\n      <td>0</td>\n      <td>4</td>\n      <td>15</td>\n      <td>1</td>\n      <td>2</td>\n      <td>2</td>\n      <td>1</td>\n      <td>2</td>\n      <td>2</td>\n      <td>1</td>\n      <td>1200</td>\n    </tr>\n    <tr>\n      <th>169776</th>\n      <td>60</td>\n      <td>7</td>\n      <td>3</td>\n      <td>4</td>\n      <td>1</td>\n      <td>1</td>\n      <td>0</td>\n      <td>0</td>\n      <td>1</td>\n      <td>2</td>\n      <td>2</td>\n      <td>1</td>\n      <td>3000</td>\n    </tr>\n    <tr>\n      <th>158065</th>\n      <td>55</td>\n      <td>2</td>\n      <td>0</td>\n      <td>4</td>\n      <td>41</td>\n      <td>1</td>\n      <td>2</td>\n      <td>2</td>\n      <td>1</td>\n      <td>2</td>\n      <td>2</td>\n      <td>1</td>\n      <td>6000</td>\n    </tr>\n    <tr>\n      <th>177478</th>\n      <td>58</td>\n      <td>7</td>\n      <td>0</td>\n      <td>4</td>\n      <td>4</td>\n      <td>1</td>\n      <td>0</td>\n      <td>0</td>\n      <td>1</td>\n      <td>2</td>\n      <td>2</td>\n      <td>1</td>\n      <td>250</td>\n    </tr>\n    <tr>\n      <th>58147</th>\n      <td>27</td>\n      <td>1</td>\n      <td>0</td>\n      <td>2</td>\n      <td>21</td>\n      <td>1</td>\n      <td>2</td>\n      <td>2</td>\n      <td>1</td>\n      <td>2</td>\n      <td>2</td>\n      <td>1</td>\n      <td>2400</td>\n    </tr>\n    <tr>\n      <th>68701</th>\n      <td>41</td>\n      <td>7</td>\n      <td>1</td>\n      <td>3</td>\n      <td>13</td>\n      <td>1</td>\n      <td>2</td>\n      <td>2</td>\n      <td>1</td>\n      <td>2</td>\n      <td>2</td>\n      <td>1</td>\n      <td>1920</td>\n    </tr>\n    <tr>\n      <th>29796</th>\n      <td>64</td>\n      <td>7</td>\n      <td>0</td>\n      <td>2</td>\n      <td>5</td>\n      <td>1</td>\n      <td>0</td>\n      <td>0</td>\n      <td>1</td>\n      <td>2</td>\n      <td>2</td>\n      <td>1</td>\n      <td>3500</td>\n    </tr>\n    <tr>\n      <th>64965</th>\n      <td>27</td>\n      <td>1</td>\n      <td>0</td>\n      <td>2</td>\n      <td>11</td>\n      <td>1</td>\n      <td>2</td>\n      <td>2</td>\n      <td>1</td>\n      <td>2</td>\n      <td>2</td>\n      <td>1</td>\n      <td>2400</td>\n    </tr>\n    <tr>\n      <th>193297</th>\n      <td>57</td>\n      <td>7</td>\n      <td>0</td>\n      <td>4</td>\n      <td>19</td>\n      <td>1</td>\n      <td>2</td>\n      <td>2</td>\n      <td>1</td>\n      <td>2</td>\n      <td>2</td>\n      <td>1</td>\n      <td>1200</td>\n    </tr>\n    <tr>\n      <th>38065</th>\n      <td>58</td>\n      <td>1</td>\n      <td>0</td>\n      <td>2</td>\n      <td>37</td>\n      <td>1</td>\n      <td>2</td>\n      <td>2</td>\n      <td>1</td>\n      <td>2</td>\n      <td>2</td>\n      <td>1</td>\n      <td>2700</td>\n    </tr>\n    <tr>\n      <th>131917</th>\n      <td>31</td>\n      <td>1</td>\n      <td>1</td>\n      <td>3</td>\n      <td>41</td>\n      <td>1</td>\n      <td>2</td>\n      <td>2</td>\n      <td>1</td>\n      <td>2</td>\n      <td>2</td>\n      <td>1</td>\n      <td>7800</td>\n    </tr>\n  </tbody>\n</table>\n</div>"
     },
     "metadata": {},
     "execution_count": 383
    }
   ],
   "source": [
    "DF_TARGET_1[(DF_TARGET_1['DIS_HP'] == 1) & (DF_TARGET_1['PRIV'] == 1) & (DF_TARGET_1['NOW_PUB'] == 2)]"
   ]
  },
  {
   "cell_type": "code",
   "execution_count": 407,
   "metadata": {},
   "outputs": [
    {
     "output_type": "execute_result",
     "data": {
      "text/plain": [
       "NOW_PUB  PUB  PRIV  PHIP_VAL\n",
       "1        1    1     0            84\n",
       "              2     0           420\n",
       "         2    1     0             1\n",
       "              2     0             4\n",
       "2        1    2     0             3\n",
       "         2    1     0           518\n",
       "              2     0             8\n",
       "dtype: int64"
      ]
     },
     "metadata": {},
     "execution_count": 407
    }
   ],
   "source": [
    "DF_TARGET_1[DF_TARGET_1['PHIP_VAL'] == 0][['NOW_PUB','PUB','PRIV', 'PHIP_VAL']].groupby(['NOW_PUB', 'PUB', 'PRIV', 'PHIP_VAL']).size()\n"
   ]
  },
  {
   "cell_type": "code",
   "execution_count": 384,
   "metadata": {},
   "outputs": [
    {
     "output_type": "execute_result",
     "data": {
      "text/plain": [
       "               A_AGE    A_LFSR   FOWNU18     GEREG    PTOT_R    DIS_HP  \\\n",
       "A_AGE       1.000000  0.517965 -0.296751 -0.009336 -0.079414 -0.140081   \n",
       "A_LFSR      0.517965  1.000000 -0.192353 -0.003993 -0.444629 -0.288480   \n",
       "FOWNU18    -0.296751 -0.192353  1.000000 -0.008655  0.151775  0.067116   \n",
       "GEREG      -0.009336 -0.003993 -0.008655  1.000000 -0.011875  0.013577   \n",
       "PTOT_R     -0.079414 -0.444629  0.151775 -0.011875  1.000000  0.111490   \n",
       "DIS_HP     -0.140081 -0.288480  0.067116  0.013577  0.111490  1.000000   \n",
       "HIPAID     -0.340716 -0.464296  0.090117 -0.061854  0.295460  0.131522   \n",
       "NOW_HIPAID -0.349057 -0.463069  0.093560 -0.072877  0.280761  0.133759   \n",
       "COV        -0.004811 -0.020465 -0.018977  0.039339 -0.050665  0.007840   \n",
       "NOW_PUB    -0.630592 -0.616052  0.240828  0.004946  0.276252  0.201608   \n",
       "PUB        -0.622442 -0.607784  0.230779 -0.003157  0.280029  0.199926   \n",
       "PRIV        0.285379  0.310511 -0.122974  0.005621 -0.216377 -0.125387   \n",
       "PHIP_VAL   -0.061562 -0.104355  0.140974 -0.052908  0.222399  0.074406   \n",
       "\n",
       "              HIPAID  NOW_HIPAID       COV   NOW_PUB       PUB      PRIV  \\\n",
       "A_AGE      -0.340716   -0.349057 -0.004811 -0.630592 -0.622442  0.285379   \n",
       "A_LFSR     -0.464296   -0.463069 -0.020465 -0.616052 -0.607784  0.310511   \n",
       "FOWNU18     0.090117    0.093560 -0.018977  0.240828  0.230779 -0.122974   \n",
       "GEREG      -0.061854   -0.072877  0.039339  0.004946 -0.003157  0.005621   \n",
       "PTOT_R      0.295460    0.280761 -0.050665  0.276252  0.280029 -0.216377   \n",
       "DIS_HP      0.131522    0.133759  0.007840  0.201608  0.199926 -0.125387   \n",
       "HIPAID      1.000000    0.963293 -0.045293  0.510245  0.505962 -0.451222   \n",
       "NOW_HIPAID  0.963293    1.000000 -0.044192  0.518521  0.509335 -0.433073   \n",
       "COV        -0.045293   -0.044192  1.000000  0.019100  0.019204  0.100377   \n",
       "NOW_PUB     0.510245    0.518521  0.019100  1.000000  0.989125 -0.537999   \n",
       "PUB         0.505962    0.509335  0.019204  0.989125  1.000000 -0.535054   \n",
       "PRIV       -0.451222   -0.433073  0.100377 -0.537999 -0.535054  1.000000   \n",
       "PHIP_VAL    0.185401    0.177842 -0.020460  0.152603  0.159789 -0.168580   \n",
       "\n",
       "            PHIP_VAL  \n",
       "A_AGE      -0.061562  \n",
       "A_LFSR     -0.104355  \n",
       "FOWNU18     0.140974  \n",
       "GEREG      -0.052908  \n",
       "PTOT_R      0.222399  \n",
       "DIS_HP      0.074406  \n",
       "HIPAID      0.185401  \n",
       "NOW_HIPAID  0.177842  \n",
       "COV        -0.020460  \n",
       "NOW_PUB     0.152603  \n",
       "PUB         0.159789  \n",
       "PRIV       -0.168580  \n",
       "PHIP_VAL    1.000000  "
      ],
      "text/html": "<div>\n<style scoped>\n    .dataframe tbody tr th:only-of-type {\n        vertical-align: middle;\n    }\n\n    .dataframe tbody tr th {\n        vertical-align: top;\n    }\n\n    .dataframe thead th {\n        text-align: right;\n    }\n</style>\n<table border=\"1\" class=\"dataframe\">\n  <thead>\n    <tr style=\"text-align: right;\">\n      <th></th>\n      <th>A_AGE</th>\n      <th>A_LFSR</th>\n      <th>FOWNU18</th>\n      <th>GEREG</th>\n      <th>PTOT_R</th>\n      <th>DIS_HP</th>\n      <th>HIPAID</th>\n      <th>NOW_HIPAID</th>\n      <th>COV</th>\n      <th>NOW_PUB</th>\n      <th>PUB</th>\n      <th>PRIV</th>\n      <th>PHIP_VAL</th>\n    </tr>\n  </thead>\n  <tbody>\n    <tr>\n      <th>A_AGE</th>\n      <td>1.000000</td>\n      <td>0.517965</td>\n      <td>-0.296751</td>\n      <td>-0.009336</td>\n      <td>-0.079414</td>\n      <td>-0.140081</td>\n      <td>-0.340716</td>\n      <td>-0.349057</td>\n      <td>-0.004811</td>\n      <td>-0.630592</td>\n      <td>-0.622442</td>\n      <td>0.285379</td>\n      <td>-0.061562</td>\n    </tr>\n    <tr>\n      <th>A_LFSR</th>\n      <td>0.517965</td>\n      <td>1.000000</td>\n      <td>-0.192353</td>\n      <td>-0.003993</td>\n      <td>-0.444629</td>\n      <td>-0.288480</td>\n      <td>-0.464296</td>\n      <td>-0.463069</td>\n      <td>-0.020465</td>\n      <td>-0.616052</td>\n      <td>-0.607784</td>\n      <td>0.310511</td>\n      <td>-0.104355</td>\n    </tr>\n    <tr>\n      <th>FOWNU18</th>\n      <td>-0.296751</td>\n      <td>-0.192353</td>\n      <td>1.000000</td>\n      <td>-0.008655</td>\n      <td>0.151775</td>\n      <td>0.067116</td>\n      <td>0.090117</td>\n      <td>0.093560</td>\n      <td>-0.018977</td>\n      <td>0.240828</td>\n      <td>0.230779</td>\n      <td>-0.122974</td>\n      <td>0.140974</td>\n    </tr>\n    <tr>\n      <th>GEREG</th>\n      <td>-0.009336</td>\n      <td>-0.003993</td>\n      <td>-0.008655</td>\n      <td>1.000000</td>\n      <td>-0.011875</td>\n      <td>0.013577</td>\n      <td>-0.061854</td>\n      <td>-0.072877</td>\n      <td>0.039339</td>\n      <td>0.004946</td>\n      <td>-0.003157</td>\n      <td>0.005621</td>\n      <td>-0.052908</td>\n    </tr>\n    <tr>\n      <th>PTOT_R</th>\n      <td>-0.079414</td>\n      <td>-0.444629</td>\n      <td>0.151775</td>\n      <td>-0.011875</td>\n      <td>1.000000</td>\n      <td>0.111490</td>\n      <td>0.295460</td>\n      <td>0.280761</td>\n      <td>-0.050665</td>\n      <td>0.276252</td>\n      <td>0.280029</td>\n      <td>-0.216377</td>\n      <td>0.222399</td>\n    </tr>\n    <tr>\n      <th>DIS_HP</th>\n      <td>-0.140081</td>\n      <td>-0.288480</td>\n      <td>0.067116</td>\n      <td>0.013577</td>\n      <td>0.111490</td>\n      <td>1.000000</td>\n      <td>0.131522</td>\n      <td>0.133759</td>\n      <td>0.007840</td>\n      <td>0.201608</td>\n      <td>0.199926</td>\n      <td>-0.125387</td>\n      <td>0.074406</td>\n    </tr>\n    <tr>\n      <th>HIPAID</th>\n      <td>-0.340716</td>\n      <td>-0.464296</td>\n      <td>0.090117</td>\n      <td>-0.061854</td>\n      <td>0.295460</td>\n      <td>0.131522</td>\n      <td>1.000000</td>\n      <td>0.963293</td>\n      <td>-0.045293</td>\n      <td>0.510245</td>\n      <td>0.505962</td>\n      <td>-0.451222</td>\n      <td>0.185401</td>\n    </tr>\n    <tr>\n      <th>NOW_HIPAID</th>\n      <td>-0.349057</td>\n      <td>-0.463069</td>\n      <td>0.093560</td>\n      <td>-0.072877</td>\n      <td>0.280761</td>\n      <td>0.133759</td>\n      <td>0.963293</td>\n      <td>1.000000</td>\n      <td>-0.044192</td>\n      <td>0.518521</td>\n      <td>0.509335</td>\n      <td>-0.433073</td>\n      <td>0.177842</td>\n    </tr>\n    <tr>\n      <th>COV</th>\n      <td>-0.004811</td>\n      <td>-0.020465</td>\n      <td>-0.018977</td>\n      <td>0.039339</td>\n      <td>-0.050665</td>\n      <td>0.007840</td>\n      <td>-0.045293</td>\n      <td>-0.044192</td>\n      <td>1.000000</td>\n      <td>0.019100</td>\n      <td>0.019204</td>\n      <td>0.100377</td>\n      <td>-0.020460</td>\n    </tr>\n    <tr>\n      <th>NOW_PUB</th>\n      <td>-0.630592</td>\n      <td>-0.616052</td>\n      <td>0.240828</td>\n      <td>0.004946</td>\n      <td>0.276252</td>\n      <td>0.201608</td>\n      <td>0.510245</td>\n      <td>0.518521</td>\n      <td>0.019100</td>\n      <td>1.000000</td>\n      <td>0.989125</td>\n      <td>-0.537999</td>\n      <td>0.152603</td>\n    </tr>\n    <tr>\n      <th>PUB</th>\n      <td>-0.622442</td>\n      <td>-0.607784</td>\n      <td>0.230779</td>\n      <td>-0.003157</td>\n      <td>0.280029</td>\n      <td>0.199926</td>\n      <td>0.505962</td>\n      <td>0.509335</td>\n      <td>0.019204</td>\n      <td>0.989125</td>\n      <td>1.000000</td>\n      <td>-0.535054</td>\n      <td>0.159789</td>\n    </tr>\n    <tr>\n      <th>PRIV</th>\n      <td>0.285379</td>\n      <td>0.310511</td>\n      <td>-0.122974</td>\n      <td>0.005621</td>\n      <td>-0.216377</td>\n      <td>-0.125387</td>\n      <td>-0.451222</td>\n      <td>-0.433073</td>\n      <td>0.100377</td>\n      <td>-0.537999</td>\n      <td>-0.535054</td>\n      <td>1.000000</td>\n      <td>-0.168580</td>\n    </tr>\n    <tr>\n      <th>PHIP_VAL</th>\n      <td>-0.061562</td>\n      <td>-0.104355</td>\n      <td>0.140974</td>\n      <td>-0.052908</td>\n      <td>0.222399</td>\n      <td>0.074406</td>\n      <td>0.185401</td>\n      <td>0.177842</td>\n      <td>-0.020460</td>\n      <td>0.152603</td>\n      <td>0.159789</td>\n      <td>-0.168580</td>\n      <td>1.000000</td>\n    </tr>\n  </tbody>\n</table>\n</div>"
     },
     "metadata": {},
     "execution_count": 384
    }
   ],
   "source": [
    "DF_TARGET_1.corr()"
   ]
  },
  {
   "cell_type": "code",
   "execution_count": 386,
   "metadata": {},
   "outputs": [
    {
     "output_type": "display_data",
     "data": {
      "text/plain": "        A_AGE  A_LFSR  FOWNU18  GEREG  PTOT_R  DIS_HP  HIPAID  NOW_HIPAID  \\\n75191      26       1        2      3      15       2       2           2   \n23129      40       1        1      1      41       2       2           2   \n85967      47       1        2      3      28       2       0           0   \n138321     47       1        3      4      41       2       2           2   \n102885     50       1        0      3      20       2       2           2   \n\n        COV  NOW_PUB  PUB  PRIV  \n75191     1        2    2     1  \n23129     1        2    2     1  \n85967     1        2    2     1  \n138321    1        2    2     1  \n102885    1        2    2     1  ",
      "text/html": "<div>\n<style scoped>\n    .dataframe tbody tr th:only-of-type {\n        vertical-align: middle;\n    }\n\n    .dataframe tbody tr th {\n        vertical-align: top;\n    }\n\n    .dataframe thead th {\n        text-align: right;\n    }\n</style>\n<table border=\"1\" class=\"dataframe\">\n  <thead>\n    <tr style=\"text-align: right;\">\n      <th></th>\n      <th>A_AGE</th>\n      <th>A_LFSR</th>\n      <th>FOWNU18</th>\n      <th>GEREG</th>\n      <th>PTOT_R</th>\n      <th>DIS_HP</th>\n      <th>HIPAID</th>\n      <th>NOW_HIPAID</th>\n      <th>COV</th>\n      <th>NOW_PUB</th>\n      <th>PUB</th>\n      <th>PRIV</th>\n    </tr>\n  </thead>\n  <tbody>\n    <tr>\n      <th>75191</th>\n      <td>26</td>\n      <td>1</td>\n      <td>2</td>\n      <td>3</td>\n      <td>15</td>\n      <td>2</td>\n      <td>2</td>\n      <td>2</td>\n      <td>1</td>\n      <td>2</td>\n      <td>2</td>\n      <td>1</td>\n    </tr>\n    <tr>\n      <th>23129</th>\n      <td>40</td>\n      <td>1</td>\n      <td>1</td>\n      <td>1</td>\n      <td>41</td>\n      <td>2</td>\n      <td>2</td>\n      <td>2</td>\n      <td>1</td>\n      <td>2</td>\n      <td>2</td>\n      <td>1</td>\n    </tr>\n    <tr>\n      <th>85967</th>\n      <td>47</td>\n      <td>1</td>\n      <td>2</td>\n      <td>3</td>\n      <td>28</td>\n      <td>2</td>\n      <td>0</td>\n      <td>0</td>\n      <td>1</td>\n      <td>2</td>\n      <td>2</td>\n      <td>1</td>\n    </tr>\n    <tr>\n      <th>138321</th>\n      <td>47</td>\n      <td>1</td>\n      <td>3</td>\n      <td>4</td>\n      <td>41</td>\n      <td>2</td>\n      <td>2</td>\n      <td>2</td>\n      <td>1</td>\n      <td>2</td>\n      <td>2</td>\n      <td>1</td>\n    </tr>\n    <tr>\n      <th>102885</th>\n      <td>50</td>\n      <td>1</td>\n      <td>0</td>\n      <td>3</td>\n      <td>20</td>\n      <td>2</td>\n      <td>2</td>\n      <td>2</td>\n      <td>1</td>\n      <td>2</td>\n      <td>2</td>\n      <td>1</td>\n    </tr>\n  </tbody>\n</table>\n</div>"
     },
     "metadata": {}
    },
    {
     "output_type": "display_data",
     "data": {
      "text/plain": "        PHIP_VAL\n75191       0.96\n23129       9.70\n85967       0.05\n138321      8.00\n102885      4.16",
      "text/html": "<div>\n<style scoped>\n    .dataframe tbody tr th:only-of-type {\n        vertical-align: middle;\n    }\n\n    .dataframe tbody tr th {\n        vertical-align: top;\n    }\n\n    .dataframe thead th {\n        text-align: right;\n    }\n</style>\n<table border=\"1\" class=\"dataframe\">\n  <thead>\n    <tr style=\"text-align: right;\">\n      <th></th>\n      <th>PHIP_VAL</th>\n    </tr>\n  </thead>\n  <tbody>\n    <tr>\n      <th>75191</th>\n      <td>0.96</td>\n    </tr>\n    <tr>\n      <th>23129</th>\n      <td>9.70</td>\n    </tr>\n    <tr>\n      <th>85967</th>\n      <td>0.05</td>\n    </tr>\n    <tr>\n      <th>138321</th>\n      <td>8.00</td>\n    </tr>\n    <tr>\n      <th>102885</th>\n      <td>4.16</td>\n    </tr>\n  </tbody>\n</table>\n</div>"
     },
     "metadata": {}
    }
   ],
   "source": [
    "X = DF_TARGET_1.loc[:, 'A_AGE': 'PRIV']\n",
    "y = DF_TARGET_1[['PHIP_VAL']]/1000\n",
    "display(X.head())\n",
    "display(y.head())"
   ]
  },
  {
   "cell_type": "code",
   "execution_count": 387,
   "metadata": {},
   "outputs": [
    {
     "output_type": "execute_result",
     "data": {
      "text/plain": [
       "         PHIP_VAL\n",
       "count  956.000000\n",
       "mean     2.742895\n",
       "std      2.916254\n",
       "min      0.001000\n",
       "25%      0.789000\n",
       "50%      1.920000\n",
       "75%      3.600000\n",
       "max     23.000000"
      ],
      "text/html": "<div>\n<style scoped>\n    .dataframe tbody tr th:only-of-type {\n        vertical-align: middle;\n    }\n\n    .dataframe tbody tr th {\n        vertical-align: top;\n    }\n\n    .dataframe thead th {\n        text-align: right;\n    }\n</style>\n<table border=\"1\" class=\"dataframe\">\n  <thead>\n    <tr style=\"text-align: right;\">\n      <th></th>\n      <th>PHIP_VAL</th>\n    </tr>\n  </thead>\n  <tbody>\n    <tr>\n      <th>count</th>\n      <td>956.000000</td>\n    </tr>\n    <tr>\n      <th>mean</th>\n      <td>2.742895</td>\n    </tr>\n    <tr>\n      <th>std</th>\n      <td>2.916254</td>\n    </tr>\n    <tr>\n      <th>min</th>\n      <td>0.001000</td>\n    </tr>\n    <tr>\n      <th>25%</th>\n      <td>0.789000</td>\n    </tr>\n    <tr>\n      <th>50%</th>\n      <td>1.920000</td>\n    </tr>\n    <tr>\n      <th>75%</th>\n      <td>3.600000</td>\n    </tr>\n    <tr>\n      <th>max</th>\n      <td>23.000000</td>\n    </tr>\n  </tbody>\n</table>\n</div>"
     },
     "metadata": {},
     "execution_count": 387
    }
   ],
   "source": [
    "y.describe()"
   ]
  },
  {
   "cell_type": "code",
   "execution_count": 388,
   "metadata": {},
   "outputs": [],
   "source": [
    "# Train - Test\n",
    "X_trainval, X_test, y_trainval, y_test = train_test_split(X, y, test_size=0.2, random_state=69)\n",
    "# Split train\" into train-val\n",
    "X_train, X_val, y_train, y_val = train_test_split(X_trainval, y_trainval, test_size=0.1, random_state=96)"
   ]
  },
  {
   "cell_type": "code",
   "execution_count": 389,
   "metadata": {},
   "outputs": [
    {
     "output_type": "execute_result",
     "data": {
      "text/plain": [
       "        PHIP_VAL\n",
       "127128     0.130\n",
       "112590     0.500\n",
       "31861      2.400\n",
       "62200      2.800\n",
       "105350     1.900\n",
       "...          ...\n",
       "64540      0.060\n",
       "91378      2.000\n",
       "46424      1.875\n",
       "160471     0.216\n",
       "541        5.760\n",
       "\n",
       "[192 rows x 1 columns]"
      ],
      "text/html": "<div>\n<style scoped>\n    .dataframe tbody tr th:only-of-type {\n        vertical-align: middle;\n    }\n\n    .dataframe tbody tr th {\n        vertical-align: top;\n    }\n\n    .dataframe thead th {\n        text-align: right;\n    }\n</style>\n<table border=\"1\" class=\"dataframe\">\n  <thead>\n    <tr style=\"text-align: right;\">\n      <th></th>\n      <th>PHIP_VAL</th>\n    </tr>\n  </thead>\n  <tbody>\n    <tr>\n      <th>127128</th>\n      <td>0.130</td>\n    </tr>\n    <tr>\n      <th>112590</th>\n      <td>0.500</td>\n    </tr>\n    <tr>\n      <th>31861</th>\n      <td>2.400</td>\n    </tr>\n    <tr>\n      <th>62200</th>\n      <td>2.800</td>\n    </tr>\n    <tr>\n      <th>105350</th>\n      <td>1.900</td>\n    </tr>\n    <tr>\n      <th>...</th>\n      <td>...</td>\n    </tr>\n    <tr>\n      <th>64540</th>\n      <td>0.060</td>\n    </tr>\n    <tr>\n      <th>91378</th>\n      <td>2.000</td>\n    </tr>\n    <tr>\n      <th>46424</th>\n      <td>1.875</td>\n    </tr>\n    <tr>\n      <th>160471</th>\n      <td>0.216</td>\n    </tr>\n    <tr>\n      <th>541</th>\n      <td>5.760</td>\n    </tr>\n  </tbody>\n</table>\n<p>192 rows × 1 columns</p>\n</div>"
     },
     "metadata": {},
     "execution_count": 389
    }
   ],
   "source": [
    "y_test"
   ]
  },
  {
   "cell_type": "code",
   "execution_count": 390,
   "metadata": {},
   "outputs": [],
   "source": [
    "scaler_X = StandardScaler()\n",
    "X_train = scaler_X.fit_transform(X_train)\n",
    "X_val = scaler_X.transform(X_val)\n",
    "X_test = scaler_X.transform(X_test)\n",
    "# Z_test = scaler_X.transform(Z)\n",
    "scaler_y = MinMaxScaler()\n",
    "# scaler_y = RobustScaler()\n",
    "# y_train = scaler_y.fit_transform(y_train)\n",
    "# y_val = scaler_y.transform(y_val)\n",
    "# y_test = scaler_y.transform(y_test)\n",
    "\n",
    "X_train = scaler_X.fit_transform(X_train)\n",
    "X_val = scaler_X.transform(X_val)\n",
    "\n",
    "X_train, y_train = np.array(X_train), np.array(y_train)\n",
    "X_val, y_val = np.array(X_val), np.array(y_val)\n",
    "X_test, y_test = np.array(X_test), np.array(y_test)"
   ]
  },
  {
   "cell_type": "code",
   "execution_count": 391,
   "metadata": {},
   "outputs": [
    {
     "output_type": "execute_result",
     "data": {
      "text/plain": [
       "array([[ 0.71739897, -0.63101802, -0.60269374, ...,  0.59360105,\n",
       "         0.59584359, -0.34744465],\n",
       "       [-1.25568753, -0.63101802,  0.44025488, ...,  0.59360105,\n",
       "         0.59584359, -0.34744465],\n",
       "       [ 0.11949397, -0.63101802, -0.60269374, ...,  0.59360105,\n",
       "         0.59584359, -0.34744465],\n",
       "       ...,\n",
       "       [-0.95673503, -0.63101802,  1.48320349, ...,  0.59360105,\n",
       "         0.59584359, -0.34744465],\n",
       "       [-0.41862053, -0.63101802,  1.48320349, ...,  0.59360105,\n",
       "         0.59584359, -0.34744465],\n",
       "       [-1.37526853, -0.63101802, -0.60269374, ...,  0.59360105,\n",
       "         0.59584359, -0.34744465]])"
      ]
     },
     "metadata": {},
     "execution_count": 391
    }
   ],
   "source": [
    "X_train"
   ]
  },
  {
   "cell_type": "code",
   "execution_count": null,
   "metadata": {},
   "outputs": [],
   "source": []
  },
  {
   "cell_type": "code",
   "execution_count": 392,
   "metadata": {},
   "outputs": [],
   "source": [
    "class RegressionDataset(Dataset):\n",
    "    \n",
    "    def __init__(self, X_data, y_data):\n",
    "        self.X_data = X_data\n",
    "        self.y_data = y_data\n",
    "        \n",
    "    def __getitem__(self, index):\n",
    "        return self.X_data[index], self.y_data[index]\n",
    "        \n",
    "    def __len__ (self):\n",
    "        return len(self.X_data)\n",
    "train_dataset = RegressionDataset(torch.from_numpy(X_train).float(), torch.from_numpy(y_train).float())\n",
    "val_dataset = RegressionDataset(torch.from_numpy(X_val).float(), torch.from_numpy(y_val).float())\n",
    "test_dataset = RegressionDataset(torch.from_numpy(X_test).float(), torch.from_numpy(y_test).float())\n",
    "# unseen_dataset = RegressionDataset(torch.from_numpy(Z_test).float(), torch.from_numpy(y_test).float())"
   ]
  },
  {
   "cell_type": "code",
   "execution_count": 393,
   "metadata": {},
   "outputs": [],
   "source": [
    "EPOCHS = 50\n",
    "BATCH_SIZE = 128\n",
    "LEARNING_RATE = 0.001\n",
    "NUM_FEATURES = len(X.columns)\n",
    "\n",
    "train_loader = DataLoader(dataset=train_dataset, batch_size=BATCH_SIZE, shuffle=True)\n",
    "val_loader = DataLoader(dataset=val_dataset, batch_size=1)\n",
    "test_loader = DataLoader(dataset=test_dataset, batch_size=1)\n",
    "# unseen_loader = DataLoader(dataset=unseen_dataset, batch_size=1)"
   ]
  },
  {
   "cell_type": "code",
   "execution_count": 394,
   "metadata": {},
   "outputs": [
    {
     "output_type": "execute_result",
     "data": {
      "text/plain": [
       "(956, 12)"
      ]
     },
     "metadata": {},
     "execution_count": 394
    }
   ],
   "source": [
    "X.shape"
   ]
  },
  {
   "cell_type": "code",
   "execution_count": 395,
   "metadata": {},
   "outputs": [],
   "source": [
    "# \n",
    "\n",
    "class MultipleRegression(nn.Module):\n",
    "    def __init__(self, num_features):\n",
    "        super(MultipleRegression, self).__init__()\n",
    "        self.layer_1 = nn.Linear(num_features, 32)\n",
    "        self.layer_2 = nn.Linear(32, 64)\n",
    "        self.layer_3 = nn.Linear(64, 128)\n",
    "        self.layer_4 = nn.Linear(128, 256)\n",
    "        self.layer_5 = nn.Linear(256, 256)\n",
    "        self.layer_6 = nn.Linear(256, 128)\n",
    "        self.layer_7 = nn.Linear(128, 64)\n",
    "        self.layer_8 = nn.Linear(64, 32)\n",
    "        self.layer_9 = nn.Linear(32, 16)\n",
    "        self.layer_out = nn.Linear(16, 1)\n",
    "        self.relu = nn.ReLU()\n",
    "        self.relu2 = nn.LeakyReLU()\n",
    "\n",
    "    def forward(self, inputs):\n",
    "      x = self.relu(self.layer_1(inputs))\n",
    "      x = self.relu2(self.layer_2(x))\n",
    "      x = self.relu(self.layer_3(x))\n",
    "      x = self.relu2(self.layer_4(x))\n",
    "      x = self.relu(self.layer_5(x))\n",
    "      x = self.relu2(self.layer_6(x))\n",
    "      x = self.relu(self.layer_7(x))\n",
    "      x = self.relu2(self.layer_8(x))\n",
    "      x = self.relu(self.layer_9(x))\n",
    "      x = self.layer_out(x)\n",
    "      return (x)\n",
    "    def predict(self, test_inputs):\n",
    "      x = self.relu(self.layer_1(test_inputs))\n",
    "      x = self.relu2(self.layer_2(x))\n",
    "      x = self.relu(self.layer_3(x))\n",
    "      x = self.relu2(self.layer_4(x))\n",
    "      x = self.relu(self.layer_5(x))\n",
    "      x = self.relu2(self.layer_6(x))\n",
    "      x = self.relu(self.layer_7(x))\n",
    "      x = self.relu2(self.layer_8(x))\n",
    "      x = self.relu(self.layer_9(x))\n",
    "      x = self.layer_out(x)\n",
    "      return (x)\n",
    "\n",
    "# class MultipleRegression(nn.Module):\n",
    "#     def __init__(self, num_features):\n",
    "#         super(MultipleRegression, self).__init__()\n",
    "        \n",
    "#         self.layer_1 = nn.Linear(num_features, 16)\n",
    "#         self.layer_2 = nn.Linear(16, 32)\n",
    "#         self.layer_3 = nn.Linear(32, 16)\n",
    "#         self.layer_out = nn.Linear(16, 1)\n",
    "        \n",
    "#         self.relu = nn.ReLU()\n",
    "#     def forward(self, inputs):\n",
    "#             x = self.relu(self.layer_1(inputs))\n",
    "#             x = self.relu(self.layer_2(x))\n",
    "#             x = self.relu(self.layer_3(x))\n",
    "#             x = self.layer_out(x)\n",
    "#             return (x)\n",
    "#     def predict(self, test_inputs):\n",
    "#             x = self.relu(self.layer_1(test_inputs))\n",
    "#             x = self.relu(self.layer_2(x))\n",
    "#             x = self.relu(self.layer_3(x))\n",
    "#             x = self.layer_out(x)\n",
    "#             return (x)"
   ]
  },
  {
   "cell_type": "code",
   "execution_count": 396,
   "metadata": {},
   "outputs": [
    {
     "output_type": "stream",
     "name": "stdout",
     "text": [
      "cuda:0\nMultipleRegression(\n  (layer_1): Linear(in_features=12, out_features=32, bias=True)\n  (layer_2): Linear(in_features=32, out_features=64, bias=True)\n  (layer_3): Linear(in_features=64, out_features=128, bias=True)\n  (layer_4): Linear(in_features=128, out_features=256, bias=True)\n  (layer_5): Linear(in_features=256, out_features=256, bias=True)\n  (layer_6): Linear(in_features=256, out_features=128, bias=True)\n  (layer_7): Linear(in_features=128, out_features=64, bias=True)\n  (layer_8): Linear(in_features=64, out_features=32, bias=True)\n  (layer_9): Linear(in_features=32, out_features=16, bias=True)\n  (layer_out): Linear(in_features=16, out_features=1, bias=True)\n  (relu): ReLU()\n  (relu2): LeakyReLU(negative_slope=0.01)\n)\n"
     ]
    }
   ],
   "source": [
    "device = torch.device(\"cuda:0\" if torch.cuda.is_available() else \"cpu\")\n",
    "print(device)\n",
    "model = MultipleRegression(NUM_FEATURES)\n",
    "model.to(device)\n",
    "print(model)\n",
    "criterion = nn.MSELoss()\n",
    "# criterion = nn.L1Loss()\n",
    "\n",
    "optimizer = optim.Adam(model.parameters(), lr=LEARNING_RATE)\n"
   ]
  },
  {
   "cell_type": "code",
   "execution_count": 397,
   "metadata": {},
   "outputs": [
    {
     "output_type": "stream",
     "name": "stdout",
     "text": [
      "Begin training.\n"
     ]
    },
    {
     "output_type": "display_data",
     "data": {
      "text/plain": "HBox(children=(HTML(value=''), FloatProgress(value=0.0, max=50.0), HTML(value='')))",
      "application/vnd.jupyter.widget-view+json": {
       "version_major": 2,
       "version_minor": 0,
       "model_id": "65dd688c1a784a579aa13dc78f7d58e3"
      }
     },
     "metadata": {}
    },
    {
     "output_type": "stream",
     "name": "stdout",
     "text": [
      "Epoch 001: | Train Loss: 16.06159 | Val Loss: 16.17347\n",
      "Epoch 002: | Train Loss: 15.06149 | Val Loss: 15.59010\n",
      "Epoch 003: | Train Loss: 14.60600 | Val Loss: 13.07863\n",
      "Epoch 004: | Train Loss: 10.53674 | Val Loss: 7.82694\n",
      "Epoch 005: | Train Loss: 9.83958 | Val Loss: 7.71822\n",
      "Epoch 006: | Train Loss: 9.57478 | Val Loss: 7.50801\n",
      "Epoch 007: | Train Loss: 8.65530 | Val Loss: 7.51345\n",
      "Epoch 008: | Train Loss: 8.59085 | Val Loss: 7.67346\n",
      "Epoch 009: | Train Loss: 7.92647 | Val Loss: 7.67635\n",
      "Epoch 010: | Train Loss: 8.25019 | Val Loss: 7.76637\n",
      "Epoch 011: | Train Loss: 8.22469 | Val Loss: 7.78412\n",
      "Epoch 012: | Train Loss: 8.61780 | Val Loss: 7.79221\n",
      "Epoch 013: | Train Loss: 7.83709 | Val Loss: 7.79728\n",
      "Epoch 014: | Train Loss: 7.50716 | Val Loss: 7.84161\n",
      "Epoch 015: | Train Loss: 8.14628 | Val Loss: 7.80467\n",
      "Epoch 016: | Train Loss: 8.72485 | Val Loss: 7.76250\n",
      "Epoch 017: | Train Loss: 7.89134 | Val Loss: 7.75868\n",
      "Epoch 018: | Train Loss: 7.54466 | Val Loss: 7.75580\n",
      "Epoch 019: | Train Loss: 7.52866 | Val Loss: 7.75101\n",
      "Epoch 020: | Train Loss: 7.65813 | Val Loss: 7.71557\n",
      "Epoch 021: | Train Loss: 7.56847 | Val Loss: 7.70533\n",
      "Epoch 022: | Train Loss: 8.01024 | Val Loss: 7.71391\n",
      "Epoch 023: | Train Loss: 7.21619 | Val Loss: 7.62402\n",
      "Epoch 024: | Train Loss: 8.08031 | Val Loss: 7.57750\n",
      "Epoch 025: | Train Loss: 7.87462 | Val Loss: 7.58740\n",
      "Epoch 026: | Train Loss: 7.37476 | Val Loss: 7.45348\n",
      "Epoch 027: | Train Loss: 7.45333 | Val Loss: 7.44742\n",
      "Epoch 028: | Train Loss: 7.89750 | Val Loss: 7.54142\n",
      "Epoch 029: | Train Loss: 8.49218 | Val Loss: 7.80386\n",
      "Epoch 030: | Train Loss: 7.34001 | Val Loss: 7.83725\n",
      "Epoch 031: | Train Loss: 7.26270 | Val Loss: 7.70714\n",
      "Epoch 032: | Train Loss: 7.24376 | Val Loss: 7.63756\n",
      "Epoch 033: | Train Loss: 7.91619 | Val Loss: 7.64424\n",
      "Epoch 034: | Train Loss: 7.30351 | Val Loss: 7.71719\n",
      "Epoch 035: | Train Loss: 7.03644 | Val Loss: 7.68820\n",
      "Epoch 036: | Train Loss: 7.07622 | Val Loss: 7.75661\n",
      "Epoch 037: | Train Loss: 6.77584 | Val Loss: 7.83543\n",
      "Epoch 038: | Train Loss: 6.58014 | Val Loss: 7.78073\n",
      "Epoch 039: | Train Loss: 6.73669 | Val Loss: 7.62614\n",
      "Epoch 040: | Train Loss: 6.95785 | Val Loss: 7.70059\n",
      "Epoch 041: | Train Loss: 6.79660 | Val Loss: 7.69531\n",
      "Epoch 042: | Train Loss: 6.80243 | Val Loss: 7.73861\n",
      "Epoch 043: | Train Loss: 6.56439 | Val Loss: 7.80157\n",
      "Epoch 044: | Train Loss: 6.75703 | Val Loss: 7.84114\n",
      "Epoch 045: | Train Loss: 6.89103 | Val Loss: 7.83145\n",
      "Epoch 046: | Train Loss: 6.47423 | Val Loss: 7.79641\n",
      "Epoch 047: | Train Loss: 6.55556 | Val Loss: 8.04887\n",
      "Epoch 048: | Train Loss: 6.64368 | Val Loss: 7.97573\n",
      "Epoch 049: | Train Loss: 6.80173 | Val Loss: 8.24212\n",
      "Epoch 050: | Train Loss: 6.22329 | Val Loss: 9.12076\n",
      "\n"
     ]
    }
   ],
   "source": [
    "loss_stats = {\n",
    "    'train': [],\n",
    "    \"val\": []\n",
    "}\n",
    "print(\"Begin training.\")\n",
    "for e in tqdm(range(1, EPOCHS+1)):\n",
    "    \n",
    "    # TRAINING\n",
    "    train_epoch_loss = 0\n",
    "    model.train()\n",
    "    for X_train_batch, y_train_batch in train_loader:\n",
    "        X_train_batch, y_train_batch = X_train_batch.to(device), y_train_batch.to(device)\n",
    "        optimizer.zero_grad()\n",
    "        \n",
    "        y_train_pred = model(X_train_batch)\n",
    "        train_loss = criterion(y_train_pred, y_train_batch)\n",
    "        # print(y_train_pred, y_train_batch)\n",
    "        train_loss.backward()\n",
    "        optimizer.step()\n",
    "        \n",
    "        train_epoch_loss += train_loss.item()\n",
    "        \n",
    "        \n",
    "    # VALIDATION    \n",
    "    with torch.no_grad():\n",
    "        \n",
    "        val_epoch_loss = 0\n",
    "        \n",
    "        model.eval()\n",
    "        for X_val_batch, y_val_batch in val_loader:\n",
    "            X_val_batch, y_val_batch = X_val_batch.to(device), y_val_batch.to(device)\n",
    "            \n",
    "            y_val_pred = model(X_val_batch)\n",
    "                        \n",
    "            val_loss = criterion(y_val_pred, y_val_batch)\n",
    "            \n",
    "            val_epoch_loss += val_loss.item()\n",
    "        loss_stats['train'].append(train_epoch_loss/len(train_loader))\n",
    "        loss_stats['val'].append(val_epoch_loss/len(val_loader))                              \n",
    "            \n",
    "        print(f'Epoch {e+0:03}: | Train Loss: {train_epoch_loss/len(train_loader):.5f} | Val Loss: {val_epoch_loss/len(val_loader):.5f}')"
   ]
  },
  {
   "cell_type": "code",
   "execution_count": 398,
   "metadata": {},
   "outputs": [
    {
     "output_type": "execute_result",
     "data": {
      "text/plain": [
       "Text(0.5, 1.0, 'Train-Val Loss/Epoch')"
      ]
     },
     "metadata": {},
     "execution_count": 398
    },
    {
     "output_type": "display_data",
     "data": {
      "text/plain": "<Figure size 1080x576 with 1 Axes>",
      "image/svg+xml": "<?xml version=\"1.0\" encoding=\"utf-8\" standalone=\"no\"?>\r\n<!DOCTYPE svg PUBLIC \"-//W3C//DTD SVG 1.1//EN\"\r\n  \"http://www.w3.org/Graphics/SVG/1.1/DTD/svg11.dtd\">\r\n<!-- Created with matplotlib (https://matplotlib.org/) -->\r\n<svg height=\"494.754375pt\" version=\"1.1\" viewBox=\"0 0 884.803125 494.754375\" width=\"884.803125pt\" xmlns=\"http://www.w3.org/2000/svg\" xmlns:xlink=\"http://www.w3.org/1999/xlink\">\r\n <metadata>\r\n  <rdf:RDF xmlns:cc=\"http://creativecommons.org/ns#\" xmlns:dc=\"http://purl.org/dc/elements/1.1/\" xmlns:rdf=\"http://www.w3.org/1999/02/22-rdf-syntax-ns#\">\r\n   <cc:Work>\r\n    <dc:type rdf:resource=\"http://purl.org/dc/dcmitype/StillImage\"/>\r\n    <dc:date>2021-04-14T22:38:43.074312</dc:date>\r\n    <dc:format>image/svg+xml</dc:format>\r\n    <dc:creator>\r\n     <cc:Agent>\r\n      <dc:title>Matplotlib v3.3.2, https://matplotlib.org/</dc:title>\r\n     </cc:Agent>\r\n    </dc:creator>\r\n   </cc:Work>\r\n  </rdf:RDF>\r\n </metadata>\r\n <defs>\r\n  <style type=\"text/css\">*{stroke-linecap:butt;stroke-linejoin:round;}</style>\r\n </defs>\r\n <g id=\"figure_1\">\r\n  <g id=\"patch_1\">\r\n   <path d=\"M 0 494.754375 \r\nL 884.803125 494.754375 \r\nL 884.803125 0 \r\nL 0 0 \r\nz\r\n\" style=\"fill:none;\"/>\r\n  </g>\r\n  <g id=\"axes_1\">\r\n   <g id=\"patch_2\">\r\n    <path d=\"M 40.603125 457.198125 \r\nL 877.603125 457.198125 \r\nL 877.603125 22.318125 \r\nL 40.603125 22.318125 \r\nz\r\n\" style=\"fill:#ffffff;\"/>\r\n   </g>\r\n   <g id=\"matplotlib.axis_1\">\r\n    <g id=\"xtick_1\">\r\n     <g id=\"line2d_1\">\r\n      <defs>\r\n       <path d=\"M 0 0 \r\nL 0 3.5 \r\n\" id=\"m74c7f60235\" style=\"stroke:#000000;stroke-width:0.8;\"/>\r\n      </defs>\r\n      <g>\r\n       <use style=\"stroke:#000000;stroke-width:0.8;\" x=\"78.64858\" xlink:href=\"#m74c7f60235\" y=\"457.198125\"/>\r\n      </g>\r\n     </g>\r\n     <g id=\"text_1\">\r\n      <!-- 0 -->\r\n      <g transform=\"translate(75.46733 471.796562)scale(0.1 -0.1)\">\r\n       <defs>\r\n        <path d=\"M 31.78125 66.40625 \r\nQ 24.171875 66.40625 20.328125 58.90625 \r\nQ 16.5 51.421875 16.5 36.375 \r\nQ 16.5 21.390625 20.328125 13.890625 \r\nQ 24.171875 6.390625 31.78125 6.390625 \r\nQ 39.453125 6.390625 43.28125 13.890625 \r\nQ 47.125 21.390625 47.125 36.375 \r\nQ 47.125 51.421875 43.28125 58.90625 \r\nQ 39.453125 66.40625 31.78125 66.40625 \r\nz\r\nM 31.78125 74.21875 \r\nQ 44.046875 74.21875 50.515625 64.515625 \r\nQ 56.984375 54.828125 56.984375 36.375 \r\nQ 56.984375 17.96875 50.515625 8.265625 \r\nQ 44.046875 -1.421875 31.78125 -1.421875 \r\nQ 19.53125 -1.421875 13.0625 8.265625 \r\nQ 6.59375 17.96875 6.59375 36.375 \r\nQ 6.59375 54.828125 13.0625 64.515625 \r\nQ 19.53125 74.21875 31.78125 74.21875 \r\nz\r\n\" id=\"DejaVuSans-48\"/>\r\n       </defs>\r\n       <use xlink:href=\"#DejaVuSans-48\"/>\r\n      </g>\r\n     </g>\r\n    </g>\r\n    <g id=\"xtick_2\">\r\n     <g id=\"line2d_2\">\r\n      <g>\r\n       <use style=\"stroke:#000000;stroke-width:0.8;\" x=\"233.936149\" xlink:href=\"#m74c7f60235\" y=\"457.198125\"/>\r\n      </g>\r\n     </g>\r\n     <g id=\"text_2\">\r\n      <!-- 10 -->\r\n      <g transform=\"translate(227.573649 471.796562)scale(0.1 -0.1)\">\r\n       <defs>\r\n        <path d=\"M 12.40625 8.296875 \r\nL 28.515625 8.296875 \r\nL 28.515625 63.921875 \r\nL 10.984375 60.40625 \r\nL 10.984375 69.390625 \r\nL 28.421875 72.90625 \r\nL 38.28125 72.90625 \r\nL 38.28125 8.296875 \r\nL 54.390625 8.296875 \r\nL 54.390625 0 \r\nL 12.40625 0 \r\nz\r\n\" id=\"DejaVuSans-49\"/>\r\n       </defs>\r\n       <use xlink:href=\"#DejaVuSans-49\"/>\r\n       <use x=\"63.623047\" xlink:href=\"#DejaVuSans-48\"/>\r\n      </g>\r\n     </g>\r\n    </g>\r\n    <g id=\"xtick_3\">\r\n     <g id=\"line2d_3\">\r\n      <g>\r\n       <use style=\"stroke:#000000;stroke-width:0.8;\" x=\"389.223719\" xlink:href=\"#m74c7f60235\" y=\"457.198125\"/>\r\n      </g>\r\n     </g>\r\n     <g id=\"text_3\">\r\n      <!-- 20 -->\r\n      <g transform=\"translate(382.861219 471.796562)scale(0.1 -0.1)\">\r\n       <defs>\r\n        <path d=\"M 19.1875 8.296875 \r\nL 53.609375 8.296875 \r\nL 53.609375 0 \r\nL 7.328125 0 \r\nL 7.328125 8.296875 \r\nQ 12.9375 14.109375 22.625 23.890625 \r\nQ 32.328125 33.6875 34.8125 36.53125 \r\nQ 39.546875 41.84375 41.421875 45.53125 \r\nQ 43.3125 49.21875 43.3125 52.78125 \r\nQ 43.3125 58.59375 39.234375 62.25 \r\nQ 35.15625 65.921875 28.609375 65.921875 \r\nQ 23.96875 65.921875 18.8125 64.3125 \r\nQ 13.671875 62.703125 7.8125 59.421875 \r\nL 7.8125 69.390625 \r\nQ 13.765625 71.78125 18.9375 73 \r\nQ 24.125 74.21875 28.421875 74.21875 \r\nQ 39.75 74.21875 46.484375 68.546875 \r\nQ 53.21875 62.890625 53.21875 53.421875 \r\nQ 53.21875 48.921875 51.53125 44.890625 \r\nQ 49.859375 40.875 45.40625 35.40625 \r\nQ 44.1875 33.984375 37.640625 27.21875 \r\nQ 31.109375 20.453125 19.1875 8.296875 \r\nz\r\n\" id=\"DejaVuSans-50\"/>\r\n       </defs>\r\n       <use xlink:href=\"#DejaVuSans-50\"/>\r\n       <use x=\"63.623047\" xlink:href=\"#DejaVuSans-48\"/>\r\n      </g>\r\n     </g>\r\n    </g>\r\n    <g id=\"xtick_4\">\r\n     <g id=\"line2d_4\">\r\n      <g>\r\n       <use style=\"stroke:#000000;stroke-width:0.8;\" x=\"544.511288\" xlink:href=\"#m74c7f60235\" y=\"457.198125\"/>\r\n      </g>\r\n     </g>\r\n     <g id=\"text_4\">\r\n      <!-- 30 -->\r\n      <g transform=\"translate(538.148788 471.796562)scale(0.1 -0.1)\">\r\n       <defs>\r\n        <path d=\"M 40.578125 39.3125 \r\nQ 47.65625 37.796875 51.625 33 \r\nQ 55.609375 28.21875 55.609375 21.1875 \r\nQ 55.609375 10.40625 48.1875 4.484375 \r\nQ 40.765625 -1.421875 27.09375 -1.421875 \r\nQ 22.515625 -1.421875 17.65625 -0.515625 \r\nQ 12.796875 0.390625 7.625 2.203125 \r\nL 7.625 11.71875 \r\nQ 11.71875 9.328125 16.59375 8.109375 \r\nQ 21.484375 6.890625 26.8125 6.890625 \r\nQ 36.078125 6.890625 40.9375 10.546875 \r\nQ 45.796875 14.203125 45.796875 21.1875 \r\nQ 45.796875 27.640625 41.28125 31.265625 \r\nQ 36.765625 34.90625 28.71875 34.90625 \r\nL 20.21875 34.90625 \r\nL 20.21875 43.015625 \r\nL 29.109375 43.015625 \r\nQ 36.375 43.015625 40.234375 45.921875 \r\nQ 44.09375 48.828125 44.09375 54.296875 \r\nQ 44.09375 59.90625 40.109375 62.90625 \r\nQ 36.140625 65.921875 28.71875 65.921875 \r\nQ 24.65625 65.921875 20.015625 65.03125 \r\nQ 15.375 64.15625 9.8125 62.3125 \r\nL 9.8125 71.09375 \r\nQ 15.4375 72.65625 20.34375 73.4375 \r\nQ 25.25 74.21875 29.59375 74.21875 \r\nQ 40.828125 74.21875 47.359375 69.109375 \r\nQ 53.90625 64.015625 53.90625 55.328125 \r\nQ 53.90625 49.265625 50.4375 45.09375 \r\nQ 46.96875 40.921875 40.578125 39.3125 \r\nz\r\n\" id=\"DejaVuSans-51\"/>\r\n       </defs>\r\n       <use xlink:href=\"#DejaVuSans-51\"/>\r\n       <use x=\"63.623047\" xlink:href=\"#DejaVuSans-48\"/>\r\n      </g>\r\n     </g>\r\n    </g>\r\n    <g id=\"xtick_5\">\r\n     <g id=\"line2d_5\">\r\n      <g>\r\n       <use style=\"stroke:#000000;stroke-width:0.8;\" x=\"699.798858\" xlink:href=\"#m74c7f60235\" y=\"457.198125\"/>\r\n      </g>\r\n     </g>\r\n     <g id=\"text_5\">\r\n      <!-- 40 -->\r\n      <g transform=\"translate(693.436358 471.796562)scale(0.1 -0.1)\">\r\n       <defs>\r\n        <path d=\"M 37.796875 64.3125 \r\nL 12.890625 25.390625 \r\nL 37.796875 25.390625 \r\nz\r\nM 35.203125 72.90625 \r\nL 47.609375 72.90625 \r\nL 47.609375 25.390625 \r\nL 58.015625 25.390625 \r\nL 58.015625 17.1875 \r\nL 47.609375 17.1875 \r\nL 47.609375 0 \r\nL 37.796875 0 \r\nL 37.796875 17.1875 \r\nL 4.890625 17.1875 \r\nL 4.890625 26.703125 \r\nz\r\n\" id=\"DejaVuSans-52\"/>\r\n       </defs>\r\n       <use xlink:href=\"#DejaVuSans-52\"/>\r\n       <use x=\"63.623047\" xlink:href=\"#DejaVuSans-48\"/>\r\n      </g>\r\n     </g>\r\n    </g>\r\n    <g id=\"xtick_6\">\r\n     <g id=\"line2d_6\">\r\n      <g>\r\n       <use style=\"stroke:#000000;stroke-width:0.8;\" x=\"855.086427\" xlink:href=\"#m74c7f60235\" y=\"457.198125\"/>\r\n      </g>\r\n     </g>\r\n     <g id=\"text_6\">\r\n      <!-- 50 -->\r\n      <g transform=\"translate(848.723927 471.796562)scale(0.1 -0.1)\">\r\n       <defs>\r\n        <path d=\"M 10.796875 72.90625 \r\nL 49.515625 72.90625 \r\nL 49.515625 64.59375 \r\nL 19.828125 64.59375 \r\nL 19.828125 46.734375 \r\nQ 21.96875 47.46875 24.109375 47.828125 \r\nQ 26.265625 48.1875 28.421875 48.1875 \r\nQ 40.625 48.1875 47.75 41.5 \r\nQ 54.890625 34.8125 54.890625 23.390625 \r\nQ 54.890625 11.625 47.5625 5.09375 \r\nQ 40.234375 -1.421875 26.90625 -1.421875 \r\nQ 22.3125 -1.421875 17.546875 -0.640625 \r\nQ 12.796875 0.140625 7.71875 1.703125 \r\nL 7.71875 11.625 \r\nQ 12.109375 9.234375 16.796875 8.0625 \r\nQ 21.484375 6.890625 26.703125 6.890625 \r\nQ 35.15625 6.890625 40.078125 11.328125 \r\nQ 45.015625 15.765625 45.015625 23.390625 \r\nQ 45.015625 31 40.078125 35.4375 \r\nQ 35.15625 39.890625 26.703125 39.890625 \r\nQ 22.75 39.890625 18.8125 39.015625 \r\nQ 14.890625 38.140625 10.796875 36.28125 \r\nz\r\n\" id=\"DejaVuSans-53\"/>\r\n       </defs>\r\n       <use xlink:href=\"#DejaVuSans-53\"/>\r\n       <use x=\"63.623047\" xlink:href=\"#DejaVuSans-48\"/>\r\n      </g>\r\n     </g>\r\n    </g>\r\n    <g id=\"text_7\">\r\n     <!-- epochs -->\r\n     <g transform=\"translate(441.270312 485.474687)scale(0.1 -0.1)\">\r\n      <defs>\r\n       <path d=\"M 56.203125 29.59375 \r\nL 56.203125 25.203125 \r\nL 14.890625 25.203125 \r\nQ 15.484375 15.921875 20.484375 11.0625 \r\nQ 25.484375 6.203125 34.421875 6.203125 \r\nQ 39.59375 6.203125 44.453125 7.46875 \r\nQ 49.3125 8.734375 54.109375 11.28125 \r\nL 54.109375 2.78125 \r\nQ 49.265625 0.734375 44.1875 -0.34375 \r\nQ 39.109375 -1.421875 33.890625 -1.421875 \r\nQ 20.796875 -1.421875 13.15625 6.1875 \r\nQ 5.515625 13.8125 5.515625 26.8125 \r\nQ 5.515625 40.234375 12.765625 48.109375 \r\nQ 20.015625 56 32.328125 56 \r\nQ 43.359375 56 49.78125 48.890625 \r\nQ 56.203125 41.796875 56.203125 29.59375 \r\nz\r\nM 47.21875 32.234375 \r\nQ 47.125 39.59375 43.09375 43.984375 \r\nQ 39.0625 48.390625 32.421875 48.390625 \r\nQ 24.90625 48.390625 20.390625 44.140625 \r\nQ 15.875 39.890625 15.1875 32.171875 \r\nz\r\n\" id=\"DejaVuSans-101\"/>\r\n       <path d=\"M 18.109375 8.203125 \r\nL 18.109375 -20.796875 \r\nL 9.078125 -20.796875 \r\nL 9.078125 54.6875 \r\nL 18.109375 54.6875 \r\nL 18.109375 46.390625 \r\nQ 20.953125 51.265625 25.265625 53.625 \r\nQ 29.59375 56 35.59375 56 \r\nQ 45.5625 56 51.78125 48.09375 \r\nQ 58.015625 40.1875 58.015625 27.296875 \r\nQ 58.015625 14.40625 51.78125 6.484375 \r\nQ 45.5625 -1.421875 35.59375 -1.421875 \r\nQ 29.59375 -1.421875 25.265625 0.953125 \r\nQ 20.953125 3.328125 18.109375 8.203125 \r\nz\r\nM 48.6875 27.296875 \r\nQ 48.6875 37.203125 44.609375 42.84375 \r\nQ 40.53125 48.484375 33.40625 48.484375 \r\nQ 26.265625 48.484375 22.1875 42.84375 \r\nQ 18.109375 37.203125 18.109375 27.296875 \r\nQ 18.109375 17.390625 22.1875 11.75 \r\nQ 26.265625 6.109375 33.40625 6.109375 \r\nQ 40.53125 6.109375 44.609375 11.75 \r\nQ 48.6875 17.390625 48.6875 27.296875 \r\nz\r\n\" id=\"DejaVuSans-112\"/>\r\n       <path d=\"M 30.609375 48.390625 \r\nQ 23.390625 48.390625 19.1875 42.75 \r\nQ 14.984375 37.109375 14.984375 27.296875 \r\nQ 14.984375 17.484375 19.15625 11.84375 \r\nQ 23.34375 6.203125 30.609375 6.203125 \r\nQ 37.796875 6.203125 41.984375 11.859375 \r\nQ 46.1875 17.53125 46.1875 27.296875 \r\nQ 46.1875 37.015625 41.984375 42.703125 \r\nQ 37.796875 48.390625 30.609375 48.390625 \r\nz\r\nM 30.609375 56 \r\nQ 42.328125 56 49.015625 48.375 \r\nQ 55.71875 40.765625 55.71875 27.296875 \r\nQ 55.71875 13.875 49.015625 6.21875 \r\nQ 42.328125 -1.421875 30.609375 -1.421875 \r\nQ 18.84375 -1.421875 12.171875 6.21875 \r\nQ 5.515625 13.875 5.515625 27.296875 \r\nQ 5.515625 40.765625 12.171875 48.375 \r\nQ 18.84375 56 30.609375 56 \r\nz\r\n\" id=\"DejaVuSans-111\"/>\r\n       <path d=\"M 48.78125 52.59375 \r\nL 48.78125 44.1875 \r\nQ 44.96875 46.296875 41.140625 47.34375 \r\nQ 37.3125 48.390625 33.40625 48.390625 \r\nQ 24.65625 48.390625 19.8125 42.84375 \r\nQ 14.984375 37.3125 14.984375 27.296875 \r\nQ 14.984375 17.28125 19.8125 11.734375 \r\nQ 24.65625 6.203125 33.40625 6.203125 \r\nQ 37.3125 6.203125 41.140625 7.25 \r\nQ 44.96875 8.296875 48.78125 10.40625 \r\nL 48.78125 2.09375 \r\nQ 45.015625 0.34375 40.984375 -0.53125 \r\nQ 36.96875 -1.421875 32.421875 -1.421875 \r\nQ 20.0625 -1.421875 12.78125 6.34375 \r\nQ 5.515625 14.109375 5.515625 27.296875 \r\nQ 5.515625 40.671875 12.859375 48.328125 \r\nQ 20.21875 56 33.015625 56 \r\nQ 37.15625 56 41.109375 55.140625 \r\nQ 45.0625 54.296875 48.78125 52.59375 \r\nz\r\n\" id=\"DejaVuSans-99\"/>\r\n       <path d=\"M 54.890625 33.015625 \r\nL 54.890625 0 \r\nL 45.90625 0 \r\nL 45.90625 32.71875 \r\nQ 45.90625 40.484375 42.875 44.328125 \r\nQ 39.84375 48.1875 33.796875 48.1875 \r\nQ 26.515625 48.1875 22.3125 43.546875 \r\nQ 18.109375 38.921875 18.109375 30.90625 \r\nL 18.109375 0 \r\nL 9.078125 0 \r\nL 9.078125 75.984375 \r\nL 18.109375 75.984375 \r\nL 18.109375 46.1875 \r\nQ 21.34375 51.125 25.703125 53.5625 \r\nQ 30.078125 56 35.796875 56 \r\nQ 45.21875 56 50.046875 50.171875 \r\nQ 54.890625 44.34375 54.890625 33.015625 \r\nz\r\n\" id=\"DejaVuSans-104\"/>\r\n       <path d=\"M 44.28125 53.078125 \r\nL 44.28125 44.578125 \r\nQ 40.484375 46.53125 36.375 47.5 \r\nQ 32.28125 48.484375 27.875 48.484375 \r\nQ 21.1875 48.484375 17.84375 46.4375 \r\nQ 14.5 44.390625 14.5 40.28125 \r\nQ 14.5 37.15625 16.890625 35.375 \r\nQ 19.28125 33.59375 26.515625 31.984375 \r\nL 29.59375 31.296875 \r\nQ 39.15625 29.25 43.1875 25.515625 \r\nQ 47.21875 21.78125 47.21875 15.09375 \r\nQ 47.21875 7.46875 41.1875 3.015625 \r\nQ 35.15625 -1.421875 24.609375 -1.421875 \r\nQ 20.21875 -1.421875 15.453125 -0.5625 \r\nQ 10.6875 0.296875 5.421875 2 \r\nL 5.421875 11.28125 \r\nQ 10.40625 8.6875 15.234375 7.390625 \r\nQ 20.0625 6.109375 24.8125 6.109375 \r\nQ 31.15625 6.109375 34.5625 8.28125 \r\nQ 37.984375 10.453125 37.984375 14.40625 \r\nQ 37.984375 18.0625 35.515625 20.015625 \r\nQ 33.0625 21.96875 24.703125 23.78125 \r\nL 21.578125 24.515625 \r\nQ 13.234375 26.265625 9.515625 29.90625 \r\nQ 5.8125 33.546875 5.8125 39.890625 \r\nQ 5.8125 47.609375 11.28125 51.796875 \r\nQ 16.75 56 26.8125 56 \r\nQ 31.78125 56 36.171875 55.265625 \r\nQ 40.578125 54.546875 44.28125 53.078125 \r\nz\r\n\" id=\"DejaVuSans-115\"/>\r\n      </defs>\r\n      <use xlink:href=\"#DejaVuSans-101\"/>\r\n      <use x=\"61.523438\" xlink:href=\"#DejaVuSans-112\"/>\r\n      <use x=\"125\" xlink:href=\"#DejaVuSans-111\"/>\r\n      <use x=\"186.181641\" xlink:href=\"#DejaVuSans-99\"/>\r\n      <use x=\"241.162109\" xlink:href=\"#DejaVuSans-104\"/>\r\n      <use x=\"304.541016\" xlink:href=\"#DejaVuSans-115\"/>\r\n     </g>\r\n    </g>\r\n   </g>\r\n   <g id=\"matplotlib.axis_2\">\r\n    <g id=\"ytick_1\">\r\n     <g id=\"line2d_7\">\r\n      <defs>\r\n       <path d=\"M 0 0 \r\nL -3.5 0 \r\n\" id=\"m3b8595f577\" style=\"stroke:#000000;stroke-width:0.8;\"/>\r\n      </defs>\r\n      <g>\r\n       <use style=\"stroke:#000000;stroke-width:0.8;\" x=\"40.603125\" xlink:href=\"#m3b8595f577\" y=\"446.302918\"/>\r\n      </g>\r\n     </g>\r\n     <g id=\"text_8\">\r\n      <!-- 6 -->\r\n      <g transform=\"translate(27.240625 450.102137)scale(0.1 -0.1)\">\r\n       <defs>\r\n        <path d=\"M 33.015625 40.375 \r\nQ 26.375 40.375 22.484375 35.828125 \r\nQ 18.609375 31.296875 18.609375 23.390625 \r\nQ 18.609375 15.53125 22.484375 10.953125 \r\nQ 26.375 6.390625 33.015625 6.390625 \r\nQ 39.65625 6.390625 43.53125 10.953125 \r\nQ 47.40625 15.53125 47.40625 23.390625 \r\nQ 47.40625 31.296875 43.53125 35.828125 \r\nQ 39.65625 40.375 33.015625 40.375 \r\nz\r\nM 52.59375 71.296875 \r\nL 52.59375 62.3125 \r\nQ 48.875 64.0625 45.09375 64.984375 \r\nQ 41.3125 65.921875 37.59375 65.921875 \r\nQ 27.828125 65.921875 22.671875 59.328125 \r\nQ 17.53125 52.734375 16.796875 39.40625 \r\nQ 19.671875 43.65625 24.015625 45.921875 \r\nQ 28.375 48.1875 33.59375 48.1875 \r\nQ 44.578125 48.1875 50.953125 41.515625 \r\nQ 57.328125 34.859375 57.328125 23.390625 \r\nQ 57.328125 12.15625 50.6875 5.359375 \r\nQ 44.046875 -1.421875 33.015625 -1.421875 \r\nQ 20.359375 -1.421875 13.671875 8.265625 \r\nQ 6.984375 17.96875 6.984375 36.375 \r\nQ 6.984375 53.65625 15.1875 63.9375 \r\nQ 23.390625 74.21875 37.203125 74.21875 \r\nQ 40.921875 74.21875 44.703125 73.484375 \r\nQ 48.484375 72.75 52.59375 71.296875 \r\nz\r\n\" id=\"DejaVuSans-54\"/>\r\n       </defs>\r\n       <use xlink:href=\"#DejaVuSans-54\"/>\r\n      </g>\r\n     </g>\r\n    </g>\r\n    <g id=\"ytick_2\">\r\n     <g id=\"line2d_8\">\r\n      <g>\r\n       <use style=\"stroke:#000000;stroke-width:0.8;\" x=\"40.603125\" xlink:href=\"#m3b8595f577\" y=\"366.837931\"/>\r\n      </g>\r\n     </g>\r\n     <g id=\"text_9\">\r\n      <!-- 8 -->\r\n      <g transform=\"translate(27.240625 370.63715)scale(0.1 -0.1)\">\r\n       <defs>\r\n        <path d=\"M 31.78125 34.625 \r\nQ 24.75 34.625 20.71875 30.859375 \r\nQ 16.703125 27.09375 16.703125 20.515625 \r\nQ 16.703125 13.921875 20.71875 10.15625 \r\nQ 24.75 6.390625 31.78125 6.390625 \r\nQ 38.8125 6.390625 42.859375 10.171875 \r\nQ 46.921875 13.96875 46.921875 20.515625 \r\nQ 46.921875 27.09375 42.890625 30.859375 \r\nQ 38.875 34.625 31.78125 34.625 \r\nz\r\nM 21.921875 38.8125 \r\nQ 15.578125 40.375 12.03125 44.71875 \r\nQ 8.5 49.078125 8.5 55.328125 \r\nQ 8.5 64.0625 14.71875 69.140625 \r\nQ 20.953125 74.21875 31.78125 74.21875 \r\nQ 42.671875 74.21875 48.875 69.140625 \r\nQ 55.078125 64.0625 55.078125 55.328125 \r\nQ 55.078125 49.078125 51.53125 44.71875 \r\nQ 48 40.375 41.703125 38.8125 \r\nQ 48.828125 37.15625 52.796875 32.3125 \r\nQ 56.78125 27.484375 56.78125 20.515625 \r\nQ 56.78125 9.90625 50.3125 4.234375 \r\nQ 43.84375 -1.421875 31.78125 -1.421875 \r\nQ 19.734375 -1.421875 13.25 4.234375 \r\nQ 6.78125 9.90625 6.78125 20.515625 \r\nQ 6.78125 27.484375 10.78125 32.3125 \r\nQ 14.796875 37.15625 21.921875 38.8125 \r\nz\r\nM 18.3125 54.390625 \r\nQ 18.3125 48.734375 21.84375 45.5625 \r\nQ 25.390625 42.390625 31.78125 42.390625 \r\nQ 38.140625 42.390625 41.71875 45.5625 \r\nQ 45.3125 48.734375 45.3125 54.390625 \r\nQ 45.3125 60.0625 41.71875 63.234375 \r\nQ 38.140625 66.40625 31.78125 66.40625 \r\nQ 25.390625 66.40625 21.84375 63.234375 \r\nQ 18.3125 60.0625 18.3125 54.390625 \r\nz\r\n\" id=\"DejaVuSans-56\"/>\r\n       </defs>\r\n       <use xlink:href=\"#DejaVuSans-56\"/>\r\n      </g>\r\n     </g>\r\n    </g>\r\n    <g id=\"ytick_3\">\r\n     <g id=\"line2d_9\">\r\n      <g>\r\n       <use style=\"stroke:#000000;stroke-width:0.8;\" x=\"40.603125\" xlink:href=\"#m3b8595f577\" y=\"287.372944\"/>\r\n      </g>\r\n     </g>\r\n     <g id=\"text_10\">\r\n      <!-- 10 -->\r\n      <g transform=\"translate(20.878125 291.172163)scale(0.1 -0.1)\">\r\n       <use xlink:href=\"#DejaVuSans-49\"/>\r\n       <use x=\"63.623047\" xlink:href=\"#DejaVuSans-48\"/>\r\n      </g>\r\n     </g>\r\n    </g>\r\n    <g id=\"ytick_4\">\r\n     <g id=\"line2d_10\">\r\n      <g>\r\n       <use style=\"stroke:#000000;stroke-width:0.8;\" x=\"40.603125\" xlink:href=\"#m3b8595f577\" y=\"207.907957\"/>\r\n      </g>\r\n     </g>\r\n     <g id=\"text_11\">\r\n      <!-- 12 -->\r\n      <g transform=\"translate(20.878125 211.707175)scale(0.1 -0.1)\">\r\n       <use xlink:href=\"#DejaVuSans-49\"/>\r\n       <use x=\"63.623047\" xlink:href=\"#DejaVuSans-50\"/>\r\n      </g>\r\n     </g>\r\n    </g>\r\n    <g id=\"ytick_5\">\r\n     <g id=\"line2d_11\">\r\n      <g>\r\n       <use style=\"stroke:#000000;stroke-width:0.8;\" x=\"40.603125\" xlink:href=\"#m3b8595f577\" y=\"128.442969\"/>\r\n      </g>\r\n     </g>\r\n     <g id=\"text_12\">\r\n      <!-- 14 -->\r\n      <g transform=\"translate(20.878125 132.242188)scale(0.1 -0.1)\">\r\n       <use xlink:href=\"#DejaVuSans-49\"/>\r\n       <use x=\"63.623047\" xlink:href=\"#DejaVuSans-52\"/>\r\n      </g>\r\n     </g>\r\n    </g>\r\n    <g id=\"ytick_6\">\r\n     <g id=\"line2d_12\">\r\n      <g>\r\n       <use style=\"stroke:#000000;stroke-width:0.8;\" x=\"40.603125\" xlink:href=\"#m3b8595f577\" y=\"48.977982\"/>\r\n      </g>\r\n     </g>\r\n     <g id=\"text_13\">\r\n      <!-- 16 -->\r\n      <g transform=\"translate(20.878125 52.777201)scale(0.1 -0.1)\">\r\n       <use xlink:href=\"#DejaVuSans-49\"/>\r\n       <use x=\"63.623047\" xlink:href=\"#DejaVuSans-54\"/>\r\n      </g>\r\n     </g>\r\n    </g>\r\n    <g id=\"text_14\">\r\n     <!-- value -->\r\n     <g transform=\"translate(14.798438 253.415937)rotate(-90)scale(0.1 -0.1)\">\r\n      <defs>\r\n       <path d=\"M 2.984375 54.6875 \r\nL 12.5 54.6875 \r\nL 29.59375 8.796875 \r\nL 46.6875 54.6875 \r\nL 56.203125 54.6875 \r\nL 35.6875 0 \r\nL 23.484375 0 \r\nz\r\n\" id=\"DejaVuSans-118\"/>\r\n       <path d=\"M 34.28125 27.484375 \r\nQ 23.390625 27.484375 19.1875 25 \r\nQ 14.984375 22.515625 14.984375 16.5 \r\nQ 14.984375 11.71875 18.140625 8.90625 \r\nQ 21.296875 6.109375 26.703125 6.109375 \r\nQ 34.1875 6.109375 38.703125 11.40625 \r\nQ 43.21875 16.703125 43.21875 25.484375 \r\nL 43.21875 27.484375 \r\nz\r\nM 52.203125 31.203125 \r\nL 52.203125 0 \r\nL 43.21875 0 \r\nL 43.21875 8.296875 \r\nQ 40.140625 3.328125 35.546875 0.953125 \r\nQ 30.953125 -1.421875 24.3125 -1.421875 \r\nQ 15.921875 -1.421875 10.953125 3.296875 \r\nQ 6 8.015625 6 15.921875 \r\nQ 6 25.140625 12.171875 29.828125 \r\nQ 18.359375 34.515625 30.609375 34.515625 \r\nL 43.21875 34.515625 \r\nL 43.21875 35.40625 \r\nQ 43.21875 41.609375 39.140625 45 \r\nQ 35.0625 48.390625 27.6875 48.390625 \r\nQ 23 48.390625 18.546875 47.265625 \r\nQ 14.109375 46.140625 10.015625 43.890625 \r\nL 10.015625 52.203125 \r\nQ 14.9375 54.109375 19.578125 55.046875 \r\nQ 24.21875 56 28.609375 56 \r\nQ 40.484375 56 46.34375 49.84375 \r\nQ 52.203125 43.703125 52.203125 31.203125 \r\nz\r\n\" id=\"DejaVuSans-97\"/>\r\n       <path d=\"M 9.421875 75.984375 \r\nL 18.40625 75.984375 \r\nL 18.40625 0 \r\nL 9.421875 0 \r\nz\r\n\" id=\"DejaVuSans-108\"/>\r\n       <path d=\"M 8.5 21.578125 \r\nL 8.5 54.6875 \r\nL 17.484375 54.6875 \r\nL 17.484375 21.921875 \r\nQ 17.484375 14.15625 20.5 10.265625 \r\nQ 23.53125 6.390625 29.59375 6.390625 \r\nQ 36.859375 6.390625 41.078125 11.03125 \r\nQ 45.3125 15.671875 45.3125 23.6875 \r\nL 45.3125 54.6875 \r\nL 54.296875 54.6875 \r\nL 54.296875 0 \r\nL 45.3125 0 \r\nL 45.3125 8.40625 \r\nQ 42.046875 3.421875 37.71875 1 \r\nQ 33.40625 -1.421875 27.6875 -1.421875 \r\nQ 18.265625 -1.421875 13.375 4.4375 \r\nQ 8.5 10.296875 8.5 21.578125 \r\nz\r\nM 31.109375 56 \r\nz\r\n\" id=\"DejaVuSans-117\"/>\r\n      </defs>\r\n      <use xlink:href=\"#DejaVuSans-118\"/>\r\n      <use x=\"59.179688\" xlink:href=\"#DejaVuSans-97\"/>\r\n      <use x=\"120.458984\" xlink:href=\"#DejaVuSans-108\"/>\r\n      <use x=\"148.242188\" xlink:href=\"#DejaVuSans-117\"/>\r\n      <use x=\"211.621094\" xlink:href=\"#DejaVuSans-101\"/>\r\n     </g>\r\n    </g>\r\n   </g>\r\n   <g id=\"line2d_13\">\r\n    <path clip-path=\"url(#p034aa66299)\" d=\"M 78.64858 46.530938 \r\nL 94.177337 86.267158 \r\nL 109.706093 104.365219 \r\nL 125.23485 266.047011 \r\nL 140.763607 293.746689 \r\nL 156.292364 304.268033 \r\nL 171.821121 340.801352 \r\nL 187.349878 343.361897 \r\nL 202.878635 369.759633 \r\nL 218.407392 356.897106 \r\nL 233.936149 357.910398 \r\nL 249.464906 342.291377 \r\nL 264.993663 373.310693 \r\nL 280.52242 386.419823 \r\nL 296.051177 361.025917 \r\nL 311.579934 338.037684 \r\nL 327.108691 371.155352 \r\nL 342.637448 384.929841 \r\nL 358.166205 385.56537 \r\nL 373.694962 380.421171 \r\nL 389.223719 383.983596 \r\nL 404.752476 366.431216 \r\nL 420.281233 397.980792 \r\nL 435.80999 363.646985 \r\nL 451.338747 371.819631 \r\nL 466.867503 391.680118 \r\nL 482.39626 388.558498 \r\nL 497.925017 370.910349 \r\nL 513.453774 347.282533 \r\nL 528.982531 393.060806 \r\nL 544.511288 396.132812 \r\nL 560.040045 396.885294 \r\nL 575.568802 370.167817 \r\nL 591.097559 394.511079 \r\nL 606.626316 405.122438 \r\nL 622.155073 403.54218 \r\nL 637.68383 415.477017 \r\nL 653.212587 423.252623 \r\nL 668.741344 417.032327 \r\nL 684.270101 408.24534 \r\nL 699.798858 414.65213 \r\nL 715.327615 414.420535 \r\nL 730.856372 423.878232 \r\nL 746.385129 416.224042 \r\nL 761.913886 410.899996 \r\nL 777.442643 427.460497 \r\nL 792.9714 424.228985 \r\nL 808.500157 420.727856 \r\nL 824.028913 414.448253 \r\nL 839.55767 437.430852 \r\n\" style=\"fill:none;stroke:#1f77b4;stroke-linecap:square;stroke-width:1.5;\"/>\r\n   </g>\r\n   <g id=\"line2d_14\">\r\n    <path clip-path=\"url(#p034aa66299)\" d=\"M 78.64858 42.085398 \r\nL 94.177337 65.264325 \r\nL 109.706093 165.051301 \r\nL 125.23485 373.713963 \r\nL 140.763607 378.033653 \r\nL 156.292364 386.385836 \r\nL 171.821121 386.169782 \r\nL 187.349878 379.812228 \r\nL 202.878635 379.697372 \r\nL 218.407392 376.12061 \r\nL 233.936149 375.41543 \r\nL 249.464906 375.094051 \r\nL 264.993663 374.892517 \r\nL 280.52242 373.131003 \r\nL 296.051177 374.598746 \r\nL 311.579934 376.274346 \r\nL 327.108691 376.426204 \r\nL 342.637448 376.540502 \r\nL 358.166205 376.730972 \r\nL 373.694962 378.139224 \r\nL 389.223719 378.54602 \r\nL 404.752476 378.205171 \r\nL 420.281233 381.776572 \r\nL 435.80999 383.624868 \r\nL 451.338747 383.231587 \r\nL 466.867503 388.55267 \r\nL 482.39626 388.793435 \r\nL 497.925017 385.05863 \r\nL 513.453774 374.630921 \r\nL 528.982531 373.304339 \r\nL 544.511288 378.473882 \r\nL 560.040045 381.238419 \r\nL 575.568802 380.973007 \r\nL 591.097559 378.0747 \r\nL 606.626316 379.226383 \r\nL 622.155073 376.508293 \r\nL 637.68383 373.376675 \r\nL 653.212587 375.550063 \r\nL 668.741344 381.692459 \r\nL 684.270101 378.734352 \r\nL 699.798858 378.944102 \r\nL 715.327615 377.223594 \r\nL 730.856372 374.721957 \r\nL 746.385129 373.149992 \r\nL 761.913886 373.534876 \r\nL 777.442643 374.927083 \r\nL 792.9714 364.89622 \r\nL 808.500157 367.802186 \r\nL 824.028913 357.217826 \r\nL 839.55767 322.307158 \r\n\" style=\"fill:none;stroke:#ff7f0e;stroke-linecap:square;stroke-width:1.5;\"/>\r\n   </g>\r\n   <g id=\"line2d_15\"/>\r\n   <g id=\"line2d_16\"/>\r\n   <g id=\"patch_3\">\r\n    <path d=\"M 40.603125 457.198125 \r\nL 40.603125 22.318125 \r\n\" style=\"fill:none;stroke:#000000;stroke-linecap:square;stroke-linejoin:miter;stroke-width:0.8;\"/>\r\n   </g>\r\n   <g id=\"patch_4\">\r\n    <path d=\"M 877.603125 457.198125 \r\nL 877.603125 22.318125 \r\n\" style=\"fill:none;stroke:#000000;stroke-linecap:square;stroke-linejoin:miter;stroke-width:0.8;\"/>\r\n   </g>\r\n   <g id=\"patch_5\">\r\n    <path d=\"M 40.603125 457.198125 \r\nL 877.603125 457.198125 \r\n\" style=\"fill:none;stroke:#000000;stroke-linecap:square;stroke-linejoin:miter;stroke-width:0.8;\"/>\r\n   </g>\r\n   <g id=\"patch_6\">\r\n    <path d=\"M 40.603125 22.318125 \r\nL 877.603125 22.318125 \r\n\" style=\"fill:none;stroke:#000000;stroke-linecap:square;stroke-linejoin:miter;stroke-width:0.8;\"/>\r\n   </g>\r\n   <g id=\"text_15\">\r\n    <!-- Train-Val Loss/Epoch -->\r\n    <g transform=\"translate(398.453437 16.318125)scale(0.12 -0.12)\">\r\n     <defs>\r\n      <path d=\"M -0.296875 72.90625 \r\nL 61.375 72.90625 \r\nL 61.375 64.59375 \r\nL 35.5 64.59375 \r\nL 35.5 0 \r\nL 25.59375 0 \r\nL 25.59375 64.59375 \r\nL -0.296875 64.59375 \r\nz\r\n\" id=\"DejaVuSans-84\"/>\r\n      <path d=\"M 41.109375 46.296875 \r\nQ 39.59375 47.171875 37.8125 47.578125 \r\nQ 36.03125 48 33.890625 48 \r\nQ 26.265625 48 22.1875 43.046875 \r\nQ 18.109375 38.09375 18.109375 28.8125 \r\nL 18.109375 0 \r\nL 9.078125 0 \r\nL 9.078125 54.6875 \r\nL 18.109375 54.6875 \r\nL 18.109375 46.1875 \r\nQ 20.953125 51.171875 25.484375 53.578125 \r\nQ 30.03125 56 36.53125 56 \r\nQ 37.453125 56 38.578125 55.875 \r\nQ 39.703125 55.765625 41.0625 55.515625 \r\nz\r\n\" id=\"DejaVuSans-114\"/>\r\n      <path d=\"M 9.421875 54.6875 \r\nL 18.40625 54.6875 \r\nL 18.40625 0 \r\nL 9.421875 0 \r\nz\r\nM 9.421875 75.984375 \r\nL 18.40625 75.984375 \r\nL 18.40625 64.59375 \r\nL 9.421875 64.59375 \r\nz\r\n\" id=\"DejaVuSans-105\"/>\r\n      <path d=\"M 54.890625 33.015625 \r\nL 54.890625 0 \r\nL 45.90625 0 \r\nL 45.90625 32.71875 \r\nQ 45.90625 40.484375 42.875 44.328125 \r\nQ 39.84375 48.1875 33.796875 48.1875 \r\nQ 26.515625 48.1875 22.3125 43.546875 \r\nQ 18.109375 38.921875 18.109375 30.90625 \r\nL 18.109375 0 \r\nL 9.078125 0 \r\nL 9.078125 54.6875 \r\nL 18.109375 54.6875 \r\nL 18.109375 46.1875 \r\nQ 21.34375 51.125 25.703125 53.5625 \r\nQ 30.078125 56 35.796875 56 \r\nQ 45.21875 56 50.046875 50.171875 \r\nQ 54.890625 44.34375 54.890625 33.015625 \r\nz\r\n\" id=\"DejaVuSans-110\"/>\r\n      <path d=\"M 4.890625 31.390625 \r\nL 31.203125 31.390625 \r\nL 31.203125 23.390625 \r\nL 4.890625 23.390625 \r\nz\r\n\" id=\"DejaVuSans-45\"/>\r\n      <path d=\"M 28.609375 0 \r\nL 0.78125 72.90625 \r\nL 11.078125 72.90625 \r\nL 34.1875 11.53125 \r\nL 57.328125 72.90625 \r\nL 67.578125 72.90625 \r\nL 39.796875 0 \r\nz\r\n\" id=\"DejaVuSans-86\"/>\r\n      <path id=\"DejaVuSans-32\"/>\r\n      <path d=\"M 9.8125 72.90625 \r\nL 19.671875 72.90625 \r\nL 19.671875 8.296875 \r\nL 55.171875 8.296875 \r\nL 55.171875 0 \r\nL 9.8125 0 \r\nz\r\n\" id=\"DejaVuSans-76\"/>\r\n      <path d=\"M 25.390625 72.90625 \r\nL 33.6875 72.90625 \r\nL 8.296875 -9.28125 \r\nL 0 -9.28125 \r\nz\r\n\" id=\"DejaVuSans-47\"/>\r\n      <path d=\"M 9.8125 72.90625 \r\nL 55.90625 72.90625 \r\nL 55.90625 64.59375 \r\nL 19.671875 64.59375 \r\nL 19.671875 43.015625 \r\nL 54.390625 43.015625 \r\nL 54.390625 34.71875 \r\nL 19.671875 34.71875 \r\nL 19.671875 8.296875 \r\nL 56.78125 8.296875 \r\nL 56.78125 0 \r\nL 9.8125 0 \r\nz\r\n\" id=\"DejaVuSans-69\"/>\r\n     </defs>\r\n     <use xlink:href=\"#DejaVuSans-84\"/>\r\n     <use x=\"46.333984\" xlink:href=\"#DejaVuSans-114\"/>\r\n     <use x=\"87.447266\" xlink:href=\"#DejaVuSans-97\"/>\r\n     <use x=\"148.726562\" xlink:href=\"#DejaVuSans-105\"/>\r\n     <use x=\"176.509766\" xlink:href=\"#DejaVuSans-110\"/>\r\n     <use x=\"239.888672\" xlink:href=\"#DejaVuSans-45\"/>\r\n     <use x=\"270.097656\" xlink:href=\"#DejaVuSans-86\"/>\r\n     <use x=\"330.755859\" xlink:href=\"#DejaVuSans-97\"/>\r\n     <use x=\"392.035156\" xlink:href=\"#DejaVuSans-108\"/>\r\n     <use x=\"419.818359\" xlink:href=\"#DejaVuSans-32\"/>\r\n     <use x=\"451.605469\" xlink:href=\"#DejaVuSans-76\"/>\r\n     <use x=\"505.568359\" xlink:href=\"#DejaVuSans-111\"/>\r\n     <use x=\"566.75\" xlink:href=\"#DejaVuSans-115\"/>\r\n     <use x=\"618.849609\" xlink:href=\"#DejaVuSans-115\"/>\r\n     <use x=\"670.949219\" xlink:href=\"#DejaVuSans-47\"/>\r\n     <use x=\"704.640625\" xlink:href=\"#DejaVuSans-69\"/>\r\n     <use x=\"767.824219\" xlink:href=\"#DejaVuSans-112\"/>\r\n     <use x=\"831.300781\" xlink:href=\"#DejaVuSans-111\"/>\r\n     <use x=\"892.482422\" xlink:href=\"#DejaVuSans-99\"/>\r\n     <use x=\"947.462891\" xlink:href=\"#DejaVuSans-104\"/>\r\n    </g>\r\n   </g>\r\n   <g id=\"legend_1\">\r\n    <g id=\"patch_7\">\r\n     <path d=\"M 815.328125 74.3525 \r\nL 870.603125 74.3525 \r\nQ 872.603125 74.3525 872.603125 72.3525 \r\nL 872.603125 29.318125 \r\nQ 872.603125 27.318125 870.603125 27.318125 \r\nL 815.328125 27.318125 \r\nQ 813.328125 27.318125 813.328125 29.318125 \r\nL 813.328125 72.3525 \r\nQ 813.328125 74.3525 815.328125 74.3525 \r\nz\r\n\" style=\"fill:#ffffff;opacity:0.8;stroke:#cccccc;stroke-linejoin:miter;\"/>\r\n    </g>\r\n    <g id=\"text_16\">\r\n     <!-- variable -->\r\n     <g transform=\"translate(822.79375 38.916562)scale(0.1 -0.1)\">\r\n      <defs>\r\n       <path d=\"M 48.6875 27.296875 \r\nQ 48.6875 37.203125 44.609375 42.84375 \r\nQ 40.53125 48.484375 33.40625 48.484375 \r\nQ 26.265625 48.484375 22.1875 42.84375 \r\nQ 18.109375 37.203125 18.109375 27.296875 \r\nQ 18.109375 17.390625 22.1875 11.75 \r\nQ 26.265625 6.109375 33.40625 6.109375 \r\nQ 40.53125 6.109375 44.609375 11.75 \r\nQ 48.6875 17.390625 48.6875 27.296875 \r\nz\r\nM 18.109375 46.390625 \r\nQ 20.953125 51.265625 25.265625 53.625 \r\nQ 29.59375 56 35.59375 56 \r\nQ 45.5625 56 51.78125 48.09375 \r\nQ 58.015625 40.1875 58.015625 27.296875 \r\nQ 58.015625 14.40625 51.78125 6.484375 \r\nQ 45.5625 -1.421875 35.59375 -1.421875 \r\nQ 29.59375 -1.421875 25.265625 0.953125 \r\nQ 20.953125 3.328125 18.109375 8.203125 \r\nL 18.109375 0 \r\nL 9.078125 0 \r\nL 9.078125 75.984375 \r\nL 18.109375 75.984375 \r\nz\r\n\" id=\"DejaVuSans-98\"/>\r\n      </defs>\r\n      <use xlink:href=\"#DejaVuSans-118\"/>\r\n      <use x=\"59.179688\" xlink:href=\"#DejaVuSans-97\"/>\r\n      <use x=\"120.458984\" xlink:href=\"#DejaVuSans-114\"/>\r\n      <use x=\"161.572266\" xlink:href=\"#DejaVuSans-105\"/>\r\n      <use x=\"189.355469\" xlink:href=\"#DejaVuSans-97\"/>\r\n      <use x=\"250.634766\" xlink:href=\"#DejaVuSans-98\"/>\r\n      <use x=\"314.111328\" xlink:href=\"#DejaVuSans-108\"/>\r\n      <use x=\"341.894531\" xlink:href=\"#DejaVuSans-101\"/>\r\n     </g>\r\n    </g>\r\n    <g id=\"line2d_17\">\r\n     <path d=\"M 817.328125 50.094687 \r\nL 837.328125 50.094687 \r\n\" style=\"fill:none;stroke:#1f77b4;stroke-linecap:square;stroke-width:1.5;\"/>\r\n    </g>\r\n    <g id=\"line2d_18\"/>\r\n    <g id=\"text_17\">\r\n     <!-- train -->\r\n     <g transform=\"translate(845.328125 53.594687)scale(0.1 -0.1)\">\r\n      <defs>\r\n       <path d=\"M 18.3125 70.21875 \r\nL 18.3125 54.6875 \r\nL 36.8125 54.6875 \r\nL 36.8125 47.703125 \r\nL 18.3125 47.703125 \r\nL 18.3125 18.015625 \r\nQ 18.3125 11.328125 20.140625 9.421875 \r\nQ 21.96875 7.515625 27.59375 7.515625 \r\nL 36.8125 7.515625 \r\nL 36.8125 0 \r\nL 27.59375 0 \r\nQ 17.1875 0 13.234375 3.875 \r\nQ 9.28125 7.765625 9.28125 18.015625 \r\nL 9.28125 47.703125 \r\nL 2.6875 47.703125 \r\nL 2.6875 54.6875 \r\nL 9.28125 54.6875 \r\nL 9.28125 70.21875 \r\nz\r\n\" id=\"DejaVuSans-116\"/>\r\n      </defs>\r\n      <use xlink:href=\"#DejaVuSans-116\"/>\r\n      <use x=\"39.208984\" xlink:href=\"#DejaVuSans-114\"/>\r\n      <use x=\"80.322266\" xlink:href=\"#DejaVuSans-97\"/>\r\n      <use x=\"141.601562\" xlink:href=\"#DejaVuSans-105\"/>\r\n      <use x=\"169.384766\" xlink:href=\"#DejaVuSans-110\"/>\r\n     </g>\r\n    </g>\r\n    <g id=\"line2d_19\">\r\n     <path d=\"M 817.328125 64.772812 \r\nL 837.328125 64.772812 \r\n\" style=\"fill:none;stroke:#ff7f0e;stroke-linecap:square;stroke-width:1.5;\"/>\r\n    </g>\r\n    <g id=\"line2d_20\"/>\r\n    <g id=\"text_18\">\r\n     <!-- val -->\r\n     <g transform=\"translate(845.328125 68.272812)scale(0.1 -0.1)\">\r\n      <use xlink:href=\"#DejaVuSans-118\"/>\r\n      <use x=\"59.179688\" xlink:href=\"#DejaVuSans-97\"/>\r\n      <use x=\"120.458984\" xlink:href=\"#DejaVuSans-108\"/>\r\n     </g>\r\n    </g>\r\n   </g>\r\n  </g>\r\n </g>\r\n <defs>\r\n  <clipPath id=\"p034aa66299\">\r\n   <rect height=\"434.88\" width=\"837\" x=\"40.603125\" y=\"22.318125\"/>\r\n  </clipPath>\r\n </defs>\r\n</svg>\r\n",
      "image/png": "[encoded data removed]"
     },
     "metadata": {
      "needs_background": "light"
     }
    }
   ],
   "source": [
    "train_val_loss_df = pd.DataFrame.from_dict(loss_stats).reset_index().melt(id_vars=['index']).rename(columns={\"index\":\"epochs\"})\n",
    "plt.figure(figsize=(15,8))\n",
    "sns.lineplot(data=train_val_loss_df, x = \"epochs\", y=\"value\", hue=\"variable\").set_title('Train-Val Loss/Epoch')"
   ]
  },
  {
   "cell_type": "code",
   "execution_count": 403,
   "metadata": {},
   "outputs": [
    {
     "output_type": "execute_result",
     "data": {
      "text/plain": [
       "                                                     X Y_true Y_predict\n",
       "0    [-0.8371540312361629, 0.13220271967924602, 2.5...   0.13   7.15524\n",
       "1    [1.0163514686324886, -0.24940765183185507, -0....    0.5  0.536922\n",
       "2    [1.4946754685985921, 1.6586442057236506, -0.60...    2.4   2.48734\n",
       "3    [0.11949396869604427, -0.6310180233429561, 0.4...    2.8   3.12625\n",
       "4    [0.2390749686875702, -0.6310180233429561, -0.6...    1.9   4.24788\n",
       "..                                                 ...    ...       ...\n",
       "187  [-1.7938020311683702, -0.6310180233429561, -0....   0.06  0.903066\n",
       "188  [2.0925804685562217, -0.6310180233429561, -0.6...      2   5.53838\n",
       "189  [0.6576084686579109, -0.6310180233429561, 1.48...  1.875   4.27281\n",
       "190  [0.17928446869180723, -0.6310180233429561, -0....  0.216   2.77168\n",
       "191  [-0.05987753129124459, -0.6310180233429561, -0...   5.76   3.46041\n",
       "\n",
       "[192 rows x 3 columns]"
      ],
      "text/html": "<div>\n<style scoped>\n    .dataframe tbody tr th:only-of-type {\n        vertical-align: middle;\n    }\n\n    .dataframe tbody tr th {\n        vertical-align: top;\n    }\n\n    .dataframe thead th {\n        text-align: right;\n    }\n</style>\n<table border=\"1\" class=\"dataframe\">\n  <thead>\n    <tr style=\"text-align: right;\">\n      <th></th>\n      <th>X</th>\n      <th>Y_true</th>\n      <th>Y_predict</th>\n    </tr>\n  </thead>\n  <tbody>\n    <tr>\n      <th>0</th>\n      <td>[-0.8371540312361629, 0.13220271967924602, 2.5...</td>\n      <td>0.13</td>\n      <td>7.15524</td>\n    </tr>\n    <tr>\n      <th>1</th>\n      <td>[1.0163514686324886, -0.24940765183185507, -0....</td>\n      <td>0.5</td>\n      <td>0.536922</td>\n    </tr>\n    <tr>\n      <th>2</th>\n      <td>[1.4946754685985921, 1.6586442057236506, -0.60...</td>\n      <td>2.4</td>\n      <td>2.48734</td>\n    </tr>\n    <tr>\n      <th>3</th>\n      <td>[0.11949396869604427, -0.6310180233429561, 0.4...</td>\n      <td>2.8</td>\n      <td>3.12625</td>\n    </tr>\n    <tr>\n      <th>4</th>\n      <td>[0.2390749686875702, -0.6310180233429561, -0.6...</td>\n      <td>1.9</td>\n      <td>4.24788</td>\n    </tr>\n    <tr>\n      <th>...</th>\n      <td>...</td>\n      <td>...</td>\n      <td>...</td>\n    </tr>\n    <tr>\n      <th>187</th>\n      <td>[-1.7938020311683702, -0.6310180233429561, -0....</td>\n      <td>0.06</td>\n      <td>0.903066</td>\n    </tr>\n    <tr>\n      <th>188</th>\n      <td>[2.0925804685562217, -0.6310180233429561, -0.6...</td>\n      <td>2</td>\n      <td>5.53838</td>\n    </tr>\n    <tr>\n      <th>189</th>\n      <td>[0.6576084686579109, -0.6310180233429561, 1.48...</td>\n      <td>1.875</td>\n      <td>4.27281</td>\n    </tr>\n    <tr>\n      <th>190</th>\n      <td>[0.17928446869180723, -0.6310180233429561, -0....</td>\n      <td>0.216</td>\n      <td>2.77168</td>\n    </tr>\n    <tr>\n      <th>191</th>\n      <td>[-0.05987753129124459, -0.6310180233429561, -0...</td>\n      <td>5.76</td>\n      <td>3.46041</td>\n    </tr>\n  </tbody>\n</table>\n<p>192 rows × 3 columns</p>\n</div>"
     },
     "metadata": {},
     "execution_count": 403
    }
   ],
   "source": [
    "''''Testing'''\n",
    "y_pred_list = []\n",
    "with torch.no_grad():\n",
    "    model.eval()\n",
    "    for X_batch, _ in test_loader:\n",
    "        X_batch = X_batch.to(device)\n",
    "        y_test_pred = model(X_batch)\n",
    "        y_pred_list.append(y_test_pred.cpu().numpy())\n",
    "y_real = [a.squeeze().tolist() for a in y_test];\n",
    "X_test_real = [a.squeeze().tolist() for a in X_test]\n",
    "y_pred_list = [a.squeeze().tolist() for a in y_pred_list]\n",
    "\n",
    "# inverse_y_real = scaler_y.inverse_transform(np.array(y_real).reshape(-1,1)).reshape(-1,)\n",
    "# inverse_y_pred = scaler_y.inverse_transform(np.array(y_pred_list).reshape(-1,1)).reshape(-1,)\n",
    "# pd.DataFrame(data = [inverse_y_real, inverse_y_pred]).T\n",
    "result_df = pd.DataFrame(data = [X_test_real,y_real, y_pred_list]).T\n",
    "result_df.columns = ['X', 'Y_true', 'Y_predict']\n",
    "result_df\n",
    "\n"
   ]
  },
  {
   "source": [
    "<h1>Kaggle Dataset"
   ],
   "cell_type": "markdown",
   "metadata": {}
  },
  {
   "cell_type": "code",
   "execution_count": 50,
   "metadata": {},
   "outputs": [
    {
     "output_type": "execute_result",
     "data": {
      "text/plain": [
       "   age     sex     bmi  children smoker     region      charges\n",
       "0   19  female  27.900         0    yes  southwest  16884.92400\n",
       "1   18    male  33.770         1     no  southeast   1725.55230\n",
       "2   28    male  33.000         3     no  southeast   4449.46200\n",
       "3   33    male  22.705         0     no  northwest  21984.47061\n",
       "4   32    male  28.880         0     no  northwest   3866.85520"
      ],
      "text/html": "<div>\n<style scoped>\n    .dataframe tbody tr th:only-of-type {\n        vertical-align: middle;\n    }\n\n    .dataframe tbody tr th {\n        vertical-align: top;\n    }\n\n    .dataframe thead th {\n        text-align: right;\n    }\n</style>\n<table border=\"1\" class=\"dataframe\">\n  <thead>\n    <tr style=\"text-align: right;\">\n      <th></th>\n      <th>age</th>\n      <th>sex</th>\n      <th>bmi</th>\n      <th>children</th>\n      <th>smoker</th>\n      <th>region</th>\n      <th>charges</th>\n    </tr>\n  </thead>\n  <tbody>\n    <tr>\n      <th>0</th>\n      <td>19</td>\n      <td>female</td>\n      <td>27.900</td>\n      <td>0</td>\n      <td>yes</td>\n      <td>southwest</td>\n      <td>16884.92400</td>\n    </tr>\n    <tr>\n      <th>1</th>\n      <td>18</td>\n      <td>male</td>\n      <td>33.770</td>\n      <td>1</td>\n      <td>no</td>\n      <td>southeast</td>\n      <td>1725.55230</td>\n    </tr>\n    <tr>\n      <th>2</th>\n      <td>28</td>\n      <td>male</td>\n      <td>33.000</td>\n      <td>3</td>\n      <td>no</td>\n      <td>southeast</td>\n      <td>4449.46200</td>\n    </tr>\n    <tr>\n      <th>3</th>\n      <td>33</td>\n      <td>male</td>\n      <td>22.705</td>\n      <td>0</td>\n      <td>no</td>\n      <td>northwest</td>\n      <td>21984.47061</td>\n    </tr>\n    <tr>\n      <th>4</th>\n      <td>32</td>\n      <td>male</td>\n      <td>28.880</td>\n      <td>0</td>\n      <td>no</td>\n      <td>northwest</td>\n      <td>3866.85520</td>\n    </tr>\n  </tbody>\n</table>\n</div>"
     },
     "metadata": {},
     "execution_count": 50
    }
   ],
   "source": [
    "DF_TARGET_Kag = pd.read_csv('kaggle-insurance.csv')\n",
    "DF_TARGET_Kag.head() "
   ]
  },
  {
   "cell_type": "code",
   "execution_count": 53,
   "metadata": {},
   "outputs": [
    {
     "output_type": "execute_result",
     "data": {
      "text/plain": [
       "array(['southwest', 'southeast', 'northwest', 'northeast'], dtype=object)"
      ]
     },
     "metadata": {},
     "execution_count": 53
    }
   ],
   "source": [
    "DF_TARGET_Kag['region'].unique()"
   ]
  },
  {
   "cell_type": "code",
   "execution_count": 455,
   "metadata": {},
   "outputs": [],
   "source": [
    "map_sex = {\n",
    "    'male': 0,\n",
    "    'female': 1\n",
    "}\n",
    "map_smoker = {\n",
    "    'no': 0,\n",
    "    'yes': 1,\n",
    "}\n",
    "# le = preprocessing.LabelEncoder()\n",
    "# le.fit_transform(DF_TARGET_Kag.region.values)\n",
    "# map_region = dict(zip(le.classes_, range(len(le.classes_))))\n",
    "map_region = {'northeast': 0, 'northwest': 1, 'southeast': 2, 'southwest': 3}"
   ]
  },
  {
   "cell_type": "code",
   "execution_count": null,
   "metadata": {},
   "outputs": [],
   "source": [
    "le"
   ]
  },
  {
   "cell_type": "code",
   "execution_count": 456,
   "metadata": {},
   "outputs": [
    {
     "output_type": "display_data",
     "data": {
      "text/plain": "   age  sex     bmi  children  smoker region\n0   19    1  27.900         0       1      3\n1   18    0  33.770         1       0      2\n2   28    0  33.000         3       0      2\n3   33    0  22.705         0       0      1\n4   32    0  28.880         0       0      1",
      "text/html": "<div>\n<style scoped>\n    .dataframe tbody tr th:only-of-type {\n        vertical-align: middle;\n    }\n\n    .dataframe tbody tr th {\n        vertical-align: top;\n    }\n\n    .dataframe thead th {\n        text-align: right;\n    }\n</style>\n<table border=\"1\" class=\"dataframe\">\n  <thead>\n    <tr style=\"text-align: right;\">\n      <th></th>\n      <th>age</th>\n      <th>sex</th>\n      <th>bmi</th>\n      <th>children</th>\n      <th>smoker</th>\n      <th>region</th>\n    </tr>\n  </thead>\n  <tbody>\n    <tr>\n      <th>0</th>\n      <td>19</td>\n      <td>1</td>\n      <td>27.900</td>\n      <td>0</td>\n      <td>1</td>\n      <td>3</td>\n    </tr>\n    <tr>\n      <th>1</th>\n      <td>18</td>\n      <td>0</td>\n      <td>33.770</td>\n      <td>1</td>\n      <td>0</td>\n      <td>2</td>\n    </tr>\n    <tr>\n      <th>2</th>\n      <td>28</td>\n      <td>0</td>\n      <td>33.000</td>\n      <td>3</td>\n      <td>0</td>\n      <td>2</td>\n    </tr>\n    <tr>\n      <th>3</th>\n      <td>33</td>\n      <td>0</td>\n      <td>22.705</td>\n      <td>0</td>\n      <td>0</td>\n      <td>1</td>\n    </tr>\n    <tr>\n      <th>4</th>\n      <td>32</td>\n      <td>0</td>\n      <td>28.880</td>\n      <td>0</td>\n      <td>0</td>\n      <td>1</td>\n    </tr>\n  </tbody>\n</table>\n</div>"
     },
     "metadata": {}
    },
    {
     "output_type": "display_data",
     "data": {
      "text/plain": "0    1.688492\n1    0.172555\n2    0.444946\n3    2.198447\n4    0.386686\nName: charges, dtype: float64"
     },
     "metadata": {}
    }
   ],
   "source": [
    "X = DF_TARGET_Kag.loc[:, 'age': 'region']\n",
    "X.region = pd.Categorical(X.region)\n",
    "X['sex'] = X.sex.map(map_sex)\n",
    "X['smoker'] = X.smoker.map(map_smoker)\n",
    "X['region'] = X.region.map(map_region)\n",
    "\n",
    "# X = DF_TARGET_Kag.loc[:, ['age','smoker', 'children']]\n",
    "# X.smoker = pd.Categorical(X.smoker)\n",
    "# X['smoker'] = X.smoker.cat.codes\n",
    "\n",
    "\n",
    "y = DF_TARGET_Kag.charges/10000\n",
    "\n",
    "display(X.head())\n",
    "display(y.head())"
   ]
  },
  {
   "cell_type": "code",
   "execution_count": 461,
   "metadata": {},
   "outputs": [
    {
     "output_type": "execute_result",
     "data": {
      "text/plain": [
       "(array([[49.  ,  1.  , 30.78,  1.  ,  0.  ,  0.  ],\n",
       "        [23.  ,  0.  , 37.1 ,  3.  ,  0.  ,  3.  ],\n",
       "        [18.  ,  0.  , 38.17,  0.  ,  1.  ,  2.  ],\n",
       "        ...,\n",
       "        [62.  ,  1.  , 29.92,  0.  ,  0.  ,  2.  ],\n",
       "        [43.  ,  1.  , 32.56,  3.  ,  1.  ,  2.  ],\n",
       "        [26.  ,  1.  , 29.64,  4.  ,  0.  ,  0.  ]]),\n",
       " 365     0.977835\n",
       " 817     0.359760\n",
       " 759     3.630780\n",
       " 1035    1.209448\n",
       " 1323    4.389638\n",
       "           ...   \n",
       " 410     0.162134\n",
       " 353     1.240488\n",
       " 789     1.345796\n",
       " 1152    4.094129\n",
       " 321     2.467166\n",
       " Name: charges, Length: 963, dtype: float64)"
      ]
     },
     "metadata": {},
     "execution_count": 461
    }
   ],
   "source": [
    "X_train, y_train"
   ]
  },
  {
   "cell_type": "code",
   "execution_count": 490,
   "metadata": {},
   "outputs": [],
   "source": [
    "# Train - Test\n",
    "X_trainval, X_test, y_trainval, y_test = train_test_split(X, y, test_size=0.2, random_state=69)\n",
    "# Split train\" into train-val\n",
    "X_train, X_val, y_train, y_val = train_test_split(X_trainval, y_trainval, test_size=0.1, random_state=96)\n",
    "X_train, y_train = np.array(X_train), np.array(y_train)\n",
    "X_val, y_val = np.array(X_val), np.array(y_val)\n",
    "X_test, y_test = np.array(X_test), np.array(y_test)\n",
    "\n",
    "class RegressionDataset(Dataset):\n",
    "    \n",
    "    def __init__(self, X_data, y_data):\n",
    "        self.X_data = X_data\n",
    "        self.y_data = y_data\n",
    "        \n",
    "    def __getitem__(self, index):\n",
    "        return self.X_data[index], self.y_data[index]\n",
    "        \n",
    "    def __len__ (self):\n",
    "        return len(self.X_data)\n",
    "train_dataset = RegressionDataset(torch.from_numpy(X_train).float(), torch.from_numpy(y_train).float())\n",
    "val_dataset = RegressionDataset(torch.from_numpy(X_val).float(), torch.from_numpy(y_val).float())\n",
    "test_dataset = RegressionDataset(torch.from_numpy(X_test).float(), torch.from_numpy(y_test).float())\n",
    "# unseen_dataset = RegressionDataset(torch.from_numpy(Z_test).float(), torch.from_numpy(y_test).float())\n",
    "\n",
    "EPOCHS = 50\n",
    "BATCH_SIZE = 64\n",
    "LEARNING_RATE = 0.0001\n",
    "NUM_FEATURES = len(X.columns)\n",
    "\n",
    "train_loader = DataLoader(dataset=train_dataset, batch_size=BATCH_SIZE, shuffle=True)\n",
    "val_loader = DataLoader(dataset=val_dataset, batch_size=1)\n",
    "test_loader = DataLoader(dataset=test_dataset, batch_size=1)\n",
    "# unseen_loader = DataLoader(dataset=unseen_dataset, batch_size=1)"
   ]
  },
  {
   "cell_type": "code",
   "execution_count": 491,
   "metadata": {},
   "outputs": [
    {
     "output_type": "execute_result",
     "data": {
      "text/plain": [
       "6"
      ]
     },
     "metadata": {},
     "execution_count": 491
    }
   ],
   "source": [
    "NUM_FEATURES"
   ]
  },
  {
   "cell_type": "code",
   "execution_count": 492,
   "metadata": {},
   "outputs": [
    {
     "output_type": "stream",
     "name": "stdout",
     "text": [
      "cuda:0\nMultipleRegression(\n  (layer_1): Linear(in_features=6, out_features=32, bias=True)\n  (layer_2): Linear(in_features=32, out_features=64, bias=True)\n  (layer_3): Linear(in_features=64, out_features=128, bias=True)\n  (layer_4): Linear(in_features=128, out_features=256, bias=True)\n  (layer_5): Linear(in_features=256, out_features=256, bias=True)\n  (layer_6): Linear(in_features=256, out_features=128, bias=True)\n  (layer_7): Linear(in_features=128, out_features=64, bias=True)\n  (layer_8): Linear(in_features=64, out_features=32, bias=True)\n  (layer_9): Linear(in_features=32, out_features=16, bias=True)\n  (layer_out): Linear(in_features=16, out_features=1, bias=True)\n  (relu): ReLU()\n  (relu2): LeakyReLU(negative_slope=0.01)\n)\n"
     ]
    }
   ],
   "source": [
    "device = torch.device(\"cuda:0\" if torch.cuda.is_available() else \"cpu\")\n",
    "print(device)\n",
    "model = MultipleRegression(NUM_FEATURES)\n",
    "model.to(device)\n",
    "print(model)\n",
    "criterion = nn.MSELoss()\n",
    "# criterion = nn.L1Loss()\n",
    "\n",
    "optimizer = optim.Adam(model.parameters(), lr=LEARNING_RATE)\n"
   ]
  },
  {
   "cell_type": "code",
   "execution_count": 493,
   "metadata": {},
   "outputs": [
    {
     "output_type": "stream",
     "name": "stdout",
     "text": [
      "Begin training.\n"
     ]
    },
    {
     "output_type": "display_data",
     "data": {
      "text/plain": "HBox(children=(HTML(value=''), FloatProgress(value=0.0, max=50.0), HTML(value='')))",
      "application/vnd.jupyter.widget-view+json": {
       "version_major": 2,
       "version_minor": 0,
       "model_id": "f50c8986e926441aa88d36f11a9c3541"
      }
     },
     "metadata": {}
    },
    {
     "output_type": "stream",
     "name": "stderr",
     "text": [
      "C:\\Users\\dhh3hb\\Anaconda3\\lib\\site-packages\\torch\\nn\\modules\\loss.py:528: UserWarning: Using a target size (torch.Size([64])) that is different to the input size (torch.Size([64, 1])). This will likely lead to incorrect results due to broadcasting. Please ensure they have the same size.\n",
      "  return F.mse_loss(input, target, reduction=self.reduction)\n",
      "C:\\Users\\dhh3hb\\Anaconda3\\lib\\site-packages\\torch\\nn\\modules\\loss.py:528: UserWarning: Using a target size (torch.Size([3])) that is different to the input size (torch.Size([3, 1])). This will likely lead to incorrect results due to broadcasting. Please ensure they have the same size.\n",
      "  return F.mse_loss(input, target, reduction=self.reduction)\n",
      "C:\\Users\\dhh3hb\\Anaconda3\\lib\\site-packages\\torch\\nn\\modules\\loss.py:528: UserWarning: Using a target size (torch.Size([1])) that is different to the input size (torch.Size([1, 1])). This will likely lead to incorrect results due to broadcasting. Please ensure they have the same size.\n",
      "  return F.mse_loss(input, target, reduction=self.reduction)\n",
      "Epoch 001: | Train Loss: 2.77129 | Val Loss: 3.24202\n",
      "Epoch 002: | Train Loss: 2.62362 | Val Loss: 3.03927\n",
      "Epoch 003: | Train Loss: 2.79096 | Val Loss: 2.57703\n",
      "Epoch 004: | Train Loss: 1.87650 | Val Loss: 1.65897\n",
      "Epoch 005: | Train Loss: 1.41613 | Val Loss: 1.36686\n",
      "Epoch 006: | Train Loss: 1.35324 | Val Loss: 1.43096\n",
      "Epoch 007: | Train Loss: 1.38078 | Val Loss: 1.40547\n",
      "Epoch 008: | Train Loss: 1.38045 | Val Loss: 1.39900\n",
      "Epoch 009: | Train Loss: 1.37641 | Val Loss: 1.41413\n",
      "Epoch 010: | Train Loss: 1.39565 | Val Loss: 1.40710\n",
      "Epoch 011: | Train Loss: 1.47419 | Val Loss: 1.40104\n",
      "Epoch 012: | Train Loss: 1.36507 | Val Loss: 1.40774\n",
      "Epoch 013: | Train Loss: 1.35816 | Val Loss: 1.42078\n",
      "Epoch 014: | Train Loss: 1.43949 | Val Loss: 1.40261\n",
      "Epoch 015: | Train Loss: 1.49171 | Val Loss: 1.41486\n",
      "Epoch 016: | Train Loss: 1.35300 | Val Loss: 1.42363\n",
      "Epoch 017: | Train Loss: 1.37971 | Val Loss: 1.42350\n",
      "Epoch 018: | Train Loss: 1.43018 | Val Loss: 1.43227\n",
      "Epoch 019: | Train Loss: 1.63369 | Val Loss: 1.42214\n",
      "Epoch 020: | Train Loss: 1.39479 | Val Loss: 1.43027\n",
      "Epoch 021: | Train Loss: 1.34172 | Val Loss: 1.44716\n",
      "Epoch 022: | Train Loss: 1.51744 | Val Loss: 1.43759\n",
      "Epoch 023: | Train Loss: 1.33780 | Val Loss: 1.43741\n",
      "Epoch 024: | Train Loss: 1.35485 | Val Loss: 1.43931\n",
      "Epoch 025: | Train Loss: 1.37072 | Val Loss: 1.46604\n",
      "Epoch 026: | Train Loss: 1.37102 | Val Loss: 1.43447\n",
      "Epoch 027: | Train Loss: 1.33933 | Val Loss: 1.45421\n",
      "Epoch 028: | Train Loss: 1.48237 | Val Loss: 1.43027\n",
      "Epoch 029: | Train Loss: 1.37451 | Val Loss: 1.44870\n",
      "Epoch 030: | Train Loss: 1.35804 | Val Loss: 1.47430\n",
      "Epoch 031: | Train Loss: 1.34100 | Val Loss: 1.43997\n",
      "Epoch 032: | Train Loss: 1.34262 | Val Loss: 1.44436\n",
      "Epoch 033: | Train Loss: 1.35045 | Val Loss: 1.44765\n",
      "Epoch 034: | Train Loss: 1.71405 | Val Loss: 1.44383\n",
      "Epoch 035: | Train Loss: 1.60183 | Val Loss: 1.43303\n",
      "Epoch 036: | Train Loss: 1.39782 | Val Loss: 1.45245\n",
      "Epoch 037: | Train Loss: 1.35670 | Val Loss: 1.43958\n",
      "Epoch 038: | Train Loss: 1.36138 | Val Loss: 1.45182\n",
      "Epoch 039: | Train Loss: 1.60018 | Val Loss: 1.43930\n",
      "Epoch 040: | Train Loss: 1.36344 | Val Loss: 1.43993\n",
      "Epoch 041: | Train Loss: 1.49383 | Val Loss: 1.44892\n",
      "Epoch 042: | Train Loss: 1.36354 | Val Loss: 1.43748\n",
      "Epoch 043: | Train Loss: 1.34525 | Val Loss: 1.44369\n",
      "Epoch 044: | Train Loss: 1.51969 | Val Loss: 1.44781\n",
      "Epoch 045: | Train Loss: 1.37514 | Val Loss: 1.43855\n",
      "Epoch 046: | Train Loss: 1.35690 | Val Loss: 1.45808\n",
      "Epoch 047: | Train Loss: 1.38334 | Val Loss: 1.46252\n",
      "Epoch 048: | Train Loss: 1.37915 | Val Loss: 1.45270\n",
      "Epoch 049: | Train Loss: 1.34494 | Val Loss: 1.46060\n",
      "Epoch 050: | Train Loss: 1.61212 | Val Loss: 1.43870\n",
      "\n"
     ]
    }
   ],
   "source": [
    "loss_stats = {\n",
    "    'train': [],\n",
    "    \"val\": []\n",
    "}\n",
    "print(\"Begin training.\")\n",
    "for e in tqdm(range(1, EPOCHS+1)):\n",
    "    \n",
    "    # TRAINING\n",
    "    train_epoch_loss = 0\n",
    "    model.train()\n",
    "    for X_train_batch, y_train_batch in train_loader:\n",
    "        X_train_batch, y_train_batch = X_train_batch.to(device), y_train_batch.to(device)\n",
    "        optimizer.zero_grad()\n",
    "        \n",
    "        y_train_pred = model(X_train_batch)\n",
    "        train_loss = criterion(y_train_pred, y_train_batch)\n",
    "        # print(y_train_pred, y_train_batch)\n",
    "        train_loss.backward()\n",
    "        optimizer.step()\n",
    "        \n",
    "        train_epoch_loss += train_loss.item()\n",
    "        \n",
    "        \n",
    "    # VALIDATION    \n",
    "    with torch.no_grad():\n",
    "        \n",
    "        val_epoch_loss = 0\n",
    "        \n",
    "        model.eval()\n",
    "        for X_val_batch, y_val_batch in val_loader:\n",
    "            X_val_batch, y_val_batch = X_val_batch.to(device), y_val_batch.to(device)\n",
    "            \n",
    "            y_val_pred = model(X_val_batch)\n",
    "                        \n",
    "            val_loss = criterion(y_val_pred, y_val_batch)\n",
    "            \n",
    "            val_epoch_loss += val_loss.item()\n",
    "        loss_stats['train'].append(train_epoch_loss/len(train_loader))\n",
    "        loss_stats['val'].append(val_epoch_loss/len(val_loader))                              \n",
    "            \n",
    "        print(f'Epoch {e+0:03}: | Train Loss: {train_epoch_loss/len(train_loader):.5f} | Val Loss: {val_epoch_loss/len(val_loader):.5f}')"
   ]
  },
  {
   "cell_type": "code",
   "execution_count": 494,
   "metadata": {},
   "outputs": [
    {
     "output_type": "execute_result",
     "data": {
      "text/plain": [
       "Text(0.5, 1.0, 'Train-Val Loss/Epoch')"
      ]
     },
     "metadata": {},
     "execution_count": 494
    },
    {
     "output_type": "display_data",
     "data": {
      "text/plain": "<Figure size 1080x576 with 1 Axes>",
      "image/svg+xml": "<?xml version=\"1.0\" encoding=\"utf-8\" standalone=\"no\"?>\r\n<!DOCTYPE svg PUBLIC \"-//W3C//DTD SVG 1.1//EN\"\r\n  \"http://www.w3.org/Graphics/SVG/1.1/DTD/svg11.dtd\">\r\n<!-- Created with matplotlib (https://matplotlib.org/) -->\r\n<svg height=\"494.754375pt\" version=\"1.1\" viewBox=\"0 0 894.34375 494.754375\" width=\"894.34375pt\" xmlns=\"http://www.w3.org/2000/svg\" xmlns:xlink=\"http://www.w3.org/1999/xlink\">\r\n <metadata>\r\n  <rdf:RDF xmlns:cc=\"http://creativecommons.org/ns#\" xmlns:dc=\"http://purl.org/dc/elements/1.1/\" xmlns:rdf=\"http://www.w3.org/1999/02/22-rdf-syntax-ns#\">\r\n   <cc:Work>\r\n    <dc:type rdf:resource=\"http://purl.org/dc/dcmitype/StillImage\"/>\r\n    <dc:date>2021-04-15T15:12:20.559426</dc:date>\r\n    <dc:format>image/svg+xml</dc:format>\r\n    <dc:creator>\r\n     <cc:Agent>\r\n      <dc:title>Matplotlib v3.3.2, https://matplotlib.org/</dc:title>\r\n     </cc:Agent>\r\n    </dc:creator>\r\n   </cc:Work>\r\n  </rdf:RDF>\r\n </metadata>\r\n <defs>\r\n  <style type=\"text/css\">*{stroke-linecap:butt;stroke-linejoin:round;}</style>\r\n </defs>\r\n <g id=\"figure_1\">\r\n  <g id=\"patch_1\">\r\n   <path d=\"M 0 494.754375 \r\nL 894.34375 494.754375 \r\nL 894.34375 0 \r\nL 0 0 \r\nz\r\n\" style=\"fill:none;\"/>\r\n  </g>\r\n  <g id=\"axes_1\">\r\n   <g id=\"patch_2\">\r\n    <path d=\"M 50.14375 457.198125 \r\nL 887.14375 457.198125 \r\nL 887.14375 22.318125 \r\nL 50.14375 22.318125 \r\nz\r\n\" style=\"fill:#ffffff;\"/>\r\n   </g>\r\n   <g id=\"matplotlib.axis_1\">\r\n    <g id=\"xtick_1\">\r\n     <g id=\"line2d_1\">\r\n      <defs>\r\n       <path d=\"M 0 0 \r\nL 0 3.5 \r\n\" id=\"mbb4aa12012\" style=\"stroke:#000000;stroke-width:0.8;\"/>\r\n      </defs>\r\n      <g>\r\n       <use style=\"stroke:#000000;stroke-width:0.8;\" x=\"88.189205\" xlink:href=\"#mbb4aa12012\" y=\"457.198125\"/>\r\n      </g>\r\n     </g>\r\n     <g id=\"text_1\">\r\n      <!-- 0 -->\r\n      <g transform=\"translate(85.007955 471.796562)scale(0.1 -0.1)\">\r\n       <defs>\r\n        <path d=\"M 31.78125 66.40625 \r\nQ 24.171875 66.40625 20.328125 58.90625 \r\nQ 16.5 51.421875 16.5 36.375 \r\nQ 16.5 21.390625 20.328125 13.890625 \r\nQ 24.171875 6.390625 31.78125 6.390625 \r\nQ 39.453125 6.390625 43.28125 13.890625 \r\nQ 47.125 21.390625 47.125 36.375 \r\nQ 47.125 51.421875 43.28125 58.90625 \r\nQ 39.453125 66.40625 31.78125 66.40625 \r\nz\r\nM 31.78125 74.21875 \r\nQ 44.046875 74.21875 50.515625 64.515625 \r\nQ 56.984375 54.828125 56.984375 36.375 \r\nQ 56.984375 17.96875 50.515625 8.265625 \r\nQ 44.046875 -1.421875 31.78125 -1.421875 \r\nQ 19.53125 -1.421875 13.0625 8.265625 \r\nQ 6.59375 17.96875 6.59375 36.375 \r\nQ 6.59375 54.828125 13.0625 64.515625 \r\nQ 19.53125 74.21875 31.78125 74.21875 \r\nz\r\n\" id=\"DejaVuSans-48\"/>\r\n       </defs>\r\n       <use xlink:href=\"#DejaVuSans-48\"/>\r\n      </g>\r\n     </g>\r\n    </g>\r\n    <g id=\"xtick_2\">\r\n     <g id=\"line2d_2\">\r\n      <g>\r\n       <use style=\"stroke:#000000;stroke-width:0.8;\" x=\"243.476774\" xlink:href=\"#mbb4aa12012\" y=\"457.198125\"/>\r\n      </g>\r\n     </g>\r\n     <g id=\"text_2\">\r\n      <!-- 10 -->\r\n      <g transform=\"translate(237.114274 471.796562)scale(0.1 -0.1)\">\r\n       <defs>\r\n        <path d=\"M 12.40625 8.296875 \r\nL 28.515625 8.296875 \r\nL 28.515625 63.921875 \r\nL 10.984375 60.40625 \r\nL 10.984375 69.390625 \r\nL 28.421875 72.90625 \r\nL 38.28125 72.90625 \r\nL 38.28125 8.296875 \r\nL 54.390625 8.296875 \r\nL 54.390625 0 \r\nL 12.40625 0 \r\nz\r\n\" id=\"DejaVuSans-49\"/>\r\n       </defs>\r\n       <use xlink:href=\"#DejaVuSans-49\"/>\r\n       <use x=\"63.623047\" xlink:href=\"#DejaVuSans-48\"/>\r\n      </g>\r\n     </g>\r\n    </g>\r\n    <g id=\"xtick_3\">\r\n     <g id=\"line2d_3\">\r\n      <g>\r\n       <use style=\"stroke:#000000;stroke-width:0.8;\" x=\"398.764344\" xlink:href=\"#mbb4aa12012\" y=\"457.198125\"/>\r\n      </g>\r\n     </g>\r\n     <g id=\"text_3\">\r\n      <!-- 20 -->\r\n      <g transform=\"translate(392.401844 471.796562)scale(0.1 -0.1)\">\r\n       <defs>\r\n        <path d=\"M 19.1875 8.296875 \r\nL 53.609375 8.296875 \r\nL 53.609375 0 \r\nL 7.328125 0 \r\nL 7.328125 8.296875 \r\nQ 12.9375 14.109375 22.625 23.890625 \r\nQ 32.328125 33.6875 34.8125 36.53125 \r\nQ 39.546875 41.84375 41.421875 45.53125 \r\nQ 43.3125 49.21875 43.3125 52.78125 \r\nQ 43.3125 58.59375 39.234375 62.25 \r\nQ 35.15625 65.921875 28.609375 65.921875 \r\nQ 23.96875 65.921875 18.8125 64.3125 \r\nQ 13.671875 62.703125 7.8125 59.421875 \r\nL 7.8125 69.390625 \r\nQ 13.765625 71.78125 18.9375 73 \r\nQ 24.125 74.21875 28.421875 74.21875 \r\nQ 39.75 74.21875 46.484375 68.546875 \r\nQ 53.21875 62.890625 53.21875 53.421875 \r\nQ 53.21875 48.921875 51.53125 44.890625 \r\nQ 49.859375 40.875 45.40625 35.40625 \r\nQ 44.1875 33.984375 37.640625 27.21875 \r\nQ 31.109375 20.453125 19.1875 8.296875 \r\nz\r\n\" id=\"DejaVuSans-50\"/>\r\n       </defs>\r\n       <use xlink:href=\"#DejaVuSans-50\"/>\r\n       <use x=\"63.623047\" xlink:href=\"#DejaVuSans-48\"/>\r\n      </g>\r\n     </g>\r\n    </g>\r\n    <g id=\"xtick_4\">\r\n     <g id=\"line2d_4\">\r\n      <g>\r\n       <use style=\"stroke:#000000;stroke-width:0.8;\" x=\"554.051913\" xlink:href=\"#mbb4aa12012\" y=\"457.198125\"/>\r\n      </g>\r\n     </g>\r\n     <g id=\"text_4\">\r\n      <!-- 30 -->\r\n      <g transform=\"translate(547.689413 471.796562)scale(0.1 -0.1)\">\r\n       <defs>\r\n        <path d=\"M 40.578125 39.3125 \r\nQ 47.65625 37.796875 51.625 33 \r\nQ 55.609375 28.21875 55.609375 21.1875 \r\nQ 55.609375 10.40625 48.1875 4.484375 \r\nQ 40.765625 -1.421875 27.09375 -1.421875 \r\nQ 22.515625 -1.421875 17.65625 -0.515625 \r\nQ 12.796875 0.390625 7.625 2.203125 \r\nL 7.625 11.71875 \r\nQ 11.71875 9.328125 16.59375 8.109375 \r\nQ 21.484375 6.890625 26.8125 6.890625 \r\nQ 36.078125 6.890625 40.9375 10.546875 \r\nQ 45.796875 14.203125 45.796875 21.1875 \r\nQ 45.796875 27.640625 41.28125 31.265625 \r\nQ 36.765625 34.90625 28.71875 34.90625 \r\nL 20.21875 34.90625 \r\nL 20.21875 43.015625 \r\nL 29.109375 43.015625 \r\nQ 36.375 43.015625 40.234375 45.921875 \r\nQ 44.09375 48.828125 44.09375 54.296875 \r\nQ 44.09375 59.90625 40.109375 62.90625 \r\nQ 36.140625 65.921875 28.71875 65.921875 \r\nQ 24.65625 65.921875 20.015625 65.03125 \r\nQ 15.375 64.15625 9.8125 62.3125 \r\nL 9.8125 71.09375 \r\nQ 15.4375 72.65625 20.34375 73.4375 \r\nQ 25.25 74.21875 29.59375 74.21875 \r\nQ 40.828125 74.21875 47.359375 69.109375 \r\nQ 53.90625 64.015625 53.90625 55.328125 \r\nQ 53.90625 49.265625 50.4375 45.09375 \r\nQ 46.96875 40.921875 40.578125 39.3125 \r\nz\r\n\" id=\"DejaVuSans-51\"/>\r\n       </defs>\r\n       <use xlink:href=\"#DejaVuSans-51\"/>\r\n       <use x=\"63.623047\" xlink:href=\"#DejaVuSans-48\"/>\r\n      </g>\r\n     </g>\r\n    </g>\r\n    <g id=\"xtick_5\">\r\n     <g id=\"line2d_5\">\r\n      <g>\r\n       <use style=\"stroke:#000000;stroke-width:0.8;\" x=\"709.339483\" xlink:href=\"#mbb4aa12012\" y=\"457.198125\"/>\r\n      </g>\r\n     </g>\r\n     <g id=\"text_5\">\r\n      <!-- 40 -->\r\n      <g transform=\"translate(702.976983 471.796562)scale(0.1 -0.1)\">\r\n       <defs>\r\n        <path d=\"M 37.796875 64.3125 \r\nL 12.890625 25.390625 \r\nL 37.796875 25.390625 \r\nz\r\nM 35.203125 72.90625 \r\nL 47.609375 72.90625 \r\nL 47.609375 25.390625 \r\nL 58.015625 25.390625 \r\nL 58.015625 17.1875 \r\nL 47.609375 17.1875 \r\nL 47.609375 0 \r\nL 37.796875 0 \r\nL 37.796875 17.1875 \r\nL 4.890625 17.1875 \r\nL 4.890625 26.703125 \r\nz\r\n\" id=\"DejaVuSans-52\"/>\r\n       </defs>\r\n       <use xlink:href=\"#DejaVuSans-52\"/>\r\n       <use x=\"63.623047\" xlink:href=\"#DejaVuSans-48\"/>\r\n      </g>\r\n     </g>\r\n    </g>\r\n    <g id=\"xtick_6\">\r\n     <g id=\"line2d_6\">\r\n      <g>\r\n       <use style=\"stroke:#000000;stroke-width:0.8;\" x=\"864.627052\" xlink:href=\"#mbb4aa12012\" y=\"457.198125\"/>\r\n      </g>\r\n     </g>\r\n     <g id=\"text_6\">\r\n      <!-- 50 -->\r\n      <g transform=\"translate(858.264552 471.796562)scale(0.1 -0.1)\">\r\n       <defs>\r\n        <path d=\"M 10.796875 72.90625 \r\nL 49.515625 72.90625 \r\nL 49.515625 64.59375 \r\nL 19.828125 64.59375 \r\nL 19.828125 46.734375 \r\nQ 21.96875 47.46875 24.109375 47.828125 \r\nQ 26.265625 48.1875 28.421875 48.1875 \r\nQ 40.625 48.1875 47.75 41.5 \r\nQ 54.890625 34.8125 54.890625 23.390625 \r\nQ 54.890625 11.625 47.5625 5.09375 \r\nQ 40.234375 -1.421875 26.90625 -1.421875 \r\nQ 22.3125 -1.421875 17.546875 -0.640625 \r\nQ 12.796875 0.140625 7.71875 1.703125 \r\nL 7.71875 11.625 \r\nQ 12.109375 9.234375 16.796875 8.0625 \r\nQ 21.484375 6.890625 26.703125 6.890625 \r\nQ 35.15625 6.890625 40.078125 11.328125 \r\nQ 45.015625 15.765625 45.015625 23.390625 \r\nQ 45.015625 31 40.078125 35.4375 \r\nQ 35.15625 39.890625 26.703125 39.890625 \r\nQ 22.75 39.890625 18.8125 39.015625 \r\nQ 14.890625 38.140625 10.796875 36.28125 \r\nz\r\n\" id=\"DejaVuSans-53\"/>\r\n       </defs>\r\n       <use xlink:href=\"#DejaVuSans-53\"/>\r\n       <use x=\"63.623047\" xlink:href=\"#DejaVuSans-48\"/>\r\n      </g>\r\n     </g>\r\n    </g>\r\n    <g id=\"text_7\">\r\n     <!-- epochs -->\r\n     <g transform=\"translate(450.810938 485.474687)scale(0.1 -0.1)\">\r\n      <defs>\r\n       <path d=\"M 56.203125 29.59375 \r\nL 56.203125 25.203125 \r\nL 14.890625 25.203125 \r\nQ 15.484375 15.921875 20.484375 11.0625 \r\nQ 25.484375 6.203125 34.421875 6.203125 \r\nQ 39.59375 6.203125 44.453125 7.46875 \r\nQ 49.3125 8.734375 54.109375 11.28125 \r\nL 54.109375 2.78125 \r\nQ 49.265625 0.734375 44.1875 -0.34375 \r\nQ 39.109375 -1.421875 33.890625 -1.421875 \r\nQ 20.796875 -1.421875 13.15625 6.1875 \r\nQ 5.515625 13.8125 5.515625 26.8125 \r\nQ 5.515625 40.234375 12.765625 48.109375 \r\nQ 20.015625 56 32.328125 56 \r\nQ 43.359375 56 49.78125 48.890625 \r\nQ 56.203125 41.796875 56.203125 29.59375 \r\nz\r\nM 47.21875 32.234375 \r\nQ 47.125 39.59375 43.09375 43.984375 \r\nQ 39.0625 48.390625 32.421875 48.390625 \r\nQ 24.90625 48.390625 20.390625 44.140625 \r\nQ 15.875 39.890625 15.1875 32.171875 \r\nz\r\n\" id=\"DejaVuSans-101\"/>\r\n       <path d=\"M 18.109375 8.203125 \r\nL 18.109375 -20.796875 \r\nL 9.078125 -20.796875 \r\nL 9.078125 54.6875 \r\nL 18.109375 54.6875 \r\nL 18.109375 46.390625 \r\nQ 20.953125 51.265625 25.265625 53.625 \r\nQ 29.59375 56 35.59375 56 \r\nQ 45.5625 56 51.78125 48.09375 \r\nQ 58.015625 40.1875 58.015625 27.296875 \r\nQ 58.015625 14.40625 51.78125 6.484375 \r\nQ 45.5625 -1.421875 35.59375 -1.421875 \r\nQ 29.59375 -1.421875 25.265625 0.953125 \r\nQ 20.953125 3.328125 18.109375 8.203125 \r\nz\r\nM 48.6875 27.296875 \r\nQ 48.6875 37.203125 44.609375 42.84375 \r\nQ 40.53125 48.484375 33.40625 48.484375 \r\nQ 26.265625 48.484375 22.1875 42.84375 \r\nQ 18.109375 37.203125 18.109375 27.296875 \r\nQ 18.109375 17.390625 22.1875 11.75 \r\nQ 26.265625 6.109375 33.40625 6.109375 \r\nQ 40.53125 6.109375 44.609375 11.75 \r\nQ 48.6875 17.390625 48.6875 27.296875 \r\nz\r\n\" id=\"DejaVuSans-112\"/>\r\n       <path d=\"M 30.609375 48.390625 \r\nQ 23.390625 48.390625 19.1875 42.75 \r\nQ 14.984375 37.109375 14.984375 27.296875 \r\nQ 14.984375 17.484375 19.15625 11.84375 \r\nQ 23.34375 6.203125 30.609375 6.203125 \r\nQ 37.796875 6.203125 41.984375 11.859375 \r\nQ 46.1875 17.53125 46.1875 27.296875 \r\nQ 46.1875 37.015625 41.984375 42.703125 \r\nQ 37.796875 48.390625 30.609375 48.390625 \r\nz\r\nM 30.609375 56 \r\nQ 42.328125 56 49.015625 48.375 \r\nQ 55.71875 40.765625 55.71875 27.296875 \r\nQ 55.71875 13.875 49.015625 6.21875 \r\nQ 42.328125 -1.421875 30.609375 -1.421875 \r\nQ 18.84375 -1.421875 12.171875 6.21875 \r\nQ 5.515625 13.875 5.515625 27.296875 \r\nQ 5.515625 40.765625 12.171875 48.375 \r\nQ 18.84375 56 30.609375 56 \r\nz\r\n\" id=\"DejaVuSans-111\"/>\r\n       <path d=\"M 48.78125 52.59375 \r\nL 48.78125 44.1875 \r\nQ 44.96875 46.296875 41.140625 47.34375 \r\nQ 37.3125 48.390625 33.40625 48.390625 \r\nQ 24.65625 48.390625 19.8125 42.84375 \r\nQ 14.984375 37.3125 14.984375 27.296875 \r\nQ 14.984375 17.28125 19.8125 11.734375 \r\nQ 24.65625 6.203125 33.40625 6.203125 \r\nQ 37.3125 6.203125 41.140625 7.25 \r\nQ 44.96875 8.296875 48.78125 10.40625 \r\nL 48.78125 2.09375 \r\nQ 45.015625 0.34375 40.984375 -0.53125 \r\nQ 36.96875 -1.421875 32.421875 -1.421875 \r\nQ 20.0625 -1.421875 12.78125 6.34375 \r\nQ 5.515625 14.109375 5.515625 27.296875 \r\nQ 5.515625 40.671875 12.859375 48.328125 \r\nQ 20.21875 56 33.015625 56 \r\nQ 37.15625 56 41.109375 55.140625 \r\nQ 45.0625 54.296875 48.78125 52.59375 \r\nz\r\n\" id=\"DejaVuSans-99\"/>\r\n       <path d=\"M 54.890625 33.015625 \r\nL 54.890625 0 \r\nL 45.90625 0 \r\nL 45.90625 32.71875 \r\nQ 45.90625 40.484375 42.875 44.328125 \r\nQ 39.84375 48.1875 33.796875 48.1875 \r\nQ 26.515625 48.1875 22.3125 43.546875 \r\nQ 18.109375 38.921875 18.109375 30.90625 \r\nL 18.109375 0 \r\nL 9.078125 0 \r\nL 9.078125 75.984375 \r\nL 18.109375 75.984375 \r\nL 18.109375 46.1875 \r\nQ 21.34375 51.125 25.703125 53.5625 \r\nQ 30.078125 56 35.796875 56 \r\nQ 45.21875 56 50.046875 50.171875 \r\nQ 54.890625 44.34375 54.890625 33.015625 \r\nz\r\n\" id=\"DejaVuSans-104\"/>\r\n       <path d=\"M 44.28125 53.078125 \r\nL 44.28125 44.578125 \r\nQ 40.484375 46.53125 36.375 47.5 \r\nQ 32.28125 48.484375 27.875 48.484375 \r\nQ 21.1875 48.484375 17.84375 46.4375 \r\nQ 14.5 44.390625 14.5 40.28125 \r\nQ 14.5 37.15625 16.890625 35.375 \r\nQ 19.28125 33.59375 26.515625 31.984375 \r\nL 29.59375 31.296875 \r\nQ 39.15625 29.25 43.1875 25.515625 \r\nQ 47.21875 21.78125 47.21875 15.09375 \r\nQ 47.21875 7.46875 41.1875 3.015625 \r\nQ 35.15625 -1.421875 24.609375 -1.421875 \r\nQ 20.21875 -1.421875 15.453125 -0.5625 \r\nQ 10.6875 0.296875 5.421875 2 \r\nL 5.421875 11.28125 \r\nQ 10.40625 8.6875 15.234375 7.390625 \r\nQ 20.0625 6.109375 24.8125 6.109375 \r\nQ 31.15625 6.109375 34.5625 8.28125 \r\nQ 37.984375 10.453125 37.984375 14.40625 \r\nQ 37.984375 18.0625 35.515625 20.015625 \r\nQ 33.0625 21.96875 24.703125 23.78125 \r\nL 21.578125 24.515625 \r\nQ 13.234375 26.265625 9.515625 29.90625 \r\nQ 5.8125 33.546875 5.8125 39.890625 \r\nQ 5.8125 47.609375 11.28125 51.796875 \r\nQ 16.75 56 26.8125 56 \r\nQ 31.78125 56 36.171875 55.265625 \r\nQ 40.578125 54.546875 44.28125 53.078125 \r\nz\r\n\" id=\"DejaVuSans-115\"/>\r\n      </defs>\r\n      <use xlink:href=\"#DejaVuSans-101\"/>\r\n      <use x=\"61.523438\" xlink:href=\"#DejaVuSans-112\"/>\r\n      <use x=\"125\" xlink:href=\"#DejaVuSans-111\"/>\r\n      <use x=\"186.181641\" xlink:href=\"#DejaVuSans-99\"/>\r\n      <use x=\"241.162109\" xlink:href=\"#DejaVuSans-104\"/>\r\n      <use x=\"304.541016\" xlink:href=\"#DejaVuSans-115\"/>\r\n     </g>\r\n    </g>\r\n   </g>\r\n   <g id=\"matplotlib.axis_2\">\r\n    <g id=\"ytick_1\">\r\n     <g id=\"line2d_7\">\r\n      <defs>\r\n       <path d=\"M 0 0 \r\nL -3.5 0 \r\n\" id=\"mcf451f970d\" style=\"stroke:#000000;stroke-width:0.8;\"/>\r\n      </defs>\r\n      <g>\r\n       <use style=\"stroke:#000000;stroke-width:0.8;\" x=\"50.14375\" xlink:href=\"#mcf451f970d\" y=\"455.659485\"/>\r\n      </g>\r\n     </g>\r\n     <g id=\"text_8\">\r\n      <!-- 1.25 -->\r\n      <g transform=\"translate(20.878125 459.458704)scale(0.1 -0.1)\">\r\n       <defs>\r\n        <path d=\"M 10.6875 12.40625 \r\nL 21 12.40625 \r\nL 21 0 \r\nL 10.6875 0 \r\nz\r\n\" id=\"DejaVuSans-46\"/>\r\n       </defs>\r\n       <use xlink:href=\"#DejaVuSans-49\"/>\r\n       <use x=\"63.623047\" xlink:href=\"#DejaVuSans-46\"/>\r\n       <use x=\"95.410156\" xlink:href=\"#DejaVuSans-50\"/>\r\n       <use x=\"159.033203\" xlink:href=\"#DejaVuSans-53\"/>\r\n      </g>\r\n     </g>\r\n    </g>\r\n    <g id=\"ytick_2\">\r\n     <g id=\"line2d_8\">\r\n      <g>\r\n       <use style=\"stroke:#000000;stroke-width:0.8;\" x=\"50.14375\" xlink:href=\"#mcf451f970d\" y=\"403.755625\"/>\r\n      </g>\r\n     </g>\r\n     <g id=\"text_9\">\r\n      <!-- 1.50 -->\r\n      <g transform=\"translate(20.878125 407.554843)scale(0.1 -0.1)\">\r\n       <use xlink:href=\"#DejaVuSans-49\"/>\r\n       <use x=\"63.623047\" xlink:href=\"#DejaVuSans-46\"/>\r\n       <use x=\"95.410156\" xlink:href=\"#DejaVuSans-53\"/>\r\n       <use x=\"159.033203\" xlink:href=\"#DejaVuSans-48\"/>\r\n      </g>\r\n     </g>\r\n    </g>\r\n    <g id=\"ytick_3\">\r\n     <g id=\"line2d_9\">\r\n      <g>\r\n       <use style=\"stroke:#000000;stroke-width:0.8;\" x=\"50.14375\" xlink:href=\"#mcf451f970d\" y=\"351.851764\"/>\r\n      </g>\r\n     </g>\r\n     <g id=\"text_10\">\r\n      <!-- 1.75 -->\r\n      <g transform=\"translate(20.878125 355.650983)scale(0.1 -0.1)\">\r\n       <defs>\r\n        <path d=\"M 8.203125 72.90625 \r\nL 55.078125 72.90625 \r\nL 55.078125 68.703125 \r\nL 28.609375 0 \r\nL 18.3125 0 \r\nL 43.21875 64.59375 \r\nL 8.203125 64.59375 \r\nz\r\n\" id=\"DejaVuSans-55\"/>\r\n       </defs>\r\n       <use xlink:href=\"#DejaVuSans-49\"/>\r\n       <use x=\"63.623047\" xlink:href=\"#DejaVuSans-46\"/>\r\n       <use x=\"95.410156\" xlink:href=\"#DejaVuSans-55\"/>\r\n       <use x=\"159.033203\" xlink:href=\"#DejaVuSans-53\"/>\r\n      </g>\r\n     </g>\r\n    </g>\r\n    <g id=\"ytick_4\">\r\n     <g id=\"line2d_10\">\r\n      <g>\r\n       <use style=\"stroke:#000000;stroke-width:0.8;\" x=\"50.14375\" xlink:href=\"#mcf451f970d\" y=\"299.947904\"/>\r\n      </g>\r\n     </g>\r\n     <g id=\"text_11\">\r\n      <!-- 2.00 -->\r\n      <g transform=\"translate(20.878125 303.747122)scale(0.1 -0.1)\">\r\n       <use xlink:href=\"#DejaVuSans-50\"/>\r\n       <use x=\"63.623047\" xlink:href=\"#DejaVuSans-46\"/>\r\n       <use x=\"95.410156\" xlink:href=\"#DejaVuSans-48\"/>\r\n       <use x=\"159.033203\" xlink:href=\"#DejaVuSans-48\"/>\r\n      </g>\r\n     </g>\r\n    </g>\r\n    <g id=\"ytick_5\">\r\n     <g id=\"line2d_11\">\r\n      <g>\r\n       <use style=\"stroke:#000000;stroke-width:0.8;\" x=\"50.14375\" xlink:href=\"#mcf451f970d\" y=\"248.044043\"/>\r\n      </g>\r\n     </g>\r\n     <g id=\"text_12\">\r\n      <!-- 2.25 -->\r\n      <g transform=\"translate(20.878125 251.843262)scale(0.1 -0.1)\">\r\n       <use xlink:href=\"#DejaVuSans-50\"/>\r\n       <use x=\"63.623047\" xlink:href=\"#DejaVuSans-46\"/>\r\n       <use x=\"95.410156\" xlink:href=\"#DejaVuSans-50\"/>\r\n       <use x=\"159.033203\" xlink:href=\"#DejaVuSans-53\"/>\r\n      </g>\r\n     </g>\r\n    </g>\r\n    <g id=\"ytick_6\">\r\n     <g id=\"line2d_12\">\r\n      <g>\r\n       <use style=\"stroke:#000000;stroke-width:0.8;\" x=\"50.14375\" xlink:href=\"#mcf451f970d\" y=\"196.140183\"/>\r\n      </g>\r\n     </g>\r\n     <g id=\"text_13\">\r\n      <!-- 2.50 -->\r\n      <g transform=\"translate(20.878125 199.939401)scale(0.1 -0.1)\">\r\n       <use xlink:href=\"#DejaVuSans-50\"/>\r\n       <use x=\"63.623047\" xlink:href=\"#DejaVuSans-46\"/>\r\n       <use x=\"95.410156\" xlink:href=\"#DejaVuSans-53\"/>\r\n       <use x=\"159.033203\" xlink:href=\"#DejaVuSans-48\"/>\r\n      </g>\r\n     </g>\r\n    </g>\r\n    <g id=\"ytick_7\">\r\n     <g id=\"line2d_13\">\r\n      <g>\r\n       <use style=\"stroke:#000000;stroke-width:0.8;\" x=\"50.14375\" xlink:href=\"#mcf451f970d\" y=\"144.236322\"/>\r\n      </g>\r\n     </g>\r\n     <g id=\"text_14\">\r\n      <!-- 2.75 -->\r\n      <g transform=\"translate(20.878125 148.035541)scale(0.1 -0.1)\">\r\n       <use xlink:href=\"#DejaVuSans-50\"/>\r\n       <use x=\"63.623047\" xlink:href=\"#DejaVuSans-46\"/>\r\n       <use x=\"95.410156\" xlink:href=\"#DejaVuSans-55\"/>\r\n       <use x=\"159.033203\" xlink:href=\"#DejaVuSans-53\"/>\r\n      </g>\r\n     </g>\r\n    </g>\r\n    <g id=\"ytick_8\">\r\n     <g id=\"line2d_14\">\r\n      <g>\r\n       <use style=\"stroke:#000000;stroke-width:0.8;\" x=\"50.14375\" xlink:href=\"#mcf451f970d\" y=\"92.332462\"/>\r\n      </g>\r\n     </g>\r\n     <g id=\"text_15\">\r\n      <!-- 3.00 -->\r\n      <g transform=\"translate(20.878125 96.13168)scale(0.1 -0.1)\">\r\n       <use xlink:href=\"#DejaVuSans-51\"/>\r\n       <use x=\"63.623047\" xlink:href=\"#DejaVuSans-46\"/>\r\n       <use x=\"95.410156\" xlink:href=\"#DejaVuSans-48\"/>\r\n       <use x=\"159.033203\" xlink:href=\"#DejaVuSans-48\"/>\r\n      </g>\r\n     </g>\r\n    </g>\r\n    <g id=\"ytick_9\">\r\n     <g id=\"line2d_15\">\r\n      <g>\r\n       <use style=\"stroke:#000000;stroke-width:0.8;\" x=\"50.14375\" xlink:href=\"#mcf451f970d\" y=\"40.428601\"/>\r\n      </g>\r\n     </g>\r\n     <g id=\"text_16\">\r\n      <!-- 3.25 -->\r\n      <g transform=\"translate(20.878125 44.22782)scale(0.1 -0.1)\">\r\n       <use xlink:href=\"#DejaVuSans-51\"/>\r\n       <use x=\"63.623047\" xlink:href=\"#DejaVuSans-46\"/>\r\n       <use x=\"95.410156\" xlink:href=\"#DejaVuSans-50\"/>\r\n       <use x=\"159.033203\" xlink:href=\"#DejaVuSans-53\"/>\r\n      </g>\r\n     </g>\r\n    </g>\r\n    <g id=\"text_17\">\r\n     <!-- value -->\r\n     <g transform=\"translate(14.798437 253.415937)rotate(-90)scale(0.1 -0.1)\">\r\n      <defs>\r\n       <path d=\"M 2.984375 54.6875 \r\nL 12.5 54.6875 \r\nL 29.59375 8.796875 \r\nL 46.6875 54.6875 \r\nL 56.203125 54.6875 \r\nL 35.6875 0 \r\nL 23.484375 0 \r\nz\r\n\" id=\"DejaVuSans-118\"/>\r\n       <path d=\"M 34.28125 27.484375 \r\nQ 23.390625 27.484375 19.1875 25 \r\nQ 14.984375 22.515625 14.984375 16.5 \r\nQ 14.984375 11.71875 18.140625 8.90625 \r\nQ 21.296875 6.109375 26.703125 6.109375 \r\nQ 34.1875 6.109375 38.703125 11.40625 \r\nQ 43.21875 16.703125 43.21875 25.484375 \r\nL 43.21875 27.484375 \r\nz\r\nM 52.203125 31.203125 \r\nL 52.203125 0 \r\nL 43.21875 0 \r\nL 43.21875 8.296875 \r\nQ 40.140625 3.328125 35.546875 0.953125 \r\nQ 30.953125 -1.421875 24.3125 -1.421875 \r\nQ 15.921875 -1.421875 10.953125 3.296875 \r\nQ 6 8.015625 6 15.921875 \r\nQ 6 25.140625 12.171875 29.828125 \r\nQ 18.359375 34.515625 30.609375 34.515625 \r\nL 43.21875 34.515625 \r\nL 43.21875 35.40625 \r\nQ 43.21875 41.609375 39.140625 45 \r\nQ 35.0625 48.390625 27.6875 48.390625 \r\nQ 23 48.390625 18.546875 47.265625 \r\nQ 14.109375 46.140625 10.015625 43.890625 \r\nL 10.015625 52.203125 \r\nQ 14.9375 54.109375 19.578125 55.046875 \r\nQ 24.21875 56 28.609375 56 \r\nQ 40.484375 56 46.34375 49.84375 \r\nQ 52.203125 43.703125 52.203125 31.203125 \r\nz\r\n\" id=\"DejaVuSans-97\"/>\r\n       <path d=\"M 9.421875 75.984375 \r\nL 18.40625 75.984375 \r\nL 18.40625 0 \r\nL 9.421875 0 \r\nz\r\n\" id=\"DejaVuSans-108\"/>\r\n       <path d=\"M 8.5 21.578125 \r\nL 8.5 54.6875 \r\nL 17.484375 54.6875 \r\nL 17.484375 21.921875 \r\nQ 17.484375 14.15625 20.5 10.265625 \r\nQ 23.53125 6.390625 29.59375 6.390625 \r\nQ 36.859375 6.390625 41.078125 11.03125 \r\nQ 45.3125 15.671875 45.3125 23.6875 \r\nL 45.3125 54.6875 \r\nL 54.296875 54.6875 \r\nL 54.296875 0 \r\nL 45.3125 0 \r\nL 45.3125 8.40625 \r\nQ 42.046875 3.421875 37.71875 1 \r\nQ 33.40625 -1.421875 27.6875 -1.421875 \r\nQ 18.265625 -1.421875 13.375 4.4375 \r\nQ 8.5 10.296875 8.5 21.578125 \r\nz\r\nM 31.109375 56 \r\nz\r\n\" id=\"DejaVuSans-117\"/>\r\n      </defs>\r\n      <use xlink:href=\"#DejaVuSans-118\"/>\r\n      <use x=\"59.179688\" xlink:href=\"#DejaVuSans-97\"/>\r\n      <use x=\"120.458984\" xlink:href=\"#DejaVuSans-108\"/>\r\n      <use x=\"148.242188\" xlink:href=\"#DejaVuSans-117\"/>\r\n      <use x=\"211.621094\" xlink:href=\"#DejaVuSans-101\"/>\r\n     </g>\r\n    </g>\r\n   </g>\r\n   <g id=\"line2d_16\">\r\n    <path clip-path=\"url(#peac2e5b99c)\" d=\"M 88.189205 139.816462 \r\nL 103.717962 170.474538 \r\nL 119.246718 135.732944 \r\nL 134.775475 325.58782 \r\nL 150.304232 421.168122 \r\nL 165.832989 434.224254 \r\nL 181.361746 428.508302 \r\nL 196.890503 428.576004 \r\nL 212.41926 429.414568 \r\nL 227.948017 425.42079 \r\nL 243.476774 409.113283 \r\nL 259.005531 431.768837 \r\nL 274.534288 433.204445 \r\nL 290.063045 416.317538 \r\nL 305.591802 405.476849 \r\nL 321.120559 434.275831 \r\nL 336.649316 428.729996 \r\nL 352.178073 418.250723 \r\nL 367.70683 376.000412 \r\nL 383.235587 425.59811 \r\nL 398.764344 436.616259 \r\nL 414.293101 400.13511 \r\nL 429.821858 437.430852 \r\nL 445.350615 433.890664 \r\nL 460.879372 430.596128 \r\nL 476.408128 430.533235 \r\nL 491.936885 437.113174 \r\nL 507.465642 407.415387 \r\nL 522.994399 429.809384 \r\nL 538.523156 433.228185 \r\nL 554.051913 436.76646 \r\nL 569.58067 436.430402 \r\nL 585.109427 434.80425 \r\nL 600.638184 359.315352 \r\nL 616.166941 382.61424 \r\nL 631.695698 424.969004 \r\nL 647.224455 433.506573 \r\nL 662.753212 432.535853 \r\nL 678.281969 382.957742 \r\nL 693.810726 432.108061 \r\nL 709.339483 405.036016 \r\nL 724.86824 432.085832 \r\nL 740.396997 435.883444 \r\nL 755.925754 399.667844 \r\nL 771.454511 429.679094 \r\nL 786.983268 433.465003 \r\nL 802.512025 427.975565 \r\nL 818.040782 428.846458 \r\nL 833.569538 435.948418 \r\nL 849.098295 380.477518 \r\n\" style=\"fill:none;stroke:#1f77b4;stroke-linecap:square;stroke-width:1.5;\"/>\r\n   </g>\r\n   <g id=\"line2d_17\">\r\n    <path clip-path=\"url(#peac2e5b99c)\" d=\"M 88.189205 42.085398 \r\nL 103.717962 84.179229 \r\nL 119.246718 180.148369 \r\nL 134.775475 370.750294 \r\nL 150.304232 431.398488 \r\nL 165.832989 418.089313 \r\nL 181.361746 423.380518 \r\nL 196.890503 424.724893 \r\nL 212.41926 421.583078 \r\nL 227.948017 423.043213 \r\nL 243.476774 424.301138 \r\nL 259.005531 422.91034 \r\nL 274.534288 420.203146 \r\nL 290.063045 423.975687 \r\nL 305.591802 421.432148 \r\nL 321.120559 419.61213 \r\nL 336.649316 419.638194 \r\nL 352.178073 417.817161 \r\nL 367.70683 419.920503 \r\nL 383.235587 418.233396 \r\nL 398.764344 414.725062 \r\nL 414.293101 416.713718 \r\nL 429.821858 416.749982 \r\nL 445.350615 416.354851 \r\nL 460.879372 410.805888 \r\nL 476.408128 417.360761 \r\nL 491.936885 413.261543 \r\nL 507.465642 418.233132 \r\nL 522.994399 414.405648 \r\nL 538.523156 409.091822 \r\nL 554.051913 416.21799 \r\nL 569.58067 415.307901 \r\nL 585.109427 414.624451 \r\nL 600.638184 415.417401 \r\nL 616.166941 417.658846 \r\nL 631.695698 413.628152 \r\nL 647.224455 416.299691 \r\nL 662.753212 413.758689 \r\nL 678.281969 416.357649 \r\nL 693.810726 416.227514 \r\nL 709.339483 414.360315 \r\nL 724.86824 416.73555 \r\nL 740.396997 415.446719 \r\nL 755.925754 414.591842 \r\nL 771.454511 416.514334 \r\nL 786.983268 412.458721 \r\nL 802.512025 411.537526 \r\nL 818.040782 413.57605 \r\nL 833.569538 411.934693 \r\nL 849.098295 416.482323 \r\n\" style=\"fill:none;stroke:#ff7f0e;stroke-linecap:square;stroke-width:1.5;\"/>\r\n   </g>\r\n   <g id=\"line2d_18\"/>\r\n   <g id=\"line2d_19\"/>\r\n   <g id=\"patch_3\">\r\n    <path d=\"M 50.14375 457.198125 \r\nL 50.14375 22.318125 \r\n\" style=\"fill:none;stroke:#000000;stroke-linecap:square;stroke-linejoin:miter;stroke-width:0.8;\"/>\r\n   </g>\r\n   <g id=\"patch_4\">\r\n    <path d=\"M 887.14375 457.198125 \r\nL 887.14375 22.318125 \r\n\" style=\"fill:none;stroke:#000000;stroke-linecap:square;stroke-linejoin:miter;stroke-width:0.8;\"/>\r\n   </g>\r\n   <g id=\"patch_5\">\r\n    <path d=\"M 50.14375 457.198125 \r\nL 887.14375 457.198125 \r\n\" style=\"fill:none;stroke:#000000;stroke-linecap:square;stroke-linejoin:miter;stroke-width:0.8;\"/>\r\n   </g>\r\n   <g id=\"patch_6\">\r\n    <path d=\"M 50.14375 22.318125 \r\nL 887.14375 22.318125 \r\n\" style=\"fill:none;stroke:#000000;stroke-linecap:square;stroke-linejoin:miter;stroke-width:0.8;\"/>\r\n   </g>\r\n   <g id=\"text_18\">\r\n    <!-- Train-Val Loss/Epoch -->\r\n    <g transform=\"translate(407.994063 16.318125)scale(0.12 -0.12)\">\r\n     <defs>\r\n      <path d=\"M -0.296875 72.90625 \r\nL 61.375 72.90625 \r\nL 61.375 64.59375 \r\nL 35.5 64.59375 \r\nL 35.5 0 \r\nL 25.59375 0 \r\nL 25.59375 64.59375 \r\nL -0.296875 64.59375 \r\nz\r\n\" id=\"DejaVuSans-84\"/>\r\n      <path d=\"M 41.109375 46.296875 \r\nQ 39.59375 47.171875 37.8125 47.578125 \r\nQ 36.03125 48 33.890625 48 \r\nQ 26.265625 48 22.1875 43.046875 \r\nQ 18.109375 38.09375 18.109375 28.8125 \r\nL 18.109375 0 \r\nL 9.078125 0 \r\nL 9.078125 54.6875 \r\nL 18.109375 54.6875 \r\nL 18.109375 46.1875 \r\nQ 20.953125 51.171875 25.484375 53.578125 \r\nQ 30.03125 56 36.53125 56 \r\nQ 37.453125 56 38.578125 55.875 \r\nQ 39.703125 55.765625 41.0625 55.515625 \r\nz\r\n\" id=\"DejaVuSans-114\"/>\r\n      <path d=\"M 9.421875 54.6875 \r\nL 18.40625 54.6875 \r\nL 18.40625 0 \r\nL 9.421875 0 \r\nz\r\nM 9.421875 75.984375 \r\nL 18.40625 75.984375 \r\nL 18.40625 64.59375 \r\nL 9.421875 64.59375 \r\nz\r\n\" id=\"DejaVuSans-105\"/>\r\n      <path d=\"M 54.890625 33.015625 \r\nL 54.890625 0 \r\nL 45.90625 0 \r\nL 45.90625 32.71875 \r\nQ 45.90625 40.484375 42.875 44.328125 \r\nQ 39.84375 48.1875 33.796875 48.1875 \r\nQ 26.515625 48.1875 22.3125 43.546875 \r\nQ 18.109375 38.921875 18.109375 30.90625 \r\nL 18.109375 0 \r\nL 9.078125 0 \r\nL 9.078125 54.6875 \r\nL 18.109375 54.6875 \r\nL 18.109375 46.1875 \r\nQ 21.34375 51.125 25.703125 53.5625 \r\nQ 30.078125 56 35.796875 56 \r\nQ 45.21875 56 50.046875 50.171875 \r\nQ 54.890625 44.34375 54.890625 33.015625 \r\nz\r\n\" id=\"DejaVuSans-110\"/>\r\n      <path d=\"M 4.890625 31.390625 \r\nL 31.203125 31.390625 \r\nL 31.203125 23.390625 \r\nL 4.890625 23.390625 \r\nz\r\n\" id=\"DejaVuSans-45\"/>\r\n      <path d=\"M 28.609375 0 \r\nL 0.78125 72.90625 \r\nL 11.078125 72.90625 \r\nL 34.1875 11.53125 \r\nL 57.328125 72.90625 \r\nL 67.578125 72.90625 \r\nL 39.796875 0 \r\nz\r\n\" id=\"DejaVuSans-86\"/>\r\n      <path id=\"DejaVuSans-32\"/>\r\n      <path d=\"M 9.8125 72.90625 \r\nL 19.671875 72.90625 \r\nL 19.671875 8.296875 \r\nL 55.171875 8.296875 \r\nL 55.171875 0 \r\nL 9.8125 0 \r\nz\r\n\" id=\"DejaVuSans-76\"/>\r\n      <path d=\"M 25.390625 72.90625 \r\nL 33.6875 72.90625 \r\nL 8.296875 -9.28125 \r\nL 0 -9.28125 \r\nz\r\n\" id=\"DejaVuSans-47\"/>\r\n      <path d=\"M 9.8125 72.90625 \r\nL 55.90625 72.90625 \r\nL 55.90625 64.59375 \r\nL 19.671875 64.59375 \r\nL 19.671875 43.015625 \r\nL 54.390625 43.015625 \r\nL 54.390625 34.71875 \r\nL 19.671875 34.71875 \r\nL 19.671875 8.296875 \r\nL 56.78125 8.296875 \r\nL 56.78125 0 \r\nL 9.8125 0 \r\nz\r\n\" id=\"DejaVuSans-69\"/>\r\n     </defs>\r\n     <use xlink:href=\"#DejaVuSans-84\"/>\r\n     <use x=\"46.333984\" xlink:href=\"#DejaVuSans-114\"/>\r\n     <use x=\"87.447266\" xlink:href=\"#DejaVuSans-97\"/>\r\n     <use x=\"148.726562\" xlink:href=\"#DejaVuSans-105\"/>\r\n     <use x=\"176.509766\" xlink:href=\"#DejaVuSans-110\"/>\r\n     <use x=\"239.888672\" xlink:href=\"#DejaVuSans-45\"/>\r\n     <use x=\"270.097656\" xlink:href=\"#DejaVuSans-86\"/>\r\n     <use x=\"330.755859\" xlink:href=\"#DejaVuSans-97\"/>\r\n     <use x=\"392.035156\" xlink:href=\"#DejaVuSans-108\"/>\r\n     <use x=\"419.818359\" xlink:href=\"#DejaVuSans-32\"/>\r\n     <use x=\"451.605469\" xlink:href=\"#DejaVuSans-76\"/>\r\n     <use x=\"505.568359\" xlink:href=\"#DejaVuSans-111\"/>\r\n     <use x=\"566.75\" xlink:href=\"#DejaVuSans-115\"/>\r\n     <use x=\"618.849609\" xlink:href=\"#DejaVuSans-115\"/>\r\n     <use x=\"670.949219\" xlink:href=\"#DejaVuSans-47\"/>\r\n     <use x=\"704.640625\" xlink:href=\"#DejaVuSans-69\"/>\r\n     <use x=\"767.824219\" xlink:href=\"#DejaVuSans-112\"/>\r\n     <use x=\"831.300781\" xlink:href=\"#DejaVuSans-111\"/>\r\n     <use x=\"892.482422\" xlink:href=\"#DejaVuSans-99\"/>\r\n     <use x=\"947.462891\" xlink:href=\"#DejaVuSans-104\"/>\r\n    </g>\r\n   </g>\r\n   <g id=\"legend_1\">\r\n    <g id=\"patch_7\">\r\n     <path d=\"M 824.86875 74.3525 \r\nL 880.14375 74.3525 \r\nQ 882.14375 74.3525 882.14375 72.3525 \r\nL 882.14375 29.318125 \r\nQ 882.14375 27.318125 880.14375 27.318125 \r\nL 824.86875 27.318125 \r\nQ 822.86875 27.318125 822.86875 29.318125 \r\nL 822.86875 72.3525 \r\nQ 822.86875 74.3525 824.86875 74.3525 \r\nz\r\n\" style=\"fill:#ffffff;opacity:0.8;stroke:#cccccc;stroke-linejoin:miter;\"/>\r\n    </g>\r\n    <g id=\"text_19\">\r\n     <!-- variable -->\r\n     <g transform=\"translate(832.334375 38.916562)scale(0.1 -0.1)\">\r\n      <defs>\r\n       <path d=\"M 48.6875 27.296875 \r\nQ 48.6875 37.203125 44.609375 42.84375 \r\nQ 40.53125 48.484375 33.40625 48.484375 \r\nQ 26.265625 48.484375 22.1875 42.84375 \r\nQ 18.109375 37.203125 18.109375 27.296875 \r\nQ 18.109375 17.390625 22.1875 11.75 \r\nQ 26.265625 6.109375 33.40625 6.109375 \r\nQ 40.53125 6.109375 44.609375 11.75 \r\nQ 48.6875 17.390625 48.6875 27.296875 \r\nz\r\nM 18.109375 46.390625 \r\nQ 20.953125 51.265625 25.265625 53.625 \r\nQ 29.59375 56 35.59375 56 \r\nQ 45.5625 56 51.78125 48.09375 \r\nQ 58.015625 40.1875 58.015625 27.296875 \r\nQ 58.015625 14.40625 51.78125 6.484375 \r\nQ 45.5625 -1.421875 35.59375 -1.421875 \r\nQ 29.59375 -1.421875 25.265625 0.953125 \r\nQ 20.953125 3.328125 18.109375 8.203125 \r\nL 18.109375 0 \r\nL 9.078125 0 \r\nL 9.078125 75.984375 \r\nL 18.109375 75.984375 \r\nz\r\n\" id=\"DejaVuSans-98\"/>\r\n      </defs>\r\n      <use xlink:href=\"#DejaVuSans-118\"/>\r\n      <use x=\"59.179688\" xlink:href=\"#DejaVuSans-97\"/>\r\n      <use x=\"120.458984\" xlink:href=\"#DejaVuSans-114\"/>\r\n      <use x=\"161.572266\" xlink:href=\"#DejaVuSans-105\"/>\r\n      <use x=\"189.355469\" xlink:href=\"#DejaVuSans-97\"/>\r\n      <use x=\"250.634766\" xlink:href=\"#DejaVuSans-98\"/>\r\n      <use x=\"314.111328\" xlink:href=\"#DejaVuSans-108\"/>\r\n      <use x=\"341.894531\" xlink:href=\"#DejaVuSans-101\"/>\r\n     </g>\r\n    </g>\r\n    <g id=\"line2d_20\">\r\n     <path d=\"M 826.86875 50.094687 \r\nL 846.86875 50.094687 \r\n\" style=\"fill:none;stroke:#1f77b4;stroke-linecap:square;stroke-width:1.5;\"/>\r\n    </g>\r\n    <g id=\"line2d_21\"/>\r\n    <g id=\"text_20\">\r\n     <!-- train -->\r\n     <g transform=\"translate(854.86875 53.594687)scale(0.1 -0.1)\">\r\n      <defs>\r\n       <path d=\"M 18.3125 70.21875 \r\nL 18.3125 54.6875 \r\nL 36.8125 54.6875 \r\nL 36.8125 47.703125 \r\nL 18.3125 47.703125 \r\nL 18.3125 18.015625 \r\nQ 18.3125 11.328125 20.140625 9.421875 \r\nQ 21.96875 7.515625 27.59375 7.515625 \r\nL 36.8125 7.515625 \r\nL 36.8125 0 \r\nL 27.59375 0 \r\nQ 17.1875 0 13.234375 3.875 \r\nQ 9.28125 7.765625 9.28125 18.015625 \r\nL 9.28125 47.703125 \r\nL 2.6875 47.703125 \r\nL 2.6875 54.6875 \r\nL 9.28125 54.6875 \r\nL 9.28125 70.21875 \r\nz\r\n\" id=\"DejaVuSans-116\"/>\r\n      </defs>\r\n      <use xlink:href=\"#DejaVuSans-116\"/>\r\n      <use x=\"39.208984\" xlink:href=\"#DejaVuSans-114\"/>\r\n      <use x=\"80.322266\" xlink:href=\"#DejaVuSans-97\"/>\r\n      <use x=\"141.601562\" xlink:href=\"#DejaVuSans-105\"/>\r\n      <use x=\"169.384766\" xlink:href=\"#DejaVuSans-110\"/>\r\n     </g>\r\n    </g>\r\n    <g id=\"line2d_22\">\r\n     <path d=\"M 826.86875 64.772812 \r\nL 846.86875 64.772812 \r\n\" style=\"fill:none;stroke:#ff7f0e;stroke-linecap:square;stroke-width:1.5;\"/>\r\n    </g>\r\n    <g id=\"line2d_23\"/>\r\n    <g id=\"text_21\">\r\n     <!-- val -->\r\n     <g transform=\"translate(854.86875 68.272812)scale(0.1 -0.1)\">\r\n      <use xlink:href=\"#DejaVuSans-118\"/>\r\n      <use x=\"59.179688\" xlink:href=\"#DejaVuSans-97\"/>\r\n      <use x=\"120.458984\" xlink:href=\"#DejaVuSans-108\"/>\r\n     </g>\r\n    </g>\r\n   </g>\r\n  </g>\r\n </g>\r\n <defs>\r\n  <clipPath id=\"peac2e5b99c\">\r\n   <rect height=\"434.88\" width=\"837\" x=\"50.14375\" y=\"22.318125\"/>\r\n  </clipPath>\r\n </defs>\r\n</svg>\r\n",
      "image/png": "[encoded data removed]"
     },
     "metadata": {
      "needs_background": "light"
     }
    }
   ],
   "source": [
    "train_val_loss_df = pd.DataFrame.from_dict(loss_stats).reset_index().melt(id_vars=['index']).rename(columns={\"index\":\"epochs\"})\n",
    "plt.figure(figsize=(15,8))\n",
    "sns.lineplot(data=train_val_loss_df, x = \"epochs\", y=\"value\", hue=\"variable\").set_title('Train-Val Loss/Epoch')"
   ]
  },
  {
   "cell_type": "code",
   "execution_count": 495,
   "metadata": {},
   "outputs": [],
   "source": [
    "torch.save(model.state_dict(), 'model/model_quick.pth')"
   ]
  },
  {
   "cell_type": "code",
   "execution_count": 431,
   "metadata": {},
   "outputs": [
    {
     "output_type": "execute_result",
     "data": {
      "text/plain": [
       "                                      0         1        2\n",
       "0      [30.0, 1.0, 24.4, 3.0, 1.0, 3.0]   1.82592  1.03056\n",
       "1      [60.0, 1.0, 32.8, 0.0, 1.0, 3.0]   5.25908  1.42593\n",
       "2     [30.0, 0.0, 27.93, 0.0, 0.0, 0.0]  0.413752  1.05088\n",
       "3      [43.0, 0.0, 24.7, 2.0, 1.0, 1.0]   2.18808  1.06297\n",
       "4      [44.0, 0.0, 25.8, 1.0, 0.0, 3.0]  0.762463  1.07449\n",
       "..                                  ...       ...      ...\n",
       "263   [25.0, 1.0, 33.33, 2.0, 1.0, 2.0]   3.61246  1.30341\n",
       "264   [44.0, 0.0, 36.48, 0.0, 0.0, 0.0]   1.27972  1.35416\n",
       "265    [21.0, 0.0, 26.4, 1.0, 0.0, 3.0]  0.259778  1.01553\n",
       "266   [22.0, 1.0, 28.31, 1.0, 0.0, 1.0]  0.263904  1.10425\n",
       "267  [20.0, 1.0, 30.685, 0.0, 1.0, 0.0]   3.34758  1.16413\n",
       "\n",
       "[268 rows x 3 columns]"
      ],
      "text/html": "<div>\n<style scoped>\n    .dataframe tbody tr th:only-of-type {\n        vertical-align: middle;\n    }\n\n    .dataframe tbody tr th {\n        vertical-align: top;\n    }\n\n    .dataframe thead th {\n        text-align: right;\n    }\n</style>\n<table border=\"1\" class=\"dataframe\">\n  <thead>\n    <tr style=\"text-align: right;\">\n      <th></th>\n      <th>0</th>\n      <th>1</th>\n      <th>2</th>\n    </tr>\n  </thead>\n  <tbody>\n    <tr>\n      <th>0</th>\n      <td>[30.0, 1.0, 24.4, 3.0, 1.0, 3.0]</td>\n      <td>1.82592</td>\n      <td>1.03056</td>\n    </tr>\n    <tr>\n      <th>1</th>\n      <td>[60.0, 1.0, 32.8, 0.0, 1.0, 3.0]</td>\n      <td>5.25908</td>\n      <td>1.42593</td>\n    </tr>\n    <tr>\n      <th>2</th>\n      <td>[30.0, 0.0, 27.93, 0.0, 0.0, 0.0]</td>\n      <td>0.413752</td>\n      <td>1.05088</td>\n    </tr>\n    <tr>\n      <th>3</th>\n      <td>[43.0, 0.0, 24.7, 2.0, 1.0, 1.0]</td>\n      <td>2.18808</td>\n      <td>1.06297</td>\n    </tr>\n    <tr>\n      <th>4</th>\n      <td>[44.0, 0.0, 25.8, 1.0, 0.0, 3.0]</td>\n      <td>0.762463</td>\n      <td>1.07449</td>\n    </tr>\n    <tr>\n      <th>...</th>\n      <td>...</td>\n      <td>...</td>\n      <td>...</td>\n    </tr>\n    <tr>\n      <th>263</th>\n      <td>[25.0, 1.0, 33.33, 2.0, 1.0, 2.0]</td>\n      <td>3.61246</td>\n      <td>1.30341</td>\n    </tr>\n    <tr>\n      <th>264</th>\n      <td>[44.0, 0.0, 36.48, 0.0, 0.0, 0.0]</td>\n      <td>1.27972</td>\n      <td>1.35416</td>\n    </tr>\n    <tr>\n      <th>265</th>\n      <td>[21.0, 0.0, 26.4, 1.0, 0.0, 3.0]</td>\n      <td>0.259778</td>\n      <td>1.01553</td>\n    </tr>\n    <tr>\n      <th>266</th>\n      <td>[22.0, 1.0, 28.31, 1.0, 0.0, 1.0]</td>\n      <td>0.263904</td>\n      <td>1.10425</td>\n    </tr>\n    <tr>\n      <th>267</th>\n      <td>[20.0, 1.0, 30.685, 0.0, 1.0, 0.0]</td>\n      <td>3.34758</td>\n      <td>1.16413</td>\n    </tr>\n  </tbody>\n</table>\n<p>268 rows × 3 columns</p>\n</div>"
     },
     "metadata": {},
     "execution_count": 431
    }
   ],
   "source": [
    "''''Testing'''\n",
    "y_pred_list = []\n",
    "with torch.no_grad():\n",
    "    model.eval()\n",
    "    for X_batch, _ in test_loader:\n",
    "        X_batch = X_batch.to(device)\n",
    "        y_test_pred = model(X_batch)\n",
    "        y_pred_list.append(y_test_pred.cpu().numpy())\n",
    "y_real = [a.squeeze().tolist() for a in y_test];\n",
    "X_test_real = [a.squeeze().tolist() for a in X_test]\n",
    "y_pred_list = [a.squeeze().tolist() for a in y_pred_list]\n",
    "\n",
    "# inverse_y_real = scaler_y.inverse_transform(np.array(y_real).reshape(-1,1)).reshape(-1,)\n",
    "# inverse_y_pred = scaler_y.inverse_transform(np.array(y_pred_list).reshape(-1,1)).reshape(-1,)\n",
    "# pd.DataFrame(data = [inverse_y_real, inverse_y_pred]).T\n",
    "pd.DataFrame(data = [X_test_real,y_real, y_pred_list]).T\n",
    "\n"
   ]
  }
 ]
}