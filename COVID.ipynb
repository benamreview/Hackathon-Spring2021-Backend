{
 "metadata": {
  "language_info": {
   "codemirror_mode": {
    "name": "ipython",
    "version": 3
   },
   "file_extension": ".py",
   "mimetype": "text/x-python",
   "name": "python",
   "nbconvert_exporter": "python",
   "pygments_lexer": "ipython3",
   "version": "3.8.5"
  },
  "orig_nbformat": 2,
  "kernelspec": {
   "name": "python385jvsc74a57bd0a69a97d3c0c90f1132d3fe1c1bdf15f941a20aa0a78eb54401bae5bd6029936d",
   "display_name": "Python 3.8.5 64-bit ('base': conda)"
  }
 },
 "nbformat": 4,
 "nbformat_minor": 2,
 "cells": [
  {
   "cell_type": "code",
   "execution_count": 22,
   "metadata": {},
   "outputs": [],
   "source": [
    "import pandas as pd\n",
    "import numpy as np \n",
    "np.set_printoptions(suppress=True)"
   ]
  },
  {
   "cell_type": "code",
   "execution_count": 2,
   "metadata": {},
   "outputs": [
    {
     "output_type": "stream",
     "name": "stderr",
     "text": [
      "C:\\Users\\dhh3hb\\Anaconda3\\lib\\site-packages\\IPython\\core\\interactiveshell.py:3146: DtypeWarning: Columns (18) have mixed types.Specify dtype option on import or set low_memory=False.\n  has_raised = await self.run_ast_nodes(code_ast.body, cell_name,\n"
     ]
    }
   ],
   "source": [
    "covid_df = pd.read_csv('COVID-19_Case_Surveillance_Public_Use_Data_with_Geography.csv')"
   ]
  },
  {
   "cell_type": "code",
   "execution_count": 5,
   "metadata": {},
   "outputs": [
    {
     "output_type": "execute_result",
     "data": {
      "text/plain": [
       "      case_month res_state  state_fips_code res_county  county_fips_code  \\\n",
       "11265    2020-07        MO             29.0     GREENE           29077.0   \n",
       "11266    2020-07        MO             29.0     GREENE           29077.0   \n",
       "11267    2020-07        MO             29.0     GREENE           29077.0   \n",
       "11268    2020-07        MO             29.0     GREENE           29077.0   \n",
       "11269    2020-07        MO             29.0     GREENE           29077.0   \n",
       "\n",
       "      age_group  sex race ethnicity  case_positive_specimen_interval  \\\n",
       "11265       NaN  NaN  NaN       NaN                              NaN   \n",
       "11266       NaN  NaN  NaN       NaN                              NaN   \n",
       "11267       NaN  NaN  NaN       NaN                              NaN   \n",
       "11268       NaN  NaN  NaN       NaN                              NaN   \n",
       "11269       NaN  NaN  NaN       NaN                              NaN   \n",
       "\n",
       "       case_onset_interval  process exposure_yn             current_status  \\\n",
       "11265                  0.0  Missing     Missing  Laboratory-confirmed case   \n",
       "11266                  NaN  Missing     Missing              Probable Case   \n",
       "11267                  NaN  Missing     Missing              Probable Case   \n",
       "11268                  0.0  Missing     Missing  Laboratory-confirmed case   \n",
       "11269                  0.0  Missing     Missing  Laboratory-confirmed case   \n",
       "\n",
       "      symptom_status  hosp_yn   icu_yn death_yn underlying_conditions_yn  \n",
       "11265    Symptomatic  Missing  Missing  Missing                      NaN  \n",
       "11266        Missing  Missing  Missing  Missing                      NaN  \n",
       "11267        Missing  Missing  Missing  Missing                      NaN  \n",
       "11268    Symptomatic  Missing  Missing  Missing                      NaN  \n",
       "11269    Symptomatic  Missing  Missing  Missing                      NaN  "
      ],
      "text/html": "<div>\n<style scoped>\n    .dataframe tbody tr th:only-of-type {\n        vertical-align: middle;\n    }\n\n    .dataframe tbody tr th {\n        vertical-align: top;\n    }\n\n    .dataframe thead th {\n        text-align: right;\n    }\n</style>\n<table border=\"1\" class=\"dataframe\">\n  <thead>\n    <tr style=\"text-align: right;\">\n      <th></th>\n      <th>case_month</th>\n      <th>res_state</th>\n      <th>state_fips_code</th>\n      <th>res_county</th>\n      <th>county_fips_code</th>\n      <th>age_group</th>\n      <th>sex</th>\n      <th>race</th>\n      <th>ethnicity</th>\n      <th>case_positive_specimen_interval</th>\n      <th>case_onset_interval</th>\n      <th>process</th>\n      <th>exposure_yn</th>\n      <th>current_status</th>\n      <th>symptom_status</th>\n      <th>hosp_yn</th>\n      <th>icu_yn</th>\n      <th>death_yn</th>\n      <th>underlying_conditions_yn</th>\n    </tr>\n  </thead>\n  <tbody>\n    <tr>\n      <th>11265</th>\n      <td>2020-07</td>\n      <td>MO</td>\n      <td>29.0</td>\n      <td>GREENE</td>\n      <td>29077.0</td>\n      <td>NaN</td>\n      <td>NaN</td>\n      <td>NaN</td>\n      <td>NaN</td>\n      <td>NaN</td>\n      <td>0.0</td>\n      <td>Missing</td>\n      <td>Missing</td>\n      <td>Laboratory-confirmed case</td>\n      <td>Symptomatic</td>\n      <td>Missing</td>\n      <td>Missing</td>\n      <td>Missing</td>\n      <td>NaN</td>\n    </tr>\n    <tr>\n      <th>11266</th>\n      <td>2020-07</td>\n      <td>MO</td>\n      <td>29.0</td>\n      <td>GREENE</td>\n      <td>29077.0</td>\n      <td>NaN</td>\n      <td>NaN</td>\n      <td>NaN</td>\n      <td>NaN</td>\n      <td>NaN</td>\n      <td>NaN</td>\n      <td>Missing</td>\n      <td>Missing</td>\n      <td>Probable Case</td>\n      <td>Missing</td>\n      <td>Missing</td>\n      <td>Missing</td>\n      <td>Missing</td>\n      <td>NaN</td>\n    </tr>\n    <tr>\n      <th>11267</th>\n      <td>2020-07</td>\n      <td>MO</td>\n      <td>29.0</td>\n      <td>GREENE</td>\n      <td>29077.0</td>\n      <td>NaN</td>\n      <td>NaN</td>\n      <td>NaN</td>\n      <td>NaN</td>\n      <td>NaN</td>\n      <td>NaN</td>\n      <td>Missing</td>\n      <td>Missing</td>\n      <td>Probable Case</td>\n      <td>Missing</td>\n      <td>Missing</td>\n      <td>Missing</td>\n      <td>Missing</td>\n      <td>NaN</td>\n    </tr>\n    <tr>\n      <th>11268</th>\n      <td>2020-07</td>\n      <td>MO</td>\n      <td>29.0</td>\n      <td>GREENE</td>\n      <td>29077.0</td>\n      <td>NaN</td>\n      <td>NaN</td>\n      <td>NaN</td>\n      <td>NaN</td>\n      <td>NaN</td>\n      <td>0.0</td>\n      <td>Missing</td>\n      <td>Missing</td>\n      <td>Laboratory-confirmed case</td>\n      <td>Symptomatic</td>\n      <td>Missing</td>\n      <td>Missing</td>\n      <td>Missing</td>\n      <td>NaN</td>\n    </tr>\n    <tr>\n      <th>11269</th>\n      <td>2020-07</td>\n      <td>MO</td>\n      <td>29.0</td>\n      <td>GREENE</td>\n      <td>29077.0</td>\n      <td>NaN</td>\n      <td>NaN</td>\n      <td>NaN</td>\n      <td>NaN</td>\n      <td>NaN</td>\n      <td>0.0</td>\n      <td>Missing</td>\n      <td>Missing</td>\n      <td>Laboratory-confirmed case</td>\n      <td>Symptomatic</td>\n      <td>Missing</td>\n      <td>Missing</td>\n      <td>Missing</td>\n      <td>NaN</td>\n    </tr>\n  </tbody>\n</table>\n</div>"
     },
     "metadata": {},
     "execution_count": 5
    }
   ],
   "source": [
    "covid_df[covid_df['res_state'] == 'MO'].head()"
   ]
  },
  {
   "cell_type": "code",
   "execution_count": 5,
   "metadata": {},
   "outputs": [
    {
     "output_type": "stream",
     "name": "stderr",
     "text": [
      "[insurance_2018.sas7bdat] header length 131072 != 8192\n",
      "[insurance_2018.sas7bdat] header length 131072 != 8192\n"
     ]
    }
   ],
   "source": [
    "from sas7bdat import SAS7BDAT\n",
    "with SAS7BDAT('insurance_2018.sas7bdat') as reader:\n",
    "    insurance_df = reader.to_data_frame()"
   ]
  },
  {
   "cell_type": "code",
   "execution_count": 4,
   "metadata": {},
   "outputs": [
    {
     "output_type": "error",
     "ename": "TypeError",
     "evalue": "__repr__ returned non-string (type bytes)",
     "traceback": [
      "\u001b[1;31m---------------------------------------------------------------------------\u001b[0m",
      "\u001b[1;31mTypeError\u001b[0m                                 Traceback (most recent call last)",
      "\u001b[1;32m~\\Anaconda3\\lib\\site-packages\\IPython\\core\\formatters.py\u001b[0m in \u001b[0;36m__call__\u001b[1;34m(self, obj)\u001b[0m\n\u001b[0;32m    700\u001b[0m                 \u001b[0mtype_pprinters\u001b[0m\u001b[1;33m=\u001b[0m\u001b[0mself\u001b[0m\u001b[1;33m.\u001b[0m\u001b[0mtype_printers\u001b[0m\u001b[1;33m,\u001b[0m\u001b[1;33m\u001b[0m\u001b[1;33m\u001b[0m\u001b[0m\n\u001b[0;32m    701\u001b[0m                 deferred_pprinters=self.deferred_printers)\n\u001b[1;32m--> 702\u001b[1;33m             \u001b[0mprinter\u001b[0m\u001b[1;33m.\u001b[0m\u001b[0mpretty\u001b[0m\u001b[1;33m(\u001b[0m\u001b[0mobj\u001b[0m\u001b[1;33m)\u001b[0m\u001b[1;33m\u001b[0m\u001b[1;33m\u001b[0m\u001b[0m\n\u001b[0m\u001b[0;32m    703\u001b[0m             \u001b[0mprinter\u001b[0m\u001b[1;33m.\u001b[0m\u001b[0mflush\u001b[0m\u001b[1;33m(\u001b[0m\u001b[1;33m)\u001b[0m\u001b[1;33m\u001b[0m\u001b[1;33m\u001b[0m\u001b[0m\n\u001b[0;32m    704\u001b[0m             \u001b[1;32mreturn\u001b[0m \u001b[0mstream\u001b[0m\u001b[1;33m.\u001b[0m\u001b[0mgetvalue\u001b[0m\u001b[1;33m(\u001b[0m\u001b[1;33m)\u001b[0m\u001b[1;33m\u001b[0m\u001b[1;33m\u001b[0m\u001b[0m\n",
      "\u001b[1;32m~\\Anaconda3\\lib\\site-packages\\IPython\\lib\\pretty.py\u001b[0m in \u001b[0;36mpretty\u001b[1;34m(self, obj)\u001b[0m\n\u001b[0;32m    375\u001b[0m                 \u001b[1;32mif\u001b[0m \u001b[0mcls\u001b[0m \u001b[1;32min\u001b[0m \u001b[0mself\u001b[0m\u001b[1;33m.\u001b[0m\u001b[0mtype_pprinters\u001b[0m\u001b[1;33m:\u001b[0m\u001b[1;33m\u001b[0m\u001b[1;33m\u001b[0m\u001b[0m\n\u001b[0;32m    376\u001b[0m                     \u001b[1;31m# printer registered in self.type_pprinters\u001b[0m\u001b[1;33m\u001b[0m\u001b[1;33m\u001b[0m\u001b[1;33m\u001b[0m\u001b[0m\n\u001b[1;32m--> 377\u001b[1;33m                     \u001b[1;32mreturn\u001b[0m \u001b[0mself\u001b[0m\u001b[1;33m.\u001b[0m\u001b[0mtype_pprinters\u001b[0m\u001b[1;33m[\u001b[0m\u001b[0mcls\u001b[0m\u001b[1;33m]\u001b[0m\u001b[1;33m(\u001b[0m\u001b[0mobj\u001b[0m\u001b[1;33m,\u001b[0m \u001b[0mself\u001b[0m\u001b[1;33m,\u001b[0m \u001b[0mcycle\u001b[0m\u001b[1;33m)\u001b[0m\u001b[1;33m\u001b[0m\u001b[1;33m\u001b[0m\u001b[0m\n\u001b[0m\u001b[0;32m    378\u001b[0m                 \u001b[1;32melse\u001b[0m\u001b[1;33m:\u001b[0m\u001b[1;33m\u001b[0m\u001b[1;33m\u001b[0m\u001b[0m\n\u001b[0;32m    379\u001b[0m                     \u001b[1;31m# deferred printer\u001b[0m\u001b[1;33m\u001b[0m\u001b[1;33m\u001b[0m\u001b[1;33m\u001b[0m\u001b[0m\n",
      "\u001b[1;32m~\\Anaconda3\\lib\\site-packages\\IPython\\lib\\pretty.py\u001b[0m in \u001b[0;36minner\u001b[1;34m(obj, p, cycle)\u001b[0m\n\u001b[0;32m    553\u001b[0m                 \u001b[0mp\u001b[0m\u001b[1;33m.\u001b[0m\u001b[0mtext\u001b[0m\u001b[1;33m(\u001b[0m\u001b[1;34m','\u001b[0m\u001b[1;33m)\u001b[0m\u001b[1;33m\u001b[0m\u001b[1;33m\u001b[0m\u001b[0m\n\u001b[0;32m    554\u001b[0m                 \u001b[0mp\u001b[0m\u001b[1;33m.\u001b[0m\u001b[0mbreakable\u001b[0m\u001b[1;33m(\u001b[0m\u001b[1;33m)\u001b[0m\u001b[1;33m\u001b[0m\u001b[1;33m\u001b[0m\u001b[0m\n\u001b[1;32m--> 555\u001b[1;33m             \u001b[0mp\u001b[0m\u001b[1;33m.\u001b[0m\u001b[0mpretty\u001b[0m\u001b[1;33m(\u001b[0m\u001b[0mx\u001b[0m\u001b[1;33m)\u001b[0m\u001b[1;33m\u001b[0m\u001b[1;33m\u001b[0m\u001b[0m\n\u001b[0m\u001b[0;32m    556\u001b[0m         \u001b[1;32mif\u001b[0m \u001b[0mlen\u001b[0m\u001b[1;33m(\u001b[0m\u001b[0mobj\u001b[0m\u001b[1;33m)\u001b[0m \u001b[1;33m==\u001b[0m \u001b[1;36m1\u001b[0m \u001b[1;32mand\u001b[0m \u001b[0mtype\u001b[0m\u001b[1;33m(\u001b[0m\u001b[0mobj\u001b[0m\u001b[1;33m)\u001b[0m \u001b[1;32mis\u001b[0m \u001b[0mtuple\u001b[0m\u001b[1;33m:\u001b[0m\u001b[1;33m\u001b[0m\u001b[1;33m\u001b[0m\u001b[0m\n\u001b[0;32m    557\u001b[0m             \u001b[1;31m# Special case for 1-item tuples.\u001b[0m\u001b[1;33m\u001b[0m\u001b[1;33m\u001b[0m\u001b[1;33m\u001b[0m\u001b[0m\n",
      "\u001b[1;32m~\\Anaconda3\\lib\\site-packages\\IPython\\lib\\pretty.py\u001b[0m in \u001b[0;36mpretty\u001b[1;34m(self, obj)\u001b[0m\n\u001b[0;32m    392\u001b[0m                         \u001b[1;32mif\u001b[0m \u001b[0mcls\u001b[0m \u001b[1;32mis\u001b[0m \u001b[1;32mnot\u001b[0m \u001b[0mobject\u001b[0m\u001b[0;31m \u001b[0m\u001b[0;31m\\\u001b[0m\u001b[1;33m\u001b[0m\u001b[1;33m\u001b[0m\u001b[0m\n\u001b[0;32m    393\u001b[0m                                 \u001b[1;32mand\u001b[0m \u001b[0mcallable\u001b[0m\u001b[1;33m(\u001b[0m\u001b[0mcls\u001b[0m\u001b[1;33m.\u001b[0m\u001b[0m__dict__\u001b[0m\u001b[1;33m.\u001b[0m\u001b[0mget\u001b[0m\u001b[1;33m(\u001b[0m\u001b[1;34m'__repr__'\u001b[0m\u001b[1;33m)\u001b[0m\u001b[1;33m)\u001b[0m\u001b[1;33m:\u001b[0m\u001b[1;33m\u001b[0m\u001b[1;33m\u001b[0m\u001b[0m\n\u001b[1;32m--> 394\u001b[1;33m                             \u001b[1;32mreturn\u001b[0m \u001b[0m_repr_pprint\u001b[0m\u001b[1;33m(\u001b[0m\u001b[0mobj\u001b[0m\u001b[1;33m,\u001b[0m \u001b[0mself\u001b[0m\u001b[1;33m,\u001b[0m \u001b[0mcycle\u001b[0m\u001b[1;33m)\u001b[0m\u001b[1;33m\u001b[0m\u001b[1;33m\u001b[0m\u001b[0m\n\u001b[0m\u001b[0;32m    395\u001b[0m \u001b[1;33m\u001b[0m\u001b[0m\n\u001b[0;32m    396\u001b[0m             \u001b[1;32mreturn\u001b[0m \u001b[0m_default_pprint\u001b[0m\u001b[1;33m(\u001b[0m\u001b[0mobj\u001b[0m\u001b[1;33m,\u001b[0m \u001b[0mself\u001b[0m\u001b[1;33m,\u001b[0m \u001b[0mcycle\u001b[0m\u001b[1;33m)\u001b[0m\u001b[1;33m\u001b[0m\u001b[1;33m\u001b[0m\u001b[0m\n",
      "\u001b[1;32m~\\Anaconda3\\lib\\site-packages\\IPython\\lib\\pretty.py\u001b[0m in \u001b[0;36m_repr_pprint\u001b[1;34m(obj, p, cycle)\u001b[0m\n\u001b[0;32m    698\u001b[0m     \u001b[1;34m\"\"\"A pprint that just redirects to the normal repr function.\"\"\"\u001b[0m\u001b[1;33m\u001b[0m\u001b[1;33m\u001b[0m\u001b[0m\n\u001b[0;32m    699\u001b[0m     \u001b[1;31m# Find newlines and replace them with p.break_()\u001b[0m\u001b[1;33m\u001b[0m\u001b[1;33m\u001b[0m\u001b[1;33m\u001b[0m\u001b[0m\n\u001b[1;32m--> 700\u001b[1;33m     \u001b[0moutput\u001b[0m \u001b[1;33m=\u001b[0m \u001b[0mrepr\u001b[0m\u001b[1;33m(\u001b[0m\u001b[0mobj\u001b[0m\u001b[1;33m)\u001b[0m\u001b[1;33m\u001b[0m\u001b[1;33m\u001b[0m\u001b[0m\n\u001b[0m\u001b[0;32m    701\u001b[0m     \u001b[0mlines\u001b[0m \u001b[1;33m=\u001b[0m \u001b[0moutput\u001b[0m\u001b[1;33m.\u001b[0m\u001b[0msplitlines\u001b[0m\u001b[1;33m(\u001b[0m\u001b[1;33m)\u001b[0m\u001b[1;33m\u001b[0m\u001b[1;33m\u001b[0m\u001b[0m\n\u001b[0;32m    702\u001b[0m     \u001b[1;32mwith\u001b[0m \u001b[0mp\u001b[0m\u001b[1;33m.\u001b[0m\u001b[0mgroup\u001b[0m\u001b[1;33m(\u001b[0m\u001b[1;33m)\u001b[0m\u001b[1;33m:\u001b[0m\u001b[1;33m\u001b[0m\u001b[1;33m\u001b[0m\u001b[0m\n",
      "\u001b[1;31mTypeError\u001b[0m: __repr__ returned non-string (type bytes)"
     ]
    }
   ],
   "source": [
    "reader.columns"
   ]
  },
  {
   "cell_type": "code",
   "execution_count": 7,
   "metadata": {},
   "outputs": [],
   "source": [
    "insurance_df.to_csv('insurance_2018.csv', index=False)"
   ]
  },
  {
   "cell_type": "code",
   "execution_count": 50,
   "metadata": {},
   "outputs": [],
   "source": [
    "insurance_df = pd.read_csv('pppub20.csv')"
   ]
  },
  {
   "cell_type": "code",
   "execution_count": 76,
   "metadata": {},
   "outputs": [
    {
     "output_type": "execute_result",
     "data": {
      "text/plain": [
       "array([1, 3, 2, 0], dtype=int64)"
      ]
     },
     "metadata": {},
     "execution_count": 76
    }
   ],
   "source": [
    "insurance_df['NOCOV_CYR'].unique()"
   ]
  },
  {
   "cell_type": "code",
   "execution_count": 81,
   "metadata": {},
   "outputs": [
    {
     "output_type": "execute_result",
     "data": {
      "text/plain": [
       "        NOW_COV\n",
       "0             1\n",
       "1             1\n",
       "2             1\n",
       "3             1\n",
       "4             1\n",
       "...         ...\n",
       "157954        1\n",
       "157955        2\n",
       "157956        1\n",
       "157957        1\n",
       "157958        1\n",
       "\n",
       "[157959 rows x 1 columns]"
      ],
      "text/html": "<div>\n<style scoped>\n    .dataframe tbody tr th:only-of-type {\n        vertical-align: middle;\n    }\n\n    .dataframe tbody tr th {\n        vertical-align: top;\n    }\n\n    .dataframe thead th {\n        text-align: right;\n    }\n</style>\n<table border=\"1\" class=\"dataframe\">\n  <thead>\n    <tr style=\"text-align: right;\">\n      <th></th>\n      <th>NOW_COV</th>\n    </tr>\n  </thead>\n  <tbody>\n    <tr>\n      <th>0</th>\n      <td>1</td>\n    </tr>\n    <tr>\n      <th>1</th>\n      <td>1</td>\n    </tr>\n    <tr>\n      <th>2</th>\n      <td>1</td>\n    </tr>\n    <tr>\n      <th>3</th>\n      <td>1</td>\n    </tr>\n    <tr>\n      <th>4</th>\n      <td>1</td>\n    </tr>\n    <tr>\n      <th>...</th>\n      <td>...</td>\n    </tr>\n    <tr>\n      <th>157954</th>\n      <td>1</td>\n    </tr>\n    <tr>\n      <th>157955</th>\n      <td>2</td>\n    </tr>\n    <tr>\n      <th>157956</th>\n      <td>1</td>\n    </tr>\n    <tr>\n      <th>157957</th>\n      <td>1</td>\n    </tr>\n    <tr>\n      <th>157958</th>\n      <td>1</td>\n    </tr>\n  </tbody>\n</table>\n<p>157959 rows × 1 columns</p>\n</div>"
     },
     "metadata": {},
     "execution_count": 81
    }
   ],
   "source": [
    "insurance_df[['NOW_COV']]"
   ]
  },
  {
   "cell_type": "code",
   "execution_count": 43,
   "metadata": {},
   "outputs": [
    {
     "output_type": "execute_result",
     "data": {
      "text/plain": [
       "      HIOWN  HIPAID  HITYP  AHITYP1  OTHSTYP1  PRITYP\n",
       "9       1.0     0.0    0.0     10.0       0.0     0.0\n",
       "82      0.0     0.0    0.0      2.0       0.0     0.0\n",
       "197     1.0     0.0    0.0     10.0       0.0     0.0\n",
       "221     0.0     0.0    0.0      2.0       0.0     0.0\n",
       "289     1.0     0.0    0.0     10.0       0.0     0.0\n",
       "...     ...     ...    ...      ...       ...     ...\n",
       "7976    0.0     0.0    0.0     13.0       0.0     0.0\n",
       "7977    0.0     0.0    0.0     13.0       0.0     0.0\n",
       "8134    2.0     0.0    0.0     14.0       0.0     0.0\n",
       "8353    1.0     0.0    0.0     12.0       0.0     0.0\n",
       "8459    1.0     0.0    0.0     10.0       0.0     0.0\n",
       "\n",
       "[142 rows x 6 columns]"
      ],
      "text/html": "<div>\n<style scoped>\n    .dataframe tbody tr th:only-of-type {\n        vertical-align: middle;\n    }\n\n    .dataframe tbody tr th {\n        vertical-align: top;\n    }\n\n    .dataframe thead th {\n        text-align: right;\n    }\n</style>\n<table border=\"1\" class=\"dataframe\">\n  <thead>\n    <tr style=\"text-align: right;\">\n      <th></th>\n      <th>HIOWN</th>\n      <th>HIPAID</th>\n      <th>HITYP</th>\n      <th>AHITYP1</th>\n      <th>OTHSTYP1</th>\n      <th>PRITYP</th>\n    </tr>\n  </thead>\n  <tbody>\n    <tr>\n      <th>9</th>\n      <td>1.0</td>\n      <td>0.0</td>\n      <td>0.0</td>\n      <td>10.0</td>\n      <td>0.0</td>\n      <td>0.0</td>\n    </tr>\n    <tr>\n      <th>82</th>\n      <td>0.0</td>\n      <td>0.0</td>\n      <td>0.0</td>\n      <td>2.0</td>\n      <td>0.0</td>\n      <td>0.0</td>\n    </tr>\n    <tr>\n      <th>197</th>\n      <td>1.0</td>\n      <td>0.0</td>\n      <td>0.0</td>\n      <td>10.0</td>\n      <td>0.0</td>\n      <td>0.0</td>\n    </tr>\n    <tr>\n      <th>221</th>\n      <td>0.0</td>\n      <td>0.0</td>\n      <td>0.0</td>\n      <td>2.0</td>\n      <td>0.0</td>\n      <td>0.0</td>\n    </tr>\n    <tr>\n      <th>289</th>\n      <td>1.0</td>\n      <td>0.0</td>\n      <td>0.0</td>\n      <td>10.0</td>\n      <td>0.0</td>\n      <td>0.0</td>\n    </tr>\n    <tr>\n      <th>...</th>\n      <td>...</td>\n      <td>...</td>\n      <td>...</td>\n      <td>...</td>\n      <td>...</td>\n      <td>...</td>\n    </tr>\n    <tr>\n      <th>7976</th>\n      <td>0.0</td>\n      <td>0.0</td>\n      <td>0.0</td>\n      <td>13.0</td>\n      <td>0.0</td>\n      <td>0.0</td>\n    </tr>\n    <tr>\n      <th>7977</th>\n      <td>0.0</td>\n      <td>0.0</td>\n      <td>0.0</td>\n      <td>13.0</td>\n      <td>0.0</td>\n      <td>0.0</td>\n    </tr>\n    <tr>\n      <th>8134</th>\n      <td>2.0</td>\n      <td>0.0</td>\n      <td>0.0</td>\n      <td>14.0</td>\n      <td>0.0</td>\n      <td>0.0</td>\n    </tr>\n    <tr>\n      <th>8353</th>\n      <td>1.0</td>\n      <td>0.0</td>\n      <td>0.0</td>\n      <td>12.0</td>\n      <td>0.0</td>\n      <td>0.0</td>\n    </tr>\n    <tr>\n      <th>8459</th>\n      <td>1.0</td>\n      <td>0.0</td>\n      <td>0.0</td>\n      <td>10.0</td>\n      <td>0.0</td>\n      <td>0.0</td>\n    </tr>\n  </tbody>\n</table>\n<p>142 rows × 6 columns</p>\n</div>"
     },
     "metadata": {},
     "execution_count": 43
    }
   ],
   "source": [
    "insurance_df[insurance_df['AHITYP1'] != 0][['HIOWN','HIPAID','HITYP', 'AHITYP1', 'OTHSTYP1', 'PRITYP']]"
   ]
  },
  {
   "cell_type": "code",
   "execution_count": null,
   "metadata": {},
   "outputs": [],
   "source": [
    "{'HITYP': 'Type of Health Insurance', \n",
    " 'HIPAID': 'Employer Paid or Not' #NIU, All, Part, None\n",
    " 'CARE': 'Covered by Medicare' #NIU, Yes, No,\n",
    " 'CAID': 'Covered by Medicaid' #NIU, Yes, No\n",
    "'PHIP_VAL': 'Health Insurance Premiums'} "
   ]
  },
  {
   "cell_type": "code",
   "execution_count": null,
   "metadata": {},
   "outputs": [],
   "source": [
    "{\n",
    "    'HIPAID': 'Employer Paid' #NIU, All, Part, None\n",
    "    'NOW_HIPAID': 'Employer Currently Paid'\n",
    "    'PTOT_R': 'Total Income (code)',\n",
    "    'PTOTVAL': 'Total Income (val)',\n",
    "    'COV': 'Coverage Last Year', #0: infant, #1: Yes, #2: No\n",
    "    'NOW_COV': 'Coverage Now',\n",
    "    'NOW_PRIV' : 'Private Coverage Now', \n",
    "    'PRIV': 'Private Coverage Last Year',\n",
    "    'NOW_PUB': 'Public Coverage Now',\n",
    "    'PUB': 'Public Coverage Last Year',\n",
    "    'DIR': 'Direct-purchase Coverage Last Year',\n",
    "    'NOW_DIR': 'Direct-purchase Coverage Now',\n",
    "    'MRK': 'Marketplace Coverage Last Year',\n",
    "    'NOW_MRK': 'Marketplace Coverage Now',\n",
    "    'NONM': 'Non-Marketplace Coverage Last Year',\n",
    "    'NOW_NONM': 'Non-Marketplace Coverage Now',\n",
    "\n",
    "    'MCARE': 'Medicare Coverage Last Year',\n",
    "    'NOW_MCARE': 'Medicare Coverage Now',\n",
    "    'MIL': \"TRICARE Coverage Last Year\",\n",
    "    'NOW_MIL': \"TRICARE Coverage Now\",\n",
    "    'VACARE': 'VACARE Coverage Last Year',\n",
    "    'NOW_VACARE': 'VACARE Coverage Now',\n",
    "    'MCAID': 'Medicaid Coverage Last Year',\n",
    "    'NOW_MCAID': 'Medicaid Coverage Now'\n",
    "    'MOOP2': 'Total Out-of-Pocket Expenditures',\n",
    "    'PEMCPREM': 'Medicare premium amount'\n",
    "}"
   ]
  }
 ]
}