{
 "metadata": {
  "language_info": {
   "codemirror_mode": {
    "name": "ipython",
    "version": 3
   },
   "file_extension": ".py",
   "mimetype": "text/x-python",
   "name": "python",
   "nbconvert_exporter": "python",
   "pygments_lexer": "ipython3",
   "version": "3.8.5"
  },
  "orig_nbformat": 2,
  "kernelspec": {
   "name": "python385jvsc74a57bd0a69a97d3c0c90f1132d3fe1c1bdf15f941a20aa0a78eb54401bae5bd6029936d",
   "display_name": "Python 3.8.5 64-bit ('base': conda)"
  }
 },
 "nbformat": 4,
 "nbformat_minor": 2,
 "cells": [
  {
   "cell_type": "code",
   "execution_count": 119,
   "metadata": {},
   "outputs": [],
   "source": [
    "import pandas as pd\n",
    "import json"
   ]
  },
  {
   "cell_type": "code",
   "execution_count": 124,
   "metadata": {},
   "outputs": [],
   "source": [
    "TARGET_FIELDS = [\n",
    "    'State Code',\n",
    "    'FIPS County Code',\n",
    "    'County Name',\n",
    "    'Metal Level',\n",
    "    'Issuer Name',\n",
    "    # 'Premium Child Age 0-14',\n",
    "    # 'Premium Child Age 18',\n",
    "    'Premium Adult Individual Age 21',\n",
    "    'Premium Adult Individual Age 27',\n",
    "    'Premium Adult Individual Age 30 ',\n",
    "    'Premium Adult Individual Age 40 ',\n",
    "    'Premium Adult Individual Age 50 ',\n",
    "    'Premium Adult Individual Age 60 ',\n",
    "    'Individual+1 child, Age 21',\n",
    "    'Individual+1 child, Age 30',\n",
    "    'Individual+1 child, Age 40',\n",
    "    'Individual+1 child, Age 50',\n",
    "    'Individual+2 children, Age 21',\n",
    "    'Individual+2 children, Age 30',\n",
    "    'Individual+2 children, Age 40',\n",
    "    'Individual+2 children, Age 50',\n",
    "    'Individual+3 or more children, Age 21',\n",
    "    'Individual+3 or more children, Age 30',\n",
    "    'Individual+3 or more children, Age 40',\n",
    "    'Individual+3 or more children, Age 50',\n",
    "]"
   ]
  },
  {
   "cell_type": "code",
   "execution_count": 128,
   "metadata": {},
   "outputs": [
    {
     "output_type": "stream",
     "name": "stdout",
     "text": [
      "2017\n",
      "55581\n",
      "C:\\Users\\dhh3hb\\Anaconda3\\lib\\site-packages\\IPython\\core\\interactiveshell.py:3146: DtypeWarning: Columns (21) have mixed types.Specify dtype option on import or set low_memory=False.\n",
      "  has_raised = await self.run_ast_nodes(code_ast.body, cell_name,\n"
     ]
    },
    {
     "output_type": "display_data",
     "data": {
      "text/plain": "                                            Issuer Name  ...  record_count_y\nState Code                                               ...                \nAK             Premera Blue Cross Blue Shield of Alaska  ...             145\nAL                Blue Cross and Blue Shield of Alabama  ...             469\nAR                      USAble Mutual Insurance Company  ...            1896\nAZ          Blue Cross and Blue Shield of Arizona, Inc.  ...              72\nDE                                  Highmark BCBSD Inc.  ...              60\n\n[5 rows x 3 columns]",
      "text/html": "<div>\n<style scoped>\n    .dataframe tbody tr th:only-of-type {\n        vertical-align: middle;\n    }\n\n    .dataframe tbody tr th {\n        vertical-align: top;\n    }\n\n    .dataframe thead th {\n        text-align: right;\n    }\n</style>\n<table border=\"1\" class=\"dataframe\">\n  <thead>\n    <tr style=\"text-align: right;\">\n      <th></th>\n      <th>Issuer Name</th>\n      <th>record_count_x</th>\n      <th>record_count_y</th>\n    </tr>\n    <tr>\n      <th>State Code</th>\n      <th></th>\n      <th></th>\n      <th></th>\n    </tr>\n  </thead>\n  <tbody>\n    <tr>\n      <th>AK</th>\n      <td>Premera Blue Cross Blue Shield of Alaska</td>\n      <td>145</td>\n      <td>145</td>\n    </tr>\n    <tr>\n      <th>AL</th>\n      <td>Blue Cross and Blue Shield of Alabama</td>\n      <td>469</td>\n      <td>469</td>\n    </tr>\n    <tr>\n      <th>AR</th>\n      <td>USAble Mutual Insurance Company</td>\n      <td>900</td>\n      <td>1896</td>\n    </tr>\n    <tr>\n      <th>AZ</th>\n      <td>Blue Cross and Blue Shield of Arizona, Inc.</td>\n      <td>66</td>\n      <td>72</td>\n    </tr>\n    <tr>\n      <th>DE</th>\n      <td>Highmark BCBSD Inc.</td>\n      <td>24</td>\n      <td>60</td>\n    </tr>\n  </tbody>\n</table>\n</div>"
     },
     "metadata": {}
    }
   ],
   "source": [
    "result_dict = {}\n",
    "for yr in range(2017,2022):\n",
    "    print(yr)\n",
    "    df = pd.read_csv('insurance_plans/{}.csv'.format(yr))\n",
    "    print(len(df))\n",
    "    df_target = df[TARGET_FIELDS]\n",
    "    temp =df.groupby(['State Code', 'Issuer Name']).size().to_frame('record_count')\n",
    "    temp = temp.reset_index()\n",
    "    \n",
    "\n",
    "    state_df= temp.iloc[temp.groupby(['State Code'], sort=False)['record_count'].idxmax()][['State Code','Issuer Name','record_count']].reset_index(drop=True)\n",
    "    state_df = state_df.merge(temp.groupby('State Code').sum(), left_on = 'State Code', right_on = 'State Code')\n",
    "    state_df = state_df.set_index('State Code')\n",
    "\n",
    "    display(state_df.head())\n",
    "    result_dict[yr] = state_df.to_dict('index')\n",
    "    # state_df.to_csv('insurance_plans/visualizations/state_mainissuer_{}.csv'.format(yr), index = False)\n",
    "\n",
    "\n",
    "\n",
    "    break"
   ]
  },
  {
   "cell_type": "code",
   "execution_count": 122,
   "metadata": {},
   "outputs": [],
   "source": [
    "with open('insurance_plans/visualizations/state_mainissuer.json', 'w') as f:\n",
    "    f.write(json.dumps(result_dict, indent = 4))"
   ]
  },
  {
   "cell_type": "code",
   "execution_count": 96,
   "metadata": {},
   "outputs": [
    {
     "output_type": "execute_result",
     "data": {
      "text/plain": [
       "    State Code                                       Issuer Name  count\n",
       "0           AK          Premera Blue Cross Blue Shield of Alaska    145\n",
       "1           AL             Blue Cross and Blue Shield of Alabama    469\n",
       "2           AR                          Celtic Insurance Company    525\n",
       "3           AR                             QCA Health Plan, Inc.    357\n",
       "4           AR  QualChoice Life & Health Insurance Company, Inc.    114\n",
       "..         ...                                               ...    ...\n",
       "162         WI           Security Health Plan of Wisconsin, Inc.    616\n",
       "163         WI          Unity Health Plans Insurance Corporation    483\n",
       "164         WV                      CareSource West Virginia Co.    320\n",
       "165         WV     Highmark Blue Cross Blue Shield West Virginia    385\n",
       "166         WY                 Blue Cross Blue Shield of Wyoming    690\n",
       "\n",
       "[167 rows x 3 columns]"
      ],
      "text/html": "<div>\n<style scoped>\n    .dataframe tbody tr th:only-of-type {\n        vertical-align: middle;\n    }\n\n    .dataframe tbody tr th {\n        vertical-align: top;\n    }\n\n    .dataframe thead th {\n        text-align: right;\n    }\n</style>\n<table border=\"1\" class=\"dataframe\">\n  <thead>\n    <tr style=\"text-align: right;\">\n      <th></th>\n      <th>State Code</th>\n      <th>Issuer Name</th>\n      <th>count</th>\n    </tr>\n  </thead>\n  <tbody>\n    <tr>\n      <th>0</th>\n      <td>AK</td>\n      <td>Premera Blue Cross Blue Shield of Alaska</td>\n      <td>145</td>\n    </tr>\n    <tr>\n      <th>1</th>\n      <td>AL</td>\n      <td>Blue Cross and Blue Shield of Alabama</td>\n      <td>469</td>\n    </tr>\n    <tr>\n      <th>2</th>\n      <td>AR</td>\n      <td>Celtic Insurance Company</td>\n      <td>525</td>\n    </tr>\n    <tr>\n      <th>3</th>\n      <td>AR</td>\n      <td>QCA Health Plan, Inc.</td>\n      <td>357</td>\n    </tr>\n    <tr>\n      <th>4</th>\n      <td>AR</td>\n      <td>QualChoice Life &amp; Health Insurance Company, Inc.</td>\n      <td>114</td>\n    </tr>\n    <tr>\n      <th>...</th>\n      <td>...</td>\n      <td>...</td>\n      <td>...</td>\n    </tr>\n    <tr>\n      <th>162</th>\n      <td>WI</td>\n      <td>Security Health Plan of Wisconsin, Inc.</td>\n      <td>616</td>\n    </tr>\n    <tr>\n      <th>163</th>\n      <td>WI</td>\n      <td>Unity Health Plans Insurance Corporation</td>\n      <td>483</td>\n    </tr>\n    <tr>\n      <th>164</th>\n      <td>WV</td>\n      <td>CareSource West Virginia Co.</td>\n      <td>320</td>\n    </tr>\n    <tr>\n      <th>165</th>\n      <td>WV</td>\n      <td>Highmark Blue Cross Blue Shield West Virginia</td>\n      <td>385</td>\n    </tr>\n    <tr>\n      <th>166</th>\n      <td>WY</td>\n      <td>Blue Cross Blue Shield of Wyoming</td>\n      <td>690</td>\n    </tr>\n  </tbody>\n</table>\n<p>167 rows × 3 columns</p>\n</div>"
     },
     "metadata": {},
     "execution_count": 96
    }
   ],
   "source": [
    "temp =df.groupby(['State Code', 'Issuer Name']).size().to_frame('count')\n",
    "temp = temp.reset_index()\n",
    "temp"
   ]
  },
  {
   "cell_type": "code",
   "execution_count": 98,
   "metadata": {},
   "outputs": [
    {
     "output_type": "execute_result",
     "data": {
      "text/plain": [
       "            count\n",
       "State Code       \n",
       "AK            145\n",
       "AL            469\n",
       "AR           1896\n",
       "AZ             72\n",
       "DE             60\n",
       "FL           2417\n",
       "GA           3192\n",
       "HI             92\n",
       "IA           1326\n",
       "IL           2572\n",
       "IN           3630\n",
       "KS           1272\n",
       "KY           1455\n",
       "LA           1097\n",
       "ME            456\n",
       "MI           3664\n",
       "MO           1557\n",
       "MS           1522\n",
       "MT           1424\n",
       "NC            990\n",
       "ND           1108\n",
       "NE           1051\n",
       "NH            335\n",
       "NJ            454\n",
       "NM            751\n",
       "NV            407\n",
       "OH           3113\n",
       "OK            994\n",
       "OR            716\n",
       "PA            782\n",
       "SC           1196\n",
       "SD           1200\n",
       "TN            530\n",
       "TX           4824\n",
       "UT            397\n",
       "VA           3583\n",
       "WI           3437\n",
       "WV            705\n",
       "WY            690"
      ],
      "text/html": "<div>\n<style scoped>\n    .dataframe tbody tr th:only-of-type {\n        vertical-align: middle;\n    }\n\n    .dataframe tbody tr th {\n        vertical-align: top;\n    }\n\n    .dataframe thead th {\n        text-align: right;\n    }\n</style>\n<table border=\"1\" class=\"dataframe\">\n  <thead>\n    <tr style=\"text-align: right;\">\n      <th></th>\n      <th>count</th>\n    </tr>\n    <tr>\n      <th>State Code</th>\n      <th></th>\n    </tr>\n  </thead>\n  <tbody>\n    <tr>\n      <th>AK</th>\n      <td>145</td>\n    </tr>\n    <tr>\n      <th>AL</th>\n      <td>469</td>\n    </tr>\n    <tr>\n      <th>AR</th>\n      <td>1896</td>\n    </tr>\n    <tr>\n      <th>AZ</th>\n      <td>72</td>\n    </tr>\n    <tr>\n      <th>DE</th>\n      <td>60</td>\n    </tr>\n    <tr>\n      <th>FL</th>\n      <td>2417</td>\n    </tr>\n    <tr>\n      <th>GA</th>\n      <td>3192</td>\n    </tr>\n    <tr>\n      <th>HI</th>\n      <td>92</td>\n    </tr>\n    <tr>\n      <th>IA</th>\n      <td>1326</td>\n    </tr>\n    <tr>\n      <th>IL</th>\n      <td>2572</td>\n    </tr>\n    <tr>\n      <th>IN</th>\n      <td>3630</td>\n    </tr>\n    <tr>\n      <th>KS</th>\n      <td>1272</td>\n    </tr>\n    <tr>\n      <th>KY</th>\n      <td>1455</td>\n    </tr>\n    <tr>\n      <th>LA</th>\n      <td>1097</td>\n    </tr>\n    <tr>\n      <th>ME</th>\n      <td>456</td>\n    </tr>\n    <tr>\n      <th>MI</th>\n      <td>3664</td>\n    </tr>\n    <tr>\n      <th>MO</th>\n      <td>1557</td>\n    </tr>\n    <tr>\n      <th>MS</th>\n      <td>1522</td>\n    </tr>\n    <tr>\n      <th>MT</th>\n      <td>1424</td>\n    </tr>\n    <tr>\n      <th>NC</th>\n      <td>990</td>\n    </tr>\n    <tr>\n      <th>ND</th>\n      <td>1108</td>\n    </tr>\n    <tr>\n      <th>NE</th>\n      <td>1051</td>\n    </tr>\n    <tr>\n      <th>NH</th>\n      <td>335</td>\n    </tr>\n    <tr>\n      <th>NJ</th>\n      <td>454</td>\n    </tr>\n    <tr>\n      <th>NM</th>\n      <td>751</td>\n    </tr>\n    <tr>\n      <th>NV</th>\n      <td>407</td>\n    </tr>\n    <tr>\n      <th>OH</th>\n      <td>3113</td>\n    </tr>\n    <tr>\n      <th>OK</th>\n      <td>994</td>\n    </tr>\n    <tr>\n      <th>OR</th>\n      <td>716</td>\n    </tr>\n    <tr>\n      <th>PA</th>\n      <td>782</td>\n    </tr>\n    <tr>\n      <th>SC</th>\n      <td>1196</td>\n    </tr>\n    <tr>\n      <th>SD</th>\n      <td>1200</td>\n    </tr>\n    <tr>\n      <th>TN</th>\n      <td>530</td>\n    </tr>\n    <tr>\n      <th>TX</th>\n      <td>4824</td>\n    </tr>\n    <tr>\n      <th>UT</th>\n      <td>397</td>\n    </tr>\n    <tr>\n      <th>VA</th>\n      <td>3583</td>\n    </tr>\n    <tr>\n      <th>WI</th>\n      <td>3437</td>\n    </tr>\n    <tr>\n      <th>WV</th>\n      <td>705</td>\n    </tr>\n    <tr>\n      <th>WY</th>\n      <td>690</td>\n    </tr>\n  </tbody>\n</table>\n</div>"
     },
     "metadata": {},
     "execution_count": 98
    }
   ],
   "source": [
    "temp.groupby('State Code').sum()"
   ]
  },
  {
   "cell_type": "code",
   "execution_count": 130,
   "metadata": {},
   "outputs": [
    {
     "output_type": "execute_result",
     "data": {
      "text/plain": [
       "['State Code',\n",
       " 'FIPS County Code',\n",
       " 'County Name',\n",
       " 'Metal Level',\n",
       " 'Issuer Name',\n",
       " 'Premium Adult Individual Age 21',\n",
       " 'Premium Adult Individual Age 27',\n",
       " 'Premium Adult Individual Age 30 ',\n",
       " 'Premium Adult Individual Age 40 ',\n",
       " 'Premium Adult Individual Age 50 ',\n",
       " 'Premium Adult Individual Age 60 ',\n",
       " 'Individual+1 child, Age 21',\n",
       " 'Individual+1 child, Age 30',\n",
       " 'Individual+1 child, Age 40',\n",
       " 'Individual+1 child, Age 50',\n",
       " 'Individual+2 children, Age 21',\n",
       " 'Individual+2 children, Age 30',\n",
       " 'Individual+2 children, Age 40',\n",
       " 'Individual+2 children, Age 50',\n",
       " 'Individual+3 or more children, Age 21',\n",
       " 'Individual+3 or more children, Age 30',\n",
       " 'Individual+3 or more children, Age 40',\n",
       " 'Individual+3 or more children, Age 50']"
      ]
     },
     "metadata": {},
     "execution_count": 130
    }
   ],
   "source": [
    "TARGET_FIELDS"
   ]
  },
  {
   "cell_type": "code",
   "execution_count": 156,
   "metadata": {},
   "outputs": [
    {
     "output_type": "stream",
     "name": "stdout",
     "text": [
      "2017\n",
      "55581\n",
      "C:\\Users\\dhh3hb\\Anaconda3\\lib\\site-packages\\IPython\\core\\interactiveshell.py:3146: DtypeWarning: Columns (21) have mixed types.Specify dtype option on import or set low_memory=False.\n",
      "  has_raised = await self.run_ast_nodes(code_ast.body, cell_name,\n"
     ]
    }
   ],
   "source": [
    "premium_list = ['Premium Adult Individual Age 21',\n",
    " 'Premium Adult Individual Age 27',\n",
    " 'Premium Adult Individual Age 30 ',\n",
    " 'Premium Adult Individual Age 40 ',\n",
    " 'Premium Adult Individual Age 50 ',\n",
    " 'Premium Adult Individual Age 60 ',\n",
    " 'Individual+1 child, Age 21',\n",
    " 'Individual+1 child, Age 30',\n",
    " 'Individual+1 child, Age 40',\n",
    " 'Individual+1 child, Age 50',\n",
    " 'Individual+2 children, Age 21',\n",
    " 'Individual+2 children, Age 30',\n",
    " 'Individual+2 children, Age 40',\n",
    " 'Individual+2 children, Age 50',\n",
    " 'Individual+3 or more children, Age 21',\n",
    " 'Individual+3 or more children, Age 30',\n",
    " 'Individual+3 or more children, Age 40',\n",
    " 'Individual+3 or more children, Age 50']\n",
    "result_dict = {}\n",
    "for yr in range(2017,2022):\n",
    "    print(yr)\n",
    "    df = pd.read_csv('insurance_plans/{}.csv'.format(yr))\n",
    "    print(len(df))\n",
    "    df_target = df[TARGET_FIELDS]\n",
    "    temp =df.groupby(['State Code', 'Issuer Name']).size().to_frame('record_count')\n",
    "    temp = temp.reset_index()\n",
    "    \n",
    "\n",
    "    # state_df= temp.iloc[temp.groupby(['State Code'], sort=False)['record_count'].idxmax()][['State Code','Issuer Name','record_count']].reset_index(drop=True)\n",
    "    # state_df = state_df.merge(temp.groupby('State Code').sum(), left_on = 'State Code', right_on = 'State Code')\n",
    "    # state_df = state_df.set_index('State Code')\n",
    "\n",
    "    # display(state_df.head())\n",
    "    # result_dict[yr] = state_df.to_dict('index')\n",
    "    # state_df.to_csv('insurance_plans/visualizations/state_mainissuer_{}.csv'.format(yr), index = False)\n",
    "\n",
    "\n",
    "\n",
    "    break\n",
    "### TO DO HERE!"
   ]
  },
  {
   "cell_type": "code",
   "execution_count": 154,
   "metadata": {},
   "outputs": [
    {
     "output_type": "stream",
     "name": "stderr",
     "text": [
      "<ipython-input-154-8b5ac9982f1d>:21: SettingWithCopyWarning: \nA value is trying to be set on a copy of a slice from a DataFrame.\nTry using .loc[row_indexer,col_indexer] = value instead\n\nSee the caveats in the documentation: https://pandas.pydata.org/pandas-docs/stable/user_guide/indexing.html#returning-a-view-versus-a-copy\n  temp[typ] = temp[typ].str.replace('$', '')\n<ipython-input-154-8b5ac9982f1d>:22: SettingWithCopyWarning: \nA value is trying to be set on a copy of a slice from a DataFrame.\nTry using .loc[row_indexer,col_indexer] = value instead\n\nSee the caveats in the documentation: https://pandas.pydata.org/pandas-docs/stable/user_guide/indexing.html#returning-a-view-versus-a-copy\n  temp[typ] = temp[typ].str.replace(',', '')\n<ipython-input-154-8b5ac9982f1d>:23: SettingWithCopyWarning: \nA value is trying to be set on a copy of a slice from a DataFrame.\nTry using .loc[row_indexer,col_indexer] = value instead\n\nSee the caveats in the documentation: https://pandas.pydata.org/pandas-docs/stable/user_guide/indexing.html#returning-a-view-versus-a-copy\n  temp[typ] = temp[typ].astype(float)\n"
     ]
    }
   ],
   "source": []
  },
  {
   "cell_type": "code",
   "execution_count": 155,
   "metadata": {},
   "outputs": [
    {
     "output_type": "execute_result",
     "data": {
      "text/plain": [
       "            Individual+3 or more children, Age 50\n",
       "State Code                                       \n",
       "AK                                        3197.00\n",
       "AK                                        2744.00\n",
       "AK                                        2139.00\n",
       "AK                                        2134.00\n",
       "AK                                        2668.00\n",
       "...                                           ...\n",
       "WY                                        1775.11\n",
       "WY                                        1573.98\n",
       "WY                                        1371.13\n",
       "WY                                        1158.49\n",
       "WY                                        1513.18\n",
       "\n",
       "[55581 rows x 1 columns]"
      ],
      "text/html": "<div>\n<style scoped>\n    .dataframe tbody tr th:only-of-type {\n        vertical-align: middle;\n    }\n\n    .dataframe tbody tr th {\n        vertical-align: top;\n    }\n\n    .dataframe thead th {\n        text-align: right;\n    }\n</style>\n<table border=\"1\" class=\"dataframe\">\n  <thead>\n    <tr style=\"text-align: right;\">\n      <th></th>\n      <th>Individual+3 or more children, Age 50</th>\n    </tr>\n    <tr>\n      <th>State Code</th>\n      <th></th>\n    </tr>\n  </thead>\n  <tbody>\n    <tr>\n      <th>AK</th>\n      <td>3197.00</td>\n    </tr>\n    <tr>\n      <th>AK</th>\n      <td>2744.00</td>\n    </tr>\n    <tr>\n      <th>AK</th>\n      <td>2139.00</td>\n    </tr>\n    <tr>\n      <th>AK</th>\n      <td>2134.00</td>\n    </tr>\n    <tr>\n      <th>AK</th>\n      <td>2668.00</td>\n    </tr>\n    <tr>\n      <th>...</th>\n      <td>...</td>\n    </tr>\n    <tr>\n      <th>WY</th>\n      <td>1775.11</td>\n    </tr>\n    <tr>\n      <th>WY</th>\n      <td>1573.98</td>\n    </tr>\n    <tr>\n      <th>WY</th>\n      <td>1371.13</td>\n    </tr>\n    <tr>\n      <th>WY</th>\n      <td>1158.49</td>\n    </tr>\n    <tr>\n      <th>WY</th>\n      <td>1513.18</td>\n    </tr>\n  </tbody>\n</table>\n<p>55581 rows × 1 columns</p>\n</div>"
     },
     "metadata": {},
     "execution_count": 155
    }
   ],
   "source": [
    "temp"
   ]
  },
  {
   "cell_type": "code",
   "execution_count": 136,
   "metadata": {},
   "outputs": [
    {
     "output_type": "execute_result",
     "data": {
      "text/plain": [
       "                                            record_count\n",
       "State Code Premium Adult Individual Age 21              \n",
       "AK          $550.00                                    4\n",
       "            $551.00                                    4\n",
       "            $564.00                                    9\n",
       "            $566.00                                    9\n",
       "            $578.00                                   16\n",
       "...                                                  ...\n",
       "WY          $488.18                                   22\n",
       "            $488.87                                   22\n",
       "            $490.29                                   22\n",
       "            $491.62                                   22\n",
       "            $499.00                                   22\n",
       "\n",
       "[10613 rows x 1 columns]"
      ],
      "text/html": "<div>\n<style scoped>\n    .dataframe tbody tr th:only-of-type {\n        vertical-align: middle;\n    }\n\n    .dataframe tbody tr th {\n        vertical-align: top;\n    }\n\n    .dataframe thead th {\n        text-align: right;\n    }\n</style>\n<table border=\"1\" class=\"dataframe\">\n  <thead>\n    <tr style=\"text-align: right;\">\n      <th></th>\n      <th></th>\n      <th>record_count</th>\n    </tr>\n    <tr>\n      <th>State Code</th>\n      <th>Premium Adult Individual Age 21</th>\n      <th></th>\n    </tr>\n  </thead>\n  <tbody>\n    <tr>\n      <th rowspan=\"5\" valign=\"top\">AK</th>\n      <th>$550.00</th>\n      <td>4</td>\n    </tr>\n    <tr>\n      <th>$551.00</th>\n      <td>4</td>\n    </tr>\n    <tr>\n      <th>$564.00</th>\n      <td>9</td>\n    </tr>\n    <tr>\n      <th>$566.00</th>\n      <td>9</td>\n    </tr>\n    <tr>\n      <th>$578.00</th>\n      <td>16</td>\n    </tr>\n    <tr>\n      <th>...</th>\n      <th>...</th>\n      <td>...</td>\n    </tr>\n    <tr>\n      <th rowspan=\"5\" valign=\"top\">WY</th>\n      <th>$488.18</th>\n      <td>22</td>\n    </tr>\n    <tr>\n      <th>$488.87</th>\n      <td>22</td>\n    </tr>\n    <tr>\n      <th>$490.29</th>\n      <td>22</td>\n    </tr>\n    <tr>\n      <th>$491.62</th>\n      <td>22</td>\n    </tr>\n    <tr>\n      <th>$499.00</th>\n      <td>22</td>\n    </tr>\n  </tbody>\n</table>\n<p>10613 rows × 1 columns</p>\n</div>"
     },
     "metadata": {},
     "execution_count": 136
    }
   ],
   "source": [
    "temp"
   ]
  }
 ]
}