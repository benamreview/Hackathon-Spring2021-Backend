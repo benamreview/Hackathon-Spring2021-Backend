{
 "metadata": {
  "language_info": {
   "codemirror_mode": {
    "name": "ipython",
    "version": 3
   },
   "file_extension": ".py",
   "mimetype": "text/x-python",
   "name": "python",
   "nbconvert_exporter": "python",
   "pygments_lexer": "ipython3",
   "version": "3.8.5"
  },
  "orig_nbformat": 2,
  "kernelspec": {
   "name": "python385jvsc74a57bd0a69a97d3c0c90f1132d3fe1c1bdf15f941a20aa0a78eb54401bae5bd6029936d",
   "display_name": "Python 3.8.5 64-bit ('base': conda)"
  }
 },
 "nbformat": 4,
 "nbformat_minor": 2,
 "cells": [
  {
   "cell_type": "code",
   "execution_count": 8,
   "metadata": {},
   "outputs": [],
   "source": [
    "import pandas as pd\n",
    "import json\n",
    "import numpy as np"
   ]
  },
  {
   "cell_type": "code",
   "execution_count": 9,
   "metadata": {},
   "outputs": [],
   "source": [
    "TARGET_FIELDS = [\n",
    "    'State Code',\n",
    "    'FIPS County Code',\n",
    "    'County Name',\n",
    "    'Metal Level',\n",
    "    'Issuer Name',\n",
    "    # 'Premium Child Age 0-14',\n",
    "    # 'Premium Child Age 18',\n",
    "    'Premium Adult Individual Age 21',\n",
    "    'Premium Adult Individual Age 27',\n",
    "    'Premium Adult Individual Age 30 ',\n",
    "    'Premium Adult Individual Age 40 ',\n",
    "    'Premium Adult Individual Age 50 ',\n",
    "    'Premium Adult Individual Age 60 ',\n",
    "    'Individual+1 child, Age 21',\n",
    "    'Individual+1 child, Age 30',\n",
    "    'Individual+1 child, Age 40',\n",
    "    'Individual+1 child, Age 50',\n",
    "    'Individual+2 children, Age 21',\n",
    "    'Individual+2 children, Age 30',\n",
    "    'Individual+2 children, Age 40',\n",
    "    'Individual+2 children, Age 50',\n",
    "    'Individual+3 or more children, Age 21',\n",
    "    'Individual+3 or more children, Age 30',\n",
    "    'Individual+3 or more children, Age 40',\n",
    "    'Individual+3 or more children, Age 50',\n",
    "]"
   ]
  },
  {
   "cell_type": "code",
   "execution_count": 7,
   "metadata": {},
   "outputs": [
    {
     "output_type": "stream",
     "name": "stdout",
     "text": [
      "2017\n"
     ]
    },
    {
     "output_type": "error",
     "ename": "NameError",
     "evalue": "name 'pd' is not defined",
     "traceback": [
      "\u001b[1;31m---------------------------------------------------------------------------\u001b[0m",
      "\u001b[1;31mNameError\u001b[0m                                 Traceback (most recent call last)",
      "\u001b[1;32m<ipython-input-7-50ecf359a943>\u001b[0m in \u001b[0;36m<module>\u001b[1;34m\u001b[0m\n\u001b[0;32m      2\u001b[0m \u001b[1;32mfor\u001b[0m \u001b[0myr\u001b[0m \u001b[1;32min\u001b[0m \u001b[0mrange\u001b[0m\u001b[1;33m(\u001b[0m\u001b[1;36m2017\u001b[0m\u001b[1;33m,\u001b[0m\u001b[1;36m2022\u001b[0m\u001b[1;33m)\u001b[0m\u001b[1;33m:\u001b[0m\u001b[1;33m\u001b[0m\u001b[1;33m\u001b[0m\u001b[0m\n\u001b[0;32m      3\u001b[0m     \u001b[0mprint\u001b[0m\u001b[1;33m(\u001b[0m\u001b[0myr\u001b[0m\u001b[1;33m)\u001b[0m\u001b[1;33m\u001b[0m\u001b[1;33m\u001b[0m\u001b[0m\n\u001b[1;32m----> 4\u001b[1;33m     \u001b[0mdf\u001b[0m \u001b[1;33m=\u001b[0m \u001b[0mpd\u001b[0m\u001b[1;33m.\u001b[0m\u001b[0mread_csv\u001b[0m\u001b[1;33m(\u001b[0m\u001b[1;34m'insurance_plans/{}.csv'\u001b[0m\u001b[1;33m.\u001b[0m\u001b[0mformat\u001b[0m\u001b[1;33m(\u001b[0m\u001b[0myr\u001b[0m\u001b[1;33m)\u001b[0m\u001b[1;33m)\u001b[0m\u001b[1;33m\u001b[0m\u001b[1;33m\u001b[0m\u001b[0m\n\u001b[0m\u001b[0;32m      5\u001b[0m     \u001b[0mprint\u001b[0m\u001b[1;33m(\u001b[0m\u001b[0mlen\u001b[0m\u001b[1;33m(\u001b[0m\u001b[0mdf\u001b[0m\u001b[1;33m)\u001b[0m\u001b[1;33m)\u001b[0m\u001b[1;33m\u001b[0m\u001b[1;33m\u001b[0m\u001b[0m\n\u001b[0;32m      6\u001b[0m     \u001b[0mdf_target\u001b[0m \u001b[1;33m=\u001b[0m \u001b[0mdf\u001b[0m\u001b[1;33m[\u001b[0m\u001b[0mTARGET_FIELDS\u001b[0m\u001b[1;33m]\u001b[0m\u001b[1;33m\u001b[0m\u001b[1;33m\u001b[0m\u001b[0m\n",
      "\u001b[1;31mNameError\u001b[0m: name 'pd' is not defined"
     ]
    }
   ],
   "source": [
    "result_dict = {}\n",
    "for yr in range(2017,2022):\n",
    "    print(yr)\n",
    "    df = pd.read_csv('insurance_plans/{}.csv'.format(yr))\n",
    "    print(len(df))\n",
    "    df_target = df[TARGET_FIELDS]\n",
    "    temp =df.groupby(['State Code', 'Issuer Name']).size().to_frame('record_count')\n",
    "    temp = temp.reset_index()\n",
    "    \n",
    "\n",
    "    state_df= temp.iloc[temp.groupby(['State Code'], sort=False)['record_count'].idxmax()][['State Code','Issuer Name','record_count']].reset_index(drop=True)\n",
    "    state_df = state_df.merge(temp.groupby('State Code').sum(), left_on = 'State Code', right_on = 'State Code')\n",
    "    state_df = state_df.set_index('State Code')\n",
    "\n",
    "    display(state_df.head())\n",
    "    result_dict[yr] = state_df.to_dict('index')\n",
    "    # state_df.to_csv('insurance_plans/visualizations/state_mainissuer_{}.csv'.format(yr), index = False)\n",
    "\n",
    "\n",
    "\n",
    "    break"
   ]
  },
  {
   "cell_type": "code",
   "execution_count": 122,
   "metadata": {},
   "outputs": [],
   "source": []
  },
  {
   "cell_type": "code",
   "execution_count": 96,
   "metadata": {},
   "outputs": [
    {
     "output_type": "execute_result",
     "data": {
      "text/plain": [
       "    State Code                                       Issuer Name  count\n",
       "0           AK          Premera Blue Cross Blue Shield of Alaska    145\n",
       "1           AL             Blue Cross and Blue Shield of Alabama    469\n",
       "2           AR                          Celtic Insurance Company    525\n",
       "3           AR                             QCA Health Plan, Inc.    357\n",
       "4           AR  QualChoice Life & Health Insurance Company, Inc.    114\n",
       "..         ...                                               ...    ...\n",
       "162         WI           Security Health Plan of Wisconsin, Inc.    616\n",
       "163         WI          Unity Health Plans Insurance Corporation    483\n",
       "164         WV                      CareSource West Virginia Co.    320\n",
       "165         WV     Highmark Blue Cross Blue Shield West Virginia    385\n",
       "166         WY                 Blue Cross Blue Shield of Wyoming    690\n",
       "\n",
       "[167 rows x 3 columns]"
      ],
      "text/html": "<div>\n<style scoped>\n    .dataframe tbody tr th:only-of-type {\n        vertical-align: middle;\n    }\n\n    .dataframe tbody tr th {\n        vertical-align: top;\n    }\n\n    .dataframe thead th {\n        text-align: right;\n    }\n</style>\n<table border=\"1\" class=\"dataframe\">\n  <thead>\n    <tr style=\"text-align: right;\">\n      <th></th>\n      <th>State Code</th>\n      <th>Issuer Name</th>\n      <th>count</th>\n    </tr>\n  </thead>\n  <tbody>\n    <tr>\n      <th>0</th>\n      <td>AK</td>\n      <td>Premera Blue Cross Blue Shield of Alaska</td>\n      <td>145</td>\n    </tr>\n    <tr>\n      <th>1</th>\n      <td>AL</td>\n      <td>Blue Cross and Blue Shield of Alabama</td>\n      <td>469</td>\n    </tr>\n    <tr>\n      <th>2</th>\n      <td>AR</td>\n      <td>Celtic Insurance Company</td>\n      <td>525</td>\n    </tr>\n    <tr>\n      <th>3</th>\n      <td>AR</td>\n      <td>QCA Health Plan, Inc.</td>\n      <td>357</td>\n    </tr>\n    <tr>\n      <th>4</th>\n      <td>AR</td>\n      <td>QualChoice Life &amp; Health Insurance Company, Inc.</td>\n      <td>114</td>\n    </tr>\n    <tr>\n      <th>...</th>\n      <td>...</td>\n      <td>...</td>\n      <td>...</td>\n    </tr>\n    <tr>\n      <th>162</th>\n      <td>WI</td>\n      <td>Security Health Plan of Wisconsin, Inc.</td>\n      <td>616</td>\n    </tr>\n    <tr>\n      <th>163</th>\n      <td>WI</td>\n      <td>Unity Health Plans Insurance Corporation</td>\n      <td>483</td>\n    </tr>\n    <tr>\n      <th>164</th>\n      <td>WV</td>\n      <td>CareSource West Virginia Co.</td>\n      <td>320</td>\n    </tr>\n    <tr>\n      <th>165</th>\n      <td>WV</td>\n      <td>Highmark Blue Cross Blue Shield West Virginia</td>\n      <td>385</td>\n    </tr>\n    <tr>\n      <th>166</th>\n      <td>WY</td>\n      <td>Blue Cross Blue Shield of Wyoming</td>\n      <td>690</td>\n    </tr>\n  </tbody>\n</table>\n<p>167 rows × 3 columns</p>\n</div>"
     },
     "metadata": {},
     "execution_count": 96
    }
   ],
   "source": [
    "temp =df.groupby(['State Code', 'Issuer Name']).size().to_frame('count')\n",
    "temp = temp.reset_index()\n",
    "temp"
   ]
  },
  {
   "cell_type": "code",
   "execution_count": 98,
   "metadata": {},
   "outputs": [
    {
     "output_type": "execute_result",
     "data": {
      "text/plain": [
       "            count\n",
       "State Code       \n",
       "AK            145\n",
       "AL            469\n",
       "AR           1896\n",
       "AZ             72\n",
       "DE             60\n",
       "FL           2417\n",
       "GA           3192\n",
       "HI             92\n",
       "IA           1326\n",
       "IL           2572\n",
       "IN           3630\n",
       "KS           1272\n",
       "KY           1455\n",
       "LA           1097\n",
       "ME            456\n",
       "MI           3664\n",
       "MO           1557\n",
       "MS           1522\n",
       "MT           1424\n",
       "NC            990\n",
       "ND           1108\n",
       "NE           1051\n",
       "NH            335\n",
       "NJ            454\n",
       "NM            751\n",
       "NV            407\n",
       "OH           3113\n",
       "OK            994\n",
       "OR            716\n",
       "PA            782\n",
       "SC           1196\n",
       "SD           1200\n",
       "TN            530\n",
       "TX           4824\n",
       "UT            397\n",
       "VA           3583\n",
       "WI           3437\n",
       "WV            705\n",
       "WY            690"
      ],
      "text/html": "<div>\n<style scoped>\n    .dataframe tbody tr th:only-of-type {\n        vertical-align: middle;\n    }\n\n    .dataframe tbody tr th {\n        vertical-align: top;\n    }\n\n    .dataframe thead th {\n        text-align: right;\n    }\n</style>\n<table border=\"1\" class=\"dataframe\">\n  <thead>\n    <tr style=\"text-align: right;\">\n      <th></th>\n      <th>count</th>\n    </tr>\n    <tr>\n      <th>State Code</th>\n      <th></th>\n    </tr>\n  </thead>\n  <tbody>\n    <tr>\n      <th>AK</th>\n      <td>145</td>\n    </tr>\n    <tr>\n      <th>AL</th>\n      <td>469</td>\n    </tr>\n    <tr>\n      <th>AR</th>\n      <td>1896</td>\n    </tr>\n    <tr>\n      <th>AZ</th>\n      <td>72</td>\n    </tr>\n    <tr>\n      <th>DE</th>\n      <td>60</td>\n    </tr>\n    <tr>\n      <th>FL</th>\n      <td>2417</td>\n    </tr>\n    <tr>\n      <th>GA</th>\n      <td>3192</td>\n    </tr>\n    <tr>\n      <th>HI</th>\n      <td>92</td>\n    </tr>\n    <tr>\n      <th>IA</th>\n      <td>1326</td>\n    </tr>\n    <tr>\n      <th>IL</th>\n      <td>2572</td>\n    </tr>\n    <tr>\n      <th>IN</th>\n      <td>3630</td>\n    </tr>\n    <tr>\n      <th>KS</th>\n      <td>1272</td>\n    </tr>\n    <tr>\n      <th>KY</th>\n      <td>1455</td>\n    </tr>\n    <tr>\n      <th>LA</th>\n      <td>1097</td>\n    </tr>\n    <tr>\n      <th>ME</th>\n      <td>456</td>\n    </tr>\n    <tr>\n      <th>MI</th>\n      <td>3664</td>\n    </tr>\n    <tr>\n      <th>MO</th>\n      <td>1557</td>\n    </tr>\n    <tr>\n      <th>MS</th>\n      <td>1522</td>\n    </tr>\n    <tr>\n      <th>MT</th>\n      <td>1424</td>\n    </tr>\n    <tr>\n      <th>NC</th>\n      <td>990</td>\n    </tr>\n    <tr>\n      <th>ND</th>\n      <td>1108</td>\n    </tr>\n    <tr>\n      <th>NE</th>\n      <td>1051</td>\n    </tr>\n    <tr>\n      <th>NH</th>\n      <td>335</td>\n    </tr>\n    <tr>\n      <th>NJ</th>\n      <td>454</td>\n    </tr>\n    <tr>\n      <th>NM</th>\n      <td>751</td>\n    </tr>\n    <tr>\n      <th>NV</th>\n      <td>407</td>\n    </tr>\n    <tr>\n      <th>OH</th>\n      <td>3113</td>\n    </tr>\n    <tr>\n      <th>OK</th>\n      <td>994</td>\n    </tr>\n    <tr>\n      <th>OR</th>\n      <td>716</td>\n    </tr>\n    <tr>\n      <th>PA</th>\n      <td>782</td>\n    </tr>\n    <tr>\n      <th>SC</th>\n      <td>1196</td>\n    </tr>\n    <tr>\n      <th>SD</th>\n      <td>1200</td>\n    </tr>\n    <tr>\n      <th>TN</th>\n      <td>530</td>\n    </tr>\n    <tr>\n      <th>TX</th>\n      <td>4824</td>\n    </tr>\n    <tr>\n      <th>UT</th>\n      <td>397</td>\n    </tr>\n    <tr>\n      <th>VA</th>\n      <td>3583</td>\n    </tr>\n    <tr>\n      <th>WI</th>\n      <td>3437</td>\n    </tr>\n    <tr>\n      <th>WV</th>\n      <td>705</td>\n    </tr>\n    <tr>\n      <th>WY</th>\n      <td>690</td>\n    </tr>\n  </tbody>\n</table>\n</div>"
     },
     "metadata": {},
     "execution_count": 98
    }
   ],
   "source": [
    "temp.groupby('State Code').sum()"
   ]
  },
  {
   "cell_type": "code",
   "execution_count": 130,
   "metadata": {},
   "outputs": [
    {
     "output_type": "execute_result",
     "data": {
      "text/plain": [
       "['State Code',\n",
       " 'FIPS County Code',\n",
       " 'County Name',\n",
       " 'Metal Level',\n",
       " 'Issuer Name',\n",
       " 'Premium Adult Individual Age 21',\n",
       " 'Premium Adult Individual Age 27',\n",
       " 'Premium Adult Individual Age 30 ',\n",
       " 'Premium Adult Individual Age 40 ',\n",
       " 'Premium Adult Individual Age 50 ',\n",
       " 'Premium Adult Individual Age 60 ',\n",
       " 'Individual+1 child, Age 21',\n",
       " 'Individual+1 child, Age 30',\n",
       " 'Individual+1 child, Age 40',\n",
       " 'Individual+1 child, Age 50',\n",
       " 'Individual+2 children, Age 21',\n",
       " 'Individual+2 children, Age 30',\n",
       " 'Individual+2 children, Age 40',\n",
       " 'Individual+2 children, Age 50',\n",
       " 'Individual+3 or more children, Age 21',\n",
       " 'Individual+3 or more children, Age 30',\n",
       " 'Individual+3 or more children, Age 40',\n",
       " 'Individual+3 or more children, Age 50']"
      ]
     },
     "metadata": {},
     "execution_count": 130
    }
   ],
   "source": [
    "TARGET_FIELDS"
   ]
  },
  {
   "cell_type": "code",
   "execution_count": 11,
   "metadata": {},
   "outputs": [],
   "source": [
    "premium_list = ['Premium Adult Individual Age 21',\n",
    " 'Premium Adult Individual Age 27',\n",
    " 'Premium Adult Individual Age 30 ',\n",
    " 'Premium Adult Individual Age 40 ',\n",
    " 'Premium Adult Individual Age 50 ',\n",
    " 'Premium Adult Individual Age 60 ',\n",
    " 'Individual+1 child, Age 21',\n",
    " 'Individual+1 child, Age 30',\n",
    " 'Individual+1 child, Age 40',\n",
    " 'Individual+1 child, Age 50',\n",
    " 'Individual+2 children, Age 21',\n",
    " 'Individual+2 children, Age 30',\n",
    " 'Individual+2 children, Age 40',\n",
    " 'Individual+2 children, Age 50',\n",
    " 'Individual+3 or more children, Age 21',\n",
    " 'Individual+3 or more children, Age 30',\n",
    " 'Individual+3 or more children, Age 40',\n",
    " 'Individual+3 or more children, Age 50']"
   ]
  },
  {
   "cell_type": "code",
   "execution_count": 203,
   "metadata": {},
   "outputs": [
    {
     "output_type": "stream",
     "name": "stdout",
     "text": [
      "2017\n",
      "C:\\Users\\dhh3hb\\Anaconda3\\lib\\site-packages\\IPython\\core\\interactiveshell.py:3146: DtypeWarning: Columns (21) have mixed types.Specify dtype option on import or set low_memory=False.\n",
      "  has_raised = await self.run_ast_nodes(code_ast.body, cell_name,\n",
      "C:\\Users\\dhh3hb\\Anaconda3\\lib\\site-packages\\pandas\\core\\indexing.py:1717: SettingWithCopyWarning: \n",
      "A value is trying to be set on a copy of a slice from a DataFrame.\n",
      "Try using .loc[row_indexer,col_indexer] = value instead\n",
      "\n",
      "See the caveats in the documentation: https://pandas.pydata.org/pandas-docs/stable/user_guide/indexing.html#returning-a-view-versus-a-copy\n",
      "  isetter(loc, v)\n",
      "C:\\Users\\dhh3hb\\Anaconda3\\lib\\site-packages\\pandas\\core\\frame.py:3065: SettingWithCopyWarning: \n",
      "A value is trying to be set on a copy of a slice from a DataFrame.\n",
      "Try using .loc[row_indexer,col_indexer] = value instead\n",
      "\n",
      "See the caveats in the documentation: https://pandas.pydata.org/pandas-docs/stable/user_guide/indexing.html#returning-a-view-versus-a-copy\n",
      "  self[k1] = value[k2]\n",
      "2018\n",
      "2019\n",
      "C:\\Users\\dhh3hb\\Anaconda3\\lib\\site-packages\\IPython\\core\\interactiveshell.py:3146: DtypeWarning: Columns (20) have mixed types.Specify dtype option on import or set low_memory=False.\n",
      "  has_raised = await self.run_ast_nodes(code_ast.body, cell_name,\n",
      "2020\n",
      "2021\n"
     ]
    }
   ],
   "source": [
    "\n",
    "result_dict = {}\n",
    "for yr in range(2017,2022):\n",
    "    print(yr)\n",
    "    df = pd.read_csv('insurance_plans/{}.csv'.format(yr))\n",
    "    # print(len(df))\n",
    "    df_target = df[TARGET_FIELDS]\n",
    "    df_target.loc[:, premium_list] = df_target.loc[:, premium_list].applymap(lambda x: x.replace('$', ''))\n",
    "    df_target.loc[:, premium_list] = df_target.loc[:, premium_list].applymap(lambda x: x.replace(',', ''))\n",
    "    df_target[premium_list] = df_target[premium_list].apply(pd.to_numeric)\n",
    "\n",
    "    temp = df_target[['State Code'] + premium_list]\n",
    "    temp = temp.set_index('State Code')\n",
    "    result_df = temp.groupby('State Code').mean().astype(int)\n",
    "    # display(result_df)\n",
    "    result_dict[yr] = result_df.to_dict('index')\n",
    "    # state_df.to_csv('insurance_plans/visualizations/state_mainissuer_{}.csv'.format(yr), index = False)\n",
    "\n",
    "\n",
    "\n",
    "#     # break\n",
    "# with open('insurance_plans/visualizations/state_premiums.json', 'w') as f:\n",
    "#     f.write(json.dumps(result_dict, indent = 4))"
   ]
  },
  {
   "cell_type": "code",
   "execution_count": 201,
   "metadata": {},
   "outputs": [
    {
     "output_type": "execute_result",
     "data": {
      "text/plain": [
       "      State Code  ...  Individual+3 or more children, Age 50\n",
       "0             AK  ...                                1990.00\n",
       "1             AK  ...                                2214.00\n",
       "2             AK  ...                                1478.00\n",
       "3             AK  ...                                2209.00\n",
       "4             AK  ...                                1445.00\n",
       "...          ...  ...                                    ...\n",
       "75223         WY  ...                                1676.34\n",
       "75224         WY  ...                                2264.44\n",
       "75225         WY  ...                                2531.61\n",
       "75226         WY  ...                                1806.04\n",
       "75227         WY  ...                                1888.15\n",
       "\n",
       "[75228 rows x 23 columns]"
      ],
      "text/html": "<div>\n<style scoped>\n    .dataframe tbody tr th:only-of-type {\n        vertical-align: middle;\n    }\n\n    .dataframe tbody tr th {\n        vertical-align: top;\n    }\n\n    .dataframe thead th {\n        text-align: right;\n    }\n</style>\n<table border=\"1\" class=\"dataframe\">\n  <thead>\n    <tr style=\"text-align: right;\">\n      <th></th>\n      <th>State Code</th>\n      <th>FIPS County Code</th>\n      <th>County Name</th>\n      <th>Metal Level</th>\n      <th>Issuer Name</th>\n      <th>Premium Adult Individual Age 21</th>\n      <th>Premium Adult Individual Age 27</th>\n      <th>Premium Adult Individual Age 30</th>\n      <th>Premium Adult Individual Age 40</th>\n      <th>Premium Adult Individual Age 50</th>\n      <th>Premium Adult Individual Age 60</th>\n      <th>Individual+1 child, Age 21</th>\n      <th>Individual+1 child, Age 30</th>\n      <th>Individual+1 child, Age 40</th>\n      <th>Individual+1 child, Age 50</th>\n      <th>Individual+2 children, Age 21</th>\n      <th>Individual+2 children, Age 30</th>\n      <th>Individual+2 children, Age 40</th>\n      <th>Individual+2 children, Age 50</th>\n      <th>Individual+3 or more children, Age 21</th>\n      <th>Individual+3 or more children, Age 30</th>\n      <th>Individual+3 or more children, Age 40</th>\n      <th>Individual+3 or more children, Age 50</th>\n    </tr>\n  </thead>\n  <tbody>\n    <tr>\n      <th>0</th>\n      <td>AK</td>\n      <td>2013</td>\n      <td>Aleutians East</td>\n      <td>Gold</td>\n      <td>Premera Blue Cross Blue Shield of Alaska</td>\n      <td>488.00</td>\n      <td>511.00</td>\n      <td>554.00</td>\n      <td>623.00</td>\n      <td>871.00</td>\n      <td>1324.00</td>\n      <td>861.00</td>\n      <td>927.00</td>\n      <td>996.00</td>\n      <td>1244.00</td>\n      <td>1234.00</td>\n      <td>1300.00</td>\n      <td>1369.00</td>\n      <td>1617.00</td>\n      <td>1607.00</td>\n      <td>1673.00</td>\n      <td>1742.00</td>\n      <td>1990.00</td>\n    </tr>\n    <tr>\n      <th>1</th>\n      <td>AK</td>\n      <td>2013</td>\n      <td>Aleutians East</td>\n      <td>Silver</td>\n      <td>Premera Blue Cross Blue Shield of Alaska</td>\n      <td>543.00</td>\n      <td>569.00</td>\n      <td>616.00</td>\n      <td>693.00</td>\n      <td>969.00</td>\n      <td>1473.00</td>\n      <td>958.00</td>\n      <td>1031.00</td>\n      <td>1108.00</td>\n      <td>1384.00</td>\n      <td>1373.00</td>\n      <td>1446.00</td>\n      <td>1523.00</td>\n      <td>1799.00</td>\n      <td>1788.00</td>\n      <td>1861.00</td>\n      <td>1938.00</td>\n      <td>2214.00</td>\n    </tr>\n    <tr>\n      <th>2</th>\n      <td>AK</td>\n      <td>2013</td>\n      <td>Aleutians East</td>\n      <td>Expanded Bronze</td>\n      <td>Premera Blue Cross Blue Shield of Alaska</td>\n      <td>362.00</td>\n      <td>379.00</td>\n      <td>411.00</td>\n      <td>463.00</td>\n      <td>647.00</td>\n      <td>983.00</td>\n      <td>639.00</td>\n      <td>688.00</td>\n      <td>740.00</td>\n      <td>924.00</td>\n      <td>916.00</td>\n      <td>965.00</td>\n      <td>1017.00</td>\n      <td>1201.00</td>\n      <td>1193.00</td>\n      <td>1242.00</td>\n      <td>1294.00</td>\n      <td>1478.00</td>\n    </tr>\n    <tr>\n      <th>3</th>\n      <td>AK</td>\n      <td>2013</td>\n      <td>Aleutians East</td>\n      <td>Silver</td>\n      <td>Premera Blue Cross Blue Shield of Alaska</td>\n      <td>541.00</td>\n      <td>567.00</td>\n      <td>614.00</td>\n      <td>692.00</td>\n      <td>967.00</td>\n      <td>1469.00</td>\n      <td>955.00</td>\n      <td>1028.00</td>\n      <td>1106.00</td>\n      <td>1381.00</td>\n      <td>1369.00</td>\n      <td>1442.00</td>\n      <td>1520.00</td>\n      <td>1795.00</td>\n      <td>1783.00</td>\n      <td>1856.00</td>\n      <td>1934.00</td>\n      <td>2209.00</td>\n    </tr>\n    <tr>\n      <th>4</th>\n      <td>AK</td>\n      <td>2013</td>\n      <td>Aleutians East</td>\n      <td>Expanded Bronze</td>\n      <td>Premera Blue Cross Blue Shield of Alaska</td>\n      <td>354.00</td>\n      <td>371.00</td>\n      <td>402.00</td>\n      <td>453.00</td>\n      <td>632.00</td>\n      <td>961.00</td>\n      <td>625.00</td>\n      <td>673.00</td>\n      <td>724.00</td>\n      <td>903.00</td>\n      <td>896.00</td>\n      <td>944.00</td>\n      <td>995.00</td>\n      <td>1174.00</td>\n      <td>1167.00</td>\n      <td>1215.00</td>\n      <td>1266.00</td>\n      <td>1445.00</td>\n    </tr>\n    <tr>\n      <th>...</th>\n      <td>...</td>\n      <td>...</td>\n      <td>...</td>\n      <td>...</td>\n      <td>...</td>\n      <td>...</td>\n      <td>...</td>\n      <td>...</td>\n      <td>...</td>\n      <td>...</td>\n      <td>...</td>\n      <td>...</td>\n      <td>...</td>\n      <td>...</td>\n      <td>...</td>\n      <td>...</td>\n      <td>...</td>\n      <td>...</td>\n      <td>...</td>\n      <td>...</td>\n      <td>...</td>\n      <td>...</td>\n      <td>...</td>\n    </tr>\n    <tr>\n      <th>75223</th>\n      <td>WY</td>\n      <td>56045</td>\n      <td>Weston</td>\n      <td>Bronze</td>\n      <td>Blue Cross Blue Shield of Wyoming</td>\n      <td>410.76</td>\n      <td>430.48</td>\n      <td>466.22</td>\n      <td>524.95</td>\n      <td>733.62</td>\n      <td>1114.80</td>\n      <td>725.00</td>\n      <td>780.46</td>\n      <td>839.19</td>\n      <td>1047.86</td>\n      <td>1039.24</td>\n      <td>1094.70</td>\n      <td>1153.43</td>\n      <td>1362.10</td>\n      <td>1353.48</td>\n      <td>1408.94</td>\n      <td>1467.67</td>\n      <td>1676.34</td>\n    </tr>\n    <tr>\n      <th>75224</th>\n      <td>WY</td>\n      <td>56045</td>\n      <td>Weston</td>\n      <td>Gold</td>\n      <td>Mountain Health CO-OP</td>\n      <td>554.87</td>\n      <td>581.50</td>\n      <td>629.78</td>\n      <td>709.12</td>\n      <td>991.00</td>\n      <td>1505.92</td>\n      <td>979.35</td>\n      <td>1054.26</td>\n      <td>1133.60</td>\n      <td>1415.48</td>\n      <td>1403.83</td>\n      <td>1478.74</td>\n      <td>1558.08</td>\n      <td>1839.96</td>\n      <td>1828.31</td>\n      <td>1903.22</td>\n      <td>1982.56</td>\n      <td>2264.44</td>\n    </tr>\n    <tr>\n      <th>75225</th>\n      <td>WY</td>\n      <td>56045</td>\n      <td>Weston</td>\n      <td>Silver</td>\n      <td>Mountain Health CO-OP</td>\n      <td>620.34</td>\n      <td>650.12</td>\n      <td>704.09</td>\n      <td>792.80</td>\n      <td>1107.93</td>\n      <td>1683.60</td>\n      <td>1094.90</td>\n      <td>1178.65</td>\n      <td>1267.36</td>\n      <td>1582.49</td>\n      <td>1569.46</td>\n      <td>1653.21</td>\n      <td>1741.92</td>\n      <td>2057.05</td>\n      <td>2044.02</td>\n      <td>2127.77</td>\n      <td>2216.48</td>\n      <td>2531.61</td>\n    </tr>\n    <tr>\n      <th>75226</th>\n      <td>WY</td>\n      <td>56045</td>\n      <td>Weston</td>\n      <td>Expanded Bronze</td>\n      <td>Mountain Health CO-OP</td>\n      <td>442.55</td>\n      <td>463.79</td>\n      <td>502.29</td>\n      <td>565.57</td>\n      <td>790.39</td>\n      <td>1201.07</td>\n      <td>781.10</td>\n      <td>840.84</td>\n      <td>904.12</td>\n      <td>1128.94</td>\n      <td>1119.65</td>\n      <td>1179.39</td>\n      <td>1242.67</td>\n      <td>1467.49</td>\n      <td>1458.20</td>\n      <td>1517.94</td>\n      <td>1581.22</td>\n      <td>1806.04</td>\n    </tr>\n    <tr>\n      <th>75227</th>\n      <td>WY</td>\n      <td>56045</td>\n      <td>Weston</td>\n      <td>Expanded Bronze</td>\n      <td>Mountain Health CO-OP</td>\n      <td>462.67</td>\n      <td>484.88</td>\n      <td>525.13</td>\n      <td>591.29</td>\n      <td>826.33</td>\n      <td>1255.69</td>\n      <td>816.61</td>\n      <td>879.07</td>\n      <td>945.23</td>\n      <td>1180.27</td>\n      <td>1170.55</td>\n      <td>1233.01</td>\n      <td>1299.17</td>\n      <td>1534.21</td>\n      <td>1524.49</td>\n      <td>1586.95</td>\n      <td>1653.11</td>\n      <td>1888.15</td>\n    </tr>\n  </tbody>\n</table>\n<p>75228 rows × 23 columns</p>\n</div>"
     },
     "metadata": {},
     "execution_count": 201
    }
   ],
   "source": [
    "df_target"
   ]
  },
  {
   "cell_type": "code",
   "execution_count": 216,
   "metadata": {},
   "outputs": [
    {
     "output_type": "execute_result",
     "data": {
      "text/plain": [
       "            Individual+1 child, Age 21               ... Premium Adult Individual Age 60              \n",
       "Metal Level                     Bronze Catastrophic  ...                         Platinum       Silver\n",
       "State Code                                           ...                                              \n",
       "AK                            0.000000     0.000000  ...                         0.000000  1451.125000\n",
       "AL                            0.000000   392.051690  ...                         0.000000  1204.991027\n",
       "AR                          454.320000     0.000000  ...                         0.000000   888.667727\n",
       "AZ                          564.208500   516.877368  ...                         0.000000  1076.594398\n",
       "DE                            0.000000   418.080000  ...                      1449.355000  1158.236667\n",
       "FL                          571.410937   418.529459  ...                      1757.097416  1211.808788\n",
       "GA                          552.702822   478.458060  ...                      1402.514184  1119.100322\n",
       "HI                          433.630000   271.630000  ...                      1179.627500  1023.190000\n",
       "IA                            0.000000   429.386516  ...                         0.000000  1157.231820\n",
       "IL                          491.907667   557.975404  ...                         0.000000  1168.244752\n",
       "IN                          540.354492     0.000000  ...                         0.000000   955.372856\n",
       "KS                          602.862233   502.970536  ...                         0.000000  1143.667093\n",
       "KY                            0.000000   419.855598  ...                         0.000000  1092.311240\n",
       "LA                          705.657734     0.000000  ...                         0.000000  1503.446826\n",
       "ME                            0.000000   344.406042  ...                         0.000000  1033.781757\n",
       "MI                          451.048298   391.014754  ...                      1288.230000   932.841220\n",
       "MO                          587.255984   448.896617  ...                         0.000000  1259.358629\n",
       "MS                          529.371951     0.000000  ...                         0.000000  1036.252182\n",
       "MT                          568.216071   458.256429  ...                         0.000000  1077.264261\n",
       "NC                          600.992811   392.482204  ...                         0.000000  1249.575556\n",
       "ND                          548.932364   313.252892  ...                         0.000000  1117.287015\n",
       "NE                            0.000000   522.634404  ...                         0.000000  1639.502402\n",
       "NH                          372.960000   258.847368  ...                         0.000000   775.105333\n",
       "NM                          371.195333   395.197879  ...                         0.000000   867.862626\n",
       "OH                          465.760273   380.805135  ...                         0.000000  1000.874820\n",
       "OK                          642.494189   552.889512  ...                         0.000000  1332.660565\n",
       "OR                            0.000000   320.076923  ...                         0.000000  1061.987682\n",
       "SC                          475.440000   314.335192  ...                         0.000000  1104.776730\n",
       "SD                            0.000000   450.015580  ...                         0.000000  1399.489002\n",
       "TN                          503.638699   455.965227  ...                         0.000000  1101.774382\n",
       "TX                          542.633944   464.479935  ...                         0.000000  1081.645650\n",
       "UT                          406.164000   350.610789  ...                         0.000000  1143.243540\n",
       "VA                          510.484615   410.375240  ...                      1296.970000  1088.121740\n",
       "WI                          519.900034   393.254258  ...                      1162.194667  1131.079991\n",
       "WV                            0.000000   665.236727  ...                         0.000000  1474.620646\n",
       "WY                          754.038261     0.000000  ...                         0.000000  1695.672609\n",
       "\n",
       "[36 rows x 108 columns]"
      ],
      "text/html": "<div>\n<style scoped>\n    .dataframe tbody tr th:only-of-type {\n        vertical-align: middle;\n    }\n\n    .dataframe tbody tr th {\n        vertical-align: top;\n    }\n\n    .dataframe thead tr th {\n        text-align: left;\n    }\n\n    .dataframe thead tr:last-of-type th {\n        text-align: right;\n    }\n</style>\n<table border=\"1\" class=\"dataframe\">\n  <thead>\n    <tr>\n      <th></th>\n      <th colspan=\"6\" halign=\"left\">Individual+1 child, Age 21</th>\n      <th colspan=\"6\" halign=\"left\">Individual+1 child, Age 30</th>\n      <th colspan=\"6\" halign=\"left\">Individual+1 child, Age 40</th>\n      <th colspan=\"6\" halign=\"left\">Individual+1 child, Age 50</th>\n      <th colspan=\"6\" halign=\"left\">Individual+2 children, Age 21</th>\n      <th colspan=\"6\" halign=\"left\">Individual+2 children, Age 30</th>\n      <th colspan=\"4\" halign=\"left\">Individual+2 children, Age 40</th>\n      <th>...</th>\n      <th colspan=\"4\" halign=\"left\">Individual+3 or more children, Age 50</th>\n      <th colspan=\"6\" halign=\"left\">Premium Adult Individual Age 21</th>\n      <th colspan=\"6\" halign=\"left\">Premium Adult Individual Age 27</th>\n      <th colspan=\"6\" halign=\"left\">Premium Adult Individual Age 30</th>\n      <th colspan=\"6\" halign=\"left\">Premium Adult Individual Age 40</th>\n      <th colspan=\"6\" halign=\"left\">Premium Adult Individual Age 50</th>\n      <th colspan=\"6\" halign=\"left\">Premium Adult Individual Age 60</th>\n    </tr>\n    <tr>\n      <th>Metal Level</th>\n      <th>Bronze</th>\n      <th>Catastrophic</th>\n      <th>Expanded Bronze</th>\n      <th>Gold</th>\n      <th>Platinum</th>\n      <th>Silver</th>\n      <th>Bronze</th>\n      <th>Catastrophic</th>\n      <th>Expanded Bronze</th>\n      <th>Gold</th>\n      <th>Platinum</th>\n      <th>Silver</th>\n      <th>Bronze</th>\n      <th>Catastrophic</th>\n      <th>Expanded Bronze</th>\n      <th>Gold</th>\n      <th>Platinum</th>\n      <th>Silver</th>\n      <th>Bronze</th>\n      <th>Catastrophic</th>\n      <th>Expanded Bronze</th>\n      <th>Gold</th>\n      <th>Platinum</th>\n      <th>Silver</th>\n      <th>Bronze</th>\n      <th>Catastrophic</th>\n      <th>Expanded Bronze</th>\n      <th>Gold</th>\n      <th>Platinum</th>\n      <th>Silver</th>\n      <th>Bronze</th>\n      <th>Catastrophic</th>\n      <th>Expanded Bronze</th>\n      <th>Gold</th>\n      <th>Platinum</th>\n      <th>Silver</th>\n      <th>Bronze</th>\n      <th>Catastrophic</th>\n      <th>Expanded Bronze</th>\n      <th>Gold</th>\n      <th>...</th>\n      <th>Expanded Bronze</th>\n      <th>Gold</th>\n      <th>Platinum</th>\n      <th>Silver</th>\n      <th>Bronze</th>\n      <th>Catastrophic</th>\n      <th>Expanded Bronze</th>\n      <th>Gold</th>\n      <th>Platinum</th>\n      <th>Silver</th>\n      <th>Bronze</th>\n      <th>Catastrophic</th>\n      <th>Expanded Bronze</th>\n      <th>Gold</th>\n      <th>Platinum</th>\n      <th>Silver</th>\n      <th>Bronze</th>\n      <th>Catastrophic</th>\n      <th>Expanded Bronze</th>\n      <th>Gold</th>\n      <th>Platinum</th>\n      <th>Silver</th>\n      <th>Bronze</th>\n      <th>Catastrophic</th>\n      <th>Expanded Bronze</th>\n      <th>Gold</th>\n      <th>Platinum</th>\n      <th>Silver</th>\n      <th>Bronze</th>\n      <th>Catastrophic</th>\n      <th>Expanded Bronze</th>\n      <th>Gold</th>\n      <th>Platinum</th>\n      <th>Silver</th>\n      <th>Bronze</th>\n      <th>Catastrophic</th>\n      <th>Expanded Bronze</th>\n      <th>Gold</th>\n      <th>Platinum</th>\n      <th>Silver</th>\n    </tr>\n    <tr>\n      <th>State Code</th>\n      <th></th>\n      <th></th>\n      <th></th>\n      <th></th>\n      <th></th>\n      <th></th>\n      <th></th>\n      <th></th>\n      <th></th>\n      <th></th>\n      <th></th>\n      <th></th>\n      <th></th>\n      <th></th>\n      <th></th>\n      <th></th>\n      <th></th>\n      <th></th>\n      <th></th>\n      <th></th>\n      <th></th>\n      <th></th>\n      <th></th>\n      <th></th>\n      <th></th>\n      <th></th>\n      <th></th>\n      <th></th>\n      <th></th>\n      <th></th>\n      <th></th>\n      <th></th>\n      <th></th>\n      <th></th>\n      <th></th>\n      <th></th>\n      <th></th>\n      <th></th>\n      <th></th>\n      <th></th>\n      <th></th>\n      <th></th>\n      <th></th>\n      <th></th>\n      <th></th>\n      <th></th>\n      <th></th>\n      <th></th>\n      <th></th>\n      <th></th>\n      <th></th>\n      <th></th>\n      <th></th>\n      <th></th>\n      <th></th>\n      <th></th>\n      <th></th>\n      <th></th>\n      <th></th>\n      <th></th>\n      <th></th>\n      <th></th>\n      <th></th>\n      <th></th>\n      <th></th>\n      <th></th>\n      <th></th>\n      <th></th>\n      <th></th>\n      <th></th>\n      <th></th>\n      <th></th>\n      <th></th>\n      <th></th>\n      <th></th>\n      <th></th>\n      <th></th>\n      <th></th>\n      <th></th>\n      <th></th>\n      <th></th>\n    </tr>\n  </thead>\n  <tbody>\n    <tr>\n      <th>AK</th>\n      <td>0.000000</td>\n      <td>0.000000</td>\n      <td>620.400000</td>\n      <td>850.971429</td>\n      <td>0.000000</td>\n      <td>943.562500</td>\n      <td>0.000000</td>\n      <td>0.000000</td>\n      <td>668.014286</td>\n      <td>916.114286</td>\n      <td>0.000000</td>\n      <td>1015.703125</td>\n      <td>0.000000</td>\n      <td>0.000000</td>\n      <td>718.314286</td>\n      <td>984.685714</td>\n      <td>0.000000</td>\n      <td>1092.156250</td>\n      <td>0.000000</td>\n      <td>0.000000</td>\n      <td>896.885714</td>\n      <td>1229.771429</td>\n      <td>0.000000</td>\n      <td>1363.796875</td>\n      <td>0.000000</td>\n      <td>0.000000</td>\n      <td>889.342857</td>\n      <td>1219.771429</td>\n      <td>0.000000</td>\n      <td>1352.515625</td>\n      <td>0.000000</td>\n      <td>0.000000</td>\n      <td>936.957143</td>\n      <td>1284.914286</td>\n      <td>0.000000</td>\n      <td>1424.656250</td>\n      <td>0.000000</td>\n      <td>0.000000</td>\n      <td>987.257143</td>\n      <td>1353.485714</td>\n      <td>...</td>\n      <td>1434.771429</td>\n      <td>1967.371429</td>\n      <td>0.000000</td>\n      <td>2181.703125</td>\n      <td>0.000000</td>\n      <td>0.000000</td>\n      <td>351.457143</td>\n      <td>482.171429</td>\n      <td>0.000000</td>\n      <td>534.609375</td>\n      <td>0.000000</td>\n      <td>0.000000</td>\n      <td>368.314286</td>\n      <td>505.228571</td>\n      <td>0.000000</td>\n      <td>560.343750</td>\n      <td>0.000000</td>\n      <td>0.000000</td>\n      <td>399.071429</td>\n      <td>547.314286</td>\n      <td>0.000000</td>\n      <td>606.750000</td>\n      <td>0.000000</td>\n      <td>0.000000</td>\n      <td>449.371429</td>\n      <td>615.885714</td>\n      <td>0.000000</td>\n      <td>683.203125</td>\n      <td>0.000000</td>\n      <td>0.000000</td>\n      <td>627.942857</td>\n      <td>860.971429</td>\n      <td>0.000000</td>\n      <td>954.843750</td>\n      <td>0.000000</td>\n      <td>0.000000</td>\n      <td>954.357143</td>\n      <td>1308.514286</td>\n      <td>0.000000</td>\n      <td>1451.125000</td>\n    </tr>\n    <tr>\n      <th>AL</th>\n      <td>0.000000</td>\n      <td>392.051690</td>\n      <td>519.001781</td>\n      <td>866.470580</td>\n      <td>0.000000</td>\n      <td>725.925068</td>\n      <td>0.000000</td>\n      <td>424.425915</td>\n      <td>561.855685</td>\n      <td>938.012899</td>\n      <td>0.000000</td>\n      <td>785.861712</td>\n      <td>0.000000</td>\n      <td>458.710423</td>\n      <td>607.248562</td>\n      <td>1013.794493</td>\n      <td>0.000000</td>\n      <td>849.352945</td>\n      <td>0.000000</td>\n      <td>580.524789</td>\n      <td>768.500274</td>\n      <td>1283.010942</td>\n      <td>0.000000</td>\n      <td>1074.901027</td>\n      <td>0.000000</td>\n      <td>544.316197</td>\n      <td>720.572671</td>\n      <td>1202.990072</td>\n      <td>0.000000</td>\n      <td>1007.859110</td>\n      <td>0.000000</td>\n      <td>576.690423</td>\n      <td>763.426575</td>\n      <td>1274.532391</td>\n      <td>0.000000</td>\n      <td>1067.795753</td>\n      <td>0.000000</td>\n      <td>610.974930</td>\n      <td>808.819452</td>\n      <td>1350.313986</td>\n      <td>...</td>\n      <td>1171.642055</td>\n      <td>1956.049928</td>\n      <td>0.000000</td>\n      <td>1638.769110</td>\n      <td>0.000000</td>\n      <td>239.787183</td>\n      <td>317.430890</td>\n      <td>529.951087</td>\n      <td>0.000000</td>\n      <td>443.991027</td>\n      <td>0.000000</td>\n      <td>251.299437</td>\n      <td>332.668699</td>\n      <td>555.388841</td>\n      <td>0.000000</td>\n      <td>465.300000</td>\n      <td>0.000000</td>\n      <td>272.161408</td>\n      <td>360.284795</td>\n      <td>601.493406</td>\n      <td>0.000000</td>\n      <td>503.927671</td>\n      <td>0.000000</td>\n      <td>306.445915</td>\n      <td>405.677671</td>\n      <td>677.275000</td>\n      <td>0.000000</td>\n      <td>567.418904</td>\n      <td>0.000000</td>\n      <td>428.260282</td>\n      <td>566.929384</td>\n      <td>946.491449</td>\n      <td>0.000000</td>\n      <td>792.966986</td>\n      <td>0.000000</td>\n      <td>650.782817</td>\n      <td>861.506712</td>\n      <td>1438.287754</td>\n      <td>0.000000</td>\n      <td>1204.991027</td>\n    </tr>\n    <tr>\n      <th>AR</th>\n      <td>454.320000</td>\n      <td>0.000000</td>\n      <td>495.894000</td>\n      <td>747.901667</td>\n      <td>0.000000</td>\n      <td>577.934545</td>\n      <td>489.060000</td>\n      <td>0.000000</td>\n      <td>533.820000</td>\n      <td>805.105000</td>\n      <td>0.000000</td>\n      <td>622.132727</td>\n      <td>525.870000</td>\n      <td>0.000000</td>\n      <td>573.996000</td>\n      <td>865.700000</td>\n      <td>0.000000</td>\n      <td>668.956364</td>\n      <td>656.630000</td>\n      <td>0.000000</td>\n      <td>716.724000</td>\n      <td>1080.956667</td>\n      <td>0.000000</td>\n      <td>835.295909</td>\n      <td>651.230000</td>\n      <td>0.000000</td>\n      <td>710.826000</td>\n      <td>1072.061667</td>\n      <td>0.000000</td>\n      <td>828.424545</td>\n      <td>685.970000</td>\n      <td>0.000000</td>\n      <td>748.752000</td>\n      <td>1129.265000</td>\n      <td>0.000000</td>\n      <td>872.622727</td>\n      <td>722.780000</td>\n      <td>0.000000</td>\n      <td>788.928000</td>\n      <td>1189.860000</td>\n      <td>...</td>\n      <td>1146.588000</td>\n      <td>1729.276667</td>\n      <td>0.000000</td>\n      <td>1336.275909</td>\n      <td>257.410000</td>\n      <td>0.000000</td>\n      <td>280.962000</td>\n      <td>423.741667</td>\n      <td>0.000000</td>\n      <td>327.444545</td>\n      <td>269.755000</td>\n      <td>0.000000</td>\n      <td>294.446000</td>\n      <td>444.078333</td>\n      <td>0.000000</td>\n      <td>343.155455</td>\n      <td>292.150000</td>\n      <td>0.000000</td>\n      <td>318.888000</td>\n      <td>480.945000</td>\n      <td>0.000000</td>\n      <td>371.642727</td>\n      <td>328.960000</td>\n      <td>0.000000</td>\n      <td>359.064000</td>\n      <td>541.540000</td>\n      <td>0.000000</td>\n      <td>418.466364</td>\n      <td>459.720000</td>\n      <td>0.000000</td>\n      <td>501.792000</td>\n      <td>756.796667</td>\n      <td>0.000000</td>\n      <td>584.805909</td>\n      <td>698.580000</td>\n      <td>0.000000</td>\n      <td>762.520000</td>\n      <td>1150.028333</td>\n      <td>0.000000</td>\n      <td>888.667727</td>\n    </tr>\n    <tr>\n      <th>AZ</th>\n      <td>564.208500</td>\n      <td>516.877368</td>\n      <td>583.505743</td>\n      <td>935.936923</td>\n      <td>0.000000</td>\n      <td>700.144764</td>\n      <td>607.361500</td>\n      <td>556.411053</td>\n      <td>628.135050</td>\n      <td>1007.522821</td>\n      <td>0.000000</td>\n      <td>753.696754</td>\n      <td>653.075000</td>\n      <td>598.285263</td>\n      <td>675.410594</td>\n      <td>1083.351795</td>\n      <td>0.000000</td>\n      <td>810.422304</td>\n      <td>815.462500</td>\n      <td>747.051053</td>\n      <td>843.352079</td>\n      <td>1352.731026</td>\n      <td>0.000000</td>\n      <td>1011.936440</td>\n      <td>808.752500</td>\n      <td>740.905789</td>\n      <td>836.412970</td>\n      <td>1341.597692</td>\n      <td>0.000000</td>\n      <td>1003.606806</td>\n      <td>851.905500</td>\n      <td>780.439474</td>\n      <td>881.042277</td>\n      <td>1413.183590</td>\n      <td>0.000000</td>\n      <td>1057.158796</td>\n      <td>897.619000</td>\n      <td>822.313684</td>\n      <td>928.317822</td>\n      <td>1489.012564</td>\n      <td>...</td>\n      <td>1349.166535</td>\n      <td>2164.052564</td>\n      <td>0.000000</td>\n      <td>1618.860524</td>\n      <td>319.664500</td>\n      <td>292.848947</td>\n      <td>330.598515</td>\n      <td>530.276154</td>\n      <td>0.000000</td>\n      <td>396.682723</td>\n      <td>335.009000</td>\n      <td>306.904737</td>\n      <td>346.466238</td>\n      <td>555.729231</td>\n      <td>0.000000</td>\n      <td>415.723089</td>\n      <td>362.817500</td>\n      <td>332.382632</td>\n      <td>375.227822</td>\n      <td>601.862051</td>\n      <td>0.000000</td>\n      <td>450.234712</td>\n      <td>408.531000</td>\n      <td>374.256842</td>\n      <td>422.503366</td>\n      <td>677.691026</td>\n      <td>0.000000</td>\n      <td>506.960262</td>\n      <td>570.918500</td>\n      <td>523.022632</td>\n      <td>590.444851</td>\n      <td>947.070256</td>\n      <td>0.000000</td>\n      <td>708.474398</td>\n      <td>867.567500</td>\n      <td>794.781579</td>\n      <td>897.237624</td>\n      <td>1439.162308</td>\n      <td>0.000000</td>\n      <td>1076.594398</td>\n    </tr>\n    <tr>\n      <th>DE</th>\n      <td>0.000000</td>\n      <td>418.080000</td>\n      <td>570.856667</td>\n      <td>741.046667</td>\n      <td>942.565000</td>\n      <td>753.240000</td>\n      <td>0.000000</td>\n      <td>450.060000</td>\n      <td>614.520000</td>\n      <td>797.726667</td>\n      <td>1014.660000</td>\n      <td>810.850000</td>\n      <td>0.000000</td>\n      <td>483.930000</td>\n      <td>660.773333</td>\n      <td>857.770000</td>\n      <td>1091.025000</td>\n      <td>871.880000</td>\n      <td>0.000000</td>\n      <td>604.260000</td>\n      <td>825.073333</td>\n      <td>1071.056667</td>\n      <td>1362.315000</td>\n      <td>1088.673333</td>\n      <td>0.000000</td>\n      <td>599.290000</td>\n      <td>818.283333</td>\n      <td>1062.236667</td>\n      <td>1351.100000</td>\n      <td>1079.716667</td>\n      <td>0.000000</td>\n      <td>631.270000</td>\n      <td>861.946667</td>\n      <td>1118.916667</td>\n      <td>1423.195000</td>\n      <td>1137.326667</td>\n      <td>0.000000</td>\n      <td>665.140000</td>\n      <td>908.200000</td>\n      <td>1178.960000</td>\n      <td>...</td>\n      <td>1319.926667</td>\n      <td>1713.436667</td>\n      <td>2179.385000</td>\n      <td>1741.626667</td>\n      <td>0.000000</td>\n      <td>236.870000</td>\n      <td>323.430000</td>\n      <td>419.856667</td>\n      <td>534.030000</td>\n      <td>426.763333</td>\n      <td>0.000000</td>\n      <td>248.240000</td>\n      <td>338.956667</td>\n      <td>440.006667</td>\n      <td>559.665000</td>\n      <td>447.246667</td>\n      <td>0.000000</td>\n      <td>268.850000</td>\n      <td>367.093333</td>\n      <td>476.536667</td>\n      <td>606.125000</td>\n      <td>484.373333</td>\n      <td>0.000000</td>\n      <td>302.720000</td>\n      <td>413.346667</td>\n      <td>536.580000</td>\n      <td>682.490000</td>\n      <td>545.403333</td>\n      <td>0.000000</td>\n      <td>423.050000</td>\n      <td>577.646667</td>\n      <td>749.866667</td>\n      <td>953.780000</td>\n      <td>762.196667</td>\n      <td>0.000000</td>\n      <td>642.870000</td>\n      <td>877.790000</td>\n      <td>1139.486667</td>\n      <td>1449.355000</td>\n      <td>1158.236667</td>\n    </tr>\n    <tr>\n      <th>FL</th>\n      <td>571.410937</td>\n      <td>418.529459</td>\n      <td>598.223509</td>\n      <td>854.023005</td>\n      <td>1142.696900</td>\n      <td>788.082926</td>\n      <td>615.112063</td>\n      <td>450.538919</td>\n      <td>643.976850</td>\n      <td>919.342391</td>\n      <td>1230.098511</td>\n      <td>848.355478</td>\n      <td>661.407594</td>\n      <td>484.446892</td>\n      <td>692.444476</td>\n      <td>988.534588</td>\n      <td>1322.679240</td>\n      <td>912.205259</td>\n      <td>825.869094</td>\n      <td>604.906216</td>\n      <td>864.623538</td>\n      <td>1234.337706</td>\n      <td>1651.568632</td>\n      <td>1139.028635</td>\n      <td>819.074844</td>\n      <td>599.930676</td>\n      <td>857.508916</td>\n      <td>1224.179338</td>\n      <td>1637.973617</td>\n      <td>1129.657567</td>\n      <td>862.775969</td>\n      <td>631.940135</td>\n      <td>903.262256</td>\n      <td>1289.498724</td>\n      <td>1725.375228</td>\n      <td>1189.930118</td>\n      <td>909.071500</td>\n      <td>665.848108</td>\n      <td>951.729883</td>\n      <td>1358.690921</td>\n      <td>...</td>\n      <td>1383.194352</td>\n      <td>1974.650372</td>\n      <td>2642.122067</td>\n      <td>1822.177915</td>\n      <td>323.747031</td>\n      <td>237.128243</td>\n      <td>338.938103</td>\n      <td>483.866672</td>\n      <td>647.420182</td>\n      <td>446.508286</td>\n      <td>339.282969</td>\n      <td>248.506486</td>\n      <td>355.204007</td>\n      <td>507.089758</td>\n      <td>678.496383</td>\n      <td>467.935116</td>\n      <td>367.448156</td>\n      <td>269.137703</td>\n      <td>384.691443</td>\n      <td>549.186058</td>\n      <td>734.821793</td>\n      <td>506.780837</td>\n      <td>413.743688</td>\n      <td>303.045676</td>\n      <td>433.159070</td>\n      <td>618.378255</td>\n      <td>827.402523</td>\n      <td>570.630619</td>\n      <td>578.205187</td>\n      <td>423.505000</td>\n      <td>605.338132</td>\n      <td>864.181373</td>\n      <td>1156.291915</td>\n      <td>797.453995</td>\n      <td>878.639000</td>\n      <td>643.557162</td>\n      <td>919.869758</td>\n      <td>1313.207157</td>\n      <td>1757.097416</td>\n      <td>1211.808788</td>\n    </tr>\n    <tr>\n      <th>GA</th>\n      <td>552.702822</td>\n      <td>478.458060</td>\n      <td>598.109371</td>\n      <td>731.588156</td>\n      <td>912.108776</td>\n      <td>727.792025</td>\n      <td>594.969480</td>\n      <td>515.053433</td>\n      <td>643.851726</td>\n      <td>787.538055</td>\n      <td>981.862449</td>\n      <td>783.452792</td>\n      <td>639.747995</td>\n      <td>553.817090</td>\n      <td>692.310017</td>\n      <td>846.810692</td>\n      <td>1055.759388</td>\n      <td>842.417701</td>\n      <td>798.824950</td>\n      <td>691.527537</td>\n      <td>864.456012</td>\n      <td>1057.373473</td>\n      <td>1318.280102</td>\n      <td>1051.888321</td>\n      <td>792.256312</td>\n      <td>685.835970</td>\n      <td>857.344456</td>\n      <td>1048.676009</td>\n      <td>1307.438163</td>\n      <td>1043.234695</td>\n      <td>834.522970</td>\n      <td>722.431343</td>\n      <td>903.086811</td>\n      <td>1104.625908</td>\n      <td>1377.191837</td>\n      <td>1098.895461</td>\n      <td>879.301485</td>\n      <td>761.195000</td>\n      <td>951.545102</td>\n      <td>1163.898545</td>\n      <td>...</td>\n      <td>1382.926182</td>\n      <td>1691.549179</td>\n      <td>2108.938878</td>\n      <td>1682.773660</td>\n      <td>313.149332</td>\n      <td>271.080149</td>\n      <td>338.874286</td>\n      <td>414.500303</td>\n      <td>516.779388</td>\n      <td>412.349356</td>\n      <td>328.174059</td>\n      <td>284.092985</td>\n      <td>355.135026</td>\n      <td>434.389424</td>\n      <td>541.576122</td>\n      <td>432.135944</td>\n      <td>355.415990</td>\n      <td>307.675522</td>\n      <td>384.616641</td>\n      <td>470.450202</td>\n      <td>586.533061</td>\n      <td>468.010122</td>\n      <td>400.194505</td>\n      <td>346.439179</td>\n      <td>433.074932</td>\n      <td>529.722839</td>\n      <td>660.430000</td>\n      <td>526.975032</td>\n      <td>559.271460</td>\n      <td>484.149627</td>\n      <td>605.220927</td>\n      <td>740.285620</td>\n      <td>922.950714</td>\n      <td>736.445652</td>\n      <td>849.867995</td>\n      <td>735.710000</td>\n      <td>919.691131</td>\n      <td>1124.936326</td>\n      <td>1402.514184</td>\n      <td>1119.100322</td>\n    </tr>\n    <tr>\n      <th>HI</th>\n      <td>433.630000</td>\n      <td>271.630000</td>\n      <td>491.816000</td>\n      <td>657.556667</td>\n      <td>767.150000</td>\n      <td>665.413333</td>\n      <td>466.800000</td>\n      <td>292.410000</td>\n      <td>529.434000</td>\n      <td>707.851667</td>\n      <td>825.827500</td>\n      <td>716.308333</td>\n      <td>501.930000</td>\n      <td>314.410000</td>\n      <td>569.282000</td>\n      <td>761.126667</td>\n      <td>887.980000</td>\n      <td>770.220000</td>\n      <td>626.730000</td>\n      <td>392.600000</td>\n      <td>710.834000</td>\n      <td>950.385000</td>\n      <td>1108.780000</td>\n      <td>961.740000</td>\n      <td>621.580000</td>\n      <td>389.360000</td>\n      <td>704.982000</td>\n      <td>942.558333</td>\n      <td>1099.655000</td>\n      <td>953.821667</td>\n      <td>654.750000</td>\n      <td>410.140000</td>\n      <td>742.600000</td>\n      <td>992.853333</td>\n      <td>1158.332500</td>\n      <td>1004.716667</td>\n      <td>689.880000</td>\n      <td>432.140000</td>\n      <td>782.448000</td>\n      <td>1046.128333</td>\n      <td>...</td>\n      <td>1137.166000</td>\n      <td>1520.388333</td>\n      <td>1773.790000</td>\n      <td>1538.556667</td>\n      <td>245.680000</td>\n      <td>153.900000</td>\n      <td>278.650000</td>\n      <td>372.555000</td>\n      <td>434.645000</td>\n      <td>377.005000</td>\n      <td>257.470000</td>\n      <td>161.290000</td>\n      <td>292.024000</td>\n      <td>390.438333</td>\n      <td>455.507500</td>\n      <td>395.100000</td>\n      <td>278.850000</td>\n      <td>174.680000</td>\n      <td>316.268000</td>\n      <td>422.850000</td>\n      <td>493.322500</td>\n      <td>427.900000</td>\n      <td>313.980000</td>\n      <td>196.680000</td>\n      <td>356.116000</td>\n      <td>476.125000</td>\n      <td>555.475000</td>\n      <td>481.811667</td>\n      <td>438.780000</td>\n      <td>274.870000</td>\n      <td>497.668000</td>\n      <td>665.383333</td>\n      <td>776.275000</td>\n      <td>673.331667</td>\n      <td>666.780000</td>\n      <td>417.680000</td>\n      <td>756.256000</td>\n      <td>1011.115000</td>\n      <td>1179.627500</td>\n      <td>1023.190000</td>\n    </tr>\n    <tr>\n      <th>IA</th>\n      <td>0.000000</td>\n      <td>429.386516</td>\n      <td>562.973468</td>\n      <td>700.973953</td>\n      <td>0.000000</td>\n      <td>752.593169</td>\n      <td>0.000000</td>\n      <td>462.218194</td>\n      <td>606.025845</td>\n      <td>754.584738</td>\n      <td>0.000000</td>\n      <td>810.148449</td>\n      <td>0.000000</td>\n      <td>497.006516</td>\n      <td>651.637568</td>\n      <td>811.376221</td>\n      <td>0.000000</td>\n      <td>871.124247</td>\n      <td>0.000000</td>\n      <td>620.588129</td>\n      <td>813.668920</td>\n      <td>1013.129913</td>\n      <td>0.000000</td>\n      <td>1087.730674</td>\n      <td>0.000000</td>\n      <td>615.489355</td>\n      <td>806.979411</td>\n      <td>1004.794041</td>\n      <td>0.000000</td>\n      <td>1078.785281</td>\n      <td>0.000000</td>\n      <td>648.321032</td>\n      <td>850.031788</td>\n      <td>1058.404826</td>\n      <td>0.000000</td>\n      <td>1136.340562</td>\n      <td>0.000000</td>\n      <td>683.109355</td>\n      <td>895.643511</td>\n      <td>1115.196308</td>\n      <td>...</td>\n      <td>1301.680807</td>\n      <td>1620.770087</td>\n      <td>0.000000</td>\n      <td>1740.114899</td>\n      <td>0.000000</td>\n      <td>243.283677</td>\n      <td>318.967525</td>\n      <td>397.153866</td>\n      <td>0.000000</td>\n      <td>426.401056</td>\n      <td>0.000000</td>\n      <td>254.949742</td>\n      <td>334.270294</td>\n      <td>416.211628</td>\n      <td>0.000000</td>\n      <td>446.859955</td>\n      <td>0.000000</td>\n      <td>276.115355</td>\n      <td>362.019902</td>\n      <td>450.764651</td>\n      <td>0.000000</td>\n      <td>483.956337</td>\n      <td>0.000000</td>\n      <td>310.903677</td>\n      <td>407.631625</td>\n      <td>507.556134</td>\n      <td>0.000000</td>\n      <td>544.932135</td>\n      <td>0.000000</td>\n      <td>434.485290</td>\n      <td>569.662977</td>\n      <td>709.309826</td>\n      <td>0.000000</td>\n      <td>761.538562</td>\n      <td>0.000000</td>\n      <td>660.241484</td>\n      <td>865.657961</td>\n      <td>1077.863256</td>\n      <td>0.000000</td>\n      <td>1157.231820</td>\n    </tr>\n    <tr>\n      <th>IL</th>\n      <td>491.907667</td>\n      <td>557.975404</td>\n      <td>637.921646</td>\n      <td>846.363123</td>\n      <td>0.000000</td>\n      <td>759.749094</td>\n      <td>529.530333</td>\n      <td>600.652576</td>\n      <td>686.713015</td>\n      <td>911.096667</td>\n      <td>0.000000</td>\n      <td>817.857270</td>\n      <td>569.386333</td>\n      <td>645.861970</td>\n      <td>738.397446</td>\n      <td>979.669790</td>\n      <td>0.000000</td>\n      <td>879.411873</td>\n      <td>710.966000</td>\n      <td>806.455505</td>\n      <td>922.003754</td>\n      <td>1223.268530</td>\n      <td>0.000000</td>\n      <td>1098.081501</td>\n      <td>705.113667</td>\n      <td>799.815909</td>\n      <td>914.415123</td>\n      <td>1213.199764</td>\n      <td>0.000000</td>\n      <td>1089.044132</td>\n      <td>742.736333</td>\n      <td>842.493081</td>\n      <td>963.206492</td>\n      <td>1277.933307</td>\n      <td>0.000000</td>\n      <td>1147.152308</td>\n      <td>782.592333</td>\n      <td>887.702475</td>\n      <td>1014.890923</td>\n      <td>1346.506430</td>\n      <td>...</td>\n      <td>1474.990708</td>\n      <td>1956.941811</td>\n      <td>0.000000</td>\n      <td>1756.671576</td>\n      <td>278.701667</td>\n      <td>316.134899</td>\n      <td>361.428169</td>\n      <td>479.526483</td>\n      <td>0.000000</td>\n      <td>430.454057</td>\n      <td>292.080000</td>\n      <td>331.309394</td>\n      <td>378.775462</td>\n      <td>502.544252</td>\n      <td>0.000000</td>\n      <td>451.113648</td>\n      <td>316.324333</td>\n      <td>358.812071</td>\n      <td>410.219538</td>\n      <td>544.260026</td>\n      <td>0.000000</td>\n      <td>488.562233</td>\n      <td>356.180333</td>\n      <td>404.021465</td>\n      <td>461.903969</td>\n      <td>612.833150</td>\n      <td>0.000000</td>\n      <td>550.116836</td>\n      <td>497.760000</td>\n      <td>564.615000</td>\n      <td>645.510277</td>\n      <td>856.431890</td>\n      <td>0.000000</td>\n      <td>768.786464</td>\n      <td>756.393000</td>\n      <td>857.987273</td>\n      <td>980.913631</td>\n      <td>1301.429816</td>\n      <td>0.000000</td>\n      <td>1168.244752</td>\n    </tr>\n    <tr>\n      <th>IN</th>\n      <td>540.354492</td>\n      <td>0.000000</td>\n      <td>514.094622</td>\n      <td>834.823189</td>\n      <td>0.000000</td>\n      <td>621.317005</td>\n      <td>581.673957</td>\n      <td>0.000000</td>\n      <td>553.410583</td>\n      <td>898.668126</td>\n      <td>0.000000</td>\n      <td>668.830651</td>\n      <td>625.451283</td>\n      <td>0.000000</td>\n      <td>595.061663</td>\n      <td>966.304685</td>\n      <td>0.000000</td>\n      <td>719.169191</td>\n      <td>780.972086</td>\n      <td>0.000000</td>\n      <td>743.025810</td>\n      <td>1206.579532</td>\n      <td>0.000000</td>\n      <td>897.993774</td>\n      <td>774.554545</td>\n      <td>0.000000</td>\n      <td>736.914989</td>\n      <td>1196.655027</td>\n      <td>0.000000</td>\n      <td>890.609314</td>\n      <td>815.874011</td>\n      <td>0.000000</td>\n      <td>776.230950</td>\n      <td>1260.499964</td>\n      <td>0.000000</td>\n      <td>938.122960</td>\n      <td>859.651337</td>\n      <td>0.000000</td>\n      <td>817.882030</td>\n      <td>1328.136523</td>\n      <td>...</td>\n      <td>1188.666544</td>\n      <td>1930.243207</td>\n      <td>0.000000</td>\n      <td>1436.578392</td>\n      <td>306.154439</td>\n      <td>0.000000</td>\n      <td>291.274255</td>\n      <td>472.991351</td>\n      <td>0.000000</td>\n      <td>352.024697</td>\n      <td>320.838877</td>\n      <td>0.000000</td>\n      <td>305.249287</td>\n      <td>495.685802</td>\n      <td>0.000000</td>\n      <td>368.913157</td>\n      <td>347.473904</td>\n      <td>0.000000</td>\n      <td>330.590216</td>\n      <td>536.836288</td>\n      <td>0.000000</td>\n      <td>399.538342</td>\n      <td>391.251230</td>\n      <td>0.000000</td>\n      <td>372.241296</td>\n      <td>604.472847</td>\n      <td>0.000000</td>\n      <td>449.876882</td>\n      <td>546.772032</td>\n      <td>0.000000</td>\n      <td>520.205443</td>\n      <td>844.747694</td>\n      <td>0.000000</td>\n      <td>628.701465</td>\n      <td>830.874759</td>\n      <td>0.000000</td>\n      <td>790.502765</td>\n      <td>1283.676126</td>\n      <td>0.000000</td>\n      <td>955.372856</td>\n    </tr>\n    <tr>\n      <th>KS</th>\n      <td>602.862233</td>\n      <td>502.970536</td>\n      <td>641.032582</td>\n      <td>790.082310</td>\n      <td>0.000000</td>\n      <td>743.769031</td>\n      <td>648.964000</td>\n      <td>541.426875</td>\n      <td>690.056025</td>\n      <td>850.505069</td>\n      <td>0.000000</td>\n      <td>800.650520</td>\n      <td>697.806300</td>\n      <td>582.178750</td>\n      <td>741.991598</td>\n      <td>914.516897</td>\n      <td>0.000000</td>\n      <td>860.909733</td>\n      <td>871.318900</td>\n      <td>726.941964</td>\n      <td>926.491025</td>\n      <td>1141.915310</td>\n      <td>0.000000</td>\n      <td>1074.978188</td>\n      <td>864.154600</td>\n      <td>720.966161</td>\n      <td>918.870847</td>\n      <td>1132.523086</td>\n      <td>0.000000</td>\n      <td>1066.135878</td>\n      <td>910.256367</td>\n      <td>759.422500</td>\n      <td>967.894290</td>\n      <td>1192.945845</td>\n      <td>0.000000</td>\n      <td>1123.017367</td>\n      <td>959.098667</td>\n      <td>800.174375</td>\n      <td>1019.829863</td>\n      <td>1256.957672</td>\n      <td>...</td>\n      <td>1482.167555</td>\n      <td>1826.796862</td>\n      <td>0.000000</td>\n      <td>1719.711882</td>\n      <td>341.569867</td>\n      <td>284.974911</td>\n      <td>363.194317</td>\n      <td>447.641534</td>\n      <td>0.000000</td>\n      <td>421.402184</td>\n      <td>357.954733</td>\n      <td>298.641518</td>\n      <td>380.620710</td>\n      <td>469.120207</td>\n      <td>0.000000</td>\n      <td>441.621931</td>\n      <td>387.671633</td>\n      <td>323.431250</td>\n      <td>412.217760</td>\n      <td>508.064293</td>\n      <td>0.000000</td>\n      <td>478.283673</td>\n      <td>436.513933</td>\n      <td>364.183125</td>\n      <td>464.153333</td>\n      <td>572.076121</td>\n      <td>0.000000</td>\n      <td>538.542886</td>\n      <td>610.026533</td>\n      <td>508.946339</td>\n      <td>648.652760</td>\n      <td>799.474534</td>\n      <td>0.000000</td>\n      <td>752.611341</td>\n      <td>926.994633</td>\n      <td>773.390000</td>\n      <td>985.690929</td>\n      <td>1214.879069</td>\n      <td>0.000000</td>\n      <td>1143.667093</td>\n    </tr>\n    <tr>\n      <th>KY</th>\n      <td>0.000000</td>\n      <td>419.855598</td>\n      <td>534.659895</td>\n      <td>845.464401</td>\n      <td>0.000000</td>\n      <td>710.366073</td>\n      <td>0.000000</td>\n      <td>451.966282</td>\n      <td>575.552979</td>\n      <td>910.128511</td>\n      <td>0.000000</td>\n      <td>764.697198</td>\n      <td>0.000000</td>\n      <td>485.984829</td>\n      <td>618.870697</td>\n      <td>978.628058</td>\n      <td>0.000000</td>\n      <td>822.251250</td>\n      <td>0.000000</td>\n      <td>606.826325</td>\n      <td>772.755836</td>\n      <td>1221.967184</td>\n      <td>0.000000</td>\n      <td>1026.707448</td>\n      <td>0.000000</td>\n      <td>601.832179</td>\n      <td>766.396080</td>\n      <td>1211.910777</td>\n      <td>0.000000</td>\n      <td>1018.256927</td>\n      <td>0.000000</td>\n      <td>633.942863</td>\n      <td>807.289164</td>\n      <td>1276.574887</td>\n      <td>0.000000</td>\n      <td>1072.588052</td>\n      <td>0.000000</td>\n      <td>667.961410</td>\n      <td>850.606882</td>\n      <td>1345.074434</td>\n      <td>...</td>\n      <td>1236.228206</td>\n      <td>1954.859935</td>\n      <td>0.000000</td>\n      <td>1642.489156</td>\n      <td>0.000000</td>\n      <td>237.879017</td>\n      <td>302.923711</td>\n      <td>479.018026</td>\n      <td>0.000000</td>\n      <td>402.475219</td>\n      <td>0.000000</td>\n      <td>249.295342</td>\n      <td>317.463502</td>\n      <td>502.007508</td>\n      <td>0.000000</td>\n      <td>421.792219</td>\n      <td>0.000000</td>\n      <td>269.989701</td>\n      <td>343.816794</td>\n      <td>543.682136</td>\n      <td>0.000000</td>\n      <td>456.806344</td>\n      <td>0.000000</td>\n      <td>304.008248</td>\n      <td>387.134512</td>\n      <td>612.181683</td>\n      <td>0.000000</td>\n      <td>514.360396</td>\n      <td>0.000000</td>\n      <td>424.849744</td>\n      <td>541.019652</td>\n      <td>855.520809</td>\n      <td>0.000000</td>\n      <td>718.816594</td>\n      <td>0.000000</td>\n      <td>645.599316</td>\n      <td>822.132352</td>\n      <td>1300.047573</td>\n      <td>0.000000</td>\n      <td>1092.311240</td>\n    </tr>\n    <tr>\n      <th>LA</th>\n      <td>705.657734</td>\n      <td>0.000000</td>\n      <td>677.425861</td>\n      <td>1040.960264</td>\n      <td>0.000000</td>\n      <td>977.738283</td>\n      <td>759.632500</td>\n      <td>0.000000</td>\n      <td>729.240583</td>\n      <td>1120.581498</td>\n      <td>0.000000</td>\n      <td>1052.522826</td>\n      <td>816.803984</td>\n      <td>0.000000</td>\n      <td>784.125028</td>\n      <td>1204.920617</td>\n      <td>0.000000</td>\n      <td>1131.738413</td>\n      <td>1019.905625</td>\n      <td>0.000000</td>\n      <td>979.100194</td>\n      <td>1504.527445</td>\n      <td>0.000000</td>\n      <td>1413.150717</td>\n      <td>1011.509609</td>\n      <td>0.000000</td>\n      <td>971.040667</td>\n      <td>1492.141674</td>\n      <td>0.000000</td>\n      <td>1401.516957</td>\n      <td>1065.484375</td>\n      <td>0.000000</td>\n      <td>1022.855389</td>\n      <td>1571.762907</td>\n      <td>0.000000</td>\n      <td>1476.301500</td>\n      <td>1122.655859</td>\n      <td>0.000000</td>\n      <td>1077.739833</td>\n      <td>1656.102026</td>\n      <td>...</td>\n      <td>1566.329806</td>\n      <td>2406.890264</td>\n      <td>0.000000</td>\n      <td>2260.708065</td>\n      <td>399.805859</td>\n      <td>0.000000</td>\n      <td>383.811056</td>\n      <td>589.778855</td>\n      <td>0.000000</td>\n      <td>553.959609</td>\n      <td>418.997578</td>\n      <td>0.000000</td>\n      <td>402.233111</td>\n      <td>618.088855</td>\n      <td>0.000000</td>\n      <td>580.549804</td>\n      <td>453.780625</td>\n      <td>0.000000</td>\n      <td>435.625778</td>\n      <td>669.400088</td>\n      <td>0.000000</td>\n      <td>628.744152</td>\n      <td>510.952109</td>\n      <td>0.000000</td>\n      <td>490.510222</td>\n      <td>753.739207</td>\n      <td>0.000000</td>\n      <td>707.959739</td>\n      <td>714.053750</td>\n      <td>0.000000</td>\n      <td>685.485389</td>\n      <td>1053.346035</td>\n      <td>0.000000</td>\n      <td>989.372043</td>\n      <td>1085.073125</td>\n      <td>0.000000</td>\n      <td>1041.661000</td>\n      <td>1600.662379</td>\n      <td>0.000000</td>\n      <td>1503.446826</td>\n    </tr>\n    <tr>\n      <th>ME</th>\n      <td>0.000000</td>\n      <td>344.406042</td>\n      <td>533.406827</td>\n      <td>729.356207</td>\n      <td>0.000000</td>\n      <td>672.300676</td>\n      <td>0.000000</td>\n      <td>370.747500</td>\n      <td>574.206298</td>\n      <td>785.142931</td>\n      <td>0.000000</td>\n      <td>723.721892</td>\n      <td>0.000000</td>\n      <td>398.652917</td>\n      <td>617.423413</td>\n      <td>844.235345</td>\n      <td>0.000000</td>\n      <td>778.192568</td>\n      <td>0.000000</td>\n      <td>497.778542</td>\n      <td>770.948173</td>\n      <td>1054.157759</td>\n      <td>0.000000</td>\n      <td>971.693468</td>\n      <td>0.000000</td>\n      <td>493.681458</td>\n      <td>764.600529</td>\n      <td>1045.479310</td>\n      <td>0.000000</td>\n      <td>963.693964</td>\n      <td>0.000000</td>\n      <td>520.022917</td>\n      <td>805.400000</td>\n      <td>1101.266034</td>\n      <td>0.000000</td>\n      <td>1015.115180</td>\n      <td>0.000000</td>\n      <td>547.928333</td>\n      <td>848.617115</td>\n      <td>1160.358448</td>\n      <td>...</td>\n      <td>1233.335577</td>\n      <td>1686.403966</td>\n      <td>0.000000</td>\n      <td>1554.480045</td>\n      <td>0.000000</td>\n      <td>195.130625</td>\n      <td>302.213125</td>\n      <td>413.233103</td>\n      <td>0.000000</td>\n      <td>380.907387</td>\n      <td>0.000000</td>\n      <td>204.496458</td>\n      <td>316.719519</td>\n      <td>433.067759</td>\n      <td>0.000000</td>\n      <td>399.191171</td>\n      <td>0.000000</td>\n      <td>221.472083</td>\n      <td>343.012596</td>\n      <td>469.019828</td>\n      <td>0.000000</td>\n      <td>432.328604</td>\n      <td>0.000000</td>\n      <td>249.377500</td>\n      <td>386.229712</td>\n      <td>528.112241</td>\n      <td>0.000000</td>\n      <td>486.799279</td>\n      <td>0.000000</td>\n      <td>348.503125</td>\n      <td>539.754471</td>\n      <td>738.034655</td>\n      <td>0.000000</td>\n      <td>680.300180</td>\n      <td>0.000000</td>\n      <td>529.584375</td>\n      <td>820.208125</td>\n      <td>1121.515000</td>\n      <td>0.000000</td>\n      <td>1033.781757</td>\n    </tr>\n    <tr>\n      <th>MI</th>\n      <td>451.048298</td>\n      <td>391.014754</td>\n      <td>455.404282</td>\n      <td>702.939911</td>\n      <td>837.772857</td>\n      <td>606.658078</td>\n      <td>485.544553</td>\n      <td>420.922787</td>\n      <td>490.236083</td>\n      <td>756.703614</td>\n      <td>901.850000</td>\n      <td>653.057201</td>\n      <td>522.088128</td>\n      <td>452.603661</td>\n      <td>527.133136</td>\n      <td>813.655721</td>\n      <td>969.725714</td>\n      <td>702.208309</td>\n      <td>651.906638</td>\n      <td>565.144973</td>\n      <td>658.206637</td>\n      <td>1015.973415</td>\n      <td>1210.855714</td>\n      <td>876.815694</td>\n      <td>646.544170</td>\n      <td>560.491311</td>\n      <td>652.788489</td>\n      <td>1007.612816</td>\n      <td>1200.885714</td>\n      <td>869.599426</td>\n      <td>681.040426</td>\n      <td>590.399344</td>\n      <td>687.620290</td>\n      <td>1061.376519</td>\n      <td>1264.962857</td>\n      <td>915.998549</td>\n      <td>717.584000</td>\n      <td>622.080219</td>\n      <td>724.517343</td>\n      <td>1118.328625</td>\n      <td>...</td>\n      <td>1052.975050</td>\n      <td>1625.319224</td>\n      <td>1937.081429</td>\n      <td>1402.698389</td>\n      <td>255.552426</td>\n      <td>221.538197</td>\n      <td>258.020076</td>\n      <td>398.267007</td>\n      <td>474.660000</td>\n      <td>343.716730</td>\n      <td>267.816128</td>\n      <td>232.171694</td>\n      <td>270.404295</td>\n      <td>417.381330</td>\n      <td>497.445714</td>\n      <td>360.213174</td>\n      <td>290.048681</td>\n      <td>251.446230</td>\n      <td>292.851877</td>\n      <td>452.030710</td>\n      <td>538.737143</td>\n      <td>390.115853</td>\n      <td>326.592255</td>\n      <td>283.127104</td>\n      <td>329.748929</td>\n      <td>508.982816</td>\n      <td>606.612857</td>\n      <td>439.266962</td>\n      <td>456.410766</td>\n      <td>395.668415</td>\n      <td>460.822431</td>\n      <td>711.300510</td>\n      <td>847.742857</td>\n      <td>613.874346</td>\n      <td>693.560809</td>\n      <td>601.256503</td>\n      <td>700.264383</td>\n      <td>1080.890776</td>\n      <td>1288.230000</td>\n      <td>932.841220</td>\n    </tr>\n    <tr>\n      <th>MO</th>\n      <td>587.255984</td>\n      <td>448.896617</td>\n      <td>655.876387</td>\n      <td>951.174336</td>\n      <td>0.000000</td>\n      <td>819.009005</td>\n      <td>632.163373</td>\n      <td>483.228045</td>\n      <td>706.032274</td>\n      <td>1023.917512</td>\n      <td>0.000000</td>\n      <td>881.639303</td>\n      <td>679.741406</td>\n      <td>519.597895</td>\n      <td>759.171089</td>\n      <td>1100.988744</td>\n      <td>0.000000</td>\n      <td>947.995262</td>\n      <td>848.761365</td>\n      <td>648.798722</td>\n      <td>947.937852</td>\n      <td>1374.741896</td>\n      <td>0.000000</td>\n      <td>1183.718903</td>\n      <td>841.785462</td>\n      <td>643.459624</td>\n      <td>940.145944</td>\n      <td>1363.434573</td>\n      <td>0.000000</td>\n      <td>1173.983897</td>\n      <td>886.692851</td>\n      <td>677.791053</td>\n      <td>990.301830</td>\n      <td>1436.177749</td>\n      <td>0.000000</td>\n      <td>1236.614195</td>\n      <td>934.270884</td>\n      <td>714.160902</td>\n      <td>1043.440645</td>\n      <td>1513.248981</td>\n      <td>...</td>\n      <td>1516.476965</td>\n      <td>2199.262370</td>\n      <td>0.000000</td>\n      <td>1893.668689</td>\n      <td>332.726506</td>\n      <td>254.333609</td>\n      <td>371.606830</td>\n      <td>538.914100</td>\n      <td>0.000000</td>\n      <td>464.034112</td>\n      <td>348.686747</td>\n      <td>266.536767</td>\n      <td>389.435058</td>\n      <td>564.764076</td>\n      <td>0.000000</td>\n      <td>486.296114</td>\n      <td>377.633896</td>\n      <td>288.665038</td>\n      <td>421.762717</td>\n      <td>611.657275</td>\n      <td>0.000000</td>\n      <td>526.664410</td>\n      <td>425.211928</td>\n      <td>325.034887</td>\n      <td>474.901532</td>\n      <td>688.728507</td>\n      <td>0.000000</td>\n      <td>593.020369</td>\n      <td>594.231888</td>\n      <td>454.235714</td>\n      <td>663.668295</td>\n      <td>962.481659</td>\n      <td>0.000000</td>\n      <td>828.744011</td>\n      <td>902.994739</td>\n      <td>690.252556</td>\n      <td>1008.507225</td>\n      <td>1462.580355</td>\n      <td>0.000000</td>\n      <td>1259.358629</td>\n    </tr>\n    <tr>\n      <th>MS</th>\n      <td>529.371951</td>\n      <td>0.000000</td>\n      <td>565.423720</td>\n      <td>763.740518</td>\n      <td>0.000000</td>\n      <td>624.277249</td>\n      <td>573.081220</td>\n      <td>0.000000</td>\n      <td>612.103333</td>\n      <td>826.798506</td>\n      <td>0.000000</td>\n      <td>675.817412</td>\n      <td>619.381992</td>\n      <td>0.000000</td>\n      <td>661.557724</td>\n      <td>893.596707</td>\n      <td>0.000000</td>\n      <td>730.416057</td>\n      <td>783.855366</td>\n      <td>0.000000</td>\n      <td>837.233963</td>\n      <td>1130.889665</td>\n      <td>0.000000</td>\n      <td>924.380393</td>\n      <td>734.968537</td>\n      <td>0.000000</td>\n      <td>785.019919</td>\n      <td>1060.359726</td>\n      <td>0.000000</td>\n      <td>866.730705</td>\n      <td>778.677805</td>\n      <td>0.000000</td>\n      <td>831.699533</td>\n      <td>1123.417713</td>\n      <td>0.000000</td>\n      <td>918.270867</td>\n      <td>824.978577</td>\n      <td>0.000000</td>\n      <td>881.153923</td>\n      <td>1190.215915</td>\n      <td>...</td>\n      <td>1276.426362</td>\n      <td>1724.128079</td>\n      <td>0.000000</td>\n      <td>1409.287304</td>\n      <td>323.775366</td>\n      <td>0.000000</td>\n      <td>345.827520</td>\n      <td>467.121311</td>\n      <td>0.000000</td>\n      <td>381.823794</td>\n      <td>339.314024</td>\n      <td>0.000000</td>\n      <td>362.420610</td>\n      <td>489.537774</td>\n      <td>0.000000</td>\n      <td>400.144932</td>\n      <td>367.484634</td>\n      <td>0.000000</td>\n      <td>392.507134</td>\n      <td>530.179299</td>\n      <td>0.000000</td>\n      <td>433.363957</td>\n      <td>413.785407</td>\n      <td>0.000000</td>\n      <td>441.961524</td>\n      <td>596.977500</td>\n      <td>0.000000</td>\n      <td>487.962602</td>\n      <td>578.258780</td>\n      <td>0.000000</td>\n      <td>617.637764</td>\n      <td>834.270457</td>\n      <td>0.000000</td>\n      <td>681.926938</td>\n      <td>878.720122</td>\n      <td>0.000000</td>\n      <td>938.561118</td>\n      <td>1267.754573</td>\n      <td>0.000000</td>\n      <td>1036.252182</td>\n    </tr>\n    <tr>\n      <th>MT</th>\n      <td>568.216071</td>\n      <td>458.256429</td>\n      <td>533.247868</td>\n      <td>746.097879</td>\n      <td>0.000000</td>\n      <td>700.679348</td>\n      <td>611.679464</td>\n      <td>493.306071</td>\n      <td>574.098967</td>\n      <td>803.143160</td>\n      <td>0.000000</td>\n      <td>754.249223</td>\n      <td>657.716964</td>\n      <td>530.437232</td>\n      <td>617.282527</td>\n      <td>863.588831</td>\n      <td>0.000000</td>\n      <td>811.019223</td>\n      <td>821.259821</td>\n      <td>662.330982</td>\n      <td>770.787495</td>\n      <td>1078.331948</td>\n      <td>0.000000</td>\n      <td>1012.765464</td>\n      <td>814.496429</td>\n      <td>656.876339</td>\n      <td>764.408769</td>\n      <td>1069.482944</td>\n      <td>0.000000</td>\n      <td>1004.414536</td>\n      <td>857.959821</td>\n      <td>691.925982</td>\n      <td>805.259868</td>\n      <td>1126.528225</td>\n      <td>0.000000</td>\n      <td>1057.984411</td>\n      <td>903.997321</td>\n      <td>729.057143</td>\n      <td>848.443429</td>\n      <td>1186.973896</td>\n      <td>...</td>\n      <td>1233.109297</td>\n      <td>1725.102078</td>\n      <td>0.000000</td>\n      <td>1620.235840</td>\n      <td>321.935714</td>\n      <td>259.636518</td>\n      <td>302.086967</td>\n      <td>422.712814</td>\n      <td>0.000000</td>\n      <td>396.944160</td>\n      <td>337.386607</td>\n      <td>272.098214</td>\n      <td>316.634813</td>\n      <td>443.008528</td>\n      <td>0.000000</td>\n      <td>416.017168</td>\n      <td>365.399107</td>\n      <td>294.686161</td>\n      <td>342.938066</td>\n      <td>479.758095</td>\n      <td>0.000000</td>\n      <td>450.514035</td>\n      <td>411.436607</td>\n      <td>331.817321</td>\n      <td>386.121626</td>\n      <td>540.203766</td>\n      <td>0.000000</td>\n      <td>507.284035</td>\n      <td>574.979464</td>\n      <td>463.711071</td>\n      <td>539.626593</td>\n      <td>754.946883</td>\n      <td>0.000000</td>\n      <td>709.030276</td>\n      <td>873.731607</td>\n      <td>704.654286</td>\n      <td>820.004110</td>\n      <td>1147.280433</td>\n      <td>0.000000</td>\n      <td>1077.264261</td>\n    </tr>\n    <tr>\n      <th>NC</th>\n      <td>600.992811</td>\n      <td>392.482204</td>\n      <td>619.396815</td>\n      <td>916.159465</td>\n      <td>0.000000</td>\n      <td>812.641610</td>\n      <td>646.957972</td>\n      <td>422.501613</td>\n      <td>666.769463</td>\n      <td>986.231070</td>\n      <td>0.000000</td>\n      <td>874.795059</td>\n      <td>695.649858</td>\n      <td>454.301075</td>\n      <td>716.952249</td>\n      <td>1060.458197</td>\n      <td>0.000000</td>\n      <td>940.634680</td>\n      <td>868.626690</td>\n      <td>567.262796</td>\n      <td>895.224806</td>\n      <td>1324.144563</td>\n      <td>0.000000</td>\n      <td>1174.526838</td>\n      <td>861.479217</td>\n      <td>562.594677</td>\n      <td>887.859578</td>\n      <td>1313.247577</td>\n      <td>0.000000</td>\n      <td>1164.861518</td>\n      <td>907.444377</td>\n      <td>592.614086</td>\n      <td>935.232226</td>\n      <td>1383.319183</td>\n      <td>0.000000</td>\n      <td>1227.014966</td>\n      <td>956.136263</td>\n      <td>624.413548</td>\n      <td>985.415011</td>\n      <td>1457.546310</td>\n      <td>...</td>\n      <td>1432.150331</td>\n      <td>2118.320789</td>\n      <td>0.000000</td>\n      <td>1878.966653</td>\n      <td>340.506406</td>\n      <td>222.369731</td>\n      <td>350.934053</td>\n      <td>519.071352</td>\n      <td>0.000000</td>\n      <td>460.421703</td>\n      <td>356.848541</td>\n      <td>233.043495</td>\n      <td>367.775731</td>\n      <td>543.984141</td>\n      <td>0.000000</td>\n      <td>482.517976</td>\n      <td>386.471566</td>\n      <td>252.389140</td>\n      <td>398.306701</td>\n      <td>589.142958</td>\n      <td>0.000000</td>\n      <td>522.575152</td>\n      <td>435.163452</td>\n      <td>284.188602</td>\n      <td>448.489486</td>\n      <td>663.370085</td>\n      <td>0.000000</td>\n      <td>588.414772</td>\n      <td>608.140285</td>\n      <td>397.150323</td>\n      <td>626.762043</td>\n      <td>927.056451</td>\n      <td>0.000000</td>\n      <td>822.306931</td>\n      <td>924.127117</td>\n      <td>603.512634</td>\n      <td>952.426164</td>\n      <td>1408.754310</td>\n      <td>0.000000</td>\n      <td>1249.575556</td>\n    </tr>\n    <tr>\n      <th>ND</th>\n      <td>548.932364</td>\n      <td>313.252892</td>\n      <td>482.362157</td>\n      <td>668.297424</td>\n      <td>0.000000</td>\n      <td>726.610657</td>\n      <td>590.906182</td>\n      <td>337.209277</td>\n      <td>519.251910</td>\n      <td>719.412273</td>\n      <td>0.000000</td>\n      <td>782.185343</td>\n      <td>635.381818</td>\n      <td>362.587892</td>\n      <td>558.333191</td>\n      <td>773.556364</td>\n      <td>0.000000</td>\n      <td>841.055045</td>\n      <td>793.371091</td>\n      <td>452.746627</td>\n      <td>697.164584</td>\n      <td>965.903750</td>\n      <td>0.000000</td>\n      <td>1050.185164</td>\n      <td>786.852000</td>\n      <td>449.023855</td>\n      <td>691.428899</td>\n      <td>957.955568</td>\n      <td>0.000000</td>\n      <td>1041.544537</td>\n      <td>828.825818</td>\n      <td>472.980241</td>\n      <td>728.318652</td>\n      <td>1009.070417</td>\n      <td>0.000000</td>\n      <td>1097.119224</td>\n      <td>873.301455</td>\n      <td>498.358855</td>\n      <td>767.399933</td>\n      <td>1063.214508</td>\n      <td>...</td>\n      <td>1115.298067</td>\n      <td>1545.220038</td>\n      <td>0.000000</td>\n      <td>1680.052925</td>\n      <td>311.012727</td>\n      <td>177.481928</td>\n      <td>273.295416</td>\n      <td>378.639280</td>\n      <td>0.000000</td>\n      <td>411.676776</td>\n      <td>325.933818</td>\n      <td>185.993976</td>\n      <td>286.410045</td>\n      <td>396.812386</td>\n      <td>0.000000</td>\n      <td>431.437493</td>\n      <td>352.986545</td>\n      <td>201.438313</td>\n      <td>310.185169</td>\n      <td>429.754129</td>\n      <td>0.000000</td>\n      <td>467.251463</td>\n      <td>397.462182</td>\n      <td>226.816928</td>\n      <td>349.266449</td>\n      <td>483.898220</td>\n      <td>0.000000</td>\n      <td>526.121164</td>\n      <td>555.451455</td>\n      <td>316.975663</td>\n      <td>488.097843</td>\n      <td>676.245606</td>\n      <td>0.000000</td>\n      <td>735.251284</td>\n      <td>844.065455</td>\n      <td>481.678313</td>\n      <td>741.713416</td>\n      <td>1027.618523</td>\n      <td>0.000000</td>\n      <td>1117.287015</td>\n    </tr>\n    <tr>\n      <th>NE</th>\n      <td>0.000000</td>\n      <td>522.634404</td>\n      <td>745.166581</td>\n      <td>1068.166043</td>\n      <td>0.000000</td>\n      <td>1066.220781</td>\n      <td>0.000000</td>\n      <td>562.602890</td>\n      <td>802.157903</td>\n      <td>1149.861367</td>\n      <td>0.000000</td>\n      <td>1147.772031</td>\n      <td>0.000000</td>\n      <td>604.945963</td>\n      <td>862.530548</td>\n      <td>1236.403993</td>\n      <td>0.000000</td>\n      <td>1234.157383</td>\n      <td>0.000000</td>\n      <td>755.368440</td>\n      <td>1077.001787</td>\n      <td>1543.838561</td>\n      <td>0.000000</td>\n      <td>1541.034922</td>\n      <td>0.000000</td>\n      <td>749.155872</td>\n      <td>1068.140909</td>\n      <td>1531.137014</td>\n      <td>0.000000</td>\n      <td>1528.349551</td>\n      <td>0.000000</td>\n      <td>789.124358</td>\n      <td>1125.132231</td>\n      <td>1612.832338</td>\n      <td>0.000000</td>\n      <td>1609.900801</td>\n      <td>0.000000</td>\n      <td>831.467431</td>\n      <td>1185.504876</td>\n      <td>1699.374964</td>\n      <td>...</td>\n      <td>1722.950444</td>\n      <td>2469.780504</td>\n      <td>0.000000</td>\n      <td>2465.292461</td>\n      <td>0.000000</td>\n      <td>296.112936</td>\n      <td>422.192252</td>\n      <td>605.195072</td>\n      <td>0.000000</td>\n      <td>604.092012</td>\n      <td>0.000000</td>\n      <td>310.318486</td>\n      <td>442.452376</td>\n      <td>634.240612</td>\n      <td>0.000000</td>\n      <td>633.087949</td>\n      <td>0.000000</td>\n      <td>336.081422</td>\n      <td>479.183574</td>\n      <td>686.890396</td>\n      <td>0.000000</td>\n      <td>685.643262</td>\n      <td>0.000000</td>\n      <td>378.424495</td>\n      <td>539.556219</td>\n      <td>773.433022</td>\n      <td>0.000000</td>\n      <td>772.028613</td>\n      <td>0.000000</td>\n      <td>528.846972</td>\n      <td>754.027459</td>\n      <td>1080.867590</td>\n      <td>0.000000</td>\n      <td>1078.906152</td>\n      <td>0.000000</td>\n      <td>803.633303</td>\n      <td>1145.817324</td>\n      <td>1642.486079</td>\n      <td>0.000000</td>\n      <td>1639.502402</td>\n    </tr>\n    <tr>\n      <th>NH</th>\n      <td>372.960000</td>\n      <td>258.847368</td>\n      <td>385.728966</td>\n      <td>578.830000</td>\n      <td>0.000000</td>\n      <td>504.078667</td>\n      <td>401.485000</td>\n      <td>278.645789</td>\n      <td>415.228621</td>\n      <td>623.097755</td>\n      <td>0.000000</td>\n      <td>542.628182</td>\n      <td>431.705000</td>\n      <td>299.615263</td>\n      <td>446.479310</td>\n      <td>669.993061</td>\n      <td>0.000000</td>\n      <td>583.469515</td>\n      <td>539.050000</td>\n      <td>374.117895</td>\n      <td>557.496782</td>\n      <td>836.591020</td>\n      <td>0.000000</td>\n      <td>728.551212</td>\n      <td>534.610000</td>\n      <td>371.037368</td>\n      <td>552.913563</td>\n      <td>829.707755</td>\n      <td>0.000000</td>\n      <td>722.557818</td>\n      <td>563.135000</td>\n      <td>390.835789</td>\n      <td>582.413218</td>\n      <td>873.975510</td>\n      <td>0.000000</td>\n      <td>761.107333</td>\n      <td>593.355000</td>\n      <td>411.805263</td>\n      <td>613.663908</td>\n      <td>920.870816</td>\n      <td>...</td>\n      <td>891.865977</td>\n      <td>1338.346531</td>\n      <td>0.000000</td>\n      <td>1165.509515</td>\n      <td>211.310000</td>\n      <td>146.657368</td>\n      <td>218.544368</td>\n      <td>327.952245</td>\n      <td>0.000000</td>\n      <td>285.599515</td>\n      <td>221.455000</td>\n      <td>153.695263</td>\n      <td>229.031034</td>\n      <td>343.688776</td>\n      <td>0.000000</td>\n      <td>299.305030</td>\n      <td>239.835000</td>\n      <td>166.455789</td>\n      <td>248.044023</td>\n      <td>372.220000</td>\n      <td>0.000000</td>\n      <td>324.149030</td>\n      <td>270.055000</td>\n      <td>187.425263</td>\n      <td>279.294713</td>\n      <td>419.115306</td>\n      <td>0.000000</td>\n      <td>364.990364</td>\n      <td>377.400000</td>\n      <td>261.927895</td>\n      <td>390.312184</td>\n      <td>585.713265</td>\n      <td>0.000000</td>\n      <td>510.072061</td>\n      <td>573.495000</td>\n      <td>398.023158</td>\n      <td>593.118161</td>\n      <td>890.045714</td>\n      <td>0.000000</td>\n      <td>775.105333</td>\n    </tr>\n    <tr>\n      <th>NM</th>\n      <td>371.195333</td>\n      <td>395.197879</td>\n      <td>414.006727</td>\n      <td>532.259125</td>\n      <td>0.000000</td>\n      <td>564.402096</td>\n      <td>399.587455</td>\n      <td>425.425455</td>\n      <td>445.672242</td>\n      <td>572.969024</td>\n      <td>0.000000</td>\n      <td>607.567525</td>\n      <td>429.659515</td>\n      <td>457.444545</td>\n      <td>479.214879</td>\n      <td>616.092290</td>\n      <td>0.000000</td>\n      <td>653.295404</td>\n      <td>536.497212</td>\n      <td>571.184545</td>\n      <td>598.374152</td>\n      <td>769.286330</td>\n      <td>0.000000</td>\n      <td>815.738965</td>\n      <td>532.081212</td>\n      <td>566.486970</td>\n      <td>593.448273</td>\n      <td>762.954478</td>\n      <td>0.000000</td>\n      <td>809.027626</td>\n      <td>560.473333</td>\n      <td>596.714545</td>\n      <td>625.113788</td>\n      <td>803.664377</td>\n      <td>0.000000</td>\n      <td>852.193056</td>\n      <td>590.545394</td>\n      <td>628.733636</td>\n      <td>658.656424</td>\n      <td>846.787643</td>\n      <td>...</td>\n      <td>957.257242</td>\n      <td>1230.677037</td>\n      <td>0.000000</td>\n      <td>1304.990025</td>\n      <td>210.309455</td>\n      <td>223.908788</td>\n      <td>234.565182</td>\n      <td>301.563771</td>\n      <td>0.000000</td>\n      <td>319.776566</td>\n      <td>220.402545</td>\n      <td>234.652424</td>\n      <td>245.823667</td>\n      <td>316.036633</td>\n      <td>0.000000</td>\n      <td>335.121843</td>\n      <td>238.701576</td>\n      <td>254.136364</td>\n      <td>266.230697</td>\n      <td>342.273670</td>\n      <td>0.000000</td>\n      <td>362.941995</td>\n      <td>268.773636</td>\n      <td>286.155455</td>\n      <td>299.773333</td>\n      <td>385.396936</td>\n      <td>0.000000</td>\n      <td>408.669874</td>\n      <td>375.611333</td>\n      <td>399.895455</td>\n      <td>418.932606</td>\n      <td>538.590976</td>\n      <td>0.000000</td>\n      <td>571.113434</td>\n      <td>570.774727</td>\n      <td>607.685606</td>\n      <td>636.608333</td>\n      <td>818.441111</td>\n      <td>0.000000</td>\n      <td>867.862626</td>\n    </tr>\n    <tr>\n      <th>OH</th>\n      <td>465.760273</td>\n      <td>380.805135</td>\n      <td>510.583657</td>\n      <td>772.606011</td>\n      <td>0.000000</td>\n      <td>650.904404</td>\n      <td>501.381364</td>\n      <td>409.930595</td>\n      <td>549.633403</td>\n      <td>831.697213</td>\n      <td>0.000000</td>\n      <td>700.686033</td>\n      <td>539.116303</td>\n      <td>440.783405</td>\n      <td>591.000659</td>\n      <td>894.292623</td>\n      <td>0.000000</td>\n      <td>753.422069</td>\n      <td>673.169212</td>\n      <td>550.385243</td>\n      <td>737.955192</td>\n      <td>1116.662805</td>\n      <td>0.000000</td>\n      <td>940.763376</td>\n      <td>667.632091</td>\n      <td>545.855946</td>\n      <td>731.883447</td>\n      <td>1107.473497</td>\n      <td>0.000000</td>\n      <td>933.022896</td>\n      <td>703.253182</td>\n      <td>574.981405</td>\n      <td>770.933193</td>\n      <td>1166.564699</td>\n      <td>0.000000</td>\n      <td>982.804524</td>\n      <td>740.988121</td>\n      <td>605.834216</td>\n      <td>812.300449</td>\n      <td>1229.160109</td>\n      <td>...</td>\n      <td>1180.554772</td>\n      <td>1786.397778</td>\n      <td>0.000000</td>\n      <td>1505.000360</td>\n      <td>263.888455</td>\n      <td>215.754324</td>\n      <td>289.283867</td>\n      <td>437.738525</td>\n      <td>0.000000</td>\n      <td>368.785913</td>\n      <td>276.550667</td>\n      <td>226.109730</td>\n      <td>303.166206</td>\n      <td>458.746357</td>\n      <td>0.000000</td>\n      <td>386.483689</td>\n      <td>299.509545</td>\n      <td>244.879784</td>\n      <td>328.333613</td>\n      <td>496.829727</td>\n      <td>0.000000</td>\n      <td>418.567541</td>\n      <td>337.244485</td>\n      <td>275.732595</td>\n      <td>369.700869</td>\n      <td>559.425137</td>\n      <td>0.000000</td>\n      <td>471.303578</td>\n      <td>471.297394</td>\n      <td>385.334432</td>\n      <td>516.655402</td>\n      <td>781.795319</td>\n      <td>0.000000</td>\n      <td>658.644884</td>\n      <td>716.182970</td>\n      <td>585.552486</td>\n      <td>785.107878</td>\n      <td>1188.014026</td>\n      <td>0.000000</td>\n      <td>1000.874820</td>\n    </tr>\n    <tr>\n      <th>OK</th>\n      <td>642.494189</td>\n      <td>552.889512</td>\n      <td>711.605838</td>\n      <td>854.652226</td>\n      <td>0.000000</td>\n      <td>866.673993</td>\n      <td>691.629820</td>\n      <td>595.171951</td>\n      <td>766.026416</td>\n      <td>920.016825</td>\n      <td>0.000000</td>\n      <td>932.963004</td>\n      <td>743.687252</td>\n      <td>639.968963</td>\n      <td>823.681647</td>\n      <td>989.259015</td>\n      <td>0.000000</td>\n      <td>1003.181307</td>\n      <td>928.603874</td>\n      <td>799.098232</td>\n      <td>1028.492457</td>\n      <td>1235.245584</td>\n      <td>0.000000</td>\n      <td>1252.623498</td>\n      <td>920.967387</td>\n      <td>792.524390</td>\n      <td>1020.032977</td>\n      <td>1225.080036</td>\n      <td>0.000000</td>\n      <td>1242.313993</td>\n      <td>970.103018</td>\n      <td>834.806829</td>\n      <td>1074.453555</td>\n      <td>1290.444635</td>\n      <td>0.000000</td>\n      <td>1308.603004</td>\n      <td>1022.160450</td>\n      <td>879.603841</td>\n      <td>1132.108786</td>\n      <td>1359.686825</td>\n      <td>...</td>\n      <td>1645.346734</td>\n      <td>1976.101204</td>\n      <td>0.000000</td>\n      <td>2003.903498</td>\n      <td>364.020991</td>\n      <td>313.254634</td>\n      <td>403.178699</td>\n      <td>484.224416</td>\n      <td>0.000000</td>\n      <td>491.033993</td>\n      <td>381.487928</td>\n      <td>328.283598</td>\n      <td>422.524566</td>\n      <td>507.461898</td>\n      <td>0.000000</td>\n      <td>514.601873</td>\n      <td>413.156622</td>\n      <td>355.537073</td>\n      <td>457.599277</td>\n      <td>549.589015</td>\n      <td>0.000000</td>\n      <td>557.323004</td>\n      <td>465.214054</td>\n      <td>400.334085</td>\n      <td>515.254509</td>\n      <td>618.831204</td>\n      <td>0.000000</td>\n      <td>627.541307</td>\n      <td>650.130676</td>\n      <td>559.463354</td>\n      <td>720.065318</td>\n      <td>864.817774</td>\n      <td>0.000000</td>\n      <td>876.983498</td>\n      <td>987.936802</td>\n      <td>850.159817</td>\n      <td>1094.209335</td>\n      <td>1314.170949</td>\n      <td>0.000000</td>\n      <td>1332.660565</td>\n    </tr>\n    <tr>\n      <th>OR</th>\n      <td>0.000000</td>\n      <td>320.076923</td>\n      <td>489.561953</td>\n      <td>729.211706</td>\n      <td>0.000000</td>\n      <td>639.809385</td>\n      <td>0.000000</td>\n      <td>346.461538</td>\n      <td>530.009120</td>\n      <td>789.464369</td>\n      <td>0.000000</td>\n      <td>692.625112</td>\n      <td>0.000000</td>\n      <td>374.615385</td>\n      <td>572.821137</td>\n      <td>853.221945</td>\n      <td>0.000000</td>\n      <td>748.571034</td>\n      <td>0.000000</td>\n      <td>473.923077</td>\n      <td>724.879828</td>\n      <td>1079.794710</td>\n      <td>0.000000</td>\n      <td>947.387821</td>\n      <td>0.000000</td>\n      <td>444.538462</td>\n      <td>679.715665</td>\n      <td>1012.467816</td>\n      <td>0.000000</td>\n      <td>888.298743</td>\n      <td>0.000000</td>\n      <td>470.923077</td>\n      <td>720.162833</td>\n      <td>1072.720478</td>\n      <td>0.000000</td>\n      <td>941.114469</td>\n      <td>0.000000</td>\n      <td>499.076923</td>\n      <td>762.974850</td>\n      <td>1136.478055</td>\n      <td>...</td>\n      <td>1105.187253</td>\n      <td>1646.306928</td>\n      <td>0.000000</td>\n      <td>1444.366536</td>\n      <td>0.000000</td>\n      <td>195.615385</td>\n      <td>299.408240</td>\n      <td>445.955597</td>\n      <td>0.000000</td>\n      <td>391.320028</td>\n      <td>0.000000</td>\n      <td>204.846154</td>\n      <td>313.779356</td>\n      <td>467.433038</td>\n      <td>0.000000</td>\n      <td>410.102737</td>\n      <td>0.000000</td>\n      <td>222.000000</td>\n      <td>339.855408</td>\n      <td>506.208259</td>\n      <td>0.000000</td>\n      <td>444.135754</td>\n      <td>0.000000</td>\n      <td>250.153846</td>\n      <td>382.667425</td>\n      <td>569.965836</td>\n      <td>0.000000</td>\n      <td>500.081676</td>\n      <td>0.000000</td>\n      <td>349.461538</td>\n      <td>534.726116</td>\n      <td>796.538601</td>\n      <td>0.000000</td>\n      <td>698.898464</td>\n      <td>0.000000</td>\n      <td>531.153846</td>\n      <td>812.550279</td>\n      <td>1210.482833</td>\n      <td>0.000000</td>\n      <td>1061.987682</td>\n    </tr>\n    <tr>\n      <th>SC</th>\n      <td>475.440000</td>\n      <td>314.335192</td>\n      <td>507.017009</td>\n      <td>748.260063</td>\n      <td>0.000000</td>\n      <td>718.474906</td>\n      <td>511.801854</td>\n      <td>338.377692</td>\n      <td>545.792969</td>\n      <td>805.490475</td>\n      <td>0.000000</td>\n      <td>773.425021</td>\n      <td>550.321951</td>\n      <td>363.845000</td>\n      <td>586.871419</td>\n      <td>866.113956</td>\n      <td>0.000000</td>\n      <td>831.635692</td>\n      <td>687.161854</td>\n      <td>454.316731</td>\n      <td>732.799694</td>\n      <td>1081.476709</td>\n      <td>0.000000</td>\n      <td>1038.425000</td>\n      <td>681.507854</td>\n      <td>450.576923</td>\n      <td>726.770393</td>\n      <td>1072.575918</td>\n      <td>0.000000</td>\n      <td>1029.880273</td>\n      <td>717.869707</td>\n      <td>474.619423</td>\n      <td>765.546354</td>\n      <td>1129.806329</td>\n      <td>0.000000</td>\n      <td>1084.830388</td>\n      <td>756.389805</td>\n      <td>500.086731</td>\n      <td>806.624803</td>\n      <td>1190.429810</td>\n      <td>...</td>\n      <td>1172.306463</td>\n      <td>1730.108418</td>\n      <td>0.000000</td>\n      <td>1661.235734</td>\n      <td>269.372146</td>\n      <td>178.093462</td>\n      <td>287.263624</td>\n      <td>423.944209</td>\n      <td>0.000000</td>\n      <td>407.069539</td>\n      <td>282.299268</td>\n      <td>186.641731</td>\n      <td>301.047904</td>\n      <td>444.291772</td>\n      <td>0.000000</td>\n      <td>426.605042</td>\n      <td>305.734000</td>\n      <td>202.135962</td>\n      <td>326.039585</td>\n      <td>481.174620</td>\n      <td>0.000000</td>\n      <td>462.019654</td>\n      <td>344.254098</td>\n      <td>227.603269</td>\n      <td>367.118035</td>\n      <td>541.798101</td>\n      <td>0.000000</td>\n      <td>520.230325</td>\n      <td>481.094000</td>\n      <td>318.075000</td>\n      <td>513.046310</td>\n      <td>757.160854</td>\n      <td>0.000000</td>\n      <td>727.019633</td>\n      <td>731.069268</td>\n      <td>483.345769</td>\n      <td>779.623297</td>\n      <td>1150.578861</td>\n      <td>0.000000</td>\n      <td>1104.776730</td>\n    </tr>\n    <tr>\n      <th>SD</th>\n      <td>0.000000</td>\n      <td>450.015580</td>\n      <td>664.641696</td>\n      <td>971.658148</td>\n      <td>0.000000</td>\n      <td>910.134307</td>\n      <td>0.000000</td>\n      <td>484.430435</td>\n      <td>715.472544</td>\n      <td>1045.972444</td>\n      <td>0.000000</td>\n      <td>979.741533</td>\n      <td>0.000000</td>\n      <td>520.890072</td>\n      <td>769.321433</td>\n      <td>1124.696148</td>\n      <td>0.000000</td>\n      <td>1053.480049</td>\n      <td>0.000000</td>\n      <td>650.413841</td>\n      <td>960.617222</td>\n      <td>1404.355259</td>\n      <td>0.000000</td>\n      <td>1315.434866</td>\n      <td>0.000000</td>\n      <td>645.061812</td>\n      <td>952.712573</td>\n      <td>1392.799630</td>\n      <td>0.000000</td>\n      <td>1304.608564</td>\n      <td>0.000000</td>\n      <td>679.476667</td>\n      <td>1003.543421</td>\n      <td>1467.113926</td>\n      <td>0.000000</td>\n      <td>1374.215791</td>\n      <td>0.000000</td>\n      <td>715.936304</td>\n      <td>1057.392310</td>\n      <td>1545.837630</td>\n      <td>...</td>\n      <td>1536.758977</td>\n      <td>2246.638222</td>\n      <td>0.000000</td>\n      <td>2104.383382</td>\n      <td>0.000000</td>\n      <td>254.969348</td>\n      <td>376.570819</td>\n      <td>550.516667</td>\n      <td>0.000000</td>\n      <td>515.660049</td>\n      <td>0.000000</td>\n      <td>267.203406</td>\n      <td>394.639240</td>\n      <td>576.932222</td>\n      <td>0.000000</td>\n      <td>540.405839</td>\n      <td>0.000000</td>\n      <td>289.384203</td>\n      <td>427.401667</td>\n      <td>624.830963</td>\n      <td>0.000000</td>\n      <td>585.267275</td>\n      <td>0.000000</td>\n      <td>325.843841</td>\n      <td>481.250556</td>\n      <td>703.554667</td>\n      <td>0.000000</td>\n      <td>659.005791</td>\n      <td>0.000000</td>\n      <td>455.367609</td>\n      <td>672.546345</td>\n      <td>983.213778</td>\n      <td>0.000000</td>\n      <td>920.960608</td>\n      <td>0.000000</td>\n      <td>691.974058</td>\n      <td>1021.999854</td>\n      <td>1494.088815</td>\n      <td>0.000000</td>\n      <td>1399.489002</td>\n    </tr>\n    <tr>\n      <th>TN</th>\n      <td>503.638699</td>\n      <td>455.965227</td>\n      <td>576.350518</td>\n      <td>922.630503</td>\n      <td>0.000000</td>\n      <td>716.524686</td>\n      <td>542.155765</td>\n      <td>490.838864</td>\n      <td>620.430962</td>\n      <td>993.195927</td>\n      <td>0.000000</td>\n      <td>771.323493</td>\n      <td>582.960893</td>\n      <td>527.777955</td>\n      <td>667.126017</td>\n      <td>1067.947483</td>\n      <td>0.000000</td>\n      <td>829.375112</td>\n      <td>727.917985</td>\n      <td>659.013864</td>\n      <td>833.009679</td>\n      <td>1333.496888</td>\n      <td>0.000000</td>\n      <td>1035.602561</td>\n      <td>721.928520</td>\n      <td>653.593182</td>\n      <td>826.155586</td>\n      <td>1322.522746</td>\n      <td>0.000000</td>\n      <td>1027.083472</td>\n      <td>760.445587</td>\n      <td>688.466818</td>\n      <td>870.236030</td>\n      <td>1393.088169</td>\n      <td>0.000000</td>\n      <td>1081.882279</td>\n      <td>801.250714</td>\n      <td>725.405909</td>\n      <td>916.931085</td>\n      <td>1467.839725</td>\n      <td>...</td>\n      <td>1332.619815</td>\n      <td>2133.281373</td>\n      <td>0.000000</td>\n      <td>1656.720133</td>\n      <td>285.348878</td>\n      <td>258.337273</td>\n      <td>326.545450</td>\n      <td>522.738261</td>\n      <td>0.000000</td>\n      <td>405.965900</td>\n      <td>299.040867</td>\n      <td>270.734091</td>\n      <td>342.216215</td>\n      <td>547.825675</td>\n      <td>0.000000</td>\n      <td>425.445980</td>\n      <td>323.865944</td>\n      <td>293.210909</td>\n      <td>370.625894</td>\n      <td>593.303684</td>\n      <td>0.000000</td>\n      <td>460.764707</td>\n      <td>364.671071</td>\n      <td>330.150000</td>\n      <td>417.320949</td>\n      <td>668.055240</td>\n      <td>0.000000</td>\n      <td>518.816326</td>\n      <td>509.628163</td>\n      <td>461.385909</td>\n      <td>583.204612</td>\n      <td>933.604645</td>\n      <td>0.000000</td>\n      <td>725.043775</td>\n      <td>774.427015</td>\n      <td>701.119545</td>\n      <td>886.235524</td>\n      <td>1418.701625</td>\n      <td>0.000000</td>\n      <td>1101.774382</td>\n    </tr>\n    <tr>\n      <th>TX</th>\n      <td>542.633944</td>\n      <td>464.479935</td>\n      <td>589.875266</td>\n      <td>838.974294</td>\n      <td>0.000000</td>\n      <td>703.435650</td>\n      <td>584.135345</td>\n      <td>500.008636</td>\n      <td>634.988514</td>\n      <td>903.140164</td>\n      <td>0.000000</td>\n      <td>757.232270</td>\n      <td>628.097317</td>\n      <td>537.637727</td>\n      <td>682.779734</td>\n      <td>971.112616</td>\n      <td>0.000000</td>\n      <td>814.223356</td>\n      <td>784.277588</td>\n      <td>671.324838</td>\n      <td>852.555705</td>\n      <td>1212.584237</td>\n      <td>0.000000</td>\n      <td>1016.683293</td>\n      <td>777.825305</td>\n      <td>665.800357</td>\n      <td>845.541895</td>\n      <td>1202.607045</td>\n      <td>0.000000</td>\n      <td>1008.321232</td>\n      <td>819.326707</td>\n      <td>701.329058</td>\n      <td>890.655143</td>\n      <td>1266.772915</td>\n      <td>0.000000</td>\n      <td>1062.117852</td>\n      <td>863.288679</td>\n      <td>738.958149</td>\n      <td>938.446364</td>\n      <td>1334.745367</td>\n      <td>...</td>\n      <td>1363.888963</td>\n      <td>1939.849740</td>\n      <td>0.000000</td>\n      <td>1626.454457</td>\n      <td>307.442583</td>\n      <td>263.159513</td>\n      <td>334.208636</td>\n      <td>475.341542</td>\n      <td>0.000000</td>\n      <td>398.550068</td>\n      <td>322.195586</td>\n      <td>275.794773</td>\n      <td>350.244918</td>\n      <td>498.153638</td>\n      <td>0.000000</td>\n      <td>417.672995</td>\n      <td>348.943984</td>\n      <td>298.688214</td>\n      <td>379.321885</td>\n      <td>539.507412</td>\n      <td>0.000000</td>\n      <td>452.346688</td>\n      <td>392.905956</td>\n      <td>336.317305</td>\n      <td>427.113105</td>\n      <td>607.479864</td>\n      <td>0.000000</td>\n      <td>509.337774</td>\n      <td>549.086226</td>\n      <td>470.004416</td>\n      <td>596.889076</td>\n      <td>848.951486</td>\n      <td>0.000000</td>\n      <td>711.797711</td>\n      <td>834.387427</td>\n      <td>714.216688</td>\n      <td>907.030184</td>\n      <td>1290.065028</td>\n      <td>0.000000</td>\n      <td>1081.645650</td>\n    </tr>\n    <tr>\n      <th>UT</th>\n      <td>406.164000</td>\n      <td>350.610789</td>\n      <td>491.845512</td>\n      <td>824.496232</td>\n      <td>0.000000</td>\n      <td>683.280683</td>\n      <td>494.508824</td>\n      <td>426.878947</td>\n      <td>598.828602</td>\n      <td>1003.834493</td>\n      <td>0.000000</td>\n      <td>831.901863</td>\n      <td>514.670000</td>\n      <td>444.281053</td>\n      <td>623.243386</td>\n      <td>1044.761087</td>\n      <td>0.000000</td>\n      <td>865.818851</td>\n      <td>661.459529</td>\n      <td>570.994211</td>\n      <td>800.998268</td>\n      <td>1342.737971</td>\n      <td>0.000000</td>\n      <td>1112.758540</td>\n      <td>585.800706</td>\n      <td>505.678684</td>\n      <td>709.376437</td>\n      <td>1189.150580</td>\n      <td>0.000000</td>\n      <td>985.478758</td>\n      <td>674.145529</td>\n      <td>581.946842</td>\n      <td>816.359528</td>\n      <td>1368.488841</td>\n      <td>0.000000</td>\n      <td>1134.099938</td>\n      <td>694.306706</td>\n      <td>599.348947</td>\n      <td>840.774311</td>\n      <td>1409.415435</td>\n      <td>...</td>\n      <td>1236.060118</td>\n      <td>2072.046667</td>\n      <td>0.000000</td>\n      <td>1717.154689</td>\n      <td>226.527294</td>\n      <td>195.542895</td>\n      <td>274.314587</td>\n      <td>459.841884</td>\n      <td>0.000000</td>\n      <td>381.082609</td>\n      <td>314.872118</td>\n      <td>271.811053</td>\n      <td>381.297677</td>\n      <td>639.180145</td>\n      <td>0.000000</td>\n      <td>529.703789</td>\n      <td>314.872118</td>\n      <td>271.811053</td>\n      <td>381.297677</td>\n      <td>639.180145</td>\n      <td>0.000000</td>\n      <td>529.703789</td>\n      <td>335.033294</td>\n      <td>289.213158</td>\n      <td>405.712461</td>\n      <td>680.106739</td>\n      <td>0.000000</td>\n      <td>563.620776</td>\n      <td>481.822824</td>\n      <td>415.926316</td>\n      <td>583.467343</td>\n      <td>978.083623</td>\n      <td>0.000000</td>\n      <td>810.560466</td>\n      <td>679.576706</td>\n      <td>586.628684</td>\n      <td>822.941024</td>\n      <td>1379.521522</td>\n      <td>0.000000</td>\n      <td>1143.243540</td>\n    </tr>\n    <tr>\n      <th>VA</th>\n      <td>510.484615</td>\n      <td>410.375240</td>\n      <td>543.033752</td>\n      <td>704.554244</td>\n      <td>843.460000</td>\n      <td>707.641151</td>\n      <td>549.530564</td>\n      <td>441.764471</td>\n      <td>584.569238</td>\n      <td>758.443285</td>\n      <td>907.970000</td>\n      <td>761.765823</td>\n      <td>590.890513</td>\n      <td>475.011875</td>\n      <td>628.565994</td>\n      <td>815.526977</td>\n      <td>976.310000</td>\n      <td>819.099679</td>\n      <td>737.816718</td>\n      <td>593.124471</td>\n      <td>784.861241</td>\n      <td>1018.310581</td>\n      <td>1219.070000</td>\n      <td>1022.771419</td>\n      <td>731.742974</td>\n      <td>588.242500</td>\n      <td>778.399806</td>\n      <td>1009.927616</td>\n      <td>1209.040000</td>\n      <td>1014.352878</td>\n      <td>770.788923</td>\n      <td>619.631731</td>\n      <td>819.935291</td>\n      <td>1063.816657</td>\n      <td>1273.550000</td>\n      <td>1068.477550</td>\n      <td>812.148872</td>\n      <td>652.879135</td>\n      <td>863.932048</td>\n      <td>1120.900349</td>\n      <td>...</td>\n      <td>1255.593348</td>\n      <td>1629.057326</td>\n      <td>1950.230000</td>\n      <td>1636.194873</td>\n      <td>289.226256</td>\n      <td>232.507981</td>\n      <td>307.667698</td>\n      <td>399.180872</td>\n      <td>477.880000</td>\n      <td>400.929424</td>\n      <td>303.108872</td>\n      <td>243.669279</td>\n      <td>322.435755</td>\n      <td>418.341977</td>\n      <td>500.820000</td>\n      <td>420.173788</td>\n      <td>328.272205</td>\n      <td>263.897212</td>\n      <td>349.203184</td>\n      <td>453.069913</td>\n      <td>542.390000</td>\n      <td>455.054096</td>\n      <td>369.632154</td>\n      <td>297.144615</td>\n      <td>393.199940</td>\n      <td>510.153605</td>\n      <td>610.730000</td>\n      <td>512.387952</td>\n      <td>516.558359</td>\n      <td>415.257212</td>\n      <td>549.495187</td>\n      <td>712.937209</td>\n      <td>853.490000</td>\n      <td>716.059692</td>\n      <td>784.960462</td>\n      <td>631.026779</td>\n      <td>835.010254</td>\n      <td>1083.376773</td>\n      <td>1296.970000</td>\n      <td>1088.121740</td>\n    </tr>\n    <tr>\n      <th>WI</th>\n      <td>519.900034</td>\n      <td>393.254258</td>\n      <td>534.790754</td>\n      <td>722.524095</td>\n      <td>755.823000</td>\n      <td>735.580511</td>\n      <td>559.663322</td>\n      <td>423.328421</td>\n      <td>575.691641</td>\n      <td>777.784687</td>\n      <td>813.631000</td>\n      <td>791.839445</td>\n      <td>601.785582</td>\n      <td>455.188708</td>\n      <td>619.019988</td>\n      <td>836.323651</td>\n      <td>874.866333</td>\n      <td>851.436074</td>\n      <td>751.422260</td>\n      <td>568.373636</td>\n      <td>772.941389</td>\n      <td>1044.278059</td>\n      <td>1092.399000</td>\n      <td>1063.149040</td>\n      <td>745.238014</td>\n      <td>563.699809</td>\n      <td>766.582407</td>\n      <td>1035.684605</td>\n      <td>1083.418000</td>\n      <td>1054.400123</td>\n      <td>785.001301</td>\n      <td>593.773971</td>\n      <td>807.483293</td>\n      <td>1090.945197</td>\n      <td>1141.226000</td>\n      <td>1110.659058</td>\n      <td>827.123562</td>\n      <td>625.634258</td>\n      <td>850.811641</td>\n      <td>1149.484161</td>\n      <td>...</td>\n      <td>1236.524695</td>\n      <td>1670.599079</td>\n      <td>1747.589000</td>\n      <td>1700.788266</td>\n      <td>294.562055</td>\n      <td>222.808708</td>\n      <td>302.999102</td>\n      <td>409.363586</td>\n      <td>428.228000</td>\n      <td>416.760898</td>\n      <td>308.699349</td>\n      <td>233.499091</td>\n      <td>317.539353</td>\n      <td>429.009539</td>\n      <td>448.782000</td>\n      <td>436.762016</td>\n      <td>334.325342</td>\n      <td>252.882871</td>\n      <td>343.899988</td>\n      <td>464.624178</td>\n      <td>486.036000</td>\n      <td>473.019833</td>\n      <td>376.447603</td>\n      <td>284.743158</td>\n      <td>387.228335</td>\n      <td>523.163141</td>\n      <td>547.271333</td>\n      <td>532.616461</td>\n      <td>526.084281</td>\n      <td>397.928086</td>\n      <td>541.149737</td>\n      <td>731.117549</td>\n      <td>764.804000</td>\n      <td>744.329428</td>\n      <td>799.435274</td>\n      <td>604.690813</td>\n      <td>822.329281</td>\n      <td>1111.002961</td>\n      <td>1162.194667</td>\n      <td>1131.079991</td>\n    </tr>\n    <tr>\n      <th>WV</th>\n      <td>0.000000</td>\n      <td>665.236727</td>\n      <td>885.065333</td>\n      <td>1206.917564</td>\n      <td>0.000000</td>\n      <td>958.994747</td>\n      <td>0.000000</td>\n      <td>716.115636</td>\n      <td>952.759788</td>\n      <td>1299.230982</td>\n      <td>0.000000</td>\n      <td>1032.342990</td>\n      <td>0.000000</td>\n      <td>770.018000</td>\n      <td>1024.467333</td>\n      <td>1397.014691</td>\n      <td>0.000000</td>\n      <td>1110.041293</td>\n      <td>0.000000</td>\n      <td>961.484545</td>\n      <td>1279.205182</td>\n      <td>1744.387709</td>\n      <td>0.000000</td>\n      <td>1386.056869</td>\n      <td>0.000000</td>\n      <td>953.568727</td>\n      <td>1268.676182</td>\n      <td>1730.028691</td>\n      <td>0.000000</td>\n      <td>1374.649131</td>\n      <td>0.000000</td>\n      <td>1004.447636</td>\n      <td>1336.370636</td>\n      <td>1822.342109</td>\n      <td>0.000000</td>\n      <td>1447.997374</td>\n      <td>0.000000</td>\n      <td>1058.350000</td>\n      <td>1408.078182</td>\n      <td>1920.125818</td>\n      <td>...</td>\n      <td>2046.426879</td>\n      <td>2790.609964</td>\n      <td>0.000000</td>\n      <td>2217.365636</td>\n      <td>0.000000</td>\n      <td>376.904727</td>\n      <td>501.454485</td>\n      <td>683.806436</td>\n      <td>0.000000</td>\n      <td>543.340364</td>\n      <td>0.000000</td>\n      <td>394.995273</td>\n      <td>525.521758</td>\n      <td>716.626582</td>\n      <td>0.000000</td>\n      <td>569.418444</td>\n      <td>0.000000</td>\n      <td>427.783636</td>\n      <td>569.148939</td>\n      <td>776.119855</td>\n      <td>0.000000</td>\n      <td>616.688606</td>\n      <td>0.000000</td>\n      <td>481.686000</td>\n      <td>640.856485</td>\n      <td>873.903564</td>\n      <td>0.000000</td>\n      <td>694.386909</td>\n      <td>0.000000</td>\n      <td>673.152545</td>\n      <td>895.594333</td>\n      <td>1221.276582</td>\n      <td>0.000000</td>\n      <td>970.402485</td>\n      <td>0.000000</td>\n      <td>1022.920182</td>\n      <td>1360.941667</td>\n      <td>1855.848145</td>\n      <td>0.000000</td>\n      <td>1474.620646</td>\n    </tr>\n    <tr>\n      <th>WY</th>\n      <td>754.038261</td>\n      <td>0.000000</td>\n      <td>782.706522</td>\n      <td>935.744783</td>\n      <td>0.000000</td>\n      <td>1102.754348</td>\n      <td>811.715072</td>\n      <td>0.000000</td>\n      <td>842.571014</td>\n      <td>1007.316609</td>\n      <td>0.000000</td>\n      <td>1187.101130</td>\n      <td>872.802174</td>\n      <td>0.000000</td>\n      <td>905.982754</td>\n      <td>1083.129217</td>\n      <td>0.000000</td>\n      <td>1276.446261</td>\n      <td>1089.825507</td>\n      <td>0.000000</td>\n      <td>1131.263188</td>\n      <td>1352.453739</td>\n      <td>0.000000</td>\n      <td>1593.837391</td>\n      <td>1080.860000</td>\n      <td>0.000000</td>\n      <td>1121.952464</td>\n      <td>1341.323565</td>\n      <td>0.000000</td>\n      <td>1580.719130</td>\n      <td>1138.536812</td>\n      <td>0.000000</td>\n      <td>1181.816957</td>\n      <td>1412.895391</td>\n      <td>0.000000</td>\n      <td>1665.065913</td>\n      <td>1199.623913</td>\n      <td>0.000000</td>\n      <td>1245.228696</td>\n      <td>1488.708000</td>\n      <td>...</td>\n      <td>1809.755072</td>\n      <td>2163.611304</td>\n      <td>0.000000</td>\n      <td>2549.766957</td>\n      <td>427.216522</td>\n      <td>0.000000</td>\n      <td>443.460580</td>\n      <td>530.166000</td>\n      <td>0.000000</td>\n      <td>624.789565</td>\n      <td>447.720580</td>\n      <td>0.000000</td>\n      <td>464.745507</td>\n      <td>555.612348</td>\n      <td>0.000000</td>\n      <td>654.782000</td>\n      <td>484.893333</td>\n      <td>0.000000</td>\n      <td>503.325072</td>\n      <td>601.737826</td>\n      <td>0.000000</td>\n      <td>709.136348</td>\n      <td>545.980435</td>\n      <td>0.000000</td>\n      <td>566.736812</td>\n      <td>677.550435</td>\n      <td>0.000000</td>\n      <td>798.481478</td>\n      <td>763.003768</td>\n      <td>0.000000</td>\n      <td>792.017246</td>\n      <td>946.874957</td>\n      <td>0.000000</td>\n      <td>1115.872609</td>\n      <td>1159.456087</td>\n      <td>0.000000</td>\n      <td>1203.545362</td>\n      <td>1438.864261</td>\n      <td>0.000000</td>\n      <td>1695.672609</td>\n    </tr>\n  </tbody>\n</table>\n<p>36 rows × 108 columns</p>\n</div>"
     },
     "metadata": {},
     "execution_count": 216
    }
   ],
   "source": [
    "'''\r\n",
    "View by State + Plan Type + Tier Type\r\n",
    "'''\r\n",
    "pd.pivot_table(df_target, index=['State Code'], columns=[\"Metal Level\"], values=premium_list, aggfunc=np.mean, fill_value=0)"
   ]
  },
  {
   "cell_type": "code",
   "execution_count": 16,
   "metadata": {},
   "outputs": [
    {
     "output_type": "stream",
     "name": "stdout",
     "text": [
      "2017\n",
      "C:\\Users\\dhh3hb\\Anaconda3\\lib\\site-packages\\IPython\\core\\interactiveshell.py:3146: DtypeWarning:\n",
      "\n",
      "Columns (21) have mixed types.Specify dtype option on import or set low_memory=False.\n",
      "\n",
      "C:\\Users\\dhh3hb\\Anaconda3\\lib\\site-packages\\pandas\\core\\indexing.py:1717: SettingWithCopyWarning:\n",
      "\n",
      "\n",
      "A value is trying to be set on a copy of a slice from a DataFrame.\n",
      "Try using .loc[row_indexer,col_indexer] = value instead\n",
      "\n",
      "See the caveats in the documentation: https://pandas.pydata.org/pandas-docs/stable/user_guide/indexing.html#returning-a-view-versus-a-copy\n",
      "\n",
      "C:\\Users\\dhh3hb\\Anaconda3\\lib\\site-packages\\pandas\\core\\frame.py:3065: SettingWithCopyWarning:\n",
      "\n",
      "\n",
      "A value is trying to be set on a copy of a slice from a DataFrame.\n",
      "Try using .loc[row_indexer,col_indexer] = value instead\n",
      "\n",
      "See the caveats in the documentation: https://pandas.pydata.org/pandas-docs/stable/user_guide/indexing.html#returning-a-view-versus-a-copy\n",
      "\n"
     ]
    },
    {
     "output_type": "execute_result",
     "data": {
      "text/plain": [
       "    State Code   Metal Level  count\n",
       "0           AK        Bronze     58\n",
       "1           AK          Gold     29\n",
       "2           AK        Silver     58\n",
       "3           AL        Bronze    134\n",
       "4           AL  Catastrophic     67\n",
       "..         ...           ...    ...\n",
       "160         WV        Silver    293\n",
       "161         WY        Bronze    184\n",
       "162         WY  Catastrophic     46\n",
       "163         WY          Gold    184\n",
       "164         WY        Silver    276\n",
       "\n",
       "[165 rows x 3 columns]"
      ],
      "text/html": "<div>\n<style scoped>\n    .dataframe tbody tr th:only-of-type {\n        vertical-align: middle;\n    }\n\n    .dataframe tbody tr th {\n        vertical-align: top;\n    }\n\n    .dataframe thead th {\n        text-align: right;\n    }\n</style>\n<table border=\"1\" class=\"dataframe\">\n  <thead>\n    <tr style=\"text-align: right;\">\n      <th></th>\n      <th>State Code</th>\n      <th>Metal Level</th>\n      <th>count</th>\n    </tr>\n  </thead>\n  <tbody>\n    <tr>\n      <th>0</th>\n      <td>AK</td>\n      <td>Bronze</td>\n      <td>58</td>\n    </tr>\n    <tr>\n      <th>1</th>\n      <td>AK</td>\n      <td>Gold</td>\n      <td>29</td>\n    </tr>\n    <tr>\n      <th>2</th>\n      <td>AK</td>\n      <td>Silver</td>\n      <td>58</td>\n    </tr>\n    <tr>\n      <th>3</th>\n      <td>AL</td>\n      <td>Bronze</td>\n      <td>134</td>\n    </tr>\n    <tr>\n      <th>4</th>\n      <td>AL</td>\n      <td>Catastrophic</td>\n      <td>67</td>\n    </tr>\n    <tr>\n      <th>...</th>\n      <td>...</td>\n      <td>...</td>\n      <td>...</td>\n    </tr>\n    <tr>\n      <th>160</th>\n      <td>WV</td>\n      <td>Silver</td>\n      <td>293</td>\n    </tr>\n    <tr>\n      <th>161</th>\n      <td>WY</td>\n      <td>Bronze</td>\n      <td>184</td>\n    </tr>\n    <tr>\n      <th>162</th>\n      <td>WY</td>\n      <td>Catastrophic</td>\n      <td>46</td>\n    </tr>\n    <tr>\n      <th>163</th>\n      <td>WY</td>\n      <td>Gold</td>\n      <td>184</td>\n    </tr>\n    <tr>\n      <th>164</th>\n      <td>WY</td>\n      <td>Silver</td>\n      <td>276</td>\n    </tr>\n  </tbody>\n</table>\n<p>165 rows × 3 columns</p>\n</div>"
     },
     "metadata": {},
     "execution_count": 16
    }
   ],
   "source": [
    "'''\n",
    "View by State + Tier Type\n",
    "'''\n",
    "statemetal_dict = {}\n",
    "for yr in range(2017,2022):\n",
    "    print(yr)\n",
    "    df = pd.read_csv('insurance_plans/{}.csv'.format(yr))\n",
    "    # print(len(df))\n",
    "    df_target = df[TARGET_FIELDS]\n",
    "    df_target.loc[:, premium_list] = df_target.loc[:, premium_list].applymap(lambda x: x.replace('$', ''))\n",
    "    df_target.loc[:, premium_list] = df_target.loc[:, premium_list].applymap(lambda x: x.replace(',', ''))\n",
    "    df_target[premium_list] = df_target[premium_list].apply(pd.to_numeric)\n",
    "\n",
    "    statemetal_df = df_target.groupby(['State Code', 'Metal Level']).size().to_frame('count').reset_index()\n",
    "\n",
    "    # display(result_df)\n",
    "    statemetal_dict[yr] = statemetal_df.to_dict('index')\n",
    "    break\n",
    "statemedal_df"
   ]
  },
  {
   "cell_type": "code",
   "execution_count": 13,
   "metadata": {},
   "outputs": [
    {
     "output_type": "execute_result",
     "data": {
      "text/plain": [
       "             Metal Level  opt_count\n",
       "State Code                         \n",
       "AK                Bronze         58\n",
       "AK                  Gold         29\n",
       "AK                Silver         58\n",
       "AL                Bronze        134\n",
       "AL          Catastrophic         67\n",
       "...                  ...        ...\n",
       "WV                Silver        293\n",
       "WY                Bronze        184\n",
       "WY          Catastrophic         46\n",
       "WY                  Gold        184\n",
       "WY                Silver        276\n",
       "\n",
       "[165 rows x 2 columns]"
      ],
      "text/html": "<div>\n<style scoped>\n    .dataframe tbody tr th:only-of-type {\n        vertical-align: middle;\n    }\n\n    .dataframe tbody tr th {\n        vertical-align: top;\n    }\n\n    .dataframe thead th {\n        text-align: right;\n    }\n</style>\n<table border=\"1\" class=\"dataframe\">\n  <thead>\n    <tr style=\"text-align: right;\">\n      <th></th>\n      <th>Metal Level</th>\n      <th>opt_count</th>\n    </tr>\n    <tr>\n      <th>State Code</th>\n      <th></th>\n      <th></th>\n    </tr>\n  </thead>\n  <tbody>\n    <tr>\n      <th>AK</th>\n      <td>Bronze</td>\n      <td>58</td>\n    </tr>\n    <tr>\n      <th>AK</th>\n      <td>Gold</td>\n      <td>29</td>\n    </tr>\n    <tr>\n      <th>AK</th>\n      <td>Silver</td>\n      <td>58</td>\n    </tr>\n    <tr>\n      <th>AL</th>\n      <td>Bronze</td>\n      <td>134</td>\n    </tr>\n    <tr>\n      <th>AL</th>\n      <td>Catastrophic</td>\n      <td>67</td>\n    </tr>\n    <tr>\n      <th>...</th>\n      <td>...</td>\n      <td>...</td>\n    </tr>\n    <tr>\n      <th>WV</th>\n      <td>Silver</td>\n      <td>293</td>\n    </tr>\n    <tr>\n      <th>WY</th>\n      <td>Bronze</td>\n      <td>184</td>\n    </tr>\n    <tr>\n      <th>WY</th>\n      <td>Catastrophic</td>\n      <td>46</td>\n    </tr>\n    <tr>\n      <th>WY</th>\n      <td>Gold</td>\n      <td>184</td>\n    </tr>\n    <tr>\n      <th>WY</th>\n      <td>Silver</td>\n      <td>276</td>\n    </tr>\n  </tbody>\n</table>\n<p>165 rows × 2 columns</p>\n</div>"
     },
     "metadata": {},
     "execution_count": 13
    }
   ],
   "source": [
    "statemedal_df"
   ]
  },
  {
   "cell_type": "code",
   "execution_count": 223,
   "metadata": {},
   "outputs": [
    {
     "output_type": "execute_result",
     "data": {
      "text/plain": [
       "      State Code  ...  Individual+3 or more children, Age 50\n",
       "0             AK  ...                                1990.00\n",
       "1             AK  ...                                2214.00\n",
       "2             AK  ...                                1478.00\n",
       "3             AK  ...                                2209.00\n",
       "4             AK  ...                                1445.00\n",
       "...          ...  ...                                    ...\n",
       "75223         WY  ...                                1676.34\n",
       "75224         WY  ...                                2264.44\n",
       "75225         WY  ...                                2531.61\n",
       "75226         WY  ...                                1806.04\n",
       "75227         WY  ...                                1888.15\n",
       "\n",
       "[75228 rows x 23 columns]"
      ],
      "text/html": "<div>\n<style scoped>\n    .dataframe tbody tr th:only-of-type {\n        vertical-align: middle;\n    }\n\n    .dataframe tbody tr th {\n        vertical-align: top;\n    }\n\n    .dataframe thead th {\n        text-align: right;\n    }\n</style>\n<table border=\"1\" class=\"dataframe\">\n  <thead>\n    <tr style=\"text-align: right;\">\n      <th></th>\n      <th>State Code</th>\n      <th>FIPS County Code</th>\n      <th>County Name</th>\n      <th>Metal Level</th>\n      <th>Issuer Name</th>\n      <th>Premium Adult Individual Age 21</th>\n      <th>Premium Adult Individual Age 27</th>\n      <th>Premium Adult Individual Age 30</th>\n      <th>Premium Adult Individual Age 40</th>\n      <th>Premium Adult Individual Age 50</th>\n      <th>Premium Adult Individual Age 60</th>\n      <th>Individual+1 child, Age 21</th>\n      <th>Individual+1 child, Age 30</th>\n      <th>Individual+1 child, Age 40</th>\n      <th>Individual+1 child, Age 50</th>\n      <th>Individual+2 children, Age 21</th>\n      <th>Individual+2 children, Age 30</th>\n      <th>Individual+2 children, Age 40</th>\n      <th>Individual+2 children, Age 50</th>\n      <th>Individual+3 or more children, Age 21</th>\n      <th>Individual+3 or more children, Age 30</th>\n      <th>Individual+3 or more children, Age 40</th>\n      <th>Individual+3 or more children, Age 50</th>\n    </tr>\n  </thead>\n  <tbody>\n    <tr>\n      <th>0</th>\n      <td>AK</td>\n      <td>2013</td>\n      <td>Aleutians East</td>\n      <td>Gold</td>\n      <td>Premera Blue Cross Blue Shield of Alaska</td>\n      <td>488.00</td>\n      <td>511.00</td>\n      <td>554.00</td>\n      <td>623.00</td>\n      <td>871.00</td>\n      <td>1324.00</td>\n      <td>861.00</td>\n      <td>927.00</td>\n      <td>996.00</td>\n      <td>1244.00</td>\n      <td>1234.00</td>\n      <td>1300.00</td>\n      <td>1369.00</td>\n      <td>1617.00</td>\n      <td>1607.00</td>\n      <td>1673.00</td>\n      <td>1742.00</td>\n      <td>1990.00</td>\n    </tr>\n    <tr>\n      <th>1</th>\n      <td>AK</td>\n      <td>2013</td>\n      <td>Aleutians East</td>\n      <td>Silver</td>\n      <td>Premera Blue Cross Blue Shield of Alaska</td>\n      <td>543.00</td>\n      <td>569.00</td>\n      <td>616.00</td>\n      <td>693.00</td>\n      <td>969.00</td>\n      <td>1473.00</td>\n      <td>958.00</td>\n      <td>1031.00</td>\n      <td>1108.00</td>\n      <td>1384.00</td>\n      <td>1373.00</td>\n      <td>1446.00</td>\n      <td>1523.00</td>\n      <td>1799.00</td>\n      <td>1788.00</td>\n      <td>1861.00</td>\n      <td>1938.00</td>\n      <td>2214.00</td>\n    </tr>\n    <tr>\n      <th>2</th>\n      <td>AK</td>\n      <td>2013</td>\n      <td>Aleutians East</td>\n      <td>Expanded Bronze</td>\n      <td>Premera Blue Cross Blue Shield of Alaska</td>\n      <td>362.00</td>\n      <td>379.00</td>\n      <td>411.00</td>\n      <td>463.00</td>\n      <td>647.00</td>\n      <td>983.00</td>\n      <td>639.00</td>\n      <td>688.00</td>\n      <td>740.00</td>\n      <td>924.00</td>\n      <td>916.00</td>\n      <td>965.00</td>\n      <td>1017.00</td>\n      <td>1201.00</td>\n      <td>1193.00</td>\n      <td>1242.00</td>\n      <td>1294.00</td>\n      <td>1478.00</td>\n    </tr>\n    <tr>\n      <th>3</th>\n      <td>AK</td>\n      <td>2013</td>\n      <td>Aleutians East</td>\n      <td>Silver</td>\n      <td>Premera Blue Cross Blue Shield of Alaska</td>\n      <td>541.00</td>\n      <td>567.00</td>\n      <td>614.00</td>\n      <td>692.00</td>\n      <td>967.00</td>\n      <td>1469.00</td>\n      <td>955.00</td>\n      <td>1028.00</td>\n      <td>1106.00</td>\n      <td>1381.00</td>\n      <td>1369.00</td>\n      <td>1442.00</td>\n      <td>1520.00</td>\n      <td>1795.00</td>\n      <td>1783.00</td>\n      <td>1856.00</td>\n      <td>1934.00</td>\n      <td>2209.00</td>\n    </tr>\n    <tr>\n      <th>4</th>\n      <td>AK</td>\n      <td>2013</td>\n      <td>Aleutians East</td>\n      <td>Expanded Bronze</td>\n      <td>Premera Blue Cross Blue Shield of Alaska</td>\n      <td>354.00</td>\n      <td>371.00</td>\n      <td>402.00</td>\n      <td>453.00</td>\n      <td>632.00</td>\n      <td>961.00</td>\n      <td>625.00</td>\n      <td>673.00</td>\n      <td>724.00</td>\n      <td>903.00</td>\n      <td>896.00</td>\n      <td>944.00</td>\n      <td>995.00</td>\n      <td>1174.00</td>\n      <td>1167.00</td>\n      <td>1215.00</td>\n      <td>1266.00</td>\n      <td>1445.00</td>\n    </tr>\n    <tr>\n      <th>...</th>\n      <td>...</td>\n      <td>...</td>\n      <td>...</td>\n      <td>...</td>\n      <td>...</td>\n      <td>...</td>\n      <td>...</td>\n      <td>...</td>\n      <td>...</td>\n      <td>...</td>\n      <td>...</td>\n      <td>...</td>\n      <td>...</td>\n      <td>...</td>\n      <td>...</td>\n      <td>...</td>\n      <td>...</td>\n      <td>...</td>\n      <td>...</td>\n      <td>...</td>\n      <td>...</td>\n      <td>...</td>\n      <td>...</td>\n    </tr>\n    <tr>\n      <th>75223</th>\n      <td>WY</td>\n      <td>56045</td>\n      <td>Weston</td>\n      <td>Bronze</td>\n      <td>Blue Cross Blue Shield of Wyoming</td>\n      <td>410.76</td>\n      <td>430.48</td>\n      <td>466.22</td>\n      <td>524.95</td>\n      <td>733.62</td>\n      <td>1114.80</td>\n      <td>725.00</td>\n      <td>780.46</td>\n      <td>839.19</td>\n      <td>1047.86</td>\n      <td>1039.24</td>\n      <td>1094.70</td>\n      <td>1153.43</td>\n      <td>1362.10</td>\n      <td>1353.48</td>\n      <td>1408.94</td>\n      <td>1467.67</td>\n      <td>1676.34</td>\n    </tr>\n    <tr>\n      <th>75224</th>\n      <td>WY</td>\n      <td>56045</td>\n      <td>Weston</td>\n      <td>Gold</td>\n      <td>Mountain Health CO-OP</td>\n      <td>554.87</td>\n      <td>581.50</td>\n      <td>629.78</td>\n      <td>709.12</td>\n      <td>991.00</td>\n      <td>1505.92</td>\n      <td>979.35</td>\n      <td>1054.26</td>\n      <td>1133.60</td>\n      <td>1415.48</td>\n      <td>1403.83</td>\n      <td>1478.74</td>\n      <td>1558.08</td>\n      <td>1839.96</td>\n      <td>1828.31</td>\n      <td>1903.22</td>\n      <td>1982.56</td>\n      <td>2264.44</td>\n    </tr>\n    <tr>\n      <th>75225</th>\n      <td>WY</td>\n      <td>56045</td>\n      <td>Weston</td>\n      <td>Silver</td>\n      <td>Mountain Health CO-OP</td>\n      <td>620.34</td>\n      <td>650.12</td>\n      <td>704.09</td>\n      <td>792.80</td>\n      <td>1107.93</td>\n      <td>1683.60</td>\n      <td>1094.90</td>\n      <td>1178.65</td>\n      <td>1267.36</td>\n      <td>1582.49</td>\n      <td>1569.46</td>\n      <td>1653.21</td>\n      <td>1741.92</td>\n      <td>2057.05</td>\n      <td>2044.02</td>\n      <td>2127.77</td>\n      <td>2216.48</td>\n      <td>2531.61</td>\n    </tr>\n    <tr>\n      <th>75226</th>\n      <td>WY</td>\n      <td>56045</td>\n      <td>Weston</td>\n      <td>Expanded Bronze</td>\n      <td>Mountain Health CO-OP</td>\n      <td>442.55</td>\n      <td>463.79</td>\n      <td>502.29</td>\n      <td>565.57</td>\n      <td>790.39</td>\n      <td>1201.07</td>\n      <td>781.10</td>\n      <td>840.84</td>\n      <td>904.12</td>\n      <td>1128.94</td>\n      <td>1119.65</td>\n      <td>1179.39</td>\n      <td>1242.67</td>\n      <td>1467.49</td>\n      <td>1458.20</td>\n      <td>1517.94</td>\n      <td>1581.22</td>\n      <td>1806.04</td>\n    </tr>\n    <tr>\n      <th>75227</th>\n      <td>WY</td>\n      <td>56045</td>\n      <td>Weston</td>\n      <td>Expanded Bronze</td>\n      <td>Mountain Health CO-OP</td>\n      <td>462.67</td>\n      <td>484.88</td>\n      <td>525.13</td>\n      <td>591.29</td>\n      <td>826.33</td>\n      <td>1255.69</td>\n      <td>816.61</td>\n      <td>879.07</td>\n      <td>945.23</td>\n      <td>1180.27</td>\n      <td>1170.55</td>\n      <td>1233.01</td>\n      <td>1299.17</td>\n      <td>1534.21</td>\n      <td>1524.49</td>\n      <td>1586.95</td>\n      <td>1653.11</td>\n      <td>1888.15</td>\n    </tr>\n  </tbody>\n</table>\n<p>75228 rows × 23 columns</p>\n</div>"
     },
     "metadata": {},
     "execution_count": 223
    }
   ],
   "source": [
    "df_target"
   ]
  },
  {
   "cell_type": "code",
   "execution_count": 228,
   "metadata": {},
   "outputs": [
    {
     "output_type": "execute_result",
     "data": {
      "text/plain": [
       "                 Premium Adult Individual Age 21  ...  Individual+3 or more children, Age 50\n",
       "Metal Level                                       ...                                       \n",
       "Bronze                                       305  ...                                   1241\n",
       "Catastrophic                                 249  ...                                   1016\n",
       "Expanded Bronze                              329  ...                                   1341\n",
       "Gold                                         463  ...                                   1882\n",
       "Platinum                                     589  ...                                   2404\n",
       "Silver                                       410  ...                                   1670\n",
       "\n",
       "[6 rows x 18 columns]"
      ],
      "text/html": "<div>\n<style scoped>\n    .dataframe tbody tr th:only-of-type {\n        vertical-align: middle;\n    }\n\n    .dataframe tbody tr th {\n        vertical-align: top;\n    }\n\n    .dataframe thead th {\n        text-align: right;\n    }\n</style>\n<table border=\"1\" class=\"dataframe\">\n  <thead>\n    <tr style=\"text-align: right;\">\n      <th></th>\n      <th>Premium Adult Individual Age 21</th>\n      <th>Premium Adult Individual Age 27</th>\n      <th>Premium Adult Individual Age 30</th>\n      <th>Premium Adult Individual Age 40</th>\n      <th>Premium Adult Individual Age 50</th>\n      <th>Premium Adult Individual Age 60</th>\n      <th>Individual+1 child, Age 21</th>\n      <th>Individual+1 child, Age 30</th>\n      <th>Individual+1 child, Age 40</th>\n      <th>Individual+1 child, Age 50</th>\n      <th>Individual+2 children, Age 21</th>\n      <th>Individual+2 children, Age 30</th>\n      <th>Individual+2 children, Age 40</th>\n      <th>Individual+2 children, Age 50</th>\n      <th>Individual+3 or more children, Age 21</th>\n      <th>Individual+3 or more children, Age 30</th>\n      <th>Individual+3 or more children, Age 40</th>\n      <th>Individual+3 or more children, Age 50</th>\n    </tr>\n    <tr>\n      <th>Metal Level</th>\n      <th></th>\n      <th></th>\n      <th></th>\n      <th></th>\n      <th></th>\n      <th></th>\n      <th></th>\n      <th></th>\n      <th></th>\n      <th></th>\n      <th></th>\n      <th></th>\n      <th></th>\n      <th></th>\n      <th></th>\n      <th></th>\n      <th></th>\n      <th></th>\n    </tr>\n  </thead>\n  <tbody>\n    <tr>\n      <th>Bronze</th>\n      <td>305</td>\n      <td>320</td>\n      <td>347</td>\n      <td>390</td>\n      <td>546</td>\n      <td>829</td>\n      <td>536</td>\n      <td>578</td>\n      <td>622</td>\n      <td>777</td>\n      <td>768</td>\n      <td>810</td>\n      <td>854</td>\n      <td>1009</td>\n      <td>1000</td>\n      <td>1042</td>\n      <td>1085</td>\n      <td>1241</td>\n    </tr>\n    <tr>\n      <th>Catastrophic</th>\n      <td>249</td>\n      <td>262</td>\n      <td>283</td>\n      <td>319</td>\n      <td>446</td>\n      <td>677</td>\n      <td>439</td>\n      <td>473</td>\n      <td>509</td>\n      <td>636</td>\n      <td>629</td>\n      <td>663</td>\n      <td>699</td>\n      <td>826</td>\n      <td>819</td>\n      <td>853</td>\n      <td>889</td>\n      <td>1016</td>\n    </tr>\n    <tr>\n      <th>Expanded Bronze</th>\n      <td>329</td>\n      <td>347</td>\n      <td>375</td>\n      <td>422</td>\n      <td>591</td>\n      <td>896</td>\n      <td>579</td>\n      <td>626</td>\n      <td>672</td>\n      <td>841</td>\n      <td>830</td>\n      <td>876</td>\n      <td>923</td>\n      <td>1091</td>\n      <td>1080</td>\n      <td>1126</td>\n      <td>1173</td>\n      <td>1341</td>\n    </tr>\n    <tr>\n      <th>Gold</th>\n      <td>463</td>\n      <td>487</td>\n      <td>527</td>\n      <td>593</td>\n      <td>829</td>\n      <td>1259</td>\n      <td>814</td>\n      <td>878</td>\n      <td>944</td>\n      <td>1180</td>\n      <td>1165</td>\n      <td>1229</td>\n      <td>1295</td>\n      <td>1531</td>\n      <td>1516</td>\n      <td>1580</td>\n      <td>1646</td>\n      <td>1882</td>\n    </tr>\n    <tr>\n      <th>Platinum</th>\n      <td>589</td>\n      <td>617</td>\n      <td>668</td>\n      <td>752</td>\n      <td>1052</td>\n      <td>1598</td>\n      <td>1039</td>\n      <td>1119</td>\n      <td>1203</td>\n      <td>1502</td>\n      <td>1490</td>\n      <td>1570</td>\n      <td>1654</td>\n      <td>1953</td>\n      <td>1941</td>\n      <td>2020</td>\n      <td>2105</td>\n      <td>2404</td>\n    </tr>\n    <tr>\n      <th>Silver</th>\n      <td>410</td>\n      <td>431</td>\n      <td>466</td>\n      <td>525</td>\n      <td>734</td>\n      <td>1114</td>\n      <td>722</td>\n      <td>778</td>\n      <td>837</td>\n      <td>1046</td>\n      <td>1034</td>\n      <td>1091</td>\n      <td>1149</td>\n      <td>1358</td>\n      <td>1346</td>\n      <td>1403</td>\n      <td>1461</td>\n      <td>1670</td>\n    </tr>\n  </tbody>\n</table>\n</div>"
     },
     "metadata": {},
     "execution_count": 228
    }
   ],
   "source": [
    "'''\n",
    "View by Tier Type Price\n",
    "'''\n",
    "df_target.groupby(['Metal Level']).mean()[premium_list].astype(int)\n",
    "# df_target[premium_list].sum(axis=1)"
   ]
  },
  {
   "source": [
    "<h1> Jupyter Dash"
   ],
   "cell_type": "markdown",
   "metadata": {}
  },
  {
   "cell_type": "code",
   "execution_count": 24,
   "metadata": {},
   "outputs": [
    {
     "output_type": "stream",
     "name": "stderr",
     "text": [
      "127.0.0.1 - - [17/Apr/2021 20:58:36] \"\u001b[37mGET /_shutdown_e6179ab9-3c8d-4e8b-9fcf-22f7e31804dd HTTP/1.1\u001b[0m\" 200 -\n",
      " * Running on http://localhost:8050/ (Press CTRL+C to quit)\n",
      "127.0.0.1 - - [17/Apr/2021 20:58:38] \"\u001b[37mGET /_alive_e6179ab9-3c8d-4e8b-9fcf-22f7e31804dd HTTP/1.1\u001b[0m\" 200 -\n"
     ]
    },
    {
     "output_type": "display_data",
     "data": {
      "text/plain": "<IPython.lib.display.IFrame at 0x1daf91a9370>",
      "text/html": "\n        <iframe\n            width=\"100%\"\n            height=\"650\"\n            src=\"http://localhost:8050/\"\n            frameborder=\"0\"\n            allowfullscreen\n        ></iframe>\n        "
     },
     "metadata": {}
    }
   ],
   "source": [
    "import plotly.express as px\n",
    "from jupyter_dash import JupyterDash\n",
    "import dash_core_components as dcc\n",
    "import dash_html_components as html\n",
    "from dash.dependencies import Input, Output\n",
    "from pyngrok import ngrok\n",
    "\n",
    "# Load Data\n",
    "df = px.data.tips()\n",
    "long_df = px.data.medals_long()\n",
    "\n",
    "# Build App\n",
    "app = JupyterDash(__name__)\n",
    "\n",
    "app.layout = html.Div([\n",
    "    html.H1(\"JupyterDash Demo\"),\n",
    "    dcc.Graph(id='graph'),\n",
    "    html.Label([\n",
    "        \"colorscale\",\n",
    "        dcc.Dropdown(\n",
    "            id='colorscale-dropdown', clearable=False,\n",
    "            value='oryel', options=[\n",
    "                {'label': c, 'value': c}\n",
    "                for c in px.colors.named_colorscales()\n",
    "            ])\n",
    "    ]),\n",
    "])\n",
    "# Define callback to update graph\n",
    "@app.callback(\n",
    "    Output('graph', 'figure'),\n",
    "    [Input(\"colorscale-dropdown\", \"value\")]\n",
    ")\n",
    "def update_figure(colorscale):\n",
    "    colors = tier_color_map(statemedal_df['Metal Level'].values)\n",
    "    # return px.scatter(\n",
    "    #     df, x=\"total_bill\", y=\"tip\", color=\"size\",\n",
    "    #     color_continuous_scale=colorscale,\n",
    "    #     render_mode=\"webgl\", title=\"Tips\"\n",
    "    # )\n",
    "    fig = px.bar(statemetal_df, x=\"State Code\", y=\"count\", color=\"Metal Level\", title=\"Metal Plan Tier Count by State\")\n",
    "    fig.update_traces(marker_color=colors)\n",
    "    return fig\n",
    "# Run app and display result inline in the notebook\n",
    "app.run_server(mode='inline', host='localhost', port = 8050, debug=False)"
   ]
  },
  {
   "cell_type": "code",
   "execution_count": 5,
   "metadata": {},
   "outputs": [
    {
     "output_type": "execute_result",
     "data": {
      "text/plain": [
       "        nation   medal  count\n",
       "0  South Korea    gold     24\n",
       "1        China    gold     10\n",
       "2       Canada    gold      9\n",
       "3  South Korea  silver     13\n",
       "4        China  silver     15\n",
       "5       Canada  silver     12\n",
       "6  South Korea  bronze     11\n",
       "7        China  bronze      8\n",
       "8       Canada  bronze     12"
      ],
      "text/html": "<div>\n<style scoped>\n    .dataframe tbody tr th:only-of-type {\n        vertical-align: middle;\n    }\n\n    .dataframe tbody tr th {\n        vertical-align: top;\n    }\n\n    .dataframe thead th {\n        text-align: right;\n    }\n</style>\n<table border=\"1\" class=\"dataframe\">\n  <thead>\n    <tr style=\"text-align: right;\">\n      <th></th>\n      <th>nation</th>\n      <th>medal</th>\n      <th>count</th>\n    </tr>\n  </thead>\n  <tbody>\n    <tr>\n      <th>0</th>\n      <td>South Korea</td>\n      <td>gold</td>\n      <td>24</td>\n    </tr>\n    <tr>\n      <th>1</th>\n      <td>China</td>\n      <td>gold</td>\n      <td>10</td>\n    </tr>\n    <tr>\n      <th>2</th>\n      <td>Canada</td>\n      <td>gold</td>\n      <td>9</td>\n    </tr>\n    <tr>\n      <th>3</th>\n      <td>South Korea</td>\n      <td>silver</td>\n      <td>13</td>\n    </tr>\n    <tr>\n      <th>4</th>\n      <td>China</td>\n      <td>silver</td>\n      <td>15</td>\n    </tr>\n    <tr>\n      <th>5</th>\n      <td>Canada</td>\n      <td>silver</td>\n      <td>12</td>\n    </tr>\n    <tr>\n      <th>6</th>\n      <td>South Korea</td>\n      <td>bronze</td>\n      <td>11</td>\n    </tr>\n    <tr>\n      <th>7</th>\n      <td>China</td>\n      <td>bronze</td>\n      <td>8</td>\n    </tr>\n    <tr>\n      <th>8</th>\n      <td>Canada</td>\n      <td>bronze</td>\n      <td>12</td>\n    </tr>\n  </tbody>\n</table>\n</div>"
     },
     "metadata": {},
     "execution_count": 5
    }
   ],
   "source": [
    "long_df"
   ]
  },
  {
   "cell_type": "code",
   "execution_count": 37,
   "metadata": {},
   "outputs": [],
   "source": [
    "def tier_color_map(tier_list):\n",
    "    colors = []\n",
    "    for val in statemedal_df['Metal Level'].values.tolist():\n",
    "        if val == 'Bronze':\n",
    "            colors.append('peru')\n",
    "        elif val == 'Catastrophic': \n",
    "            colors.append('red')\n",
    "        elif val == 'Platinum': \n",
    "            colors.append('green')\n",
    "        else:\n",
    "            colors.append(val.lower())\n",
    "    return colors\n"
   ]
  },
  {
   "cell_type": "code",
   "execution_count": 27,
   "metadata": {},
   "outputs": [
    {
     "output_type": "execute_result",
     "data": {
      "text/plain": [
       "'a'"
      ]
     },
     "metadata": {},
     "execution_count": 27
    }
   ],
   "source": [
    "'A'.lower()"
   ]
  },
  {
   "cell_type": "code",
   "execution_count": 44,
   "metadata": {},
   "outputs": [
    {
     "output_type": "display_data",
     "data": {
      "application/vnd.plotly.v1+json": {
       "config": {
        "plotlyServerURL": "https://plot.ly"
       },
       "data": [
        {
         "alignmentgroup": "True",
         "hovertemplate": "Metal Level=Bronze<br>State Code=%{x}<br>count=%{y}<extra></extra>",
         "legendgroup": "Bronze",
         "marker": {
          "color": "peru"
         },
         "name": "Bronze",
         "offsetgroup": "Bronze",
         "orientation": "v",
         "showlegend": true,
         "textposition": "auto",
         "type": "bar",
         "x": [
          "AK",
          "AL",
          "AR",
          "AZ",
          "DE",
          "FL",
          "GA",
          "HI",
          "IA",
          "IL",
          "IN",
          "KS",
          "KY",
          "LA",
          "ME",
          "MI",
          "MO",
          "MS",
          "MT",
          "NC",
          "ND",
          "NE",
          "NH",
          "NJ",
          "NM",
          "NV",
          "OH",
          "OK",
          "OR",
          "PA",
          "SC",
          "SD",
          "TN",
          "TX",
          "UT",
          "VA",
          "WI",
          "WV",
          "WY"
         ],
         "xaxis": "x",
         "y": [
          58,
          134,
          450,
          27,
          18,
          709,
          1093,
          20,
          371,
          944,
          1394,
          426,
          450,
          405,
          144,
          1146,
          505,
          306,
          565,
          286,
          336,
          283,
          118,
          110,
          236,
          156,
          1081,
          470,
          265,
          82,
          230,
          336,
          161,
          1631,
          146,
          1409,
          961,
          151,
          184
         ],
         "yaxis": "y"
        },
        {
         "alignmentgroup": "True",
         "hovertemplate": "Metal Level=Gold<br>State Code=%{x}<br>count=%{y}<extra></extra>",
         "legendgroup": "Gold",
         "marker": {
          "color": "gold"
         },
         "name": "Gold",
         "offsetgroup": "Gold",
         "orientation": "v",
         "showlegend": true,
         "textposition": "auto",
         "type": "bar",
         "x": [
          "AK",
          "AL",
          "AR",
          "AZ",
          "DE",
          "FL",
          "GA",
          "HI",
          "IA",
          "IL",
          "IN",
          "KS",
          "KY",
          "LA",
          "ME",
          "MI",
          "MO",
          "MS",
          "MT",
          "NC",
          "ND",
          "NE",
          "NH",
          "NJ",
          "NM",
          "NV",
          "OH",
          "OK",
          "OR",
          "PA",
          "SC",
          "SD",
          "TN",
          "TX",
          "UT",
          "VA",
          "WI",
          "WV",
          "WY"
         ],
         "xaxis": "x",
         "y": [
          29,
          134,
          432,
          15,
          12,
          356,
          340,
          24,
          27,
          228,
          502,
          317,
          304,
          201,
          74,
          421,
          102,
          86,
          342,
          222,
          273,
          4,
          59,
          110,
          170,
          42,
          373,
          131,
          179,
          183,
          230,
          198,
          96,
          979,
          56,
          469,
          542,
          206,
          184
         ],
         "yaxis": "y"
        },
        {
         "alignmentgroup": "True",
         "hovertemplate": "Metal Level=Silver<br>State Code=%{x}<br>count=%{y}<extra></extra>",
         "legendgroup": "Silver",
         "marker": {
          "color": "silver"
         },
         "name": "Silver",
         "offsetgroup": "Silver",
         "orientation": "v",
         "showlegend": true,
         "textposition": "auto",
         "type": "bar",
         "x": [
          "AK",
          "AL",
          "AR",
          "AZ",
          "DE",
          "FL",
          "GA",
          "HI",
          "IA",
          "IL",
          "IN",
          "KS",
          "KY",
          "LA",
          "ME",
          "MI",
          "MO",
          "MS",
          "MT",
          "NC",
          "ND",
          "NE",
          "NH",
          "NJ",
          "NM",
          "NV",
          "OH",
          "OK",
          "OR",
          "PA",
          "SC",
          "SD",
          "TN",
          "TX",
          "UT",
          "VA",
          "WI",
          "WV",
          "WY"
         ],
         "xaxis": "x",
         "y": [
          58,
          134,
          864,
          16,
          27,
          929,
          1507,
          28,
          711,
          1185,
          1642,
          424,
          585,
          419,
          206,
          1840,
          860,
          1098,
          405,
          365,
          336,
          574,
          118,
          172,
          241,
          174,
          1537,
          316,
          256,
          355,
          690,
          534,
          243,
          1924,
          162,
          1424,
          1591,
          293,
          276
         ],
         "yaxis": "y"
        },
        {
         "alignmentgroup": "True",
         "hovertemplate": "Metal Level=Catastrophic<br>State Code=%{x}<br>count=%{y}<extra></extra>",
         "legendgroup": "Catastrophic",
         "marker": {
          "color": "red"
         },
         "name": "Catastrophic",
         "offsetgroup": "Catastrophic",
         "orientation": "v",
         "showlegend": true,
         "textposition": "auto",
         "type": "bar",
         "x": [
          "AL",
          "AR",
          "AZ",
          "DE",
          "FL",
          "GA",
          "HI",
          "IA",
          "IL",
          "IN",
          "KS",
          "KY",
          "LA",
          "ME",
          "MI",
          "MO",
          "MS",
          "MT",
          "NC",
          "ND",
          "NE",
          "NH",
          "NJ",
          "NM",
          "NV",
          "OH",
          "OK",
          "OR",
          "PA",
          "SC",
          "SD",
          "TN",
          "TX",
          "UT",
          "VA",
          "WI",
          "WV",
          "WY"
         ],
         "xaxis": "x",
         "y": [
          67,
          150,
          14,
          3,
          23,
          188,
          4,
          207,
          215,
          92,
          105,
          116,
          8,
          32,
          190,
          90,
          32,
          112,
          117,
          163,
          190,
          20,
          62,
          104,
          35,
          122,
          77,
          16,
          99,
          46,
          132,
          30,
          290,
          33,
          261,
          233,
          55,
          46
         ],
         "yaxis": "y"
        },
        {
         "alignmentgroup": "True",
         "hovertemplate": "Metal Level=Platinum<br>State Code=%{x}<br>count=%{y}<extra></extra>",
         "legendgroup": "Platinum",
         "marker": {
          "color": "dodgerblue"
         },
         "name": "Platinum",
         "offsetgroup": "Platinum",
         "orientation": "v",
         "showlegend": true,
         "textposition": "auto",
         "type": "bar",
         "x": [
          "FL",
          "GA",
          "HI",
          "IA",
          "LA",
          "MI",
          "NH",
          "PA",
          "VA",
          "WI"
         ],
         "xaxis": "x",
         "y": [
          400,
          64,
          16,
          10,
          64,
          67,
          20,
          63,
          20,
          110
         ],
         "yaxis": "y"
        }
       ],
       "layout": {
        "barmode": "relative",
        "legend": {
         "title": {
          "text": "Metal Level"
         },
         "tracegroupgap": 0
        },
        "template": {
         "data": {
          "bar": [
           {
            "error_x": {
             "color": "#2a3f5f"
            },
            "error_y": {
             "color": "#2a3f5f"
            },
            "marker": {
             "line": {
              "color": "#E5ECF6",
              "width": 0.5
             }
            },
            "type": "bar"
           }
          ],
          "barpolar": [
           {
            "marker": {
             "line": {
              "color": "#E5ECF6",
              "width": 0.5
             }
            },
            "type": "barpolar"
           }
          ],
          "carpet": [
           {
            "aaxis": {
             "endlinecolor": "#2a3f5f",
             "gridcolor": "white",
             "linecolor": "white",
             "minorgridcolor": "white",
             "startlinecolor": "#2a3f5f"
            },
            "baxis": {
             "endlinecolor": "#2a3f5f",
             "gridcolor": "white",
             "linecolor": "white",
             "minorgridcolor": "white",
             "startlinecolor": "#2a3f5f"
            },
            "type": "carpet"
           }
          ],
          "choropleth": [
           {
            "colorbar": {
             "outlinewidth": 0,
             "ticks": ""
            },
            "type": "choropleth"
           }
          ],
          "contour": [
           {
            "colorbar": {
             "outlinewidth": 0,
             "ticks": ""
            },
            "colorscale": [
             [
              0,
              "#0d0887"
             ],
             [
              0.1111111111111111,
              "#46039f"
             ],
             [
              0.2222222222222222,
              "#7201a8"
             ],
             [
              0.3333333333333333,
              "#9c179e"
             ],
             [
              0.4444444444444444,
              "#bd3786"
             ],
             [
              0.5555555555555556,
              "#d8576b"
             ],
             [
              0.6666666666666666,
              "#ed7953"
             ],
             [
              0.7777777777777778,
              "#fb9f3a"
             ],
             [
              0.8888888888888888,
              "#fdca26"
             ],
             [
              1,
              "#f0f921"
             ]
            ],
            "type": "contour"
           }
          ],
          "contourcarpet": [
           {
            "colorbar": {
             "outlinewidth": 0,
             "ticks": ""
            },
            "type": "contourcarpet"
           }
          ],
          "heatmap": [
           {
            "colorbar": {
             "outlinewidth": 0,
             "ticks": ""
            },
            "colorscale": [
             [
              0,
              "#0d0887"
             ],
             [
              0.1111111111111111,
              "#46039f"
             ],
             [
              0.2222222222222222,
              "#7201a8"
             ],
             [
              0.3333333333333333,
              "#9c179e"
             ],
             [
              0.4444444444444444,
              "#bd3786"
             ],
             [
              0.5555555555555556,
              "#d8576b"
             ],
             [
              0.6666666666666666,
              "#ed7953"
             ],
             [
              0.7777777777777778,
              "#fb9f3a"
             ],
             [
              0.8888888888888888,
              "#fdca26"
             ],
             [
              1,
              "#f0f921"
             ]
            ],
            "type": "heatmap"
           }
          ],
          "heatmapgl": [
           {
            "colorbar": {
             "outlinewidth": 0,
             "ticks": ""
            },
            "colorscale": [
             [
              0,
              "#0d0887"
             ],
             [
              0.1111111111111111,
              "#46039f"
             ],
             [
              0.2222222222222222,
              "#7201a8"
             ],
             [
              0.3333333333333333,
              "#9c179e"
             ],
             [
              0.4444444444444444,
              "#bd3786"
             ],
             [
              0.5555555555555556,
              "#d8576b"
             ],
             [
              0.6666666666666666,
              "#ed7953"
             ],
             [
              0.7777777777777778,
              "#fb9f3a"
             ],
             [
              0.8888888888888888,
              "#fdca26"
             ],
             [
              1,
              "#f0f921"
             ]
            ],
            "type": "heatmapgl"
           }
          ],
          "histogram": [
           {
            "marker": {
             "colorbar": {
              "outlinewidth": 0,
              "ticks": ""
             }
            },
            "type": "histogram"
           }
          ],
          "histogram2d": [
           {
            "colorbar": {
             "outlinewidth": 0,
             "ticks": ""
            },
            "colorscale": [
             [
              0,
              "#0d0887"
             ],
             [
              0.1111111111111111,
              "#46039f"
             ],
             [
              0.2222222222222222,
              "#7201a8"
             ],
             [
              0.3333333333333333,
              "#9c179e"
             ],
             [
              0.4444444444444444,
              "#bd3786"
             ],
             [
              0.5555555555555556,
              "#d8576b"
             ],
             [
              0.6666666666666666,
              "#ed7953"
             ],
             [
              0.7777777777777778,
              "#fb9f3a"
             ],
             [
              0.8888888888888888,
              "#fdca26"
             ],
             [
              1,
              "#f0f921"
             ]
            ],
            "type": "histogram2d"
           }
          ],
          "histogram2dcontour": [
           {
            "colorbar": {
             "outlinewidth": 0,
             "ticks": ""
            },
            "colorscale": [
             [
              0,
              "#0d0887"
             ],
             [
              0.1111111111111111,
              "#46039f"
             ],
             [
              0.2222222222222222,
              "#7201a8"
             ],
             [
              0.3333333333333333,
              "#9c179e"
             ],
             [
              0.4444444444444444,
              "#bd3786"
             ],
             [
              0.5555555555555556,
              "#d8576b"
             ],
             [
              0.6666666666666666,
              "#ed7953"
             ],
             [
              0.7777777777777778,
              "#fb9f3a"
             ],
             [
              0.8888888888888888,
              "#fdca26"
             ],
             [
              1,
              "#f0f921"
             ]
            ],
            "type": "histogram2dcontour"
           }
          ],
          "mesh3d": [
           {
            "colorbar": {
             "outlinewidth": 0,
             "ticks": ""
            },
            "type": "mesh3d"
           }
          ],
          "parcoords": [
           {
            "line": {
             "colorbar": {
              "outlinewidth": 0,
              "ticks": ""
             }
            },
            "type": "parcoords"
           }
          ],
          "pie": [
           {
            "automargin": true,
            "type": "pie"
           }
          ],
          "scatter": [
           {
            "marker": {
             "colorbar": {
              "outlinewidth": 0,
              "ticks": ""
             }
            },
            "type": "scatter"
           }
          ],
          "scatter3d": [
           {
            "line": {
             "colorbar": {
              "outlinewidth": 0,
              "ticks": ""
             }
            },
            "marker": {
             "colorbar": {
              "outlinewidth": 0,
              "ticks": ""
             }
            },
            "type": "scatter3d"
           }
          ],
          "scattercarpet": [
           {
            "marker": {
             "colorbar": {
              "outlinewidth": 0,
              "ticks": ""
             }
            },
            "type": "scattercarpet"
           }
          ],
          "scattergeo": [
           {
            "marker": {
             "colorbar": {
              "outlinewidth": 0,
              "ticks": ""
             }
            },
            "type": "scattergeo"
           }
          ],
          "scattergl": [
           {
            "marker": {
             "colorbar": {
              "outlinewidth": 0,
              "ticks": ""
             }
            },
            "type": "scattergl"
           }
          ],
          "scattermapbox": [
           {
            "marker": {
             "colorbar": {
              "outlinewidth": 0,
              "ticks": ""
             }
            },
            "type": "scattermapbox"
           }
          ],
          "scatterpolar": [
           {
            "marker": {
             "colorbar": {
              "outlinewidth": 0,
              "ticks": ""
             }
            },
            "type": "scatterpolar"
           }
          ],
          "scatterpolargl": [
           {
            "marker": {
             "colorbar": {
              "outlinewidth": 0,
              "ticks": ""
             }
            },
            "type": "scatterpolargl"
           }
          ],
          "scatterternary": [
           {
            "marker": {
             "colorbar": {
              "outlinewidth": 0,
              "ticks": ""
             }
            },
            "type": "scatterternary"
           }
          ],
          "surface": [
           {
            "colorbar": {
             "outlinewidth": 0,
             "ticks": ""
            },
            "colorscale": [
             [
              0,
              "#0d0887"
             ],
             [
              0.1111111111111111,
              "#46039f"
             ],
             [
              0.2222222222222222,
              "#7201a8"
             ],
             [
              0.3333333333333333,
              "#9c179e"
             ],
             [
              0.4444444444444444,
              "#bd3786"
             ],
             [
              0.5555555555555556,
              "#d8576b"
             ],
             [
              0.6666666666666666,
              "#ed7953"
             ],
             [
              0.7777777777777778,
              "#fb9f3a"
             ],
             [
              0.8888888888888888,
              "#fdca26"
             ],
             [
              1,
              "#f0f921"
             ]
            ],
            "type": "surface"
           }
          ],
          "table": [
           {
            "cells": {
             "fill": {
              "color": "#EBF0F8"
             },
             "line": {
              "color": "white"
             }
            },
            "header": {
             "fill": {
              "color": "#C8D4E3"
             },
             "line": {
              "color": "white"
             }
            },
            "type": "table"
           }
          ]
         },
         "layout": {
          "annotationdefaults": {
           "arrowcolor": "#2a3f5f",
           "arrowhead": 0,
           "arrowwidth": 1
          },
          "autotypenumbers": "strict",
          "coloraxis": {
           "colorbar": {
            "outlinewidth": 0,
            "ticks": ""
           }
          },
          "colorscale": {
           "diverging": [
            [
             0,
             "#8e0152"
            ],
            [
             0.1,
             "#c51b7d"
            ],
            [
             0.2,
             "#de77ae"
            ],
            [
             0.3,
             "#f1b6da"
            ],
            [
             0.4,
             "#fde0ef"
            ],
            [
             0.5,
             "#f7f7f7"
            ],
            [
             0.6,
             "#e6f5d0"
            ],
            [
             0.7,
             "#b8e186"
            ],
            [
             0.8,
             "#7fbc41"
            ],
            [
             0.9,
             "#4d9221"
            ],
            [
             1,
             "#276419"
            ]
           ],
           "sequential": [
            [
             0,
             "#0d0887"
            ],
            [
             0.1111111111111111,
             "#46039f"
            ],
            [
             0.2222222222222222,
             "#7201a8"
            ],
            [
             0.3333333333333333,
             "#9c179e"
            ],
            [
             0.4444444444444444,
             "#bd3786"
            ],
            [
             0.5555555555555556,
             "#d8576b"
            ],
            [
             0.6666666666666666,
             "#ed7953"
            ],
            [
             0.7777777777777778,
             "#fb9f3a"
            ],
            [
             0.8888888888888888,
             "#fdca26"
            ],
            [
             1,
             "#f0f921"
            ]
           ],
           "sequentialminus": [
            [
             0,
             "#0d0887"
            ],
            [
             0.1111111111111111,
             "#46039f"
            ],
            [
             0.2222222222222222,
             "#7201a8"
            ],
            [
             0.3333333333333333,
             "#9c179e"
            ],
            [
             0.4444444444444444,
             "#bd3786"
            ],
            [
             0.5555555555555556,
             "#d8576b"
            ],
            [
             0.6666666666666666,
             "#ed7953"
            ],
            [
             0.7777777777777778,
             "#fb9f3a"
            ],
            [
             0.8888888888888888,
             "#fdca26"
            ],
            [
             1,
             "#f0f921"
            ]
           ]
          },
          "colorway": [
           "#636efa",
           "#EF553B",
           "#00cc96",
           "#ab63fa",
           "#FFA15A",
           "#19d3f3",
           "#FF6692",
           "#B6E880",
           "#FF97FF",
           "#FECB52"
          ],
          "font": {
           "color": "#2a3f5f"
          },
          "geo": {
           "bgcolor": "white",
           "lakecolor": "white",
           "landcolor": "#E5ECF6",
           "showlakes": true,
           "showland": true,
           "subunitcolor": "white"
          },
          "hoverlabel": {
           "align": "left"
          },
          "hovermode": "closest",
          "mapbox": {
           "style": "light"
          },
          "paper_bgcolor": "white",
          "plot_bgcolor": "#E5ECF6",
          "polar": {
           "angularaxis": {
            "gridcolor": "white",
            "linecolor": "white",
            "ticks": ""
           },
           "bgcolor": "#E5ECF6",
           "radialaxis": {
            "gridcolor": "white",
            "linecolor": "white",
            "ticks": ""
           }
          },
          "scene": {
           "xaxis": {
            "backgroundcolor": "#E5ECF6",
            "gridcolor": "white",
            "gridwidth": 2,
            "linecolor": "white",
            "showbackground": true,
            "ticks": "",
            "zerolinecolor": "white"
           },
           "yaxis": {
            "backgroundcolor": "#E5ECF6",
            "gridcolor": "white",
            "gridwidth": 2,
            "linecolor": "white",
            "showbackground": true,
            "ticks": "",
            "zerolinecolor": "white"
           },
           "zaxis": {
            "backgroundcolor": "#E5ECF6",
            "gridcolor": "white",
            "gridwidth": 2,
            "linecolor": "white",
            "showbackground": true,
            "ticks": "",
            "zerolinecolor": "white"
           }
          },
          "shapedefaults": {
           "line": {
            "color": "#2a3f5f"
           }
          },
          "ternary": {
           "aaxis": {
            "gridcolor": "white",
            "linecolor": "white",
            "ticks": ""
           },
           "baxis": {
            "gridcolor": "white",
            "linecolor": "white",
            "ticks": ""
           },
           "bgcolor": "#E5ECF6",
           "caxis": {
            "gridcolor": "white",
            "linecolor": "white",
            "ticks": ""
           }
          },
          "title": {
           "x": 0.05
          },
          "xaxis": {
           "automargin": true,
           "gridcolor": "white",
           "linecolor": "white",
           "ticks": "",
           "title": {
            "standoff": 15
           },
           "zerolinecolor": "white",
           "zerolinewidth": 2
          },
          "yaxis": {
           "automargin": true,
           "gridcolor": "white",
           "linecolor": "white",
           "ticks": "",
           "title": {
            "standoff": 15
           },
           "zerolinecolor": "white",
           "zerolinewidth": 2
          }
         }
        },
        "title": {
         "text": "Metal Plan Tier Count by State"
        },
        "xaxis": {
         "anchor": "y",
         "domain": [
          0,
          1
         ],
         "title": {
          "text": "State Code"
         }
        },
        "yaxis": {
         "anchor": "x",
         "domain": [
          0,
          1
         ],
         "title": {
          "text": "count"
         }
        }
       }
      }
     },
     "metadata": {}
    }
   ],
   "source": [
    "colors = tier_color_map(statemedal_df['Metal Level'].values)\n",
    "\n",
    "fig = px.bar(statemetal_df, x=\"State Code\", y=\"count\", color=\"Metal Level\", title=\"Metal Plan Tier Count by State\", color_discrete_map={\n",
    "        'Bronze': 'peru',\n",
    "        'Silver': 'silver',\n",
    "        'Gold': 'gold',\n",
    "        'Catastrophic': 'red',\n",
    "        'Platinum': 'dodgerblue'\n",
    "    })\n",
    "# fig.update_traces(marker_color=colors)\n",
    "fig"
   ]
  },
  {
   "cell_type": "code",
   "execution_count": 41,
   "metadata": {},
   "outputs": [
    {
     "output_type": "execute_result",
     "data": {
      "text/plain": [
       "165"
      ]
     },
     "metadata": {},
     "execution_count": 41
    }
   ],
   "source": [
    "len(statemetal_df)\n",
    "# len(colors)"
   ]
  },
  {
   "cell_type": "code",
   "execution_count": 3,
   "metadata": {},
   "outputs": [
    {
     "output_type": "execute_result",
     "data": {
      "text/plain": [
       "<NgrokTunnel: \"http://hackaroo.ngrok.io\" -> \"http://localhost:8050\">"
      ]
     },
     "metadata": {},
     "execution_count": 3
    }
   ],
   "source": [
    "from pyngrok import ngrok\n",
    "\n",
    "public_url = ngrok.connect(8050, subdomain=\"hackaroo\")\n",
    "public_url"
   ]
  },
  {
   "cell_type": "code",
   "execution_count": 276,
   "metadata": {},
   "outputs": [],
   "source": [
    "ngrok.kill()"
   ]
  }
 ]
}