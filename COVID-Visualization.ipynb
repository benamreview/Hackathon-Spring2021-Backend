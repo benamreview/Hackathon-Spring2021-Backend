{
 "cells": [
  {
   "cell_type": "code",
   "execution_count": 1,
   "metadata": {},
   "outputs": [],
   "source": [
    "import pandas as pd\n",
    "import json\n",
    "import numpy as np"
   ]
  },
  {
   "source": [
    "<h1> Insurance Plans"
   ],
   "cell_type": "markdown",
   "metadata": {}
  },
  {
   "cell_type": "code",
   "execution_count": 2,
   "metadata": {},
   "outputs": [],
   "source": [
    "TARGET_FIELDS = [\n",
    "    'State Code',\n",
    "    'FIPS County Code',\n",
    "    'County Name',\n",
    "    'Metal Level',\n",
    "    'Issuer Name',\n",
    "    # 'Premium Child Age 0-14',\n",
    "    # 'Premium Child Age 18',\n",
    "    'Premium Adult Individual Age 21',\n",
    "    'Premium Adult Individual Age 27',\n",
    "    'Premium Adult Individual Age 30 ',\n",
    "    'Premium Adult Individual Age 40 ',\n",
    "    'Premium Adult Individual Age 50 ',\n",
    "    'Premium Adult Individual Age 60 ',\n",
    "    'Individual+1 child, Age 21',\n",
    "    'Individual+1 child, Age 30',\n",
    "    'Individual+1 child, Age 40',\n",
    "    'Individual+1 child, Age 50',\n",
    "    'Individual+2 children, Age 21',\n",
    "    'Individual+2 children, Age 30',\n",
    "    'Individual+2 children, Age 40',\n",
    "    'Individual+2 children, Age 50',\n",
    "    'Individual+3 or more children, Age 21',\n",
    "    'Individual+3 or more children, Age 30',\n",
    "    'Individual+3 or more children, Age 40',\n",
    "    'Individual+3 or more children, Age 50',\n",
    "]"
   ]
  },
  {
   "cell_type": "code",
   "execution_count": 33,
   "metadata": {},
   "outputs": [
    {
     "output_type": "stream",
     "name": "stdout",
     "text": [
      "2017\n",
      "C:\\Users\\dhh3hb\\Anaconda3\\lib\\site-packages\\IPython\\core\\interactiveshell.py:3146: DtypeWarning:\n",
      "\n",
      "Columns (21) have mixed types.Specify dtype option on import or set low_memory=False.\n",
      "\n",
      "55581\n",
      "2018\n",
      "39348\n",
      "2019\n",
      "C:\\Users\\dhh3hb\\Anaconda3\\lib\\site-packages\\IPython\\core\\interactiveshell.py:3146: DtypeWarning:\n",
      "\n",
      "Columns (20) have mixed types.Specify dtype option on import or set low_memory=False.\n",
      "\n",
      "42236\n",
      "2020\n",
      "53948\n",
      "2021\n",
      "75228\n"
     ]
    }
   ],
   "source": [
    "state_dict = {}\n",
    "for yr in range(2017,2022):\n",
    "    print(yr)\n",
    "    df = pd.read_csv('insurance_plans/{}.csv'.format(yr))\n",
    "    print(len(df))\n",
    "    df_target = df[TARGET_FIELDS]\n",
    "    temp =df.groupby(['State Code', 'Issuer Name']).size().to_frame('record_count')\n",
    "    temp = temp.reset_index()\n",
    "    \n",
    "    \n",
    "    # state_df= temp.iloc[temp.groupby(['State Code'], sort=False)['record_count'].idxmax()][['State Code','Issuer Name','record_count']].reset_index(drop=True)\n",
    "    # state_df = state_df.merge(temp.groupby('State Code').sum(), left_on = 'State Code', right_on = 'State Code')\n",
    "    # state_df = state_df.set_index('State Code')\n",
    "    # state_df['percentage'] = state_df['record_count_x']/state_df['record_count_y']\n",
    "    # display(state_df.head())\n",
    "    state_dict[yr] = temp\n",
    "    # state_df.to_csv('insurance_plans/visualizations/state_mainissuer_{}.csv'.format(yr), index = False)\n",
    "\n",
    "\n",
    "\n",
    "    # break"
   ]
  },
  {
   "cell_type": "code",
   "execution_count": 19,
   "metadata": {},
   "outputs": [
    {
     "output_type": "execute_result",
     "data": {
      "text/plain": [
       "    State Code                                       Issuer Name  record_count\n",
       "0           AK          Premera Blue Cross Blue Shield of Alaska           145\n",
       "1           AL             Blue Cross and Blue Shield of Alabama           469\n",
       "2           AR                          Celtic Insurance Company           525\n",
       "3           AR                             QCA Health Plan, Inc.           357\n",
       "4           AR  QualChoice Life & Health Insurance Company, Inc.           114\n",
       "..         ...                                               ...           ...\n",
       "162         WI           Security Health Plan of Wisconsin, Inc.           616\n",
       "163         WI          Unity Health Plans Insurance Corporation           483\n",
       "164         WV                      CareSource West Virginia Co.           320\n",
       "165         WV     Highmark Blue Cross Blue Shield West Virginia           385\n",
       "166         WY                 Blue Cross Blue Shield of Wyoming           690\n",
       "\n",
       "[167 rows x 3 columns]"
      ],
      "text/html": "<div>\n<style scoped>\n    .dataframe tbody tr th:only-of-type {\n        vertical-align: middle;\n    }\n\n    .dataframe tbody tr th {\n        vertical-align: top;\n    }\n\n    .dataframe thead th {\n        text-align: right;\n    }\n</style>\n<table border=\"1\" class=\"dataframe\">\n  <thead>\n    <tr style=\"text-align: right;\">\n      <th></th>\n      <th>State Code</th>\n      <th>Issuer Name</th>\n      <th>record_count</th>\n    </tr>\n  </thead>\n  <tbody>\n    <tr>\n      <th>0</th>\n      <td>AK</td>\n      <td>Premera Blue Cross Blue Shield of Alaska</td>\n      <td>145</td>\n    </tr>\n    <tr>\n      <th>1</th>\n      <td>AL</td>\n      <td>Blue Cross and Blue Shield of Alabama</td>\n      <td>469</td>\n    </tr>\n    <tr>\n      <th>2</th>\n      <td>AR</td>\n      <td>Celtic Insurance Company</td>\n      <td>525</td>\n    </tr>\n    <tr>\n      <th>3</th>\n      <td>AR</td>\n      <td>QCA Health Plan, Inc.</td>\n      <td>357</td>\n    </tr>\n    <tr>\n      <th>4</th>\n      <td>AR</td>\n      <td>QualChoice Life &amp; Health Insurance Company, Inc.</td>\n      <td>114</td>\n    </tr>\n    <tr>\n      <th>...</th>\n      <td>...</td>\n      <td>...</td>\n      <td>...</td>\n    </tr>\n    <tr>\n      <th>162</th>\n      <td>WI</td>\n      <td>Security Health Plan of Wisconsin, Inc.</td>\n      <td>616</td>\n    </tr>\n    <tr>\n      <th>163</th>\n      <td>WI</td>\n      <td>Unity Health Plans Insurance Corporation</td>\n      <td>483</td>\n    </tr>\n    <tr>\n      <th>164</th>\n      <td>WV</td>\n      <td>CareSource West Virginia Co.</td>\n      <td>320</td>\n    </tr>\n    <tr>\n      <th>165</th>\n      <td>WV</td>\n      <td>Highmark Blue Cross Blue Shield West Virginia</td>\n      <td>385</td>\n    </tr>\n    <tr>\n      <th>166</th>\n      <td>WY</td>\n      <td>Blue Cross Blue Shield of Wyoming</td>\n      <td>690</td>\n    </tr>\n  </tbody>\n</table>\n<p>167 rows × 3 columns</p>\n</div>"
     },
     "metadata": {},
     "execution_count": 19
    }
   ],
   "source": [
    "temp"
   ]
  },
  {
   "cell_type": "code",
   "execution_count": 15,
   "metadata": {},
   "outputs": [
    {
     "output_type": "execute_result",
     "data": {
      "text/plain": [
       "                                                  Issuer Name  record_count_x  \\\n",
       "State Code                                                                      \n",
       "AK                   Premera Blue Cross Blue Shield of Alaska             145   \n",
       "AL                      Blue Cross and Blue Shield of Alabama             469   \n",
       "AR                   Ambetter from Arkansas Health & Wellness            1425   \n",
       "AZ                      Ambetter from Arizona Complete Health             191   \n",
       "DE                   Highmark Blue Cross Blue Shield Delaware              36   \n",
       "FL                              Ambetter from Sunshine Health            1575   \n",
       "GA                      Ambetter from Peach State Health Plan            1761   \n",
       "HI                                                       HMSA              60   \n",
       "IA                                                     Medica             991   \n",
       "IL                                            Health Alliance             996   \n",
       "IN                                          Ambetter from MHS            2208   \n",
       "KS                        Ambetter from Sunflower Health Plan            1645   \n",
       "KY                                                 CareSource            1128   \n",
       "LA                                              HMO Louisiana             483   \n",
       "ME                                   Community Health Options             240   \n",
       "MI          Blue Cross Blue Shield of Michigan Mutual Insu...             634   \n",
       "MO                            Ambetter from Home State Health            1472   \n",
       "MS                              Ambetter from Magnolia Health             902   \n",
       "MT                                      Mountain Health CO-OP             560   \n",
       "NC                           Blue Cross and Blue Shield of NC             979   \n",
       "ND                                        Sanford Health Plan             464   \n",
       "NE                                              Bright Health            1056   \n",
       "NH               Ambetter from New Hampshire Healthy Families             130   \n",
       "NM                                          Molina Healthcare             297   \n",
       "OH                          Anthem Blue Cross and Blue Shield            1292   \n",
       "OK                                                     Medica             604   \n",
       "OR                     Regence BlueCross BlueShield of Oregon             336   \n",
       "SC                     BlueCross BlueShield of South Carolina             932   \n",
       "SD                                        Sanford Health Plan             552   \n",
       "TN                                      Ambetter of Tennessee            1539   \n",
       "TX                          Ambetter from Superior HealthPlan            4692   \n",
       "UT                                               SelectHealth             494   \n",
       "VA                                       Anthem HealthKeepers            1105   \n",
       "WI                                                     Quartz             621   \n",
       "WV                                                 CareSource             605   \n",
       "WY                          Blue Cross Blue Shield of Wyoming             276   \n",
       "\n",
       "            record_count_y  \n",
       "State Code                  \n",
       "AK                     169  \n",
       "AL                     501  \n",
       "AR                    2625  \n",
       "AZ                     370  \n",
       "DE                      36  \n",
       "FL                    5000  \n",
       "GA                    4555  \n",
       "HI                     115  \n",
       "IA                    1861  \n",
       "IL                    2065  \n",
       "IN                    3232  \n",
       "KS                    3148  \n",
       "KY                    2077  \n",
       "LA                    1175  \n",
       "ME                     536  \n",
       "MI                    2931  \n",
       "MO                    3520  \n",
       "MS                    1804  \n",
       "MT                    1253  \n",
       "NC                    2884  \n",
       "ND                    1265  \n",
       "NE                    1976  \n",
       "NH                     340  \n",
       "NM                    1254  \n",
       "OH                    4779  \n",
       "OK                    1289  \n",
       "OR                    1130  \n",
       "SC                    1985  \n",
       "SD                    1026  \n",
       "TN                    3562  \n",
       "TX                    8858  \n",
       "UT                    1091  \n",
       "VA                    2183  \n",
       "WI                    3110  \n",
       "WV                    1155  \n",
       "WY                     368  "
      ],
      "text/html": "<div>\n<style scoped>\n    .dataframe tbody tr th:only-of-type {\n        vertical-align: middle;\n    }\n\n    .dataframe tbody tr th {\n        vertical-align: top;\n    }\n\n    .dataframe thead th {\n        text-align: right;\n    }\n</style>\n<table border=\"1\" class=\"dataframe\">\n  <thead>\n    <tr style=\"text-align: right;\">\n      <th></th>\n      <th>Issuer Name</th>\n      <th>record_count_x</th>\n      <th>record_count_y</th>\n    </tr>\n    <tr>\n      <th>State Code</th>\n      <th></th>\n      <th></th>\n      <th></th>\n    </tr>\n  </thead>\n  <tbody>\n    <tr>\n      <th>AK</th>\n      <td>Premera Blue Cross Blue Shield of Alaska</td>\n      <td>145</td>\n      <td>169</td>\n    </tr>\n    <tr>\n      <th>AL</th>\n      <td>Blue Cross and Blue Shield of Alabama</td>\n      <td>469</td>\n      <td>501</td>\n    </tr>\n    <tr>\n      <th>AR</th>\n      <td>Ambetter from Arkansas Health &amp; Wellness</td>\n      <td>1425</td>\n      <td>2625</td>\n    </tr>\n    <tr>\n      <th>AZ</th>\n      <td>Ambetter from Arizona Complete Health</td>\n      <td>191</td>\n      <td>370</td>\n    </tr>\n    <tr>\n      <th>DE</th>\n      <td>Highmark Blue Cross Blue Shield Delaware</td>\n      <td>36</td>\n      <td>36</td>\n    </tr>\n    <tr>\n      <th>FL</th>\n      <td>Ambetter from Sunshine Health</td>\n      <td>1575</td>\n      <td>5000</td>\n    </tr>\n    <tr>\n      <th>GA</th>\n      <td>Ambetter from Peach State Health Plan</td>\n      <td>1761</td>\n      <td>4555</td>\n    </tr>\n    <tr>\n      <th>HI</th>\n      <td>HMSA</td>\n      <td>60</td>\n      <td>115</td>\n    </tr>\n    <tr>\n      <th>IA</th>\n      <td>Medica</td>\n      <td>991</td>\n      <td>1861</td>\n    </tr>\n    <tr>\n      <th>IL</th>\n      <td>Health Alliance</td>\n      <td>996</td>\n      <td>2065</td>\n    </tr>\n    <tr>\n      <th>IN</th>\n      <td>Ambetter from MHS</td>\n      <td>2208</td>\n      <td>3232</td>\n    </tr>\n    <tr>\n      <th>KS</th>\n      <td>Ambetter from Sunflower Health Plan</td>\n      <td>1645</td>\n      <td>3148</td>\n    </tr>\n    <tr>\n      <th>KY</th>\n      <td>CareSource</td>\n      <td>1128</td>\n      <td>2077</td>\n    </tr>\n    <tr>\n      <th>LA</th>\n      <td>HMO Louisiana</td>\n      <td>483</td>\n      <td>1175</td>\n    </tr>\n    <tr>\n      <th>ME</th>\n      <td>Community Health Options</td>\n      <td>240</td>\n      <td>536</td>\n    </tr>\n    <tr>\n      <th>MI</th>\n      <td>Blue Cross Blue Shield of Michigan Mutual Insu...</td>\n      <td>634</td>\n      <td>2931</td>\n    </tr>\n    <tr>\n      <th>MO</th>\n      <td>Ambetter from Home State Health</td>\n      <td>1472</td>\n      <td>3520</td>\n    </tr>\n    <tr>\n      <th>MS</th>\n      <td>Ambetter from Magnolia Health</td>\n      <td>902</td>\n      <td>1804</td>\n    </tr>\n    <tr>\n      <th>MT</th>\n      <td>Mountain Health CO-OP</td>\n      <td>560</td>\n      <td>1253</td>\n    </tr>\n    <tr>\n      <th>NC</th>\n      <td>Blue Cross and Blue Shield of NC</td>\n      <td>979</td>\n      <td>2884</td>\n    </tr>\n    <tr>\n      <th>ND</th>\n      <td>Sanford Health Plan</td>\n      <td>464</td>\n      <td>1265</td>\n    </tr>\n    <tr>\n      <th>NE</th>\n      <td>Bright Health</td>\n      <td>1056</td>\n      <td>1976</td>\n    </tr>\n    <tr>\n      <th>NH</th>\n      <td>Ambetter from New Hampshire Healthy Families</td>\n      <td>130</td>\n      <td>340</td>\n    </tr>\n    <tr>\n      <th>NM</th>\n      <td>Molina Healthcare</td>\n      <td>297</td>\n      <td>1254</td>\n    </tr>\n    <tr>\n      <th>OH</th>\n      <td>Anthem Blue Cross and Blue Shield</td>\n      <td>1292</td>\n      <td>4779</td>\n    </tr>\n    <tr>\n      <th>OK</th>\n      <td>Medica</td>\n      <td>604</td>\n      <td>1289</td>\n    </tr>\n    <tr>\n      <th>OR</th>\n      <td>Regence BlueCross BlueShield of Oregon</td>\n      <td>336</td>\n      <td>1130</td>\n    </tr>\n    <tr>\n      <th>SC</th>\n      <td>BlueCross BlueShield of South Carolina</td>\n      <td>932</td>\n      <td>1985</td>\n    </tr>\n    <tr>\n      <th>SD</th>\n      <td>Sanford Health Plan</td>\n      <td>552</td>\n      <td>1026</td>\n    </tr>\n    <tr>\n      <th>TN</th>\n      <td>Ambetter of Tennessee</td>\n      <td>1539</td>\n      <td>3562</td>\n    </tr>\n    <tr>\n      <th>TX</th>\n      <td>Ambetter from Superior HealthPlan</td>\n      <td>4692</td>\n      <td>8858</td>\n    </tr>\n    <tr>\n      <th>UT</th>\n      <td>SelectHealth</td>\n      <td>494</td>\n      <td>1091</td>\n    </tr>\n    <tr>\n      <th>VA</th>\n      <td>Anthem HealthKeepers</td>\n      <td>1105</td>\n      <td>2183</td>\n    </tr>\n    <tr>\n      <th>WI</th>\n      <td>Quartz</td>\n      <td>621</td>\n      <td>3110</td>\n    </tr>\n    <tr>\n      <th>WV</th>\n      <td>CareSource</td>\n      <td>605</td>\n      <td>1155</td>\n    </tr>\n    <tr>\n      <th>WY</th>\n      <td>Blue Cross Blue Shield of Wyoming</td>\n      <td>276</td>\n      <td>368</td>\n    </tr>\n  </tbody>\n</table>\n</div>"
     },
     "metadata": {},
     "execution_count": 15
    }
   ],
   "source": [
    "result_dict[2021]"
   ]
  },
  {
   "cell_type": "code",
   "execution_count": 96,
   "metadata": {},
   "outputs": [
    {
     "data": {
      "text/html": [
       "<div>\n",
       "<style scoped>\n",
       "    .dataframe tbody tr th:only-of-type {\n",
       "        vertical-align: middle;\n",
       "    }\n",
       "\n",
       "    .dataframe tbody tr th {\n",
       "        vertical-align: top;\n",
       "    }\n",
       "\n",
       "    .dataframe thead th {\n",
       "        text-align: right;\n",
       "    }\n",
       "</style>\n",
       "<table border=\"1\" class=\"dataframe\">\n",
       "  <thead>\n",
       "    <tr style=\"text-align: right;\">\n",
       "      <th></th>\n",
       "      <th>State Code</th>\n",
       "      <th>Issuer Name</th>\n",
       "      <th>count</th>\n",
       "    </tr>\n",
       "  </thead>\n",
       "  <tbody>\n",
       "    <tr>\n",
       "      <th>0</th>\n",
       "      <td>AK</td>\n",
       "      <td>Premera Blue Cross Blue Shield of Alaska</td>\n",
       "      <td>145</td>\n",
       "    </tr>\n",
       "    <tr>\n",
       "      <th>1</th>\n",
       "      <td>AL</td>\n",
       "      <td>Blue Cross and Blue Shield of Alabama</td>\n",
       "      <td>469</td>\n",
       "    </tr>\n",
       "    <tr>\n",
       "      <th>2</th>\n",
       "      <td>AR</td>\n",
       "      <td>Celtic Insurance Company</td>\n",
       "      <td>525</td>\n",
       "    </tr>\n",
       "    <tr>\n",
       "      <th>3</th>\n",
       "      <td>AR</td>\n",
       "      <td>QCA Health Plan, Inc.</td>\n",
       "      <td>357</td>\n",
       "    </tr>\n",
       "    <tr>\n",
       "      <th>4</th>\n",
       "      <td>AR</td>\n",
       "      <td>QualChoice Life &amp; Health Insurance Company, Inc.</td>\n",
       "      <td>114</td>\n",
       "    </tr>\n",
       "    <tr>\n",
       "      <th>...</th>\n",
       "      <td>...</td>\n",
       "      <td>...</td>\n",
       "      <td>...</td>\n",
       "    </tr>\n",
       "    <tr>\n",
       "      <th>162</th>\n",
       "      <td>WI</td>\n",
       "      <td>Security Health Plan of Wisconsin, Inc.</td>\n",
       "      <td>616</td>\n",
       "    </tr>\n",
       "    <tr>\n",
       "      <th>163</th>\n",
       "      <td>WI</td>\n",
       "      <td>Unity Health Plans Insurance Corporation</td>\n",
       "      <td>483</td>\n",
       "    </tr>\n",
       "    <tr>\n",
       "      <th>164</th>\n",
       "      <td>WV</td>\n",
       "      <td>CareSource West Virginia Co.</td>\n",
       "      <td>320</td>\n",
       "    </tr>\n",
       "    <tr>\n",
       "      <th>165</th>\n",
       "      <td>WV</td>\n",
       "      <td>Highmark Blue Cross Blue Shield West Virginia</td>\n",
       "      <td>385</td>\n",
       "    </tr>\n",
       "    <tr>\n",
       "      <th>166</th>\n",
       "      <td>WY</td>\n",
       "      <td>Blue Cross Blue Shield of Wyoming</td>\n",
       "      <td>690</td>\n",
       "    </tr>\n",
       "  </tbody>\n",
       "</table>\n",
       "<p>167 rows × 3 columns</p>\n",
       "</div>"
      ],
      "text/plain": [
       "    State Code                                       Issuer Name  count\n",
       "0           AK          Premera Blue Cross Blue Shield of Alaska    145\n",
       "1           AL             Blue Cross and Blue Shield of Alabama    469\n",
       "2           AR                          Celtic Insurance Company    525\n",
       "3           AR                             QCA Health Plan, Inc.    357\n",
       "4           AR  QualChoice Life & Health Insurance Company, Inc.    114\n",
       "..         ...                                               ...    ...\n",
       "162         WI           Security Health Plan of Wisconsin, Inc.    616\n",
       "163         WI          Unity Health Plans Insurance Corporation    483\n",
       "164         WV                      CareSource West Virginia Co.    320\n",
       "165         WV     Highmark Blue Cross Blue Shield West Virginia    385\n",
       "166         WY                 Blue Cross Blue Shield of Wyoming    690\n",
       "\n",
       "[167 rows x 3 columns]"
      ]
     },
     "execution_count": 96,
     "metadata": {},
     "output_type": "execute_result"
    }
   ],
   "source": [
    "temp =df.groupby(['State Code', 'Issuer Name']).size().to_frame('count')\n",
    "temp = temp.reset_index()\n",
    "temp"
   ]
  },
  {
   "cell_type": "code",
   "execution_count": 98,
   "metadata": {},
   "outputs": [
    {
     "data": {
      "text/html": [
       "<div>\n",
       "<style scoped>\n",
       "    .dataframe tbody tr th:only-of-type {\n",
       "        vertical-align: middle;\n",
       "    }\n",
       "\n",
       "    .dataframe tbody tr th {\n",
       "        vertical-align: top;\n",
       "    }\n",
       "\n",
       "    .dataframe thead th {\n",
       "        text-align: right;\n",
       "    }\n",
       "</style>\n",
       "<table border=\"1\" class=\"dataframe\">\n",
       "  <thead>\n",
       "    <tr style=\"text-align: right;\">\n",
       "      <th></th>\n",
       "      <th>count</th>\n",
       "    </tr>\n",
       "    <tr>\n",
       "      <th>State Code</th>\n",
       "      <th></th>\n",
       "    </tr>\n",
       "  </thead>\n",
       "  <tbody>\n",
       "    <tr>\n",
       "      <th>AK</th>\n",
       "      <td>145</td>\n",
       "    </tr>\n",
       "    <tr>\n",
       "      <th>AL</th>\n",
       "      <td>469</td>\n",
       "    </tr>\n",
       "    <tr>\n",
       "      <th>AR</th>\n",
       "      <td>1896</td>\n",
       "    </tr>\n",
       "    <tr>\n",
       "      <th>AZ</th>\n",
       "      <td>72</td>\n",
       "    </tr>\n",
       "    <tr>\n",
       "      <th>DE</th>\n",
       "      <td>60</td>\n",
       "    </tr>\n",
       "    <tr>\n",
       "      <th>FL</th>\n",
       "      <td>2417</td>\n",
       "    </tr>\n",
       "    <tr>\n",
       "      <th>GA</th>\n",
       "      <td>3192</td>\n",
       "    </tr>\n",
       "    <tr>\n",
       "      <th>HI</th>\n",
       "      <td>92</td>\n",
       "    </tr>\n",
       "    <tr>\n",
       "      <th>IA</th>\n",
       "      <td>1326</td>\n",
       "    </tr>\n",
       "    <tr>\n",
       "      <th>IL</th>\n",
       "      <td>2572</td>\n",
       "    </tr>\n",
       "    <tr>\n",
       "      <th>IN</th>\n",
       "      <td>3630</td>\n",
       "    </tr>\n",
       "    <tr>\n",
       "      <th>KS</th>\n",
       "      <td>1272</td>\n",
       "    </tr>\n",
       "    <tr>\n",
       "      <th>KY</th>\n",
       "      <td>1455</td>\n",
       "    </tr>\n",
       "    <tr>\n",
       "      <th>LA</th>\n",
       "      <td>1097</td>\n",
       "    </tr>\n",
       "    <tr>\n",
       "      <th>ME</th>\n",
       "      <td>456</td>\n",
       "    </tr>\n",
       "    <tr>\n",
       "      <th>MI</th>\n",
       "      <td>3664</td>\n",
       "    </tr>\n",
       "    <tr>\n",
       "      <th>MO</th>\n",
       "      <td>1557</td>\n",
       "    </tr>\n",
       "    <tr>\n",
       "      <th>MS</th>\n",
       "      <td>1522</td>\n",
       "    </tr>\n",
       "    <tr>\n",
       "      <th>MT</th>\n",
       "      <td>1424</td>\n",
       "    </tr>\n",
       "    <tr>\n",
       "      <th>NC</th>\n",
       "      <td>990</td>\n",
       "    </tr>\n",
       "    <tr>\n",
       "      <th>ND</th>\n",
       "      <td>1108</td>\n",
       "    </tr>\n",
       "    <tr>\n",
       "      <th>NE</th>\n",
       "      <td>1051</td>\n",
       "    </tr>\n",
       "    <tr>\n",
       "      <th>NH</th>\n",
       "      <td>335</td>\n",
       "    </tr>\n",
       "    <tr>\n",
       "      <th>NJ</th>\n",
       "      <td>454</td>\n",
       "    </tr>\n",
       "    <tr>\n",
       "      <th>NM</th>\n",
       "      <td>751</td>\n",
       "    </tr>\n",
       "    <tr>\n",
       "      <th>NV</th>\n",
       "      <td>407</td>\n",
       "    </tr>\n",
       "    <tr>\n",
       "      <th>OH</th>\n",
       "      <td>3113</td>\n",
       "    </tr>\n",
       "    <tr>\n",
       "      <th>OK</th>\n",
       "      <td>994</td>\n",
       "    </tr>\n",
       "    <tr>\n",
       "      <th>OR</th>\n",
       "      <td>716</td>\n",
       "    </tr>\n",
       "    <tr>\n",
       "      <th>PA</th>\n",
       "      <td>782</td>\n",
       "    </tr>\n",
       "    <tr>\n",
       "      <th>SC</th>\n",
       "      <td>1196</td>\n",
       "    </tr>\n",
       "    <tr>\n",
       "      <th>SD</th>\n",
       "      <td>1200</td>\n",
       "    </tr>\n",
       "    <tr>\n",
       "      <th>TN</th>\n",
       "      <td>530</td>\n",
       "    </tr>\n",
       "    <tr>\n",
       "      <th>TX</th>\n",
       "      <td>4824</td>\n",
       "    </tr>\n",
       "    <tr>\n",
       "      <th>UT</th>\n",
       "      <td>397</td>\n",
       "    </tr>\n",
       "    <tr>\n",
       "      <th>VA</th>\n",
       "      <td>3583</td>\n",
       "    </tr>\n",
       "    <tr>\n",
       "      <th>WI</th>\n",
       "      <td>3437</td>\n",
       "    </tr>\n",
       "    <tr>\n",
       "      <th>WV</th>\n",
       "      <td>705</td>\n",
       "    </tr>\n",
       "    <tr>\n",
       "      <th>WY</th>\n",
       "      <td>690</td>\n",
       "    </tr>\n",
       "  </tbody>\n",
       "</table>\n",
       "</div>"
      ],
      "text/plain": [
       "            count\n",
       "State Code       \n",
       "AK            145\n",
       "AL            469\n",
       "AR           1896\n",
       "AZ             72\n",
       "DE             60\n",
       "FL           2417\n",
       "GA           3192\n",
       "HI             92\n",
       "IA           1326\n",
       "IL           2572\n",
       "IN           3630\n",
       "KS           1272\n",
       "KY           1455\n",
       "LA           1097\n",
       "ME            456\n",
       "MI           3664\n",
       "MO           1557\n",
       "MS           1522\n",
       "MT           1424\n",
       "NC            990\n",
       "ND           1108\n",
       "NE           1051\n",
       "NH            335\n",
       "NJ            454\n",
       "NM            751\n",
       "NV            407\n",
       "OH           3113\n",
       "OK            994\n",
       "OR            716\n",
       "PA            782\n",
       "SC           1196\n",
       "SD           1200\n",
       "TN            530\n",
       "TX           4824\n",
       "UT            397\n",
       "VA           3583\n",
       "WI           3437\n",
       "WV            705\n",
       "WY            690"
      ]
     },
     "execution_count": 98,
     "metadata": {},
     "output_type": "execute_result"
    }
   ],
   "source": [
    "temp.groupby('State Code').sum()"
   ]
  },
  {
   "cell_type": "code",
   "execution_count": 130,
   "metadata": {},
   "outputs": [
    {
     "data": {
      "text/plain": [
       "['State Code',\n",
       " 'FIPS County Code',\n",
       " 'County Name',\n",
       " 'Metal Level',\n",
       " 'Issuer Name',\n",
       " 'Premium Adult Individual Age 21',\n",
       " 'Premium Adult Individual Age 27',\n",
       " 'Premium Adult Individual Age 30 ',\n",
       " 'Premium Adult Individual Age 40 ',\n",
       " 'Premium Adult Individual Age 50 ',\n",
       " 'Premium Adult Individual Age 60 ',\n",
       " 'Individual+1 child, Age 21',\n",
       " 'Individual+1 child, Age 30',\n",
       " 'Individual+1 child, Age 40',\n",
       " 'Individual+1 child, Age 50',\n",
       " 'Individual+2 children, Age 21',\n",
       " 'Individual+2 children, Age 30',\n",
       " 'Individual+2 children, Age 40',\n",
       " 'Individual+2 children, Age 50',\n",
       " 'Individual+3 or more children, Age 21',\n",
       " 'Individual+3 or more children, Age 30',\n",
       " 'Individual+3 or more children, Age 40',\n",
       " 'Individual+3 or more children, Age 50']"
      ]
     },
     "execution_count": 130,
     "metadata": {},
     "output_type": "execute_result"
    }
   ],
   "source": [
    "TARGET_FIELDS"
   ]
  },
  {
   "cell_type": "code",
   "execution_count": 3,
   "metadata": {},
   "outputs": [],
   "source": [
    "premium_list = ['Premium Adult Individual Age 21',\n",
    " 'Premium Adult Individual Age 27',\n",
    " 'Premium Adult Individual Age 30 ',\n",
    " 'Premium Adult Individual Age 40 ',\n",
    " 'Premium Adult Individual Age 50 ',\n",
    " 'Premium Adult Individual Age 60 ',\n",
    " 'Individual+1 child, Age 21',\n",
    " 'Individual+1 child, Age 30',\n",
    " 'Individual+1 child, Age 40',\n",
    " 'Individual+1 child, Age 50',\n",
    " 'Individual+2 children, Age 21',\n",
    " 'Individual+2 children, Age 30',\n",
    " 'Individual+2 children, Age 40',\n",
    " 'Individual+2 children, Age 50',\n",
    " 'Individual+3 or more children, Age 21',\n",
    " 'Individual+3 or more children, Age 30',\n",
    " 'Individual+3 or more children, Age 40',\n",
    " 'Individual+3 or more children, Age 50']"
   ]
  },
  {
   "cell_type": "code",
   "execution_count": 4,
   "metadata": {},
   "outputs": [
    {
     "output_type": "stream",
     "name": "stdout",
     "text": [
      "2017\n",
      "C:\\Users\\dhh3hb\\Anaconda3\\lib\\site-packages\\IPython\\core\\interactiveshell.py:3146: DtypeWarning: Columns (21) have mixed types.Specify dtype option on import or set low_memory=False.\n",
      "  has_raised = await self.run_ast_nodes(code_ast.body, cell_name,\n",
      "C:\\Users\\dhh3hb\\Anaconda3\\lib\\site-packages\\pandas\\core\\indexing.py:1717: SettingWithCopyWarning: \n",
      "A value is trying to be set on a copy of a slice from a DataFrame.\n",
      "Try using .loc[row_indexer,col_indexer] = value instead\n",
      "\n",
      "See the caveats in the documentation: https://pandas.pydata.org/pandas-docs/stable/user_guide/indexing.html#returning-a-view-versus-a-copy\n",
      "  isetter(loc, v)\n",
      "C:\\Users\\dhh3hb\\Anaconda3\\lib\\site-packages\\pandas\\core\\frame.py:3065: SettingWithCopyWarning: \n",
      "A value is trying to be set on a copy of a slice from a DataFrame.\n",
      "Try using .loc[row_indexer,col_indexer] = value instead\n",
      "\n",
      "See the caveats in the documentation: https://pandas.pydata.org/pandas-docs/stable/user_guide/indexing.html#returning-a-view-versus-a-copy\n",
      "  self[k1] = value[k2]\n",
      "2018\n",
      "2019\n",
      "C:\\Users\\dhh3hb\\Anaconda3\\lib\\site-packages\\IPython\\core\\interactiveshell.py:3146: DtypeWarning: Columns (20) have mixed types.Specify dtype option on import or set low_memory=False.\n",
      "  has_raised = await self.run_ast_nodes(code_ast.body, cell_name,\n",
      "2020\n",
      "2021\n"
     ]
    }
   ],
   "source": [
    "\n",
    "result_dict = {}\n",
    "for yr in range(2017,2022):\n",
    "    print(yr)\n",
    "    df = pd.read_csv('insurance_plans/{}.csv'.format(yr))\n",
    "    # print(len(df))\n",
    "    df_target = df[TARGET_FIELDS]\n",
    "    df_target.loc[:, premium_list] = df_target.loc[:, premium_list].applymap(lambda x: x.replace('$', ''))\n",
    "    df_target.loc[:, premium_list] = df_target.loc[:, premium_list].applymap(lambda x: x.replace(',', ''))\n",
    "    df_target[premium_list] = df_target[premium_list].apply(pd.to_numeric)\n",
    "\n",
    "    temp = df_target[['State Code'] + premium_list]\n",
    "    temp = temp.set_index('State Code')\n",
    "    result_df = temp.groupby('State Code').mean().astype(int)\n",
    "    # display(result_df)\n",
    "    result_dict[yr] = result_df.to_dict('index')\n",
    "    # state_df.to_csv('insurance_plans/visualizations/state_mainissuer_{}.csv'.format(yr), index = False)\n",
    "\n",
    "\n",
    "\n",
    "#     # break\n",
    "# with open('insurance_plans/visualizations/state_premiums.json', 'w') as f:\n",
    "#     f.write(json.dumps(result_dict, indent = 4))"
   ]
  },
  {
   "cell_type": "code",
   "execution_count": 201,
   "metadata": {},
   "outputs": [
    {
     "data": {
      "text/html": [
       "<div>\n",
       "<style scoped>\n",
       "    .dataframe tbody tr th:only-of-type {\n",
       "        vertical-align: middle;\n",
       "    }\n",
       "\n",
       "    .dataframe tbody tr th {\n",
       "        vertical-align: top;\n",
       "    }\n",
       "\n",
       "    .dataframe thead th {\n",
       "        text-align: right;\n",
       "    }\n",
       "</style>\n",
       "<table border=\"1\" class=\"dataframe\">\n",
       "  <thead>\n",
       "    <tr style=\"text-align: right;\">\n",
       "      <th></th>\n",
       "      <th>State Code</th>\n",
       "      <th>FIPS County Code</th>\n",
       "      <th>County Name</th>\n",
       "      <th>Metal Level</th>\n",
       "      <th>Issuer Name</th>\n",
       "      <th>Premium Adult Individual Age 21</th>\n",
       "      <th>Premium Adult Individual Age 27</th>\n",
       "      <th>Premium Adult Individual Age 30</th>\n",
       "      <th>Premium Adult Individual Age 40</th>\n",
       "      <th>Premium Adult Individual Age 50</th>\n",
       "      <th>Premium Adult Individual Age 60</th>\n",
       "      <th>Individual+1 child, Age 21</th>\n",
       "      <th>Individual+1 child, Age 30</th>\n",
       "      <th>Individual+1 child, Age 40</th>\n",
       "      <th>Individual+1 child, Age 50</th>\n",
       "      <th>Individual+2 children, Age 21</th>\n",
       "      <th>Individual+2 children, Age 30</th>\n",
       "      <th>Individual+2 children, Age 40</th>\n",
       "      <th>Individual+2 children, Age 50</th>\n",
       "      <th>Individual+3 or more children, Age 21</th>\n",
       "      <th>Individual+3 or more children, Age 30</th>\n",
       "      <th>Individual+3 or more children, Age 40</th>\n",
       "      <th>Individual+3 or more children, Age 50</th>\n",
       "    </tr>\n",
       "  </thead>\n",
       "  <tbody>\n",
       "    <tr>\n",
       "      <th>0</th>\n",
       "      <td>AK</td>\n",
       "      <td>2013</td>\n",
       "      <td>Aleutians East</td>\n",
       "      <td>Gold</td>\n",
       "      <td>Premera Blue Cross Blue Shield of Alaska</td>\n",
       "      <td>488.00</td>\n",
       "      <td>511.00</td>\n",
       "      <td>554.00</td>\n",
       "      <td>623.00</td>\n",
       "      <td>871.00</td>\n",
       "      <td>1324.00</td>\n",
       "      <td>861.00</td>\n",
       "      <td>927.00</td>\n",
       "      <td>996.00</td>\n",
       "      <td>1244.00</td>\n",
       "      <td>1234.00</td>\n",
       "      <td>1300.00</td>\n",
       "      <td>1369.00</td>\n",
       "      <td>1617.00</td>\n",
       "      <td>1607.00</td>\n",
       "      <td>1673.00</td>\n",
       "      <td>1742.00</td>\n",
       "      <td>1990.00</td>\n",
       "    </tr>\n",
       "    <tr>\n",
       "      <th>1</th>\n",
       "      <td>AK</td>\n",
       "      <td>2013</td>\n",
       "      <td>Aleutians East</td>\n",
       "      <td>Silver</td>\n",
       "      <td>Premera Blue Cross Blue Shield of Alaska</td>\n",
       "      <td>543.00</td>\n",
       "      <td>569.00</td>\n",
       "      <td>616.00</td>\n",
       "      <td>693.00</td>\n",
       "      <td>969.00</td>\n",
       "      <td>1473.00</td>\n",
       "      <td>958.00</td>\n",
       "      <td>1031.00</td>\n",
       "      <td>1108.00</td>\n",
       "      <td>1384.00</td>\n",
       "      <td>1373.00</td>\n",
       "      <td>1446.00</td>\n",
       "      <td>1523.00</td>\n",
       "      <td>1799.00</td>\n",
       "      <td>1788.00</td>\n",
       "      <td>1861.00</td>\n",
       "      <td>1938.00</td>\n",
       "      <td>2214.00</td>\n",
       "    </tr>\n",
       "    <tr>\n",
       "      <th>2</th>\n",
       "      <td>AK</td>\n",
       "      <td>2013</td>\n",
       "      <td>Aleutians East</td>\n",
       "      <td>Expanded Bronze</td>\n",
       "      <td>Premera Blue Cross Blue Shield of Alaska</td>\n",
       "      <td>362.00</td>\n",
       "      <td>379.00</td>\n",
       "      <td>411.00</td>\n",
       "      <td>463.00</td>\n",
       "      <td>647.00</td>\n",
       "      <td>983.00</td>\n",
       "      <td>639.00</td>\n",
       "      <td>688.00</td>\n",
       "      <td>740.00</td>\n",
       "      <td>924.00</td>\n",
       "      <td>916.00</td>\n",
       "      <td>965.00</td>\n",
       "      <td>1017.00</td>\n",
       "      <td>1201.00</td>\n",
       "      <td>1193.00</td>\n",
       "      <td>1242.00</td>\n",
       "      <td>1294.00</td>\n",
       "      <td>1478.00</td>\n",
       "    </tr>\n",
       "    <tr>\n",
       "      <th>3</th>\n",
       "      <td>AK</td>\n",
       "      <td>2013</td>\n",
       "      <td>Aleutians East</td>\n",
       "      <td>Silver</td>\n",
       "      <td>Premera Blue Cross Blue Shield of Alaska</td>\n",
       "      <td>541.00</td>\n",
       "      <td>567.00</td>\n",
       "      <td>614.00</td>\n",
       "      <td>692.00</td>\n",
       "      <td>967.00</td>\n",
       "      <td>1469.00</td>\n",
       "      <td>955.00</td>\n",
       "      <td>1028.00</td>\n",
       "      <td>1106.00</td>\n",
       "      <td>1381.00</td>\n",
       "      <td>1369.00</td>\n",
       "      <td>1442.00</td>\n",
       "      <td>1520.00</td>\n",
       "      <td>1795.00</td>\n",
       "      <td>1783.00</td>\n",
       "      <td>1856.00</td>\n",
       "      <td>1934.00</td>\n",
       "      <td>2209.00</td>\n",
       "    </tr>\n",
       "    <tr>\n",
       "      <th>4</th>\n",
       "      <td>AK</td>\n",
       "      <td>2013</td>\n",
       "      <td>Aleutians East</td>\n",
       "      <td>Expanded Bronze</td>\n",
       "      <td>Premera Blue Cross Blue Shield of Alaska</td>\n",
       "      <td>354.00</td>\n",
       "      <td>371.00</td>\n",
       "      <td>402.00</td>\n",
       "      <td>453.00</td>\n",
       "      <td>632.00</td>\n",
       "      <td>961.00</td>\n",
       "      <td>625.00</td>\n",
       "      <td>673.00</td>\n",
       "      <td>724.00</td>\n",
       "      <td>903.00</td>\n",
       "      <td>896.00</td>\n",
       "      <td>944.00</td>\n",
       "      <td>995.00</td>\n",
       "      <td>1174.00</td>\n",
       "      <td>1167.00</td>\n",
       "      <td>1215.00</td>\n",
       "      <td>1266.00</td>\n",
       "      <td>1445.00</td>\n",
       "    </tr>\n",
       "    <tr>\n",
       "      <th>...</th>\n",
       "      <td>...</td>\n",
       "      <td>...</td>\n",
       "      <td>...</td>\n",
       "      <td>...</td>\n",
       "      <td>...</td>\n",
       "      <td>...</td>\n",
       "      <td>...</td>\n",
       "      <td>...</td>\n",
       "      <td>...</td>\n",
       "      <td>...</td>\n",
       "      <td>...</td>\n",
       "      <td>...</td>\n",
       "      <td>...</td>\n",
       "      <td>...</td>\n",
       "      <td>...</td>\n",
       "      <td>...</td>\n",
       "      <td>...</td>\n",
       "      <td>...</td>\n",
       "      <td>...</td>\n",
       "      <td>...</td>\n",
       "      <td>...</td>\n",
       "      <td>...</td>\n",
       "      <td>...</td>\n",
       "    </tr>\n",
       "    <tr>\n",
       "      <th>75223</th>\n",
       "      <td>WY</td>\n",
       "      <td>56045</td>\n",
       "      <td>Weston</td>\n",
       "      <td>Bronze</td>\n",
       "      <td>Blue Cross Blue Shield of Wyoming</td>\n",
       "      <td>410.76</td>\n",
       "      <td>430.48</td>\n",
       "      <td>466.22</td>\n",
       "      <td>524.95</td>\n",
       "      <td>733.62</td>\n",
       "      <td>1114.80</td>\n",
       "      <td>725.00</td>\n",
       "      <td>780.46</td>\n",
       "      <td>839.19</td>\n",
       "      <td>1047.86</td>\n",
       "      <td>1039.24</td>\n",
       "      <td>1094.70</td>\n",
       "      <td>1153.43</td>\n",
       "      <td>1362.10</td>\n",
       "      <td>1353.48</td>\n",
       "      <td>1408.94</td>\n",
       "      <td>1467.67</td>\n",
       "      <td>1676.34</td>\n",
       "    </tr>\n",
       "    <tr>\n",
       "      <th>75224</th>\n",
       "      <td>WY</td>\n",
       "      <td>56045</td>\n",
       "      <td>Weston</td>\n",
       "      <td>Gold</td>\n",
       "      <td>Mountain Health CO-OP</td>\n",
       "      <td>554.87</td>\n",
       "      <td>581.50</td>\n",
       "      <td>629.78</td>\n",
       "      <td>709.12</td>\n",
       "      <td>991.00</td>\n",
       "      <td>1505.92</td>\n",
       "      <td>979.35</td>\n",
       "      <td>1054.26</td>\n",
       "      <td>1133.60</td>\n",
       "      <td>1415.48</td>\n",
       "      <td>1403.83</td>\n",
       "      <td>1478.74</td>\n",
       "      <td>1558.08</td>\n",
       "      <td>1839.96</td>\n",
       "      <td>1828.31</td>\n",
       "      <td>1903.22</td>\n",
       "      <td>1982.56</td>\n",
       "      <td>2264.44</td>\n",
       "    </tr>\n",
       "    <tr>\n",
       "      <th>75225</th>\n",
       "      <td>WY</td>\n",
       "      <td>56045</td>\n",
       "      <td>Weston</td>\n",
       "      <td>Silver</td>\n",
       "      <td>Mountain Health CO-OP</td>\n",
       "      <td>620.34</td>\n",
       "      <td>650.12</td>\n",
       "      <td>704.09</td>\n",
       "      <td>792.80</td>\n",
       "      <td>1107.93</td>\n",
       "      <td>1683.60</td>\n",
       "      <td>1094.90</td>\n",
       "      <td>1178.65</td>\n",
       "      <td>1267.36</td>\n",
       "      <td>1582.49</td>\n",
       "      <td>1569.46</td>\n",
       "      <td>1653.21</td>\n",
       "      <td>1741.92</td>\n",
       "      <td>2057.05</td>\n",
       "      <td>2044.02</td>\n",
       "      <td>2127.77</td>\n",
       "      <td>2216.48</td>\n",
       "      <td>2531.61</td>\n",
       "    </tr>\n",
       "    <tr>\n",
       "      <th>75226</th>\n",
       "      <td>WY</td>\n",
       "      <td>56045</td>\n",
       "      <td>Weston</td>\n",
       "      <td>Expanded Bronze</td>\n",
       "      <td>Mountain Health CO-OP</td>\n",
       "      <td>442.55</td>\n",
       "      <td>463.79</td>\n",
       "      <td>502.29</td>\n",
       "      <td>565.57</td>\n",
       "      <td>790.39</td>\n",
       "      <td>1201.07</td>\n",
       "      <td>781.10</td>\n",
       "      <td>840.84</td>\n",
       "      <td>904.12</td>\n",
       "      <td>1128.94</td>\n",
       "      <td>1119.65</td>\n",
       "      <td>1179.39</td>\n",
       "      <td>1242.67</td>\n",
       "      <td>1467.49</td>\n",
       "      <td>1458.20</td>\n",
       "      <td>1517.94</td>\n",
       "      <td>1581.22</td>\n",
       "      <td>1806.04</td>\n",
       "    </tr>\n",
       "    <tr>\n",
       "      <th>75227</th>\n",
       "      <td>WY</td>\n",
       "      <td>56045</td>\n",
       "      <td>Weston</td>\n",
       "      <td>Expanded Bronze</td>\n",
       "      <td>Mountain Health CO-OP</td>\n",
       "      <td>462.67</td>\n",
       "      <td>484.88</td>\n",
       "      <td>525.13</td>\n",
       "      <td>591.29</td>\n",
       "      <td>826.33</td>\n",
       "      <td>1255.69</td>\n",
       "      <td>816.61</td>\n",
       "      <td>879.07</td>\n",
       "      <td>945.23</td>\n",
       "      <td>1180.27</td>\n",
       "      <td>1170.55</td>\n",
       "      <td>1233.01</td>\n",
       "      <td>1299.17</td>\n",
       "      <td>1534.21</td>\n",
       "      <td>1524.49</td>\n",
       "      <td>1586.95</td>\n",
       "      <td>1653.11</td>\n",
       "      <td>1888.15</td>\n",
       "    </tr>\n",
       "  </tbody>\n",
       "</table>\n",
       "<p>75228 rows × 23 columns</p>\n",
       "</div>"
      ],
      "text/plain": [
       "      State Code  ...  Individual+3 or more children, Age 50\n",
       "0             AK  ...                                1990.00\n",
       "1             AK  ...                                2214.00\n",
       "2             AK  ...                                1478.00\n",
       "3             AK  ...                                2209.00\n",
       "4             AK  ...                                1445.00\n",
       "...          ...  ...                                    ...\n",
       "75223         WY  ...                                1676.34\n",
       "75224         WY  ...                                2264.44\n",
       "75225         WY  ...                                2531.61\n",
       "75226         WY  ...                                1806.04\n",
       "75227         WY  ...                                1888.15\n",
       "\n",
       "[75228 rows x 23 columns]"
      ]
     },
     "execution_count": 201,
     "metadata": {},
     "output_type": "execute_result"
    }
   ],
   "source": [
    "df_target"
   ]
  },
  {
   "cell_type": "code",
   "execution_count": 5,
   "metadata": {},
   "outputs": [
    {
     "output_type": "execute_result",
     "data": {
      "text/plain": [
       "            Individual+1 child, Age 21                               \\\n",
       "Metal Level                     Bronze Catastrophic Expanded Bronze   \n",
       "State Code                                                            \n",
       "AK                            0.000000     0.000000      620.400000   \n",
       "AL                            0.000000   392.051690      519.001781   \n",
       "AR                          454.320000     0.000000      495.894000   \n",
       "AZ                          564.208500   516.877368      583.505743   \n",
       "DE                            0.000000   418.080000      570.856667   \n",
       "FL                          571.410937   418.529459      598.223509   \n",
       "GA                          552.702822   478.458060      598.109371   \n",
       "HI                          433.630000   271.630000      491.816000   \n",
       "IA                            0.000000   429.386516      562.973468   \n",
       "IL                          491.907667   557.975404      637.921646   \n",
       "IN                          540.354492     0.000000      514.094622   \n",
       "KS                          602.862233   502.970536      641.032582   \n",
       "KY                            0.000000   419.855598      534.659895   \n",
       "LA                          705.657734     0.000000      677.425861   \n",
       "ME                            0.000000   344.406042      533.406827   \n",
       "MI                          451.048298   391.014754      455.404282   \n",
       "MO                          587.255984   448.896617      655.876387   \n",
       "MS                          529.371951     0.000000      565.423720   \n",
       "MT                          568.216071   458.256429      533.247868   \n",
       "NC                          600.992811   392.482204      619.396815   \n",
       "ND                          548.932364   313.252892      482.362157   \n",
       "NE                            0.000000   522.634404      745.166581   \n",
       "NH                          372.960000   258.847368      385.728966   \n",
       "NM                          371.195333   395.197879      414.006727   \n",
       "OH                          465.760273   380.805135      510.583657   \n",
       "OK                          642.494189   552.889512      711.605838   \n",
       "OR                            0.000000   320.076923      489.561953   \n",
       "SC                          475.440000   314.335192      507.017009   \n",
       "SD                            0.000000   450.015580      664.641696   \n",
       "TN                          503.638699   455.965227      576.350518   \n",
       "TX                          542.633944   464.479935      589.875266   \n",
       "UT                          406.164000   350.610789      491.845512   \n",
       "VA                          510.484615   410.375240      543.033752   \n",
       "WI                          519.900034   393.254258      534.790754   \n",
       "WV                            0.000000   665.236727      885.065333   \n",
       "WY                          754.038261     0.000000      782.706522   \n",
       "\n",
       "                                                   Individual+1 child, Age 30  \\\n",
       "Metal Level         Gold     Platinum       Silver                     Bronze   \n",
       "State Code                                                                      \n",
       "AK            850.971429     0.000000   943.562500                   0.000000   \n",
       "AL            866.470580     0.000000   725.925068                   0.000000   \n",
       "AR            747.901667     0.000000   577.934545                 489.060000   \n",
       "AZ            935.936923     0.000000   700.144764                 607.361500   \n",
       "DE            741.046667   942.565000   753.240000                   0.000000   \n",
       "FL            854.023005  1142.696900   788.082926                 615.112063   \n",
       "GA            731.588156   912.108776   727.792025                 594.969480   \n",
       "HI            657.556667   767.150000   665.413333                 466.800000   \n",
       "IA            700.973953     0.000000   752.593169                   0.000000   \n",
       "IL            846.363123     0.000000   759.749094                 529.530333   \n",
       "IN            834.823189     0.000000   621.317005                 581.673957   \n",
       "KS            790.082310     0.000000   743.769031                 648.964000   \n",
       "KY            845.464401     0.000000   710.366073                   0.000000   \n",
       "LA           1040.960264     0.000000   977.738283                 759.632500   \n",
       "ME            729.356207     0.000000   672.300676                   0.000000   \n",
       "MI            702.939911   837.772857   606.658078                 485.544553   \n",
       "MO            951.174336     0.000000   819.009005                 632.163373   \n",
       "MS            763.740518     0.000000   624.277249                 573.081220   \n",
       "MT            746.097879     0.000000   700.679348                 611.679464   \n",
       "NC            916.159465     0.000000   812.641610                 646.957972   \n",
       "ND            668.297424     0.000000   726.610657                 590.906182   \n",
       "NE           1068.166043     0.000000  1066.220781                   0.000000   \n",
       "NH            578.830000     0.000000   504.078667                 401.485000   \n",
       "NM            532.259125     0.000000   564.402096                 399.587455   \n",
       "OH            772.606011     0.000000   650.904404                 501.381364   \n",
       "OK            854.652226     0.000000   866.673993                 691.629820   \n",
       "OR            729.211706     0.000000   639.809385                   0.000000   \n",
       "SC            748.260063     0.000000   718.474906                 511.801854   \n",
       "SD            971.658148     0.000000   910.134307                   0.000000   \n",
       "TN            922.630503     0.000000   716.524686                 542.155765   \n",
       "TX            838.974294     0.000000   703.435650                 584.135345   \n",
       "UT            824.496232     0.000000   683.280683                 494.508824   \n",
       "VA            704.554244   843.460000   707.641151                 549.530564   \n",
       "WI            722.524095   755.823000   735.580511                 559.663322   \n",
       "WV           1206.917564     0.000000   958.994747                   0.000000   \n",
       "WY            935.744783     0.000000  1102.754348                 811.715072   \n",
       "\n",
       "                                                       ...  \\\n",
       "Metal Level Catastrophic Expanded Bronze         Gold  ...   \n",
       "State Code                                             ...   \n",
       "AK              0.000000      668.014286   916.114286  ...   \n",
       "AL            424.425915      561.855685   938.012899  ...   \n",
       "AR              0.000000      533.820000   805.105000  ...   \n",
       "AZ            556.411053      628.135050  1007.522821  ...   \n",
       "DE            450.060000      614.520000   797.726667  ...   \n",
       "FL            450.538919      643.976850   919.342391  ...   \n",
       "GA            515.053433      643.851726   787.538055  ...   \n",
       "HI            292.410000      529.434000   707.851667  ...   \n",
       "IA            462.218194      606.025845   754.584738  ...   \n",
       "IL            600.652576      686.713015   911.096667  ...   \n",
       "IN              0.000000      553.410583   898.668126  ...   \n",
       "KS            541.426875      690.056025   850.505069  ...   \n",
       "KY            451.966282      575.552979   910.128511  ...   \n",
       "LA              0.000000      729.240583  1120.581498  ...   \n",
       "ME            370.747500      574.206298   785.142931  ...   \n",
       "MI            420.922787      490.236083   756.703614  ...   \n",
       "MO            483.228045      706.032274  1023.917512  ...   \n",
       "MS              0.000000      612.103333   826.798506  ...   \n",
       "MT            493.306071      574.098967   803.143160  ...   \n",
       "NC            422.501613      666.769463   986.231070  ...   \n",
       "ND            337.209277      519.251910   719.412273  ...   \n",
       "NE            562.602890      802.157903  1149.861367  ...   \n",
       "NH            278.645789      415.228621   623.097755  ...   \n",
       "NM            425.425455      445.672242   572.969024  ...   \n",
       "OH            409.930595      549.633403   831.697213  ...   \n",
       "OK            595.171951      766.026416   920.016825  ...   \n",
       "OR            346.461538      530.009120   789.464369  ...   \n",
       "SC            338.377692      545.792969   805.490475  ...   \n",
       "SD            484.430435      715.472544  1045.972444  ...   \n",
       "TN            490.838864      620.430962   993.195927  ...   \n",
       "TX            500.008636      634.988514   903.140164  ...   \n",
       "UT            426.878947      598.828602  1003.834493  ...   \n",
       "VA            441.764471      584.569238   758.443285  ...   \n",
       "WI            423.328421      575.691641   777.784687  ...   \n",
       "WV            716.115636      952.759788  1299.230982  ...   \n",
       "WY              0.000000      842.571014  1007.316609  ...   \n",
       "\n",
       "            Premium Adult Individual Age 50                             \\\n",
       "Metal Level                  Expanded Bronze         Gold     Platinum   \n",
       "State Code                                                               \n",
       "AK                                627.942857   860.971429     0.000000   \n",
       "AL                                566.929384   946.491449     0.000000   \n",
       "AR                                501.792000   756.796667     0.000000   \n",
       "AZ                                590.444851   947.070256     0.000000   \n",
       "DE                                577.646667   749.866667   953.780000   \n",
       "FL                                605.338132   864.181373  1156.291915   \n",
       "GA                                605.220927   740.285620   922.950714   \n",
       "HI                                497.668000   665.383333   776.275000   \n",
       "IA                                569.662977   709.309826     0.000000   \n",
       "IL                                645.510277   856.431890     0.000000   \n",
       "IN                                520.205443   844.747694     0.000000   \n",
       "KS                                648.652760   799.474534     0.000000   \n",
       "KY                                541.019652   855.520809     0.000000   \n",
       "LA                                685.485389  1053.346035     0.000000   \n",
       "ME                                539.754471   738.034655     0.000000   \n",
       "MI                                460.822431   711.300510   847.742857   \n",
       "MO                                663.668295   962.481659     0.000000   \n",
       "MS                                617.637764   834.270457     0.000000   \n",
       "MT                                539.626593   754.946883     0.000000   \n",
       "NC                                626.762043   927.056451     0.000000   \n",
       "ND                                488.097843   676.245606     0.000000   \n",
       "NE                                754.027459  1080.867590     0.000000   \n",
       "NH                                390.312184   585.713265     0.000000   \n",
       "NM                                418.932606   538.590976     0.000000   \n",
       "OH                                516.655402   781.795319     0.000000   \n",
       "OK                                720.065318   864.817774     0.000000   \n",
       "OR                                534.726116   796.538601     0.000000   \n",
       "SC                                513.046310   757.160854     0.000000   \n",
       "SD                                672.546345   983.213778     0.000000   \n",
       "TN                                583.204612   933.604645     0.000000   \n",
       "TX                                596.889076   848.951486     0.000000   \n",
       "UT                                583.467343   978.083623     0.000000   \n",
       "VA                                549.495187   712.937209   853.490000   \n",
       "WI                                541.149737   731.117549   764.804000   \n",
       "WV                                895.594333  1221.276582     0.000000   \n",
       "WY                                792.017246   946.874957     0.000000   \n",
       "\n",
       "                         Premium Adult Individual Age 60                \\\n",
       "Metal Level       Silver                           Bronze Catastrophic   \n",
       "State Code                                                               \n",
       "AK            954.843750                         0.000000     0.000000   \n",
       "AL            792.966986                         0.000000   650.782817   \n",
       "AR            584.805909                       698.580000     0.000000   \n",
       "AZ            708.474398                       867.567500   794.781579   \n",
       "DE            762.196667                         0.000000   642.870000   \n",
       "FL            797.453995                       878.639000   643.557162   \n",
       "GA            736.445652                       849.867995   735.710000   \n",
       "HI            673.331667                       666.780000   417.680000   \n",
       "IA            761.538562                         0.000000   660.241484   \n",
       "IL            768.786464                       756.393000   857.987273   \n",
       "IN            628.701465                       830.874759     0.000000   \n",
       "KS            752.611341                       926.994633   773.390000   \n",
       "KY            718.816594                         0.000000   645.599316   \n",
       "LA            989.372043                      1085.073125     0.000000   \n",
       "ME            680.300180                         0.000000   529.584375   \n",
       "MI            613.874346                       693.560809   601.256503   \n",
       "MO            828.744011                       902.994739   690.252556   \n",
       "MS            681.926938                       878.720122     0.000000   \n",
       "MT            709.030276                       873.731607   704.654286   \n",
       "NC            822.306931                       924.127117   603.512634   \n",
       "ND            735.251284                       844.065455   481.678313   \n",
       "NE           1078.906152                         0.000000   803.633303   \n",
       "NH            510.072061                       573.495000   398.023158   \n",
       "NM            571.113434                       570.774727   607.685606   \n",
       "OH            658.644884                       716.182970   585.552486   \n",
       "OK            876.983498                       987.936802   850.159817   \n",
       "OR            698.898464                         0.000000   531.153846   \n",
       "SC            727.019633                       731.069268   483.345769   \n",
       "SD            920.960608                         0.000000   691.974058   \n",
       "TN            725.043775                       774.427015   701.119545   \n",
       "TX            711.797711                       834.387427   714.216688   \n",
       "UT            810.560466                       679.576706   586.628684   \n",
       "VA            716.059692                       784.960462   631.026779   \n",
       "WI            744.329428                       799.435274   604.690813   \n",
       "WV            970.402485                         0.000000  1022.920182   \n",
       "WY           1115.872609                      1159.456087     0.000000   \n",
       "\n",
       "                                                                    \n",
       "Metal Level Expanded Bronze         Gold     Platinum       Silver  \n",
       "State Code                                                          \n",
       "AK               954.357143  1308.514286     0.000000  1451.125000  \n",
       "AL               861.506712  1438.287754     0.000000  1204.991027  \n",
       "AR               762.520000  1150.028333     0.000000   888.667727  \n",
       "AZ               897.237624  1439.162308     0.000000  1076.594398  \n",
       "DE               877.790000  1139.486667  1449.355000  1158.236667  \n",
       "FL               919.869758  1313.207157  1757.097416  1211.808788  \n",
       "GA               919.691131  1124.936326  1402.514184  1119.100322  \n",
       "HI               756.256000  1011.115000  1179.627500  1023.190000  \n",
       "IA               865.657961  1077.863256     0.000000  1157.231820  \n",
       "IL               980.913631  1301.429816     0.000000  1168.244752  \n",
       "IN               790.502765  1283.676126     0.000000   955.372856  \n",
       "KS               985.690929  1214.879069     0.000000  1143.667093  \n",
       "KY               822.132352  1300.047573     0.000000  1092.311240  \n",
       "LA              1041.661000  1600.662379     0.000000  1503.446826  \n",
       "ME               820.208125  1121.515000     0.000000  1033.781757  \n",
       "MI               700.264383  1080.890776  1288.230000   932.841220  \n",
       "MO              1008.507225  1462.580355     0.000000  1259.358629  \n",
       "MS               938.561118  1267.754573     0.000000  1036.252182  \n",
       "MT               820.004110  1147.280433     0.000000  1077.264261  \n",
       "NC               952.426164  1408.754310     0.000000  1249.575556  \n",
       "ND               741.713416  1027.618523     0.000000  1117.287015  \n",
       "NE              1145.817324  1642.486079     0.000000  1639.502402  \n",
       "NH               593.118161   890.045714     0.000000   775.105333  \n",
       "NM               636.608333   818.441111     0.000000   867.862626  \n",
       "OH               785.107878  1188.014026     0.000000  1000.874820  \n",
       "OK              1094.209335  1314.170949     0.000000  1332.660565  \n",
       "OR               812.550279  1210.482833     0.000000  1061.987682  \n",
       "SC               779.623297  1150.578861     0.000000  1104.776730  \n",
       "SD              1021.999854  1494.088815     0.000000  1399.489002  \n",
       "TN               886.235524  1418.701625     0.000000  1101.774382  \n",
       "TX               907.030184  1290.065028     0.000000  1081.645650  \n",
       "UT               822.941024  1379.521522     0.000000  1143.243540  \n",
       "VA               835.010254  1083.376773  1296.970000  1088.121740  \n",
       "WI               822.329281  1111.002961  1162.194667  1131.079991  \n",
       "WV              1360.941667  1855.848145     0.000000  1474.620646  \n",
       "WY              1203.545362  1438.864261     0.000000  1695.672609  \n",
       "\n",
       "[36 rows x 108 columns]"
      ],
      "text/html": "<div>\n<style scoped>\n    .dataframe tbody tr th:only-of-type {\n        vertical-align: middle;\n    }\n\n    .dataframe tbody tr th {\n        vertical-align: top;\n    }\n\n    .dataframe thead tr th {\n        text-align: left;\n    }\n\n    .dataframe thead tr:last-of-type th {\n        text-align: right;\n    }\n</style>\n<table border=\"1\" class=\"dataframe\">\n  <thead>\n    <tr>\n      <th></th>\n      <th colspan=\"6\" halign=\"left\">Individual+1 child, Age 21</th>\n      <th colspan=\"4\" halign=\"left\">Individual+1 child, Age 30</th>\n      <th>...</th>\n      <th colspan=\"4\" halign=\"left\">Premium Adult Individual Age 50</th>\n      <th colspan=\"6\" halign=\"left\">Premium Adult Individual Age 60</th>\n    </tr>\n    <tr>\n      <th>Metal Level</th>\n      <th>Bronze</th>\n      <th>Catastrophic</th>\n      <th>Expanded Bronze</th>\n      <th>Gold</th>\n      <th>Platinum</th>\n      <th>Silver</th>\n      <th>Bronze</th>\n      <th>Catastrophic</th>\n      <th>Expanded Bronze</th>\n      <th>Gold</th>\n      <th>...</th>\n      <th>Expanded Bronze</th>\n      <th>Gold</th>\n      <th>Platinum</th>\n      <th>Silver</th>\n      <th>Bronze</th>\n      <th>Catastrophic</th>\n      <th>Expanded Bronze</th>\n      <th>Gold</th>\n      <th>Platinum</th>\n      <th>Silver</th>\n    </tr>\n    <tr>\n      <th>State Code</th>\n      <th></th>\n      <th></th>\n      <th></th>\n      <th></th>\n      <th></th>\n      <th></th>\n      <th></th>\n      <th></th>\n      <th></th>\n      <th></th>\n      <th></th>\n      <th></th>\n      <th></th>\n      <th></th>\n      <th></th>\n      <th></th>\n      <th></th>\n      <th></th>\n      <th></th>\n      <th></th>\n      <th></th>\n    </tr>\n  </thead>\n  <tbody>\n    <tr>\n      <th>AK</th>\n      <td>0.000000</td>\n      <td>0.000000</td>\n      <td>620.400000</td>\n      <td>850.971429</td>\n      <td>0.000000</td>\n      <td>943.562500</td>\n      <td>0.000000</td>\n      <td>0.000000</td>\n      <td>668.014286</td>\n      <td>916.114286</td>\n      <td>...</td>\n      <td>627.942857</td>\n      <td>860.971429</td>\n      <td>0.000000</td>\n      <td>954.843750</td>\n      <td>0.000000</td>\n      <td>0.000000</td>\n      <td>954.357143</td>\n      <td>1308.514286</td>\n      <td>0.000000</td>\n      <td>1451.125000</td>\n    </tr>\n    <tr>\n      <th>AL</th>\n      <td>0.000000</td>\n      <td>392.051690</td>\n      <td>519.001781</td>\n      <td>866.470580</td>\n      <td>0.000000</td>\n      <td>725.925068</td>\n      <td>0.000000</td>\n      <td>424.425915</td>\n      <td>561.855685</td>\n      <td>938.012899</td>\n      <td>...</td>\n      <td>566.929384</td>\n      <td>946.491449</td>\n      <td>0.000000</td>\n      <td>792.966986</td>\n      <td>0.000000</td>\n      <td>650.782817</td>\n      <td>861.506712</td>\n      <td>1438.287754</td>\n      <td>0.000000</td>\n      <td>1204.991027</td>\n    </tr>\n    <tr>\n      <th>AR</th>\n      <td>454.320000</td>\n      <td>0.000000</td>\n      <td>495.894000</td>\n      <td>747.901667</td>\n      <td>0.000000</td>\n      <td>577.934545</td>\n      <td>489.060000</td>\n      <td>0.000000</td>\n      <td>533.820000</td>\n      <td>805.105000</td>\n      <td>...</td>\n      <td>501.792000</td>\n      <td>756.796667</td>\n      <td>0.000000</td>\n      <td>584.805909</td>\n      <td>698.580000</td>\n      <td>0.000000</td>\n      <td>762.520000</td>\n      <td>1150.028333</td>\n      <td>0.000000</td>\n      <td>888.667727</td>\n    </tr>\n    <tr>\n      <th>AZ</th>\n      <td>564.208500</td>\n      <td>516.877368</td>\n      <td>583.505743</td>\n      <td>935.936923</td>\n      <td>0.000000</td>\n      <td>700.144764</td>\n      <td>607.361500</td>\n      <td>556.411053</td>\n      <td>628.135050</td>\n      <td>1007.522821</td>\n      <td>...</td>\n      <td>590.444851</td>\n      <td>947.070256</td>\n      <td>0.000000</td>\n      <td>708.474398</td>\n      <td>867.567500</td>\n      <td>794.781579</td>\n      <td>897.237624</td>\n      <td>1439.162308</td>\n      <td>0.000000</td>\n      <td>1076.594398</td>\n    </tr>\n    <tr>\n      <th>DE</th>\n      <td>0.000000</td>\n      <td>418.080000</td>\n      <td>570.856667</td>\n      <td>741.046667</td>\n      <td>942.565000</td>\n      <td>753.240000</td>\n      <td>0.000000</td>\n      <td>450.060000</td>\n      <td>614.520000</td>\n      <td>797.726667</td>\n      <td>...</td>\n      <td>577.646667</td>\n      <td>749.866667</td>\n      <td>953.780000</td>\n      <td>762.196667</td>\n      <td>0.000000</td>\n      <td>642.870000</td>\n      <td>877.790000</td>\n      <td>1139.486667</td>\n      <td>1449.355000</td>\n      <td>1158.236667</td>\n    </tr>\n    <tr>\n      <th>FL</th>\n      <td>571.410937</td>\n      <td>418.529459</td>\n      <td>598.223509</td>\n      <td>854.023005</td>\n      <td>1142.696900</td>\n      <td>788.082926</td>\n      <td>615.112063</td>\n      <td>450.538919</td>\n      <td>643.976850</td>\n      <td>919.342391</td>\n      <td>...</td>\n      <td>605.338132</td>\n      <td>864.181373</td>\n      <td>1156.291915</td>\n      <td>797.453995</td>\n      <td>878.639000</td>\n      <td>643.557162</td>\n      <td>919.869758</td>\n      <td>1313.207157</td>\n      <td>1757.097416</td>\n      <td>1211.808788</td>\n    </tr>\n    <tr>\n      <th>GA</th>\n      <td>552.702822</td>\n      <td>478.458060</td>\n      <td>598.109371</td>\n      <td>731.588156</td>\n      <td>912.108776</td>\n      <td>727.792025</td>\n      <td>594.969480</td>\n      <td>515.053433</td>\n      <td>643.851726</td>\n      <td>787.538055</td>\n      <td>...</td>\n      <td>605.220927</td>\n      <td>740.285620</td>\n      <td>922.950714</td>\n      <td>736.445652</td>\n      <td>849.867995</td>\n      <td>735.710000</td>\n      <td>919.691131</td>\n      <td>1124.936326</td>\n      <td>1402.514184</td>\n      <td>1119.100322</td>\n    </tr>\n    <tr>\n      <th>HI</th>\n      <td>433.630000</td>\n      <td>271.630000</td>\n      <td>491.816000</td>\n      <td>657.556667</td>\n      <td>767.150000</td>\n      <td>665.413333</td>\n      <td>466.800000</td>\n      <td>292.410000</td>\n      <td>529.434000</td>\n      <td>707.851667</td>\n      <td>...</td>\n      <td>497.668000</td>\n      <td>665.383333</td>\n      <td>776.275000</td>\n      <td>673.331667</td>\n      <td>666.780000</td>\n      <td>417.680000</td>\n      <td>756.256000</td>\n      <td>1011.115000</td>\n      <td>1179.627500</td>\n      <td>1023.190000</td>\n    </tr>\n    <tr>\n      <th>IA</th>\n      <td>0.000000</td>\n      <td>429.386516</td>\n      <td>562.973468</td>\n      <td>700.973953</td>\n      <td>0.000000</td>\n      <td>752.593169</td>\n      <td>0.000000</td>\n      <td>462.218194</td>\n      <td>606.025845</td>\n      <td>754.584738</td>\n      <td>...</td>\n      <td>569.662977</td>\n      <td>709.309826</td>\n      <td>0.000000</td>\n      <td>761.538562</td>\n      <td>0.000000</td>\n      <td>660.241484</td>\n      <td>865.657961</td>\n      <td>1077.863256</td>\n      <td>0.000000</td>\n      <td>1157.231820</td>\n    </tr>\n    <tr>\n      <th>IL</th>\n      <td>491.907667</td>\n      <td>557.975404</td>\n      <td>637.921646</td>\n      <td>846.363123</td>\n      <td>0.000000</td>\n      <td>759.749094</td>\n      <td>529.530333</td>\n      <td>600.652576</td>\n      <td>686.713015</td>\n      <td>911.096667</td>\n      <td>...</td>\n      <td>645.510277</td>\n      <td>856.431890</td>\n      <td>0.000000</td>\n      <td>768.786464</td>\n      <td>756.393000</td>\n      <td>857.987273</td>\n      <td>980.913631</td>\n      <td>1301.429816</td>\n      <td>0.000000</td>\n      <td>1168.244752</td>\n    </tr>\n    <tr>\n      <th>IN</th>\n      <td>540.354492</td>\n      <td>0.000000</td>\n      <td>514.094622</td>\n      <td>834.823189</td>\n      <td>0.000000</td>\n      <td>621.317005</td>\n      <td>581.673957</td>\n      <td>0.000000</td>\n      <td>553.410583</td>\n      <td>898.668126</td>\n      <td>...</td>\n      <td>520.205443</td>\n      <td>844.747694</td>\n      <td>0.000000</td>\n      <td>628.701465</td>\n      <td>830.874759</td>\n      <td>0.000000</td>\n      <td>790.502765</td>\n      <td>1283.676126</td>\n      <td>0.000000</td>\n      <td>955.372856</td>\n    </tr>\n    <tr>\n      <th>KS</th>\n      <td>602.862233</td>\n      <td>502.970536</td>\n      <td>641.032582</td>\n      <td>790.082310</td>\n      <td>0.000000</td>\n      <td>743.769031</td>\n      <td>648.964000</td>\n      <td>541.426875</td>\n      <td>690.056025</td>\n      <td>850.505069</td>\n      <td>...</td>\n      <td>648.652760</td>\n      <td>799.474534</td>\n      <td>0.000000</td>\n      <td>752.611341</td>\n      <td>926.994633</td>\n      <td>773.390000</td>\n      <td>985.690929</td>\n      <td>1214.879069</td>\n      <td>0.000000</td>\n      <td>1143.667093</td>\n    </tr>\n    <tr>\n      <th>KY</th>\n      <td>0.000000</td>\n      <td>419.855598</td>\n      <td>534.659895</td>\n      <td>845.464401</td>\n      <td>0.000000</td>\n      <td>710.366073</td>\n      <td>0.000000</td>\n      <td>451.966282</td>\n      <td>575.552979</td>\n      <td>910.128511</td>\n      <td>...</td>\n      <td>541.019652</td>\n      <td>855.520809</td>\n      <td>0.000000</td>\n      <td>718.816594</td>\n      <td>0.000000</td>\n      <td>645.599316</td>\n      <td>822.132352</td>\n      <td>1300.047573</td>\n      <td>0.000000</td>\n      <td>1092.311240</td>\n    </tr>\n    <tr>\n      <th>LA</th>\n      <td>705.657734</td>\n      <td>0.000000</td>\n      <td>677.425861</td>\n      <td>1040.960264</td>\n      <td>0.000000</td>\n      <td>977.738283</td>\n      <td>759.632500</td>\n      <td>0.000000</td>\n      <td>729.240583</td>\n      <td>1120.581498</td>\n      <td>...</td>\n      <td>685.485389</td>\n      <td>1053.346035</td>\n      <td>0.000000</td>\n      <td>989.372043</td>\n      <td>1085.073125</td>\n      <td>0.000000</td>\n      <td>1041.661000</td>\n      <td>1600.662379</td>\n      <td>0.000000</td>\n      <td>1503.446826</td>\n    </tr>\n    <tr>\n      <th>ME</th>\n      <td>0.000000</td>\n      <td>344.406042</td>\n      <td>533.406827</td>\n      <td>729.356207</td>\n      <td>0.000000</td>\n      <td>672.300676</td>\n      <td>0.000000</td>\n      <td>370.747500</td>\n      <td>574.206298</td>\n      <td>785.142931</td>\n      <td>...</td>\n      <td>539.754471</td>\n      <td>738.034655</td>\n      <td>0.000000</td>\n      <td>680.300180</td>\n      <td>0.000000</td>\n      <td>529.584375</td>\n      <td>820.208125</td>\n      <td>1121.515000</td>\n      <td>0.000000</td>\n      <td>1033.781757</td>\n    </tr>\n    <tr>\n      <th>MI</th>\n      <td>451.048298</td>\n      <td>391.014754</td>\n      <td>455.404282</td>\n      <td>702.939911</td>\n      <td>837.772857</td>\n      <td>606.658078</td>\n      <td>485.544553</td>\n      <td>420.922787</td>\n      <td>490.236083</td>\n      <td>756.703614</td>\n      <td>...</td>\n      <td>460.822431</td>\n      <td>711.300510</td>\n      <td>847.742857</td>\n      <td>613.874346</td>\n      <td>693.560809</td>\n      <td>601.256503</td>\n      <td>700.264383</td>\n      <td>1080.890776</td>\n      <td>1288.230000</td>\n      <td>932.841220</td>\n    </tr>\n    <tr>\n      <th>MO</th>\n      <td>587.255984</td>\n      <td>448.896617</td>\n      <td>655.876387</td>\n      <td>951.174336</td>\n      <td>0.000000</td>\n      <td>819.009005</td>\n      <td>632.163373</td>\n      <td>483.228045</td>\n      <td>706.032274</td>\n      <td>1023.917512</td>\n      <td>...</td>\n      <td>663.668295</td>\n      <td>962.481659</td>\n      <td>0.000000</td>\n      <td>828.744011</td>\n      <td>902.994739</td>\n      <td>690.252556</td>\n      <td>1008.507225</td>\n      <td>1462.580355</td>\n      <td>0.000000</td>\n      <td>1259.358629</td>\n    </tr>\n    <tr>\n      <th>MS</th>\n      <td>529.371951</td>\n      <td>0.000000</td>\n      <td>565.423720</td>\n      <td>763.740518</td>\n      <td>0.000000</td>\n      <td>624.277249</td>\n      <td>573.081220</td>\n      <td>0.000000</td>\n      <td>612.103333</td>\n      <td>826.798506</td>\n      <td>...</td>\n      <td>617.637764</td>\n      <td>834.270457</td>\n      <td>0.000000</td>\n      <td>681.926938</td>\n      <td>878.720122</td>\n      <td>0.000000</td>\n      <td>938.561118</td>\n      <td>1267.754573</td>\n      <td>0.000000</td>\n      <td>1036.252182</td>\n    </tr>\n    <tr>\n      <th>MT</th>\n      <td>568.216071</td>\n      <td>458.256429</td>\n      <td>533.247868</td>\n      <td>746.097879</td>\n      <td>0.000000</td>\n      <td>700.679348</td>\n      <td>611.679464</td>\n      <td>493.306071</td>\n      <td>574.098967</td>\n      <td>803.143160</td>\n      <td>...</td>\n      <td>539.626593</td>\n      <td>754.946883</td>\n      <td>0.000000</td>\n      <td>709.030276</td>\n      <td>873.731607</td>\n      <td>704.654286</td>\n      <td>820.004110</td>\n      <td>1147.280433</td>\n      <td>0.000000</td>\n      <td>1077.264261</td>\n    </tr>\n    <tr>\n      <th>NC</th>\n      <td>600.992811</td>\n      <td>392.482204</td>\n      <td>619.396815</td>\n      <td>916.159465</td>\n      <td>0.000000</td>\n      <td>812.641610</td>\n      <td>646.957972</td>\n      <td>422.501613</td>\n      <td>666.769463</td>\n      <td>986.231070</td>\n      <td>...</td>\n      <td>626.762043</td>\n      <td>927.056451</td>\n      <td>0.000000</td>\n      <td>822.306931</td>\n      <td>924.127117</td>\n      <td>603.512634</td>\n      <td>952.426164</td>\n      <td>1408.754310</td>\n      <td>0.000000</td>\n      <td>1249.575556</td>\n    </tr>\n    <tr>\n      <th>ND</th>\n      <td>548.932364</td>\n      <td>313.252892</td>\n      <td>482.362157</td>\n      <td>668.297424</td>\n      <td>0.000000</td>\n      <td>726.610657</td>\n      <td>590.906182</td>\n      <td>337.209277</td>\n      <td>519.251910</td>\n      <td>719.412273</td>\n      <td>...</td>\n      <td>488.097843</td>\n      <td>676.245606</td>\n      <td>0.000000</td>\n      <td>735.251284</td>\n      <td>844.065455</td>\n      <td>481.678313</td>\n      <td>741.713416</td>\n      <td>1027.618523</td>\n      <td>0.000000</td>\n      <td>1117.287015</td>\n    </tr>\n    <tr>\n      <th>NE</th>\n      <td>0.000000</td>\n      <td>522.634404</td>\n      <td>745.166581</td>\n      <td>1068.166043</td>\n      <td>0.000000</td>\n      <td>1066.220781</td>\n      <td>0.000000</td>\n      <td>562.602890</td>\n      <td>802.157903</td>\n      <td>1149.861367</td>\n      <td>...</td>\n      <td>754.027459</td>\n      <td>1080.867590</td>\n      <td>0.000000</td>\n      <td>1078.906152</td>\n      <td>0.000000</td>\n      <td>803.633303</td>\n      <td>1145.817324</td>\n      <td>1642.486079</td>\n      <td>0.000000</td>\n      <td>1639.502402</td>\n    </tr>\n    <tr>\n      <th>NH</th>\n      <td>372.960000</td>\n      <td>258.847368</td>\n      <td>385.728966</td>\n      <td>578.830000</td>\n      <td>0.000000</td>\n      <td>504.078667</td>\n      <td>401.485000</td>\n      <td>278.645789</td>\n      <td>415.228621</td>\n      <td>623.097755</td>\n      <td>...</td>\n      <td>390.312184</td>\n      <td>585.713265</td>\n      <td>0.000000</td>\n      <td>510.072061</td>\n      <td>573.495000</td>\n      <td>398.023158</td>\n      <td>593.118161</td>\n      <td>890.045714</td>\n      <td>0.000000</td>\n      <td>775.105333</td>\n    </tr>\n    <tr>\n      <th>NM</th>\n      <td>371.195333</td>\n      <td>395.197879</td>\n      <td>414.006727</td>\n      <td>532.259125</td>\n      <td>0.000000</td>\n      <td>564.402096</td>\n      <td>399.587455</td>\n      <td>425.425455</td>\n      <td>445.672242</td>\n      <td>572.969024</td>\n      <td>...</td>\n      <td>418.932606</td>\n      <td>538.590976</td>\n      <td>0.000000</td>\n      <td>571.113434</td>\n      <td>570.774727</td>\n      <td>607.685606</td>\n      <td>636.608333</td>\n      <td>818.441111</td>\n      <td>0.000000</td>\n      <td>867.862626</td>\n    </tr>\n    <tr>\n      <th>OH</th>\n      <td>465.760273</td>\n      <td>380.805135</td>\n      <td>510.583657</td>\n      <td>772.606011</td>\n      <td>0.000000</td>\n      <td>650.904404</td>\n      <td>501.381364</td>\n      <td>409.930595</td>\n      <td>549.633403</td>\n      <td>831.697213</td>\n      <td>...</td>\n      <td>516.655402</td>\n      <td>781.795319</td>\n      <td>0.000000</td>\n      <td>658.644884</td>\n      <td>716.182970</td>\n      <td>585.552486</td>\n      <td>785.107878</td>\n      <td>1188.014026</td>\n      <td>0.000000</td>\n      <td>1000.874820</td>\n    </tr>\n    <tr>\n      <th>OK</th>\n      <td>642.494189</td>\n      <td>552.889512</td>\n      <td>711.605838</td>\n      <td>854.652226</td>\n      <td>0.000000</td>\n      <td>866.673993</td>\n      <td>691.629820</td>\n      <td>595.171951</td>\n      <td>766.026416</td>\n      <td>920.016825</td>\n      <td>...</td>\n      <td>720.065318</td>\n      <td>864.817774</td>\n      <td>0.000000</td>\n      <td>876.983498</td>\n      <td>987.936802</td>\n      <td>850.159817</td>\n      <td>1094.209335</td>\n      <td>1314.170949</td>\n      <td>0.000000</td>\n      <td>1332.660565</td>\n    </tr>\n    <tr>\n      <th>OR</th>\n      <td>0.000000</td>\n      <td>320.076923</td>\n      <td>489.561953</td>\n      <td>729.211706</td>\n      <td>0.000000</td>\n      <td>639.809385</td>\n      <td>0.000000</td>\n      <td>346.461538</td>\n      <td>530.009120</td>\n      <td>789.464369</td>\n      <td>...</td>\n      <td>534.726116</td>\n      <td>796.538601</td>\n      <td>0.000000</td>\n      <td>698.898464</td>\n      <td>0.000000</td>\n      <td>531.153846</td>\n      <td>812.550279</td>\n      <td>1210.482833</td>\n      <td>0.000000</td>\n      <td>1061.987682</td>\n    </tr>\n    <tr>\n      <th>SC</th>\n      <td>475.440000</td>\n      <td>314.335192</td>\n      <td>507.017009</td>\n      <td>748.260063</td>\n      <td>0.000000</td>\n      <td>718.474906</td>\n      <td>511.801854</td>\n      <td>338.377692</td>\n      <td>545.792969</td>\n      <td>805.490475</td>\n      <td>...</td>\n      <td>513.046310</td>\n      <td>757.160854</td>\n      <td>0.000000</td>\n      <td>727.019633</td>\n      <td>731.069268</td>\n      <td>483.345769</td>\n      <td>779.623297</td>\n      <td>1150.578861</td>\n      <td>0.000000</td>\n      <td>1104.776730</td>\n    </tr>\n    <tr>\n      <th>SD</th>\n      <td>0.000000</td>\n      <td>450.015580</td>\n      <td>664.641696</td>\n      <td>971.658148</td>\n      <td>0.000000</td>\n      <td>910.134307</td>\n      <td>0.000000</td>\n      <td>484.430435</td>\n      <td>715.472544</td>\n      <td>1045.972444</td>\n      <td>...</td>\n      <td>672.546345</td>\n      <td>983.213778</td>\n      <td>0.000000</td>\n      <td>920.960608</td>\n      <td>0.000000</td>\n      <td>691.974058</td>\n      <td>1021.999854</td>\n      <td>1494.088815</td>\n      <td>0.000000</td>\n      <td>1399.489002</td>\n    </tr>\n    <tr>\n      <th>TN</th>\n      <td>503.638699</td>\n      <td>455.965227</td>\n      <td>576.350518</td>\n      <td>922.630503</td>\n      <td>0.000000</td>\n      <td>716.524686</td>\n      <td>542.155765</td>\n      <td>490.838864</td>\n      <td>620.430962</td>\n      <td>993.195927</td>\n      <td>...</td>\n      <td>583.204612</td>\n      <td>933.604645</td>\n      <td>0.000000</td>\n      <td>725.043775</td>\n      <td>774.427015</td>\n      <td>701.119545</td>\n      <td>886.235524</td>\n      <td>1418.701625</td>\n      <td>0.000000</td>\n      <td>1101.774382</td>\n    </tr>\n    <tr>\n      <th>TX</th>\n      <td>542.633944</td>\n      <td>464.479935</td>\n      <td>589.875266</td>\n      <td>838.974294</td>\n      <td>0.000000</td>\n      <td>703.435650</td>\n      <td>584.135345</td>\n      <td>500.008636</td>\n      <td>634.988514</td>\n      <td>903.140164</td>\n      <td>...</td>\n      <td>596.889076</td>\n      <td>848.951486</td>\n      <td>0.000000</td>\n      <td>711.797711</td>\n      <td>834.387427</td>\n      <td>714.216688</td>\n      <td>907.030184</td>\n      <td>1290.065028</td>\n      <td>0.000000</td>\n      <td>1081.645650</td>\n    </tr>\n    <tr>\n      <th>UT</th>\n      <td>406.164000</td>\n      <td>350.610789</td>\n      <td>491.845512</td>\n      <td>824.496232</td>\n      <td>0.000000</td>\n      <td>683.280683</td>\n      <td>494.508824</td>\n      <td>426.878947</td>\n      <td>598.828602</td>\n      <td>1003.834493</td>\n      <td>...</td>\n      <td>583.467343</td>\n      <td>978.083623</td>\n      <td>0.000000</td>\n      <td>810.560466</td>\n      <td>679.576706</td>\n      <td>586.628684</td>\n      <td>822.941024</td>\n      <td>1379.521522</td>\n      <td>0.000000</td>\n      <td>1143.243540</td>\n    </tr>\n    <tr>\n      <th>VA</th>\n      <td>510.484615</td>\n      <td>410.375240</td>\n      <td>543.033752</td>\n      <td>704.554244</td>\n      <td>843.460000</td>\n      <td>707.641151</td>\n      <td>549.530564</td>\n      <td>441.764471</td>\n      <td>584.569238</td>\n      <td>758.443285</td>\n      <td>...</td>\n      <td>549.495187</td>\n      <td>712.937209</td>\n      <td>853.490000</td>\n      <td>716.059692</td>\n      <td>784.960462</td>\n      <td>631.026779</td>\n      <td>835.010254</td>\n      <td>1083.376773</td>\n      <td>1296.970000</td>\n      <td>1088.121740</td>\n    </tr>\n    <tr>\n      <th>WI</th>\n      <td>519.900034</td>\n      <td>393.254258</td>\n      <td>534.790754</td>\n      <td>722.524095</td>\n      <td>755.823000</td>\n      <td>735.580511</td>\n      <td>559.663322</td>\n      <td>423.328421</td>\n      <td>575.691641</td>\n      <td>777.784687</td>\n      <td>...</td>\n      <td>541.149737</td>\n      <td>731.117549</td>\n      <td>764.804000</td>\n      <td>744.329428</td>\n      <td>799.435274</td>\n      <td>604.690813</td>\n      <td>822.329281</td>\n      <td>1111.002961</td>\n      <td>1162.194667</td>\n      <td>1131.079991</td>\n    </tr>\n    <tr>\n      <th>WV</th>\n      <td>0.000000</td>\n      <td>665.236727</td>\n      <td>885.065333</td>\n      <td>1206.917564</td>\n      <td>0.000000</td>\n      <td>958.994747</td>\n      <td>0.000000</td>\n      <td>716.115636</td>\n      <td>952.759788</td>\n      <td>1299.230982</td>\n      <td>...</td>\n      <td>895.594333</td>\n      <td>1221.276582</td>\n      <td>0.000000</td>\n      <td>970.402485</td>\n      <td>0.000000</td>\n      <td>1022.920182</td>\n      <td>1360.941667</td>\n      <td>1855.848145</td>\n      <td>0.000000</td>\n      <td>1474.620646</td>\n    </tr>\n    <tr>\n      <th>WY</th>\n      <td>754.038261</td>\n      <td>0.000000</td>\n      <td>782.706522</td>\n      <td>935.744783</td>\n      <td>0.000000</td>\n      <td>1102.754348</td>\n      <td>811.715072</td>\n      <td>0.000000</td>\n      <td>842.571014</td>\n      <td>1007.316609</td>\n      <td>...</td>\n      <td>792.017246</td>\n      <td>946.874957</td>\n      <td>0.000000</td>\n      <td>1115.872609</td>\n      <td>1159.456087</td>\n      <td>0.000000</td>\n      <td>1203.545362</td>\n      <td>1438.864261</td>\n      <td>0.000000</td>\n      <td>1695.672609</td>\n    </tr>\n  </tbody>\n</table>\n<p>36 rows × 108 columns</p>\n</div>"
     },
     "metadata": {},
     "execution_count": 5
    }
   ],
   "source": [
    "'''\n",
    "View by State + Plan Type + Tier Type\n",
    "'''\n",
    "pd.pivot_table(df_target, index=['State Code'], columns=[\"Metal Level\"], values=premium_list, aggfunc=np.mean, fill_value=0)"
   ]
  },
  {
   "cell_type": "code",
   "execution_count": 6,
   "metadata": {},
   "outputs": [
    {
     "output_type": "stream",
     "name": "stdout",
     "text": [
      "2017\n",
      "C:\\Users\\dhh3hb\\Anaconda3\\lib\\site-packages\\IPython\\core\\interactiveshell.py:3146: DtypeWarning: Columns (21) have mixed types.Specify dtype option on import or set low_memory=False.\n",
      "  has_raised = await self.run_ast_nodes(code_ast.body, cell_name,\n",
      "C:\\Users\\dhh3hb\\Anaconda3\\lib\\site-packages\\pandas\\core\\indexing.py:1717: SettingWithCopyWarning: \n",
      "A value is trying to be set on a copy of a slice from a DataFrame.\n",
      "Try using .loc[row_indexer,col_indexer] = value instead\n",
      "\n",
      "See the caveats in the documentation: https://pandas.pydata.org/pandas-docs/stable/user_guide/indexing.html#returning-a-view-versus-a-copy\n",
      "  isetter(loc, v)\n",
      "C:\\Users\\dhh3hb\\Anaconda3\\lib\\site-packages\\pandas\\core\\frame.py:3065: SettingWithCopyWarning: \n",
      "A value is trying to be set on a copy of a slice from a DataFrame.\n",
      "Try using .loc[row_indexer,col_indexer] = value instead\n",
      "\n",
      "See the caveats in the documentation: https://pandas.pydata.org/pandas-docs/stable/user_guide/indexing.html#returning-a-view-versus-a-copy\n",
      "  self[k1] = value[k2]\n",
      "2018\n",
      "2019\n",
      "C:\\Users\\dhh3hb\\Anaconda3\\lib\\site-packages\\IPython\\core\\interactiveshell.py:3146: DtypeWarning: Columns (20) have mixed types.Specify dtype option on import or set low_memory=False.\n",
      "  has_raised = await self.run_ast_nodes(code_ast.body, cell_name,\n",
      "2020\n",
      "2021\n"
     ]
    },
    {
     "output_type": "execute_result",
     "data": {
      "text/plain": [
       "    State Code   Metal Level  count\n",
       "3           AL  Catastrophic     71\n",
       "12          AZ  Catastrophic     19\n",
       "16          DE  Catastrophic      3\n",
       "22          FL  Catastrophic     74\n",
       "28          GA  Catastrophic    134\n",
       "..         ...           ...    ...\n",
       "31          GA      Platinum     98\n",
       "37          HI      Platinum     20\n",
       "73          MI      Platinum     14\n",
       "155         VA      Platinum     20\n",
       "161         WI      Platinum     30\n",
       "\n",
       "[171 rows x 3 columns]"
      ],
      "text/html": "<div>\n<style scoped>\n    .dataframe tbody tr th:only-of-type {\n        vertical-align: middle;\n    }\n\n    .dataframe tbody tr th {\n        vertical-align: top;\n    }\n\n    .dataframe thead th {\n        text-align: right;\n    }\n</style>\n<table border=\"1\" class=\"dataframe\">\n  <thead>\n    <tr style=\"text-align: right;\">\n      <th></th>\n      <th>State Code</th>\n      <th>Metal Level</th>\n      <th>count</th>\n    </tr>\n  </thead>\n  <tbody>\n    <tr>\n      <th>3</th>\n      <td>AL</td>\n      <td>Catastrophic</td>\n      <td>71</td>\n    </tr>\n    <tr>\n      <th>12</th>\n      <td>AZ</td>\n      <td>Catastrophic</td>\n      <td>19</td>\n    </tr>\n    <tr>\n      <th>16</th>\n      <td>DE</td>\n      <td>Catastrophic</td>\n      <td>3</td>\n    </tr>\n    <tr>\n      <th>22</th>\n      <td>FL</td>\n      <td>Catastrophic</td>\n      <td>74</td>\n    </tr>\n    <tr>\n      <th>28</th>\n      <td>GA</td>\n      <td>Catastrophic</td>\n      <td>134</td>\n    </tr>\n    <tr>\n      <th>...</th>\n      <td>...</td>\n      <td>...</td>\n      <td>...</td>\n    </tr>\n    <tr>\n      <th>31</th>\n      <td>GA</td>\n      <td>Platinum</td>\n      <td>98</td>\n    </tr>\n    <tr>\n      <th>37</th>\n      <td>HI</td>\n      <td>Platinum</td>\n      <td>20</td>\n    </tr>\n    <tr>\n      <th>73</th>\n      <td>MI</td>\n      <td>Platinum</td>\n      <td>14</td>\n    </tr>\n    <tr>\n      <th>155</th>\n      <td>VA</td>\n      <td>Platinum</td>\n      <td>20</td>\n    </tr>\n    <tr>\n      <th>161</th>\n      <td>WI</td>\n      <td>Platinum</td>\n      <td>30</td>\n    </tr>\n  </tbody>\n</table>\n<p>171 rows × 3 columns</p>\n</div>"
     },
     "metadata": {},
     "execution_count": 6
    }
   ],
   "source": [
    "'''\n",
    "View by State + Tier Type\n",
    "'''\n",
    "statemetal_dict = {}\n",
    "for yr in range(2017,2022):\n",
    "    print(yr)\n",
    "    df = pd.read_csv('insurance_plans/{}.csv'.format(yr))\n",
    "    # print(len(df))\n",
    "    df_target = df[TARGET_FIELDS]\n",
    "    df_target.loc[:, premium_list] = df_target.loc[:, premium_list].applymap(lambda x: x.replace('$', ''))\n",
    "    df_target.loc[:, premium_list] = df_target.loc[:, premium_list].applymap(lambda x: x.replace(',', ''))\n",
    "    df_target[premium_list] = df_target[premium_list].apply(pd.to_numeric)\n",
    "\n",
    "    statemetal_df = df_target.groupby(['State Code', 'Metal Level']).size().to_frame('count').reset_index()\n",
    "    statemetal_df['Metal Level'] = pd.Categorical(statemetal_df['Metal Level'], \n",
    "                    categories=['Catastrophic',\"Bronze\",\"Expanded Bronze\",\"Silver\",\"Gold\", 'Platinum'],\n",
    "                    ordered=True)\n",
    "    statemetal_df.sort_values(['Metal Level', 'State Code'], inplace=True)\n",
    "    # statemetal_df.sort_values('State Code', inplace=True)\n",
    "\n",
    "    # display(result_df)\n",
    "    statemetal_dict[yr] = statemetal_df\n",
    "    # break\n",
    "statemetal_df"
   ]
  },
  {
   "cell_type": "code",
   "execution_count": 15,
   "metadata": {},
   "outputs": [
    {
     "output_type": "execute_result",
     "data": {
      "text/plain": [
       "    State Code      Metal Level  count\n",
       "0           AK  Expanded Bronze     70\n",
       "1           AK             Gold     35\n",
       "2           AK           Silver     64\n",
       "3           AL     Catastrophic     71\n",
       "4           AL  Expanded Bronze    146\n",
       "..         ...              ...    ...\n",
       "166         WV           Silver    495\n",
       "167         WY           Bronze     69\n",
       "168         WY  Expanded Bronze     69\n",
       "169         WY             Gold    115\n",
       "170         WY           Silver    115\n",
       "\n",
       "[171 rows x 3 columns]"
      ],
      "text/html": "<div>\n<style scoped>\n    .dataframe tbody tr th:only-of-type {\n        vertical-align: middle;\n    }\n\n    .dataframe tbody tr th {\n        vertical-align: top;\n    }\n\n    .dataframe thead th {\n        text-align: right;\n    }\n</style>\n<table border=\"1\" class=\"dataframe\">\n  <thead>\n    <tr style=\"text-align: right;\">\n      <th></th>\n      <th>State Code</th>\n      <th>Metal Level</th>\n      <th>count</th>\n    </tr>\n  </thead>\n  <tbody>\n    <tr>\n      <th>0</th>\n      <td>AK</td>\n      <td>Expanded Bronze</td>\n      <td>70</td>\n    </tr>\n    <tr>\n      <th>1</th>\n      <td>AK</td>\n      <td>Gold</td>\n      <td>35</td>\n    </tr>\n    <tr>\n      <th>2</th>\n      <td>AK</td>\n      <td>Silver</td>\n      <td>64</td>\n    </tr>\n    <tr>\n      <th>3</th>\n      <td>AL</td>\n      <td>Catastrophic</td>\n      <td>71</td>\n    </tr>\n    <tr>\n      <th>4</th>\n      <td>AL</td>\n      <td>Expanded Bronze</td>\n      <td>146</td>\n    </tr>\n    <tr>\n      <th>...</th>\n      <td>...</td>\n      <td>...</td>\n      <td>...</td>\n    </tr>\n    <tr>\n      <th>166</th>\n      <td>WV</td>\n      <td>Silver</td>\n      <td>495</td>\n    </tr>\n    <tr>\n      <th>167</th>\n      <td>WY</td>\n      <td>Bronze</td>\n      <td>69</td>\n    </tr>\n    <tr>\n      <th>168</th>\n      <td>WY</td>\n      <td>Expanded Bronze</td>\n      <td>69</td>\n    </tr>\n    <tr>\n      <th>169</th>\n      <td>WY</td>\n      <td>Gold</td>\n      <td>115</td>\n    </tr>\n    <tr>\n      <th>170</th>\n      <td>WY</td>\n      <td>Silver</td>\n      <td>115</td>\n    </tr>\n  </tbody>\n</table>\n<p>171 rows × 3 columns</p>\n</div>"
     },
     "metadata": {},
     "execution_count": 15
    }
   ],
   "source": [
    "statemetal_dict[2021]"
   ]
  },
  {
   "cell_type": "code",
   "execution_count": 7,
   "metadata": {},
   "outputs": [
    {
     "output_type": "stream",
     "name": "stdout",
     "text": [
      "2017\n",
      "C:\\Users\\dhh3hb\\Anaconda3\\lib\\site-packages\\IPython\\core\\interactiveshell.py:3146: DtypeWarning: Columns (21) have mixed types.Specify dtype option on import or set low_memory=False.\n",
      "  has_raised = await self.run_ast_nodes(code_ast.body, cell_name,\n",
      "C:\\Users\\dhh3hb\\Anaconda3\\lib\\site-packages\\pandas\\core\\indexing.py:1717: SettingWithCopyWarning: \n",
      "A value is trying to be set on a copy of a slice from a DataFrame.\n",
      "Try using .loc[row_indexer,col_indexer] = value instead\n",
      "\n",
      "See the caveats in the documentation: https://pandas.pydata.org/pandas-docs/stable/user_guide/indexing.html#returning-a-view-versus-a-copy\n",
      "  isetter(loc, v)\n",
      "C:\\Users\\dhh3hb\\Anaconda3\\lib\\site-packages\\pandas\\core\\frame.py:3065: SettingWithCopyWarning: \n",
      "A value is trying to be set on a copy of a slice from a DataFrame.\n",
      "Try using .loc[row_indexer,col_indexer] = value instead\n",
      "\n",
      "See the caveats in the documentation: https://pandas.pydata.org/pandas-docs/stable/user_guide/indexing.html#returning-a-view-versus-a-copy\n",
      "  self[k1] = value[k2]\n",
      "2018\n",
      "2019\n",
      "C:\\Users\\dhh3hb\\Anaconda3\\lib\\site-packages\\IPython\\core\\interactiveshell.py:3146: DtypeWarning: Columns (20) have mixed types.Specify dtype option on import or set low_memory=False.\n",
      "  has_raised = await self.run_ast_nodes(code_ast.body, cell_name,\n",
      "2020\n",
      "2021\n"
     ]
    },
    {
     "output_type": "execute_result",
     "data": {
      "text/plain": [
       "                 Premium Adult Individual Age 21  \\\n",
       "Metal Level                                        \n",
       "Bronze                                       305   \n",
       "Catastrophic                                 249   \n",
       "Expanded Bronze                              329   \n",
       "Gold                                         463   \n",
       "Platinum                                     589   \n",
       "Silver                                       410   \n",
       "\n",
       "                 Premium Adult Individual Age 27  \\\n",
       "Metal Level                                        \n",
       "Bronze                                       320   \n",
       "Catastrophic                                 262   \n",
       "Expanded Bronze                              347   \n",
       "Gold                                         487   \n",
       "Platinum                                     617   \n",
       "Silver                                       431   \n",
       "\n",
       "                 Premium Adult Individual Age 30   \\\n",
       "Metal Level                                         \n",
       "Bronze                                        347   \n",
       "Catastrophic                                  283   \n",
       "Expanded Bronze                               375   \n",
       "Gold                                          527   \n",
       "Platinum                                      668   \n",
       "Silver                                        466   \n",
       "\n",
       "                 Premium Adult Individual Age 40   \\\n",
       "Metal Level                                         \n",
       "Bronze                                        390   \n",
       "Catastrophic                                  319   \n",
       "Expanded Bronze                               422   \n",
       "Gold                                          593   \n",
       "Platinum                                      752   \n",
       "Silver                                        525   \n",
       "\n",
       "                 Premium Adult Individual Age 50   \\\n",
       "Metal Level                                         \n",
       "Bronze                                        546   \n",
       "Catastrophic                                  446   \n",
       "Expanded Bronze                               591   \n",
       "Gold                                          829   \n",
       "Platinum                                     1052   \n",
       "Silver                                        734   \n",
       "\n",
       "                 Premium Adult Individual Age 60   Individual+1 child, Age 21  \\\n",
       "Metal Level                                                                     \n",
       "Bronze                                        829                         536   \n",
       "Catastrophic                                  677                         439   \n",
       "Expanded Bronze                               896                         579   \n",
       "Gold                                         1259                         814   \n",
       "Platinum                                     1598                        1039   \n",
       "Silver                                       1114                         722   \n",
       "\n",
       "                 Individual+1 child, Age 30  Individual+1 child, Age 40  \\\n",
       "Metal Level                                                               \n",
       "Bronze                                  578                         622   \n",
       "Catastrophic                            473                         509   \n",
       "Expanded Bronze                         626                         672   \n",
       "Gold                                    878                         944   \n",
       "Platinum                               1119                        1203   \n",
       "Silver                                  778                         837   \n",
       "\n",
       "                 Individual+1 child, Age 50  Individual+2 children, Age 21  \\\n",
       "Metal Level                                                                  \n",
       "Bronze                                  777                            768   \n",
       "Catastrophic                            636                            629   \n",
       "Expanded Bronze                         841                            830   \n",
       "Gold                                   1180                           1165   \n",
       "Platinum                               1502                           1490   \n",
       "Silver                                 1046                           1034   \n",
       "\n",
       "                 Individual+2 children, Age 30  Individual+2 children, Age 40  \\\n",
       "Metal Level                                                                     \n",
       "Bronze                                     810                            854   \n",
       "Catastrophic                               663                            699   \n",
       "Expanded Bronze                            876                            923   \n",
       "Gold                                      1229                           1295   \n",
       "Platinum                                  1570                           1654   \n",
       "Silver                                    1091                           1149   \n",
       "\n",
       "                 Individual+2 children, Age 50  \\\n",
       "Metal Level                                      \n",
       "Bronze                                    1009   \n",
       "Catastrophic                               826   \n",
       "Expanded Bronze                           1091   \n",
       "Gold                                      1531   \n",
       "Platinum                                  1953   \n",
       "Silver                                    1358   \n",
       "\n",
       "                 Individual+3 or more children, Age 21  \\\n",
       "Metal Level                                              \n",
       "Bronze                                            1000   \n",
       "Catastrophic                                       819   \n",
       "Expanded Bronze                                   1080   \n",
       "Gold                                              1516   \n",
       "Platinum                                          1941   \n",
       "Silver                                            1346   \n",
       "\n",
       "                 Individual+3 or more children, Age 30  \\\n",
       "Metal Level                                              \n",
       "Bronze                                            1042   \n",
       "Catastrophic                                       853   \n",
       "Expanded Bronze                                   1126   \n",
       "Gold                                              1580   \n",
       "Platinum                                          2020   \n",
       "Silver                                            1403   \n",
       "\n",
       "                 Individual+3 or more children, Age 40  \\\n",
       "Metal Level                                              \n",
       "Bronze                                            1085   \n",
       "Catastrophic                                       889   \n",
       "Expanded Bronze                                   1173   \n",
       "Gold                                              1646   \n",
       "Platinum                                          2105   \n",
       "Silver                                            1461   \n",
       "\n",
       "                 Individual+3 or more children, Age 50  \n",
       "Metal Level                                             \n",
       "Bronze                                            1241  \n",
       "Catastrophic                                      1016  \n",
       "Expanded Bronze                                   1341  \n",
       "Gold                                              1882  \n",
       "Platinum                                          2404  \n",
       "Silver                                            1670  "
      ],
      "text/html": "<div>\n<style scoped>\n    .dataframe tbody tr th:only-of-type {\n        vertical-align: middle;\n    }\n\n    .dataframe tbody tr th {\n        vertical-align: top;\n    }\n\n    .dataframe thead th {\n        text-align: right;\n    }\n</style>\n<table border=\"1\" class=\"dataframe\">\n  <thead>\n    <tr style=\"text-align: right;\">\n      <th></th>\n      <th>Premium Adult Individual Age 21</th>\n      <th>Premium Adult Individual Age 27</th>\n      <th>Premium Adult Individual Age 30</th>\n      <th>Premium Adult Individual Age 40</th>\n      <th>Premium Adult Individual Age 50</th>\n      <th>Premium Adult Individual Age 60</th>\n      <th>Individual+1 child, Age 21</th>\n      <th>Individual+1 child, Age 30</th>\n      <th>Individual+1 child, Age 40</th>\n      <th>Individual+1 child, Age 50</th>\n      <th>Individual+2 children, Age 21</th>\n      <th>Individual+2 children, Age 30</th>\n      <th>Individual+2 children, Age 40</th>\n      <th>Individual+2 children, Age 50</th>\n      <th>Individual+3 or more children, Age 21</th>\n      <th>Individual+3 or more children, Age 30</th>\n      <th>Individual+3 or more children, Age 40</th>\n      <th>Individual+3 or more children, Age 50</th>\n    </tr>\n    <tr>\n      <th>Metal Level</th>\n      <th></th>\n      <th></th>\n      <th></th>\n      <th></th>\n      <th></th>\n      <th></th>\n      <th></th>\n      <th></th>\n      <th></th>\n      <th></th>\n      <th></th>\n      <th></th>\n      <th></th>\n      <th></th>\n      <th></th>\n      <th></th>\n      <th></th>\n      <th></th>\n    </tr>\n  </thead>\n  <tbody>\n    <tr>\n      <th>Bronze</th>\n      <td>305</td>\n      <td>320</td>\n      <td>347</td>\n      <td>390</td>\n      <td>546</td>\n      <td>829</td>\n      <td>536</td>\n      <td>578</td>\n      <td>622</td>\n      <td>777</td>\n      <td>768</td>\n      <td>810</td>\n      <td>854</td>\n      <td>1009</td>\n      <td>1000</td>\n      <td>1042</td>\n      <td>1085</td>\n      <td>1241</td>\n    </tr>\n    <tr>\n      <th>Catastrophic</th>\n      <td>249</td>\n      <td>262</td>\n      <td>283</td>\n      <td>319</td>\n      <td>446</td>\n      <td>677</td>\n      <td>439</td>\n      <td>473</td>\n      <td>509</td>\n      <td>636</td>\n      <td>629</td>\n      <td>663</td>\n      <td>699</td>\n      <td>826</td>\n      <td>819</td>\n      <td>853</td>\n      <td>889</td>\n      <td>1016</td>\n    </tr>\n    <tr>\n      <th>Expanded Bronze</th>\n      <td>329</td>\n      <td>347</td>\n      <td>375</td>\n      <td>422</td>\n      <td>591</td>\n      <td>896</td>\n      <td>579</td>\n      <td>626</td>\n      <td>672</td>\n      <td>841</td>\n      <td>830</td>\n      <td>876</td>\n      <td>923</td>\n      <td>1091</td>\n      <td>1080</td>\n      <td>1126</td>\n      <td>1173</td>\n      <td>1341</td>\n    </tr>\n    <tr>\n      <th>Gold</th>\n      <td>463</td>\n      <td>487</td>\n      <td>527</td>\n      <td>593</td>\n      <td>829</td>\n      <td>1259</td>\n      <td>814</td>\n      <td>878</td>\n      <td>944</td>\n      <td>1180</td>\n      <td>1165</td>\n      <td>1229</td>\n      <td>1295</td>\n      <td>1531</td>\n      <td>1516</td>\n      <td>1580</td>\n      <td>1646</td>\n      <td>1882</td>\n    </tr>\n    <tr>\n      <th>Platinum</th>\n      <td>589</td>\n      <td>617</td>\n      <td>668</td>\n      <td>752</td>\n      <td>1052</td>\n      <td>1598</td>\n      <td>1039</td>\n      <td>1119</td>\n      <td>1203</td>\n      <td>1502</td>\n      <td>1490</td>\n      <td>1570</td>\n      <td>1654</td>\n      <td>1953</td>\n      <td>1941</td>\n      <td>2020</td>\n      <td>2105</td>\n      <td>2404</td>\n    </tr>\n    <tr>\n      <th>Silver</th>\n      <td>410</td>\n      <td>431</td>\n      <td>466</td>\n      <td>525</td>\n      <td>734</td>\n      <td>1114</td>\n      <td>722</td>\n      <td>778</td>\n      <td>837</td>\n      <td>1046</td>\n      <td>1034</td>\n      <td>1091</td>\n      <td>1149</td>\n      <td>1358</td>\n      <td>1346</td>\n      <td>1403</td>\n      <td>1461</td>\n      <td>1670</td>\n    </tr>\n  </tbody>\n</table>\n</div>"
     },
     "metadata": {},
     "execution_count": 7
    }
   ],
   "source": [
    "'''\n",
    "View by Tier Type Price\n",
    "'''\n",
    "tierpremium_dict = {}\n",
    "for yr in range(2017,2022):\n",
    "    print(yr)\n",
    "    df = pd.read_csv('insurance_plans/{}.csv'.format(yr))\n",
    "    # print(len(df))\n",
    "    df_target = df[TARGET_FIELDS]\n",
    "    df_target.loc[:, premium_list] = df_target.loc[:, premium_list].applymap(lambda x: x.replace('$', ''))\n",
    "    df_target.loc[:, premium_list] = df_target.loc[:, premium_list].applymap(lambda x: x.replace(',', ''))\n",
    "    df_target[premium_list] = df_target[premium_list].apply(pd.to_numeric)\n",
    "\n",
    "\n",
    "    tierpremium_df = df_target.groupby(['Metal Level']).mean()[premium_list].astype(int)\n",
    "\n",
    "    # display(result_df)\n",
    "    tierpremium_dict[yr] = tierpremium_df\n",
    "    # break\n",
    "tierpremium_df\n",
    "# df_target[premium_list].sum(axis=1)"
   ]
  },
  {
   "cell_type": "code",
   "execution_count": 26,
   "metadata": {},
   "outputs": [
    {
     "output_type": "execute_result",
     "data": {
      "text/plain": [
       "Index(['Premium Adult Individual Age 21', 'Premium Adult Individual Age 27',\n",
       "       'Premium Adult Individual Age 30 ', 'Premium Adult Individual Age 40 ',\n",
       "       'Premium Adult Individual Age 50 ', 'Premium Adult Individual Age 60 ',\n",
       "       'Individual+1 child, Age 21', 'Individual+1 child, Age 30',\n",
       "       'Individual+1 child, Age 40', 'Individual+1 child, Age 50',\n",
       "       'Individual+2 children, Age 21', 'Individual+2 children, Age 30',\n",
       "       'Individual+2 children, Age 40', 'Individual+2 children, Age 50',\n",
       "       'Individual+3 or more children, Age 21',\n",
       "       'Individual+3 or more children, Age 30',\n",
       "       'Individual+3 or more children, Age 40',\n",
       "       'Individual+3 or more children, Age 50'],\n",
       "      dtype='object')"
      ]
     },
     "metadata": {},
     "execution_count": 26
    }
   ],
   "source": [
    "tierpremium_df.columns"
   ]
  },
  {
   "cell_type": "code",
   "execution_count": 60,
   "metadata": {},
   "outputs": [],
   "source": []
  },
  {
   "source": [
    "<h1> ASEC Census"
   ],
   "cell_type": "markdown",
   "metadata": {}
  },
  {
   "cell_type": "code",
   "execution_count": 43,
   "metadata": {},
   "outputs": [
    {
     "output_type": "execute_result",
     "data": {
      "text/plain": [
       "   Race  Poverty Level  Age  Educational Attainment  Employment Status  \\\n",
       "0     1              4   63                      39                  1   \n",
       "1     1              4   67                      39                  7   \n",
       "2     1              4   64                      39                  1   \n",
       "3     1              4   71                      36                  7   \n",
       "4     1              4   54                      39                  1   \n",
       "\n",
       "   Gender  Number of Children  Geographic Region State Code  Health Problems  \\\n",
       "0       2                   0                  1         ME                2   \n",
       "1       1                   0                  1         ME                2   \n",
       "2       1                   0                  1         ME                2   \n",
       "3       2                   0                  1         ME                2   \n",
       "4       2                   0                  1         ME                2   \n",
       "\n",
       "   ...  Medicare Coverage Now  TRICARE Coverage Last Year  \\\n",
       "0  ...                      2                           2   \n",
       "1  ...                      1                           2   \n",
       "2  ...                      2                           1   \n",
       "3  ...                      1                           1   \n",
       "4  ...                      2                           2   \n",
       "\n",
       "   TRICARE Coverage Now  VACARE Coverage Last Year  VACARE Coverage Now  \\\n",
       "0                     2                          2                    2   \n",
       "1                     2                          2                    2   \n",
       "2                     1                          2                    2   \n",
       "3                     1                          2                    2   \n",
       "4                     2                          2                    2   \n",
       "\n",
       "   Medicaid Coverage Last Year  Medicaid Coverage Now  \\\n",
       "0                            2                      2   \n",
       "1                            2                      2   \n",
       "2                            2                      2   \n",
       "3                            2                      2   \n",
       "4                            2                      2   \n",
       "\n",
       "   Total Out-of-Pocket Expenditures  Medicare premium amount  \\\n",
       "0                              7550                        0   \n",
       "1                              1750                     1626   \n",
       "2                              1500                        0   \n",
       "3                               100                     1680   \n",
       "4                              2300                        0   \n",
       "\n",
       "   Total Premium Paid  \n",
       "0                5800  \n",
       "1                   0  \n",
       "2                1500  \n",
       "3                   0  \n",
       "4                1200  \n",
       "\n",
       "[5 rows x 37 columns]"
      ],
      "text/html": "<div>\n<style scoped>\n    .dataframe tbody tr th:only-of-type {\n        vertical-align: middle;\n    }\n\n    .dataframe tbody tr th {\n        vertical-align: top;\n    }\n\n    .dataframe thead th {\n        text-align: right;\n    }\n</style>\n<table border=\"1\" class=\"dataframe\">\n  <thead>\n    <tr style=\"text-align: right;\">\n      <th></th>\n      <th>Race</th>\n      <th>Poverty Level</th>\n      <th>Age</th>\n      <th>Educational Attainment</th>\n      <th>Employment Status</th>\n      <th>Gender</th>\n      <th>Number of Children</th>\n      <th>Geographic Region</th>\n      <th>State Code</th>\n      <th>Health Problems</th>\n      <th>...</th>\n      <th>Medicare Coverage Now</th>\n      <th>TRICARE Coverage Last Year</th>\n      <th>TRICARE Coverage Now</th>\n      <th>VACARE Coverage Last Year</th>\n      <th>VACARE Coverage Now</th>\n      <th>Medicaid Coverage Last Year</th>\n      <th>Medicaid Coverage Now</th>\n      <th>Total Out-of-Pocket Expenditures</th>\n      <th>Medicare premium amount</th>\n      <th>Total Premium Paid</th>\n    </tr>\n  </thead>\n  <tbody>\n    <tr>\n      <th>0</th>\n      <td>1</td>\n      <td>4</td>\n      <td>63</td>\n      <td>39</td>\n      <td>1</td>\n      <td>2</td>\n      <td>0</td>\n      <td>1</td>\n      <td>ME</td>\n      <td>2</td>\n      <td>...</td>\n      <td>2</td>\n      <td>2</td>\n      <td>2</td>\n      <td>2</td>\n      <td>2</td>\n      <td>2</td>\n      <td>2</td>\n      <td>7550</td>\n      <td>0</td>\n      <td>5800</td>\n    </tr>\n    <tr>\n      <th>1</th>\n      <td>1</td>\n      <td>4</td>\n      <td>67</td>\n      <td>39</td>\n      <td>7</td>\n      <td>1</td>\n      <td>0</td>\n      <td>1</td>\n      <td>ME</td>\n      <td>2</td>\n      <td>...</td>\n      <td>1</td>\n      <td>2</td>\n      <td>2</td>\n      <td>2</td>\n      <td>2</td>\n      <td>2</td>\n      <td>2</td>\n      <td>1750</td>\n      <td>1626</td>\n      <td>0</td>\n    </tr>\n    <tr>\n      <th>2</th>\n      <td>1</td>\n      <td>4</td>\n      <td>64</td>\n      <td>39</td>\n      <td>1</td>\n      <td>1</td>\n      <td>0</td>\n      <td>1</td>\n      <td>ME</td>\n      <td>2</td>\n      <td>...</td>\n      <td>2</td>\n      <td>1</td>\n      <td>1</td>\n      <td>2</td>\n      <td>2</td>\n      <td>2</td>\n      <td>2</td>\n      <td>1500</td>\n      <td>0</td>\n      <td>1500</td>\n    </tr>\n    <tr>\n      <th>3</th>\n      <td>1</td>\n      <td>4</td>\n      <td>71</td>\n      <td>36</td>\n      <td>7</td>\n      <td>2</td>\n      <td>0</td>\n      <td>1</td>\n      <td>ME</td>\n      <td>2</td>\n      <td>...</td>\n      <td>1</td>\n      <td>1</td>\n      <td>1</td>\n      <td>2</td>\n      <td>2</td>\n      <td>2</td>\n      <td>2</td>\n      <td>100</td>\n      <td>1680</td>\n      <td>0</td>\n    </tr>\n    <tr>\n      <th>4</th>\n      <td>1</td>\n      <td>4</td>\n      <td>54</td>\n      <td>39</td>\n      <td>1</td>\n      <td>2</td>\n      <td>0</td>\n      <td>1</td>\n      <td>ME</td>\n      <td>2</td>\n      <td>...</td>\n      <td>2</td>\n      <td>2</td>\n      <td>2</td>\n      <td>2</td>\n      <td>2</td>\n      <td>2</td>\n      <td>2</td>\n      <td>2300</td>\n      <td>0</td>\n      <td>1200</td>\n    </tr>\n  </tbody>\n</table>\n<p>5 rows × 37 columns</p>\n</div>"
     },
     "metadata": {},
     "execution_count": 43
    }
   ],
   "source": [
    "ASEC_df = pd.read_csv('ASEC_Census/2021.csv')\n",
    "ASEC_df.head()"
   ]
  },
  {
   "cell_type": "code",
   "execution_count": 82,
   "metadata": {},
   "outputs": [
    {
     "output_type": "execute_result",
     "data": {
      "text/plain": [
       "  State Code    Yes    No  Uninsured %\n",
       "0         AK   2352   397    14.441615\n",
       "1         AL   3438   340     8.999471\n",
       "2         AR   2960   225     7.064364\n",
       "3         AZ   3093   450    12.701101\n",
       "4         CA  18893  1738     8.424216"
      ],
      "text/html": "<div>\n<style scoped>\n    .dataframe tbody tr th:only-of-type {\n        vertical-align: middle;\n    }\n\n    .dataframe tbody tr th {\n        vertical-align: top;\n    }\n\n    .dataframe thead th {\n        text-align: right;\n    }\n</style>\n<table border=\"1\" class=\"dataframe\">\n  <thead>\n    <tr style=\"text-align: right;\">\n      <th></th>\n      <th>State Code</th>\n      <th>Yes</th>\n      <th>No</th>\n      <th>Uninsured %</th>\n    </tr>\n  </thead>\n  <tbody>\n    <tr>\n      <th>0</th>\n      <td>AK</td>\n      <td>2352</td>\n      <td>397</td>\n      <td>14.441615</td>\n    </tr>\n    <tr>\n      <th>1</th>\n      <td>AL</td>\n      <td>3438</td>\n      <td>340</td>\n      <td>8.999471</td>\n    </tr>\n    <tr>\n      <th>2</th>\n      <td>AR</td>\n      <td>2960</td>\n      <td>225</td>\n      <td>7.064364</td>\n    </tr>\n    <tr>\n      <th>3</th>\n      <td>AZ</td>\n      <td>3093</td>\n      <td>450</td>\n      <td>12.701101</td>\n    </tr>\n    <tr>\n      <th>4</th>\n      <td>CA</td>\n      <td>18893</td>\n      <td>1738</td>\n      <td>8.424216</td>\n    </tr>\n  </tbody>\n</table>\n</div>"
     },
     "metadata": {},
     "execution_count": 82
    }
   ],
   "source": [
    "temp = ASEC_df[['State Code', 'Coverage Now']].groupby(['State Code', 'Coverage Now']).size().to_frame('count').reset_index()\n",
    "temp = temp.pivot(index='State Code', columns='Coverage Now', values='count')\n",
    "temp.columns = ['Yes', 'No']\n",
    "temp['Uninsured %'] = temp['No']/(temp['Yes']+temp['No'])*100\n",
    "uninsured_df = temp.reset_index().copy()\n",
    "uninsured_df.head()"
   ]
  },
  {
   "cell_type": "code",
   "execution_count": 63,
   "metadata": {},
   "outputs": [
    {
     "output_type": "execute_result",
     "data": {
      "text/plain": [
       "Coverage Now      1     2\n",
       "State Code               \n",
       "AK             2352   397\n",
       "AL             3438   340\n",
       "AR             2960   225\n",
       "AZ             3093   450\n",
       "CA            18893  1738\n",
       "CO             1971   278\n",
       "CT             1752    66\n",
       "DC             2949   140\n",
       "DE             1810   145\n",
       "FL             7347  1421\n",
       "GA             3698   622\n",
       "HI             3357   116\n",
       "IA             2164   165\n",
       "ID             2845   347\n",
       "IL             4570   368\n",
       "IN             3011   186\n",
       "KS             2193   247\n",
       "KY             1951   181\n",
       "LA             3990   406\n",
       "MA             4109   177\n",
       "MD             2224   219\n",
       "ME             1342    81\n",
       "MI             3936   199\n",
       "MN             2379   169\n",
       "MO             2190   260\n",
       "MS             2815   480\n",
       "MT             2910   341\n",
       "NC             3741   555\n",
       "ND             2554   223\n",
       "NE             2255   242\n",
       "NH             2140   129\n",
       "NJ             3121   257\n",
       "NM             3156   373\n",
       "NV             2484   368\n",
       "NY             7366   451\n",
       "OH             3880   366\n",
       "OK             2428   511\n",
       "OR             3063   222\n",
       "PA             4470   373\n",
       "RI             1424    82\n",
       "SC             2701   245\n",
       "SD             1808   216\n",
       "TN             3090   291\n",
       "TX             9378  2186\n",
       "UT             2919   410\n",
       "VA             3396   296\n",
       "VT             2059    99\n",
       "WA             3569   324\n",
       "WI             2492   176\n",
       "WV             3120   165\n",
       "WY             2305   234"
      ],
      "text/html": "<div>\n<style scoped>\n    .dataframe tbody tr th:only-of-type {\n        vertical-align: middle;\n    }\n\n    .dataframe tbody tr th {\n        vertical-align: top;\n    }\n\n    .dataframe thead th {\n        text-align: right;\n    }\n</style>\n<table border=\"1\" class=\"dataframe\">\n  <thead>\n    <tr style=\"text-align: right;\">\n      <th>Coverage Now</th>\n      <th>1</th>\n      <th>2</th>\n    </tr>\n    <tr>\n      <th>State Code</th>\n      <th></th>\n      <th></th>\n    </tr>\n  </thead>\n  <tbody>\n    <tr>\n      <th>AK</th>\n      <td>2352</td>\n      <td>397</td>\n    </tr>\n    <tr>\n      <th>AL</th>\n      <td>3438</td>\n      <td>340</td>\n    </tr>\n    <tr>\n      <th>AR</th>\n      <td>2960</td>\n      <td>225</td>\n    </tr>\n    <tr>\n      <th>AZ</th>\n      <td>3093</td>\n      <td>450</td>\n    </tr>\n    <tr>\n      <th>CA</th>\n      <td>18893</td>\n      <td>1738</td>\n    </tr>\n    <tr>\n      <th>CO</th>\n      <td>1971</td>\n      <td>278</td>\n    </tr>\n    <tr>\n      <th>CT</th>\n      <td>1752</td>\n      <td>66</td>\n    </tr>\n    <tr>\n      <th>DC</th>\n      <td>2949</td>\n      <td>140</td>\n    </tr>\n    <tr>\n      <th>DE</th>\n      <td>1810</td>\n      <td>145</td>\n    </tr>\n    <tr>\n      <th>FL</th>\n      <td>7347</td>\n      <td>1421</td>\n    </tr>\n    <tr>\n      <th>GA</th>\n      <td>3698</td>\n      <td>622</td>\n    </tr>\n    <tr>\n      <th>HI</th>\n      <td>3357</td>\n      <td>116</td>\n    </tr>\n    <tr>\n      <th>IA</th>\n      <td>2164</td>\n      <td>165</td>\n    </tr>\n    <tr>\n      <th>ID</th>\n      <td>2845</td>\n      <td>347</td>\n    </tr>\n    <tr>\n      <th>IL</th>\n      <td>4570</td>\n      <td>368</td>\n    </tr>\n    <tr>\n      <th>IN</th>\n      <td>3011</td>\n      <td>186</td>\n    </tr>\n    <tr>\n      <th>KS</th>\n      <td>2193</td>\n      <td>247</td>\n    </tr>\n    <tr>\n      <th>KY</th>\n      <td>1951</td>\n      <td>181</td>\n    </tr>\n    <tr>\n      <th>LA</th>\n      <td>3990</td>\n      <td>406</td>\n    </tr>\n    <tr>\n      <th>MA</th>\n      <td>4109</td>\n      <td>177</td>\n    </tr>\n    <tr>\n      <th>MD</th>\n      <td>2224</td>\n      <td>219</td>\n    </tr>\n    <tr>\n      <th>ME</th>\n      <td>1342</td>\n      <td>81</td>\n    </tr>\n    <tr>\n      <th>MI</th>\n      <td>3936</td>\n      <td>199</td>\n    </tr>\n    <tr>\n      <th>MN</th>\n      <td>2379</td>\n      <td>169</td>\n    </tr>\n    <tr>\n      <th>MO</th>\n      <td>2190</td>\n      <td>260</td>\n    </tr>\n    <tr>\n      <th>MS</th>\n      <td>2815</td>\n      <td>480</td>\n    </tr>\n    <tr>\n      <th>MT</th>\n      <td>2910</td>\n      <td>341</td>\n    </tr>\n    <tr>\n      <th>NC</th>\n      <td>3741</td>\n      <td>555</td>\n    </tr>\n    <tr>\n      <th>ND</th>\n      <td>2554</td>\n      <td>223</td>\n    </tr>\n    <tr>\n      <th>NE</th>\n      <td>2255</td>\n      <td>242</td>\n    </tr>\n    <tr>\n      <th>NH</th>\n      <td>2140</td>\n      <td>129</td>\n    </tr>\n    <tr>\n      <th>NJ</th>\n      <td>3121</td>\n      <td>257</td>\n    </tr>\n    <tr>\n      <th>NM</th>\n      <td>3156</td>\n      <td>373</td>\n    </tr>\n    <tr>\n      <th>NV</th>\n      <td>2484</td>\n      <td>368</td>\n    </tr>\n    <tr>\n      <th>NY</th>\n      <td>7366</td>\n      <td>451</td>\n    </tr>\n    <tr>\n      <th>OH</th>\n      <td>3880</td>\n      <td>366</td>\n    </tr>\n    <tr>\n      <th>OK</th>\n      <td>2428</td>\n      <td>511</td>\n    </tr>\n    <tr>\n      <th>OR</th>\n      <td>3063</td>\n      <td>222</td>\n    </tr>\n    <tr>\n      <th>PA</th>\n      <td>4470</td>\n      <td>373</td>\n    </tr>\n    <tr>\n      <th>RI</th>\n      <td>1424</td>\n      <td>82</td>\n    </tr>\n    <tr>\n      <th>SC</th>\n      <td>2701</td>\n      <td>245</td>\n    </tr>\n    <tr>\n      <th>SD</th>\n      <td>1808</td>\n      <td>216</td>\n    </tr>\n    <tr>\n      <th>TN</th>\n      <td>3090</td>\n      <td>291</td>\n    </tr>\n    <tr>\n      <th>TX</th>\n      <td>9378</td>\n      <td>2186</td>\n    </tr>\n    <tr>\n      <th>UT</th>\n      <td>2919</td>\n      <td>410</td>\n    </tr>\n    <tr>\n      <th>VA</th>\n      <td>3396</td>\n      <td>296</td>\n    </tr>\n    <tr>\n      <th>VT</th>\n      <td>2059</td>\n      <td>99</td>\n    </tr>\n    <tr>\n      <th>WA</th>\n      <td>3569</td>\n      <td>324</td>\n    </tr>\n    <tr>\n      <th>WI</th>\n      <td>2492</td>\n      <td>176</td>\n    </tr>\n    <tr>\n      <th>WV</th>\n      <td>3120</td>\n      <td>165</td>\n    </tr>\n    <tr>\n      <th>WY</th>\n      <td>2305</td>\n      <td>234</td>\n    </tr>\n  </tbody>\n</table>\n</div>"
     },
     "metadata": {},
     "execution_count": 63
    }
   ],
   "source": []
  },
  {
   "cell_type": "code",
   "execution_count": 83,
   "metadata": {},
   "outputs": [
    {
     "output_type": "display_data",
     "data": {
      "application/vnd.plotly.v1+json": {
       "config": {
        "plotlyServerURL": "https://plot.ly"
       },
       "data": [
        {
         "coloraxis": "coloraxis",
         "geo": "geo",
         "hovertemplate": "State Code=%{location}<br>Uninsured %=%{z}<extra></extra>",
         "locationmode": "USA-states",
         "locations": [
          "AK",
          "AL",
          "AR",
          "AZ",
          "CA",
          "CO",
          "CT",
          "DC",
          "DE",
          "FL",
          "GA",
          "HI",
          "IA",
          "ID",
          "IL",
          "IN",
          "KS",
          "KY",
          "LA",
          "MA",
          "MD",
          "ME",
          "MI",
          "MN",
          "MO",
          "MS",
          "MT",
          "NC",
          "ND",
          "NE",
          "NH",
          "NJ",
          "NM",
          "NV",
          "NY",
          "OH",
          "OK",
          "OR",
          "PA",
          "RI",
          "SC",
          "SD",
          "TN",
          "TX",
          "UT",
          "VA",
          "VT",
          "WA",
          "WI",
          "WV",
          "WY"
         ],
         "name": "",
         "type": "choropleth",
         "z": [
          14.441615132775553,
          8.999470619375332,
          7.064364207221351,
          12.701100762066044,
          8.424215985652658,
          12.361049355269008,
          3.6303630363036308,
          4.5322110715441895,
          7.41687979539642,
          16.206660583941606,
          14.398148148148149,
          3.3400518283904406,
          7.084585659081151,
          10.87092731829574,
          7.45240988254354,
          5.817954332186425,
          10.122950819672132,
          8.48968105065666,
          9.235668789808917,
          4.1297246850209985,
          8.964388047482604,
          5.692199578355587,
          4.812575574365175,
          6.63265306122449,
          10.612244897959183,
          14.56752655538695,
          10.48908028298985,
          12.918994413407821,
          8.03024846957148,
          9.691629955947137,
          5.685323931247246,
          7.608052101835405,
          10.5695664494191,
          12.903225806451612,
          5.769476781373928,
          8.61987753179463,
          17.386866281047975,
          6.757990867579909,
          7.701837703902539,
          5.444887118193891,
          8.316361167684997,
          10.67193675889328,
          8.606921029281278,
          18.903493600830164,
          12.316010814058275,
          8.017334777898158,
          4.5875810936051895,
          8.322630362188544,
          6.5967016491754125,
          5.0228310502283104,
          9.216226860968886
         ]
        }
       ],
       "layout": {
        "coloraxis": {
         "colorbar": {
          "title": {
           "text": "Uninsured %"
          }
         },
         "colorscale": [
          [
           0,
           "rgb(255,245,240)"
          ],
          [
           0.125,
           "rgb(254,224,210)"
          ],
          [
           0.25,
           "rgb(252,187,161)"
          ],
          [
           0.375,
           "rgb(252,146,114)"
          ],
          [
           0.5,
           "rgb(251,106,74)"
          ],
          [
           0.625,
           "rgb(239,59,44)"
          ],
          [
           0.75,
           "rgb(203,24,29)"
          ],
          [
           0.875,
           "rgb(165,15,21)"
          ],
          [
           1,
           "rgb(103,0,13)"
          ]
         ]
        },
        "geo": {
         "center": {},
         "domain": {
          "x": [
           0,
           1
          ],
          "y": [
           0,
           1
          ]
         },
         "scope": "usa"
        },
        "legend": {
         "tracegroupgap": 0
        },
        "template": {
         "data": {
          "bar": [
           {
            "error_x": {
             "color": "#2a3f5f"
            },
            "error_y": {
             "color": "#2a3f5f"
            },
            "marker": {
             "line": {
              "color": "#E5ECF6",
              "width": 0.5
             }
            },
            "type": "bar"
           }
          ],
          "barpolar": [
           {
            "marker": {
             "line": {
              "color": "#E5ECF6",
              "width": 0.5
             }
            },
            "type": "barpolar"
           }
          ],
          "carpet": [
           {
            "aaxis": {
             "endlinecolor": "#2a3f5f",
             "gridcolor": "white",
             "linecolor": "white",
             "minorgridcolor": "white",
             "startlinecolor": "#2a3f5f"
            },
            "baxis": {
             "endlinecolor": "#2a3f5f",
             "gridcolor": "white",
             "linecolor": "white",
             "minorgridcolor": "white",
             "startlinecolor": "#2a3f5f"
            },
            "type": "carpet"
           }
          ],
          "choropleth": [
           {
            "colorbar": {
             "outlinewidth": 0,
             "ticks": ""
            },
            "type": "choropleth"
           }
          ],
          "contour": [
           {
            "colorbar": {
             "outlinewidth": 0,
             "ticks": ""
            },
            "colorscale": [
             [
              0,
              "#0d0887"
             ],
             [
              0.1111111111111111,
              "#46039f"
             ],
             [
              0.2222222222222222,
              "#7201a8"
             ],
             [
              0.3333333333333333,
              "#9c179e"
             ],
             [
              0.4444444444444444,
              "#bd3786"
             ],
             [
              0.5555555555555556,
              "#d8576b"
             ],
             [
              0.6666666666666666,
              "#ed7953"
             ],
             [
              0.7777777777777778,
              "#fb9f3a"
             ],
             [
              0.8888888888888888,
              "#fdca26"
             ],
             [
              1,
              "#f0f921"
             ]
            ],
            "type": "contour"
           }
          ],
          "contourcarpet": [
           {
            "colorbar": {
             "outlinewidth": 0,
             "ticks": ""
            },
            "type": "contourcarpet"
           }
          ],
          "heatmap": [
           {
            "colorbar": {
             "outlinewidth": 0,
             "ticks": ""
            },
            "colorscale": [
             [
              0,
              "#0d0887"
             ],
             [
              0.1111111111111111,
              "#46039f"
             ],
             [
              0.2222222222222222,
              "#7201a8"
             ],
             [
              0.3333333333333333,
              "#9c179e"
             ],
             [
              0.4444444444444444,
              "#bd3786"
             ],
             [
              0.5555555555555556,
              "#d8576b"
             ],
             [
              0.6666666666666666,
              "#ed7953"
             ],
             [
              0.7777777777777778,
              "#fb9f3a"
             ],
             [
              0.8888888888888888,
              "#fdca26"
             ],
             [
              1,
              "#f0f921"
             ]
            ],
            "type": "heatmap"
           }
          ],
          "heatmapgl": [
           {
            "colorbar": {
             "outlinewidth": 0,
             "ticks": ""
            },
            "colorscale": [
             [
              0,
              "#0d0887"
             ],
             [
              0.1111111111111111,
              "#46039f"
             ],
             [
              0.2222222222222222,
              "#7201a8"
             ],
             [
              0.3333333333333333,
              "#9c179e"
             ],
             [
              0.4444444444444444,
              "#bd3786"
             ],
             [
              0.5555555555555556,
              "#d8576b"
             ],
             [
              0.6666666666666666,
              "#ed7953"
             ],
             [
              0.7777777777777778,
              "#fb9f3a"
             ],
             [
              0.8888888888888888,
              "#fdca26"
             ],
             [
              1,
              "#f0f921"
             ]
            ],
            "type": "heatmapgl"
           }
          ],
          "histogram": [
           {
            "marker": {
             "colorbar": {
              "outlinewidth": 0,
              "ticks": ""
             }
            },
            "type": "histogram"
           }
          ],
          "histogram2d": [
           {
            "colorbar": {
             "outlinewidth": 0,
             "ticks": ""
            },
            "colorscale": [
             [
              0,
              "#0d0887"
             ],
             [
              0.1111111111111111,
              "#46039f"
             ],
             [
              0.2222222222222222,
              "#7201a8"
             ],
             [
              0.3333333333333333,
              "#9c179e"
             ],
             [
              0.4444444444444444,
              "#bd3786"
             ],
             [
              0.5555555555555556,
              "#d8576b"
             ],
             [
              0.6666666666666666,
              "#ed7953"
             ],
             [
              0.7777777777777778,
              "#fb9f3a"
             ],
             [
              0.8888888888888888,
              "#fdca26"
             ],
             [
              1,
              "#f0f921"
             ]
            ],
            "type": "histogram2d"
           }
          ],
          "histogram2dcontour": [
           {
            "colorbar": {
             "outlinewidth": 0,
             "ticks": ""
            },
            "colorscale": [
             [
              0,
              "#0d0887"
             ],
             [
              0.1111111111111111,
              "#46039f"
             ],
             [
              0.2222222222222222,
              "#7201a8"
             ],
             [
              0.3333333333333333,
              "#9c179e"
             ],
             [
              0.4444444444444444,
              "#bd3786"
             ],
             [
              0.5555555555555556,
              "#d8576b"
             ],
             [
              0.6666666666666666,
              "#ed7953"
             ],
             [
              0.7777777777777778,
              "#fb9f3a"
             ],
             [
              0.8888888888888888,
              "#fdca26"
             ],
             [
              1,
              "#f0f921"
             ]
            ],
            "type": "histogram2dcontour"
           }
          ],
          "mesh3d": [
           {
            "colorbar": {
             "outlinewidth": 0,
             "ticks": ""
            },
            "type": "mesh3d"
           }
          ],
          "parcoords": [
           {
            "line": {
             "colorbar": {
              "outlinewidth": 0,
              "ticks": ""
             }
            },
            "type": "parcoords"
           }
          ],
          "pie": [
           {
            "automargin": true,
            "type": "pie"
           }
          ],
          "scatter": [
           {
            "marker": {
             "colorbar": {
              "outlinewidth": 0,
              "ticks": ""
             }
            },
            "type": "scatter"
           }
          ],
          "scatter3d": [
           {
            "line": {
             "colorbar": {
              "outlinewidth": 0,
              "ticks": ""
             }
            },
            "marker": {
             "colorbar": {
              "outlinewidth": 0,
              "ticks": ""
             }
            },
            "type": "scatter3d"
           }
          ],
          "scattercarpet": [
           {
            "marker": {
             "colorbar": {
              "outlinewidth": 0,
              "ticks": ""
             }
            },
            "type": "scattercarpet"
           }
          ],
          "scattergeo": [
           {
            "marker": {
             "colorbar": {
              "outlinewidth": 0,
              "ticks": ""
             }
            },
            "type": "scattergeo"
           }
          ],
          "scattergl": [
           {
            "marker": {
             "colorbar": {
              "outlinewidth": 0,
              "ticks": ""
             }
            },
            "type": "scattergl"
           }
          ],
          "scattermapbox": [
           {
            "marker": {
             "colorbar": {
              "outlinewidth": 0,
              "ticks": ""
             }
            },
            "type": "scattermapbox"
           }
          ],
          "scatterpolar": [
           {
            "marker": {
             "colorbar": {
              "outlinewidth": 0,
              "ticks": ""
             }
            },
            "type": "scatterpolar"
           }
          ],
          "scatterpolargl": [
           {
            "marker": {
             "colorbar": {
              "outlinewidth": 0,
              "ticks": ""
             }
            },
            "type": "scatterpolargl"
           }
          ],
          "scatterternary": [
           {
            "marker": {
             "colorbar": {
              "outlinewidth": 0,
              "ticks": ""
             }
            },
            "type": "scatterternary"
           }
          ],
          "surface": [
           {
            "colorbar": {
             "outlinewidth": 0,
             "ticks": ""
            },
            "colorscale": [
             [
              0,
              "#0d0887"
             ],
             [
              0.1111111111111111,
              "#46039f"
             ],
             [
              0.2222222222222222,
              "#7201a8"
             ],
             [
              0.3333333333333333,
              "#9c179e"
             ],
             [
              0.4444444444444444,
              "#bd3786"
             ],
             [
              0.5555555555555556,
              "#d8576b"
             ],
             [
              0.6666666666666666,
              "#ed7953"
             ],
             [
              0.7777777777777778,
              "#fb9f3a"
             ],
             [
              0.8888888888888888,
              "#fdca26"
             ],
             [
              1,
              "#f0f921"
             ]
            ],
            "type": "surface"
           }
          ],
          "table": [
           {
            "cells": {
             "fill": {
              "color": "#EBF0F8"
             },
             "line": {
              "color": "white"
             }
            },
            "header": {
             "fill": {
              "color": "#C8D4E3"
             },
             "line": {
              "color": "white"
             }
            },
            "type": "table"
           }
          ]
         },
         "layout": {
          "annotationdefaults": {
           "arrowcolor": "#2a3f5f",
           "arrowhead": 0,
           "arrowwidth": 1
          },
          "autotypenumbers": "strict",
          "coloraxis": {
           "colorbar": {
            "outlinewidth": 0,
            "ticks": ""
           }
          },
          "colorscale": {
           "diverging": [
            [
             0,
             "#8e0152"
            ],
            [
             0.1,
             "#c51b7d"
            ],
            [
             0.2,
             "#de77ae"
            ],
            [
             0.3,
             "#f1b6da"
            ],
            [
             0.4,
             "#fde0ef"
            ],
            [
             0.5,
             "#f7f7f7"
            ],
            [
             0.6,
             "#e6f5d0"
            ],
            [
             0.7,
             "#b8e186"
            ],
            [
             0.8,
             "#7fbc41"
            ],
            [
             0.9,
             "#4d9221"
            ],
            [
             1,
             "#276419"
            ]
           ],
           "sequential": [
            [
             0,
             "#0d0887"
            ],
            [
             0.1111111111111111,
             "#46039f"
            ],
            [
             0.2222222222222222,
             "#7201a8"
            ],
            [
             0.3333333333333333,
             "#9c179e"
            ],
            [
             0.4444444444444444,
             "#bd3786"
            ],
            [
             0.5555555555555556,
             "#d8576b"
            ],
            [
             0.6666666666666666,
             "#ed7953"
            ],
            [
             0.7777777777777778,
             "#fb9f3a"
            ],
            [
             0.8888888888888888,
             "#fdca26"
            ],
            [
             1,
             "#f0f921"
            ]
           ],
           "sequentialminus": [
            [
             0,
             "#0d0887"
            ],
            [
             0.1111111111111111,
             "#46039f"
            ],
            [
             0.2222222222222222,
             "#7201a8"
            ],
            [
             0.3333333333333333,
             "#9c179e"
            ],
            [
             0.4444444444444444,
             "#bd3786"
            ],
            [
             0.5555555555555556,
             "#d8576b"
            ],
            [
             0.6666666666666666,
             "#ed7953"
            ],
            [
             0.7777777777777778,
             "#fb9f3a"
            ],
            [
             0.8888888888888888,
             "#fdca26"
            ],
            [
             1,
             "#f0f921"
            ]
           ]
          },
          "colorway": [
           "#636efa",
           "#EF553B",
           "#00cc96",
           "#ab63fa",
           "#FFA15A",
           "#19d3f3",
           "#FF6692",
           "#B6E880",
           "#FF97FF",
           "#FECB52"
          ],
          "font": {
           "color": "#2a3f5f"
          },
          "geo": {
           "bgcolor": "white",
           "lakecolor": "white",
           "landcolor": "#E5ECF6",
           "showlakes": true,
           "showland": true,
           "subunitcolor": "white"
          },
          "hoverlabel": {
           "align": "left"
          },
          "hovermode": "closest",
          "mapbox": {
           "style": "light"
          },
          "paper_bgcolor": "white",
          "plot_bgcolor": "#E5ECF6",
          "polar": {
           "angularaxis": {
            "gridcolor": "white",
            "linecolor": "white",
            "ticks": ""
           },
           "bgcolor": "#E5ECF6",
           "radialaxis": {
            "gridcolor": "white",
            "linecolor": "white",
            "ticks": ""
           }
          },
          "scene": {
           "xaxis": {
            "backgroundcolor": "#E5ECF6",
            "gridcolor": "white",
            "gridwidth": 2,
            "linecolor": "white",
            "showbackground": true,
            "ticks": "",
            "zerolinecolor": "white"
           },
           "yaxis": {
            "backgroundcolor": "#E5ECF6",
            "gridcolor": "white",
            "gridwidth": 2,
            "linecolor": "white",
            "showbackground": true,
            "ticks": "",
            "zerolinecolor": "white"
           },
           "zaxis": {
            "backgroundcolor": "#E5ECF6",
            "gridcolor": "white",
            "gridwidth": 2,
            "linecolor": "white",
            "showbackground": true,
            "ticks": "",
            "zerolinecolor": "white"
           }
          },
          "shapedefaults": {
           "line": {
            "color": "#2a3f5f"
           }
          },
          "ternary": {
           "aaxis": {
            "gridcolor": "white",
            "linecolor": "white",
            "ticks": ""
           },
           "baxis": {
            "gridcolor": "white",
            "linecolor": "white",
            "ticks": ""
           },
           "bgcolor": "#E5ECF6",
           "caxis": {
            "gridcolor": "white",
            "linecolor": "white",
            "ticks": ""
           }
          },
          "title": {
           "x": 0.05
          },
          "xaxis": {
           "automargin": true,
           "gridcolor": "white",
           "linecolor": "white",
           "ticks": "",
           "title": {
            "standoff": 15
           },
           "zerolinecolor": "white",
           "zerolinewidth": 2
          },
          "yaxis": {
           "automargin": true,
           "gridcolor": "white",
           "linecolor": "white",
           "ticks": "",
           "title": {
            "standoff": 15
           },
           "zerolinecolor": "white",
           "zerolinewidth": 2
          }
         }
        },
        "title": {
         "text": "Uninsured Percentage by State (in %)"
        }
       }
      }
     },
     "metadata": {}
    }
   ],
   "source": [
    "import plotly.express as px\n",
    "\n"
   ]
  },
  {
   "cell_type": "code",
   "execution_count": 49,
   "metadata": {},
   "outputs": [
    {
     "output_type": "execute_result",
     "data": {
      "text/plain": [
       "range(0, 51)"
      ]
     },
     "metadata": {},
     "execution_count": 49
    }
   ],
   "source": []
  },
  {
   "cell_type": "markdown",
   "metadata": {},
   "source": [
    "<h1> Jupyter Dash"
   ]
  },
  {
   "cell_type": "code",
   "execution_count": 8,
   "metadata": {},
   "outputs": [],
   "source": [
    "def tier_color_map(tier_list):\n",
    "    colors = []\n",
    "    for val in tier_list:\n",
    "        if val == 'Bronze':\n",
    "            colors.append('peru')\n",
    "        elif val == 'Catastrophic': \n",
    "            colors.append('red')\n",
    "        elif val == 'Platinum': \n",
    "            colors.append('green')\n",
    "        else:\n",
    "            colors.append(val.lower())\n",
    "    return colors\n"
   ]
  },
  {
   "cell_type": "code",
   "execution_count": 9,
   "metadata": {},
   "outputs": [],
   "source": [
    "familystatus_group = {\n",
    "       'no kids': ['Premium Adult Individual Age 21', 'Premium Adult Individual Age 27',\n",
    "       'Premium Adult Individual Age 30 ', 'Premium Adult Individual Age 40 ',\n",
    "       'Premium Adult Individual Age 50 ', 'Premium Adult Individual Age 60 '],\n",
    "       '1 kid': ['Individual+1 child, Age 21', 'Individual+1 child, Age 30',\n",
    "       'Individual+1 child, Age 40', 'Individual+1 child, Age 50']\n",
    "       , '2 kids': ['Individual+2 children, Age 21', 'Individual+2 children, Age 30',\n",
    "       'Individual+2 children, Age 40', 'Individual+2 children, Age 50'], \n",
    "       '3 kids': ['Individual+3 or more children, Age 21',\n",
    "       'Individual+3 or more children, Age 30',\n",
    "       'Individual+3 or more children, Age 40',\n",
    "       'Individual+3 or more children, Age 50']}"
   ]
  },
  {
   "cell_type": "code",
   "execution_count": 102,
   "metadata": {},
   "outputs": [
    {
     "output_type": "display_data",
     "data": {
      "text/plain": "<IPython.lib.display.IFrame at 0x19edd48ab50>",
      "text/html": "\n        <iframe\n            width=\"100%\"\n            height=\"650\"\n            src=\"http://127.0.0.1:8020/\"\n            frameborder=\"0\"\n            allowfullscreen\n        ></iframe>\n        "
     },
     "metadata": {}
    }
   ],
   "source": [
    "import dash\n",
    "import dash_core_components as dcc\n",
    "import dash_html_components as html\n",
    "from dash.dependencies import Input, Output\n",
    "import plotly.express as px\n",
    "from jupyter_dash import JupyterDash\n",
    "\n",
    "# Since we're adding callbacks to elements that don't exist in the app.layout,\n",
    "# Dash will raise an exception to warn us that we might be\n",
    "# doing something wrong.\n",
    "# In this case, we're adding the elements through a callback, so we can ignore\n",
    "# the exception.\n",
    "app = JupyterDash(__name__)\n",
    "\n",
    "# app = dash.Dash(__name__, suppress_callback_exceptions=True)\n",
    "\n",
    "app.layout = html.Div([\n",
    "    dcc.Location(id='url', refresh=False),\n",
    "    html.Div(id='page-content')\n",
    "])\n",
    "\n",
    "\n",
    "index_page = html.Div([\n",
    "    dcc.Link('Go to Page 1', href='/page-1'),\n",
    "    html.Br(),\n",
    "    dcc.Link('Go to Page 2', href='/page-2'),\n",
    "    html.Br(),\n",
    "    dcc.Link('Go to Page 3', href='/page-3'),\n",
    "    html.Br(),\n",
    "    dcc.Link('Go to Page 4', href='/page-4'),\n",
    "])\n",
    "\n",
    "page_1_layout = html.Div([\n",
    "    html.H1(\"Graph 1\"),\n",
    "    dcc.Graph(id='graph'),\n",
    "    html.Label([\n",
    "        \"year\",\n",
    "        dcc.Dropdown(\n",
    "            id='year-dropdown', clearable=False,\n",
    "            value=2021, options=[\n",
    "                {'label': x, 'value': x}\n",
    "                for x in range(2017,2022)\n",
    "            ])\n",
    "    ]),\n",
    "])\n",
    "@app.callback(\n",
    "    Output('graph', 'figure'),\n",
    "    [Input(\"year-dropdown\", \"value\")]\n",
    ")\n",
    "def page_1_content(year):\n",
    "    colors = tier_color_map(statemetal_df['Metal Level'].values)\n",
    "    fig = px.bar(statemetal_dict[year], x=\"State Code\", y=\"count\", color=\"Metal Level\", title=\"Insurance Metal Plan Tier Count by State in {}\".format(year), color_discrete_map={\n",
    "        'Bronze': 'peru',\n",
    "        'Expanded Bronze': 'sandybrown',\n",
    "        'Silver': 'silver',\n",
    "        'Gold': 'gold',\n",
    "        'Catastrophic': 'red',\n",
    "        'Platinum': 'dodgerblue'\n",
    "    })\n",
    "    return fig\n",
    "\n",
    "page_2_layout = html.Div([\n",
    "    html.H1(\"Graph 2\"),\n",
    "    dcc.Graph(id='graph-2'),\n",
    "    html.Label([\n",
    "        \"Number of Kids\",\n",
    "        dcc.Dropdown(\n",
    "            id='kid-dropdown', clearable=False,\n",
    "            value='no kids', options=[\n",
    "                {'label': x.capitalize(), 'value': x}\n",
    "                for x in familystatus_group.keys()\n",
    "            ])\n",
    "    ]),\n",
    "    html.Label([\n",
    "        \"year\",\n",
    "        dcc.Dropdown(\n",
    "            id='year-dropdown2', clearable=False,\n",
    "            value=2021, options=[\n",
    "                {'label': x, 'value': x}\n",
    "                for x in range(2017,2022)\n",
    "            ])\n",
    "    ]),\n",
    "], style={'width': '40%', 'display': 'inline-block', 'vertical-align': 'middle'})\n",
    "\n",
    "@app.callback(Output('graph-2', 'figure'),\n",
    "              [Input('kid-dropdown', 'value'),\n",
    "              Input('year-dropdown2', 'value')])\n",
    "def page_2_content(value, year):\n",
    "    \n",
    "    temp = tierpremium_dict[year][familystatus_group[value]].reset_index()\n",
    "    df = pd.melt(temp, id_vars=['Metal Level'], value_vars=familystatus_group[value], var_name = 'Age ({})'.format(value), value_name = 'Avg. Premium Charge')\n",
    "    df = df.sort_values(by=['Avg. Premium Charge'])\n",
    "    # df = px.data.gapminder().query(\"continent=='Oceania'\")\n",
    "    return px.line(df, x='Metal Level', y=\"Avg. Premium Charge\", color='Age ({})'.format(value), title= 'National Monthly Premium Cost by Metal Level in {} (USD)'.format(year))\n",
    "\n",
    "\n",
    "page_3_layout = html.Div([\n",
    "    html.H1(\"Graph 3\"),\n",
    "    dcc.Graph(id='graph-3'),\n",
    "    html.Label([\n",
    "        \"Select a State\",\n",
    "        dcc.Dropdown(\n",
    "            id='state-dropdown', clearable=False,\n",
    "            value='MO', options=[\n",
    "                {'label': x, 'value': x}\n",
    "                for x in state_dict[2021]['State Code'].unique()\n",
    "            ])\n",
    "    ]),\n",
    "    html.Label([\n",
    "        \"year\",\n",
    "        dcc.Dropdown(\n",
    "            id='year-dropdown3', clearable=False,\n",
    "            value=2021, options=[\n",
    "                {'label': x, 'value': x}\n",
    "                for x in range(2017,2022)\n",
    "            ])\n",
    "    ]),\n",
    "], style={'width': '40%', 'display': 'inline-block', 'vertical-align': 'middle'})\n",
    "\n",
    "@app.callback(Output('graph-3', 'figure'),\n",
    "              [Input('state-dropdown', 'value'),\n",
    "              Input('year-dropdown3', 'value')])\n",
    "def page_3_content(state, year):\n",
    "    state_df = state_dict[year]\n",
    "    sub_df = state_df[state_df['State Code'] == state]\n",
    "    fig = px.pie(sub_df, values='record_count', names='Issuer Name', title='Health Insurance Company Distribution in {} in {}'.format(state, year))\n",
    "    return fig\n",
    "page_4_layout = html.Div([\n",
    "    html.H1(\"Graph 4\"),\n",
    "    dcc.Graph(id='graph-4'),\n",
    "    html.Label([\n",
    "        \"Select a Year\",\n",
    "        dcc.Dropdown(\n",
    "            id='year-dropdown4', clearable=False,\n",
    "            value=2021, options=[\n",
    "                {'label': x, 'value': x}\n",
    "                for x in range(2017,2022)\n",
    "            ])\n",
    "    ]),\n",
    "], style={'width': '40%', 'display': 'inline-block', 'vertical-align': 'middle'})\n",
    "\n",
    "@app.callback(Output('graph-4', 'figure'),\n",
    "              [Input('year-dropdown4', 'value')])\n",
    "def page_4_content(year):\n",
    "    fig = px.choropleth(uninsured_df, locations='State Code', locationmode=\"USA-states\", color='Uninsured %', scope=\"usa\", title ='Uninsured Percentage by State in United States(in %)', color_continuous_scale='Reds')\n",
    "    # fig = px.choropleth(locations=[\"CA\", \"TX\", \"NY\"], locationmode=\"USA-states\", color=[1,2,3], scope=\"usa\")\n",
    "    # return fig\n",
    "    return fig\n",
    "# Update the index\n",
    "@app.callback(Output('page-content', 'children'),\n",
    "              [Input('url', 'pathname')])\n",
    "def display_page(pathname):\n",
    "    if pathname == '/page-1': #state-metal\n",
    "        return page_1_layout\n",
    "    elif pathname == '/page-2': #\n",
    "        return page_2_layout\n",
    "    elif pathname == '/page-3': #\n",
    "        return page_3_layout\n",
    "    elif pathname == '/page-4': #\n",
    "        return page_4_layout\n",
    "    else:\n",
    "        return index_page\n",
    "    # You could also return a 404 \"URL not found\" page here\n",
    "\n",
    "if __name__ == '__main__':\n",
    "    app.run_server(mode='inline', port = 8020, debug=True)"
   ]
  },
  {
   "cell_type": "code",
   "execution_count": 92,
   "metadata": {},
   "outputs": [
    {
     "output_type": "display_data",
     "data": {
      "application/vnd.plotly.v1+json": {
       "config": {
        "plotlyServerURL": "https://plot.ly"
       },
       "data": [
        {
         "coloraxis": "coloraxis",
         "geo": "geo",
         "hovertemplate": "State Code=%{location}<br>Uninsured %=%{z}<extra></extra>",
         "locationmode": "USA-states",
         "locations": [
          "AK",
          "AL",
          "AR",
          "AZ",
          "CA",
          "CO",
          "CT",
          "DC",
          "DE",
          "FL",
          "GA",
          "HI",
          "IA",
          "ID",
          "IL",
          "IN",
          "KS",
          "KY",
          "LA",
          "MA",
          "MD",
          "ME",
          "MI",
          "MN",
          "MO",
          "MS",
          "MT",
          "NC",
          "ND",
          "NE",
          "NH",
          "NJ",
          "NM",
          "NV",
          "NY",
          "OH",
          "OK",
          "OR",
          "PA",
          "RI",
          "SC",
          "SD",
          "TN",
          "TX",
          "UT",
          "VA",
          "VT",
          "WA",
          "WI",
          "WV",
          "WY"
         ],
         "name": "",
         "type": "choropleth",
         "z": [
          14.441615132775553,
          8.999470619375332,
          7.064364207221351,
          12.701100762066044,
          8.424215985652658,
          12.361049355269008,
          3.6303630363036308,
          4.5322110715441895,
          7.41687979539642,
          16.206660583941606,
          14.398148148148149,
          3.3400518283904406,
          7.084585659081151,
          10.87092731829574,
          7.45240988254354,
          5.817954332186425,
          10.122950819672132,
          8.48968105065666,
          9.235668789808917,
          4.1297246850209985,
          8.964388047482604,
          5.692199578355587,
          4.812575574365175,
          6.63265306122449,
          10.612244897959183,
          14.56752655538695,
          10.48908028298985,
          12.918994413407821,
          8.03024846957148,
          9.691629955947137,
          5.685323931247246,
          7.608052101835405,
          10.5695664494191,
          12.903225806451612,
          5.769476781373928,
          8.61987753179463,
          17.386866281047975,
          6.757990867579909,
          7.701837703902539,
          5.444887118193891,
          8.316361167684997,
          10.67193675889328,
          8.606921029281278,
          18.903493600830164,
          12.316010814058275,
          8.017334777898158,
          4.5875810936051895,
          8.322630362188544,
          6.5967016491754125,
          5.0228310502283104,
          9.216226860968886
         ]
        }
       ],
       "layout": {
        "coloraxis": {
         "colorbar": {
          "title": {
           "text": "Uninsured %"
          }
         },
         "colorscale": [
          [
           0,
           "rgb(255,245,240)"
          ],
          [
           0.125,
           "rgb(254,224,210)"
          ],
          [
           0.25,
           "rgb(252,187,161)"
          ],
          [
           0.375,
           "rgb(252,146,114)"
          ],
          [
           0.5,
           "rgb(251,106,74)"
          ],
          [
           0.625,
           "rgb(239,59,44)"
          ],
          [
           0.75,
           "rgb(203,24,29)"
          ],
          [
           0.875,
           "rgb(165,15,21)"
          ],
          [
           1,
           "rgb(103,0,13)"
          ]
         ]
        },
        "geo": {
         "center": {},
         "domain": {
          "x": [
           0,
           1
          ],
          "y": [
           0,
           1
          ]
         },
         "scope": "usa"
        },
        "legend": {
         "tracegroupgap": 0
        },
        "template": {
         "data": {
          "bar": [
           {
            "error_x": {
             "color": "#2a3f5f"
            },
            "error_y": {
             "color": "#2a3f5f"
            },
            "marker": {
             "line": {
              "color": "#E5ECF6",
              "width": 0.5
             }
            },
            "type": "bar"
           }
          ],
          "barpolar": [
           {
            "marker": {
             "line": {
              "color": "#E5ECF6",
              "width": 0.5
             }
            },
            "type": "barpolar"
           }
          ],
          "carpet": [
           {
            "aaxis": {
             "endlinecolor": "#2a3f5f",
             "gridcolor": "white",
             "linecolor": "white",
             "minorgridcolor": "white",
             "startlinecolor": "#2a3f5f"
            },
            "baxis": {
             "endlinecolor": "#2a3f5f",
             "gridcolor": "white",
             "linecolor": "white",
             "minorgridcolor": "white",
             "startlinecolor": "#2a3f5f"
            },
            "type": "carpet"
           }
          ],
          "choropleth": [
           {
            "colorbar": {
             "outlinewidth": 0,
             "ticks": ""
            },
            "type": "choropleth"
           }
          ],
          "contour": [
           {
            "colorbar": {
             "outlinewidth": 0,
             "ticks": ""
            },
            "colorscale": [
             [
              0,
              "#0d0887"
             ],
             [
              0.1111111111111111,
              "#46039f"
             ],
             [
              0.2222222222222222,
              "#7201a8"
             ],
             [
              0.3333333333333333,
              "#9c179e"
             ],
             [
              0.4444444444444444,
              "#bd3786"
             ],
             [
              0.5555555555555556,
              "#d8576b"
             ],
             [
              0.6666666666666666,
              "#ed7953"
             ],
             [
              0.7777777777777778,
              "#fb9f3a"
             ],
             [
              0.8888888888888888,
              "#fdca26"
             ],
             [
              1,
              "#f0f921"
             ]
            ],
            "type": "contour"
           }
          ],
          "contourcarpet": [
           {
            "colorbar": {
             "outlinewidth": 0,
             "ticks": ""
            },
            "type": "contourcarpet"
           }
          ],
          "heatmap": [
           {
            "colorbar": {
             "outlinewidth": 0,
             "ticks": ""
            },
            "colorscale": [
             [
              0,
              "#0d0887"
             ],
             [
              0.1111111111111111,
              "#46039f"
             ],
             [
              0.2222222222222222,
              "#7201a8"
             ],
             [
              0.3333333333333333,
              "#9c179e"
             ],
             [
              0.4444444444444444,
              "#bd3786"
             ],
             [
              0.5555555555555556,
              "#d8576b"
             ],
             [
              0.6666666666666666,
              "#ed7953"
             ],
             [
              0.7777777777777778,
              "#fb9f3a"
             ],
             [
              0.8888888888888888,
              "#fdca26"
             ],
             [
              1,
              "#f0f921"
             ]
            ],
            "type": "heatmap"
           }
          ],
          "heatmapgl": [
           {
            "colorbar": {
             "outlinewidth": 0,
             "ticks": ""
            },
            "colorscale": [
             [
              0,
              "#0d0887"
             ],
             [
              0.1111111111111111,
              "#46039f"
             ],
             [
              0.2222222222222222,
              "#7201a8"
             ],
             [
              0.3333333333333333,
              "#9c179e"
             ],
             [
              0.4444444444444444,
              "#bd3786"
             ],
             [
              0.5555555555555556,
              "#d8576b"
             ],
             [
              0.6666666666666666,
              "#ed7953"
             ],
             [
              0.7777777777777778,
              "#fb9f3a"
             ],
             [
              0.8888888888888888,
              "#fdca26"
             ],
             [
              1,
              "#f0f921"
             ]
            ],
            "type": "heatmapgl"
           }
          ],
          "histogram": [
           {
            "marker": {
             "colorbar": {
              "outlinewidth": 0,
              "ticks": ""
             }
            },
            "type": "histogram"
           }
          ],
          "histogram2d": [
           {
            "colorbar": {
             "outlinewidth": 0,
             "ticks": ""
            },
            "colorscale": [
             [
              0,
              "#0d0887"
             ],
             [
              0.1111111111111111,
              "#46039f"
             ],
             [
              0.2222222222222222,
              "#7201a8"
             ],
             [
              0.3333333333333333,
              "#9c179e"
             ],
             [
              0.4444444444444444,
              "#bd3786"
             ],
             [
              0.5555555555555556,
              "#d8576b"
             ],
             [
              0.6666666666666666,
              "#ed7953"
             ],
             [
              0.7777777777777778,
              "#fb9f3a"
             ],
             [
              0.8888888888888888,
              "#fdca26"
             ],
             [
              1,
              "#f0f921"
             ]
            ],
            "type": "histogram2d"
           }
          ],
          "histogram2dcontour": [
           {
            "colorbar": {
             "outlinewidth": 0,
             "ticks": ""
            },
            "colorscale": [
             [
              0,
              "#0d0887"
             ],
             [
              0.1111111111111111,
              "#46039f"
             ],
             [
              0.2222222222222222,
              "#7201a8"
             ],
             [
              0.3333333333333333,
              "#9c179e"
             ],
             [
              0.4444444444444444,
              "#bd3786"
             ],
             [
              0.5555555555555556,
              "#d8576b"
             ],
             [
              0.6666666666666666,
              "#ed7953"
             ],
             [
              0.7777777777777778,
              "#fb9f3a"
             ],
             [
              0.8888888888888888,
              "#fdca26"
             ],
             [
              1,
              "#f0f921"
             ]
            ],
            "type": "histogram2dcontour"
           }
          ],
          "mesh3d": [
           {
            "colorbar": {
             "outlinewidth": 0,
             "ticks": ""
            },
            "type": "mesh3d"
           }
          ],
          "parcoords": [
           {
            "line": {
             "colorbar": {
              "outlinewidth": 0,
              "ticks": ""
             }
            },
            "type": "parcoords"
           }
          ],
          "pie": [
           {
            "automargin": true,
            "type": "pie"
           }
          ],
          "scatter": [
           {
            "marker": {
             "colorbar": {
              "outlinewidth": 0,
              "ticks": ""
             }
            },
            "type": "scatter"
           }
          ],
          "scatter3d": [
           {
            "line": {
             "colorbar": {
              "outlinewidth": 0,
              "ticks": ""
             }
            },
            "marker": {
             "colorbar": {
              "outlinewidth": 0,
              "ticks": ""
             }
            },
            "type": "scatter3d"
           }
          ],
          "scattercarpet": [
           {
            "marker": {
             "colorbar": {
              "outlinewidth": 0,
              "ticks": ""
             }
            },
            "type": "scattercarpet"
           }
          ],
          "scattergeo": [
           {
            "marker": {
             "colorbar": {
              "outlinewidth": 0,
              "ticks": ""
             }
            },
            "type": "scattergeo"
           }
          ],
          "scattergl": [
           {
            "marker": {
             "colorbar": {
              "outlinewidth": 0,
              "ticks": ""
             }
            },
            "type": "scattergl"
           }
          ],
          "scattermapbox": [
           {
            "marker": {
             "colorbar": {
              "outlinewidth": 0,
              "ticks": ""
             }
            },
            "type": "scattermapbox"
           }
          ],
          "scatterpolar": [
           {
            "marker": {
             "colorbar": {
              "outlinewidth": 0,
              "ticks": ""
             }
            },
            "type": "scatterpolar"
           }
          ],
          "scatterpolargl": [
           {
            "marker": {
             "colorbar": {
              "outlinewidth": 0,
              "ticks": ""
             }
            },
            "type": "scatterpolargl"
           }
          ],
          "scatterternary": [
           {
            "marker": {
             "colorbar": {
              "outlinewidth": 0,
              "ticks": ""
             }
            },
            "type": "scatterternary"
           }
          ],
          "surface": [
           {
            "colorbar": {
             "outlinewidth": 0,
             "ticks": ""
            },
            "colorscale": [
             [
              0,
              "#0d0887"
             ],
             [
              0.1111111111111111,
              "#46039f"
             ],
             [
              0.2222222222222222,
              "#7201a8"
             ],
             [
              0.3333333333333333,
              "#9c179e"
             ],
             [
              0.4444444444444444,
              "#bd3786"
             ],
             [
              0.5555555555555556,
              "#d8576b"
             ],
             [
              0.6666666666666666,
              "#ed7953"
             ],
             [
              0.7777777777777778,
              "#fb9f3a"
             ],
             [
              0.8888888888888888,
              "#fdca26"
             ],
             [
              1,
              "#f0f921"
             ]
            ],
            "type": "surface"
           }
          ],
          "table": [
           {
            "cells": {
             "fill": {
              "color": "#EBF0F8"
             },
             "line": {
              "color": "white"
             }
            },
            "header": {
             "fill": {
              "color": "#C8D4E3"
             },
             "line": {
              "color": "white"
             }
            },
            "type": "table"
           }
          ]
         },
         "layout": {
          "annotationdefaults": {
           "arrowcolor": "#2a3f5f",
           "arrowhead": 0,
           "arrowwidth": 1
          },
          "autotypenumbers": "strict",
          "coloraxis": {
           "colorbar": {
            "outlinewidth": 0,
            "ticks": ""
           }
          },
          "colorscale": {
           "diverging": [
            [
             0,
             "#8e0152"
            ],
            [
             0.1,
             "#c51b7d"
            ],
            [
             0.2,
             "#de77ae"
            ],
            [
             0.3,
             "#f1b6da"
            ],
            [
             0.4,
             "#fde0ef"
            ],
            [
             0.5,
             "#f7f7f7"
            ],
            [
             0.6,
             "#e6f5d0"
            ],
            [
             0.7,
             "#b8e186"
            ],
            [
             0.8,
             "#7fbc41"
            ],
            [
             0.9,
             "#4d9221"
            ],
            [
             1,
             "#276419"
            ]
           ],
           "sequential": [
            [
             0,
             "#0d0887"
            ],
            [
             0.1111111111111111,
             "#46039f"
            ],
            [
             0.2222222222222222,
             "#7201a8"
            ],
            [
             0.3333333333333333,
             "#9c179e"
            ],
            [
             0.4444444444444444,
             "#bd3786"
            ],
            [
             0.5555555555555556,
             "#d8576b"
            ],
            [
             0.6666666666666666,
             "#ed7953"
            ],
            [
             0.7777777777777778,
             "#fb9f3a"
            ],
            [
             0.8888888888888888,
             "#fdca26"
            ],
            [
             1,
             "#f0f921"
            ]
           ],
           "sequentialminus": [
            [
             0,
             "#0d0887"
            ],
            [
             0.1111111111111111,
             "#46039f"
            ],
            [
             0.2222222222222222,
             "#7201a8"
            ],
            [
             0.3333333333333333,
             "#9c179e"
            ],
            [
             0.4444444444444444,
             "#bd3786"
            ],
            [
             0.5555555555555556,
             "#d8576b"
            ],
            [
             0.6666666666666666,
             "#ed7953"
            ],
            [
             0.7777777777777778,
             "#fb9f3a"
            ],
            [
             0.8888888888888888,
             "#fdca26"
            ],
            [
             1,
             "#f0f921"
            ]
           ]
          },
          "colorway": [
           "#636efa",
           "#EF553B",
           "#00cc96",
           "#ab63fa",
           "#FFA15A",
           "#19d3f3",
           "#FF6692",
           "#B6E880",
           "#FF97FF",
           "#FECB52"
          ],
          "font": {
           "color": "#2a3f5f"
          },
          "geo": {
           "bgcolor": "white",
           "lakecolor": "white",
           "landcolor": "#E5ECF6",
           "showlakes": true,
           "showland": true,
           "subunitcolor": "white"
          },
          "hoverlabel": {
           "align": "left"
          },
          "hovermode": "closest",
          "mapbox": {
           "style": "light"
          },
          "paper_bgcolor": "white",
          "plot_bgcolor": "#E5ECF6",
          "polar": {
           "angularaxis": {
            "gridcolor": "white",
            "linecolor": "white",
            "ticks": ""
           },
           "bgcolor": "#E5ECF6",
           "radialaxis": {
            "gridcolor": "white",
            "linecolor": "white",
            "ticks": ""
           }
          },
          "scene": {
           "xaxis": {
            "backgroundcolor": "#E5ECF6",
            "gridcolor": "white",
            "gridwidth": 2,
            "linecolor": "white",
            "showbackground": true,
            "ticks": "",
            "zerolinecolor": "white"
           },
           "yaxis": {
            "backgroundcolor": "#E5ECF6",
            "gridcolor": "white",
            "gridwidth": 2,
            "linecolor": "white",
            "showbackground": true,
            "ticks": "",
            "zerolinecolor": "white"
           },
           "zaxis": {
            "backgroundcolor": "#E5ECF6",
            "gridcolor": "white",
            "gridwidth": 2,
            "linecolor": "white",
            "showbackground": true,
            "ticks": "",
            "zerolinecolor": "white"
           }
          },
          "shapedefaults": {
           "line": {
            "color": "#2a3f5f"
           }
          },
          "ternary": {
           "aaxis": {
            "gridcolor": "white",
            "linecolor": "white",
            "ticks": ""
           },
           "baxis": {
            "gridcolor": "white",
            "linecolor": "white",
            "ticks": ""
           },
           "bgcolor": "#E5ECF6",
           "caxis": {
            "gridcolor": "white",
            "linecolor": "white",
            "ticks": ""
           }
          },
          "title": {
           "x": 0.05
          },
          "xaxis": {
           "automargin": true,
           "gridcolor": "white",
           "linecolor": "white",
           "ticks": "",
           "title": {
            "standoff": 15
           },
           "zerolinecolor": "white",
           "zerolinewidth": 2
          },
          "yaxis": {
           "automargin": true,
           "gridcolor": "white",
           "linecolor": "white",
           "ticks": "",
           "title": {
            "standoff": 15
           },
           "zerolinecolor": "white",
           "zerolinewidth": 2
          }
         }
        },
        "title": {
         "text": "Uninsured Percentage by State (in %)"
        }
       }
      }
     },
     "metadata": {}
    }
   ],
   "source": [
    "fig = px.choropleth(uninsured_df, locations='State Code', locationmode=\"USA-states\", color='Uninsured %', scope=\"usa\", title ='Uninsured Percentage by State (in %)', color_continuous_scale='Reds')\n",
    "fig"
   ]
  },
  {
   "cell_type": "code",
   "execution_count": 34,
   "metadata": {},
   "outputs": [
    {
     "output_type": "execute_result",
     "data": {
      "text/plain": [
       "    State Code                                    Issuer Name  record_count\n",
       "0           AK                                    Moda Health            24\n",
       "1           AK       Premera Blue Cross Blue Shield of Alaska           145\n",
       "2           AL          Blue Cross and Blue Shield of Alabama           469\n",
       "3           AL                                  Bright Health            32\n",
       "4           AR       Ambetter from Arkansas Health & Wellness          1425\n",
       "..         ...                                            ...           ...\n",
       "176         WI                                WPS Health Plan           352\n",
       "177         WV                                     CareSource           605\n",
       "178         WV  Highmark Blue Cross Blue Shield West Virginia           550\n",
       "179         WY              Blue Cross Blue Shield of Wyoming           276\n",
       "180         WY                          Mountain Health CO-OP            92\n",
       "\n",
       "[181 rows x 3 columns]"
      ],
      "text/html": "<div>\n<style scoped>\n    .dataframe tbody tr th:only-of-type {\n        vertical-align: middle;\n    }\n\n    .dataframe tbody tr th {\n        vertical-align: top;\n    }\n\n    .dataframe thead th {\n        text-align: right;\n    }\n</style>\n<table border=\"1\" class=\"dataframe\">\n  <thead>\n    <tr style=\"text-align: right;\">\n      <th></th>\n      <th>State Code</th>\n      <th>Issuer Name</th>\n      <th>record_count</th>\n    </tr>\n  </thead>\n  <tbody>\n    <tr>\n      <th>0</th>\n      <td>AK</td>\n      <td>Moda Health</td>\n      <td>24</td>\n    </tr>\n    <tr>\n      <th>1</th>\n      <td>AK</td>\n      <td>Premera Blue Cross Blue Shield of Alaska</td>\n      <td>145</td>\n    </tr>\n    <tr>\n      <th>2</th>\n      <td>AL</td>\n      <td>Blue Cross and Blue Shield of Alabama</td>\n      <td>469</td>\n    </tr>\n    <tr>\n      <th>3</th>\n      <td>AL</td>\n      <td>Bright Health</td>\n      <td>32</td>\n    </tr>\n    <tr>\n      <th>4</th>\n      <td>AR</td>\n      <td>Ambetter from Arkansas Health &amp; Wellness</td>\n      <td>1425</td>\n    </tr>\n    <tr>\n      <th>...</th>\n      <td>...</td>\n      <td>...</td>\n      <td>...</td>\n    </tr>\n    <tr>\n      <th>176</th>\n      <td>WI</td>\n      <td>WPS Health Plan</td>\n      <td>352</td>\n    </tr>\n    <tr>\n      <th>177</th>\n      <td>WV</td>\n      <td>CareSource</td>\n      <td>605</td>\n    </tr>\n    <tr>\n      <th>178</th>\n      <td>WV</td>\n      <td>Highmark Blue Cross Blue Shield West Virginia</td>\n      <td>550</td>\n    </tr>\n    <tr>\n      <th>179</th>\n      <td>WY</td>\n      <td>Blue Cross Blue Shield of Wyoming</td>\n      <td>276</td>\n    </tr>\n    <tr>\n      <th>180</th>\n      <td>WY</td>\n      <td>Mountain Health CO-OP</td>\n      <td>92</td>\n    </tr>\n  </tbody>\n</table>\n<p>181 rows × 3 columns</p>\n</div>"
     },
     "metadata": {},
     "execution_count": 34
    }
   ],
   "source": [
    "state_dict[2021]"
   ]
  },
  {
   "cell_type": "code",
   "execution_count": 72,
   "metadata": {},
   "outputs": [
    {
     "output_type": "display_data",
     "data": {
      "application/vnd.plotly.v1+json": {
       "config": {
        "plotlyServerURL": "https://plot.ly"
       },
       "data": [
        {
         "hovertemplate": "Age (no kids)=Premium Adult Individual Age 21<br>Metal Level=%{x}<br>Avg. Premium Charge=%{y}<extra></extra>",
         "legendgroup": "Premium Adult Individual Age 21",
         "line": {
          "color": "#636efa",
          "dash": "solid"
         },
         "mode": "lines",
         "name": "Premium Adult Individual Age 21",
         "orientation": "v",
         "showlegend": true,
         "type": "scatter",
         "x": [
          "Catastrophic",
          "Bronze",
          "Expanded Bronze",
          "Silver",
          "Gold",
          "Platinum"
         ],
         "xaxis": "x",
         "y": [
          249,
          305,
          329,
          410,
          463,
          589
         ],
         "yaxis": "y"
        },
        {
         "hovertemplate": "Age (no kids)=Premium Adult Individual Age 27<br>Metal Level=%{x}<br>Avg. Premium Charge=%{y}<extra></extra>",
         "legendgroup": "Premium Adult Individual Age 27",
         "line": {
          "color": "#EF553B",
          "dash": "solid"
         },
         "mode": "lines",
         "name": "Premium Adult Individual Age 27",
         "orientation": "v",
         "showlegend": true,
         "type": "scatter",
         "x": [
          "Catastrophic",
          "Bronze",
          "Expanded Bronze",
          "Silver",
          "Gold",
          "Platinum"
         ],
         "xaxis": "x",
         "y": [
          262,
          320,
          347,
          431,
          487,
          617
         ],
         "yaxis": "y"
        },
        {
         "hovertemplate": "Age (no kids)=Premium Adult Individual Age 30 <br>Metal Level=%{x}<br>Avg. Premium Charge=%{y}<extra></extra>",
         "legendgroup": "Premium Adult Individual Age 30 ",
         "line": {
          "color": "#00cc96",
          "dash": "solid"
         },
         "mode": "lines",
         "name": "Premium Adult Individual Age 30 ",
         "orientation": "v",
         "showlegend": true,
         "type": "scatter",
         "x": [
          "Catastrophic",
          "Bronze",
          "Expanded Bronze",
          "Silver",
          "Gold",
          "Platinum"
         ],
         "xaxis": "x",
         "y": [
          283,
          347,
          375,
          466,
          527,
          668
         ],
         "yaxis": "y"
        },
        {
         "hovertemplate": "Age (no kids)=Premium Adult Individual Age 40 <br>Metal Level=%{x}<br>Avg. Premium Charge=%{y}<extra></extra>",
         "legendgroup": "Premium Adult Individual Age 40 ",
         "line": {
          "color": "#ab63fa",
          "dash": "solid"
         },
         "mode": "lines",
         "name": "Premium Adult Individual Age 40 ",
         "orientation": "v",
         "showlegend": true,
         "type": "scatter",
         "x": [
          "Catastrophic",
          "Bronze",
          "Expanded Bronze",
          "Silver",
          "Gold",
          "Platinum"
         ],
         "xaxis": "x",
         "y": [
          319,
          390,
          422,
          525,
          593,
          752
         ],
         "yaxis": "y"
        },
        {
         "hovertemplate": "Age (no kids)=Premium Adult Individual Age 50 <br>Metal Level=%{x}<br>Avg. Premium Charge=%{y}<extra></extra>",
         "legendgroup": "Premium Adult Individual Age 50 ",
         "line": {
          "color": "#FFA15A",
          "dash": "solid"
         },
         "mode": "lines",
         "name": "Premium Adult Individual Age 50 ",
         "orientation": "v",
         "showlegend": true,
         "type": "scatter",
         "x": [
          "Catastrophic",
          "Bronze",
          "Expanded Bronze",
          "Silver",
          "Gold",
          "Platinum"
         ],
         "xaxis": "x",
         "y": [
          446,
          546,
          591,
          734,
          829,
          1052
         ],
         "yaxis": "y"
        },
        {
         "hovertemplate": "Age (no kids)=Premium Adult Individual Age 60 <br>Metal Level=%{x}<br>Avg. Premium Charge=%{y}<extra></extra>",
         "legendgroup": "Premium Adult Individual Age 60 ",
         "line": {
          "color": "#19d3f3",
          "dash": "solid"
         },
         "mode": "lines",
         "name": "Premium Adult Individual Age 60 ",
         "orientation": "v",
         "showlegend": true,
         "type": "scatter",
         "x": [
          "Catastrophic",
          "Bronze",
          "Expanded Bronze",
          "Silver",
          "Gold",
          "Platinum"
         ],
         "xaxis": "x",
         "y": [
          677,
          829,
          896,
          1114,
          1259,
          1598
         ],
         "yaxis": "y"
        }
       ],
       "layout": {
        "legend": {
         "title": {
          "text": "Age (no kids)"
         },
         "tracegroupgap": 0
        },
        "template": {
         "data": {
          "bar": [
           {
            "error_x": {
             "color": "#2a3f5f"
            },
            "error_y": {
             "color": "#2a3f5f"
            },
            "marker": {
             "line": {
              "color": "#E5ECF6",
              "width": 0.5
             }
            },
            "type": "bar"
           }
          ],
          "barpolar": [
           {
            "marker": {
             "line": {
              "color": "#E5ECF6",
              "width": 0.5
             }
            },
            "type": "barpolar"
           }
          ],
          "carpet": [
           {
            "aaxis": {
             "endlinecolor": "#2a3f5f",
             "gridcolor": "white",
             "linecolor": "white",
             "minorgridcolor": "white",
             "startlinecolor": "#2a3f5f"
            },
            "baxis": {
             "endlinecolor": "#2a3f5f",
             "gridcolor": "white",
             "linecolor": "white",
             "minorgridcolor": "white",
             "startlinecolor": "#2a3f5f"
            },
            "type": "carpet"
           }
          ],
          "choropleth": [
           {
            "colorbar": {
             "outlinewidth": 0,
             "ticks": ""
            },
            "type": "choropleth"
           }
          ],
          "contour": [
           {
            "colorbar": {
             "outlinewidth": 0,
             "ticks": ""
            },
            "colorscale": [
             [
              0,
              "#0d0887"
             ],
             [
              0.1111111111111111,
              "#46039f"
             ],
             [
              0.2222222222222222,
              "#7201a8"
             ],
             [
              0.3333333333333333,
              "#9c179e"
             ],
             [
              0.4444444444444444,
              "#bd3786"
             ],
             [
              0.5555555555555556,
              "#d8576b"
             ],
             [
              0.6666666666666666,
              "#ed7953"
             ],
             [
              0.7777777777777778,
              "#fb9f3a"
             ],
             [
              0.8888888888888888,
              "#fdca26"
             ],
             [
              1,
              "#f0f921"
             ]
            ],
            "type": "contour"
           }
          ],
          "contourcarpet": [
           {
            "colorbar": {
             "outlinewidth": 0,
             "ticks": ""
            },
            "type": "contourcarpet"
           }
          ],
          "heatmap": [
           {
            "colorbar": {
             "outlinewidth": 0,
             "ticks": ""
            },
            "colorscale": [
             [
              0,
              "#0d0887"
             ],
             [
              0.1111111111111111,
              "#46039f"
             ],
             [
              0.2222222222222222,
              "#7201a8"
             ],
             [
              0.3333333333333333,
              "#9c179e"
             ],
             [
              0.4444444444444444,
              "#bd3786"
             ],
             [
              0.5555555555555556,
              "#d8576b"
             ],
             [
              0.6666666666666666,
              "#ed7953"
             ],
             [
              0.7777777777777778,
              "#fb9f3a"
             ],
             [
              0.8888888888888888,
              "#fdca26"
             ],
             [
              1,
              "#f0f921"
             ]
            ],
            "type": "heatmap"
           }
          ],
          "heatmapgl": [
           {
            "colorbar": {
             "outlinewidth": 0,
             "ticks": ""
            },
            "colorscale": [
             [
              0,
              "#0d0887"
             ],
             [
              0.1111111111111111,
              "#46039f"
             ],
             [
              0.2222222222222222,
              "#7201a8"
             ],
             [
              0.3333333333333333,
              "#9c179e"
             ],
             [
              0.4444444444444444,
              "#bd3786"
             ],
             [
              0.5555555555555556,
              "#d8576b"
             ],
             [
              0.6666666666666666,
              "#ed7953"
             ],
             [
              0.7777777777777778,
              "#fb9f3a"
             ],
             [
              0.8888888888888888,
              "#fdca26"
             ],
             [
              1,
              "#f0f921"
             ]
            ],
            "type": "heatmapgl"
           }
          ],
          "histogram": [
           {
            "marker": {
             "colorbar": {
              "outlinewidth": 0,
              "ticks": ""
             }
            },
            "type": "histogram"
           }
          ],
          "histogram2d": [
           {
            "colorbar": {
             "outlinewidth": 0,
             "ticks": ""
            },
            "colorscale": [
             [
              0,
              "#0d0887"
             ],
             [
              0.1111111111111111,
              "#46039f"
             ],
             [
              0.2222222222222222,
              "#7201a8"
             ],
             [
              0.3333333333333333,
              "#9c179e"
             ],
             [
              0.4444444444444444,
              "#bd3786"
             ],
             [
              0.5555555555555556,
              "#d8576b"
             ],
             [
              0.6666666666666666,
              "#ed7953"
             ],
             [
              0.7777777777777778,
              "#fb9f3a"
             ],
             [
              0.8888888888888888,
              "#fdca26"
             ],
             [
              1,
              "#f0f921"
             ]
            ],
            "type": "histogram2d"
           }
          ],
          "histogram2dcontour": [
           {
            "colorbar": {
             "outlinewidth": 0,
             "ticks": ""
            },
            "colorscale": [
             [
              0,
              "#0d0887"
             ],
             [
              0.1111111111111111,
              "#46039f"
             ],
             [
              0.2222222222222222,
              "#7201a8"
             ],
             [
              0.3333333333333333,
              "#9c179e"
             ],
             [
              0.4444444444444444,
              "#bd3786"
             ],
             [
              0.5555555555555556,
              "#d8576b"
             ],
             [
              0.6666666666666666,
              "#ed7953"
             ],
             [
              0.7777777777777778,
              "#fb9f3a"
             ],
             [
              0.8888888888888888,
              "#fdca26"
             ],
             [
              1,
              "#f0f921"
             ]
            ],
            "type": "histogram2dcontour"
           }
          ],
          "mesh3d": [
           {
            "colorbar": {
             "outlinewidth": 0,
             "ticks": ""
            },
            "type": "mesh3d"
           }
          ],
          "parcoords": [
           {
            "line": {
             "colorbar": {
              "outlinewidth": 0,
              "ticks": ""
             }
            },
            "type": "parcoords"
           }
          ],
          "pie": [
           {
            "automargin": true,
            "type": "pie"
           }
          ],
          "scatter": [
           {
            "marker": {
             "colorbar": {
              "outlinewidth": 0,
              "ticks": ""
             }
            },
            "type": "scatter"
           }
          ],
          "scatter3d": [
           {
            "line": {
             "colorbar": {
              "outlinewidth": 0,
              "ticks": ""
             }
            },
            "marker": {
             "colorbar": {
              "outlinewidth": 0,
              "ticks": ""
             }
            },
            "type": "scatter3d"
           }
          ],
          "scattercarpet": [
           {
            "marker": {
             "colorbar": {
              "outlinewidth": 0,
              "ticks": ""
             }
            },
            "type": "scattercarpet"
           }
          ],
          "scattergeo": [
           {
            "marker": {
             "colorbar": {
              "outlinewidth": 0,
              "ticks": ""
             }
            },
            "type": "scattergeo"
           }
          ],
          "scattergl": [
           {
            "marker": {
             "colorbar": {
              "outlinewidth": 0,
              "ticks": ""
             }
            },
            "type": "scattergl"
           }
          ],
          "scattermapbox": [
           {
            "marker": {
             "colorbar": {
              "outlinewidth": 0,
              "ticks": ""
             }
            },
            "type": "scattermapbox"
           }
          ],
          "scatterpolar": [
           {
            "marker": {
             "colorbar": {
              "outlinewidth": 0,
              "ticks": ""
             }
            },
            "type": "scatterpolar"
           }
          ],
          "scatterpolargl": [
           {
            "marker": {
             "colorbar": {
              "outlinewidth": 0,
              "ticks": ""
             }
            },
            "type": "scatterpolargl"
           }
          ],
          "scatterternary": [
           {
            "marker": {
             "colorbar": {
              "outlinewidth": 0,
              "ticks": ""
             }
            },
            "type": "scatterternary"
           }
          ],
          "surface": [
           {
            "colorbar": {
             "outlinewidth": 0,
             "ticks": ""
            },
            "colorscale": [
             [
              0,
              "#0d0887"
             ],
             [
              0.1111111111111111,
              "#46039f"
             ],
             [
              0.2222222222222222,
              "#7201a8"
             ],
             [
              0.3333333333333333,
              "#9c179e"
             ],
             [
              0.4444444444444444,
              "#bd3786"
             ],
             [
              0.5555555555555556,
              "#d8576b"
             ],
             [
              0.6666666666666666,
              "#ed7953"
             ],
             [
              0.7777777777777778,
              "#fb9f3a"
             ],
             [
              0.8888888888888888,
              "#fdca26"
             ],
             [
              1,
              "#f0f921"
             ]
            ],
            "type": "surface"
           }
          ],
          "table": [
           {
            "cells": {
             "fill": {
              "color": "#EBF0F8"
             },
             "line": {
              "color": "white"
             }
            },
            "header": {
             "fill": {
              "color": "#C8D4E3"
             },
             "line": {
              "color": "white"
             }
            },
            "type": "table"
           }
          ]
         },
         "layout": {
          "annotationdefaults": {
           "arrowcolor": "#2a3f5f",
           "arrowhead": 0,
           "arrowwidth": 1
          },
          "autotypenumbers": "strict",
          "coloraxis": {
           "colorbar": {
            "outlinewidth": 0,
            "ticks": ""
           }
          },
          "colorscale": {
           "diverging": [
            [
             0,
             "#8e0152"
            ],
            [
             0.1,
             "#c51b7d"
            ],
            [
             0.2,
             "#de77ae"
            ],
            [
             0.3,
             "#f1b6da"
            ],
            [
             0.4,
             "#fde0ef"
            ],
            [
             0.5,
             "#f7f7f7"
            ],
            [
             0.6,
             "#e6f5d0"
            ],
            [
             0.7,
             "#b8e186"
            ],
            [
             0.8,
             "#7fbc41"
            ],
            [
             0.9,
             "#4d9221"
            ],
            [
             1,
             "#276419"
            ]
           ],
           "sequential": [
            [
             0,
             "#0d0887"
            ],
            [
             0.1111111111111111,
             "#46039f"
            ],
            [
             0.2222222222222222,
             "#7201a8"
            ],
            [
             0.3333333333333333,
             "#9c179e"
            ],
            [
             0.4444444444444444,
             "#bd3786"
            ],
            [
             0.5555555555555556,
             "#d8576b"
            ],
            [
             0.6666666666666666,
             "#ed7953"
            ],
            [
             0.7777777777777778,
             "#fb9f3a"
            ],
            [
             0.8888888888888888,
             "#fdca26"
            ],
            [
             1,
             "#f0f921"
            ]
           ],
           "sequentialminus": [
            [
             0,
             "#0d0887"
            ],
            [
             0.1111111111111111,
             "#46039f"
            ],
            [
             0.2222222222222222,
             "#7201a8"
            ],
            [
             0.3333333333333333,
             "#9c179e"
            ],
            [
             0.4444444444444444,
             "#bd3786"
            ],
            [
             0.5555555555555556,
             "#d8576b"
            ],
            [
             0.6666666666666666,
             "#ed7953"
            ],
            [
             0.7777777777777778,
             "#fb9f3a"
            ],
            [
             0.8888888888888888,
             "#fdca26"
            ],
            [
             1,
             "#f0f921"
            ]
           ]
          },
          "colorway": [
           "#636efa",
           "#EF553B",
           "#00cc96",
           "#ab63fa",
           "#FFA15A",
           "#19d3f3",
           "#FF6692",
           "#B6E880",
           "#FF97FF",
           "#FECB52"
          ],
          "font": {
           "color": "#2a3f5f"
          },
          "geo": {
           "bgcolor": "white",
           "lakecolor": "white",
           "landcolor": "#E5ECF6",
           "showlakes": true,
           "showland": true,
           "subunitcolor": "white"
          },
          "hoverlabel": {
           "align": "left"
          },
          "hovermode": "closest",
          "mapbox": {
           "style": "light"
          },
          "paper_bgcolor": "white",
          "plot_bgcolor": "#E5ECF6",
          "polar": {
           "angularaxis": {
            "gridcolor": "white",
            "linecolor": "white",
            "ticks": ""
           },
           "bgcolor": "#E5ECF6",
           "radialaxis": {
            "gridcolor": "white",
            "linecolor": "white",
            "ticks": ""
           }
          },
          "scene": {
           "xaxis": {
            "backgroundcolor": "#E5ECF6",
            "gridcolor": "white",
            "gridwidth": 2,
            "linecolor": "white",
            "showbackground": true,
            "ticks": "",
            "zerolinecolor": "white"
           },
           "yaxis": {
            "backgroundcolor": "#E5ECF6",
            "gridcolor": "white",
            "gridwidth": 2,
            "linecolor": "white",
            "showbackground": true,
            "ticks": "",
            "zerolinecolor": "white"
           },
           "zaxis": {
            "backgroundcolor": "#E5ECF6",
            "gridcolor": "white",
            "gridwidth": 2,
            "linecolor": "white",
            "showbackground": true,
            "ticks": "",
            "zerolinecolor": "white"
           }
          },
          "shapedefaults": {
           "line": {
            "color": "#2a3f5f"
           }
          },
          "ternary": {
           "aaxis": {
            "gridcolor": "white",
            "linecolor": "white",
            "ticks": ""
           },
           "baxis": {
            "gridcolor": "white",
            "linecolor": "white",
            "ticks": ""
           },
           "bgcolor": "#E5ECF6",
           "caxis": {
            "gridcolor": "white",
            "linecolor": "white",
            "ticks": ""
           }
          },
          "title": {
           "x": 0.05
          },
          "xaxis": {
           "automargin": true,
           "gridcolor": "white",
           "linecolor": "white",
           "ticks": "",
           "title": {
            "standoff": 15
           },
           "zerolinecolor": "white",
           "zerolinewidth": 2
          },
          "yaxis": {
           "automargin": true,
           "gridcolor": "white",
           "linecolor": "white",
           "ticks": "",
           "title": {
            "standoff": 15
           },
           "zerolinecolor": "white",
           "zerolinewidth": 2
          }
         }
        },
        "title": {
         "text": "National Insurance Average Premium Cost by Metal Level"
        },
        "xaxis": {
         "anchor": "y",
         "domain": [
          0,
          1
         ],
         "title": {
          "text": "Metal Level"
         }
        },
        "yaxis": {
         "anchor": "x",
         "domain": [
          0,
          1
         ],
         "title": {
          "text": "Avg. Premium Charge"
         }
        }
       }
      }
     },
     "metadata": {}
    }
   ],
   "source": [
    "year = 2021; value = 'no kids'\n",
    "temp = tierpremium_dict[year][familystatus_group[value]].reset_index()\n",
    "df = pd.melt(temp, id_vars=['Metal Level'], value_vars=familystatus_group[value], var_name = 'Age ({})'.format(value), value_name = 'Avg. Premium Charge')\n",
    "df = df.sort_values(by=['Avg. Premium Charge'])\n",
    "px.line(df, x='Metal Level', y=\"Avg. Premium Charge\", color='Age ({})'.format(value), title= 'National Monthly Insurance Average Premium Cost by Metal Level')"
   ]
  },
  {
   "cell_type": "code",
   "execution_count": 108,
   "metadata": {},
   "outputs": [
    {
     "output_type": "display_data",
     "data": {
      "application/vnd.plotly.v1+json": {
       "config": {
        "plotlyServerURL": "https://plot.ly"
       },
       "data": [
        {
         "alignmentgroup": "True",
         "hovertemplate": "Metal Level=Catastrophic<br>State Code=%{x}<br>count=%{y}<extra></extra>",
         "legendgroup": "Catastrophic",
         "marker": {
          "color": "red"
         },
         "name": "Catastrophic",
         "offsetgroup": "Catastrophic",
         "orientation": "v",
         "showlegend": true,
         "textposition": "auto",
         "type": "bar",
         "x": [
          "AL",
          "AZ",
          "DE",
          "FL",
          "GA",
          "HI",
          "IA",
          "IL",
          "KS",
          "KY",
          "ME",
          "MI",
          "MO",
          "MT",
          "NC",
          "ND",
          "NE",
          "NH",
          "NM",
          "OH",
          "OK",
          "OR",
          "SC",
          "SD",
          "TN",
          "TX",
          "UT",
          "VA",
          "WI",
          "WV"
         ],
         "xaxis": "x",
         "y": [
          71,
          19,
          3,
          74,
          134,
          5,
          155,
          198,
          112,
          234,
          48,
          183,
          133,
          112,
          186,
          166,
          218,
          19,
          66,
          185,
          164,
          13,
          52,
          138,
          44,
          308,
          38,
          208,
          209,
          55
         ],
         "yaxis": "y"
        },
        {
         "alignmentgroup": "True",
         "hovertemplate": "Metal Level=Bronze<br>State Code=%{x}<br>count=%{y}<extra></extra>",
         "legendgroup": "Bronze",
         "marker": {
          "color": "peru"
         },
         "name": "Bronze",
         "offsetgroup": "Bronze",
         "orientation": "v",
         "showlegend": true,
         "textposition": "auto",
         "type": "bar",
         "x": [
          "AR",
          "AZ",
          "FL",
          "GA",
          "HI",
          "IL",
          "IN",
          "KS",
          "LA",
          "MI",
          "MO",
          "MS",
          "MT",
          "NC",
          "ND",
          "NH",
          "NM",
          "OH",
          "OK",
          "SC",
          "TN",
          "TX",
          "UT",
          "VA",
          "WI",
          "WY"
         ],
         "xaxis": "x",
         "y": [
          150,
          20,
          320,
          404,
          5,
          30,
          187,
          300,
          128,
          235,
          249,
          246,
          56,
          281,
          55,
          20,
          165,
          330,
          222,
          205,
          392,
          999,
          85,
          195,
          292,
          69
         ],
         "yaxis": "y"
        },
        {
         "alignmentgroup": "True",
         "hovertemplate": "Metal Level=Expanded Bronze<br>State Code=%{x}<br>count=%{y}<extra></extra>",
         "legendgroup": "Expanded Bronze",
         "marker": {
          "color": "sandybrown"
         },
         "name": "Expanded Bronze",
         "offsetgroup": "Expanded Bronze",
         "orientation": "v",
         "showlegend": true,
         "textposition": "auto",
         "type": "bar",
         "x": [
          "AK",
          "AL",
          "AR",
          "AZ",
          "DE",
          "FL",
          "GA",
          "HI",
          "IA",
          "IL",
          "IN",
          "KS",
          "KY",
          "LA",
          "ME",
          "MI",
          "MO",
          "MS",
          "MT",
          "NC",
          "ND",
          "NE",
          "NH",
          "NM",
          "OH",
          "OK",
          "OR",
          "SC",
          "SD",
          "TN",
          "TX",
          "UT",
          "VA",
          "WI",
          "WV",
          "WY"
         ],
         "xaxis": "x",
         "y": [
          70,
          146,
          375,
          101,
          9,
          1365,
          1176,
          25,
          917,
          650,
          463,
          732,
          574,
          360,
          208,
          794,
          1038,
          492,
          455,
          876,
          445,
          968,
          87,
          330,
          1381,
          346,
          466,
          458,
          342,
          811,
          1958,
          508,
          669,
          835,
          330,
          69
         ],
         "yaxis": "y"
        },
        {
         "alignmentgroup": "True",
         "hovertemplate": "Metal Level=Silver<br>State Code=%{x}<br>count=%{y}<extra></extra>",
         "legendgroup": "Silver",
         "marker": {
          "color": "silver"
         },
         "name": "Silver",
         "offsetgroup": "Silver",
         "orientation": "v",
         "showlegend": true,
         "textposition": "auto",
         "type": "bar",
         "x": [
          "AK",
          "AL",
          "AR",
          "AZ",
          "DE",
          "FL",
          "GA",
          "HI",
          "IA",
          "IL",
          "IN",
          "KS",
          "KY",
          "LA",
          "ME",
          "MI",
          "MO",
          "MS",
          "MT",
          "NC",
          "ND",
          "NE",
          "NH",
          "NM",
          "OH",
          "OK",
          "OR",
          "SC",
          "SD",
          "TN",
          "TX",
          "UT",
          "VA",
          "WI",
          "WV",
          "WY"
         ],
         "xaxis": "x",
         "y": [
          64,
          146,
          1650,
          191,
          9,
          2293,
          2049,
          30,
          445,
          806,
          2027,
          1424,
          960,
          460,
          222,
          1254,
          1678,
          738,
          399,
          1186,
          335,
          512,
          165,
          396,
          2334,
          283,
          358,
          954,
          411,
          1878,
          3823,
          322,
          747,
          1136,
          495,
          115
         ],
         "yaxis": "y"
        },
        {
         "alignmentgroup": "True",
         "hovertemplate": "Metal Level=Gold<br>State Code=%{x}<br>count=%{y}<extra></extra>",
         "legendgroup": "Gold",
         "marker": {
          "color": "gold"
         },
         "name": "Gold",
         "offsetgroup": "Gold",
         "orientation": "v",
         "showlegend": true,
         "textposition": "auto",
         "type": "bar",
         "x": [
          "AK",
          "AL",
          "AR",
          "AZ",
          "DE",
          "FL",
          "GA",
          "HI",
          "IA",
          "IL",
          "IN",
          "KS",
          "KY",
          "LA",
          "ME",
          "MI",
          "MO",
          "MS",
          "MT",
          "NC",
          "ND",
          "NE",
          "NH",
          "NM",
          "OH",
          "OK",
          "OR",
          "SC",
          "SD",
          "TN",
          "TX",
          "UT",
          "VA",
          "WI",
          "WV",
          "WY"
         ],
         "xaxis": "x",
         "y": [
          35,
          138,
          450,
          39,
          9,
          619,
          694,
          30,
          344,
          381,
          555,
          580,
          309,
          227,
          58,
          451,
          422,
          328,
          231,
          355,
          264,
          278,
          49,
          297,
          549,
          274,
          293,
          316,
          135,
          437,
          1770,
          138,
          344,
          608,
          275,
          115
         ],
         "yaxis": "y"
        },
        {
         "alignmentgroup": "True",
         "hovertemplate": "Metal Level=Platinum<br>State Code=%{x}<br>count=%{y}<extra></extra>",
         "legendgroup": "Platinum",
         "marker": {
          "color": "dodgerblue"
         },
         "name": "Platinum",
         "offsetgroup": "Platinum",
         "orientation": "v",
         "showlegend": true,
         "textposition": "auto",
         "type": "bar",
         "x": [
          "DE",
          "FL",
          "GA",
          "HI",
          "MI",
          "VA",
          "WI"
         ],
         "xaxis": "x",
         "y": [
          6,
          329,
          98,
          20,
          14,
          20,
          30
         ],
         "yaxis": "y"
        }
       ],
       "layout": {
        "barmode": "relative",
        "legend": {
         "title": {
          "text": "Metal Level"
         },
         "tracegroupgap": 0
        },
        "template": {
         "data": {
          "bar": [
           {
            "error_x": {
             "color": "#2a3f5f"
            },
            "error_y": {
             "color": "#2a3f5f"
            },
            "marker": {
             "line": {
              "color": "#E5ECF6",
              "width": 0.5
             }
            },
            "type": "bar"
           }
          ],
          "barpolar": [
           {
            "marker": {
             "line": {
              "color": "#E5ECF6",
              "width": 0.5
             }
            },
            "type": "barpolar"
           }
          ],
          "carpet": [
           {
            "aaxis": {
             "endlinecolor": "#2a3f5f",
             "gridcolor": "white",
             "linecolor": "white",
             "minorgridcolor": "white",
             "startlinecolor": "#2a3f5f"
            },
            "baxis": {
             "endlinecolor": "#2a3f5f",
             "gridcolor": "white",
             "linecolor": "white",
             "minorgridcolor": "white",
             "startlinecolor": "#2a3f5f"
            },
            "type": "carpet"
           }
          ],
          "choropleth": [
           {
            "colorbar": {
             "outlinewidth": 0,
             "ticks": ""
            },
            "type": "choropleth"
           }
          ],
          "contour": [
           {
            "colorbar": {
             "outlinewidth": 0,
             "ticks": ""
            },
            "colorscale": [
             [
              0,
              "#0d0887"
             ],
             [
              0.1111111111111111,
              "#46039f"
             ],
             [
              0.2222222222222222,
              "#7201a8"
             ],
             [
              0.3333333333333333,
              "#9c179e"
             ],
             [
              0.4444444444444444,
              "#bd3786"
             ],
             [
              0.5555555555555556,
              "#d8576b"
             ],
             [
              0.6666666666666666,
              "#ed7953"
             ],
             [
              0.7777777777777778,
              "#fb9f3a"
             ],
             [
              0.8888888888888888,
              "#fdca26"
             ],
             [
              1,
              "#f0f921"
             ]
            ],
            "type": "contour"
           }
          ],
          "contourcarpet": [
           {
            "colorbar": {
             "outlinewidth": 0,
             "ticks": ""
            },
            "type": "contourcarpet"
           }
          ],
          "heatmap": [
           {
            "colorbar": {
             "outlinewidth": 0,
             "ticks": ""
            },
            "colorscale": [
             [
              0,
              "#0d0887"
             ],
             [
              0.1111111111111111,
              "#46039f"
             ],
             [
              0.2222222222222222,
              "#7201a8"
             ],
             [
              0.3333333333333333,
              "#9c179e"
             ],
             [
              0.4444444444444444,
              "#bd3786"
             ],
             [
              0.5555555555555556,
              "#d8576b"
             ],
             [
              0.6666666666666666,
              "#ed7953"
             ],
             [
              0.7777777777777778,
              "#fb9f3a"
             ],
             [
              0.8888888888888888,
              "#fdca26"
             ],
             [
              1,
              "#f0f921"
             ]
            ],
            "type": "heatmap"
           }
          ],
          "heatmapgl": [
           {
            "colorbar": {
             "outlinewidth": 0,
             "ticks": ""
            },
            "colorscale": [
             [
              0,
              "#0d0887"
             ],
             [
              0.1111111111111111,
              "#46039f"
             ],
             [
              0.2222222222222222,
              "#7201a8"
             ],
             [
              0.3333333333333333,
              "#9c179e"
             ],
             [
              0.4444444444444444,
              "#bd3786"
             ],
             [
              0.5555555555555556,
              "#d8576b"
             ],
             [
              0.6666666666666666,
              "#ed7953"
             ],
             [
              0.7777777777777778,
              "#fb9f3a"
             ],
             [
              0.8888888888888888,
              "#fdca26"
             ],
             [
              1,
              "#f0f921"
             ]
            ],
            "type": "heatmapgl"
           }
          ],
          "histogram": [
           {
            "marker": {
             "colorbar": {
              "outlinewidth": 0,
              "ticks": ""
             }
            },
            "type": "histogram"
           }
          ],
          "histogram2d": [
           {
            "colorbar": {
             "outlinewidth": 0,
             "ticks": ""
            },
            "colorscale": [
             [
              0,
              "#0d0887"
             ],
             [
              0.1111111111111111,
              "#46039f"
             ],
             [
              0.2222222222222222,
              "#7201a8"
             ],
             [
              0.3333333333333333,
              "#9c179e"
             ],
             [
              0.4444444444444444,
              "#bd3786"
             ],
             [
              0.5555555555555556,
              "#d8576b"
             ],
             [
              0.6666666666666666,
              "#ed7953"
             ],
             [
              0.7777777777777778,
              "#fb9f3a"
             ],
             [
              0.8888888888888888,
              "#fdca26"
             ],
             [
              1,
              "#f0f921"
             ]
            ],
            "type": "histogram2d"
           }
          ],
          "histogram2dcontour": [
           {
            "colorbar": {
             "outlinewidth": 0,
             "ticks": ""
            },
            "colorscale": [
             [
              0,
              "#0d0887"
             ],
             [
              0.1111111111111111,
              "#46039f"
             ],
             [
              0.2222222222222222,
              "#7201a8"
             ],
             [
              0.3333333333333333,
              "#9c179e"
             ],
             [
              0.4444444444444444,
              "#bd3786"
             ],
             [
              0.5555555555555556,
              "#d8576b"
             ],
             [
              0.6666666666666666,
              "#ed7953"
             ],
             [
              0.7777777777777778,
              "#fb9f3a"
             ],
             [
              0.8888888888888888,
              "#fdca26"
             ],
             [
              1,
              "#f0f921"
             ]
            ],
            "type": "histogram2dcontour"
           }
          ],
          "mesh3d": [
           {
            "colorbar": {
             "outlinewidth": 0,
             "ticks": ""
            },
            "type": "mesh3d"
           }
          ],
          "parcoords": [
           {
            "line": {
             "colorbar": {
              "outlinewidth": 0,
              "ticks": ""
             }
            },
            "type": "parcoords"
           }
          ],
          "pie": [
           {
            "automargin": true,
            "type": "pie"
           }
          ],
          "scatter": [
           {
            "marker": {
             "colorbar": {
              "outlinewidth": 0,
              "ticks": ""
             }
            },
            "type": "scatter"
           }
          ],
          "scatter3d": [
           {
            "line": {
             "colorbar": {
              "outlinewidth": 0,
              "ticks": ""
             }
            },
            "marker": {
             "colorbar": {
              "outlinewidth": 0,
              "ticks": ""
             }
            },
            "type": "scatter3d"
           }
          ],
          "scattercarpet": [
           {
            "marker": {
             "colorbar": {
              "outlinewidth": 0,
              "ticks": ""
             }
            },
            "type": "scattercarpet"
           }
          ],
          "scattergeo": [
           {
            "marker": {
             "colorbar": {
              "outlinewidth": 0,
              "ticks": ""
             }
            },
            "type": "scattergeo"
           }
          ],
          "scattergl": [
           {
            "marker": {
             "colorbar": {
              "outlinewidth": 0,
              "ticks": ""
             }
            },
            "type": "scattergl"
           }
          ],
          "scattermapbox": [
           {
            "marker": {
             "colorbar": {
              "outlinewidth": 0,
              "ticks": ""
             }
            },
            "type": "scattermapbox"
           }
          ],
          "scatterpolar": [
           {
            "marker": {
             "colorbar": {
              "outlinewidth": 0,
              "ticks": ""
             }
            },
            "type": "scatterpolar"
           }
          ],
          "scatterpolargl": [
           {
            "marker": {
             "colorbar": {
              "outlinewidth": 0,
              "ticks": ""
             }
            },
            "type": "scatterpolargl"
           }
          ],
          "scatterternary": [
           {
            "marker": {
             "colorbar": {
              "outlinewidth": 0,
              "ticks": ""
             }
            },
            "type": "scatterternary"
           }
          ],
          "surface": [
           {
            "colorbar": {
             "outlinewidth": 0,
             "ticks": ""
            },
            "colorscale": [
             [
              0,
              "#0d0887"
             ],
             [
              0.1111111111111111,
              "#46039f"
             ],
             [
              0.2222222222222222,
              "#7201a8"
             ],
             [
              0.3333333333333333,
              "#9c179e"
             ],
             [
              0.4444444444444444,
              "#bd3786"
             ],
             [
              0.5555555555555556,
              "#d8576b"
             ],
             [
              0.6666666666666666,
              "#ed7953"
             ],
             [
              0.7777777777777778,
              "#fb9f3a"
             ],
             [
              0.8888888888888888,
              "#fdca26"
             ],
             [
              1,
              "#f0f921"
             ]
            ],
            "type": "surface"
           }
          ],
          "table": [
           {
            "cells": {
             "fill": {
              "color": "#EBF0F8"
             },
             "line": {
              "color": "white"
             }
            },
            "header": {
             "fill": {
              "color": "#C8D4E3"
             },
             "line": {
              "color": "white"
             }
            },
            "type": "table"
           }
          ]
         },
         "layout": {
          "annotationdefaults": {
           "arrowcolor": "#2a3f5f",
           "arrowhead": 0,
           "arrowwidth": 1
          },
          "autotypenumbers": "strict",
          "coloraxis": {
           "colorbar": {
            "outlinewidth": 0,
            "ticks": ""
           }
          },
          "colorscale": {
           "diverging": [
            [
             0,
             "#8e0152"
            ],
            [
             0.1,
             "#c51b7d"
            ],
            [
             0.2,
             "#de77ae"
            ],
            [
             0.3,
             "#f1b6da"
            ],
            [
             0.4,
             "#fde0ef"
            ],
            [
             0.5,
             "#f7f7f7"
            ],
            [
             0.6,
             "#e6f5d0"
            ],
            [
             0.7,
             "#b8e186"
            ],
            [
             0.8,
             "#7fbc41"
            ],
            [
             0.9,
             "#4d9221"
            ],
            [
             1,
             "#276419"
            ]
           ],
           "sequential": [
            [
             0,
             "#0d0887"
            ],
            [
             0.1111111111111111,
             "#46039f"
            ],
            [
             0.2222222222222222,
             "#7201a8"
            ],
            [
             0.3333333333333333,
             "#9c179e"
            ],
            [
             0.4444444444444444,
             "#bd3786"
            ],
            [
             0.5555555555555556,
             "#d8576b"
            ],
            [
             0.6666666666666666,
             "#ed7953"
            ],
            [
             0.7777777777777778,
             "#fb9f3a"
            ],
            [
             0.8888888888888888,
             "#fdca26"
            ],
            [
             1,
             "#f0f921"
            ]
           ],
           "sequentialminus": [
            [
             0,
             "#0d0887"
            ],
            [
             0.1111111111111111,
             "#46039f"
            ],
            [
             0.2222222222222222,
             "#7201a8"
            ],
            [
             0.3333333333333333,
             "#9c179e"
            ],
            [
             0.4444444444444444,
             "#bd3786"
            ],
            [
             0.5555555555555556,
             "#d8576b"
            ],
            [
             0.6666666666666666,
             "#ed7953"
            ],
            [
             0.7777777777777778,
             "#fb9f3a"
            ],
            [
             0.8888888888888888,
             "#fdca26"
            ],
            [
             1,
             "#f0f921"
            ]
           ]
          },
          "colorway": [
           "#636efa",
           "#EF553B",
           "#00cc96",
           "#ab63fa",
           "#FFA15A",
           "#19d3f3",
           "#FF6692",
           "#B6E880",
           "#FF97FF",
           "#FECB52"
          ],
          "font": {
           "color": "#2a3f5f"
          },
          "geo": {
           "bgcolor": "white",
           "lakecolor": "white",
           "landcolor": "#E5ECF6",
           "showlakes": true,
           "showland": true,
           "subunitcolor": "white"
          },
          "hoverlabel": {
           "align": "left"
          },
          "hovermode": "closest",
          "mapbox": {
           "style": "light"
          },
          "paper_bgcolor": "white",
          "plot_bgcolor": "#E5ECF6",
          "polar": {
           "angularaxis": {
            "gridcolor": "white",
            "linecolor": "white",
            "ticks": ""
           },
           "bgcolor": "#E5ECF6",
           "radialaxis": {
            "gridcolor": "white",
            "linecolor": "white",
            "ticks": ""
           }
          },
          "scene": {
           "xaxis": {
            "backgroundcolor": "#E5ECF6",
            "gridcolor": "white",
            "gridwidth": 2,
            "linecolor": "white",
            "showbackground": true,
            "ticks": "",
            "zerolinecolor": "white"
           },
           "yaxis": {
            "backgroundcolor": "#E5ECF6",
            "gridcolor": "white",
            "gridwidth": 2,
            "linecolor": "white",
            "showbackground": true,
            "ticks": "",
            "zerolinecolor": "white"
           },
           "zaxis": {
            "backgroundcolor": "#E5ECF6",
            "gridcolor": "white",
            "gridwidth": 2,
            "linecolor": "white",
            "showbackground": true,
            "ticks": "",
            "zerolinecolor": "white"
           }
          },
          "shapedefaults": {
           "line": {
            "color": "#2a3f5f"
           }
          },
          "ternary": {
           "aaxis": {
            "gridcolor": "white",
            "linecolor": "white",
            "ticks": ""
           },
           "baxis": {
            "gridcolor": "white",
            "linecolor": "white",
            "ticks": ""
           },
           "bgcolor": "#E5ECF6",
           "caxis": {
            "gridcolor": "white",
            "linecolor": "white",
            "ticks": ""
           }
          },
          "title": {
           "x": 0.05
          },
          "xaxis": {
           "automargin": true,
           "gridcolor": "white",
           "linecolor": "white",
           "ticks": "",
           "title": {
            "standoff": 15
           },
           "zerolinecolor": "white",
           "zerolinewidth": 2
          },
          "yaxis": {
           "automargin": true,
           "gridcolor": "white",
           "linecolor": "white",
           "ticks": "",
           "title": {
            "standoff": 15
           },
           "zerolinecolor": "white",
           "zerolinewidth": 2
          }
         }
        },
        "title": {
         "text": "Insurance Metal Plan Tier Count by State"
        },
        "xaxis": {
         "anchor": "y",
         "domain": [
          0,
          1
         ],
         "title": {
          "text": "State Code"
         }
        },
        "yaxis": {
         "anchor": "x",
         "domain": [
          0,
          1
         ],
         "title": {
          "text": "count"
         }
        }
       }
      }
     },
     "metadata": {}
    }
   ],
   "source": [
    "fig = px.bar(statemetal_df, x=\"State Code\", y=\"count\", color=\"Metal Level\", title=\"Insurance Metal Plan Tier Count by State\", color_discrete_map={\n",
    "        'Bronze': 'peru',\n",
    "        'Expanded Bronze': 'sandybrown',\n",
    "        'Silver': 'silver',\n",
    "        'Gold': 'gold',\n",
    "        'Catastrophic': 'red',\n",
    "        'Platinum': 'dodgerblue'\n",
    "    })\n",
    "fig"
   ]
  },
  {
   "cell_type": "code",
   "execution_count": 42,
   "metadata": {},
   "outputs": [
    {
     "output_type": "display_data",
     "data": {
      "application/vnd.plotly.v1+json": {
       "config": {
        "plotlyServerURL": "https://plot.ly"
       },
       "data": [
        {
         "coloraxis": "coloraxis",
         "geo": "geo",
         "hovertemplate": "locations=%{location}<br>color=%{z}<extra></extra>",
         "locationmode": "USA-states",
         "locations": [
          "CA",
          "TX",
          "NY"
         ],
         "name": "",
         "type": "choropleth",
         "z": [
          1,
          2,
          3
         ]
        }
       ],
       "layout": {
        "coloraxis": {
         "colorbar": {
          "title": {
           "text": "color"
          }
         },
         "colorscale": [
          [
           0,
           "#0d0887"
          ],
          [
           0.1111111111111111,
           "#46039f"
          ],
          [
           0.2222222222222222,
           "#7201a8"
          ],
          [
           0.3333333333333333,
           "#9c179e"
          ],
          [
           0.4444444444444444,
           "#bd3786"
          ],
          [
           0.5555555555555556,
           "#d8576b"
          ],
          [
           0.6666666666666666,
           "#ed7953"
          ],
          [
           0.7777777777777778,
           "#fb9f3a"
          ],
          [
           0.8888888888888888,
           "#fdca26"
          ],
          [
           1,
           "#f0f921"
          ]
         ]
        },
        "geo": {
         "center": {},
         "domain": {
          "x": [
           0,
           1
          ],
          "y": [
           0,
           1
          ]
         },
         "scope": "usa"
        },
        "legend": {
         "tracegroupgap": 0
        },
        "margin": {
         "t": 60
        },
        "template": {
         "data": {
          "bar": [
           {
            "error_x": {
             "color": "#2a3f5f"
            },
            "error_y": {
             "color": "#2a3f5f"
            },
            "marker": {
             "line": {
              "color": "#E5ECF6",
              "width": 0.5
             }
            },
            "type": "bar"
           }
          ],
          "barpolar": [
           {
            "marker": {
             "line": {
              "color": "#E5ECF6",
              "width": 0.5
             }
            },
            "type": "barpolar"
           }
          ],
          "carpet": [
           {
            "aaxis": {
             "endlinecolor": "#2a3f5f",
             "gridcolor": "white",
             "linecolor": "white",
             "minorgridcolor": "white",
             "startlinecolor": "#2a3f5f"
            },
            "baxis": {
             "endlinecolor": "#2a3f5f",
             "gridcolor": "white",
             "linecolor": "white",
             "minorgridcolor": "white",
             "startlinecolor": "#2a3f5f"
            },
            "type": "carpet"
           }
          ],
          "choropleth": [
           {
            "colorbar": {
             "outlinewidth": 0,
             "ticks": ""
            },
            "type": "choropleth"
           }
          ],
          "contour": [
           {
            "colorbar": {
             "outlinewidth": 0,
             "ticks": ""
            },
            "colorscale": [
             [
              0,
              "#0d0887"
             ],
             [
              0.1111111111111111,
              "#46039f"
             ],
             [
              0.2222222222222222,
              "#7201a8"
             ],
             [
              0.3333333333333333,
              "#9c179e"
             ],
             [
              0.4444444444444444,
              "#bd3786"
             ],
             [
              0.5555555555555556,
              "#d8576b"
             ],
             [
              0.6666666666666666,
              "#ed7953"
             ],
             [
              0.7777777777777778,
              "#fb9f3a"
             ],
             [
              0.8888888888888888,
              "#fdca26"
             ],
             [
              1,
              "#f0f921"
             ]
            ],
            "type": "contour"
           }
          ],
          "contourcarpet": [
           {
            "colorbar": {
             "outlinewidth": 0,
             "ticks": ""
            },
            "type": "contourcarpet"
           }
          ],
          "heatmap": [
           {
            "colorbar": {
             "outlinewidth": 0,
             "ticks": ""
            },
            "colorscale": [
             [
              0,
              "#0d0887"
             ],
             [
              0.1111111111111111,
              "#46039f"
             ],
             [
              0.2222222222222222,
              "#7201a8"
             ],
             [
              0.3333333333333333,
              "#9c179e"
             ],
             [
              0.4444444444444444,
              "#bd3786"
             ],
             [
              0.5555555555555556,
              "#d8576b"
             ],
             [
              0.6666666666666666,
              "#ed7953"
             ],
             [
              0.7777777777777778,
              "#fb9f3a"
             ],
             [
              0.8888888888888888,
              "#fdca26"
             ],
             [
              1,
              "#f0f921"
             ]
            ],
            "type": "heatmap"
           }
          ],
          "heatmapgl": [
           {
            "colorbar": {
             "outlinewidth": 0,
             "ticks": ""
            },
            "colorscale": [
             [
              0,
              "#0d0887"
             ],
             [
              0.1111111111111111,
              "#46039f"
             ],
             [
              0.2222222222222222,
              "#7201a8"
             ],
             [
              0.3333333333333333,
              "#9c179e"
             ],
             [
              0.4444444444444444,
              "#bd3786"
             ],
             [
              0.5555555555555556,
              "#d8576b"
             ],
             [
              0.6666666666666666,
              "#ed7953"
             ],
             [
              0.7777777777777778,
              "#fb9f3a"
             ],
             [
              0.8888888888888888,
              "#fdca26"
             ],
             [
              1,
              "#f0f921"
             ]
            ],
            "type": "heatmapgl"
           }
          ],
          "histogram": [
           {
            "marker": {
             "colorbar": {
              "outlinewidth": 0,
              "ticks": ""
             }
            },
            "type": "histogram"
           }
          ],
          "histogram2d": [
           {
            "colorbar": {
             "outlinewidth": 0,
             "ticks": ""
            },
            "colorscale": [
             [
              0,
              "#0d0887"
             ],
             [
              0.1111111111111111,
              "#46039f"
             ],
             [
              0.2222222222222222,
              "#7201a8"
             ],
             [
              0.3333333333333333,
              "#9c179e"
             ],
             [
              0.4444444444444444,
              "#bd3786"
             ],
             [
              0.5555555555555556,
              "#d8576b"
             ],
             [
              0.6666666666666666,
              "#ed7953"
             ],
             [
              0.7777777777777778,
              "#fb9f3a"
             ],
             [
              0.8888888888888888,
              "#fdca26"
             ],
             [
              1,
              "#f0f921"
             ]
            ],
            "type": "histogram2d"
           }
          ],
          "histogram2dcontour": [
           {
            "colorbar": {
             "outlinewidth": 0,
             "ticks": ""
            },
            "colorscale": [
             [
              0,
              "#0d0887"
             ],
             [
              0.1111111111111111,
              "#46039f"
             ],
             [
              0.2222222222222222,
              "#7201a8"
             ],
             [
              0.3333333333333333,
              "#9c179e"
             ],
             [
              0.4444444444444444,
              "#bd3786"
             ],
             [
              0.5555555555555556,
              "#d8576b"
             ],
             [
              0.6666666666666666,
              "#ed7953"
             ],
             [
              0.7777777777777778,
              "#fb9f3a"
             ],
             [
              0.8888888888888888,
              "#fdca26"
             ],
             [
              1,
              "#f0f921"
             ]
            ],
            "type": "histogram2dcontour"
           }
          ],
          "mesh3d": [
           {
            "colorbar": {
             "outlinewidth": 0,
             "ticks": ""
            },
            "type": "mesh3d"
           }
          ],
          "parcoords": [
           {
            "line": {
             "colorbar": {
              "outlinewidth": 0,
              "ticks": ""
             }
            },
            "type": "parcoords"
           }
          ],
          "pie": [
           {
            "automargin": true,
            "type": "pie"
           }
          ],
          "scatter": [
           {
            "marker": {
             "colorbar": {
              "outlinewidth": 0,
              "ticks": ""
             }
            },
            "type": "scatter"
           }
          ],
          "scatter3d": [
           {
            "line": {
             "colorbar": {
              "outlinewidth": 0,
              "ticks": ""
             }
            },
            "marker": {
             "colorbar": {
              "outlinewidth": 0,
              "ticks": ""
             }
            },
            "type": "scatter3d"
           }
          ],
          "scattercarpet": [
           {
            "marker": {
             "colorbar": {
              "outlinewidth": 0,
              "ticks": ""
             }
            },
            "type": "scattercarpet"
           }
          ],
          "scattergeo": [
           {
            "marker": {
             "colorbar": {
              "outlinewidth": 0,
              "ticks": ""
             }
            },
            "type": "scattergeo"
           }
          ],
          "scattergl": [
           {
            "marker": {
             "colorbar": {
              "outlinewidth": 0,
              "ticks": ""
             }
            },
            "type": "scattergl"
           }
          ],
          "scattermapbox": [
           {
            "marker": {
             "colorbar": {
              "outlinewidth": 0,
              "ticks": ""
             }
            },
            "type": "scattermapbox"
           }
          ],
          "scatterpolar": [
           {
            "marker": {
             "colorbar": {
              "outlinewidth": 0,
              "ticks": ""
             }
            },
            "type": "scatterpolar"
           }
          ],
          "scatterpolargl": [
           {
            "marker": {
             "colorbar": {
              "outlinewidth": 0,
              "ticks": ""
             }
            },
            "type": "scatterpolargl"
           }
          ],
          "scatterternary": [
           {
            "marker": {
             "colorbar": {
              "outlinewidth": 0,
              "ticks": ""
             }
            },
            "type": "scatterternary"
           }
          ],
          "surface": [
           {
            "colorbar": {
             "outlinewidth": 0,
             "ticks": ""
            },
            "colorscale": [
             [
              0,
              "#0d0887"
             ],
             [
              0.1111111111111111,
              "#46039f"
             ],
             [
              0.2222222222222222,
              "#7201a8"
             ],
             [
              0.3333333333333333,
              "#9c179e"
             ],
             [
              0.4444444444444444,
              "#bd3786"
             ],
             [
              0.5555555555555556,
              "#d8576b"
             ],
             [
              0.6666666666666666,
              "#ed7953"
             ],
             [
              0.7777777777777778,
              "#fb9f3a"
             ],
             [
              0.8888888888888888,
              "#fdca26"
             ],
             [
              1,
              "#f0f921"
             ]
            ],
            "type": "surface"
           }
          ],
          "table": [
           {
            "cells": {
             "fill": {
              "color": "#EBF0F8"
             },
             "line": {
              "color": "white"
             }
            },
            "header": {
             "fill": {
              "color": "#C8D4E3"
             },
             "line": {
              "color": "white"
             }
            },
            "type": "table"
           }
          ]
         },
         "layout": {
          "annotationdefaults": {
           "arrowcolor": "#2a3f5f",
           "arrowhead": 0,
           "arrowwidth": 1
          },
          "autotypenumbers": "strict",
          "coloraxis": {
           "colorbar": {
            "outlinewidth": 0,
            "ticks": ""
           }
          },
          "colorscale": {
           "diverging": [
            [
             0,
             "#8e0152"
            ],
            [
             0.1,
             "#c51b7d"
            ],
            [
             0.2,
             "#de77ae"
            ],
            [
             0.3,
             "#f1b6da"
            ],
            [
             0.4,
             "#fde0ef"
            ],
            [
             0.5,
             "#f7f7f7"
            ],
            [
             0.6,
             "#e6f5d0"
            ],
            [
             0.7,
             "#b8e186"
            ],
            [
             0.8,
             "#7fbc41"
            ],
            [
             0.9,
             "#4d9221"
            ],
            [
             1,
             "#276419"
            ]
           ],
           "sequential": [
            [
             0,
             "#0d0887"
            ],
            [
             0.1111111111111111,
             "#46039f"
            ],
            [
             0.2222222222222222,
             "#7201a8"
            ],
            [
             0.3333333333333333,
             "#9c179e"
            ],
            [
             0.4444444444444444,
             "#bd3786"
            ],
            [
             0.5555555555555556,
             "#d8576b"
            ],
            [
             0.6666666666666666,
             "#ed7953"
            ],
            [
             0.7777777777777778,
             "#fb9f3a"
            ],
            [
             0.8888888888888888,
             "#fdca26"
            ],
            [
             1,
             "#f0f921"
            ]
           ],
           "sequentialminus": [
            [
             0,
             "#0d0887"
            ],
            [
             0.1111111111111111,
             "#46039f"
            ],
            [
             0.2222222222222222,
             "#7201a8"
            ],
            [
             0.3333333333333333,
             "#9c179e"
            ],
            [
             0.4444444444444444,
             "#bd3786"
            ],
            [
             0.5555555555555556,
             "#d8576b"
            ],
            [
             0.6666666666666666,
             "#ed7953"
            ],
            [
             0.7777777777777778,
             "#fb9f3a"
            ],
            [
             0.8888888888888888,
             "#fdca26"
            ],
            [
             1,
             "#f0f921"
            ]
           ]
          },
          "colorway": [
           "#636efa",
           "#EF553B",
           "#00cc96",
           "#ab63fa",
           "#FFA15A",
           "#19d3f3",
           "#FF6692",
           "#B6E880",
           "#FF97FF",
           "#FECB52"
          ],
          "font": {
           "color": "#2a3f5f"
          },
          "geo": {
           "bgcolor": "white",
           "lakecolor": "white",
           "landcolor": "#E5ECF6",
           "showlakes": true,
           "showland": true,
           "subunitcolor": "white"
          },
          "hoverlabel": {
           "align": "left"
          },
          "hovermode": "closest",
          "mapbox": {
           "style": "light"
          },
          "paper_bgcolor": "white",
          "plot_bgcolor": "#E5ECF6",
          "polar": {
           "angularaxis": {
            "gridcolor": "white",
            "linecolor": "white",
            "ticks": ""
           },
           "bgcolor": "#E5ECF6",
           "radialaxis": {
            "gridcolor": "white",
            "linecolor": "white",
            "ticks": ""
           }
          },
          "scene": {
           "xaxis": {
            "backgroundcolor": "#E5ECF6",
            "gridcolor": "white",
            "gridwidth": 2,
            "linecolor": "white",
            "showbackground": true,
            "ticks": "",
            "zerolinecolor": "white"
           },
           "yaxis": {
            "backgroundcolor": "#E5ECF6",
            "gridcolor": "white",
            "gridwidth": 2,
            "linecolor": "white",
            "showbackground": true,
            "ticks": "",
            "zerolinecolor": "white"
           },
           "zaxis": {
            "backgroundcolor": "#E5ECF6",
            "gridcolor": "white",
            "gridwidth": 2,
            "linecolor": "white",
            "showbackground": true,
            "ticks": "",
            "zerolinecolor": "white"
           }
          },
          "shapedefaults": {
           "line": {
            "color": "#2a3f5f"
           }
          },
          "ternary": {
           "aaxis": {
            "gridcolor": "white",
            "linecolor": "white",
            "ticks": ""
           },
           "baxis": {
            "gridcolor": "white",
            "linecolor": "white",
            "ticks": ""
           },
           "bgcolor": "#E5ECF6",
           "caxis": {
            "gridcolor": "white",
            "linecolor": "white",
            "ticks": ""
           }
          },
          "title": {
           "x": 0.05
          },
          "xaxis": {
           "automargin": true,
           "gridcolor": "white",
           "linecolor": "white",
           "ticks": "",
           "title": {
            "standoff": 15
           },
           "zerolinecolor": "white",
           "zerolinewidth": 2
          },
          "yaxis": {
           "automargin": true,
           "gridcolor": "white",
           "linecolor": "white",
           "ticks": "",
           "title": {
            "standoff": 15
           },
           "zerolinecolor": "white",
           "zerolinewidth": 2
          }
         }
        }
       }
      }
     },
     "metadata": {}
    }
   ],
   "source": []
  },
  {
   "cell_type": "code",
   "execution_count": 27,
   "metadata": {},
   "outputs": [
    {
     "output_type": "execute_result",
     "data": {
      "text/plain": [
       "   State Code                                Issuer Name  record_count\n",
       "62         MO  Blue Cross and Blue Shield of Kansas City            61\n",
       "63         MO    Cigna Health and Life Insurance Company           120\n",
       "64         MO      Healthy Alliance Life Co(Anthem BCBS)          1360\n",
       "65         MO                   Humana Insurance Company            16"
      ],
      "text/html": "<div>\n<style scoped>\n    .dataframe tbody tr th:only-of-type {\n        vertical-align: middle;\n    }\n\n    .dataframe tbody tr th {\n        vertical-align: top;\n    }\n\n    .dataframe thead th {\n        text-align: right;\n    }\n</style>\n<table border=\"1\" class=\"dataframe\">\n  <thead>\n    <tr style=\"text-align: right;\">\n      <th></th>\n      <th>State Code</th>\n      <th>Issuer Name</th>\n      <th>record_count</th>\n    </tr>\n  </thead>\n  <tbody>\n    <tr>\n      <th>62</th>\n      <td>MO</td>\n      <td>Blue Cross and Blue Shield of Kansas City</td>\n      <td>61</td>\n    </tr>\n    <tr>\n      <th>63</th>\n      <td>MO</td>\n      <td>Cigna Health and Life Insurance Company</td>\n      <td>120</td>\n    </tr>\n    <tr>\n      <th>64</th>\n      <td>MO</td>\n      <td>Healthy Alliance Life Co(Anthem BCBS)</td>\n      <td>1360</td>\n    </tr>\n    <tr>\n      <th>65</th>\n      <td>MO</td>\n      <td>Humana Insurance Company</td>\n      <td>16</td>\n    </tr>\n  </tbody>\n</table>\n</div>"
     },
     "metadata": {},
     "execution_count": 27
    }
   ],
   "source": [
    "MO_df = temp[temp['State Code'] == 'MO']\n",
    "MO_df"
   ]
  },
  {
   "cell_type": "code",
   "execution_count": 32,
   "metadata": {},
   "outputs": [
    {
     "output_type": "display_data",
     "data": {
      "application/vnd.plotly.v1+json": {
       "config": {
        "plotlyServerURL": "https://plot.ly"
       },
       "data": [
        {
         "domain": {
          "x": [
           0,
           1
          ],
          "y": [
           0,
           1
          ]
         },
         "hovertemplate": "Issuer Name=%{label}<br>record_count=%{value}<extra></extra>",
         "labels": [
          "Blue Cross and Blue Shield of Kansas City",
          "Cigna Health and Life Insurance Company",
          "Healthy Alliance Life Co(Anthem BCBS)",
          "Humana Insurance Company"
         ],
         "legendgroup": "",
         "name": "",
         "showlegend": true,
         "type": "pie",
         "values": [
          61,
          120,
          1360,
          16
         ]
        }
       ],
       "layout": {
        "legend": {
         "tracegroupgap": 0
        },
        "template": {
         "data": {
          "bar": [
           {
            "error_x": {
             "color": "#2a3f5f"
            },
            "error_y": {
             "color": "#2a3f5f"
            },
            "marker": {
             "line": {
              "color": "#E5ECF6",
              "width": 0.5
             }
            },
            "type": "bar"
           }
          ],
          "barpolar": [
           {
            "marker": {
             "line": {
              "color": "#E5ECF6",
              "width": 0.5
             }
            },
            "type": "barpolar"
           }
          ],
          "carpet": [
           {
            "aaxis": {
             "endlinecolor": "#2a3f5f",
             "gridcolor": "white",
             "linecolor": "white",
             "minorgridcolor": "white",
             "startlinecolor": "#2a3f5f"
            },
            "baxis": {
             "endlinecolor": "#2a3f5f",
             "gridcolor": "white",
             "linecolor": "white",
             "minorgridcolor": "white",
             "startlinecolor": "#2a3f5f"
            },
            "type": "carpet"
           }
          ],
          "choropleth": [
           {
            "colorbar": {
             "outlinewidth": 0,
             "ticks": ""
            },
            "type": "choropleth"
           }
          ],
          "contour": [
           {
            "colorbar": {
             "outlinewidth": 0,
             "ticks": ""
            },
            "colorscale": [
             [
              0,
              "#0d0887"
             ],
             [
              0.1111111111111111,
              "#46039f"
             ],
             [
              0.2222222222222222,
              "#7201a8"
             ],
             [
              0.3333333333333333,
              "#9c179e"
             ],
             [
              0.4444444444444444,
              "#bd3786"
             ],
             [
              0.5555555555555556,
              "#d8576b"
             ],
             [
              0.6666666666666666,
              "#ed7953"
             ],
             [
              0.7777777777777778,
              "#fb9f3a"
             ],
             [
              0.8888888888888888,
              "#fdca26"
             ],
             [
              1,
              "#f0f921"
             ]
            ],
            "type": "contour"
           }
          ],
          "contourcarpet": [
           {
            "colorbar": {
             "outlinewidth": 0,
             "ticks": ""
            },
            "type": "contourcarpet"
           }
          ],
          "heatmap": [
           {
            "colorbar": {
             "outlinewidth": 0,
             "ticks": ""
            },
            "colorscale": [
             [
              0,
              "#0d0887"
             ],
             [
              0.1111111111111111,
              "#46039f"
             ],
             [
              0.2222222222222222,
              "#7201a8"
             ],
             [
              0.3333333333333333,
              "#9c179e"
             ],
             [
              0.4444444444444444,
              "#bd3786"
             ],
             [
              0.5555555555555556,
              "#d8576b"
             ],
             [
              0.6666666666666666,
              "#ed7953"
             ],
             [
              0.7777777777777778,
              "#fb9f3a"
             ],
             [
              0.8888888888888888,
              "#fdca26"
             ],
             [
              1,
              "#f0f921"
             ]
            ],
            "type": "heatmap"
           }
          ],
          "heatmapgl": [
           {
            "colorbar": {
             "outlinewidth": 0,
             "ticks": ""
            },
            "colorscale": [
             [
              0,
              "#0d0887"
             ],
             [
              0.1111111111111111,
              "#46039f"
             ],
             [
              0.2222222222222222,
              "#7201a8"
             ],
             [
              0.3333333333333333,
              "#9c179e"
             ],
             [
              0.4444444444444444,
              "#bd3786"
             ],
             [
              0.5555555555555556,
              "#d8576b"
             ],
             [
              0.6666666666666666,
              "#ed7953"
             ],
             [
              0.7777777777777778,
              "#fb9f3a"
             ],
             [
              0.8888888888888888,
              "#fdca26"
             ],
             [
              1,
              "#f0f921"
             ]
            ],
            "type": "heatmapgl"
           }
          ],
          "histogram": [
           {
            "marker": {
             "colorbar": {
              "outlinewidth": 0,
              "ticks": ""
             }
            },
            "type": "histogram"
           }
          ],
          "histogram2d": [
           {
            "colorbar": {
             "outlinewidth": 0,
             "ticks": ""
            },
            "colorscale": [
             [
              0,
              "#0d0887"
             ],
             [
              0.1111111111111111,
              "#46039f"
             ],
             [
              0.2222222222222222,
              "#7201a8"
             ],
             [
              0.3333333333333333,
              "#9c179e"
             ],
             [
              0.4444444444444444,
              "#bd3786"
             ],
             [
              0.5555555555555556,
              "#d8576b"
             ],
             [
              0.6666666666666666,
              "#ed7953"
             ],
             [
              0.7777777777777778,
              "#fb9f3a"
             ],
             [
              0.8888888888888888,
              "#fdca26"
             ],
             [
              1,
              "#f0f921"
             ]
            ],
            "type": "histogram2d"
           }
          ],
          "histogram2dcontour": [
           {
            "colorbar": {
             "outlinewidth": 0,
             "ticks": ""
            },
            "colorscale": [
             [
              0,
              "#0d0887"
             ],
             [
              0.1111111111111111,
              "#46039f"
             ],
             [
              0.2222222222222222,
              "#7201a8"
             ],
             [
              0.3333333333333333,
              "#9c179e"
             ],
             [
              0.4444444444444444,
              "#bd3786"
             ],
             [
              0.5555555555555556,
              "#d8576b"
             ],
             [
              0.6666666666666666,
              "#ed7953"
             ],
             [
              0.7777777777777778,
              "#fb9f3a"
             ],
             [
              0.8888888888888888,
              "#fdca26"
             ],
             [
              1,
              "#f0f921"
             ]
            ],
            "type": "histogram2dcontour"
           }
          ],
          "mesh3d": [
           {
            "colorbar": {
             "outlinewidth": 0,
             "ticks": ""
            },
            "type": "mesh3d"
           }
          ],
          "parcoords": [
           {
            "line": {
             "colorbar": {
              "outlinewidth": 0,
              "ticks": ""
             }
            },
            "type": "parcoords"
           }
          ],
          "pie": [
           {
            "automargin": true,
            "type": "pie"
           }
          ],
          "scatter": [
           {
            "marker": {
             "colorbar": {
              "outlinewidth": 0,
              "ticks": ""
             }
            },
            "type": "scatter"
           }
          ],
          "scatter3d": [
           {
            "line": {
             "colorbar": {
              "outlinewidth": 0,
              "ticks": ""
             }
            },
            "marker": {
             "colorbar": {
              "outlinewidth": 0,
              "ticks": ""
             }
            },
            "type": "scatter3d"
           }
          ],
          "scattercarpet": [
           {
            "marker": {
             "colorbar": {
              "outlinewidth": 0,
              "ticks": ""
             }
            },
            "type": "scattercarpet"
           }
          ],
          "scattergeo": [
           {
            "marker": {
             "colorbar": {
              "outlinewidth": 0,
              "ticks": ""
             }
            },
            "type": "scattergeo"
           }
          ],
          "scattergl": [
           {
            "marker": {
             "colorbar": {
              "outlinewidth": 0,
              "ticks": ""
             }
            },
            "type": "scattergl"
           }
          ],
          "scattermapbox": [
           {
            "marker": {
             "colorbar": {
              "outlinewidth": 0,
              "ticks": ""
             }
            },
            "type": "scattermapbox"
           }
          ],
          "scatterpolar": [
           {
            "marker": {
             "colorbar": {
              "outlinewidth": 0,
              "ticks": ""
             }
            },
            "type": "scatterpolar"
           }
          ],
          "scatterpolargl": [
           {
            "marker": {
             "colorbar": {
              "outlinewidth": 0,
              "ticks": ""
             }
            },
            "type": "scatterpolargl"
           }
          ],
          "scatterternary": [
           {
            "marker": {
             "colorbar": {
              "outlinewidth": 0,
              "ticks": ""
             }
            },
            "type": "scatterternary"
           }
          ],
          "surface": [
           {
            "colorbar": {
             "outlinewidth": 0,
             "ticks": ""
            },
            "colorscale": [
             [
              0,
              "#0d0887"
             ],
             [
              0.1111111111111111,
              "#46039f"
             ],
             [
              0.2222222222222222,
              "#7201a8"
             ],
             [
              0.3333333333333333,
              "#9c179e"
             ],
             [
              0.4444444444444444,
              "#bd3786"
             ],
             [
              0.5555555555555556,
              "#d8576b"
             ],
             [
              0.6666666666666666,
              "#ed7953"
             ],
             [
              0.7777777777777778,
              "#fb9f3a"
             ],
             [
              0.8888888888888888,
              "#fdca26"
             ],
             [
              1,
              "#f0f921"
             ]
            ],
            "type": "surface"
           }
          ],
          "table": [
           {
            "cells": {
             "fill": {
              "color": "#EBF0F8"
             },
             "line": {
              "color": "white"
             }
            },
            "header": {
             "fill": {
              "color": "#C8D4E3"
             },
             "line": {
              "color": "white"
             }
            },
            "type": "table"
           }
          ]
         },
         "layout": {
          "annotationdefaults": {
           "arrowcolor": "#2a3f5f",
           "arrowhead": 0,
           "arrowwidth": 1
          },
          "autotypenumbers": "strict",
          "coloraxis": {
           "colorbar": {
            "outlinewidth": 0,
            "ticks": ""
           }
          },
          "colorscale": {
           "diverging": [
            [
             0,
             "#8e0152"
            ],
            [
             0.1,
             "#c51b7d"
            ],
            [
             0.2,
             "#de77ae"
            ],
            [
             0.3,
             "#f1b6da"
            ],
            [
             0.4,
             "#fde0ef"
            ],
            [
             0.5,
             "#f7f7f7"
            ],
            [
             0.6,
             "#e6f5d0"
            ],
            [
             0.7,
             "#b8e186"
            ],
            [
             0.8,
             "#7fbc41"
            ],
            [
             0.9,
             "#4d9221"
            ],
            [
             1,
             "#276419"
            ]
           ],
           "sequential": [
            [
             0,
             "#0d0887"
            ],
            [
             0.1111111111111111,
             "#46039f"
            ],
            [
             0.2222222222222222,
             "#7201a8"
            ],
            [
             0.3333333333333333,
             "#9c179e"
            ],
            [
             0.4444444444444444,
             "#bd3786"
            ],
            [
             0.5555555555555556,
             "#d8576b"
            ],
            [
             0.6666666666666666,
             "#ed7953"
            ],
            [
             0.7777777777777778,
             "#fb9f3a"
            ],
            [
             0.8888888888888888,
             "#fdca26"
            ],
            [
             1,
             "#f0f921"
            ]
           ],
           "sequentialminus": [
            [
             0,
             "#0d0887"
            ],
            [
             0.1111111111111111,
             "#46039f"
            ],
            [
             0.2222222222222222,
             "#7201a8"
            ],
            [
             0.3333333333333333,
             "#9c179e"
            ],
            [
             0.4444444444444444,
             "#bd3786"
            ],
            [
             0.5555555555555556,
             "#d8576b"
            ],
            [
             0.6666666666666666,
             "#ed7953"
            ],
            [
             0.7777777777777778,
             "#fb9f3a"
            ],
            [
             0.8888888888888888,
             "#fdca26"
            ],
            [
             1,
             "#f0f921"
            ]
           ]
          },
          "colorway": [
           "#636efa",
           "#EF553B",
           "#00cc96",
           "#ab63fa",
           "#FFA15A",
           "#19d3f3",
           "#FF6692",
           "#B6E880",
           "#FF97FF",
           "#FECB52"
          ],
          "font": {
           "color": "#2a3f5f"
          },
          "geo": {
           "bgcolor": "white",
           "lakecolor": "white",
           "landcolor": "#E5ECF6",
           "showlakes": true,
           "showland": true,
           "subunitcolor": "white"
          },
          "hoverlabel": {
           "align": "left"
          },
          "hovermode": "closest",
          "mapbox": {
           "style": "light"
          },
          "paper_bgcolor": "white",
          "plot_bgcolor": "#E5ECF6",
          "polar": {
           "angularaxis": {
            "gridcolor": "white",
            "linecolor": "white",
            "ticks": ""
           },
           "bgcolor": "#E5ECF6",
           "radialaxis": {
            "gridcolor": "white",
            "linecolor": "white",
            "ticks": ""
           }
          },
          "scene": {
           "xaxis": {
            "backgroundcolor": "#E5ECF6",
            "gridcolor": "white",
            "gridwidth": 2,
            "linecolor": "white",
            "showbackground": true,
            "ticks": "",
            "zerolinecolor": "white"
           },
           "yaxis": {
            "backgroundcolor": "#E5ECF6",
            "gridcolor": "white",
            "gridwidth": 2,
            "linecolor": "white",
            "showbackground": true,
            "ticks": "",
            "zerolinecolor": "white"
           },
           "zaxis": {
            "backgroundcolor": "#E5ECF6",
            "gridcolor": "white",
            "gridwidth": 2,
            "linecolor": "white",
            "showbackground": true,
            "ticks": "",
            "zerolinecolor": "white"
           }
          },
          "shapedefaults": {
           "line": {
            "color": "#2a3f5f"
           }
          },
          "ternary": {
           "aaxis": {
            "gridcolor": "white",
            "linecolor": "white",
            "ticks": ""
           },
           "baxis": {
            "gridcolor": "white",
            "linecolor": "white",
            "ticks": ""
           },
           "bgcolor": "#E5ECF6",
           "caxis": {
            "gridcolor": "white",
            "linecolor": "white",
            "ticks": ""
           }
          },
          "title": {
           "x": 0.05
          },
          "xaxis": {
           "automargin": true,
           "gridcolor": "white",
           "linecolor": "white",
           "ticks": "",
           "title": {
            "standoff": 15
           },
           "zerolinecolor": "white",
           "zerolinewidth": 2
          },
          "yaxis": {
           "automargin": true,
           "gridcolor": "white",
           "linecolor": "white",
           "ticks": "",
           "title": {
            "standoff": 15
           },
           "zerolinecolor": "white",
           "zerolinewidth": 2
          }
         }
        },
        "title": {
         "text": "Insurance Company Distribution in MO in 2021"
        }
       }
      }
     },
     "metadata": {}
    }
   ],
   "source": [
    "fig = px.pie(MO_df, values='record_count', names='Issuer Name', title='Insurance Company Distribution in MO in 2021')\n",
    "fig.show()"
   ]
  },
  {
   "cell_type": "code",
   "execution_count": 21,
   "metadata": {},
   "outputs": [
    {
     "output_type": "execute_result",
     "data": {
      "text/plain": [
       "                     country continent  year  lifeExp       pop     gdpPercap  \\\n",
       "23                   Albania    Europe  2007   76.423   3600523   5937.029526   \n",
       "83                   Austria    Europe  2007   79.829   8199783  36126.492700   \n",
       "119                  Belgium    Europe  2007   79.441  10392226  33692.605080   \n",
       "155   Bosnia and Herzegovina    Europe  2007   74.852   4552198   7446.298803   \n",
       "191                 Bulgaria    Europe  2007   73.005   7322858  10680.792820   \n",
       "383                  Croatia    Europe  2007   75.748   4493312  14619.222720   \n",
       "407           Czech Republic    Europe  2007   76.486  10228744  22833.308510   \n",
       "419                  Denmark    Europe  2007   78.332   5468120  35278.418740   \n",
       "527                  Finland    Europe  2007   79.313   5238460  33207.084400   \n",
       "539                   France    Europe  2007   80.657  61083916  30470.016700   \n",
       "575                  Germany    Europe  2007   79.406  82400996  32170.374420   \n",
       "599                   Greece    Europe  2007   79.483  10706290  27538.411880   \n",
       "683                  Hungary    Europe  2007   73.338   9956108  18008.944440   \n",
       "695          Other countries    Europe  2007   81.757    301931  36180.789190   \n",
       "755                  Ireland    Europe  2007   78.885   4109086  40675.996350   \n",
       "779                    Italy    Europe  2007   80.546  58147733  28569.719700   \n",
       "1019         Other countries    Europe  2007   74.543    684736   9253.896111   \n",
       "1091             Netherlands    Europe  2007   79.762  16570613  36797.933320   \n",
       "1151                  Norway    Europe  2007   80.196   4627926  49357.190170   \n",
       "1235                  Poland    Europe  2007   75.563  38518241  15389.924680   \n",
       "1247                Portugal    Europe  2007   78.098  10642836  20509.647770   \n",
       "1283                 Romania    Europe  2007   72.476  22276056  10808.475610   \n",
       "1343                  Serbia    Europe  2007   74.002  10150265   9786.534714   \n",
       "1379         Slovak Republic    Europe  2007   74.663   5447502  18678.314350   \n",
       "1391                Slovenia    Europe  2007   77.926   2009245  25768.257590   \n",
       "1427                   Spain    Europe  2007   80.941  40448191  28821.063700   \n",
       "1475                  Sweden    Europe  2007   80.884   9031088  33859.748350   \n",
       "1487             Switzerland    Europe  2007   81.701   7554661  37506.419070   \n",
       "1583                  Turkey    Europe  2007   71.777  71158647   8458.276384   \n",
       "1607          United Kingdom    Europe  2007   79.425  60776238  33203.261280   \n",
       "\n",
       "     iso_alpha  iso_num  \n",
       "23         ALB        8  \n",
       "83         AUT       40  \n",
       "119        BEL       56  \n",
       "155        BIH       70  \n",
       "191        BGR      100  \n",
       "383        HRV      191  \n",
       "407        CZE      203  \n",
       "419        DNK      208  \n",
       "527        FIN      246  \n",
       "539        FRA      250  \n",
       "575        DEU      276  \n",
       "599        GRC      300  \n",
       "683        HUN      348  \n",
       "695        ISL      352  \n",
       "755        IRL      372  \n",
       "779        ITA      380  \n",
       "1019       MNE      499  \n",
       "1091       NLD      528  \n",
       "1151       NOR      578  \n",
       "1235       POL      616  \n",
       "1247       PRT      620  \n",
       "1283       ROU      642  \n",
       "1343       SRB      688  \n",
       "1379       SVK      703  \n",
       "1391       SVN      705  \n",
       "1427       ESP      724  \n",
       "1475       SWE      752  \n",
       "1487       CHE      756  \n",
       "1583       TUR      792  \n",
       "1607       GBR      826  "
      ],
      "text/html": "<div>\n<style scoped>\n    .dataframe tbody tr th:only-of-type {\n        vertical-align: middle;\n    }\n\n    .dataframe tbody tr th {\n        vertical-align: top;\n    }\n\n    .dataframe thead th {\n        text-align: right;\n    }\n</style>\n<table border=\"1\" class=\"dataframe\">\n  <thead>\n    <tr style=\"text-align: right;\">\n      <th></th>\n      <th>country</th>\n      <th>continent</th>\n      <th>year</th>\n      <th>lifeExp</th>\n      <th>pop</th>\n      <th>gdpPercap</th>\n      <th>iso_alpha</th>\n      <th>iso_num</th>\n    </tr>\n  </thead>\n  <tbody>\n    <tr>\n      <th>23</th>\n      <td>Albania</td>\n      <td>Europe</td>\n      <td>2007</td>\n      <td>76.423</td>\n      <td>3600523</td>\n      <td>5937.029526</td>\n      <td>ALB</td>\n      <td>8</td>\n    </tr>\n    <tr>\n      <th>83</th>\n      <td>Austria</td>\n      <td>Europe</td>\n      <td>2007</td>\n      <td>79.829</td>\n      <td>8199783</td>\n      <td>36126.492700</td>\n      <td>AUT</td>\n      <td>40</td>\n    </tr>\n    <tr>\n      <th>119</th>\n      <td>Belgium</td>\n      <td>Europe</td>\n      <td>2007</td>\n      <td>79.441</td>\n      <td>10392226</td>\n      <td>33692.605080</td>\n      <td>BEL</td>\n      <td>56</td>\n    </tr>\n    <tr>\n      <th>155</th>\n      <td>Bosnia and Herzegovina</td>\n      <td>Europe</td>\n      <td>2007</td>\n      <td>74.852</td>\n      <td>4552198</td>\n      <td>7446.298803</td>\n      <td>BIH</td>\n      <td>70</td>\n    </tr>\n    <tr>\n      <th>191</th>\n      <td>Bulgaria</td>\n      <td>Europe</td>\n      <td>2007</td>\n      <td>73.005</td>\n      <td>7322858</td>\n      <td>10680.792820</td>\n      <td>BGR</td>\n      <td>100</td>\n    </tr>\n    <tr>\n      <th>383</th>\n      <td>Croatia</td>\n      <td>Europe</td>\n      <td>2007</td>\n      <td>75.748</td>\n      <td>4493312</td>\n      <td>14619.222720</td>\n      <td>HRV</td>\n      <td>191</td>\n    </tr>\n    <tr>\n      <th>407</th>\n      <td>Czech Republic</td>\n      <td>Europe</td>\n      <td>2007</td>\n      <td>76.486</td>\n      <td>10228744</td>\n      <td>22833.308510</td>\n      <td>CZE</td>\n      <td>203</td>\n    </tr>\n    <tr>\n      <th>419</th>\n      <td>Denmark</td>\n      <td>Europe</td>\n      <td>2007</td>\n      <td>78.332</td>\n      <td>5468120</td>\n      <td>35278.418740</td>\n      <td>DNK</td>\n      <td>208</td>\n    </tr>\n    <tr>\n      <th>527</th>\n      <td>Finland</td>\n      <td>Europe</td>\n      <td>2007</td>\n      <td>79.313</td>\n      <td>5238460</td>\n      <td>33207.084400</td>\n      <td>FIN</td>\n      <td>246</td>\n    </tr>\n    <tr>\n      <th>539</th>\n      <td>France</td>\n      <td>Europe</td>\n      <td>2007</td>\n      <td>80.657</td>\n      <td>61083916</td>\n      <td>30470.016700</td>\n      <td>FRA</td>\n      <td>250</td>\n    </tr>\n    <tr>\n      <th>575</th>\n      <td>Germany</td>\n      <td>Europe</td>\n      <td>2007</td>\n      <td>79.406</td>\n      <td>82400996</td>\n      <td>32170.374420</td>\n      <td>DEU</td>\n      <td>276</td>\n    </tr>\n    <tr>\n      <th>599</th>\n      <td>Greece</td>\n      <td>Europe</td>\n      <td>2007</td>\n      <td>79.483</td>\n      <td>10706290</td>\n      <td>27538.411880</td>\n      <td>GRC</td>\n      <td>300</td>\n    </tr>\n    <tr>\n      <th>683</th>\n      <td>Hungary</td>\n      <td>Europe</td>\n      <td>2007</td>\n      <td>73.338</td>\n      <td>9956108</td>\n      <td>18008.944440</td>\n      <td>HUN</td>\n      <td>348</td>\n    </tr>\n    <tr>\n      <th>695</th>\n      <td>Other countries</td>\n      <td>Europe</td>\n      <td>2007</td>\n      <td>81.757</td>\n      <td>301931</td>\n      <td>36180.789190</td>\n      <td>ISL</td>\n      <td>352</td>\n    </tr>\n    <tr>\n      <th>755</th>\n      <td>Ireland</td>\n      <td>Europe</td>\n      <td>2007</td>\n      <td>78.885</td>\n      <td>4109086</td>\n      <td>40675.996350</td>\n      <td>IRL</td>\n      <td>372</td>\n    </tr>\n    <tr>\n      <th>779</th>\n      <td>Italy</td>\n      <td>Europe</td>\n      <td>2007</td>\n      <td>80.546</td>\n      <td>58147733</td>\n      <td>28569.719700</td>\n      <td>ITA</td>\n      <td>380</td>\n    </tr>\n    <tr>\n      <th>1019</th>\n      <td>Other countries</td>\n      <td>Europe</td>\n      <td>2007</td>\n      <td>74.543</td>\n      <td>684736</td>\n      <td>9253.896111</td>\n      <td>MNE</td>\n      <td>499</td>\n    </tr>\n    <tr>\n      <th>1091</th>\n      <td>Netherlands</td>\n      <td>Europe</td>\n      <td>2007</td>\n      <td>79.762</td>\n      <td>16570613</td>\n      <td>36797.933320</td>\n      <td>NLD</td>\n      <td>528</td>\n    </tr>\n    <tr>\n      <th>1151</th>\n      <td>Norway</td>\n      <td>Europe</td>\n      <td>2007</td>\n      <td>80.196</td>\n      <td>4627926</td>\n      <td>49357.190170</td>\n      <td>NOR</td>\n      <td>578</td>\n    </tr>\n    <tr>\n      <th>1235</th>\n      <td>Poland</td>\n      <td>Europe</td>\n      <td>2007</td>\n      <td>75.563</td>\n      <td>38518241</td>\n      <td>15389.924680</td>\n      <td>POL</td>\n      <td>616</td>\n    </tr>\n    <tr>\n      <th>1247</th>\n      <td>Portugal</td>\n      <td>Europe</td>\n      <td>2007</td>\n      <td>78.098</td>\n      <td>10642836</td>\n      <td>20509.647770</td>\n      <td>PRT</td>\n      <td>620</td>\n    </tr>\n    <tr>\n      <th>1283</th>\n      <td>Romania</td>\n      <td>Europe</td>\n      <td>2007</td>\n      <td>72.476</td>\n      <td>22276056</td>\n      <td>10808.475610</td>\n      <td>ROU</td>\n      <td>642</td>\n    </tr>\n    <tr>\n      <th>1343</th>\n      <td>Serbia</td>\n      <td>Europe</td>\n      <td>2007</td>\n      <td>74.002</td>\n      <td>10150265</td>\n      <td>9786.534714</td>\n      <td>SRB</td>\n      <td>688</td>\n    </tr>\n    <tr>\n      <th>1379</th>\n      <td>Slovak Republic</td>\n      <td>Europe</td>\n      <td>2007</td>\n      <td>74.663</td>\n      <td>5447502</td>\n      <td>18678.314350</td>\n      <td>SVK</td>\n      <td>703</td>\n    </tr>\n    <tr>\n      <th>1391</th>\n      <td>Slovenia</td>\n      <td>Europe</td>\n      <td>2007</td>\n      <td>77.926</td>\n      <td>2009245</td>\n      <td>25768.257590</td>\n      <td>SVN</td>\n      <td>705</td>\n    </tr>\n    <tr>\n      <th>1427</th>\n      <td>Spain</td>\n      <td>Europe</td>\n      <td>2007</td>\n      <td>80.941</td>\n      <td>40448191</td>\n      <td>28821.063700</td>\n      <td>ESP</td>\n      <td>724</td>\n    </tr>\n    <tr>\n      <th>1475</th>\n      <td>Sweden</td>\n      <td>Europe</td>\n      <td>2007</td>\n      <td>80.884</td>\n      <td>9031088</td>\n      <td>33859.748350</td>\n      <td>SWE</td>\n      <td>752</td>\n    </tr>\n    <tr>\n      <th>1487</th>\n      <td>Switzerland</td>\n      <td>Europe</td>\n      <td>2007</td>\n      <td>81.701</td>\n      <td>7554661</td>\n      <td>37506.419070</td>\n      <td>CHE</td>\n      <td>756</td>\n    </tr>\n    <tr>\n      <th>1583</th>\n      <td>Turkey</td>\n      <td>Europe</td>\n      <td>2007</td>\n      <td>71.777</td>\n      <td>71158647</td>\n      <td>8458.276384</td>\n      <td>TUR</td>\n      <td>792</td>\n    </tr>\n    <tr>\n      <th>1607</th>\n      <td>United Kingdom</td>\n      <td>Europe</td>\n      <td>2007</td>\n      <td>79.425</td>\n      <td>60776238</td>\n      <td>33203.261280</td>\n      <td>GBR</td>\n      <td>826</td>\n    </tr>\n  </tbody>\n</table>\n</div>"
     },
     "metadata": {},
     "execution_count": 21
    }
   ],
   "source": [
    "df"
   ]
  },
  {
   "cell_type": "code",
   "execution_count": 93,
   "metadata": {},
   "outputs": [],
   "source": []
  },
  {
   "cell_type": "code",
   "execution_count": 94,
   "metadata": {},
   "outputs": [
    {
     "output_type": "display_data",
     "data": {
      "application/vnd.plotly.v1+json": {
       "config": {
        "plotlyServerURL": "https://plot.ly"
       },
       "data": [
        {
         "alignmentgroup": "True",
         "hovertemplate": "Metal Level=Catastrophic<br>State Code=%{x}<br>count=%{y}<extra></extra>",
         "legendgroup": "Catastrophic",
         "marker": {
          "color": "red"
         },
         "name": "Catastrophic",
         "offsetgroup": "Catastrophic",
         "orientation": "v",
         "showlegend": true,
         "textposition": "auto",
         "type": "bar",
         "x": [
          "MT",
          "GA",
          "SD",
          "SC",
          "HI",
          "MO",
          "IA",
          "OK",
          "IL",
          "TN",
          "OH",
          "KS",
          "NH",
          "KY",
          "NE",
          "ND",
          "NC",
          "ME",
          "MI",
          "NM",
          "FL",
          "OR",
          "TX",
          "AZ",
          "VA",
          "WI",
          "WV",
          "UT",
          "DE",
          "AL"
         ],
         "xaxis": "x",
         "y": [
          112,
          134,
          138,
          52,
          5,
          133,
          155,
          164,
          198,
          44,
          185,
          112,
          19,
          234,
          218,
          166,
          186,
          48,
          183,
          66,
          74,
          13,
          308,
          19,
          208,
          209,
          55,
          38,
          3,
          71
         ],
         "yaxis": "y"
        },
        {
         "alignmentgroup": "True",
         "hovertemplate": "Metal Level=Bronze<br>State Code=%{x}<br>count=%{y}<extra></extra>",
         "legendgroup": "Bronze",
         "marker": {
          "color": "peru"
         },
         "name": "Bronze",
         "offsetgroup": "Bronze",
         "orientation": "v",
         "showlegend": true,
         "textposition": "auto",
         "type": "bar",
         "x": [
          "ND",
          "WY",
          "LA",
          "FL",
          "NC",
          "NH",
          "AR",
          "MT",
          "KS",
          "NM",
          "MI",
          "MS",
          "WI",
          "OH",
          "IN",
          "MO",
          "IL",
          "AZ",
          "TX",
          "OK",
          "GA",
          "HI",
          "VA",
          "UT",
          "SC",
          "TN"
         ],
         "xaxis": "x",
         "y": [
          55,
          69,
          128,
          320,
          281,
          20,
          150,
          56,
          300,
          165,
          235,
          246,
          292,
          330,
          187,
          249,
          30,
          20,
          999,
          222,
          404,
          5,
          195,
          85,
          205,
          392
         ],
         "yaxis": "y"
        },
        {
         "alignmentgroup": "True",
         "hovertemplate": "Metal Level=Expanded Bronze<br>State Code=%{x}<br>count=%{y}<extra></extra>",
         "legendgroup": "Expanded Bronze",
         "marker": {
          "color": "#19d3f3"
         },
         "name": "Expanded Bronze",
         "offsetgroup": "Expanded Bronze",
         "orientation": "v",
         "showlegend": true,
         "textposition": "auto",
         "type": "bar",
         "x": [
          "TN",
          "TX",
          "WY",
          "MS",
          "MO",
          "MT",
          "NC",
          "VA",
          "SC",
          "ND",
          "WI",
          "NE",
          "UT",
          "OR",
          "NH",
          "OK",
          "OH",
          "NM",
          "SD",
          "WV",
          "AK",
          "LA",
          "IN",
          "IA",
          "KS",
          "HI",
          "KY",
          "GA",
          "FL",
          "ME",
          "DE",
          "IL",
          "AL",
          "AZ",
          "AR",
          "MI"
         ],
         "xaxis": "x",
         "y": [
          811,
          1958,
          69,
          492,
          1038,
          455,
          876,
          669,
          458,
          445,
          835,
          968,
          508,
          466,
          87,
          346,
          1381,
          330,
          342,
          330,
          70,
          360,
          463,
          917,
          732,
          25,
          574,
          1176,
          1365,
          208,
          9,
          650,
          146,
          101,
          375,
          794
         ],
         "yaxis": "y"
        },
        {
         "alignmentgroup": "True",
         "hovertemplate": "Metal Level=Silver<br>State Code=%{x}<br>count=%{y}<extra></extra>",
         "legendgroup": "Silver",
         "marker": {
          "color": "silver"
         },
         "name": "Silver",
         "offsetgroup": "Silver",
         "orientation": "v",
         "showlegend": true,
         "textposition": "auto",
         "type": "bar",
         "x": [
          "TX",
          "OH",
          "AL",
          "WI",
          "OK",
          "MI",
          "OR",
          "GA",
          "SC",
          "VA",
          "AR",
          "SD",
          "FL",
          "AK",
          "IA",
          "TN",
          "DE",
          "WV",
          "UT",
          "AZ",
          "WY",
          "HI",
          "NM",
          "MT",
          "KY",
          "ND",
          "KS",
          "ME",
          "NC",
          "MS",
          "IN",
          "NE",
          "LA",
          "NH",
          "MO",
          "IL"
         ],
         "xaxis": "x",
         "y": [
          3823,
          2334,
          146,
          1136,
          283,
          1254,
          358,
          2049,
          954,
          747,
          1650,
          411,
          2293,
          64,
          445,
          1878,
          9,
          495,
          322,
          191,
          115,
          30,
          396,
          399,
          960,
          335,
          1424,
          222,
          1186,
          738,
          2027,
          512,
          460,
          165,
          1678,
          806
         ],
         "yaxis": "y"
        },
        {
         "alignmentgroup": "True",
         "hovertemplate": "Metal Level=Gold<br>State Code=%{x}<br>count=%{y}<extra></extra>",
         "legendgroup": "Gold",
         "marker": {
          "color": "gold"
         },
         "name": "Gold",
         "offsetgroup": "Gold",
         "orientation": "v",
         "showlegend": true,
         "textposition": "auto",
         "type": "bar",
         "x": [
          "TX",
          "MO",
          "WI",
          "DE",
          "MT",
          "ME",
          "WV",
          "WY",
          "AZ",
          "MI",
          "AR",
          "VA",
          "MS",
          "UT",
          "FL",
          "NC",
          "NM",
          "OH",
          "IA",
          "IN",
          "OK",
          "NH",
          "HI",
          "OR",
          "LA",
          "KS",
          "AK",
          "SC",
          "GA",
          "SD",
          "ND",
          "KY",
          "IL",
          "TN",
          "NE",
          "AL"
         ],
         "xaxis": "x",
         "y": [
          1770,
          422,
          608,
          9,
          231,
          58,
          275,
          115,
          39,
          451,
          450,
          344,
          328,
          138,
          619,
          355,
          297,
          549,
          344,
          555,
          274,
          49,
          30,
          293,
          227,
          580,
          35,
          316,
          694,
          135,
          264,
          309,
          381,
          437,
          278,
          138
         ],
         "yaxis": "y"
        },
        {
         "alignmentgroup": "True",
         "hovertemplate": "Metal Level=Platinum<br>State Code=%{x}<br>count=%{y}<extra></extra>",
         "legendgroup": "Platinum",
         "marker": {
          "color": "dodgerblue"
         },
         "name": "Platinum",
         "offsetgroup": "Platinum",
         "orientation": "v",
         "showlegend": true,
         "textposition": "auto",
         "type": "bar",
         "x": [
          "MI",
          "VA",
          "DE",
          "FL",
          "GA",
          "WI",
          "HI"
         ],
         "xaxis": "x",
         "y": [
          14,
          20,
          6,
          329,
          98,
          30,
          20
         ],
         "yaxis": "y"
        }
       ],
       "layout": {
        "barmode": "relative",
        "legend": {
         "title": {
          "text": "Metal Level"
         },
         "tracegroupgap": 0
        },
        "template": {
         "data": {
          "bar": [
           {
            "error_x": {
             "color": "#2a3f5f"
            },
            "error_y": {
             "color": "#2a3f5f"
            },
            "marker": {
             "line": {
              "color": "#E5ECF6",
              "width": 0.5
             }
            },
            "type": "bar"
           }
          ],
          "barpolar": [
           {
            "marker": {
             "line": {
              "color": "#E5ECF6",
              "width": 0.5
             }
            },
            "type": "barpolar"
           }
          ],
          "carpet": [
           {
            "aaxis": {
             "endlinecolor": "#2a3f5f",
             "gridcolor": "white",
             "linecolor": "white",
             "minorgridcolor": "white",
             "startlinecolor": "#2a3f5f"
            },
            "baxis": {
             "endlinecolor": "#2a3f5f",
             "gridcolor": "white",
             "linecolor": "white",
             "minorgridcolor": "white",
             "startlinecolor": "#2a3f5f"
            },
            "type": "carpet"
           }
          ],
          "choropleth": [
           {
            "colorbar": {
             "outlinewidth": 0,
             "ticks": ""
            },
            "type": "choropleth"
           }
          ],
          "contour": [
           {
            "colorbar": {
             "outlinewidth": 0,
             "ticks": ""
            },
            "colorscale": [
             [
              0,
              "#0d0887"
             ],
             [
              0.1111111111111111,
              "#46039f"
             ],
             [
              0.2222222222222222,
              "#7201a8"
             ],
             [
              0.3333333333333333,
              "#9c179e"
             ],
             [
              0.4444444444444444,
              "#bd3786"
             ],
             [
              0.5555555555555556,
              "#d8576b"
             ],
             [
              0.6666666666666666,
              "#ed7953"
             ],
             [
              0.7777777777777778,
              "#fb9f3a"
             ],
             [
              0.8888888888888888,
              "#fdca26"
             ],
             [
              1,
              "#f0f921"
             ]
            ],
            "type": "contour"
           }
          ],
          "contourcarpet": [
           {
            "colorbar": {
             "outlinewidth": 0,
             "ticks": ""
            },
            "type": "contourcarpet"
           }
          ],
          "heatmap": [
           {
            "colorbar": {
             "outlinewidth": 0,
             "ticks": ""
            },
            "colorscale": [
             [
              0,
              "#0d0887"
             ],
             [
              0.1111111111111111,
              "#46039f"
             ],
             [
              0.2222222222222222,
              "#7201a8"
             ],
             [
              0.3333333333333333,
              "#9c179e"
             ],
             [
              0.4444444444444444,
              "#bd3786"
             ],
             [
              0.5555555555555556,
              "#d8576b"
             ],
             [
              0.6666666666666666,
              "#ed7953"
             ],
             [
              0.7777777777777778,
              "#fb9f3a"
             ],
             [
              0.8888888888888888,
              "#fdca26"
             ],
             [
              1,
              "#f0f921"
             ]
            ],
            "type": "heatmap"
           }
          ],
          "heatmapgl": [
           {
            "colorbar": {
             "outlinewidth": 0,
             "ticks": ""
            },
            "colorscale": [
             [
              0,
              "#0d0887"
             ],
             [
              0.1111111111111111,
              "#46039f"
             ],
             [
              0.2222222222222222,
              "#7201a8"
             ],
             [
              0.3333333333333333,
              "#9c179e"
             ],
             [
              0.4444444444444444,
              "#bd3786"
             ],
             [
              0.5555555555555556,
              "#d8576b"
             ],
             [
              0.6666666666666666,
              "#ed7953"
             ],
             [
              0.7777777777777778,
              "#fb9f3a"
             ],
             [
              0.8888888888888888,
              "#fdca26"
             ],
             [
              1,
              "#f0f921"
             ]
            ],
            "type": "heatmapgl"
           }
          ],
          "histogram": [
           {
            "marker": {
             "colorbar": {
              "outlinewidth": 0,
              "ticks": ""
             }
            },
            "type": "histogram"
           }
          ],
          "histogram2d": [
           {
            "colorbar": {
             "outlinewidth": 0,
             "ticks": ""
            },
            "colorscale": [
             [
              0,
              "#0d0887"
             ],
             [
              0.1111111111111111,
              "#46039f"
             ],
             [
              0.2222222222222222,
              "#7201a8"
             ],
             [
              0.3333333333333333,
              "#9c179e"
             ],
             [
              0.4444444444444444,
              "#bd3786"
             ],
             [
              0.5555555555555556,
              "#d8576b"
             ],
             [
              0.6666666666666666,
              "#ed7953"
             ],
             [
              0.7777777777777778,
              "#fb9f3a"
             ],
             [
              0.8888888888888888,
              "#fdca26"
             ],
             [
              1,
              "#f0f921"
             ]
            ],
            "type": "histogram2d"
           }
          ],
          "histogram2dcontour": [
           {
            "colorbar": {
             "outlinewidth": 0,
             "ticks": ""
            },
            "colorscale": [
             [
              0,
              "#0d0887"
             ],
             [
              0.1111111111111111,
              "#46039f"
             ],
             [
              0.2222222222222222,
              "#7201a8"
             ],
             [
              0.3333333333333333,
              "#9c179e"
             ],
             [
              0.4444444444444444,
              "#bd3786"
             ],
             [
              0.5555555555555556,
              "#d8576b"
             ],
             [
              0.6666666666666666,
              "#ed7953"
             ],
             [
              0.7777777777777778,
              "#fb9f3a"
             ],
             [
              0.8888888888888888,
              "#fdca26"
             ],
             [
              1,
              "#f0f921"
             ]
            ],
            "type": "histogram2dcontour"
           }
          ],
          "mesh3d": [
           {
            "colorbar": {
             "outlinewidth": 0,
             "ticks": ""
            },
            "type": "mesh3d"
           }
          ],
          "parcoords": [
           {
            "line": {
             "colorbar": {
              "outlinewidth": 0,
              "ticks": ""
             }
            },
            "type": "parcoords"
           }
          ],
          "pie": [
           {
            "automargin": true,
            "type": "pie"
           }
          ],
          "scatter": [
           {
            "marker": {
             "colorbar": {
              "outlinewidth": 0,
              "ticks": ""
             }
            },
            "type": "scatter"
           }
          ],
          "scatter3d": [
           {
            "line": {
             "colorbar": {
              "outlinewidth": 0,
              "ticks": ""
             }
            },
            "marker": {
             "colorbar": {
              "outlinewidth": 0,
              "ticks": ""
             }
            },
            "type": "scatter3d"
           }
          ],
          "scattercarpet": [
           {
            "marker": {
             "colorbar": {
              "outlinewidth": 0,
              "ticks": ""
             }
            },
            "type": "scattercarpet"
           }
          ],
          "scattergeo": [
           {
            "marker": {
             "colorbar": {
              "outlinewidth": 0,
              "ticks": ""
             }
            },
            "type": "scattergeo"
           }
          ],
          "scattergl": [
           {
            "marker": {
             "colorbar": {
              "outlinewidth": 0,
              "ticks": ""
             }
            },
            "type": "scattergl"
           }
          ],
          "scattermapbox": [
           {
            "marker": {
             "colorbar": {
              "outlinewidth": 0,
              "ticks": ""
             }
            },
            "type": "scattermapbox"
           }
          ],
          "scatterpolar": [
           {
            "marker": {
             "colorbar": {
              "outlinewidth": 0,
              "ticks": ""
             }
            },
            "type": "scatterpolar"
           }
          ],
          "scatterpolargl": [
           {
            "marker": {
             "colorbar": {
              "outlinewidth": 0,
              "ticks": ""
             }
            },
            "type": "scatterpolargl"
           }
          ],
          "scatterternary": [
           {
            "marker": {
             "colorbar": {
              "outlinewidth": 0,
              "ticks": ""
             }
            },
            "type": "scatterternary"
           }
          ],
          "surface": [
           {
            "colorbar": {
             "outlinewidth": 0,
             "ticks": ""
            },
            "colorscale": [
             [
              0,
              "#0d0887"
             ],
             [
              0.1111111111111111,
              "#46039f"
             ],
             [
              0.2222222222222222,
              "#7201a8"
             ],
             [
              0.3333333333333333,
              "#9c179e"
             ],
             [
              0.4444444444444444,
              "#bd3786"
             ],
             [
              0.5555555555555556,
              "#d8576b"
             ],
             [
              0.6666666666666666,
              "#ed7953"
             ],
             [
              0.7777777777777778,
              "#fb9f3a"
             ],
             [
              0.8888888888888888,
              "#fdca26"
             ],
             [
              1,
              "#f0f921"
             ]
            ],
            "type": "surface"
           }
          ],
          "table": [
           {
            "cells": {
             "fill": {
              "color": "#EBF0F8"
             },
             "line": {
              "color": "white"
             }
            },
            "header": {
             "fill": {
              "color": "#C8D4E3"
             },
             "line": {
              "color": "white"
             }
            },
            "type": "table"
           }
          ]
         },
         "layout": {
          "annotationdefaults": {
           "arrowcolor": "#2a3f5f",
           "arrowhead": 0,
           "arrowwidth": 1
          },
          "autotypenumbers": "strict",
          "coloraxis": {
           "colorbar": {
            "outlinewidth": 0,
            "ticks": ""
           }
          },
          "colorscale": {
           "diverging": [
            [
             0,
             "#8e0152"
            ],
            [
             0.1,
             "#c51b7d"
            ],
            [
             0.2,
             "#de77ae"
            ],
            [
             0.3,
             "#f1b6da"
            ],
            [
             0.4,
             "#fde0ef"
            ],
            [
             0.5,
             "#f7f7f7"
            ],
            [
             0.6,
             "#e6f5d0"
            ],
            [
             0.7,
             "#b8e186"
            ],
            [
             0.8,
             "#7fbc41"
            ],
            [
             0.9,
             "#4d9221"
            ],
            [
             1,
             "#276419"
            ]
           ],
           "sequential": [
            [
             0,
             "#0d0887"
            ],
            [
             0.1111111111111111,
             "#46039f"
            ],
            [
             0.2222222222222222,
             "#7201a8"
            ],
            [
             0.3333333333333333,
             "#9c179e"
            ],
            [
             0.4444444444444444,
             "#bd3786"
            ],
            [
             0.5555555555555556,
             "#d8576b"
            ],
            [
             0.6666666666666666,
             "#ed7953"
            ],
            [
             0.7777777777777778,
             "#fb9f3a"
            ],
            [
             0.8888888888888888,
             "#fdca26"
            ],
            [
             1,
             "#f0f921"
            ]
           ],
           "sequentialminus": [
            [
             0,
             "#0d0887"
            ],
            [
             0.1111111111111111,
             "#46039f"
            ],
            [
             0.2222222222222222,
             "#7201a8"
            ],
            [
             0.3333333333333333,
             "#9c179e"
            ],
            [
             0.4444444444444444,
             "#bd3786"
            ],
            [
             0.5555555555555556,
             "#d8576b"
            ],
            [
             0.6666666666666666,
             "#ed7953"
            ],
            [
             0.7777777777777778,
             "#fb9f3a"
            ],
            [
             0.8888888888888888,
             "#fdca26"
            ],
            [
             1,
             "#f0f921"
            ]
           ]
          },
          "colorway": [
           "#636efa",
           "#EF553B",
           "#00cc96",
           "#ab63fa",
           "#FFA15A",
           "#19d3f3",
           "#FF6692",
           "#B6E880",
           "#FF97FF",
           "#FECB52"
          ],
          "font": {
           "color": "#2a3f5f"
          },
          "geo": {
           "bgcolor": "white",
           "lakecolor": "white",
           "landcolor": "#E5ECF6",
           "showlakes": true,
           "showland": true,
           "subunitcolor": "white"
          },
          "hoverlabel": {
           "align": "left"
          },
          "hovermode": "closest",
          "mapbox": {
           "style": "light"
          },
          "paper_bgcolor": "white",
          "plot_bgcolor": "#E5ECF6",
          "polar": {
           "angularaxis": {
            "gridcolor": "white",
            "linecolor": "white",
            "ticks": ""
           },
           "bgcolor": "#E5ECF6",
           "radialaxis": {
            "gridcolor": "white",
            "linecolor": "white",
            "ticks": ""
           }
          },
          "scene": {
           "xaxis": {
            "backgroundcolor": "#E5ECF6",
            "gridcolor": "white",
            "gridwidth": 2,
            "linecolor": "white",
            "showbackground": true,
            "ticks": "",
            "zerolinecolor": "white"
           },
           "yaxis": {
            "backgroundcolor": "#E5ECF6",
            "gridcolor": "white",
            "gridwidth": 2,
            "linecolor": "white",
            "showbackground": true,
            "ticks": "",
            "zerolinecolor": "white"
           },
           "zaxis": {
            "backgroundcolor": "#E5ECF6",
            "gridcolor": "white",
            "gridwidth": 2,
            "linecolor": "white",
            "showbackground": true,
            "ticks": "",
            "zerolinecolor": "white"
           }
          },
          "shapedefaults": {
           "line": {
            "color": "#2a3f5f"
           }
          },
          "ternary": {
           "aaxis": {
            "gridcolor": "white",
            "linecolor": "white",
            "ticks": ""
           },
           "baxis": {
            "gridcolor": "white",
            "linecolor": "white",
            "ticks": ""
           },
           "bgcolor": "#E5ECF6",
           "caxis": {
            "gridcolor": "white",
            "linecolor": "white",
            "ticks": ""
           }
          },
          "title": {
           "x": 0.05
          },
          "xaxis": {
           "automargin": true,
           "gridcolor": "white",
           "linecolor": "white",
           "ticks": "",
           "title": {
            "standoff": 15
           },
           "zerolinecolor": "white",
           "zerolinewidth": 2
          },
          "yaxis": {
           "automargin": true,
           "gridcolor": "white",
           "linecolor": "white",
           "ticks": "",
           "title": {
            "standoff": 15
           },
           "zerolinecolor": "white",
           "zerolinewidth": 2
          }
         }
        },
        "title": {
         "text": "Metal Plan Tier Count by State"
        },
        "xaxis": {
         "anchor": "y",
         "domain": [
          0,
          1
         ],
         "title": {
          "text": "State Code"
         }
        },
        "yaxis": {
         "anchor": "x",
         "domain": [
          0,
          1
         ],
         "title": {
          "text": "count"
         }
        }
       }
      }
     },
     "metadata": {}
    }
   ],
   "source": [
    "# colors = tier_color_map(statemetal_df['Metal Level'].values)\n",
    "\n",
    "fig = px.bar(statemetal_df, x=\"State Code\", y=\"count\", color=\"Metal Level\", title=\"Metal Plan Tier Count by State\", color_discrete_map={\n",
    "        'Bronze': 'peru',\n",
    "        'Silver': 'silver',\n",
    "        'Gold': 'gold',\n",
    "        'Catastrophic': 'red',\n",
    "        'Platinum': 'dodgerblue'\n",
    "    })\n",
    "# fig.update_traces(marker_color=colors)\n",
    "fig.show()"
   ]
  },
  {
   "cell_type": "code",
   "execution_count": 41,
   "metadata": {},
   "outputs": [
    {
     "data": {
      "text/plain": [
       "165"
      ]
     },
     "execution_count": 41,
     "metadata": {},
     "output_type": "execute_result"
    }
   ],
   "source": [
    "len(statemetal_df)\n",
    "# len(colors)"
   ]
  },
  {
   "cell_type": "code",
   "execution_count": 11,
   "metadata": {},
   "outputs": [
    {
     "output_type": "execute_result",
     "data": {
      "text/plain": [
       "<NgrokTunnel: \"http://hackaroo.ngrok.io\" -> \"http://localhost:8020\">"
      ]
     },
     "metadata": {},
     "execution_count": 11
    }
   ],
   "source": [
    "from pyngrok import ngrok\n",
    "\n",
    "public_url = ngrok.connect(8020, subdomain=\"hackaroo\")\n",
    "public_url"
   ]
  },
  {
   "cell_type": "code",
   "execution_count": 120,
   "metadata": {},
   "outputs": [],
   "source": [
    "ngrok.kill()"
   ]
  }
 ],
 "metadata": {
  "kernelspec": {
   "name": "python385jvsc74a57bd0a69a97d3c0c90f1132d3fe1c1bdf15f941a20aa0a78eb54401bae5bd6029936d",
   "display_name": "Python 3.8.5 64-bit ('base': conda)"
  },
  "language_info": {
   "codemirror_mode": {
    "name": "ipython",
    "version": 3
   },
   "file_extension": ".py",
   "mimetype": "text/x-python",
   "name": "python",
   "nbconvert_exporter": "python",
   "pygments_lexer": "ipython3",
   "version": "3.8.5"
  }
 },
 "nbformat": 4,
 "nbformat_minor": 4
}